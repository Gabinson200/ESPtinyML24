{
 "cells": [
  {
   "cell_type": "markdown",
   "metadata": {},
   "source": [
    "# Imports\n",
    "\n",
    "put comments here related to library management"
   ]
  },
  {
   "cell_type": "code",
   "execution_count": 234,
   "metadata": {},
   "outputs": [],
   "source": [
    "import os\n",
    "import pathlib\n",
    "import matplotlib.pyplot as plt\n",
    "import numpy as np\n",
    "import seaborn as sns\n",
    "import tensorflow as tf\n",
    "import tempfile\n",
    "import zipfile\n",
    "\n",
    "\n",
    "from tensorflow.keras import layers\n",
    "from IPython import display\n",
    "import keras_tuner as kt\n",
    "\n",
    "from tensorflow.keras.layers import Conv2D, DepthwiseConv2D, GlobalAveragePooling2D, Dense, Activation, Input, Reshape, Multiply, AveragePooling2D\n",
    "from tensorflow.keras.models import Model\n",
    "from tensorflow.keras.layers import Flatten, ReLU, Dropout\n",
    "from tensorflow.keras import Sequential\n",
    "\n",
    "import tensorflow_model_optimization as tfmot\n",
    "#from tensorflow_model_optimization.python.core.keras.compat import keras\n",
    "from keras.layers import Resizing\n",
    "from tensorflow_model_optimization.quantization.keras import quantize_annotate_layer\n",
    "\n",
    "import nbimporter\n",
    "\n",
    "import tf_keras as keras"
   ]
  },
  {
   "cell_type": "markdown",
   "metadata": {},
   "source": [
    "# Run .py preprocessing that sets up the datasets"
   ]
  },
  {
   "cell_type": "code",
   "execution_count": 2,
   "metadata": {},
   "outputs": [],
   "source": [
    "# Function to parse a single serialized example from TFRecord\n",
    "def _parse_function(proto):\n",
    "    # Define the feature description (same as the structure you used when saving)\n",
    "    feature_description = {\n",
    "        'image': tf.io.FixedLenFeature([], tf.string),  # Image is stored as a string\n",
    "        'label': tf.io.FixedLenFeature([], tf.int64),   # Label is an int64\n",
    "    }\n",
    "    \n",
    "    # Parse the input `tf.train.Example` proto using the feature description\n",
    "    parsed_example = tf.io.parse_single_example(proto, feature_description)\n",
    "    \n",
    "    # Decode the JPEG-encoded image back into a float32 tensor\n",
    "    image = tf.io.decode_jpeg(parsed_example['image'], channels=1)  # Grayscale\n",
    "    image = tf.image.convert_image_dtype(image, tf.float32)  # Convert to [0, 1] range\n",
    "    \n",
    "    # Reshape the image to its original shape (e.g., [124, 129, 1])\n",
    "    image = tf.reshape(image, [124, 129, 1])\n",
    "    \n",
    "    # Get the label\n",
    "    label = parsed_example['label']\n",
    "    \n",
    "    return image, label"
   ]
  },
  {
   "cell_type": "code",
   "execution_count": 3,
   "metadata": {},
   "outputs": [],
   "source": [
    "# Function to load the dataset from a TFRecord file\n",
    "def load_dataset(tfrecord_file, batch_size=64):\n",
    "    # Load the TFRecord file\n",
    "    raw_dataset = tf.data.TFRecordDataset(tfrecord_file)\n",
    "    \n",
    "    # Parse the serialized data using the _parse_function\n",
    "    parsed_dataset = raw_dataset.map(_parse_function, num_parallel_calls=tf.data.AUTOTUNE)\n",
    "    \n",
    "    # Batch and shuffle the dataset (optional, depending on your needs) buffer_size is not size of batch its size of buffer\n",
    "    parsed_dataset = parsed_dataset.shuffle(buffer_size=1000).batch(batch_size)\n",
    "    parsed_dataset = parsed_dataset.prefetch(buffer_size=tf.data.AUTOTUNE)\n",
    "    \n",
    "    return parsed_dataset"
   ]
  },
  {
   "cell_type": "code",
   "execution_count": 4,
   "metadata": {},
   "outputs": [],
   "source": [
    "# Load the train, test, and validation datasets from TFRecord files\n",
    "train_spectrogram_ds = load_dataset('train_spec_ds.tfrecord')\n",
    "test_spectrogram_ds = load_dataset('test_spec_ds.tfrecord')\n",
    "val_spectrogram_ds = load_dataset('val_spec_ds.tfrecord')"
   ]
  },
  {
   "cell_type": "code",
   "execution_count": 235,
   "metadata": {},
   "outputs": [
    {
     "name": "stdout",
     "output_type": "stream",
     "text": [
      "New dataset size: 213\n",
      "Input shape: (64, 124, 129, 1)\n",
      "Number of classes: 6\n"
     ]
    }
   ],
   "source": [
    "new_size = len(list(train_spectrogram_ds))\n",
    "print(f\"New dataset size: {new_size}\")\n",
    "\n",
    "# Get input shape and number of classes\n",
    "for spectrograms, labels in train_spectrogram_ds.take(1):\n",
    "    input_shape = spectrograms.shape\n",
    "    num_classes = 6\n",
    "    print('Input shape:', input_shape)\n",
    "    print('Number of classes:', num_classes)"
   ]
  },
  {
   "cell_type": "code",
   "execution_count": 6,
   "metadata": {},
   "outputs": [
    {
     "name": "stdout",
     "output_type": "stream",
     "text": [
      "New dataset size: 27\n"
     ]
    }
   ],
   "source": [
    "new_size = len(list(test_spectrogram_ds))\n",
    "print(f\"New dataset size: {new_size}\")"
   ]
  },
  {
   "cell_type": "markdown",
   "metadata": {},
   "source": [
    "# Define models"
   ]
  },
  {
   "cell_type": "code",
   "execution_count": 7,
   "metadata": {},
   "outputs": [],
   "source": [
    "import audio_models"
   ]
  },
  {
   "cell_type": "markdown",
   "metadata": {},
   "source": [
    "## Keras autotuner"
   ]
  },
  {
   "cell_type": "code",
   "execution_count": 159,
   "metadata": {},
   "outputs": [
    {
     "data": {
      "text/plain": [
       "<_PrefetchDataset element_spec=(TensorSpec(shape=(None, 124, 129, 1), dtype=tf.float32, name=None), TensorSpec(shape=(None,), dtype=tf.int64, name=None))>"
      ]
     },
     "execution_count": 159,
     "metadata": {},
     "output_type": "execute_result"
    }
   ],
   "source": [
    "train_spectrogram_ds"
   ]
  },
  {
   "cell_type": "code",
   "execution_count": 161,
   "metadata": {},
   "outputs": [
    {
     "name": "stdout",
     "output_type": "stream",
     "text": [
      "Trial 20 Complete [00h 00m 50s]\n",
      "val_accuracy: 0.5976470708847046\n",
      "\n",
      "Best val_accuracy So Far: 0.701764702796936\n",
      "Total elapsed time: 00h 10m 53s\n",
      "Found 1 models with validation accuracy above 70.0%.\n"
     ]
    }
   ],
   "source": [
    "# Define a directory to store tuner results\n",
    "tuner_dir = 'my_dir'\n",
    "if os.path.exists(tuner_dir):\n",
    "    shutil.rmtree(tuner_dir)  # Remove existing tuner directory to start fresh\n",
    "\n",
    "def build_model(hp):\n",
    "    \"\"\"Build model with validation checks that allow skipping invalid configurations.\"\"\"\n",
    "    model = tf.keras.Sequential()\n",
    "    input_shape = (124, 129, 1)\n",
    "    model.add(layers.Input(shape=input_shape))\n",
    "    \n",
    "    current_height, current_width = input_shape[0], input_shape[1]\n",
    "    \n",
    "    # Track if the configuration is valid\n",
    "    is_valid = True\n",
    "    \n",
    "    # Convolutional layers with tunable filters, kernel size, and stride\n",
    "    for i in range(hp.Int('num_conv_layers', 1, 3)):\n",
    "        kernel_size = hp.Choice(f'kernel_size_{i}', values=[6, 8, 10, 12])\n",
    "        stride = hp.Choice(f'stride_{i}', values=[2, 4, 8, 10, 12])\n",
    "        \n",
    "        # Calculate new spatial dimensions\n",
    "        new_height = (current_height - kernel_size) // stride + 1\n",
    "        new_width = (current_width - kernel_size) // stride + 1\n",
    "        \n",
    "        # Check if dimensions are valid\n",
    "        if new_height <= 0 or new_width <= 0:\n",
    "            print(f\"Invalid dimensions after Conv2D with kernel {kernel_size} and stride {stride}\")\n",
    "            is_valid = False\n",
    "            break\n",
    "\n",
    "        # Add the convolutional and pooling layers\n",
    "        model.add(layers.Conv2D(\n",
    "            filters=hp.Int(f'filters_{i}', min_value=6, max_value=12, step=2),\n",
    "            kernel_size=kernel_size,\n",
    "            strides=stride,\n",
    "            activation='relu'\n",
    "        ))\n",
    "        #model.add(layers.MaxPooling2D(pool_size=(2, 2)))\n",
    "        \n",
    "        # Update spatial dimensions after pooling\n",
    "        #current_height, current_width = new_height // 2, new_width // 2\n",
    "        #if current_height <= 0 or current_width <= 0:\n",
    "        #    print(\"Invalid dimensions after MaxPooling\")\n",
    "        #    is_valid = False\n",
    "        #    break\n",
    "        if is_valid:\n",
    "            model.add(layers.Dropout(rate=hp.Choice('dropout_rate', values=[0.1, 0.2, 0.3])))\n",
    "\n",
    "    if is_valid:\n",
    "        # Dropout layer\n",
    "        #model.add(layers.Dropout(rate=hp.Choice('dropout_rate', values=[0.1, 0.25, 0.5])))\n",
    "        \n",
    "        # Flatten layer\n",
    "        model.add(layers.Flatten())\n",
    "        \n",
    "        # Optional fully connected layer\n",
    "        #if hp.Boolean('use_dense_layer'):\n",
    "        #    model.add(layers.Dense(\n",
    "        #        units=hp.Int('dense_units', min_value=32, max_value=128, step=32),\n",
    "        #        activation='relu'\n",
    "        #    ))\n",
    "        \n",
    "        # Check parameter count\n",
    "        model_params = model.count_params()\n",
    "        if model_params > 40000:\n",
    "            print(f\"Model exceeds parameter limit: {model_params} params\")\n",
    "            is_valid = False\n",
    "    \n",
    "    if not is_valid:\n",
    "        # Return an invalid model that will get a very low accuracy\n",
    "        print(\"Skipping invalid configuration...\")\n",
    "        model = tf.keras.Sequential([\n",
    "            layers.Input(shape=input_shape),\n",
    "            layers.Flatten(),\n",
    "            layers.Dense(6, activation='softmax')\n",
    "        ])\n",
    "        model.compile(\n",
    "            optimizer='adam',\n",
    "            loss='sparse_categorical_crossentropy',\n",
    "            metrics=['accuracy']\n",
    "        )\n",
    "        # Set a custom property to identify invalid models\n",
    "        model.is_invalid = True\n",
    "        return model\n",
    "    \n",
    "    # Output layer for valid models\n",
    "    model.add(layers.Dense(6, activation='softmax'))\n",
    "    \n",
    "    # Compile the model\n",
    "    model.compile(\n",
    "        optimizer=tf.keras.optimizers.Adam(hp.Choice('learning_rate', [1e-2, 1e-3])),\n",
    "        loss='sparse_categorical_crossentropy',\n",
    "        metrics=['accuracy']\n",
    "    )\n",
    "    \n",
    "    model.is_invalid = False\n",
    "    return model\n",
    "\n",
    "# Custom tuner class to handle invalid models\n",
    "class CustomRandomSearch(kt.RandomSearch):\n",
    "    def run_trial(self, trial, *fit_args, **fit_kwargs):\n",
    "        model = self.hypermodel.build(trial.hyperparameters)\n",
    "        if hasattr(model, 'is_invalid') and model.is_invalid:\n",
    "            # For invalid models, return a fixed low score without training\n",
    "            return {'val_accuracy': float('-inf')}\n",
    "            \n",
    "        # Add early stopping callback to fit_kwargs\n",
    "        callbacks = fit_kwargs.get('callbacks', [])\n",
    "        callbacks.extend([\n",
    "            tf.keras.callbacks.EarlyStopping(\n",
    "                monitor='val_accuracy',\n",
    "                min_delta=0.01,        # Minimum change to qualify as an improvement\n",
    "                patience=3,             # Number of epochs with no improvement after which training will be stopped\n",
    "                restore_best_weights=True,  # Restore model weights from the epoch with the best value\n",
    "                verbose=1\n",
    "            )\n",
    "        ])\n",
    "        fit_kwargs['callbacks'] = callbacks\n",
    "        \n",
    "        # For valid models, proceed with normal training\n",
    "        return super().run_trial(trial, *fit_args, **fit_kwargs)\n",
    "\n",
    "# Initialize the custom tuner\n",
    "tuner = CustomRandomSearch(\n",
    "    build_model,\n",
    "    objective='val_accuracy',\n",
    "    max_trials=20,\n",
    "    executions_per_trial=1,\n",
    "    directory=tuner_dir,\n",
    "    project_name='limit_model_size'\n",
    ")\n",
    "\n",
    "# Run the search\n",
    "tuner.search(train_spectrogram_ds, validation_data=val_spectrogram_ds, epochs=10)\n",
    "\n",
    "# Define the accuracy threshold\n",
    "accuracy_threshold = 0.7  # for example, 80%\n",
    "\n",
    "# Get the top models from the tuner results\n",
    "models_above_threshold = []\n",
    "for trial in tuner.oracle.get_best_trials(num_trials=10):\n",
    "    # Get the last validation accuracy value\n",
    "    val_accuracy = trial.metrics.get_last_value('val_accuracy')\n",
    "    \n",
    "    # Check if the model meets the accuracy threshold\n",
    "    if val_accuracy is not None and val_accuracy > accuracy_threshold:\n",
    "        models_above_threshold.append(trial)\n",
    "\n",
    "print(f\"Found {len(models_above_threshold)} models with validation accuracy above {accuracy_threshold * 100}%.\")"
   ]
  },
  {
   "cell_type": "code",
   "execution_count": 162,
   "metadata": {},
   "outputs": [
    {
     "name": "stdout",
     "output_type": "stream",
     "text": [
      "Saved model with trial ID 16 and accuracy 0.7018 to NAS_generated_models\\model_16_acc_0.7018.keras\n"
     ]
    }
   ],
   "source": [
    "\n",
    "# Directory to save the models\n",
    "save_dir = \"NAS_generated_models\"\n",
    "os.makedirs(save_dir, exist_ok=True)\n",
    "\n",
    "# Iterate over models above the threshold\n",
    "for trial in models_above_threshold:\n",
    "    # Retrieve the model using the trial's hyperparameters\n",
    "    model = tuner.hypermodel.build(trial.hyperparameters)\n",
    "        \n",
    "    # Get trial ID and validation accuracy\n",
    "    trial_id = trial.trial_id\n",
    "    val_accuracy = trial.metrics.get_last_value('val_accuracy')\n",
    "    \n",
    "    # Format the model filename with trial ID and accuracy\n",
    "    model_filename = f\"model_{trial_id}_acc_{val_accuracy:.4f}.keras\"\n",
    "    model_path = os.path.join(save_dir, model_filename)\n",
    "    \n",
    "    # Save the model\n",
    "    model.save(model_path)\n",
    "    print(f\"Saved model with trial ID {trial_id} and accuracy {val_accuracy:.4f} to {model_path}\")\n"
   ]
  },
  {
   "cell_type": "code",
   "execution_count": 236,
   "metadata": {},
   "outputs": [
    {
     "name": "stdout",
     "output_type": "stream",
     "text": [
      "\n",
      "Checking model: model_009_acc_0.8241.keras\n",
      "Model model_009_acc_0.8241.keras has 38362 trainable parameters, below the threshold of 40000.\n"
     ]
    },
    {
     "name": "stderr",
     "output_type": "stream",
     "text": [
      "c:\\Users\\adamk\\anaconda3\\Lib\\site-packages\\keras\\src\\saving\\saving_lib.py:562: UserWarning: Skipping variable loading for optimizer 'adam', because it has 18 variables whereas the saved optimizer has 2 variables. \n",
      "  model,\n"
     ]
    },
    {
     "data": {
      "text/html": [
       "<pre style=\"white-space:pre;overflow-x:auto;line-height:normal;font-family:Menlo,'DejaVu Sans Mono',consolas,'Courier New',monospace\"><span style=\"font-weight: bold\">Model: \"sequential_7\"</span>\n",
       "</pre>\n"
      ],
      "text/plain": [
       "\u001b[1mModel: \"sequential_7\"\u001b[0m\n"
      ]
     },
     "metadata": {},
     "output_type": "display_data"
    },
    {
     "data": {
      "text/html": [
       "<pre style=\"white-space:pre;overflow-x:auto;line-height:normal;font-family:Menlo,'DejaVu Sans Mono',consolas,'Courier New',monospace\">┏━━━━━━━━━━━━━━━━━━━━━━━━━━━━━━━━━┳━━━━━━━━━━━━━━━━━━━━━━━━┳━━━━━━━━━━━━━━━┓\n",
       "┃<span style=\"font-weight: bold\"> Layer (type)                    </span>┃<span style=\"font-weight: bold\"> Output Shape           </span>┃<span style=\"font-weight: bold\">       Param # </span>┃\n",
       "┡━━━━━━━━━━━━━━━━━━━━━━━━━━━━━━━━━╇━━━━━━━━━━━━━━━━━━━━━━━━╇━━━━━━━━━━━━━━━┩\n",
       "│ conv2d_12 (<span style=\"color: #0087ff; text-decoration-color: #0087ff\">Conv2D</span>)              │ (<span style=\"color: #00d7ff; text-decoration-color: #00d7ff\">None</span>, <span style=\"color: #00af00; text-decoration-color: #00af00\">58</span>, <span style=\"color: #00af00; text-decoration-color: #00af00\">60</span>, <span style=\"color: #00af00; text-decoration-color: #00af00\">8</span>)      │           <span style=\"color: #00af00; text-decoration-color: #00af00\">808</span> │\n",
       "├─────────────────────────────────┼────────────────────────┼───────────────┤\n",
       "│ max_pooling2d_12 (<span style=\"color: #0087ff; text-decoration-color: #0087ff\">MaxPooling2D</span>) │ (<span style=\"color: #00d7ff; text-decoration-color: #00d7ff\">None</span>, <span style=\"color: #00af00; text-decoration-color: #00af00\">29</span>, <span style=\"color: #00af00; text-decoration-color: #00af00\">30</span>, <span style=\"color: #00af00; text-decoration-color: #00af00\">8</span>)      │             <span style=\"color: #00af00; text-decoration-color: #00af00\">0</span> │\n",
       "├─────────────────────────────────┼────────────────────────┼───────────────┤\n",
       "│ conv2d_13 (<span style=\"color: #0087ff; text-decoration-color: #0087ff\">Conv2D</span>)              │ (<span style=\"color: #00d7ff; text-decoration-color: #00d7ff\">None</span>, <span style=\"color: #00af00; text-decoration-color: #00af00\">9</span>, <span style=\"color: #00af00; text-decoration-color: #00af00\">10</span>, <span style=\"color: #00af00; text-decoration-color: #00af00\">12</span>)      │        <span style=\"color: #00af00; text-decoration-color: #00af00\">13,836</span> │\n",
       "├─────────────────────────────────┼────────────────────────┼───────────────┤\n",
       "│ max_pooling2d_13 (<span style=\"color: #0087ff; text-decoration-color: #0087ff\">MaxPooling2D</span>) │ (<span style=\"color: #00d7ff; text-decoration-color: #00d7ff\">None</span>, <span style=\"color: #00af00; text-decoration-color: #00af00\">4</span>, <span style=\"color: #00af00; text-decoration-color: #00af00\">5</span>, <span style=\"color: #00af00; text-decoration-color: #00af00\">12</span>)       │             <span style=\"color: #00af00; text-decoration-color: #00af00\">0</span> │\n",
       "├─────────────────────────────────┼────────────────────────┼───────────────┤\n",
       "│ dropout_7 (<span style=\"color: #0087ff; text-decoration-color: #0087ff\">Dropout</span>)             │ (<span style=\"color: #00d7ff; text-decoration-color: #00d7ff\">None</span>, <span style=\"color: #00af00; text-decoration-color: #00af00\">4</span>, <span style=\"color: #00af00; text-decoration-color: #00af00\">5</span>, <span style=\"color: #00af00; text-decoration-color: #00af00\">12</span>)       │             <span style=\"color: #00af00; text-decoration-color: #00af00\">0</span> │\n",
       "├─────────────────────────────────┼────────────────────────┼───────────────┤\n",
       "│ flatten_7 (<span style=\"color: #0087ff; text-decoration-color: #0087ff\">Flatten</span>)             │ (<span style=\"color: #00d7ff; text-decoration-color: #00d7ff\">None</span>, <span style=\"color: #00af00; text-decoration-color: #00af00\">240</span>)            │             <span style=\"color: #00af00; text-decoration-color: #00af00\">0</span> │\n",
       "├─────────────────────────────────┼────────────────────────┼───────────────┤\n",
       "│ dense_14 (<span style=\"color: #0087ff; text-decoration-color: #0087ff\">Dense</span>)                │ (<span style=\"color: #00d7ff; text-decoration-color: #00d7ff\">None</span>, <span style=\"color: #00af00; text-decoration-color: #00af00\">96</span>)             │        <span style=\"color: #00af00; text-decoration-color: #00af00\">23,136</span> │\n",
       "├─────────────────────────────────┼────────────────────────┼───────────────┤\n",
       "│ dense_15 (<span style=\"color: #0087ff; text-decoration-color: #0087ff\">Dense</span>)                │ (<span style=\"color: #00d7ff; text-decoration-color: #00d7ff\">None</span>, <span style=\"color: #00af00; text-decoration-color: #00af00\">6</span>)              │           <span style=\"color: #00af00; text-decoration-color: #00af00\">582</span> │\n",
       "└─────────────────────────────────┴────────────────────────┴───────────────┘\n",
       "</pre>\n"
      ],
      "text/plain": [
       "┏━━━━━━━━━━━━━━━━━━━━━━━━━━━━━━━━━┳━━━━━━━━━━━━━━━━━━━━━━━━┳━━━━━━━━━━━━━━━┓\n",
       "┃\u001b[1m \u001b[0m\u001b[1mLayer (type)                   \u001b[0m\u001b[1m \u001b[0m┃\u001b[1m \u001b[0m\u001b[1mOutput Shape          \u001b[0m\u001b[1m \u001b[0m┃\u001b[1m \u001b[0m\u001b[1m      Param #\u001b[0m\u001b[1m \u001b[0m┃\n",
       "┡━━━━━━━━━━━━━━━━━━━━━━━━━━━━━━━━━╇━━━━━━━━━━━━━━━━━━━━━━━━╇━━━━━━━━━━━━━━━┩\n",
       "│ conv2d_12 (\u001b[38;5;33mConv2D\u001b[0m)              │ (\u001b[38;5;45mNone\u001b[0m, \u001b[38;5;34m58\u001b[0m, \u001b[38;5;34m60\u001b[0m, \u001b[38;5;34m8\u001b[0m)      │           \u001b[38;5;34m808\u001b[0m │\n",
       "├─────────────────────────────────┼────────────────────────┼───────────────┤\n",
       "│ max_pooling2d_12 (\u001b[38;5;33mMaxPooling2D\u001b[0m) │ (\u001b[38;5;45mNone\u001b[0m, \u001b[38;5;34m29\u001b[0m, \u001b[38;5;34m30\u001b[0m, \u001b[38;5;34m8\u001b[0m)      │             \u001b[38;5;34m0\u001b[0m │\n",
       "├─────────────────────────────────┼────────────────────────┼───────────────┤\n",
       "│ conv2d_13 (\u001b[38;5;33mConv2D\u001b[0m)              │ (\u001b[38;5;45mNone\u001b[0m, \u001b[38;5;34m9\u001b[0m, \u001b[38;5;34m10\u001b[0m, \u001b[38;5;34m12\u001b[0m)      │        \u001b[38;5;34m13,836\u001b[0m │\n",
       "├─────────────────────────────────┼────────────────────────┼───────────────┤\n",
       "│ max_pooling2d_13 (\u001b[38;5;33mMaxPooling2D\u001b[0m) │ (\u001b[38;5;45mNone\u001b[0m, \u001b[38;5;34m4\u001b[0m, \u001b[38;5;34m5\u001b[0m, \u001b[38;5;34m12\u001b[0m)       │             \u001b[38;5;34m0\u001b[0m │\n",
       "├─────────────────────────────────┼────────────────────────┼───────────────┤\n",
       "│ dropout_7 (\u001b[38;5;33mDropout\u001b[0m)             │ (\u001b[38;5;45mNone\u001b[0m, \u001b[38;5;34m4\u001b[0m, \u001b[38;5;34m5\u001b[0m, \u001b[38;5;34m12\u001b[0m)       │             \u001b[38;5;34m0\u001b[0m │\n",
       "├─────────────────────────────────┼────────────────────────┼───────────────┤\n",
       "│ flatten_7 (\u001b[38;5;33mFlatten\u001b[0m)             │ (\u001b[38;5;45mNone\u001b[0m, \u001b[38;5;34m240\u001b[0m)            │             \u001b[38;5;34m0\u001b[0m │\n",
       "├─────────────────────────────────┼────────────────────────┼───────────────┤\n",
       "│ dense_14 (\u001b[38;5;33mDense\u001b[0m)                │ (\u001b[38;5;45mNone\u001b[0m, \u001b[38;5;34m96\u001b[0m)             │        \u001b[38;5;34m23,136\u001b[0m │\n",
       "├─────────────────────────────────┼────────────────────────┼───────────────┤\n",
       "│ dense_15 (\u001b[38;5;33mDense\u001b[0m)                │ (\u001b[38;5;45mNone\u001b[0m, \u001b[38;5;34m6\u001b[0m)              │           \u001b[38;5;34m582\u001b[0m │\n",
       "└─────────────────────────────────┴────────────────────────┴───────────────┘\n"
      ]
     },
     "metadata": {},
     "output_type": "display_data"
    },
    {
     "data": {
      "text/html": [
       "<pre style=\"white-space:pre;overflow-x:auto;line-height:normal;font-family:Menlo,'DejaVu Sans Mono',consolas,'Courier New',monospace\"><span style=\"font-weight: bold\"> Total params: </span><span style=\"color: #00af00; text-decoration-color: #00af00\">115,088</span> (449.57 KB)\n",
       "</pre>\n"
      ],
      "text/plain": [
       "\u001b[1m Total params: \u001b[0m\u001b[38;5;34m115,088\u001b[0m (449.57 KB)\n"
      ]
     },
     "metadata": {},
     "output_type": "display_data"
    },
    {
     "data": {
      "text/html": [
       "<pre style=\"white-space:pre;overflow-x:auto;line-height:normal;font-family:Menlo,'DejaVu Sans Mono',consolas,'Courier New',monospace\"><span style=\"font-weight: bold\"> Trainable params: </span><span style=\"color: #00af00; text-decoration-color: #00af00\">38,362</span> (149.85 KB)\n",
       "</pre>\n"
      ],
      "text/plain": [
       "\u001b[1m Trainable params: \u001b[0m\u001b[38;5;34m38,362\u001b[0m (149.85 KB)\n"
      ]
     },
     "metadata": {},
     "output_type": "display_data"
    },
    {
     "data": {
      "text/html": [
       "<pre style=\"white-space:pre;overflow-x:auto;line-height:normal;font-family:Menlo,'DejaVu Sans Mono',consolas,'Courier New',monospace\"><span style=\"font-weight: bold\"> Non-trainable params: </span><span style=\"color: #00af00; text-decoration-color: #00af00\">0</span> (0.00 B)\n",
       "</pre>\n"
      ],
      "text/plain": [
       "\u001b[1m Non-trainable params: \u001b[0m\u001b[38;5;34m0\u001b[0m (0.00 B)\n"
      ]
     },
     "metadata": {},
     "output_type": "display_data"
    },
    {
     "data": {
      "text/html": [
       "<pre style=\"white-space:pre;overflow-x:auto;line-height:normal;font-family:Menlo,'DejaVu Sans Mono',consolas,'Courier New',monospace\"><span style=\"font-weight: bold\"> Optimizer params: </span><span style=\"color: #00af00; text-decoration-color: #00af00\">76,726</span> (299.71 KB)\n",
       "</pre>\n"
      ],
      "text/plain": [
       "\u001b[1m Optimizer params: \u001b[0m\u001b[38;5;34m76,726\u001b[0m (299.71 KB)\n"
      ]
     },
     "metadata": {},
     "output_type": "display_data"
    },
    {
     "name": "stderr",
     "output_type": "stream",
     "text": [
      "c:\\Users\\adamk\\anaconda3\\Lib\\site-packages\\keras\\src\\saving\\saving_lib.py:562: UserWarning: Skipping variable loading for optimizer 'adam', because it has 14 variables whereas the saved optimizer has 2 variables. \n",
      "  model,\n"
     ]
    },
    {
     "name": "stdout",
     "output_type": "stream",
     "text": [
      "\n",
      "Checking model: model_011_acc_0.8453.keras\n",
      "Model model_011_acc_0.8453.keras has 244338 trainable parameters, exceeding the threshold of 40000.\n",
      "\n",
      "Checking model: model_014_acc_0.8182.keras\n",
      "Model model_014_acc_0.8182.keras has 81722 trainable parameters, exceeding the threshold of 40000.\n",
      "\n",
      "Checking model: model_029_acc_0.8106.keras\n",
      "Model model_029_acc_0.8106.keras has 15046 trainable parameters, below the threshold of 40000.\n"
     ]
    },
    {
     "data": {
      "text/html": [
       "<pre style=\"white-space:pre;overflow-x:auto;line-height:normal;font-family:Menlo,'DejaVu Sans Mono',consolas,'Courier New',monospace\"><span style=\"font-weight: bold\">Model: \"sequential_9\"</span>\n",
       "</pre>\n"
      ],
      "text/plain": [
       "\u001b[1mModel: \"sequential_9\"\u001b[0m\n"
      ]
     },
     "metadata": {},
     "output_type": "display_data"
    },
    {
     "data": {
      "text/html": [
       "<pre style=\"white-space:pre;overflow-x:auto;line-height:normal;font-family:Menlo,'DejaVu Sans Mono',consolas,'Courier New',monospace\">┏━━━━━━━━━━━━━━━━━━━━━━━━━━━━━━━━━┳━━━━━━━━━━━━━━━━━━━━━━━━┳━━━━━━━━━━━━━━━┓\n",
       "┃<span style=\"font-weight: bold\"> Layer (type)                    </span>┃<span style=\"font-weight: bold\"> Output Shape           </span>┃<span style=\"font-weight: bold\">       Param # </span>┃\n",
       "┡━━━━━━━━━━━━━━━━━━━━━━━━━━━━━━━━━╇━━━━━━━━━━━━━━━━━━━━━━━━╇━━━━━━━━━━━━━━━┩\n",
       "│ conv2d_15 (<span style=\"color: #0087ff; text-decoration-color: #0087ff\">Conv2D</span>)              │ (<span style=\"color: #00d7ff; text-decoration-color: #00d7ff\">None</span>, <span style=\"color: #00af00; text-decoration-color: #00af00\">58</span>, <span style=\"color: #00af00; text-decoration-color: #00af00\">60</span>, <span style=\"color: #00af00; text-decoration-color: #00af00\">4</span>)      │           <span style=\"color: #00af00; text-decoration-color: #00af00\">404</span> │\n",
       "├─────────────────────────────────┼────────────────────────┼───────────────┤\n",
       "│ max_pooling2d_15 (<span style=\"color: #0087ff; text-decoration-color: #0087ff\">MaxPooling2D</span>) │ (<span style=\"color: #00d7ff; text-decoration-color: #00d7ff\">None</span>, <span style=\"color: #00af00; text-decoration-color: #00af00\">29</span>, <span style=\"color: #00af00; text-decoration-color: #00af00\">30</span>, <span style=\"color: #00af00; text-decoration-color: #00af00\">4</span>)      │             <span style=\"color: #00af00; text-decoration-color: #00af00\">0</span> │\n",
       "├─────────────────────────────────┼────────────────────────┼───────────────┤\n",
       "│ conv2d_16 (<span style=\"color: #0087ff; text-decoration-color: #0087ff\">Conv2D</span>)              │ (<span style=\"color: #00d7ff; text-decoration-color: #00d7ff\">None</span>, <span style=\"color: #00af00; text-decoration-color: #00af00\">10</span>, <span style=\"color: #00af00; text-decoration-color: #00af00\">11</span>, <span style=\"color: #00af00; text-decoration-color: #00af00\">12</span>)     │         <span style=\"color: #00af00; text-decoration-color: #00af00\">4,812</span> │\n",
       "├─────────────────────────────────┼────────────────────────┼───────────────┤\n",
       "│ max_pooling2d_16 (<span style=\"color: #0087ff; text-decoration-color: #0087ff\">MaxPooling2D</span>) │ (<span style=\"color: #00d7ff; text-decoration-color: #00d7ff\">None</span>, <span style=\"color: #00af00; text-decoration-color: #00af00\">5</span>, <span style=\"color: #00af00; text-decoration-color: #00af00\">5</span>, <span style=\"color: #00af00; text-decoration-color: #00af00\">12</span>)       │             <span style=\"color: #00af00; text-decoration-color: #00af00\">0</span> │\n",
       "├─────────────────────────────────┼────────────────────────┼───────────────┤\n",
       "│ dropout_9 (<span style=\"color: #0087ff; text-decoration-color: #0087ff\">Dropout</span>)             │ (<span style=\"color: #00d7ff; text-decoration-color: #00d7ff\">None</span>, <span style=\"color: #00af00; text-decoration-color: #00af00\">5</span>, <span style=\"color: #00af00; text-decoration-color: #00af00\">5</span>, <span style=\"color: #00af00; text-decoration-color: #00af00\">12</span>)       │             <span style=\"color: #00af00; text-decoration-color: #00af00\">0</span> │\n",
       "├─────────────────────────────────┼────────────────────────┼───────────────┤\n",
       "│ flatten_9 (<span style=\"color: #0087ff; text-decoration-color: #0087ff\">Flatten</span>)             │ (<span style=\"color: #00d7ff; text-decoration-color: #00d7ff\">None</span>, <span style=\"color: #00af00; text-decoration-color: #00af00\">300</span>)            │             <span style=\"color: #00af00; text-decoration-color: #00af00\">0</span> │\n",
       "├─────────────────────────────────┼────────────────────────┼───────────────┤\n",
       "│ dense_18 (<span style=\"color: #0087ff; text-decoration-color: #0087ff\">Dense</span>)                │ (<span style=\"color: #00d7ff; text-decoration-color: #00d7ff\">None</span>, <span style=\"color: #00af00; text-decoration-color: #00af00\">32</span>)             │         <span style=\"color: #00af00; text-decoration-color: #00af00\">9,632</span> │\n",
       "├─────────────────────────────────┼────────────────────────┼───────────────┤\n",
       "│ dense_19 (<span style=\"color: #0087ff; text-decoration-color: #0087ff\">Dense</span>)                │ (<span style=\"color: #00d7ff; text-decoration-color: #00d7ff\">None</span>, <span style=\"color: #00af00; text-decoration-color: #00af00\">6</span>)              │           <span style=\"color: #00af00; text-decoration-color: #00af00\">198</span> │\n",
       "└─────────────────────────────────┴────────────────────────┴───────────────┘\n",
       "</pre>\n"
      ],
      "text/plain": [
       "┏━━━━━━━━━━━━━━━━━━━━━━━━━━━━━━━━━┳━━━━━━━━━━━━━━━━━━━━━━━━┳━━━━━━━━━━━━━━━┓\n",
       "┃\u001b[1m \u001b[0m\u001b[1mLayer (type)                   \u001b[0m\u001b[1m \u001b[0m┃\u001b[1m \u001b[0m\u001b[1mOutput Shape          \u001b[0m\u001b[1m \u001b[0m┃\u001b[1m \u001b[0m\u001b[1m      Param #\u001b[0m\u001b[1m \u001b[0m┃\n",
       "┡━━━━━━━━━━━━━━━━━━━━━━━━━━━━━━━━━╇━━━━━━━━━━━━━━━━━━━━━━━━╇━━━━━━━━━━━━━━━┩\n",
       "│ conv2d_15 (\u001b[38;5;33mConv2D\u001b[0m)              │ (\u001b[38;5;45mNone\u001b[0m, \u001b[38;5;34m58\u001b[0m, \u001b[38;5;34m60\u001b[0m, \u001b[38;5;34m4\u001b[0m)      │           \u001b[38;5;34m404\u001b[0m │\n",
       "├─────────────────────────────────┼────────────────────────┼───────────────┤\n",
       "│ max_pooling2d_15 (\u001b[38;5;33mMaxPooling2D\u001b[0m) │ (\u001b[38;5;45mNone\u001b[0m, \u001b[38;5;34m29\u001b[0m, \u001b[38;5;34m30\u001b[0m, \u001b[38;5;34m4\u001b[0m)      │             \u001b[38;5;34m0\u001b[0m │\n",
       "├─────────────────────────────────┼────────────────────────┼───────────────┤\n",
       "│ conv2d_16 (\u001b[38;5;33mConv2D\u001b[0m)              │ (\u001b[38;5;45mNone\u001b[0m, \u001b[38;5;34m10\u001b[0m, \u001b[38;5;34m11\u001b[0m, \u001b[38;5;34m12\u001b[0m)     │         \u001b[38;5;34m4,812\u001b[0m │\n",
       "├─────────────────────────────────┼────────────────────────┼───────────────┤\n",
       "│ max_pooling2d_16 (\u001b[38;5;33mMaxPooling2D\u001b[0m) │ (\u001b[38;5;45mNone\u001b[0m, \u001b[38;5;34m5\u001b[0m, \u001b[38;5;34m5\u001b[0m, \u001b[38;5;34m12\u001b[0m)       │             \u001b[38;5;34m0\u001b[0m │\n",
       "├─────────────────────────────────┼────────────────────────┼───────────────┤\n",
       "│ dropout_9 (\u001b[38;5;33mDropout\u001b[0m)             │ (\u001b[38;5;45mNone\u001b[0m, \u001b[38;5;34m5\u001b[0m, \u001b[38;5;34m5\u001b[0m, \u001b[38;5;34m12\u001b[0m)       │             \u001b[38;5;34m0\u001b[0m │\n",
       "├─────────────────────────────────┼────────────────────────┼───────────────┤\n",
       "│ flatten_9 (\u001b[38;5;33mFlatten\u001b[0m)             │ (\u001b[38;5;45mNone\u001b[0m, \u001b[38;5;34m300\u001b[0m)            │             \u001b[38;5;34m0\u001b[0m │\n",
       "├─────────────────────────────────┼────────────────────────┼───────────────┤\n",
       "│ dense_18 (\u001b[38;5;33mDense\u001b[0m)                │ (\u001b[38;5;45mNone\u001b[0m, \u001b[38;5;34m32\u001b[0m)             │         \u001b[38;5;34m9,632\u001b[0m │\n",
       "├─────────────────────────────────┼────────────────────────┼───────────────┤\n",
       "│ dense_19 (\u001b[38;5;33mDense\u001b[0m)                │ (\u001b[38;5;45mNone\u001b[0m, \u001b[38;5;34m6\u001b[0m)              │           \u001b[38;5;34m198\u001b[0m │\n",
       "└─────────────────────────────────┴────────────────────────┴───────────────┘\n"
      ]
     },
     "metadata": {},
     "output_type": "display_data"
    },
    {
     "data": {
      "text/html": [
       "<pre style=\"white-space:pre;overflow-x:auto;line-height:normal;font-family:Menlo,'DejaVu Sans Mono',consolas,'Courier New',monospace\"><span style=\"font-weight: bold\"> Total params: </span><span style=\"color: #00af00; text-decoration-color: #00af00\">45,140</span> (176.33 KB)\n",
       "</pre>\n"
      ],
      "text/plain": [
       "\u001b[1m Total params: \u001b[0m\u001b[38;5;34m45,140\u001b[0m (176.33 KB)\n"
      ]
     },
     "metadata": {},
     "output_type": "display_data"
    },
    {
     "data": {
      "text/html": [
       "<pre style=\"white-space:pre;overflow-x:auto;line-height:normal;font-family:Menlo,'DejaVu Sans Mono',consolas,'Courier New',monospace\"><span style=\"font-weight: bold\"> Trainable params: </span><span style=\"color: #00af00; text-decoration-color: #00af00\">15,046</span> (58.77 KB)\n",
       "</pre>\n"
      ],
      "text/plain": [
       "\u001b[1m Trainable params: \u001b[0m\u001b[38;5;34m15,046\u001b[0m (58.77 KB)\n"
      ]
     },
     "metadata": {},
     "output_type": "display_data"
    },
    {
     "data": {
      "text/html": [
       "<pre style=\"white-space:pre;overflow-x:auto;line-height:normal;font-family:Menlo,'DejaVu Sans Mono',consolas,'Courier New',monospace\"><span style=\"font-weight: bold\"> Non-trainable params: </span><span style=\"color: #00af00; text-decoration-color: #00af00\">0</span> (0.00 B)\n",
       "</pre>\n"
      ],
      "text/plain": [
       "\u001b[1m Non-trainable params: \u001b[0m\u001b[38;5;34m0\u001b[0m (0.00 B)\n"
      ]
     },
     "metadata": {},
     "output_type": "display_data"
    },
    {
     "data": {
      "text/html": [
       "<pre style=\"white-space:pre;overflow-x:auto;line-height:normal;font-family:Menlo,'DejaVu Sans Mono',consolas,'Courier New',monospace\"><span style=\"font-weight: bold\"> Optimizer params: </span><span style=\"color: #00af00; text-decoration-color: #00af00\">30,094</span> (117.56 KB)\n",
       "</pre>\n"
      ],
      "text/plain": [
       "\u001b[1m Optimizer params: \u001b[0m\u001b[38;5;34m30,094\u001b[0m (117.56 KB)\n"
      ]
     },
     "metadata": {},
     "output_type": "display_data"
    },
    {
     "name": "stdout",
     "output_type": "stream",
     "text": [
      "\n",
      "Checking model: model_030_acc_0.8200.keras\n",
      "Model model_030_acc_0.8200.keras has 223434 trainable parameters, exceeding the threshold of 40000.\n",
      "\n",
      "Checking model: model_033_acc_0.8447.keras\n",
      "Model model_033_acc_0.8447.keras has 45382 trainable parameters, exceeding the threshold of 40000.\n",
      "\n",
      "Checking model: model_048_acc_0.8147.keras\n",
      "Model model_048_acc_0.8147.keras has 20634 trainable parameters, below the threshold of 40000.\n"
     ]
    },
    {
     "data": {
      "text/html": [
       "<pre style=\"white-space:pre;overflow-x:auto;line-height:normal;font-family:Menlo,'DejaVu Sans Mono',consolas,'Courier New',monospace\"><span style=\"font-weight: bold\">Model: \"sequential_3\"</span>\n",
       "</pre>\n"
      ],
      "text/plain": [
       "\u001b[1mModel: \"sequential_3\"\u001b[0m\n"
      ]
     },
     "metadata": {},
     "output_type": "display_data"
    },
    {
     "data": {
      "text/html": [
       "<pre style=\"white-space:pre;overflow-x:auto;line-height:normal;font-family:Menlo,'DejaVu Sans Mono',consolas,'Courier New',monospace\">┏━━━━━━━━━━━━━━━━━━━━━━━━━━━━━━━━━┳━━━━━━━━━━━━━━━━━━━━━━━━┳━━━━━━━━━━━━━━━┓\n",
       "┃<span style=\"font-weight: bold\"> Layer (type)                    </span>┃<span style=\"font-weight: bold\"> Output Shape           </span>┃<span style=\"font-weight: bold\">       Param # </span>┃\n",
       "┡━━━━━━━━━━━━━━━━━━━━━━━━━━━━━━━━━╇━━━━━━━━━━━━━━━━━━━━━━━━╇━━━━━━━━━━━━━━━┩\n",
       "│ conv2d_4 (<span style=\"color: #0087ff; text-decoration-color: #0087ff\">Conv2D</span>)               │ (<span style=\"color: #00d7ff; text-decoration-color: #00d7ff\">None</span>, <span style=\"color: #00af00; text-decoration-color: #00af00\">57</span>, <span style=\"color: #00af00; text-decoration-color: #00af00\">59</span>, <span style=\"color: #00af00; text-decoration-color: #00af00\">16</span>)     │         <span style=\"color: #00af00; text-decoration-color: #00af00\">2,320</span> │\n",
       "├─────────────────────────────────┼────────────────────────┼───────────────┤\n",
       "│ max_pooling2d_4 (<span style=\"color: #0087ff; text-decoration-color: #0087ff\">MaxPooling2D</span>)  │ (<span style=\"color: #00d7ff; text-decoration-color: #00d7ff\">None</span>, <span style=\"color: #00af00; text-decoration-color: #00af00\">28</span>, <span style=\"color: #00af00; text-decoration-color: #00af00\">29</span>, <span style=\"color: #00af00; text-decoration-color: #00af00\">16</span>)     │             <span style=\"color: #00af00; text-decoration-color: #00af00\">0</span> │\n",
       "├─────────────────────────────────┼────────────────────────┼───────────────┤\n",
       "│ conv2d_5 (<span style=\"color: #0087ff; text-decoration-color: #0087ff\">Conv2D</span>)               │ (<span style=\"color: #00d7ff; text-decoration-color: #00d7ff\">None</span>, <span style=\"color: #00af00; text-decoration-color: #00af00\">9</span>, <span style=\"color: #00af00; text-decoration-color: #00af00\">9</span>, <span style=\"color: #00af00; text-decoration-color: #00af00\">4</span>)        │         <span style=\"color: #00af00; text-decoration-color: #00af00\">9,220</span> │\n",
       "├─────────────────────────────────┼────────────────────────┼───────────────┤\n",
       "│ max_pooling2d_5 (<span style=\"color: #0087ff; text-decoration-color: #0087ff\">MaxPooling2D</span>)  │ (<span style=\"color: #00d7ff; text-decoration-color: #00d7ff\">None</span>, <span style=\"color: #00af00; text-decoration-color: #00af00\">4</span>, <span style=\"color: #00af00; text-decoration-color: #00af00\">4</span>, <span style=\"color: #00af00; text-decoration-color: #00af00\">4</span>)        │             <span style=\"color: #00af00; text-decoration-color: #00af00\">0</span> │\n",
       "├─────────────────────────────────┼────────────────────────┼───────────────┤\n",
       "│ dropout_3 (<span style=\"color: #0087ff; text-decoration-color: #0087ff\">Dropout</span>)             │ (<span style=\"color: #00d7ff; text-decoration-color: #00d7ff\">None</span>, <span style=\"color: #00af00; text-decoration-color: #00af00\">4</span>, <span style=\"color: #00af00; text-decoration-color: #00af00\">4</span>, <span style=\"color: #00af00; text-decoration-color: #00af00\">4</span>)        │             <span style=\"color: #00af00; text-decoration-color: #00af00\">0</span> │\n",
       "├─────────────────────────────────┼────────────────────────┼───────────────┤\n",
       "│ flatten_3 (<span style=\"color: #0087ff; text-decoration-color: #0087ff\">Flatten</span>)             │ (<span style=\"color: #00d7ff; text-decoration-color: #00d7ff\">None</span>, <span style=\"color: #00af00; text-decoration-color: #00af00\">64</span>)             │             <span style=\"color: #00af00; text-decoration-color: #00af00\">0</span> │\n",
       "├─────────────────────────────────┼────────────────────────┼───────────────┤\n",
       "│ dense_6 (<span style=\"color: #0087ff; text-decoration-color: #0087ff\">Dense</span>)                 │ (<span style=\"color: #00d7ff; text-decoration-color: #00d7ff\">None</span>, <span style=\"color: #00af00; text-decoration-color: #00af00\">128</span>)            │         <span style=\"color: #00af00; text-decoration-color: #00af00\">8,320</span> │\n",
       "├─────────────────────────────────┼────────────────────────┼───────────────┤\n",
       "│ dense_7 (<span style=\"color: #0087ff; text-decoration-color: #0087ff\">Dense</span>)                 │ (<span style=\"color: #00d7ff; text-decoration-color: #00d7ff\">None</span>, <span style=\"color: #00af00; text-decoration-color: #00af00\">6</span>)              │           <span style=\"color: #00af00; text-decoration-color: #00af00\">774</span> │\n",
       "└─────────────────────────────────┴────────────────────────┴───────────────┘\n",
       "</pre>\n"
      ],
      "text/plain": [
       "┏━━━━━━━━━━━━━━━━━━━━━━━━━━━━━━━━━┳━━━━━━━━━━━━━━━━━━━━━━━━┳━━━━━━━━━━━━━━━┓\n",
       "┃\u001b[1m \u001b[0m\u001b[1mLayer (type)                   \u001b[0m\u001b[1m \u001b[0m┃\u001b[1m \u001b[0m\u001b[1mOutput Shape          \u001b[0m\u001b[1m \u001b[0m┃\u001b[1m \u001b[0m\u001b[1m      Param #\u001b[0m\u001b[1m \u001b[0m┃\n",
       "┡━━━━━━━━━━━━━━━━━━━━━━━━━━━━━━━━━╇━━━━━━━━━━━━━━━━━━━━━━━━╇━━━━━━━━━━━━━━━┩\n",
       "│ conv2d_4 (\u001b[38;5;33mConv2D\u001b[0m)               │ (\u001b[38;5;45mNone\u001b[0m, \u001b[38;5;34m57\u001b[0m, \u001b[38;5;34m59\u001b[0m, \u001b[38;5;34m16\u001b[0m)     │         \u001b[38;5;34m2,320\u001b[0m │\n",
       "├─────────────────────────────────┼────────────────────────┼───────────────┤\n",
       "│ max_pooling2d_4 (\u001b[38;5;33mMaxPooling2D\u001b[0m)  │ (\u001b[38;5;45mNone\u001b[0m, \u001b[38;5;34m28\u001b[0m, \u001b[38;5;34m29\u001b[0m, \u001b[38;5;34m16\u001b[0m)     │             \u001b[38;5;34m0\u001b[0m │\n",
       "├─────────────────────────────────┼────────────────────────┼───────────────┤\n",
       "│ conv2d_5 (\u001b[38;5;33mConv2D\u001b[0m)               │ (\u001b[38;5;45mNone\u001b[0m, \u001b[38;5;34m9\u001b[0m, \u001b[38;5;34m9\u001b[0m, \u001b[38;5;34m4\u001b[0m)        │         \u001b[38;5;34m9,220\u001b[0m │\n",
       "├─────────────────────────────────┼────────────────────────┼───────────────┤\n",
       "│ max_pooling2d_5 (\u001b[38;5;33mMaxPooling2D\u001b[0m)  │ (\u001b[38;5;45mNone\u001b[0m, \u001b[38;5;34m4\u001b[0m, \u001b[38;5;34m4\u001b[0m, \u001b[38;5;34m4\u001b[0m)        │             \u001b[38;5;34m0\u001b[0m │\n",
       "├─────────────────────────────────┼────────────────────────┼───────────────┤\n",
       "│ dropout_3 (\u001b[38;5;33mDropout\u001b[0m)             │ (\u001b[38;5;45mNone\u001b[0m, \u001b[38;5;34m4\u001b[0m, \u001b[38;5;34m4\u001b[0m, \u001b[38;5;34m4\u001b[0m)        │             \u001b[38;5;34m0\u001b[0m │\n",
       "├─────────────────────────────────┼────────────────────────┼───────────────┤\n",
       "│ flatten_3 (\u001b[38;5;33mFlatten\u001b[0m)             │ (\u001b[38;5;45mNone\u001b[0m, \u001b[38;5;34m64\u001b[0m)             │             \u001b[38;5;34m0\u001b[0m │\n",
       "├─────────────────────────────────┼────────────────────────┼───────────────┤\n",
       "│ dense_6 (\u001b[38;5;33mDense\u001b[0m)                 │ (\u001b[38;5;45mNone\u001b[0m, \u001b[38;5;34m128\u001b[0m)            │         \u001b[38;5;34m8,320\u001b[0m │\n",
       "├─────────────────────────────────┼────────────────────────┼───────────────┤\n",
       "│ dense_7 (\u001b[38;5;33mDense\u001b[0m)                 │ (\u001b[38;5;45mNone\u001b[0m, \u001b[38;5;34m6\u001b[0m)              │           \u001b[38;5;34m774\u001b[0m │\n",
       "└─────────────────────────────────┴────────────────────────┴───────────────┘\n"
      ]
     },
     "metadata": {},
     "output_type": "display_data"
    },
    {
     "data": {
      "text/html": [
       "<pre style=\"white-space:pre;overflow-x:auto;line-height:normal;font-family:Menlo,'DejaVu Sans Mono',consolas,'Courier New',monospace\"><span style=\"font-weight: bold\"> Total params: </span><span style=\"color: #00af00; text-decoration-color: #00af00\">61,904</span> (241.82 KB)\n",
       "</pre>\n"
      ],
      "text/plain": [
       "\u001b[1m Total params: \u001b[0m\u001b[38;5;34m61,904\u001b[0m (241.82 KB)\n"
      ]
     },
     "metadata": {},
     "output_type": "display_data"
    },
    {
     "data": {
      "text/html": [
       "<pre style=\"white-space:pre;overflow-x:auto;line-height:normal;font-family:Menlo,'DejaVu Sans Mono',consolas,'Courier New',monospace\"><span style=\"font-weight: bold\"> Trainable params: </span><span style=\"color: #00af00; text-decoration-color: #00af00\">20,634</span> (80.60 KB)\n",
       "</pre>\n"
      ],
      "text/plain": [
       "\u001b[1m Trainable params: \u001b[0m\u001b[38;5;34m20,634\u001b[0m (80.60 KB)\n"
      ]
     },
     "metadata": {},
     "output_type": "display_data"
    },
    {
     "data": {
      "text/html": [
       "<pre style=\"white-space:pre;overflow-x:auto;line-height:normal;font-family:Menlo,'DejaVu Sans Mono',consolas,'Courier New',monospace\"><span style=\"font-weight: bold\"> Non-trainable params: </span><span style=\"color: #00af00; text-decoration-color: #00af00\">0</span> (0.00 B)\n",
       "</pre>\n"
      ],
      "text/plain": [
       "\u001b[1m Non-trainable params: \u001b[0m\u001b[38;5;34m0\u001b[0m (0.00 B)\n"
      ]
     },
     "metadata": {},
     "output_type": "display_data"
    },
    {
     "data": {
      "text/html": [
       "<pre style=\"white-space:pre;overflow-x:auto;line-height:normal;font-family:Menlo,'DejaVu Sans Mono',consolas,'Courier New',monospace\"><span style=\"font-weight: bold\"> Optimizer params: </span><span style=\"color: #00af00; text-decoration-color: #00af00\">41,270</span> (161.21 KB)\n",
       "</pre>\n"
      ],
      "text/plain": [
       "\u001b[1m Optimizer params: \u001b[0m\u001b[38;5;34m41,270\u001b[0m (161.21 KB)\n"
      ]
     },
     "metadata": {},
     "output_type": "display_data"
    },
    {
     "name": "stdout",
     "output_type": "stream",
     "text": [
      "\n",
      "Checking model: model_052_acc_0.8271.keras\n",
      "Model model_052_acc_0.8271.keras has 44514 trainable parameters, exceeding the threshold of 40000.\n",
      "\n",
      "Checking model: model_055_acc_0.8335.keras\n",
      "Model model_055_acc_0.8335.keras has 208906 trainable parameters, exceeding the threshold of 40000.\n",
      "\n",
      "Checking model: model_056_acc_0.8476.keras\n",
      "Model model_056_acc_0.8476.keras has 34078 trainable parameters, below the threshold of 40000.\n"
     ]
    },
    {
     "data": {
      "text/html": [
       "<pre style=\"white-space:pre;overflow-x:auto;line-height:normal;font-family:Menlo,'DejaVu Sans Mono',consolas,'Courier New',monospace\"><span style=\"font-weight: bold\">Model: \"sequential_3\"</span>\n",
       "</pre>\n"
      ],
      "text/plain": [
       "\u001b[1mModel: \"sequential_3\"\u001b[0m\n"
      ]
     },
     "metadata": {},
     "output_type": "display_data"
    },
    {
     "data": {
      "text/html": [
       "<pre style=\"white-space:pre;overflow-x:auto;line-height:normal;font-family:Menlo,'DejaVu Sans Mono',consolas,'Courier New',monospace\">┏━━━━━━━━━━━━━━━━━━━━━━━━━━━━━━━━━┳━━━━━━━━━━━━━━━━━━━━━━━━┳━━━━━━━━━━━━━━━┓\n",
       "┃<span style=\"font-weight: bold\"> Layer (type)                    </span>┃<span style=\"font-weight: bold\"> Output Shape           </span>┃<span style=\"font-weight: bold\">       Param # </span>┃\n",
       "┡━━━━━━━━━━━━━━━━━━━━━━━━━━━━━━━━━╇━━━━━━━━━━━━━━━━━━━━━━━━╇━━━━━━━━━━━━━━━┩\n",
       "│ conv2d_6 (<span style=\"color: #0087ff; text-decoration-color: #0087ff\">Conv2D</span>)               │ (<span style=\"color: #00d7ff; text-decoration-color: #00d7ff\">None</span>, <span style=\"color: #00af00; text-decoration-color: #00af00\">59</span>, <span style=\"color: #00af00; text-decoration-color: #00af00\">61</span>, <span style=\"color: #00af00; text-decoration-color: #00af00\">12</span>)     │           <span style=\"color: #00af00; text-decoration-color: #00af00\">780</span> │\n",
       "├─────────────────────────────────┼────────────────────────┼───────────────┤\n",
       "│ max_pooling2d_6 (<span style=\"color: #0087ff; text-decoration-color: #0087ff\">MaxPooling2D</span>)  │ (<span style=\"color: #00d7ff; text-decoration-color: #00d7ff\">None</span>, <span style=\"color: #00af00; text-decoration-color: #00af00\">29</span>, <span style=\"color: #00af00; text-decoration-color: #00af00\">30</span>, <span style=\"color: #00af00; text-decoration-color: #00af00\">12</span>)     │             <span style=\"color: #00af00; text-decoration-color: #00af00\">0</span> │\n",
       "├─────────────────────────────────┼────────────────────────┼───────────────┤\n",
       "│ conv2d_7 (<span style=\"color: #0087ff; text-decoration-color: #0087ff\">Conv2D</span>)               │ (<span style=\"color: #00d7ff; text-decoration-color: #00d7ff\">None</span>, <span style=\"color: #00af00; text-decoration-color: #00af00\">12</span>, <span style=\"color: #00af00; text-decoration-color: #00af00\">13</span>, <span style=\"color: #00af00; text-decoration-color: #00af00\">12</span>)     │         <span style=\"color: #00af00; text-decoration-color: #00af00\">5,196</span> │\n",
       "├─────────────────────────────────┼────────────────────────┼───────────────┤\n",
       "│ max_pooling2d_7 (<span style=\"color: #0087ff; text-decoration-color: #0087ff\">MaxPooling2D</span>)  │ (<span style=\"color: #00d7ff; text-decoration-color: #00d7ff\">None</span>, <span style=\"color: #00af00; text-decoration-color: #00af00\">6</span>, <span style=\"color: #00af00; text-decoration-color: #00af00\">6</span>, <span style=\"color: #00af00; text-decoration-color: #00af00\">12</span>)       │             <span style=\"color: #00af00; text-decoration-color: #00af00\">0</span> │\n",
       "├─────────────────────────────────┼────────────────────────┼───────────────┤\n",
       "│ dropout_3 (<span style=\"color: #0087ff; text-decoration-color: #0087ff\">Dropout</span>)             │ (<span style=\"color: #00d7ff; text-decoration-color: #00d7ff\">None</span>, <span style=\"color: #00af00; text-decoration-color: #00af00\">6</span>, <span style=\"color: #00af00; text-decoration-color: #00af00\">6</span>, <span style=\"color: #00af00; text-decoration-color: #00af00\">12</span>)       │             <span style=\"color: #00af00; text-decoration-color: #00af00\">0</span> │\n",
       "├─────────────────────────────────┼────────────────────────┼───────────────┤\n",
       "│ flatten_3 (<span style=\"color: #0087ff; text-decoration-color: #0087ff\">Flatten</span>)             │ (<span style=\"color: #00d7ff; text-decoration-color: #00d7ff\">None</span>, <span style=\"color: #00af00; text-decoration-color: #00af00\">432</span>)            │             <span style=\"color: #00af00; text-decoration-color: #00af00\">0</span> │\n",
       "├─────────────────────────────────┼────────────────────────┼───────────────┤\n",
       "│ dense_6 (<span style=\"color: #0087ff; text-decoration-color: #0087ff\">Dense</span>)                 │ (<span style=\"color: #00d7ff; text-decoration-color: #00d7ff\">None</span>, <span style=\"color: #00af00; text-decoration-color: #00af00\">64</span>)             │        <span style=\"color: #00af00; text-decoration-color: #00af00\">27,712</span> │\n",
       "├─────────────────────────────────┼────────────────────────┼───────────────┤\n",
       "│ dense_7 (<span style=\"color: #0087ff; text-decoration-color: #0087ff\">Dense</span>)                 │ (<span style=\"color: #00d7ff; text-decoration-color: #00d7ff\">None</span>, <span style=\"color: #00af00; text-decoration-color: #00af00\">6</span>)              │           <span style=\"color: #00af00; text-decoration-color: #00af00\">390</span> │\n",
       "└─────────────────────────────────┴────────────────────────┴───────────────┘\n",
       "</pre>\n"
      ],
      "text/plain": [
       "┏━━━━━━━━━━━━━━━━━━━━━━━━━━━━━━━━━┳━━━━━━━━━━━━━━━━━━━━━━━━┳━━━━━━━━━━━━━━━┓\n",
       "┃\u001b[1m \u001b[0m\u001b[1mLayer (type)                   \u001b[0m\u001b[1m \u001b[0m┃\u001b[1m \u001b[0m\u001b[1mOutput Shape          \u001b[0m\u001b[1m \u001b[0m┃\u001b[1m \u001b[0m\u001b[1m      Param #\u001b[0m\u001b[1m \u001b[0m┃\n",
       "┡━━━━━━━━━━━━━━━━━━━━━━━━━━━━━━━━━╇━━━━━━━━━━━━━━━━━━━━━━━━╇━━━━━━━━━━━━━━━┩\n",
       "│ conv2d_6 (\u001b[38;5;33mConv2D\u001b[0m)               │ (\u001b[38;5;45mNone\u001b[0m, \u001b[38;5;34m59\u001b[0m, \u001b[38;5;34m61\u001b[0m, \u001b[38;5;34m12\u001b[0m)     │           \u001b[38;5;34m780\u001b[0m │\n",
       "├─────────────────────────────────┼────────────────────────┼───────────────┤\n",
       "│ max_pooling2d_6 (\u001b[38;5;33mMaxPooling2D\u001b[0m)  │ (\u001b[38;5;45mNone\u001b[0m, \u001b[38;5;34m29\u001b[0m, \u001b[38;5;34m30\u001b[0m, \u001b[38;5;34m12\u001b[0m)     │             \u001b[38;5;34m0\u001b[0m │\n",
       "├─────────────────────────────────┼────────────────────────┼───────────────┤\n",
       "│ conv2d_7 (\u001b[38;5;33mConv2D\u001b[0m)               │ (\u001b[38;5;45mNone\u001b[0m, \u001b[38;5;34m12\u001b[0m, \u001b[38;5;34m13\u001b[0m, \u001b[38;5;34m12\u001b[0m)     │         \u001b[38;5;34m5,196\u001b[0m │\n",
       "├─────────────────────────────────┼────────────────────────┼───────────────┤\n",
       "│ max_pooling2d_7 (\u001b[38;5;33mMaxPooling2D\u001b[0m)  │ (\u001b[38;5;45mNone\u001b[0m, \u001b[38;5;34m6\u001b[0m, \u001b[38;5;34m6\u001b[0m, \u001b[38;5;34m12\u001b[0m)       │             \u001b[38;5;34m0\u001b[0m │\n",
       "├─────────────────────────────────┼────────────────────────┼───────────────┤\n",
       "│ dropout_3 (\u001b[38;5;33mDropout\u001b[0m)             │ (\u001b[38;5;45mNone\u001b[0m, \u001b[38;5;34m6\u001b[0m, \u001b[38;5;34m6\u001b[0m, \u001b[38;5;34m12\u001b[0m)       │             \u001b[38;5;34m0\u001b[0m │\n",
       "├─────────────────────────────────┼────────────────────────┼───────────────┤\n",
       "│ flatten_3 (\u001b[38;5;33mFlatten\u001b[0m)             │ (\u001b[38;5;45mNone\u001b[0m, \u001b[38;5;34m432\u001b[0m)            │             \u001b[38;5;34m0\u001b[0m │\n",
       "├─────────────────────────────────┼────────────────────────┼───────────────┤\n",
       "│ dense_6 (\u001b[38;5;33mDense\u001b[0m)                 │ (\u001b[38;5;45mNone\u001b[0m, \u001b[38;5;34m64\u001b[0m)             │        \u001b[38;5;34m27,712\u001b[0m │\n",
       "├─────────────────────────────────┼────────────────────────┼───────────────┤\n",
       "│ dense_7 (\u001b[38;5;33mDense\u001b[0m)                 │ (\u001b[38;5;45mNone\u001b[0m, \u001b[38;5;34m6\u001b[0m)              │           \u001b[38;5;34m390\u001b[0m │\n",
       "└─────────────────────────────────┴────────────────────────┴───────────────┘\n"
      ]
     },
     "metadata": {},
     "output_type": "display_data"
    },
    {
     "data": {
      "text/html": [
       "<pre style=\"white-space:pre;overflow-x:auto;line-height:normal;font-family:Menlo,'DejaVu Sans Mono',consolas,'Courier New',monospace\"><span style=\"font-weight: bold\"> Total params: </span><span style=\"color: #00af00; text-decoration-color: #00af00\">102,236</span> (399.36 KB)\n",
       "</pre>\n"
      ],
      "text/plain": [
       "\u001b[1m Total params: \u001b[0m\u001b[38;5;34m102,236\u001b[0m (399.36 KB)\n"
      ]
     },
     "metadata": {},
     "output_type": "display_data"
    },
    {
     "data": {
      "text/html": [
       "<pre style=\"white-space:pre;overflow-x:auto;line-height:normal;font-family:Menlo,'DejaVu Sans Mono',consolas,'Courier New',monospace\"><span style=\"font-weight: bold\"> Trainable params: </span><span style=\"color: #00af00; text-decoration-color: #00af00\">34,078</span> (133.12 KB)\n",
       "</pre>\n"
      ],
      "text/plain": [
       "\u001b[1m Trainable params: \u001b[0m\u001b[38;5;34m34,078\u001b[0m (133.12 KB)\n"
      ]
     },
     "metadata": {},
     "output_type": "display_data"
    },
    {
     "data": {
      "text/html": [
       "<pre style=\"white-space:pre;overflow-x:auto;line-height:normal;font-family:Menlo,'DejaVu Sans Mono',consolas,'Courier New',monospace\"><span style=\"font-weight: bold\"> Non-trainable params: </span><span style=\"color: #00af00; text-decoration-color: #00af00\">0</span> (0.00 B)\n",
       "</pre>\n"
      ],
      "text/plain": [
       "\u001b[1m Non-trainable params: \u001b[0m\u001b[38;5;34m0\u001b[0m (0.00 B)\n"
      ]
     },
     "metadata": {},
     "output_type": "display_data"
    },
    {
     "data": {
      "text/html": [
       "<pre style=\"white-space:pre;overflow-x:auto;line-height:normal;font-family:Menlo,'DejaVu Sans Mono',consolas,'Courier New',monospace\"><span style=\"font-weight: bold\"> Optimizer params: </span><span style=\"color: #00af00; text-decoration-color: #00af00\">68,158</span> (266.25 KB)\n",
       "</pre>\n"
      ],
      "text/plain": [
       "\u001b[1m Optimizer params: \u001b[0m\u001b[38;5;34m68,158\u001b[0m (266.25 KB)\n"
      ]
     },
     "metadata": {},
     "output_type": "display_data"
    },
    {
     "name": "stdout",
     "output_type": "stream",
     "text": [
      "\n",
      "Checking model: model_058_acc_0.8353.keras\n",
      "Model model_058_acc_0.8353.keras has 77906 trainable parameters, exceeding the threshold of 40000.\n",
      "\n",
      "Checking model: model_059_acc_0.8506.keras\n",
      "Model model_059_acc_0.8506.keras has 244338 trainable parameters, exceeding the threshold of 40000.\n",
      "\n",
      "Checking model: model_077_acc_0.8076.keras\n",
      "Model model_077_acc_0.8076.keras has 87410 trainable parameters, exceeding the threshold of 40000.\n",
      "\n",
      "Checking model: model_085_acc_0.8247.keras\n",
      "Model model_085_acc_0.8247.keras has 174034 trainable parameters, exceeding the threshold of 40000.\n",
      "\n",
      "Checking model: model_129_acc_0.8312.keras\n",
      "Model model_129_acc_0.8312.keras has 14570 trainable parameters, below the threshold of 40000.\n"
     ]
    },
    {
     "data": {
      "text/html": [
       "<pre style=\"white-space:pre;overflow-x:auto;line-height:normal;font-family:Menlo,'DejaVu Sans Mono',consolas,'Courier New',monospace\"><span style=\"font-weight: bold\">Model: \"sequential_5\"</span>\n",
       "</pre>\n"
      ],
      "text/plain": [
       "\u001b[1mModel: \"sequential_5\"\u001b[0m\n"
      ]
     },
     "metadata": {},
     "output_type": "display_data"
    },
    {
     "data": {
      "text/html": [
       "<pre style=\"white-space:pre;overflow-x:auto;line-height:normal;font-family:Menlo,'DejaVu Sans Mono',consolas,'Courier New',monospace\">┏━━━━━━━━━━━━━━━━━━━━━━━━━━━━━━━━━┳━━━━━━━━━━━━━━━━━━━━━━━━┳━━━━━━━━━━━━━━━┓\n",
       "┃<span style=\"font-weight: bold\"> Layer (type)                    </span>┃<span style=\"font-weight: bold\"> Output Shape           </span>┃<span style=\"font-weight: bold\">       Param # </span>┃\n",
       "┡━━━━━━━━━━━━━━━━━━━━━━━━━━━━━━━━━╇━━━━━━━━━━━━━━━━━━━━━━━━╇━━━━━━━━━━━━━━━┩\n",
       "│ conv2d_4 (<span style=\"color: #0087ff; text-decoration-color: #0087ff\">Conv2D</span>)               │ (<span style=\"color: #00d7ff; text-decoration-color: #00d7ff\">None</span>, <span style=\"color: #00af00; text-decoration-color: #00af00\">58</span>, <span style=\"color: #00af00; text-decoration-color: #00af00\">60</span>, <span style=\"color: #00af00; text-decoration-color: #00af00\">16</span>)     │         <span style=\"color: #00af00; text-decoration-color: #00af00\">1,616</span> │\n",
       "├─────────────────────────────────┼────────────────────────┼───────────────┤\n",
       "│ max_pooling2d_4 (<span style=\"color: #0087ff; text-decoration-color: #0087ff\">MaxPooling2D</span>)  │ (<span style=\"color: #00d7ff; text-decoration-color: #00d7ff\">None</span>, <span style=\"color: #00af00; text-decoration-color: #00af00\">29</span>, <span style=\"color: #00af00; text-decoration-color: #00af00\">30</span>, <span style=\"color: #00af00; text-decoration-color: #00af00\">16</span>)     │             <span style=\"color: #00af00; text-decoration-color: #00af00\">0</span> │\n",
       "├─────────────────────────────────┼────────────────────────┼───────────────┤\n",
       "│ conv2d_5 (<span style=\"color: #0087ff; text-decoration-color: #0087ff\">Conv2D</span>)               │ (<span style=\"color: #00d7ff; text-decoration-color: #00d7ff\">None</span>, <span style=\"color: #00af00; text-decoration-color: #00af00\">6</span>, <span style=\"color: #00af00; text-decoration-color: #00af00\">6</span>, <span style=\"color: #00af00; text-decoration-color: #00af00\">12</span>)       │        <span style=\"color: #00af00; text-decoration-color: #00af00\">12,300</span> │\n",
       "├─────────────────────────────────┼────────────────────────┼───────────────┤\n",
       "│ max_pooling2d_5 (<span style=\"color: #0087ff; text-decoration-color: #0087ff\">MaxPooling2D</span>)  │ (<span style=\"color: #00d7ff; text-decoration-color: #00d7ff\">None</span>, <span style=\"color: #00af00; text-decoration-color: #00af00\">3</span>, <span style=\"color: #00af00; text-decoration-color: #00af00\">3</span>, <span style=\"color: #00af00; text-decoration-color: #00af00\">12</span>)       │             <span style=\"color: #00af00; text-decoration-color: #00af00\">0</span> │\n",
       "├─────────────────────────────────┼────────────────────────┼───────────────┤\n",
       "│ dropout_1 (<span style=\"color: #0087ff; text-decoration-color: #0087ff\">Dropout</span>)             │ (<span style=\"color: #00d7ff; text-decoration-color: #00d7ff\">None</span>, <span style=\"color: #00af00; text-decoration-color: #00af00\">3</span>, <span style=\"color: #00af00; text-decoration-color: #00af00\">3</span>, <span style=\"color: #00af00; text-decoration-color: #00af00\">12</span>)       │             <span style=\"color: #00af00; text-decoration-color: #00af00\">0</span> │\n",
       "├─────────────────────────────────┼────────────────────────┼───────────────┤\n",
       "│ flatten_3 (<span style=\"color: #0087ff; text-decoration-color: #0087ff\">Flatten</span>)             │ (<span style=\"color: #00d7ff; text-decoration-color: #00d7ff\">None</span>, <span style=\"color: #00af00; text-decoration-color: #00af00\">108</span>)            │             <span style=\"color: #00af00; text-decoration-color: #00af00\">0</span> │\n",
       "├─────────────────────────────────┼────────────────────────┼───────────────┤\n",
       "│ dense_3 (<span style=\"color: #0087ff; text-decoration-color: #0087ff\">Dense</span>)                 │ (<span style=\"color: #00d7ff; text-decoration-color: #00d7ff\">None</span>, <span style=\"color: #00af00; text-decoration-color: #00af00\">6</span>)              │           <span style=\"color: #00af00; text-decoration-color: #00af00\">654</span> │\n",
       "└─────────────────────────────────┴────────────────────────┴───────────────┘\n",
       "</pre>\n"
      ],
      "text/plain": [
       "┏━━━━━━━━━━━━━━━━━━━━━━━━━━━━━━━━━┳━━━━━━━━━━━━━━━━━━━━━━━━┳━━━━━━━━━━━━━━━┓\n",
       "┃\u001b[1m \u001b[0m\u001b[1mLayer (type)                   \u001b[0m\u001b[1m \u001b[0m┃\u001b[1m \u001b[0m\u001b[1mOutput Shape          \u001b[0m\u001b[1m \u001b[0m┃\u001b[1m \u001b[0m\u001b[1m      Param #\u001b[0m\u001b[1m \u001b[0m┃\n",
       "┡━━━━━━━━━━━━━━━━━━━━━━━━━━━━━━━━━╇━━━━━━━━━━━━━━━━━━━━━━━━╇━━━━━━━━━━━━━━━┩\n",
       "│ conv2d_4 (\u001b[38;5;33mConv2D\u001b[0m)               │ (\u001b[38;5;45mNone\u001b[0m, \u001b[38;5;34m58\u001b[0m, \u001b[38;5;34m60\u001b[0m, \u001b[38;5;34m16\u001b[0m)     │         \u001b[38;5;34m1,616\u001b[0m │\n",
       "├─────────────────────────────────┼────────────────────────┼───────────────┤\n",
       "│ max_pooling2d_4 (\u001b[38;5;33mMaxPooling2D\u001b[0m)  │ (\u001b[38;5;45mNone\u001b[0m, \u001b[38;5;34m29\u001b[0m, \u001b[38;5;34m30\u001b[0m, \u001b[38;5;34m16\u001b[0m)     │             \u001b[38;5;34m0\u001b[0m │\n",
       "├─────────────────────────────────┼────────────────────────┼───────────────┤\n",
       "│ conv2d_5 (\u001b[38;5;33mConv2D\u001b[0m)               │ (\u001b[38;5;45mNone\u001b[0m, \u001b[38;5;34m6\u001b[0m, \u001b[38;5;34m6\u001b[0m, \u001b[38;5;34m12\u001b[0m)       │        \u001b[38;5;34m12,300\u001b[0m │\n",
       "├─────────────────────────────────┼────────────────────────┼───────────────┤\n",
       "│ max_pooling2d_5 (\u001b[38;5;33mMaxPooling2D\u001b[0m)  │ (\u001b[38;5;45mNone\u001b[0m, \u001b[38;5;34m3\u001b[0m, \u001b[38;5;34m3\u001b[0m, \u001b[38;5;34m12\u001b[0m)       │             \u001b[38;5;34m0\u001b[0m │\n",
       "├─────────────────────────────────┼────────────────────────┼───────────────┤\n",
       "│ dropout_1 (\u001b[38;5;33mDropout\u001b[0m)             │ (\u001b[38;5;45mNone\u001b[0m, \u001b[38;5;34m3\u001b[0m, \u001b[38;5;34m3\u001b[0m, \u001b[38;5;34m12\u001b[0m)       │             \u001b[38;5;34m0\u001b[0m │\n",
       "├─────────────────────────────────┼────────────────────────┼───────────────┤\n",
       "│ flatten_3 (\u001b[38;5;33mFlatten\u001b[0m)             │ (\u001b[38;5;45mNone\u001b[0m, \u001b[38;5;34m108\u001b[0m)            │             \u001b[38;5;34m0\u001b[0m │\n",
       "├─────────────────────────────────┼────────────────────────┼───────────────┤\n",
       "│ dense_3 (\u001b[38;5;33mDense\u001b[0m)                 │ (\u001b[38;5;45mNone\u001b[0m, \u001b[38;5;34m6\u001b[0m)              │           \u001b[38;5;34m654\u001b[0m │\n",
       "└─────────────────────────────────┴────────────────────────┴───────────────┘\n"
      ]
     },
     "metadata": {},
     "output_type": "display_data"
    },
    {
     "data": {
      "text/html": [
       "<pre style=\"white-space:pre;overflow-x:auto;line-height:normal;font-family:Menlo,'DejaVu Sans Mono',consolas,'Courier New',monospace\"><span style=\"font-weight: bold\"> Total params: </span><span style=\"color: #00af00; text-decoration-color: #00af00\">43,712</span> (170.75 KB)\n",
       "</pre>\n"
      ],
      "text/plain": [
       "\u001b[1m Total params: \u001b[0m\u001b[38;5;34m43,712\u001b[0m (170.75 KB)\n"
      ]
     },
     "metadata": {},
     "output_type": "display_data"
    },
    {
     "data": {
      "text/html": [
       "<pre style=\"white-space:pre;overflow-x:auto;line-height:normal;font-family:Menlo,'DejaVu Sans Mono',consolas,'Courier New',monospace\"><span style=\"font-weight: bold\"> Trainable params: </span><span style=\"color: #00af00; text-decoration-color: #00af00\">14,570</span> (56.91 KB)\n",
       "</pre>\n"
      ],
      "text/plain": [
       "\u001b[1m Trainable params: \u001b[0m\u001b[38;5;34m14,570\u001b[0m (56.91 KB)\n"
      ]
     },
     "metadata": {},
     "output_type": "display_data"
    },
    {
     "data": {
      "text/html": [
       "<pre style=\"white-space:pre;overflow-x:auto;line-height:normal;font-family:Menlo,'DejaVu Sans Mono',consolas,'Courier New',monospace\"><span style=\"font-weight: bold\"> Non-trainable params: </span><span style=\"color: #00af00; text-decoration-color: #00af00\">0</span> (0.00 B)\n",
       "</pre>\n"
      ],
      "text/plain": [
       "\u001b[1m Non-trainable params: \u001b[0m\u001b[38;5;34m0\u001b[0m (0.00 B)\n"
      ]
     },
     "metadata": {},
     "output_type": "display_data"
    },
    {
     "data": {
      "text/html": [
       "<pre style=\"white-space:pre;overflow-x:auto;line-height:normal;font-family:Menlo,'DejaVu Sans Mono',consolas,'Courier New',monospace\"><span style=\"font-weight: bold\"> Optimizer params: </span><span style=\"color: #00af00; text-decoration-color: #00af00\">29,142</span> (113.84 KB)\n",
       "</pre>\n"
      ],
      "text/plain": [
       "\u001b[1m Optimizer params: \u001b[0m\u001b[38;5;34m29,142\u001b[0m (113.84 KB)\n"
      ]
     },
     "metadata": {},
     "output_type": "display_data"
    },
    {
     "name": "stdout",
     "output_type": "stream",
     "text": [
      "\n",
      "Checking model: model_16_acc_0.7018.keras\n",
      "Model model_16_acc_0.7018.keras has 121944 trainable parameters, exceeding the threshold of 40000.\n",
      "\n",
      "Checking model: model_191_acc_0.8029.keras\n",
      "Model model_191_acc_0.8029.keras has 30514 trainable parameters, below the threshold of 40000.\n"
     ]
    },
    {
     "name": "stderr",
     "output_type": "stream",
     "text": [
      "c:\\Users\\adamk\\anaconda3\\Lib\\site-packages\\keras\\src\\saving\\saving_lib.py:562: UserWarning: Skipping variable loading for optimizer 'adam', because it has 10 variables whereas the saved optimizer has 2 variables. \n",
      "  model,\n"
     ]
    },
    {
     "data": {
      "text/html": [
       "<pre style=\"white-space:pre;overflow-x:auto;line-height:normal;font-family:Menlo,'DejaVu Sans Mono',consolas,'Courier New',monospace\"><span style=\"font-weight: bold\">Model: \"sequential_7\"</span>\n",
       "</pre>\n"
      ],
      "text/plain": [
       "\u001b[1mModel: \"sequential_7\"\u001b[0m\n"
      ]
     },
     "metadata": {},
     "output_type": "display_data"
    },
    {
     "data": {
      "text/html": [
       "<pre style=\"white-space:pre;overflow-x:auto;line-height:normal;font-family:Menlo,'DejaVu Sans Mono',consolas,'Courier New',monospace\">┏━━━━━━━━━━━━━━━━━━━━━━━━━━━━━━━━━┳━━━━━━━━━━━━━━━━━━━━━━━━┳━━━━━━━━━━━━━━━┓\n",
       "┃<span style=\"font-weight: bold\"> Layer (type)                    </span>┃<span style=\"font-weight: bold\"> Output Shape           </span>┃<span style=\"font-weight: bold\">       Param # </span>┃\n",
       "┡━━━━━━━━━━━━━━━━━━━━━━━━━━━━━━━━━╇━━━━━━━━━━━━━━━━━━━━━━━━╇━━━━━━━━━━━━━━━┩\n",
       "│ conv2d_8 (<span style=\"color: #0087ff; text-decoration-color: #0087ff\">Conv2D</span>)               │ (<span style=\"color: #00d7ff; text-decoration-color: #00d7ff\">None</span>, <span style=\"color: #00af00; text-decoration-color: #00af00\">60</span>, <span style=\"color: #00af00; text-decoration-color: #00af00\">62</span>, <span style=\"color: #00af00; text-decoration-color: #00af00\">12</span>)     │           <span style=\"color: #00af00; text-decoration-color: #00af00\">444</span> │\n",
       "├─────────────────────────────────┼────────────────────────┼───────────────┤\n",
       "│ max_pooling2d_8 (<span style=\"color: #0087ff; text-decoration-color: #0087ff\">MaxPooling2D</span>)  │ (<span style=\"color: #00d7ff; text-decoration-color: #00d7ff\">None</span>, <span style=\"color: #00af00; text-decoration-color: #00af00\">30</span>, <span style=\"color: #00af00; text-decoration-color: #00af00\">31</span>, <span style=\"color: #00af00; text-decoration-color: #00af00\">12</span>)     │             <span style=\"color: #00af00; text-decoration-color: #00af00\">0</span> │\n",
       "├─────────────────────────────────┼────────────────────────┼───────────────┤\n",
       "│ conv2d_9 (<span style=\"color: #0087ff; text-decoration-color: #0087ff\">Conv2D</span>)               │ (<span style=\"color: #00d7ff; text-decoration-color: #00d7ff\">None</span>, <span style=\"color: #00af00; text-decoration-color: #00af00\">10</span>, <span style=\"color: #00af00; text-decoration-color: #00af00\">10</span>, <span style=\"color: #00af00; text-decoration-color: #00af00\">16</span>)     │        <span style=\"color: #00af00; text-decoration-color: #00af00\">27,664</span> │\n",
       "├─────────────────────────────────┼────────────────────────┼───────────────┤\n",
       "│ max_pooling2d_9 (<span style=\"color: #0087ff; text-decoration-color: #0087ff\">MaxPooling2D</span>)  │ (<span style=\"color: #00d7ff; text-decoration-color: #00d7ff\">None</span>, <span style=\"color: #00af00; text-decoration-color: #00af00\">5</span>, <span style=\"color: #00af00; text-decoration-color: #00af00\">5</span>, <span style=\"color: #00af00; text-decoration-color: #00af00\">16</span>)       │             <span style=\"color: #00af00; text-decoration-color: #00af00\">0</span> │\n",
       "├─────────────────────────────────┼────────────────────────┼───────────────┤\n",
       "│ dropout_3 (<span style=\"color: #0087ff; text-decoration-color: #0087ff\">Dropout</span>)             │ (<span style=\"color: #00d7ff; text-decoration-color: #00d7ff\">None</span>, <span style=\"color: #00af00; text-decoration-color: #00af00\">5</span>, <span style=\"color: #00af00; text-decoration-color: #00af00\">5</span>, <span style=\"color: #00af00; text-decoration-color: #00af00\">16</span>)       │             <span style=\"color: #00af00; text-decoration-color: #00af00\">0</span> │\n",
       "├─────────────────────────────────┼────────────────────────┼───────────────┤\n",
       "│ flatten_5 (<span style=\"color: #0087ff; text-decoration-color: #0087ff\">Flatten</span>)             │ (<span style=\"color: #00d7ff; text-decoration-color: #00d7ff\">None</span>, <span style=\"color: #00af00; text-decoration-color: #00af00\">400</span>)            │             <span style=\"color: #00af00; text-decoration-color: #00af00\">0</span> │\n",
       "├─────────────────────────────────┼────────────────────────┼───────────────┤\n",
       "│ dense_6 (<span style=\"color: #0087ff; text-decoration-color: #0087ff\">Dense</span>)                 │ (<span style=\"color: #00d7ff; text-decoration-color: #00d7ff\">None</span>, <span style=\"color: #00af00; text-decoration-color: #00af00\">6</span>)              │         <span style=\"color: #00af00; text-decoration-color: #00af00\">2,406</span> │\n",
       "└─────────────────────────────────┴────────────────────────┴───────────────┘\n",
       "</pre>\n"
      ],
      "text/plain": [
       "┏━━━━━━━━━━━━━━━━━━━━━━━━━━━━━━━━━┳━━━━━━━━━━━━━━━━━━━━━━━━┳━━━━━━━━━━━━━━━┓\n",
       "┃\u001b[1m \u001b[0m\u001b[1mLayer (type)                   \u001b[0m\u001b[1m \u001b[0m┃\u001b[1m \u001b[0m\u001b[1mOutput Shape          \u001b[0m\u001b[1m \u001b[0m┃\u001b[1m \u001b[0m\u001b[1m      Param #\u001b[0m\u001b[1m \u001b[0m┃\n",
       "┡━━━━━━━━━━━━━━━━━━━━━━━━━━━━━━━━━╇━━━━━━━━━━━━━━━━━━━━━━━━╇━━━━━━━━━━━━━━━┩\n",
       "│ conv2d_8 (\u001b[38;5;33mConv2D\u001b[0m)               │ (\u001b[38;5;45mNone\u001b[0m, \u001b[38;5;34m60\u001b[0m, \u001b[38;5;34m62\u001b[0m, \u001b[38;5;34m12\u001b[0m)     │           \u001b[38;5;34m444\u001b[0m │\n",
       "├─────────────────────────────────┼────────────────────────┼───────────────┤\n",
       "│ max_pooling2d_8 (\u001b[38;5;33mMaxPooling2D\u001b[0m)  │ (\u001b[38;5;45mNone\u001b[0m, \u001b[38;5;34m30\u001b[0m, \u001b[38;5;34m31\u001b[0m, \u001b[38;5;34m12\u001b[0m)     │             \u001b[38;5;34m0\u001b[0m │\n",
       "├─────────────────────────────────┼────────────────────────┼───────────────┤\n",
       "│ conv2d_9 (\u001b[38;5;33mConv2D\u001b[0m)               │ (\u001b[38;5;45mNone\u001b[0m, \u001b[38;5;34m10\u001b[0m, \u001b[38;5;34m10\u001b[0m, \u001b[38;5;34m16\u001b[0m)     │        \u001b[38;5;34m27,664\u001b[0m │\n",
       "├─────────────────────────────────┼────────────────────────┼───────────────┤\n",
       "│ max_pooling2d_9 (\u001b[38;5;33mMaxPooling2D\u001b[0m)  │ (\u001b[38;5;45mNone\u001b[0m, \u001b[38;5;34m5\u001b[0m, \u001b[38;5;34m5\u001b[0m, \u001b[38;5;34m16\u001b[0m)       │             \u001b[38;5;34m0\u001b[0m │\n",
       "├─────────────────────────────────┼────────────────────────┼───────────────┤\n",
       "│ dropout_3 (\u001b[38;5;33mDropout\u001b[0m)             │ (\u001b[38;5;45mNone\u001b[0m, \u001b[38;5;34m5\u001b[0m, \u001b[38;5;34m5\u001b[0m, \u001b[38;5;34m16\u001b[0m)       │             \u001b[38;5;34m0\u001b[0m │\n",
       "├─────────────────────────────────┼────────────────────────┼───────────────┤\n",
       "│ flatten_5 (\u001b[38;5;33mFlatten\u001b[0m)             │ (\u001b[38;5;45mNone\u001b[0m, \u001b[38;5;34m400\u001b[0m)            │             \u001b[38;5;34m0\u001b[0m │\n",
       "├─────────────────────────────────┼────────────────────────┼───────────────┤\n",
       "│ dense_6 (\u001b[38;5;33mDense\u001b[0m)                 │ (\u001b[38;5;45mNone\u001b[0m, \u001b[38;5;34m6\u001b[0m)              │         \u001b[38;5;34m2,406\u001b[0m │\n",
       "└─────────────────────────────────┴────────────────────────┴───────────────┘\n"
      ]
     },
     "metadata": {},
     "output_type": "display_data"
    },
    {
     "data": {
      "text/html": [
       "<pre style=\"white-space:pre;overflow-x:auto;line-height:normal;font-family:Menlo,'DejaVu Sans Mono',consolas,'Courier New',monospace\"><span style=\"font-weight: bold\"> Total params: </span><span style=\"color: #00af00; text-decoration-color: #00af00\">91,544</span> (357.60 KB)\n",
       "</pre>\n"
      ],
      "text/plain": [
       "\u001b[1m Total params: \u001b[0m\u001b[38;5;34m91,544\u001b[0m (357.60 KB)\n"
      ]
     },
     "metadata": {},
     "output_type": "display_data"
    },
    {
     "data": {
      "text/html": [
       "<pre style=\"white-space:pre;overflow-x:auto;line-height:normal;font-family:Menlo,'DejaVu Sans Mono',consolas,'Courier New',monospace\"><span style=\"font-weight: bold\"> Trainable params: </span><span style=\"color: #00af00; text-decoration-color: #00af00\">30,514</span> (119.20 KB)\n",
       "</pre>\n"
      ],
      "text/plain": [
       "\u001b[1m Trainable params: \u001b[0m\u001b[38;5;34m30,514\u001b[0m (119.20 KB)\n"
      ]
     },
     "metadata": {},
     "output_type": "display_data"
    },
    {
     "data": {
      "text/html": [
       "<pre style=\"white-space:pre;overflow-x:auto;line-height:normal;font-family:Menlo,'DejaVu Sans Mono',consolas,'Courier New',monospace\"><span style=\"font-weight: bold\"> Non-trainable params: </span><span style=\"color: #00af00; text-decoration-color: #00af00\">0</span> (0.00 B)\n",
       "</pre>\n"
      ],
      "text/plain": [
       "\u001b[1m Non-trainable params: \u001b[0m\u001b[38;5;34m0\u001b[0m (0.00 B)\n"
      ]
     },
     "metadata": {},
     "output_type": "display_data"
    },
    {
     "data": {
      "text/html": [
       "<pre style=\"white-space:pre;overflow-x:auto;line-height:normal;font-family:Menlo,'DejaVu Sans Mono',consolas,'Courier New',monospace\"><span style=\"font-weight: bold\"> Optimizer params: </span><span style=\"color: #00af00; text-decoration-color: #00af00\">61,030</span> (238.40 KB)\n",
       "</pre>\n"
      ],
      "text/plain": [
       "\u001b[1m Optimizer params: \u001b[0m\u001b[38;5;34m61,030\u001b[0m (238.40 KB)\n"
      ]
     },
     "metadata": {},
     "output_type": "display_data"
    },
    {
     "name": "stdout",
     "output_type": "stream",
     "text": [
      "\n",
      "Checking model: model_27_acc_0.8265.keras\n",
      "Model model_27_acc_0.8265.keras has 33002 trainable parameters, below the threshold of 40000.\n"
     ]
    },
    {
     "data": {
      "text/html": [
       "<pre style=\"white-space:pre;overflow-x:auto;line-height:normal;font-family:Menlo,'DejaVu Sans Mono',consolas,'Courier New',monospace\"><span style=\"font-weight: bold\">Model: \"sequential_6\"</span>\n",
       "</pre>\n"
      ],
      "text/plain": [
       "\u001b[1mModel: \"sequential_6\"\u001b[0m\n"
      ]
     },
     "metadata": {},
     "output_type": "display_data"
    },
    {
     "data": {
      "text/html": [
       "<pre style=\"white-space:pre;overflow-x:auto;line-height:normal;font-family:Menlo,'DejaVu Sans Mono',consolas,'Courier New',monospace\">┏━━━━━━━━━━━━━━━━━━━━━━━━━━━━━━━━━┳━━━━━━━━━━━━━━━━━━━━━━━━┳━━━━━━━━━━━━━━━┓\n",
       "┃<span style=\"font-weight: bold\"> Layer (type)                    </span>┃<span style=\"font-weight: bold\"> Output Shape           </span>┃<span style=\"font-weight: bold\">       Param # </span>┃\n",
       "┡━━━━━━━━━━━━━━━━━━━━━━━━━━━━━━━━━╇━━━━━━━━━━━━━━━━━━━━━━━━╇━━━━━━━━━━━━━━━┩\n",
       "│ conv2d_6 (<span style=\"color: #0087ff; text-decoration-color: #0087ff\">Conv2D</span>)               │ (<span style=\"color: #00d7ff; text-decoration-color: #00d7ff\">None</span>, <span style=\"color: #00af00; text-decoration-color: #00af00\">58</span>, <span style=\"color: #00af00; text-decoration-color: #00af00\">60</span>, <span style=\"color: #00af00; text-decoration-color: #00af00\">12</span>)     │         <span style=\"color: #00af00; text-decoration-color: #00af00\">1,212</span> │\n",
       "├─────────────────────────────────┼────────────────────────┼───────────────┤\n",
       "│ max_pooling2d_6 (<span style=\"color: #0087ff; text-decoration-color: #0087ff\">MaxPooling2D</span>)  │ (<span style=\"color: #00d7ff; text-decoration-color: #00d7ff\">None</span>, <span style=\"color: #00af00; text-decoration-color: #00af00\">29</span>, <span style=\"color: #00af00; text-decoration-color: #00af00\">30</span>, <span style=\"color: #00af00; text-decoration-color: #00af00\">12</span>)     │             <span style=\"color: #00af00; text-decoration-color: #00af00\">0</span> │\n",
       "├─────────────────────────────────┼────────────────────────┼───────────────┤\n",
       "│ conv2d_7 (<span style=\"color: #0087ff; text-decoration-color: #0087ff\">Conv2D</span>)               │ (<span style=\"color: #00d7ff; text-decoration-color: #00d7ff\">None</span>, <span style=\"color: #00af00; text-decoration-color: #00af00\">12</span>, <span style=\"color: #00af00; text-decoration-color: #00af00\">13</span>, <span style=\"color: #00af00; text-decoration-color: #00af00\">8</span>)      │         <span style=\"color: #00af00; text-decoration-color: #00af00\">3,464</span> │\n",
       "├─────────────────────────────────┼────────────────────────┼───────────────┤\n",
       "│ max_pooling2d_7 (<span style=\"color: #0087ff; text-decoration-color: #0087ff\">MaxPooling2D</span>)  │ (<span style=\"color: #00d7ff; text-decoration-color: #00d7ff\">None</span>, <span style=\"color: #00af00; text-decoration-color: #00af00\">6</span>, <span style=\"color: #00af00; text-decoration-color: #00af00\">6</span>, <span style=\"color: #00af00; text-decoration-color: #00af00\">8</span>)        │             <span style=\"color: #00af00; text-decoration-color: #00af00\">0</span> │\n",
       "├─────────────────────────────────┼────────────────────────┼───────────────┤\n",
       "│ dropout_2 (<span style=\"color: #0087ff; text-decoration-color: #0087ff\">Dropout</span>)             │ (<span style=\"color: #00d7ff; text-decoration-color: #00d7ff\">None</span>, <span style=\"color: #00af00; text-decoration-color: #00af00\">6</span>, <span style=\"color: #00af00; text-decoration-color: #00af00\">6</span>, <span style=\"color: #00af00; text-decoration-color: #00af00\">8</span>)        │             <span style=\"color: #00af00; text-decoration-color: #00af00\">0</span> │\n",
       "├─────────────────────────────────┼────────────────────────┼───────────────┤\n",
       "│ flatten_4 (<span style=\"color: #0087ff; text-decoration-color: #0087ff\">Flatten</span>)             │ (<span style=\"color: #00d7ff; text-decoration-color: #00d7ff\">None</span>, <span style=\"color: #00af00; text-decoration-color: #00af00\">288</span>)            │             <span style=\"color: #00af00; text-decoration-color: #00af00\">0</span> │\n",
       "├─────────────────────────────────┼────────────────────────┼───────────────┤\n",
       "│ dense_6 (<span style=\"color: #0087ff; text-decoration-color: #0087ff\">Dense</span>)                 │ (<span style=\"color: #00d7ff; text-decoration-color: #00d7ff\">None</span>, <span style=\"color: #00af00; text-decoration-color: #00af00\">96</span>)             │        <span style=\"color: #00af00; text-decoration-color: #00af00\">27,744</span> │\n",
       "├─────────────────────────────────┼────────────────────────┼───────────────┤\n",
       "│ dense_7 (<span style=\"color: #0087ff; text-decoration-color: #0087ff\">Dense</span>)                 │ (<span style=\"color: #00d7ff; text-decoration-color: #00d7ff\">None</span>, <span style=\"color: #00af00; text-decoration-color: #00af00\">6</span>)              │           <span style=\"color: #00af00; text-decoration-color: #00af00\">582</span> │\n",
       "└─────────────────────────────────┴────────────────────────┴───────────────┘\n",
       "</pre>\n"
      ],
      "text/plain": [
       "┏━━━━━━━━━━━━━━━━━━━━━━━━━━━━━━━━━┳━━━━━━━━━━━━━━━━━━━━━━━━┳━━━━━━━━━━━━━━━┓\n",
       "┃\u001b[1m \u001b[0m\u001b[1mLayer (type)                   \u001b[0m\u001b[1m \u001b[0m┃\u001b[1m \u001b[0m\u001b[1mOutput Shape          \u001b[0m\u001b[1m \u001b[0m┃\u001b[1m \u001b[0m\u001b[1m      Param #\u001b[0m\u001b[1m \u001b[0m┃\n",
       "┡━━━━━━━━━━━━━━━━━━━━━━━━━━━━━━━━━╇━━━━━━━━━━━━━━━━━━━━━━━━╇━━━━━━━━━━━━━━━┩\n",
       "│ conv2d_6 (\u001b[38;5;33mConv2D\u001b[0m)               │ (\u001b[38;5;45mNone\u001b[0m, \u001b[38;5;34m58\u001b[0m, \u001b[38;5;34m60\u001b[0m, \u001b[38;5;34m12\u001b[0m)     │         \u001b[38;5;34m1,212\u001b[0m │\n",
       "├─────────────────────────────────┼────────────────────────┼───────────────┤\n",
       "│ max_pooling2d_6 (\u001b[38;5;33mMaxPooling2D\u001b[0m)  │ (\u001b[38;5;45mNone\u001b[0m, \u001b[38;5;34m29\u001b[0m, \u001b[38;5;34m30\u001b[0m, \u001b[38;5;34m12\u001b[0m)     │             \u001b[38;5;34m0\u001b[0m │\n",
       "├─────────────────────────────────┼────────────────────────┼───────────────┤\n",
       "│ conv2d_7 (\u001b[38;5;33mConv2D\u001b[0m)               │ (\u001b[38;5;45mNone\u001b[0m, \u001b[38;5;34m12\u001b[0m, \u001b[38;5;34m13\u001b[0m, \u001b[38;5;34m8\u001b[0m)      │         \u001b[38;5;34m3,464\u001b[0m │\n",
       "├─────────────────────────────────┼────────────────────────┼───────────────┤\n",
       "│ max_pooling2d_7 (\u001b[38;5;33mMaxPooling2D\u001b[0m)  │ (\u001b[38;5;45mNone\u001b[0m, \u001b[38;5;34m6\u001b[0m, \u001b[38;5;34m6\u001b[0m, \u001b[38;5;34m8\u001b[0m)        │             \u001b[38;5;34m0\u001b[0m │\n",
       "├─────────────────────────────────┼────────────────────────┼───────────────┤\n",
       "│ dropout_2 (\u001b[38;5;33mDropout\u001b[0m)             │ (\u001b[38;5;45mNone\u001b[0m, \u001b[38;5;34m6\u001b[0m, \u001b[38;5;34m6\u001b[0m, \u001b[38;5;34m8\u001b[0m)        │             \u001b[38;5;34m0\u001b[0m │\n",
       "├─────────────────────────────────┼────────────────────────┼───────────────┤\n",
       "│ flatten_4 (\u001b[38;5;33mFlatten\u001b[0m)             │ (\u001b[38;5;45mNone\u001b[0m, \u001b[38;5;34m288\u001b[0m)            │             \u001b[38;5;34m0\u001b[0m │\n",
       "├─────────────────────────────────┼────────────────────────┼───────────────┤\n",
       "│ dense_6 (\u001b[38;5;33mDense\u001b[0m)                 │ (\u001b[38;5;45mNone\u001b[0m, \u001b[38;5;34m96\u001b[0m)             │        \u001b[38;5;34m27,744\u001b[0m │\n",
       "├─────────────────────────────────┼────────────────────────┼───────────────┤\n",
       "│ dense_7 (\u001b[38;5;33mDense\u001b[0m)                 │ (\u001b[38;5;45mNone\u001b[0m, \u001b[38;5;34m6\u001b[0m)              │           \u001b[38;5;34m582\u001b[0m │\n",
       "└─────────────────────────────────┴────────────────────────┴───────────────┘\n"
      ]
     },
     "metadata": {},
     "output_type": "display_data"
    },
    {
     "data": {
      "text/html": [
       "<pre style=\"white-space:pre;overflow-x:auto;line-height:normal;font-family:Menlo,'DejaVu Sans Mono',consolas,'Courier New',monospace\"><span style=\"font-weight: bold\"> Total params: </span><span style=\"color: #00af00; text-decoration-color: #00af00\">99,008</span> (386.75 KB)\n",
       "</pre>\n"
      ],
      "text/plain": [
       "\u001b[1m Total params: \u001b[0m\u001b[38;5;34m99,008\u001b[0m (386.75 KB)\n"
      ]
     },
     "metadata": {},
     "output_type": "display_data"
    },
    {
     "data": {
      "text/html": [
       "<pre style=\"white-space:pre;overflow-x:auto;line-height:normal;font-family:Menlo,'DejaVu Sans Mono',consolas,'Courier New',monospace\"><span style=\"font-weight: bold\"> Trainable params: </span><span style=\"color: #00af00; text-decoration-color: #00af00\">33,002</span> (128.91 KB)\n",
       "</pre>\n"
      ],
      "text/plain": [
       "\u001b[1m Trainable params: \u001b[0m\u001b[38;5;34m33,002\u001b[0m (128.91 KB)\n"
      ]
     },
     "metadata": {},
     "output_type": "display_data"
    },
    {
     "data": {
      "text/html": [
       "<pre style=\"white-space:pre;overflow-x:auto;line-height:normal;font-family:Menlo,'DejaVu Sans Mono',consolas,'Courier New',monospace\"><span style=\"font-weight: bold\"> Non-trainable params: </span><span style=\"color: #00af00; text-decoration-color: #00af00\">0</span> (0.00 B)\n",
       "</pre>\n"
      ],
      "text/plain": [
       "\u001b[1m Non-trainable params: \u001b[0m\u001b[38;5;34m0\u001b[0m (0.00 B)\n"
      ]
     },
     "metadata": {},
     "output_type": "display_data"
    },
    {
     "data": {
      "text/html": [
       "<pre style=\"white-space:pre;overflow-x:auto;line-height:normal;font-family:Menlo,'DejaVu Sans Mono',consolas,'Courier New',monospace\"><span style=\"font-weight: bold\"> Optimizer params: </span><span style=\"color: #00af00; text-decoration-color: #00af00\">66,006</span> (257.84 KB)\n",
       "</pre>\n"
      ],
      "text/plain": [
       "\u001b[1m Optimizer params: \u001b[0m\u001b[38;5;34m66,006\u001b[0m (257.84 KB)\n"
      ]
     },
     "metadata": {},
     "output_type": "display_data"
    }
   ],
   "source": [
    "\n",
    "\n",
    "# Directory where the models are saved\n",
    "save_dir = \"NAS_generated_models/\"\n",
    "\n",
    "# Set a parameter threshold\n",
    "parameter_threshold = 40000  # Adjust this value to your desired threshold\n",
    "\n",
    "small_models_above_threshold = []\n",
    "\n",
    "# Iterate through each file in the save directory\n",
    "for root, dirs, files in os.walk(save_dir):\n",
    "    for file in files:\n",
    "        model_path = os.path.join(root, file)\n",
    "        print(f\"\\nChecking model: {file}\")\n",
    "        \n",
    "        # Load the model\n",
    "        loaded_model = tf.keras.models.load_model(model_path)\n",
    "\n",
    "        # Get the number of trainable parameters\n",
    "        num_params = loaded_model.count_params()\n",
    "        \n",
    "        # Print the model summary if it meets the parameter threshold\n",
    "        if num_params < parameter_threshold:\n",
    "            print(f\"Model {file} has {num_params} trainable parameters, below the threshold of {parameter_threshold}.\")\n",
    "            loaded_model.summary()\n",
    "            # Add the model to the list\n",
    "            small_models_above_threshold.append(loaded_model)\n",
    "        else:\n",
    "            print(f\"Model {file} has {num_params} trainable parameters, exceeding the threshold of {parameter_threshold}.\")\n"
   ]
  },
  {
   "cell_type": "markdown",
   "metadata": {},
   "source": [
    "# Weight initializations?"
   ]
  },
  {
   "cell_type": "code",
   "execution_count": null,
   "metadata": {},
   "outputs": [],
   "source": []
  },
  {
   "cell_type": "markdown",
   "metadata": {},
   "source": [
    "## Train Models"
   ]
  },
  {
   "cell_type": "code",
   "execution_count": 257,
   "metadata": {},
   "outputs": [],
   "source": [
    "def plot_training_history(history, model_index):\n",
    "    \"\"\"Plots training and validation accuracy and loss.\"\"\"\n",
    "    plt.figure(figsize=(12, 4))\n",
    "\n",
    "    # Plot accuracy\n",
    "    plt.subplot(1, 2, 1)\n",
    "    plt.plot(history.history['accuracy'], label='Training Accuracy')\n",
    "    plt.plot(history.history['val_accuracy'], label='Validation Accuracy')\n",
    "    plt.title(f'Model {model_index} Accuracy')\n",
    "    plt.xlabel('Epoch')\n",
    "    plt.ylabel('Accuracy')\n",
    "    plt.legend()\n",
    "\n",
    "    # Plot loss\n",
    "    plt.subplot(1, 2, 2)\n",
    "    plt.plot(history.history['loss'], label='Training Loss')\n",
    "    plt.plot(history.history['val_loss'], label='Validation Loss')\n",
    "    plt.title(f'Model {model_index} Loss')\n",
    "    plt.xlabel('Epoch')\n",
    "    plt.ylabel('Loss')\n",
    "    plt.legend()\n",
    "\n",
    "    plt.show()"
   ]
  },
  {
   "cell_type": "code",
   "execution_count": 259,
   "metadata": {},
   "outputs": [
    {
     "name": "stdout",
     "output_type": "stream",
     "text": [
      "\n",
      "Training Model 0\n",
      "Model: \"tiny_embed_conv_model\"\n",
      "_________________________________________________________________\n",
      " Layer (type)                Output Shape              Param #   \n",
      "=================================================================\n",
      " conv1 (Conv2D)              (None, 62, 65, 8)         648       \n",
      "                                                                 \n",
      " relu1 (ReLU)                (None, 62, 65, 8)         0         \n",
      "                                                                 \n",
      " dropout1 (Dropout)          (None, 62, 65, 8)         0         \n",
      "                                                                 \n",
      " conv2 (Conv2D)              (None, 8, 9, 8)           5128      \n",
      "                                                                 \n",
      " relu2 (ReLU)                (None, 8, 9, 8)           0         \n",
      "                                                                 \n",
      " dropout2 (Dropout)          (None, 8, 9, 8)           0         \n",
      "                                                                 \n",
      " flatten (Flatten)           (None, 576)               0         \n",
      "                                                                 \n",
      " fc2 (Dense)                 (None, 6)                 3462      \n",
      "                                                                 \n",
      "=================================================================\n",
      "Total params: 9238 (36.09 KB)\n",
      "Trainable params: 9238 (36.09 KB)\n",
      "Non-trainable params: 0 (0.00 Byte)\n",
      "_________________________________________________________________\n",
      "Epoch 1/10\n",
      "213/213 [==============================] - 8s 34ms/step - loss: 1.3548 - accuracy: 0.4978 - val_loss: 1.1705 - val_accuracy: 0.5747\n",
      "Epoch 2/10\n",
      "213/213 [==============================] - 7s 34ms/step - loss: 1.1108 - accuracy: 0.5810 - val_loss: 1.0134 - val_accuracy: 0.6135\n",
      "Epoch 3/10\n",
      "213/213 [==============================] - 7s 33ms/step - loss: 0.9892 - accuracy: 0.6235 - val_loss: 0.9001 - val_accuracy: 0.6671\n",
      "Epoch 4/10\n",
      "213/213 [==============================] - 7s 33ms/step - loss: 0.8962 - accuracy: 0.6679 - val_loss: 0.8250 - val_accuracy: 0.6906\n",
      "Epoch 5/10\n",
      "213/213 [==============================] - 7s 33ms/step - loss: 0.8386 - accuracy: 0.6882 - val_loss: 0.7611 - val_accuracy: 0.7353\n",
      "Epoch 6/10\n",
      "213/213 [==============================] - 7s 32ms/step - loss: 0.7833 - accuracy: 0.7110 - val_loss: 0.7108 - val_accuracy: 0.7465\n",
      "Epoch 7/10\n",
      "213/213 [==============================] - 7s 32ms/step - loss: 0.7481 - accuracy: 0.7209 - val_loss: 0.6793 - val_accuracy: 0.7547\n",
      "Epoch 8/10\n",
      "213/213 [==============================] - 7s 33ms/step - loss: 0.7045 - accuracy: 0.7348 - val_loss: 0.6537 - val_accuracy: 0.7647\n",
      "Epoch 9/10\n",
      "213/213 [==============================] - 7s 32ms/step - loss: 0.6814 - accuracy: 0.7485 - val_loss: 0.6332 - val_accuracy: 0.7700\n",
      "Epoch 10/10\n",
      "213/213 [==============================] - 7s 32ms/step - loss: 0.6678 - accuracy: 0.7550 - val_loss: 0.6050 - val_accuracy: 0.7765\n"
     ]
    },
    {
     "data": {
      "image/png": "[encoded data removed]",
      "text/plain": [
       "<Figure size 1200x400 with 2 Axes>"
      ]
     },
     "metadata": {},
     "output_type": "display_data"
    }
   ],
   "source": [
    "models = []\n",
    "histories = []\n",
    "sequential_models = True\n",
    "\n",
    "\n",
    "for i, create_model in enumerate([audio_models.create_tiny_embed_conv_model_small]):\n",
    "    print(f'\\nTraining Model {i}')\n",
    "    input_shape = (124, 129, 1)\n",
    "    model = create_model(input_shape)\n",
    "    \n",
    "    model.compile(\n",
    "        optimizer='adam',\n",
    "        loss=tf.keras.losses.SparseCategoricalCrossentropy(from_logits=True),\n",
    "        metrics=['accuracy']\n",
    "    )\n",
    "\n",
    "    model.summary()\n",
    "\n",
    "\n",
    "    history = model.fit(\n",
    "        train_spectrogram_ds,\n",
    "        validation_data=val_spectrogram_ds,\n",
    "        epochs=10,  # You can adjust the number of epochs\n",
    "        callbacks=keras.callbacks.EarlyStopping(verbose=1, patience=2, min_delta=0.01),\n",
    "        verbose = 1\n",
    "    )\n",
    "    models.append(model)\n",
    "    histories.append(history)\n",
    "    \n",
    "    plot_training_history(history, i)\n"
   ]
  },
  {
   "cell_type": "markdown",
   "metadata": {},
   "source": [
    "## Compile and test models"
   ]
  },
  {
   "cell_type": "code",
   "execution_count": 260,
   "metadata": {},
   "outputs": [
    {
     "data": {
      "text/plain": [
       "1"
      ]
     },
     "execution_count": 260,
     "metadata": {},
     "output_type": "execute_result"
    }
   ],
   "source": [
    "len(models)"
   ]
  },
  {
   "cell_type": "code",
   "execution_count": 261,
   "metadata": {},
   "outputs": [],
   "source": [
    "\n",
    "\n",
    "# Function to reload any serialized models (from bytes) if necessary\n",
    "def load_if_serialized(model):\n",
    "    if isinstance(model, bytes):\n",
    "        # Assuming the model was saved as bytes, use `tf.keras.models.model_from_json` or similar\n",
    "        raise TypeError(\"Model is in a serialized bytes format. Please load it as a Keras model before passing.\")\n",
    "    return model\n",
    "\n",
    "def get_gzipped_model_size(model):\n",
    "    # Save the model to a temporary file in .keras format\n",
    "    with tempfile.NamedTemporaryFile(suffix='.keras', delete=False) as temp_file:\n",
    "        model.save(temp_file.name)\n",
    "        model_filename = temp_file.name\n",
    "\n",
    "    # Compress the model file to calculate its gzipped size\n",
    "    with tempfile.NamedTemporaryFile(suffix='.zip', delete=False) as temp_zip:\n",
    "        zipped_file = temp_zip.name\n",
    "    with zipfile.ZipFile(zipped_file, 'w', compression=zipfile.ZIP_DEFLATED) as f:\n",
    "        f.write(model_filename, arcname='model.keras')\n",
    "\n",
    "    # Get the size of the gzipped model file in kilobytes\n",
    "    gzipped_size = os.path.getsize(zipped_file) / 1000  # Convert bytes to KB\n",
    "\n",
    "    # Clean up temporary files\n",
    "    os.remove(model_filename)\n",
    "    os.remove(zipped_file)\n",
    "\n",
    "    return gzipped_size\n",
    "\n",
    "def plot_size_v_accuracy(models, test_spectrogram_ds):\n",
    "    # Lists to store the results\n",
    "    accuracies = []\n",
    "    model_sizes = []\n",
    "    model_names = []\n",
    "\n",
    "    # Evaluate each model and store the results\n",
    "    for i, model in enumerate(models, start=1):\n",
    "        try:\n",
    "            # Load model if it's in serialized bytes format\n",
    "            model = load_if_serialized(model)\n",
    "\n",
    "            # Check if model is a Keras model instance\n",
    "            #if not isinstance(model, tf.keras.Model):\n",
    "            #    raise TypeError(f\"Model {i} is not a Keras model instance.\")\n",
    "\n",
    "            # Check if the model is compiled by looking for an optimizer\n",
    "            if model.optimizer is None:\n",
    "                model.compile(\n",
    "                    optimizer='adam',\n",
    "                    loss=tf.keras.losses.SparseCategoricalCrossentropy(from_logits=True),\n",
    "                    metrics=['accuracy']\n",
    "                )\n",
    "            \n",
    "            # Evaluate the model\n",
    "            test_loss, test_acc = model.evaluate(test_spectrogram_ds, verbose=0)\n",
    "\n",
    "            # Calculate the gzipped model size\n",
    "            gzipped_size = get_gzipped_model_size(model)\n",
    "\n",
    "            # Print the details\n",
    "            print(f\"Model {i} ({model.name}):\")\n",
    "            print(f\"  Gzipped Model Size: {gzipped_size:.2f} KB\")\n",
    "            print(f\"  Test Accuracy: {test_acc:.4f}\")\n",
    "            \n",
    "            # Store the accuracy and model size\n",
    "            accuracies.append(test_acc)\n",
    "            model_sizes.append(gzipped_size)\n",
    "            model_names.append(model.name)\n",
    "\n",
    "        except Exception as e:\n",
    "            print(f\"An error occurred with Model {i}: {e}\")\n",
    "\n",
    "    # Plotting accuracy vs. gzipped model size\n",
    "    plt.figure(figsize=(10, 6))\n",
    "    plt.plot(model_sizes, accuracies, marker='o', linestyle='', color='b')\n",
    "\n",
    "    for i, model_name in enumerate(model_names):\n",
    "        plt.text(model_sizes[i], accuracies[i], model_name, fontsize=9, ha='right')\n",
    "\n",
    "    # Add labels and title\n",
    "    plt.xlabel('Gzipped Model Size (KB)')\n",
    "    plt.ylabel('Test Accuracy')\n",
    "    plt.title('Model Accuracy vs. Gzipped Model Size')\n",
    "    plt.grid(True)\n",
    "    plt.show()\n",
    "\n",
    "# Example usage\n",
    "# plot_size_v_accuracy(models, test_spectrogram_ds)\n",
    "\n"
   ]
  },
  {
   "cell_type": "code",
   "execution_count": 262,
   "metadata": {},
   "outputs": [
    {
     "name": "stderr",
     "output_type": "stream",
     "text": [
      "c:\\Users\\adamk\\anaconda3\\Lib\\site-packages\\tf_keras\\src\\initializers\\__init__.py:144: UserWarning: The `keras.initializers.serialize()` API should only be used for objects of type `keras.initializers.Initializer`. Found an instance of type <class 'keras.src.initializers.random_initializers.TruncatedNormal'>, which may lead to improper serialization.\n",
      "  warnings.warn(\n"
     ]
    },
    {
     "name": "stdout",
     "output_type": "stream",
     "text": [
      "Model 1 (tiny_embed_conv_model):\n",
      "  Gzipped Model Size: 107.95 KB\n",
      "  Test Accuracy: 0.7906\n"
     ]
    },
    {
     "data": {
      "image/png": "[encoded data removed]",
      "text/plain": [
       "<Figure size 1000x600 with 1 Axes>"
      ]
     },
     "metadata": {},
     "output_type": "display_data"
    }
   ],
   "source": [
    "plot_size_v_accuracy(models, test_spectrogram_ds)"
   ]
  },
  {
   "cell_type": "code",
   "execution_count": 263,
   "metadata": {},
   "outputs": [
    {
     "data": {
      "text/plain": [
       "[<tf_keras.src.engine.sequential.Sequential at 0x189f004ea90>]"
      ]
     },
     "execution_count": 263,
     "metadata": {},
     "output_type": "execute_result"
    }
   ],
   "source": [
    "models"
   ]
  },
  {
   "cell_type": "markdown",
   "metadata": {},
   "source": [
    "# Shrinking the model\n",
    "\n",
    "[deployment on the edge](https://ai.google.dev/edge/litert)\n",
    "\n",
    "[general model optimizations](https://www.tensorflow.org/model_optimization/guide)\n",
    "\n",
    "We will start off with pruning\n",
    "\n",
    "we will aslo try quantization aware training to quantize the model\n",
    "and we will also try different post-training quantizations\n",
    "\n",
    "we can also try weight clustering\n",
    "\n",
    "and finalyl we will try a single workflow with a combination of the previous methods\n",
    "[collaborative optimizations](https://www.tensorflow.org/model_optimization/guide/combine/collaborative_optimization)\n",
    "\n",
    "\n",
    "https://blog.tensorflow.org/2024/04/faster-dynamically-quantized-inference-with-xnnpack.html\n",
    "\n"
   ]
  },
  {
   "cell_type": "markdown",
   "metadata": {},
   "source": [
    "# Pruning (pruning oes not work with the generated models, ill have to fix that)"
   ]
  },
  {
   "cell_type": "code",
   "execution_count": null,
   "metadata": {},
   "outputs": [],
   "source": [
    "### Helper functions for pruning\n",
    "\n",
    "def ds_to_numpy(dataset):\n",
    "    \"\"\"Converts a tf.data.Dataset to numpy arrays for data and labels.\"\"\"\n",
    "    data = []\n",
    "    labels = []\n",
    "    \n",
    "    for features, label in dataset:\n",
    "        data.append(features)\n",
    "        labels.append(label)\n",
    "\n",
    "    data = tf.concat(data, axis=0)\n",
    "    labels = tf.concat(labels, axis=0)\n",
    "    return data, labels\n",
    "\n",
    "def print_model_weights_sparsity(model):\n",
    "    \"\"\"Prints the sparsity (percentage of zeros) for each layer's weights in the model.\"\"\"\n",
    "    for layer in model.layers:\n",
    "        if isinstance(layer, keras.layers.Wrapper):  # For pruned layers wrapped in the pruning wrapper\n",
    "            weights = layer.trainable_weights\n",
    "        else:\n",
    "            weights = layer.weights\n",
    "        for weight in weights:\n",
    "            weight_np = weight.numpy()\n",
    "            weight_size = weight_np.size\n",
    "            zero_num = np.count_nonzero(weight_np == 0)\n",
    "            print(f\"{weight.name}: {zero_num / weight_size:.2%} sparsity ({zero_num}/{weight_size})\")\n",
    "            \n",
    "def sequential_to_functional(sequential_model):\n",
    "    # Extract the layers from the Sequential model\n",
    "    inputs = Input(shape=sequential_model.input_shape[1:])\n",
    "    x = inputs\n",
    "\n",
    "    # Apply each layer from the Sequential model in sequence\n",
    "    for layer in sequential_model.layers:\n",
    "        x = layer(x)\n",
    "    \n",
    "    # Create a new functional model\n",
    "    functional_model = Model(inputs=inputs, outputs=x)\n",
    "    \n",
    "    # Copy weights from the Sequential model\n",
    "    functional_model.set_weights(sequential_model.get_weights())\n",
    "\n",
    "    print(functional_model)\n",
    "    \n",
    "    return functional_model"
   ]
  },
  {
   "cell_type": "code",
   "execution_count": null,
   "metadata": {},
   "outputs": [],
   "source": [
    "def prune_model(model, train_spectrogram_ds, test_spectrogram_ds, qat=False):\n",
    "    \"\"\"Prunes the given model with optional quantization-aware training (QAT).\"\"\"\n",
    "    # Ensure model is compatible with pruning by converting it to functional if needed\n",
    "    #model = sequential_to_functional(model)\n",
    "    \n",
    "    # Convert datasets to numpy arrays\n",
    "    train_data, train_labels = ds_to_numpy(train_spectrogram_ds)\n",
    "    test_data, test_labels = ds_to_numpy(test_spectrogram_ds)\n",
    "\n",
    "    # Define pruning parameters\n",
    "    pruning_params = {\n",
    "        'pruning_schedule': tfmot.sparsity.keras.ConstantSparsity(0.5, begin_step=0, frequency=100)\n",
    "    }\n",
    "    \n",
    "    # Define pruning callbacks\n",
    "    callbacks = [tfmot.sparsity.keras.UpdatePruningStep()]\n",
    "\n",
    "    # Apply pruning\n",
    "    if qat:\n",
    "        # Quantization-aware training with pruning\n",
    "        quant_aware_annotate_model = tfmot.quantization.keras.quantize_annotate_model(model)\n",
    "        pruned_model = tfmot.quantization.keras.quantize_apply(\n",
    "            quant_aware_annotate_model,\n",
    "            tfmot.experimental.combine.Default8BitPrunePreserveQuantizeScheme()\n",
    "        )\n",
    "    else:\n",
    "        # Standard pruning\n",
    "        pruned_model = tfmot.sparsity.keras.prune_low_magnitude(model, **pruning_params)\n",
    "\n",
    "    # Compile the pruned model with a smaller learning rate for fine-tuning\n",
    "    pruned_model.compile(\n",
    "        optimizer=keras.optimizers.Adam(learning_rate=1e-5),\n",
    "        loss=keras.losses.SparseCategoricalCrossentropy(from_logits=True),\n",
    "        metrics=['accuracy']\n",
    "    )\n",
    "    \n",
    "    # Display model summary\n",
    "    pruned_model.summary()\n",
    "\n",
    "    # Fine-tune the pruned model\n",
    "    pruned_model.fit(\n",
    "        train_data,\n",
    "        train_labels,\n",
    "        epochs=3,\n",
    "        validation_split=0.1,\n",
    "        callbacks=callbacks\n",
    "    )\n",
    "\n",
    "    # Strip pruning wrappers for final deployment\n",
    "    stripped_pruned_model = tfmot.sparsity.keras.strip_pruning(pruned_model)\n",
    "\n",
    "    # Check sparsity levels\n",
    "    print_model_weights_sparsity(stripped_pruned_model)\n",
    "\n",
    "    # Evaluate the pruned model on test data\n",
    "    _, pruned_model_accuracy = stripped_pruned_model.evaluate(test_data, test_labels, verbose=0)\n",
    "    print(\"Pruned test accuracy:\", pruned_model_accuracy)\n",
    "\n",
    "    return stripped_pruned_model\n"
   ]
  },
  {
   "cell_type": "code",
   "execution_count": null,
   "metadata": {},
   "outputs": [],
   "source": []
  },
  {
   "cell_type": "code",
   "execution_count": 272,
   "metadata": {},
   "outputs": [
    {
     "data": {
      "text/plain": [
       "<tf_keras.src.engine.sequential.Sequential at 0x189f004ea90>"
      ]
     },
     "execution_count": 272,
     "metadata": {},
     "output_type": "execute_result"
    }
   ],
   "source": [
    "models[0]"
   ]
  },
  {
   "cell_type": "code",
   "execution_count": null,
   "metadata": {},
   "outputs": [
    {
     "name": "stdout",
     "output_type": "stream",
     "text": [
      "Model: \"tiny_embed_conv_model\"\n",
      "_________________________________________________________________\n",
      " Layer (type)                Output Shape              Param #   \n",
      "=================================================================\n",
      " prune_low_magnitude_conv1   (None, 62, 65, 8)         1290      \n",
      " (PruneLowMagnitude)                                             \n",
      "                                                                 \n",
      " prune_low_magnitude_relu1   (None, 62, 65, 8)         1         \n",
      " (PruneLowMagnitude)                                             \n",
      "                                                                 \n",
      " prune_low_magnitude_dropou  (None, 62, 65, 8)         1         \n",
      " t1 (PruneLowMagnitude)                                          \n",
      "                                                                 \n",
      " prune_low_magnitude_conv2   (None, 8, 9, 8)           10250     \n",
      " (PruneLowMagnitude)                                             \n",
      "                                                                 \n",
      " prune_low_magnitude_relu2   (None, 8, 9, 8)           1         \n",
      " (PruneLowMagnitude)                                             \n",
      "                                                                 \n",
      " prune_low_magnitude_dropou  (None, 8, 9, 8)           1         \n",
      " t2 (PruneLowMagnitude)                                          \n",
      "                                                                 \n",
      " prune_low_magnitude_flatte  (None, 576)               1         \n",
      " n (PruneLowMagnitude)                                           \n",
      "                                                                 \n",
      " prune_low_magnitude_fc2 (P  (None, 6)                 6920      \n",
      " runeLowMagnitude)                                               \n",
      "                                                                 \n",
      "=================================================================\n",
      "Total params: 18465 (72.16 KB)\n",
      "Trainable params: 9238 (36.09 KB)\n",
      "Non-trainable params: 9227 (36.07 KB)\n",
      "_________________________________________________________________\n",
      "Epoch 1/3\n"
     ]
    },
    {
     "name": "stderr",
     "output_type": "stream",
     "text": [
      "c:\\Users\\adamk\\anaconda3\\Lib\\site-packages\\tf_keras\\src\\backend.py:5729: UserWarning: \"`sparse_categorical_crossentropy` received `from_logits=True`, but the `output` argument was produced by a Softmax activation and thus does not represent logits. Was this intended?\n",
      "  output, from_logits = _get_logits(\n"
     ]
    }
   ],
   "source": [
    "basic_pruned_models = []\n",
    "\n",
    "for model in models:\n",
    "    pruned_model = prune_model(model, train_spectrogram_ds, test_spectrogram_ds, qat=False)\n",
    "    basic_pruned_models.append(pruned_model)\n"
   ]
  },
  {
   "cell_type": "code",
   "execution_count": null,
   "metadata": {},
   "outputs": [
    {
     "name": "stdout",
     "output_type": "stream",
     "text": [
      "Model 1 (tiny_conv_model):\n",
      "  Gzipped Model Size: 439.85 KB\n",
      "  Test Accuracy: 0.7747\n",
      "Model 2 (tiny_embed_conv_model):\n",
      "  Gzipped Model Size: 24.18 KB\n",
      "  Test Accuracy: 0.7900\n",
      "Model 3 (tiny_embed_conv_model_best):\n",
      "  Gzipped Model Size: 84.99 KB\n",
      "  Test Accuracy: 0.8371\n"
     ]
    },
    {
     "data": {
      "image/png": "[encoded data removed]",
      "text/plain": [
       "<Figure size 1000x600 with 1 Axes>"
      ]
     },
     "metadata": {},
     "output_type": "display_data"
    }
   ],
   "source": [
    "plot_size_v_accuracy(basic_pruned_models, test_spectrogram_ds)\n"
   ]
  },
  {
   "cell_type": "markdown",
   "metadata": {},
   "source": [
    "## Pruning preserving quantization aware training (PQAT)\n",
    "https://www.tensorflow.org/model_optimization/guide/combine/pqat_example"
   ]
  },
  {
   "cell_type": "code",
   "execution_count": null,
   "metadata": {},
   "outputs": [],
   "source": []
  },
  {
   "cell_type": "markdown",
   "metadata": {},
   "source": [
    "## Sparsity and cluster preserving quantization aware training\n",
    "https://www.tensorflow.org/model_optimization/guide/combine/pcqat_example"
   ]
  },
  {
   "cell_type": "markdown",
   "metadata": {},
   "source": [
    "# Quantize models"
   ]
  },
  {
   "cell_type": "markdown",
   "metadata": {},
   "source": [
    "https://www.tensorflow.org/model_optimization/guide\n",
    "\n",
    "https://blog.tensorflow.org/2024/04/faster-dynamically-quantized-inference-with-xnnpack.html\n",
    "\n",
    "\n",
    "we can also add some weight clustering?"
   ]
  },
  {
   "cell_type": "markdown",
   "metadata": {},
   "source": [
    "## quantization aware training quantized models with or without pruning\n",
    "https://www.tensorflow.org/model_optimization/guide/quantization/training_example\n",
    "\n",
    "https://www.tensorflow.org/model_optimization/guide/quantization/training_comprehensive_guide#quantize_some_layers"
   ]
  },
  {
   "cell_type": "code",
   "execution_count": 17,
   "metadata": {},
   "outputs": [],
   "source": [
    "#import tensorflow_model_optimization as tfmot\n",
    "\n",
    "#quantization aware training with int8 weights and uint8 activations.\n",
    "def qat(model, pruning = False, save = False):\n",
    "  # translate model to be quantization aware\n",
    "  quantize_model = tfmot.quantization.keras.quantize_model\n",
    "\n",
    "  # Use `quantize_scope` to register the custom NoOpQuantizeConfig object\n",
    "  with tfmot.quantization.keras.quantize_scope({'NoOpQuantizeConfig': audio_models.NoOpQuantizeConfig}):\n",
    "      # Annotate the model for QAT\n",
    "      quant_aware_annotated_model = tfmot.quantization.keras.quantize_annotate_model(model)\n",
    "      \n",
    "      # Apply QAT\n",
    "      if pruning:\n",
    "        q_aware_model = tfmot.quantization.keras.quantize_apply(quant_aware_annotated_model, \n",
    "                                                                tfmot.experimental.combine.Default8BitPrunePreserveQuantizeScheme())\n",
    "      else:\n",
    "        q_aware_model = tfmot.quantization.keras.quantize_apply(quant_aware_annotated_model)\n",
    "\n",
    "\n",
    "\n",
    "\n",
    "  # Debug: Print model type and structure\n",
    "  print(f\"Model type: {type(model)}\")\n",
    "  print(f\"Is Sequential: {isinstance(model, tf.keras.Sequential)}\")\n",
    "  print(f\"Is Functional: {hasattr(model, '_is_graph_network') and model._is_graph_network}\")\n",
    "  model.summary()\n",
    "\n",
    "  # Check if the model is Sequential or Functional\n",
    "  if not isinstance(model, tf.keras.Sequential) and not (hasattr(model, '_is_graph_network') and model._is_graph_network):\n",
    "    raise ValueError('`model` must be a Keras Sequential or Functional model.')\n",
    "\n",
    "  #q_aware_model = quantize_model(quant_aware_model)\n",
    "\n",
    "  q_aware_model.compile(optimizer='adam',\n",
    "    loss=tf.keras.losses.SparseCategoricalCrossentropy(from_logits=True),\n",
    "    metrics=['accuracy'])\n",
    "  \n",
    "  q_aware_model.summary()\n",
    "\n",
    "  num_batches = tf.data.experimental.cardinality(train_spectrogram_ds).numpy()\n",
    "  print(f\"Number of batches in the training dataset: {num_batches}\")\n",
    "\n",
    "  # finetune quant aware model with quant aware training\n",
    "  q_aware_model.fit(train_spectrogram_ds.take(num_batches // 4), batch_size = 100, epochs=1, validation_data=val_spectrogram_ds)\n",
    "\n",
    "\n",
    "\n",
    "  _, baseline_model_accuracy = model.evaluate(test_spectrogram_ds, verbose=0)\n",
    "\n",
    "  _, q_aware_model_accuracy = q_aware_model.evaluate(test_spectrogram_ds, verbose=0)\n",
    "\n",
    "  print('Baseline test accuracy:', baseline_model_accuracy)\n",
    "  print('Quant test accuracy:', q_aware_model_accuracy)\n",
    "\n",
    "  if save:\n",
    "    # now we haveint8 weights and uint8 activations.\n",
    "    # Convert the model to TFLite\n",
    "    converter = tf.lite.TFLiteConverter.from_keras_model(q_aware_model)\n",
    "    converter.optimizations = [tf.lite.Optimize.DEFAULT]\n",
    "\n",
    "    quantized_tflite_model = converter.convert()\n",
    "    if pruning:\n",
    "      model_filename = f'pruned_qat_{model.name}.tflite'\n",
    "    else:\n",
    "      model_filename = f'qat_{model.name}.tflite'\n",
    "    # Save the quantized model\n",
    "    with open(model_filename, 'wb') as f:\n",
    "      f.write(quantized_tflite_model)\n",
    "\n",
    "    return model_filename\n",
    "  \n",
    "  return q_aware_model\n"
   ]
  },
  {
   "cell_type": "code",
   "execution_count": 18,
   "metadata": {},
   "outputs": [],
   "source": [
    "# Evaluate the TFLite quantized model\n",
    "def evaluate_tflite_model(interpreter, dataset):\n",
    "    input_details = interpreter.get_input_details()\n",
    "    output_details = interpreter.get_output_details()\n",
    "\n",
    "    total_samples = 0\n",
    "    correct_predictions = 0\n",
    "\n",
    "    for spectrograms, labels in dataset:\n",
    "        input_data = spectrograms.numpy().astype('float32')\n",
    "        interpreter.set_tensor(input_details[0]['index'], input_data)\n",
    "        interpreter.invoke()\n",
    "        predictions = interpreter.get_tensor(output_details[0]['index'])\n",
    "        predicted_labels = tf.argmax(predictions, axis=1)\n",
    "        correct_predictions += tf.reduce_sum(tf.cast(predicted_labels == labels, tf.int32)).numpy()\n",
    "        total_samples += labels.shape[0]\n",
    "\n",
    "    accuracy = correct_predictions / total_samples\n",
    "    return accuracy"
   ]
  },
  {
   "cell_type": "code",
   "execution_count": 19,
   "metadata": {},
   "outputs": [
    {
     "name": "stdout",
     "output_type": "stream",
     "text": [
      "Model type: <class 'tf_keras.src.engine.sequential.Sequential'>\n",
      "Is Sequential: False\n",
      "Is Functional: True\n",
      "Model: \"tiny_conv_model\"\n",
      "_________________________________________________________________\n",
      " Layer (type)                Output Shape              Param #   \n",
      "=================================================================\n",
      " conv (Conv2D)               (None, 62, 65, 8)         648       \n",
      "                                                                 \n",
      " relu1 (ReLU)                (None, 62, 65, 8)         0         \n",
      "                                                                 \n",
      " dropout1 (Dropout)          (None, 62, 65, 8)         0         \n",
      "                                                                 \n",
      " flatten (Flatten)           (None, 32240)             0         \n",
      "                                                                 \n",
      " fc2 (Dense)                 (None, 6)                 193446    \n",
      "                                                                 \n",
      "=================================================================\n",
      "Total params: 194094 (758.18 KB)\n",
      "Trainable params: 194094 (758.18 KB)\n",
      "Non-trainable params: 0 (0.00 Byte)\n",
      "_________________________________________________________________\n",
      "Model: \"tiny_conv_model\"\n",
      "_________________________________________________________________\n",
      " Layer (type)                Output Shape              Param #   \n",
      "=================================================================\n",
      " quantize_layer (QuantizeLa  (None, 124, 129, 1)       3         \n",
      " yer)                                                            \n",
      "                                                                 \n",
      " quant_conv (QuantizeWrappe  (None, 62, 65, 8)         649       \n",
      " rV2)                                                            \n",
      "                                                                 \n",
      " quant_relu1 (QuantizeWrapp  (None, 62, 65, 8)         3         \n",
      " erV2)                                                           \n",
      "                                                                 \n",
      " quant_dropout1 (QuantizeWr  (None, 62, 65, 8)         1         \n",
      " apperV2)                                                        \n",
      "                                                                 \n",
      " quant_flatten (QuantizeWra  (None, 32240)             1         \n",
      " pperV2)                                                         \n",
      "                                                                 \n",
      " quant_fc2 (QuantizeWrapper  (None, 6)                 193451    \n",
      " V2)                                                             \n",
      "                                                                 \n",
      "=================================================================\n",
      "Total params: 194108 (758.23 KB)\n",
      "Trainable params: 194094 (758.18 KB)\n",
      "Non-trainable params: 14 (56.00 Byte)\n",
      "_________________________________________________________________\n",
      "Number of batches in the training dataset: -2\n",
      "213/213 [==============================] - 3s 13ms/step - loss: 0.3451 - accuracy: 0.8774 - val_loss: 0.5867 - val_accuracy: 0.8071\n",
      "Baseline test accuracy: 0.7747058868408203\n",
      "Quant test accuracy: 0.801764726638794\n",
      "INFO:tensorflow:Assets written to: C:\\Users\\adamk\\AppData\\Local\\Temp\\tmpwuq6fl8z\\assets\n"
     ]
    },
    {
     "name": "stderr",
     "output_type": "stream",
     "text": [
      "INFO:tensorflow:Assets written to: C:\\Users\\adamk\\AppData\\Local\\Temp\\tmpwuq6fl8z\\assets\n"
     ]
    },
    {
     "name": "stdout",
     "output_type": "stream",
     "text": [
      "Model type: <class 'tf_keras.src.engine.sequential.Sequential'>\n",
      "Is Sequential: False\n",
      "Is Functional: True\n",
      "Model: \"tiny_embed_conv_model\"\n"
     ]
    },
    {
     "name": "stderr",
     "output_type": "stream",
     "text": [
      "c:\\Users\\adamk\\anaconda3\\Lib\\site-packages\\tensorflow\\lite\\python\\convert.py:983: UserWarning: Statistics for quantized inputs were expected, but not specified; continuing anyway.\n",
      "  warnings.warn(\n",
      "c:\\Users\\adamk\\anaconda3\\Lib\\site-packages\\tf_keras\\src\\initializers\\__init__.py:144: UserWarning: The `keras.initializers.serialize()` API should only be used for objects of type `keras.initializers.Initializer`. Found an instance of type <class 'keras.src.initializers.random_initializers.TruncatedNormal'>, which may lead to improper serialization.\n",
      "  warnings.warn(\n"
     ]
    },
    {
     "name": "stdout",
     "output_type": "stream",
     "text": [
      "_________________________________________________________________\n",
      " Layer (type)                Output Shape              Param #   \n",
      "=================================================================\n",
      " conv1 (Conv2D)              (None, 62, 65, 8)         648       \n",
      "                                                                 \n",
      " relu1 (ReLU)                (None, 62, 65, 8)         0         \n",
      "                                                                 \n",
      " dropout1 (Dropout)          (None, 62, 65, 8)         0         \n",
      "                                                                 \n",
      " conv2 (Conv2D)              (None, 8, 9, 8)           5128      \n",
      "                                                                 \n",
      " relu2 (ReLU)                (None, 8, 9, 8)           0         \n",
      "                                                                 \n",
      " dropout2 (Dropout)          (None, 8, 9, 8)           0         \n",
      "                                                                 \n",
      " flatten (Flatten)           (None, 576)               0         \n",
      "                                                                 \n",
      " fc2 (Dense)                 (None, 6)                 3462      \n",
      "                                                                 \n",
      "=================================================================\n",
      "Total params: 9238 (36.09 KB)\n",
      "Trainable params: 9238 (36.09 KB)\n",
      "Non-trainable params: 0 (0.00 Byte)\n",
      "_________________________________________________________________\n",
      "Model: \"tiny_embed_conv_model\"\n",
      "_________________________________________________________________\n",
      " Layer (type)                Output Shape              Param #   \n",
      "=================================================================\n",
      " quantize_layer_1 (Quantize  (None, 124, 129, 1)       3         \n",
      " Layer)                                                          \n",
      "                                                                 \n",
      " quant_conv1 (QuantizeWrapp  (None, 62, 65, 8)         649       \n",
      " erV2)                                                           \n",
      "                                                                 \n",
      " quant_relu1 (QuantizeWrapp  (None, 62, 65, 8)         3         \n",
      " erV2)                                                           \n",
      "                                                                 \n",
      " quant_dropout1 (QuantizeWr  (None, 62, 65, 8)         1         \n",
      " apperV2)                                                        \n",
      "                                                                 \n",
      " quant_conv2 (QuantizeWrapp  (None, 8, 9, 8)           5129      \n",
      " erV2)                                                           \n",
      "                                                                 \n",
      " quant_relu2 (QuantizeWrapp  (None, 8, 9, 8)           3         \n",
      " erV2)                                                           \n",
      "                                                                 \n",
      " quant_dropout2 (QuantizeWr  (None, 8, 9, 8)           1         \n",
      " apperV2)                                                        \n",
      "                                                                 \n",
      " quant_flatten (QuantizeWra  (None, 576)               1         \n",
      " pperV2)                                                         \n",
      "                                                                 \n",
      " quant_fc2 (QuantizeWrapper  (None, 6)                 3467      \n",
      " V2)                                                             \n",
      "                                                                 \n",
      "=================================================================\n",
      "Total params: 9257 (36.16 KB)\n",
      "Trainable params: 9238 (36.09 KB)\n",
      "Non-trainable params: 19 (76.00 Byte)\n",
      "_________________________________________________________________\n",
      "Number of batches in the training dataset: -2\n"
     ]
    },
    {
     "name": "stderr",
     "output_type": "stream",
     "text": [
      "c:\\Users\\adamk\\anaconda3\\Lib\\site-packages\\keras\\src\\backend\\tensorflow\\nn.py:609: UserWarning: \"`sparse_categorical_crossentropy` received `from_logits=True`, but the `output` argument was produced by a Softmax activation and thus does not represent logits. Was this intended?\n",
      "  output, from_logits = _get_logits(\n"
     ]
    },
    {
     "name": "stdout",
     "output_type": "stream",
     "text": [
      "213/213 [==============================] - 4s 16ms/step - loss: 0.6420 - accuracy: 0.7640 - val_loss: 0.5736 - val_accuracy: 0.7994\n",
      "Baseline test accuracy: 0.7900000214576721\n",
      "Quant test accuracy: 0.7911764979362488\n",
      "INFO:tensorflow:Assets written to: C:\\Users\\adamk\\AppData\\Local\\Temp\\tmp8ir9ds8u\\assets\n"
     ]
    },
    {
     "name": "stderr",
     "output_type": "stream",
     "text": [
      "INFO:tensorflow:Assets written to: C:\\Users\\adamk\\AppData\\Local\\Temp\\tmp8ir9ds8u\\assets\n",
      "c:\\Users\\adamk\\anaconda3\\Lib\\site-packages\\tensorflow\\lite\\python\\convert.py:983: UserWarning: Statistics for quantized inputs were expected, but not specified; continuing anyway.\n",
      "  warnings.warn(\n",
      "c:\\Users\\adamk\\anaconda3\\Lib\\site-packages\\tf_keras\\src\\initializers\\__init__.py:144: UserWarning: The `keras.initializers.serialize()` API should only be used for objects of type `keras.initializers.Initializer`. Found an instance of type <class 'keras.src.initializers.random_initializers.TruncatedNormal'>, which may lead to improper serialization.\n",
      "  warnings.warn(\n"
     ]
    },
    {
     "name": "stdout",
     "output_type": "stream",
     "text": [
      "Model type: <class 'tf_keras.src.engine.sequential.Sequential'>\n",
      "Is Sequential: False\n",
      "Is Functional: True\n",
      "Model: \"tiny_embed_conv_model_best\"\n",
      "_________________________________________________________________\n",
      " Layer (type)                Output Shape              Param #   \n",
      "=================================================================\n",
      " conv1 (Conv2D)              (None, 62, 129, 16)       1312      \n",
      "                                                                 \n",
      " relu1 (ReLU)                (None, 62, 129, 16)       0         \n",
      "                                                                 \n",
      " dropout1 (Dropout)          (None, 62, 129, 16)       0         \n",
      "                                                                 \n",
      " conv2 (Conv2D)              (None, 16, 22, 12)        9420      \n",
      "                                                                 \n",
      " relu2 (ReLU)                (None, 16, 22, 12)        0         \n",
      "                                                                 \n",
      " dropout2 (Dropout)          (None, 16, 22, 12)        0         \n",
      "                                                                 \n",
      " flatten (Flatten)           (None, 4224)              0         \n",
      "                                                                 \n",
      " fc2 (Dense)                 (None, 6)                 25350     \n",
      "                                                                 \n",
      "=================================================================\n",
      "Total params: 36082 (140.95 KB)\n",
      "Trainable params: 36082 (140.95 KB)\n",
      "Non-trainable params: 0 (0.00 Byte)\n",
      "_________________________________________________________________\n",
      "Model: \"tiny_embed_conv_model_best\"\n",
      "_________________________________________________________________\n",
      " Layer (type)                Output Shape              Param #   \n",
      "=================================================================\n",
      " quantize_layer_2 (Quantize  (None, 124, 129, 1)       3         \n",
      " Layer)                                                          \n",
      "                                                                 \n",
      " quant_conv1 (QuantizeWrapp  (None, 62, 129, 16)       1313      \n",
      " erV2)                                                           \n",
      "                                                                 \n",
      " quant_relu1 (QuantizeWrapp  (None, 62, 129, 16)       3         \n",
      " erV2)                                                           \n",
      "                                                                 \n",
      " quant_dropout1 (QuantizeWr  (None, 62, 129, 16)       1         \n",
      " apperV2)                                                        \n",
      "                                                                 \n",
      " quant_conv2 (QuantizeWrapp  (None, 16, 22, 12)        9421      \n",
      " erV2)                                                           \n",
      "                                                                 \n",
      " quant_relu2 (QuantizeWrapp  (None, 16, 22, 12)        3         \n",
      " erV2)                                                           \n",
      "                                                                 \n",
      " quant_dropout2 (QuantizeWr  (None, 16, 22, 12)        1         \n",
      " apperV2)                                                        \n",
      "                                                                 \n",
      " quant_flatten (QuantizeWra  (None, 4224)              1         \n",
      " pperV2)                                                         \n",
      "                                                                 \n",
      " quant_fc2 (QuantizeWrapper  (None, 6)                 25355     \n",
      " V2)                                                             \n",
      "                                                                 \n",
      "=================================================================\n",
      "Total params: 36101 (141.02 KB)\n",
      "Trainable params: 36082 (140.95 KB)\n",
      "Non-trainable params: 19 (76.00 Byte)\n",
      "_________________________________________________________________\n",
      "Number of batches in the training dataset: -2\n"
     ]
    },
    {
     "name": "stderr",
     "output_type": "stream",
     "text": [
      "c:\\Users\\adamk\\anaconda3\\Lib\\site-packages\\keras\\src\\backend\\tensorflow\\nn.py:609: UserWarning: \"`sparse_categorical_crossentropy` received `from_logits=True`, but the `output` argument was produced by a Softmax activation and thus does not represent logits. Was this intended?\n",
      "  output, from_logits = _get_logits(\n"
     ]
    },
    {
     "name": "stdout",
     "output_type": "stream",
     "text": [
      "213/213 [==============================] - 11s 48ms/step - loss: 0.4137 - accuracy: 0.8478 - val_loss: 0.4586 - val_accuracy: 0.8435\n",
      "Baseline test accuracy: 0.8370588421821594\n",
      "Quant test accuracy: 0.8382353186607361\n",
      "INFO:tensorflow:Assets written to: C:\\Users\\adamk\\AppData\\Local\\Temp\\tmpbmd7408_\\assets\n"
     ]
    },
    {
     "name": "stderr",
     "output_type": "stream",
     "text": [
      "INFO:tensorflow:Assets written to: C:\\Users\\adamk\\AppData\\Local\\Temp\\tmpbmd7408_\\assets\n",
      "c:\\Users\\adamk\\anaconda3\\Lib\\site-packages\\tensorflow\\lite\\python\\convert.py:983: UserWarning: Statistics for quantized inputs were expected, but not specified; continuing anyway.\n",
      "  warnings.warn(\n",
      "c:\\Users\\adamk\\anaconda3\\Lib\\site-packages\\tf_keras\\src\\initializers\\__init__.py:144: UserWarning: The `keras.initializers.serialize()` API should only be used for objects of type `keras.initializers.Initializer`. Found an instance of type <class 'keras.src.initializers.random_initializers.TruncatedNormal'>, which may lead to improper serialization.\n",
      "  warnings.warn(\n"
     ]
    },
    {
     "name": "stdout",
     "output_type": "stream",
     "text": [
      "Model type: <class 'tf_keras.src.engine.sequential.Sequential'>\n",
      "Is Sequential: False\n",
      "Is Functional: True\n",
      "Model: \"tiny_conv_model\"\n",
      "_________________________________________________________________\n",
      " Layer (type)                Output Shape              Param #   \n",
      "=================================================================\n",
      " conv (Conv2D)               (None, 62, 65, 8)         648       \n",
      "                                                                 \n",
      " relu1 (ReLU)                (None, 62, 65, 8)         0         \n",
      "                                                                 \n",
      " dropout1 (Dropout)          (None, 62, 65, 8)         0         \n",
      "                                                                 \n",
      " flatten (Flatten)           (None, 32240)             0         \n",
      "                                                                 \n",
      " fc2 (Dense)                 (None, 6)                 193446    \n",
      "                                                                 \n",
      "=================================================================\n",
      "Total params: 194094 (758.18 KB)\n",
      "Trainable params: 194094 (758.18 KB)\n",
      "Non-trainable params: 0 (0.00 Byte)\n",
      "_________________________________________________________________\n",
      "Model: \"tiny_conv_model\"\n",
      "_________________________________________________________________\n",
      " Layer (type)                Output Shape              Param #   \n",
      "=================================================================\n",
      " quantize_layer_3 (Quantize  (None, 124, 129, 1)       3         \n",
      " Layer)                                                          \n",
      "                                                                 \n",
      " quant_conv (QuantizeWrappe  (None, 62, 65, 8)         649       \n",
      " rV2)                                                            \n",
      "                                                                 \n",
      " quant_relu1 (QuantizeWrapp  (None, 62, 65, 8)         3         \n",
      " erV2)                                                           \n",
      "                                                                 \n",
      " quant_dropout1 (QuantizeWr  (None, 62, 65, 8)         1         \n",
      " apperV2)                                                        \n",
      "                                                                 \n",
      " quant_flatten (QuantizeWra  (None, 32240)             1         \n",
      " pperV2)                                                         \n",
      "                                                                 \n",
      " quant_fc2 (QuantizeWrapper  (None, 6)                 193451    \n",
      " V2)                                                             \n",
      "                                                                 \n",
      "=================================================================\n",
      "Total params: 194108 (758.23 KB)\n",
      "Trainable params: 194094 (758.18 KB)\n",
      "Non-trainable params: 14 (56.00 Byte)\n",
      "_________________________________________________________________\n",
      "Number of batches in the training dataset: -2\n"
     ]
    },
    {
     "name": "stderr",
     "output_type": "stream",
     "text": [
      "c:\\Users\\adamk\\anaconda3\\Lib\\site-packages\\keras\\src\\backend\\tensorflow\\nn.py:609: UserWarning: \"`sparse_categorical_crossentropy` received `from_logits=True`, but the `output` argument was produced by a Softmax activation and thus does not represent logits. Was this intended?\n",
      "  output, from_logits = _get_logits(\n"
     ]
    },
    {
     "name": "stdout",
     "output_type": "stream",
     "text": [
      "213/213 [==============================] - 4s 16ms/step - loss: 0.3311 - accuracy: 0.8847 - val_loss: 0.5829 - val_accuracy: 0.8153\n",
      "Baseline test accuracy: 0.7747058868408203\n",
      "Quant test accuracy: 0.8082352876663208\n",
      "INFO:tensorflow:Assets written to: C:\\Users\\adamk\\AppData\\Local\\Temp\\tmpcnj749o2\\assets\n"
     ]
    },
    {
     "name": "stderr",
     "output_type": "stream",
     "text": [
      "INFO:tensorflow:Assets written to: C:\\Users\\adamk\\AppData\\Local\\Temp\\tmpcnj749o2\\assets\n"
     ]
    },
    {
     "name": "stdout",
     "output_type": "stream",
     "text": [
      "Model type: <class 'tf_keras.src.engine.sequential.Sequential'>\n",
      "Is Sequential: False\n",
      "Is Functional: True\n",
      "Model: \"tiny_embed_conv_model\"\n"
     ]
    },
    {
     "name": "stderr",
     "output_type": "stream",
     "text": [
      "c:\\Users\\adamk\\anaconda3\\Lib\\site-packages\\tensorflow\\lite\\python\\convert.py:983: UserWarning: Statistics for quantized inputs were expected, but not specified; continuing anyway.\n",
      "  warnings.warn(\n",
      "c:\\Users\\adamk\\anaconda3\\Lib\\site-packages\\tf_keras\\src\\initializers\\__init__.py:144: UserWarning: The `keras.initializers.serialize()` API should only be used for objects of type `keras.initializers.Initializer`. Found an instance of type <class 'keras.src.initializers.random_initializers.TruncatedNormal'>, which may lead to improper serialization.\n",
      "  warnings.warn(\n"
     ]
    },
    {
     "name": "stdout",
     "output_type": "stream",
     "text": [
      "_________________________________________________________________\n",
      " Layer (type)                Output Shape              Param #   \n",
      "=================================================================\n",
      " conv1 (Conv2D)              (None, 62, 65, 8)         648       \n",
      "                                                                 \n",
      " relu1 (ReLU)                (None, 62, 65, 8)         0         \n",
      "                                                                 \n",
      " dropout1 (Dropout)          (None, 62, 65, 8)         0         \n",
      "                                                                 \n",
      " conv2 (Conv2D)              (None, 8, 9, 8)           5128      \n",
      "                                                                 \n",
      " relu2 (ReLU)                (None, 8, 9, 8)           0         \n",
      "                                                                 \n",
      " dropout2 (Dropout)          (None, 8, 9, 8)           0         \n",
      "                                                                 \n",
      " flatten (Flatten)           (None, 576)               0         \n",
      "                                                                 \n",
      " fc2 (Dense)                 (None, 6)                 3462      \n",
      "                                                                 \n",
      "=================================================================\n",
      "Total params: 9238 (36.09 KB)\n",
      "Trainable params: 9238 (36.09 KB)\n",
      "Non-trainable params: 0 (0.00 Byte)\n",
      "_________________________________________________________________\n",
      "Model: \"tiny_embed_conv_model\"\n",
      "_________________________________________________________________\n",
      " Layer (type)                Output Shape              Param #   \n",
      "=================================================================\n",
      " quantize_layer_4 (Quantize  (None, 124, 129, 1)       3         \n",
      " Layer)                                                          \n",
      "                                                                 \n",
      " quant_conv1 (QuantizeWrapp  (None, 62, 65, 8)         649       \n",
      " erV2)                                                           \n",
      "                                                                 \n",
      " quant_relu1 (QuantizeWrapp  (None, 62, 65, 8)         3         \n",
      " erV2)                                                           \n",
      "                                                                 \n",
      " quant_dropout1 (QuantizeWr  (None, 62, 65, 8)         1         \n",
      " apperV2)                                                        \n",
      "                                                                 \n",
      " quant_conv2 (QuantizeWrapp  (None, 8, 9, 8)           5129      \n",
      " erV2)                                                           \n",
      "                                                                 \n",
      " quant_relu2 (QuantizeWrapp  (None, 8, 9, 8)           3         \n",
      " erV2)                                                           \n",
      "                                                                 \n",
      " quant_dropout2 (QuantizeWr  (None, 8, 9, 8)           1         \n",
      " apperV2)                                                        \n",
      "                                                                 \n",
      " quant_flatten (QuantizeWra  (None, 576)               1         \n",
      " pperV2)                                                         \n",
      "                                                                 \n",
      " quant_fc2 (QuantizeWrapper  (None, 6)                 3467      \n",
      " V2)                                                             \n",
      "                                                                 \n",
      "=================================================================\n",
      "Total params: 9257 (36.16 KB)\n",
      "Trainable params: 9238 (36.09 KB)\n",
      "Non-trainable params: 19 (76.00 Byte)\n",
      "_________________________________________________________________\n",
      "Number of batches in the training dataset: -2\n"
     ]
    },
    {
     "name": "stderr",
     "output_type": "stream",
     "text": [
      "c:\\Users\\adamk\\anaconda3\\Lib\\site-packages\\keras\\src\\backend\\tensorflow\\nn.py:609: UserWarning: \"`sparse_categorical_crossentropy` received `from_logits=True`, but the `output` argument was produced by a Softmax activation and thus does not represent logits. Was this intended?\n",
      "  output, from_logits = _get_logits(\n"
     ]
    },
    {
     "name": "stdout",
     "output_type": "stream",
     "text": [
      "213/213 [==============================] - 4s 17ms/step - loss: 0.6301 - accuracy: 0.7652 - val_loss: 0.5820 - val_accuracy: 0.7906\n",
      "Baseline test accuracy: 0.7900000214576721\n",
      "Quant test accuracy: 0.7911764979362488\n",
      "INFO:tensorflow:Assets written to: C:\\Users\\adamk\\AppData\\Local\\Temp\\tmpl1xogsbo\\assets\n"
     ]
    },
    {
     "name": "stderr",
     "output_type": "stream",
     "text": [
      "INFO:tensorflow:Assets written to: C:\\Users\\adamk\\AppData\\Local\\Temp\\tmpl1xogsbo\\assets\n"
     ]
    },
    {
     "name": "stdout",
     "output_type": "stream",
     "text": [
      "Model type: <class 'tf_keras.src.engine.sequential.Sequential'>\n",
      "Is Sequential: False\n",
      "Is Functional: True\n",
      "Model: \"tiny_embed_conv_model_best\"\n",
      "_________________________________________________________________\n",
      " Layer (type)                Output Shape              Param #   \n",
      "=================================================================\n",
      " conv1 (Conv2D)              (None, 62, 129, 16)       1312      \n",
      "                                                                 \n",
      " relu1 (ReLU)                (None, 62, 129, 16)       0         \n"
     ]
    },
    {
     "name": "stderr",
     "output_type": "stream",
     "text": [
      "c:\\Users\\adamk\\anaconda3\\Lib\\site-packages\\tensorflow\\lite\\python\\convert.py:983: UserWarning: Statistics for quantized inputs were expected, but not specified; continuing anyway.\n",
      "  warnings.warn(\n",
      "c:\\Users\\adamk\\anaconda3\\Lib\\site-packages\\tf_keras\\src\\initializers\\__init__.py:144: UserWarning: The `keras.initializers.serialize()` API should only be used for objects of type `keras.initializers.Initializer`. Found an instance of type <class 'keras.src.initializers.random_initializers.TruncatedNormal'>, which may lead to improper serialization.\n",
      "  warnings.warn(\n"
     ]
    },
    {
     "name": "stdout",
     "output_type": "stream",
     "text": [
      "                                                                 \n",
      " dropout1 (Dropout)          (None, 62, 129, 16)       0         \n",
      "                                                                 \n",
      " conv2 (Conv2D)              (None, 16, 22, 12)        9420      \n",
      "                                                                 \n",
      " relu2 (ReLU)                (None, 16, 22, 12)        0         \n",
      "                                                                 \n",
      " dropout2 (Dropout)          (None, 16, 22, 12)        0         \n",
      "                                                                 \n",
      " flatten (Flatten)           (None, 4224)              0         \n",
      "                                                                 \n",
      " fc2 (Dense)                 (None, 6)                 25350     \n",
      "                                                                 \n",
      "=================================================================\n",
      "Total params: 36082 (140.95 KB)\n",
      "Trainable params: 36082 (140.95 KB)\n",
      "Non-trainable params: 0 (0.00 Byte)\n",
      "_________________________________________________________________\n",
      "Model: \"tiny_embed_conv_model_best\"\n",
      "_________________________________________________________________\n",
      " Layer (type)                Output Shape              Param #   \n",
      "=================================================================\n",
      " quantize_layer_5 (Quantize  (None, 124, 129, 1)       3         \n",
      " Layer)                                                          \n",
      "                                                                 \n",
      " quant_conv1 (QuantizeWrapp  (None, 62, 129, 16)       1313      \n",
      " erV2)                                                           \n",
      "                                                                 \n",
      " quant_relu1 (QuantizeWrapp  (None, 62, 129, 16)       3         \n",
      " erV2)                                                           \n",
      "                                                                 \n",
      " quant_dropout1 (QuantizeWr  (None, 62, 129, 16)       1         \n",
      " apperV2)                                                        \n",
      "                                                                 \n",
      " quant_conv2 (QuantizeWrapp  (None, 16, 22, 12)        9421      \n",
      " erV2)                                                           \n",
      "                                                                 \n",
      " quant_relu2 (QuantizeWrapp  (None, 16, 22, 12)        3         \n",
      " erV2)                                                           \n",
      "                                                                 \n",
      " quant_dropout2 (QuantizeWr  (None, 16, 22, 12)        1         \n",
      " apperV2)                                                        \n",
      "                                                                 \n",
      " quant_flatten (QuantizeWra  (None, 4224)              1         \n",
      " pperV2)                                                         \n",
      "                                                                 \n",
      " quant_fc2 (QuantizeWrapper  (None, 6)                 25355     \n",
      " V2)                                                             \n",
      "                                                                 \n",
      "=================================================================\n",
      "Total params: 36101 (141.02 KB)\n",
      "Trainable params: 36082 (140.95 KB)\n",
      "Non-trainable params: 19 (76.00 Byte)\n",
      "_________________________________________________________________\n",
      "Number of batches in the training dataset: -2\n"
     ]
    },
    {
     "name": "stderr",
     "output_type": "stream",
     "text": [
      "c:\\Users\\adamk\\anaconda3\\Lib\\site-packages\\keras\\src\\backend\\tensorflow\\nn.py:609: UserWarning: \"`sparse_categorical_crossentropy` received `from_logits=True`, but the `output` argument was produced by a Softmax activation and thus does not represent logits. Was this intended?\n",
      "  output, from_logits = _get_logits(\n"
     ]
    },
    {
     "name": "stdout",
     "output_type": "stream",
     "text": [
      "213/213 [==============================] - 10s 45ms/step - loss: 0.4016 - accuracy: 0.8518 - val_loss: 0.4763 - val_accuracy: 0.8324\n",
      "Baseline test accuracy: 0.8370588421821594\n",
      "Quant test accuracy: 0.8417646884918213\n",
      "INFO:tensorflow:Assets written to: C:\\Users\\adamk\\AppData\\Local\\Temp\\tmp51a8usp1\\assets\n"
     ]
    },
    {
     "name": "stderr",
     "output_type": "stream",
     "text": [
      "INFO:tensorflow:Assets written to: C:\\Users\\adamk\\AppData\\Local\\Temp\\tmp51a8usp1\\assets\n",
      "c:\\Users\\adamk\\anaconda3\\Lib\\site-packages\\tensorflow\\lite\\python\\convert.py:983: UserWarning: Statistics for quantized inputs were expected, but not specified; continuing anyway.\n",
      "  warnings.warn(\n"
     ]
    },
    {
     "data": {
      "text/plain": [
       "\"\\n# Evaluate the TFLite quantized model\\ninterpreter = tf.lite.Interpreter(model_content=qat_models[0])\\ninterpreter.allocate_tensors()\\n\\ninput_details = interpreter.get_input_details()\\noutput_details = interpreter.get_output_details()\\n\\n\\n#quantized_model_accuracy = evaluate_tflite_model(interpreter, test_spectrogram_ds)\\n#print('Quantized TFLite model test accuracy:', quantized_model_accuracy)\\n\\n\""
      ]
     },
     "execution_count": 19,
     "metadata": {},
     "output_type": "execute_result"
    }
   ],
   "source": [
    "quantized_qat_models = []\n",
    "pruning_quantized_qat_models = []\n",
    "\n",
    "\n",
    "\n",
    "for model in models:\n",
    "    qat_tflite_model = qat(model, pruning = False, save=True)\n",
    "    quantized_qat_models.append(qat_tflite_model)\n",
    "\n",
    "for model in basic_pruned_models:\n",
    "    pruned_qat_tflite_model = qat(model, pruning = True, save = True)\n",
    "    pruning_quantized_qat_models.append(pruned_qat_tflite_model)\n",
    "\n",
    "\n",
    "\n",
    "'''\n",
    "# Evaluate the TFLite quantized model\n",
    "interpreter = tf.lite.Interpreter(model_content=qat_models[0])\n",
    "interpreter.allocate_tensors()\n",
    "\n",
    "input_details = interpreter.get_input_details()\n",
    "output_details = interpreter.get_output_details()\n",
    "\n",
    "\n",
    "#quantized_model_accuracy = evaluate_tflite_model(interpreter, test_spectrogram_ds)\n",
    "#print('Quantized TFLite model test accuracy:', quantized_model_accuracy)\n",
    "\n",
    "'''\n"
   ]
  },
  {
   "cell_type": "code",
   "execution_count": 20,
   "metadata": {},
   "outputs": [],
   "source": [
    "def get_gzipped_model_size(file):\n",
    "  # It returns the size of the gzipped model in kilobytes.\n",
    "\n",
    "  _, zipped_file = tempfile.mkstemp('.zip')\n",
    "  with zipfile.ZipFile(zipped_file, 'w', compression=zipfile.ZIP_DEFLATED) as f:\n",
    "    f.write(file)\n",
    "\n",
    "  return os.path.getsize(zipped_file)/1000\n"
   ]
  },
  {
   "cell_type": "code",
   "execution_count": 21,
   "metadata": {},
   "outputs": [
    {
     "name": "stdout",
     "output_type": "stream",
     "text": [
      "Model: qat_tiny_conv_model.tflite\n",
      "Size: 135.81 KB\n",
      "Model: qat_tiny_embed_conv_model.tflite\n",
      "Size: 8.961 KB\n",
      "Model: qat_tiny_embed_conv_model_best.tflite\n",
      "Size: 29.192 KB\n",
      "Model: pruned_qat_tiny_conv_model.tflite\n",
      "Size: 111.224 KB\n",
      "Model: pruned_qat_tiny_embed_conv_model.tflite\n",
      "Size: 8.596 KB\n",
      "Model: pruned_qat_tiny_embed_conv_model_best.tflite\n",
      "Size: 25.807 KB\n"
     ]
    }
   ],
   "source": [
    "for file in quantized_qat_models:\n",
    "  print(f\"Model: {file}\")\n",
    "  print(f\"Size: {get_gzipped_model_size(file)} KB\")\n",
    "\n",
    "for file in pruning_quantized_qat_models:\n",
    "  print(f\"Model: {file}\")\n",
    "  print(f\"Size: {get_gzipped_model_size(file)} KB\")"
   ]
  },
  {
   "cell_type": "code",
   "execution_count": 22,
   "metadata": {},
   "outputs": [],
   "source": [
    "#to see persistence of accuracy from tf to tflite\n",
    "def eval_model(interpreter):\n",
    "  test_images, test_labels = ds_to_numpy(test_spectrogram_ds)\n",
    "  \n",
    "  input_index = interpreter.get_input_details()[0][\"index\"]\n",
    "  output_index = interpreter.get_output_details()[0][\"index\"]\n",
    "\n",
    "  # Run predictions on every image in the \"test\" dataset.\n",
    "  prediction_digits = []\n",
    "  for i, test_image in enumerate(test_images):\n",
    "    if i % 1000 == 0:\n",
    "      print(f\"Evaluated on {i} results so far.\")\n",
    "    # Pre-processing: add batch dimension and convert to float32 to match with\n",
    "    # the model's input data format.\n",
    "    test_image = np.expand_dims(test_image, axis=0).astype(np.float32)\n",
    "    interpreter.set_tensor(input_index, test_image)\n",
    "\n",
    "    # Run inference.\n",
    "    interpreter.invoke()\n",
    "\n",
    "    # Post-processing: remove batch dimension and find the digit with highest\n",
    "    # probability.\n",
    "    output = interpreter.tensor(output_index)\n",
    "    digit = np.argmax(output()[0])\n",
    "    prediction_digits.append(digit)\n",
    "\n",
    "  print('\\n')\n",
    "  # Compare prediction results with ground truth labels to calculate accuracy.\n",
    "  prediction_digits = np.array(prediction_digits)\n",
    "  accuracy = np.mean((prediction_digits == test_labels))\n",
    "  return accuracy\n"
   ]
  },
  {
   "cell_type": "code",
   "execution_count": 23,
   "metadata": {},
   "outputs": [
    {
     "name": "stdout",
     "output_type": "stream",
     "text": [
      "Evaluated on 0 results so far.\n",
      "Evaluated on 1000 results so far.\n",
      "\n",
      "\n",
      "Pruned and quantized TFLite test_accuracy: 0.7923529411764706\n"
     ]
    }
   ],
   "source": [
    "pqat_model_file = \"C:\\\\Users\\\\adamk\\\\Downloads\\\\micro_speech_model_making\\\\notebooks\\\\pruned_qat_tiny_embed_conv_model.tflite\"\n",
    "interpreter = tf.lite.Interpreter(pqat_model_file)\n",
    "interpreter.allocate_tensors()\n",
    "\n",
    "pqat_test_accuracy = eval_model(interpreter)\n",
    "\n",
    "print('Pruned and quantized TFLite test_accuracy:', pqat_test_accuracy)\n"
   ]
  },
  {
   "cell_type": "markdown",
   "metadata": {},
   "source": [
    "## Post training quantization\n",
    "\n",
    "https://ai.google.dev/edge/litert/models/post_training_quant"
   ]
  },
  {
   "cell_type": "code",
   "execution_count": 24,
   "metadata": {},
   "outputs": [],
   "source": [
    "# Function to quantize the models using TensorFlow Lite Micro with different granularities\n",
    "def quantize_model(model, optimization_strategy):\n",
    "    converter = tf.lite.TFLiteConverter.from_keras_model(model)\n",
    "    converter.optimizations = [tf.lite.Optimize.DEFAULT]\n",
    "    if optimization_strategy == 'weight':\n",
    "        # Quantize only weights\n",
    "        converter.target_spec.supported_types = [tf.float16]\n",
    "    elif optimization_strategy == 'full':\n",
    "        # Full integer quantization\n",
    "        def representative_dataset():\n",
    "            for spectrogram, _ in train_spectrogram_ds.take(1000):\n",
    "                yield [spectrogram]\n",
    "        converter.representative_dataset = representative_dataset\n",
    "        converter.target_spec.supported_ops = [tf.lite.OpsSet.TFLITE_BUILTINS_INT8]\n",
    "        converter.inference_input_type = tf.uint8\n",
    "        converter.inference_output_type = tf.uint8\n",
    "    elif optimization_strategy == 'dynamic':\n",
    "        # Dynamic range quantization\n",
    "        converter.optimizations = [tf.lite.Optimize.DEFAULT]\n",
    "    else:\n",
    "        raise ValueError(\"Unsupported optimization strategy. Use 'weight', 'full', or 'dynamic'.\")\n",
    "    tflite_model = converter.convert()\n",
    "    return tflite_model\n"
   ]
  },
  {
   "cell_type": "code",
   "execution_count": 25,
   "metadata": {},
   "outputs": [],
   "source": [
    "# Function to quantize the models using post-training integer quantization with int16 activations and int8 weights\n",
    "def quantize_model_int16x8(model):\n",
    "    converter = tf.lite.TFLiteConverter.from_keras_model(model)\n",
    "    converter.optimizations = [tf.lite.Optimize.DEFAULT]\n",
    "    def representative_dataset():\n",
    "        for spectrogram, _ in train_spectrogram_ds.take(100):\n",
    "            yield [spectrogram]\n",
    "    converter.representative_dataset = representative_dataset\n",
    "    converter.target_spec.supported_ops = [tf.lite.OpsSet.EXPERIMENTAL_TFLITE_BUILTINS_ACTIVATIONS_INT16_WEIGHTS_INT8]\n",
    "    converter.inference_input_type = tf.int16\n",
    "    converter.inference_output_type = tf.int16\n",
    "    tflite_model = converter.convert()\n",
    "    return tflite_model"
   ]
  },
  {
   "cell_type": "code",
   "execution_count": 26,
   "metadata": {},
   "outputs": [
    {
     "name": "stdout",
     "output_type": "stream",
     "text": [
      "Quantizing Model 0 with weight strategy\n",
      "INFO:tensorflow:Assets written to: C:\\Users\\adamk\\AppData\\Local\\Temp\\tmpf03bngwx\\assets\n"
     ]
    },
    {
     "name": "stderr",
     "output_type": "stream",
     "text": [
      "INFO:tensorflow:Assets written to: C:\\Users\\adamk\\AppData\\Local\\Temp\\tmpf03bngwx\\assets\n"
     ]
    },
    {
     "name": "stdout",
     "output_type": "stream",
     "text": [
      "Model 0 quantized with weight strategy and saved as model_0_weight_quantized.tflite\n",
      "Quantizing Model 0 with full strategy\n",
      "INFO:tensorflow:Assets written to: C:\\Users\\adamk\\AppData\\Local\\Temp\\tmprvejtmx1\\assets\n"
     ]
    },
    {
     "name": "stderr",
     "output_type": "stream",
     "text": [
      "INFO:tensorflow:Assets written to: C:\\Users\\adamk\\AppData\\Local\\Temp\\tmprvejtmx1\\assets\n",
      "c:\\Users\\adamk\\anaconda3\\Lib\\site-packages\\tensorflow\\lite\\python\\convert.py:983: UserWarning: Statistics for quantized inputs were expected, but not specified; continuing anyway.\n",
      "  warnings.warn(\n"
     ]
    },
    {
     "name": "stdout",
     "output_type": "stream",
     "text": [
      "Model 0 quantized with full strategy and saved as model_0_full_quantized.tflite\n",
      "Quantizing Model 0 with dynamic strategy\n",
      "INFO:tensorflow:Assets written to: C:\\Users\\adamk\\AppData\\Local\\Temp\\tmpz9843a_6\\assets\n"
     ]
    },
    {
     "name": "stderr",
     "output_type": "stream",
     "text": [
      "INFO:tensorflow:Assets written to: C:\\Users\\adamk\\AppData\\Local\\Temp\\tmpz9843a_6\\assets\n"
     ]
    },
    {
     "name": "stdout",
     "output_type": "stream",
     "text": [
      "Model 0 quantized with dynamic strategy and saved as model_0_dynamic_quantized.tflite\n",
      "Quantizing Model 0 with int16 activations and int8 weights\n",
      "INFO:tensorflow:Assets written to: C:\\Users\\adamk\\AppData\\Local\\Temp\\tmp6hjp4zy4\\assets\n"
     ]
    },
    {
     "name": "stderr",
     "output_type": "stream",
     "text": [
      "INFO:tensorflow:Assets written to: C:\\Users\\adamk\\AppData\\Local\\Temp\\tmp6hjp4zy4\\assets\n"
     ]
    },
    {
     "name": "stdout",
     "output_type": "stream",
     "text": [
      "Model 0 quantized with int16 activations and int8 weights and saved as model_0_int16x8_quantized.tflite\n",
      "Quantizing Model 1 with weight strategy\n",
      "INFO:tensorflow:Assets written to: C:\\Users\\adamk\\AppData\\Local\\Temp\\tmp62xlj0sy\\assets\n"
     ]
    },
    {
     "name": "stderr",
     "output_type": "stream",
     "text": [
      "INFO:tensorflow:Assets written to: C:\\Users\\adamk\\AppData\\Local\\Temp\\tmp62xlj0sy\\assets\n"
     ]
    },
    {
     "name": "stdout",
     "output_type": "stream",
     "text": [
      "Model 1 quantized with weight strategy and saved as model_1_weight_quantized.tflite\n",
      "Quantizing Model 1 with full strategy\n",
      "INFO:tensorflow:Assets written to: C:\\Users\\adamk\\AppData\\Local\\Temp\\tmpxgwtu45_\\assets\n"
     ]
    },
    {
     "name": "stderr",
     "output_type": "stream",
     "text": [
      "INFO:tensorflow:Assets written to: C:\\Users\\adamk\\AppData\\Local\\Temp\\tmpxgwtu45_\\assets\n",
      "c:\\Users\\adamk\\anaconda3\\Lib\\site-packages\\tensorflow\\lite\\python\\convert.py:983: UserWarning: Statistics for quantized inputs were expected, but not specified; continuing anyway.\n",
      "  warnings.warn(\n"
     ]
    },
    {
     "name": "stdout",
     "output_type": "stream",
     "text": [
      "Model 1 quantized with full strategy and saved as model_1_full_quantized.tflite\n",
      "Quantizing Model 1 with dynamic strategy\n",
      "INFO:tensorflow:Assets written to: C:\\Users\\adamk\\AppData\\Local\\Temp\\tmpsh9ep2i9\\assets\n"
     ]
    },
    {
     "name": "stderr",
     "output_type": "stream",
     "text": [
      "INFO:tensorflow:Assets written to: C:\\Users\\adamk\\AppData\\Local\\Temp\\tmpsh9ep2i9\\assets\n"
     ]
    },
    {
     "name": "stdout",
     "output_type": "stream",
     "text": [
      "Model 1 quantized with dynamic strategy and saved as model_1_dynamic_quantized.tflite\n",
      "Quantizing Model 1 with int16 activations and int8 weights\n",
      "INFO:tensorflow:Assets written to: C:\\Users\\adamk\\AppData\\Local\\Temp\\tmp0a6pgs3y\\assets\n"
     ]
    },
    {
     "name": "stderr",
     "output_type": "stream",
     "text": [
      "INFO:tensorflow:Assets written to: C:\\Users\\adamk\\AppData\\Local\\Temp\\tmp0a6pgs3y\\assets\n"
     ]
    },
    {
     "name": "stdout",
     "output_type": "stream",
     "text": [
      "Model 1 quantized with int16 activations and int8 weights and saved as model_1_int16x8_quantized.tflite\n",
      "Quantizing Model 2 with weight strategy\n",
      "INFO:tensorflow:Assets written to: C:\\Users\\adamk\\AppData\\Local\\Temp\\tmp3jh1ckx9\\assets\n"
     ]
    },
    {
     "name": "stderr",
     "output_type": "stream",
     "text": [
      "INFO:tensorflow:Assets written to: C:\\Users\\adamk\\AppData\\Local\\Temp\\tmp3jh1ckx9\\assets\n"
     ]
    },
    {
     "name": "stdout",
     "output_type": "stream",
     "text": [
      "Model 2 quantized with weight strategy and saved as model_2_weight_quantized.tflite\n",
      "Quantizing Model 2 with full strategy\n",
      "INFO:tensorflow:Assets written to: C:\\Users\\adamk\\AppData\\Local\\Temp\\tmp495k09lo\\assets\n"
     ]
    },
    {
     "name": "stderr",
     "output_type": "stream",
     "text": [
      "INFO:tensorflow:Assets written to: C:\\Users\\adamk\\AppData\\Local\\Temp\\tmp495k09lo\\assets\n",
      "c:\\Users\\adamk\\anaconda3\\Lib\\site-packages\\tensorflow\\lite\\python\\convert.py:983: UserWarning: Statistics for quantized inputs were expected, but not specified; continuing anyway.\n",
      "  warnings.warn(\n"
     ]
    },
    {
     "name": "stdout",
     "output_type": "stream",
     "text": [
      "Model 2 quantized with full strategy and saved as model_2_full_quantized.tflite\n",
      "Quantizing Model 2 with dynamic strategy\n",
      "INFO:tensorflow:Assets written to: C:\\Users\\adamk\\AppData\\Local\\Temp\\tmpt07mzndi\\assets\n"
     ]
    },
    {
     "name": "stderr",
     "output_type": "stream",
     "text": [
      "INFO:tensorflow:Assets written to: C:\\Users\\adamk\\AppData\\Local\\Temp\\tmpt07mzndi\\assets\n"
     ]
    },
    {
     "name": "stdout",
     "output_type": "stream",
     "text": [
      "Model 2 quantized with dynamic strategy and saved as model_2_dynamic_quantized.tflite\n",
      "Quantizing Model 2 with int16 activations and int8 weights\n",
      "INFO:tensorflow:Assets written to: C:\\Users\\adamk\\AppData\\Local\\Temp\\tmpvoyzaeyo\\assets\n"
     ]
    },
    {
     "name": "stderr",
     "output_type": "stream",
     "text": [
      "INFO:tensorflow:Assets written to: C:\\Users\\adamk\\AppData\\Local\\Temp\\tmpvoyzaeyo\\assets\n"
     ]
    },
    {
     "name": "stdout",
     "output_type": "stream",
     "text": [
      "Model 2 quantized with int16 activations and int8 weights and saved as model_2_int16x8_quantized.tflite\n"
     ]
    }
   ],
   "source": [
    "# Quantize each trained model with different granularities and save them\n",
    "quantization_strategies = ['weight', 'full', 'dynamic']\n",
    "\n",
    "for i, model in enumerate(basic_pruned_models):\n",
    "    for strategy in quantization_strategies:\n",
    "        print(f'Quantizing Model {i} with {strategy} strategy')\n",
    "        tflite_model = quantize_model(model, strategy)\n",
    "        model_filename = f'model_{i}_{strategy}_quantized.tflite'\n",
    "        with open(model_filename, 'wb') as f:\n",
    "            f.write(tflite_model)\n",
    "        print(f'Model {i} quantized with {strategy} strategy and saved as {model_filename}')\n",
    "\n",
    "    # Quantize using post-training integer quantization with int16 activations and int8 weights\n",
    "    print(f'Quantizing Model {i} with int16 activations and int8 weights')\n",
    "    tflite_model_int16x8 = quantize_model_int16x8(model)\n",
    "    model_filename_int16x8 = f'model_{i}_int16x8_quantized.tflite'\n",
    "    with open(model_filename_int16x8, 'wb') as f:\n",
    "        f.write(tflite_model_int16x8)\n",
    "    print(f'Model {i} quantized with int16 activations and int8 weights and saved as {model_filename_int16x8}')"
   ]
  },
  {
   "cell_type": "markdown",
   "metadata": {},
   "source": [
    "## Quantized Model Evaluation"
   ]
  },
  {
   "cell_type": "code",
   "execution_count": 27,
   "metadata": {},
   "outputs": [],
   "source": [
    "# Function to evaluate the quantized models\n",
    "def evaluate_quantized_model(tflite_model_path):\n",
    "    # Load the TFLite model and allocate tensors\n",
    "    interpreter = tf.lite.Interpreter(model_path=tflite_model_path)\n",
    "    interpreter.allocate_tensors()\n",
    "\n",
    "    # Get input and output tensors\n",
    "    input_details = interpreter.get_input_details()\n",
    "    output_details = interpreter.get_output_details()\n",
    "\n",
    "    # Determine the expected input type\n",
    "    input_dtype = input_details[0]['dtype']\n",
    "\n",
    "\n",
    "    # Evaluate the model on the test dataset\n",
    "    total_correct = 0\n",
    "    total_samples = 0\n",
    "\n",
    "    for spectrogram_batch, label_batch in test_spectrogram_ds:\n",
    "        for spectrogram, label in zip(spectrogram_batch, label_batch):\n",
    "            interpreter.set_tensor(input_details[0]['index'], np.expand_dims(spectrogram, axis=0).astype(input_dtype))\n",
    "            interpreter.invoke()\n",
    "            output_data = interpreter.get_tensor(output_details[0]['index'])\n",
    "            predicted_label = np.argmax(output_data)\n",
    "            total_correct += (predicted_label == label.numpy())\n",
    "            total_samples += 1\n",
    "\n",
    "    accuracy = total_correct / total_samples\n",
    "    return accuracy"
   ]
  },
  {
   "cell_type": "code",
   "execution_count": 29,
   "metadata": {},
   "outputs": [
    {
     "name": "stdout",
     "output_type": "stream",
     "text": [
      "Evaluating Model 0 with weight quantization\n",
      "Model 0 with weight quantization accuracy: 0.7747\n",
      "Evaluating Model 0 with full quantization\n",
      "Model 0 with full quantization accuracy: 0.0600\n",
      "Evaluating Model 0 with dynamic quantization\n",
      "Model 0 with dynamic quantization accuracy: 0.7735\n",
      "Evaluating Model 0 with int16 activations and int8 weights quantization\n",
      "Model 0 with int16 activations and int8 weights quantization accuracy: 0.0600\n",
      "Evaluating Model 1 with weight quantization\n",
      "Model 1 with weight quantization accuracy: 0.7900\n",
      "Evaluating Model 1 with full quantization\n",
      "Model 1 with full quantization accuracy: 0.0600\n",
      "Evaluating Model 1 with dynamic quantization\n",
      "Model 1 with dynamic quantization accuracy: 0.7918\n",
      "Evaluating Model 1 with int16 activations and int8 weights quantization\n",
      "Model 1 with int16 activations and int8 weights quantization accuracy: 0.0600\n",
      "Evaluating Model 2 with weight quantization\n",
      "Model 2 with weight quantization accuracy: 0.8371\n",
      "Evaluating Model 2 with full quantization\n",
      "Model 2 with full quantization accuracy: 0.0606\n",
      "Evaluating Model 2 with dynamic quantization\n",
      "Model 2 with dynamic quantization accuracy: 0.8359\n",
      "Evaluating Model 2 with int16 activations and int8 weights quantization\n",
      "Model 2 with int16 activations and int8 weights quantization accuracy: 0.0600\n"
     ]
    }
   ],
   "source": [
    "# Evaluate each quantized model\n",
    "for i in range(0, len(models)):\n",
    "    for strategy in quantization_strategies:\n",
    "        model_filename = f'model_{i}_{strategy}_quantized.tflite'\n",
    "        print(f'Evaluating Model {i} with {strategy} quantization')\n",
    "        accuracy = evaluate_quantized_model(model_filename)\n",
    "        print(f'Model {i} with {strategy} quantization accuracy: {accuracy:.4f}')\n",
    "\n",
    "    model_filename_int16x8 = f'model_{i}_int16x8_quantized.tflite'\n",
    "    print(f'Evaluating Model {i} with int16 activations and int8 weights quantization')\n",
    "    accuracy = evaluate_quantized_model(model_filename_int16x8)\n",
    "    print(f'Model {i} with int16 activations and int8 weights quantization accuracy: {accuracy:.4f}')"
   ]
  },
  {
   "cell_type": "code",
   "execution_count": 30,
   "metadata": {},
   "outputs": [],
   "source": [
    "# Function to print the size and memory requirements of the quantized models\n",
    "def print_quantized_model_sizes(model_filenames):\n",
    "    sizes = []\n",
    "    for model_filename in model_filenames:\n",
    "        if os.path.exists(model_filename):\n",
    "            model_size = os.path.getsize(model_filename) / 1024  # Size in KB\n",
    "            sizes.append((model_filename, model_size))\n",
    "            print(f'Model: {model_filename} Size: {model_size:.2f} KB')\n",
    "        else:\n",
    "            print(f'Model: {model_filename} not found.')\n",
    "    return sizes"
   ]
  },
  {
   "cell_type": "code",
   "execution_count": 32,
   "metadata": {},
   "outputs": [
    {
     "name": "stdout",
     "output_type": "stream",
     "text": [
      "\n",
      "Quantized Model Sizes:\n",
      "Model: model_0_weight_quantized.tflite Size: 381.72 KB\n",
      "Model: model_0_full_quantized.tflite Size: 192.59 KB\n",
      "Model: model_0_dynamic_quantized.tflite Size: 193.58 KB\n",
      "Model: model_0_int16x8_quantized.tflite Size: 192.61 KB\n",
      "Model: model_1_weight_quantized.tflite Size: 21.38 KB\n",
      "Model: model_1_full_quantized.tflite Size: 12.82 KB\n",
      "Model: model_1_dynamic_quantized.tflite Size: 13.66 KB\n",
      "Model: model_1_int16x8_quantized.tflite Size: 12.99 KB\n",
      "Model: model_2_weight_quantized.tflite Size: 73.88 KB\n",
      "Model: model_2_full_quantized.tflite Size: 39.41 KB\n",
      "Model: model_2_dynamic_quantized.tflite Size: 38.36 KB\n",
      "Model: model_2_int16x8_quantized.tflite Size: 39.74 KB\n",
      "Evaluating model_0_weight_quantized.tflite\n",
      "Evaluating model_0_full_quantized.tflite\n",
      "Evaluating model_0_dynamic_quantized.tflite\n",
      "Evaluating model_0_int16x8_quantized.tflite\n",
      "Evaluating model_1_weight_quantized.tflite\n",
      "Evaluating model_1_full_quantized.tflite\n",
      "Evaluating model_1_dynamic_quantized.tflite\n",
      "Evaluating model_1_int16x8_quantized.tflite\n",
      "Evaluating model_2_weight_quantized.tflite\n",
      "Evaluating model_2_full_quantized.tflite\n",
      "Evaluating model_2_dynamic_quantized.tflite\n",
      "Evaluating model_2_int16x8_quantized.tflite\n"
     ]
    },
    {
     "data": {
      "image/png": "[encoded data removed]",
      "text/plain": [
       "<Figure size 1000x600 with 1 Axes>"
      ]
     },
     "metadata": {},
     "output_type": "display_data"
    }
   ],
   "source": [
    "# List of quantized model filenames\n",
    "quantized_model_filenames = []\n",
    "for i in range(0, len(models)):\n",
    "    for strategy in ['weight', 'full', 'dynamic']:\n",
    "        quantized_model_filenames.append(f'model_{i}_{strategy}_quantized.tflite')\n",
    "    quantized_model_filenames.append(f'model_{i}_int16x8_quantized.tflite')\n",
    "\n",
    "# Print sizes of quantized models and store the sizes\n",
    "print(\"\\nQuantized Model Sizes:\")\n",
    "quantized_model_sizes = print_quantized_model_sizes(quantized_model_filenames)\n",
    "\n",
    "# Evaluate each quantized model and collect accuracies\n",
    "quantized_accuracies = []\n",
    "\n",
    "for model_filename, model_size in quantized_model_sizes:\n",
    "    print(f'Evaluating {model_filename}')\n",
    "    accuracy = evaluate_quantized_model(model_filename)\n",
    "    quantized_accuracies.append((model_filename, model_size, accuracy))\n",
    "\n",
    "# Filter accuracies for models smaller than 1000 KB and accuracy greater than 0.8\n",
    "filtered_accuracies = [tup for tup in quantized_accuracies if tup[2] > 0.8 and tup[1] < 1000]\n",
    "\n",
    "# Plot accuracy vs. model size for quantized models\n",
    "model_names, model_sizes, accuracies = zip(*filtered_accuracies)\n",
    "\n",
    "plt.figure(figsize=(10, 6))\n",
    "\n",
    "# Plot points without connecting lines by setting linestyle='None'\n",
    "plt.plot(model_sizes, accuracies, marker='o', linestyle='None', color='r')\n",
    "\n",
    "# Annotate each point with the model name\n",
    "for i, model_name in enumerate(model_names):\n",
    "    plt.text(model_sizes[i], accuracies[i], model_name, fontsize=8, ha='right')\n",
    "\n",
    "plt.xlabel('Model Size (KB)')\n",
    "plt.ylabel('Accuracy')\n",
    "plt.title('Accuracy vs. Model Size for Quantized Models (Models < 1000 KB)')\n",
    "plt.grid(True)\n",
    "plt.show()\n"
   ]
  },
  {
   "cell_type": "code",
   "execution_count": 33,
   "metadata": {},
   "outputs": [],
   "source": [
    "def evaluate_tflite_model(tflite_model_path, test_data, test_labels):\n",
    "    # Load the TFLite model and allocate tensors\n",
    "    interpreter = tf.lite.Interpreter(model_path=tflite_model_path)\n",
    "    interpreter.allocate_tensors()\n",
    "    \n",
    "    # Get input and output tensors\n",
    "    input_details = interpreter.get_input_details()\n",
    "    output_details = interpreter.get_output_details()\n",
    "    \n",
    "    # Determine input data type\n",
    "    input_dtype = input_details[0]['dtype']\n",
    "    \n",
    "    # Run inference on the test data\n",
    "    correct_predictions = 0\n",
    "    for i, test_sample in enumerate(test_data):\n",
    "        # Prepare input data, converting to expected dtype if necessary\n",
    "        input_data = np.expand_dims(test_sample, axis=0)\n",
    "        if input_dtype == np.uint8:\n",
    "            input_data = (input_data * 255).astype(np.uint8)  # Scale to UINT8\n",
    "        else:\n",
    "            input_data = input_data.astype(input_dtype)\n",
    "\n",
    "        interpreter.set_tensor(input_details[0]['index'], input_data)\n",
    "        \n",
    "        # Run inference\n",
    "        interpreter.invoke()\n",
    "        \n",
    "        # Get the output and check the prediction\n",
    "        output_data = interpreter.get_tensor(output_details[0]['index'])\n",
    "        predicted_label = np.argmax(output_data)\n",
    "        true_label = test_labels[i]\n",
    "        \n",
    "        if predicted_label == true_label:\n",
    "            correct_predictions += 1\n",
    "\n",
    "    # Calculate accuracy\n",
    "    accuracy = correct_predictions / len(test_data)\n",
    "    return accuracy\n",
    "\n",
    "\n",
    "def plot_tflite_size_vs_accuracy(folder_path, test_spectrogram_ds):\n",
    "    test_data, test_labels = ds_to_numpy(test_spectrogram_ds)\n",
    "    # Lists to store results\n",
    "    model_sizes = []\n",
    "    accuracies = []\n",
    "    model_names = []\n",
    "    \n",
    "    # Iterate through all TFLite files in the folder\n",
    "    for filename in os.listdir(folder_path):\n",
    "        if filename.endswith(\".tflite\"):\n",
    "            model_path = os.path.join(folder_path, filename)\n",
    "            model_name = os.path.splitext(filename)[0]\n",
    "            \n",
    "            # Get model size in KB\n",
    "            model_size = os.path.getsize(model_path) / 1000  # Convert bytes to KB\n",
    "            \n",
    "            # Evaluate the TFLite model accuracy\n",
    "            accuracy = evaluate_tflite_model(model_path, test_data, test_labels)\n",
    "            \n",
    "            # Store results\n",
    "            model_sizes.append(model_size)\n",
    "            accuracies.append(accuracy)\n",
    "            model_names.append(model_name)\n",
    "            \n",
    "            # Print the details\n",
    "            print(f\"Model: {model_name}, Size: {model_size:.2f} KB, Accuracy: {accuracy:.4f}\")\n",
    "    \n",
    "    # Plotting accuracy vs. model size\n",
    "    plt.figure(figsize=(10, 6))\n",
    "    plt.plot(model_sizes, accuracies, marker='o', linestyle='', color='b')\n",
    "\n",
    "    # Annotate each point with the model name\n",
    "    for i, model_name in enumerate(model_names):\n",
    "        plt.text(model_sizes[i], accuracies[i], model_name, fontsize=9, ha='right')\n",
    "\n",
    "    # Add labels and title\n",
    "    plt.xlabel('Model Size (KB)')\n",
    "    plt.ylabel('Test Accuracy')\n",
    "    plt.title('TFLite Model Accuracy vs. Model Size')\n",
    "    plt.grid(True)\n",
    "    plt.show()\n",
    "\n",
    "    return model_sizes, accuracies, model_names\n"
   ]
  },
  {
   "cell_type": "code",
   "execution_count": 34,
   "metadata": {},
   "outputs": [
    {
     "name": "stdout",
     "output_type": "stream",
     "text": [
      "Model: model_0_dynamic_quantized, Size: 198.22 KB, Accuracy: 0.7735\n",
      "Model: model_0_full_quantized, Size: 197.22 KB, Accuracy: 0.7659\n",
      "Model: model_0_int16x8_quantized, Size: 197.23 KB, Accuracy: 0.0600\n",
      "Model: model_0_weight_quantized, Size: 390.88 KB, Accuracy: 0.7747\n",
      "Model: model_1_dynamic_quantized, Size: 13.99 KB, Accuracy: 0.7918\n",
      "Model: model_1_full_quantized, Size: 13.13 KB, Accuracy: 0.7894\n",
      "Model: model_1_int16x8_quantized, Size: 13.30 KB, Accuracy: 0.0600\n",
      "Model: model_1_weight_quantized, Size: 21.90 KB, Accuracy: 0.7900\n",
      "Model: model_2_dynamic_quantized, Size: 39.28 KB, Accuracy: 0.8359\n",
      "Model: model_2_full_quantized, Size: 40.35 KB, Accuracy: 0.8412\n",
      "Model: model_2_int16x8_quantized, Size: 40.70 KB, Accuracy: 0.0600\n",
      "Model: model_2_weight_quantized, Size: 75.66 KB, Accuracy: 0.8371\n",
      "Model: pruned_qat_tiny_conv_model, Size: 197.30 KB, Accuracy: 0.8076\n",
      "Model: pruned_qat_tiny_embed_conv_model, Size: 13.34 KB, Accuracy: 0.7924\n",
      "Model: pruned_qat_tiny_embed_conv_model_best, Size: 40.61 KB, Accuracy: 0.8400\n",
      "Model: qat_tiny_conv_model, Size: 197.30 KB, Accuracy: 0.8029\n",
      "Model: qat_tiny_embed_conv_model, Size: 13.34 KB, Accuracy: 0.7918\n",
      "Model: qat_tiny_embed_conv_model_best, Size: 40.61 KB, Accuracy: 0.8359\n"
     ]
    },
    {
     "data": {
      "image/png": "[encoded data removed]",
      "text/plain": [
       "<Figure size 1000x600 with 1 Axes>"
      ]
     },
     "metadata": {},
     "output_type": "display_data"
    }
   ],
   "source": [
    "model_sizes, accuracies, model_names = [], [], []\n",
    "folder_path = \"C:\\\\Users\\\\adamk\\\\Downloads\\\\micro_speech_model_making\\\\notebooks\\\\\"\n",
    "model_sizes, accuracies, model_names = plot_tflite_size_vs_accuracy(folder_path, test_spectrogram_ds)\n",
    "# C:\\Users\\adamk\\Downloads\\micro_speech_model_making\\notebooks\\val_spec_ds.tfrecord"
   ]
  },
  {
   "cell_type": "code",
   "execution_count": 35,
   "metadata": {},
   "outputs": [
    {
     "name": "stdout",
     "output_type": "stream",
     "text": [
      "Name : model_2_dynamic_quantized, Size: 39.28, Accuracy: 0.8358823529411765\n",
      "Name : model_2_full_quantized, Size: 40.352, Accuracy: 0.8411764705882353\n",
      "Name : pruned_qat_tiny_embed_conv_model_best, Size: 40.608, Accuracy: 0.84\n",
      "Name : qat_tiny_embed_conv_model_best, Size: 40.608, Accuracy: 0.8358823529411765\n"
     ]
    }
   ],
   "source": [
    "for size, acc, name in zip(model_sizes, accuracies, model_names):\n",
    "    if size < 45 and acc > 0.8:\n",
    "        print(f\"Name : {name}, Size: {size}, Accuracy: {acc}\")"
   ]
  },
  {
   "cell_type": "code",
   "execution_count": null,
   "metadata": {},
   "outputs": [],
   "source": [
    "def plot_filtered_model_size_vs_accuracy(model_sizes, accuracies, model_names, max_size, min_accuracy):\n",
    "    # Filter models based on the provided criteria\n",
    "    filtered_sizes = [size for size, acc in zip(model_sizes, accuracies) if size < max_size and acc > min_accuracy]\n",
    "    filtered_accuracies = [acc for size, acc in zip(model_sizes, accuracies) if size < max_size and acc > min_accuracy]\n",
    "    filtered_names = [name for size, acc, name in zip(model_sizes, accuracies, model_names) if size < max_size and acc > min_accuracy]\n",
    "\n",
    "    # Print details of filtered models\n",
    "    for size, acc, name in zip(filtered_sizes, filtered_accuracies, filtered_names):\n",
    "        print(f\"Name: {name}, Size: {size:.2f} KB, Accuracy: {acc:.4f}\")\n",
    "\n",
    "    # Plot only the filtered models\n",
    "    plt.figure(figsize=(10, 6))\n",
    "    plt.plot(filtered_sizes, filtered_accuracies, marker='o', linestyle='', color='b', label=f\"Size < {max_size} KB & Accuracy > {min_accuracy*100}%\")\n",
    "    \n",
    "    # Annotate each filtered point with the model name\n",
    "    for i, model_name in enumerate(filtered_names):\n",
    "        plt.text(filtered_sizes[i], filtered_accuracies[i], model_name, fontsize=9, ha='right')\n",
    "\n",
    "    # Add labels and title\n",
    "    plt.xlabel('Model Size (KB)')\n",
    "    plt.ylabel('Test Accuracy')\n",
    "    plt.title(f'TFLite Model Accuracy vs. Model Size (Filtered by Size < {max_size} KB & Accuracy > {min_accuracy*100}%)')\n",
    "    plt.legend()\n",
    "    plt.grid(True)\n",
    "    plt.show()\n",
    "\n",
    "\n"
   ]
  },
  {
   "cell_type": "code",
   "execution_count": 45,
   "metadata": {},
   "outputs": [
    {
     "name": "stdout",
     "output_type": "stream",
     "text": [
      "Name: model_1_dynamic_quantized, Size: 13.99 KB, Accuracy: 0.7918\n",
      "Name: model_1_full_quantized, Size: 13.13 KB, Accuracy: 0.7894\n",
      "Name: model_1_weight_quantized, Size: 21.90 KB, Accuracy: 0.7900\n",
      "Name: model_2_dynamic_quantized, Size: 39.28 KB, Accuracy: 0.8359\n",
      "Name: model_2_full_quantized, Size: 40.35 KB, Accuracy: 0.8412\n",
      "Name: pruned_qat_tiny_embed_conv_model, Size: 13.34 KB, Accuracy: 0.7924\n",
      "Name: pruned_qat_tiny_embed_conv_model_best, Size: 40.61 KB, Accuracy: 0.8400\n",
      "Name: qat_tiny_embed_conv_model, Size: 13.34 KB, Accuracy: 0.7918\n",
      "Name: qat_tiny_embed_conv_model_best, Size: 40.61 KB, Accuracy: 0.8359\n"
     ]
    },
    {
     "data": {
      "image/png": "[encoded data removed]",
      "text/plain": [
       "<Figure size 1000x600 with 1 Axes>"
      ]
     },
     "metadata": {},
     "output_type": "display_data"
    }
   ],
   "source": [
    "plot_filtered_model_size_vs_accuracy(model_sizes, accuracies, model_names, max_size=50, min_accuracy=0.50)"
   ]
  },
  {
   "cell_type": "code",
   "execution_count": null,
   "metadata": {},
   "outputs": [],
   "source": []
  }
 ],
 "metadata": {
  "kernelspec": {
   "display_name": "base",
   "language": "python",
   "name": "python3"
  },
  "language_info": {
   "codemirror_mode": {
    "name": "ipython",
    "version": 3
   },
   "file_extension": ".py",
   "mimetype": "text/x-python",
   "name": "python",
   "nbconvert_exporter": "python",
   "pygments_lexer": "ipython3",
   "version": "3.11.7"
  }
 },
 "nbformat": 4,
 "nbformat_minor": 2
}
