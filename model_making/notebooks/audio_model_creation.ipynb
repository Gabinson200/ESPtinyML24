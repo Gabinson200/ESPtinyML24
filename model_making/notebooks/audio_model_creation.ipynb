{
 "cells": [
  {
   "cell_type": "markdown",
   "metadata": {},
   "source": [
    "# Audio Model Creation and Quantization\n",
    "\n",
    "This notebook demonstrates the process of training, quantizing, and evaluating audio models. The workflow includes:\n",
    "\n",
    "1. Auto Model Generation\n",
    "2. Model Training and Pruning\n",
    "3. Quantization (Post-Training and Quantization-Aware)\n",
    "4. Evaluation of Quantized Models\n",
    "5. Analysis of Model Size vs. Accuracy"
   ]
  },
  {
   "cell_type": "markdown",
   "metadata": {},
   "source": [
    "## SCC stuff"
   ]
  },
  {
   "cell_type": "code",
   "execution_count": 1,
   "metadata": {},
   "outputs": [],
   "source": [
    "#when using scc and selecting jupyter modules use these in this order\n",
    "#python3/3.10.12 tensorflow/2.11.0"
   ]
  },
  {
   "cell_type": "markdown",
   "metadata": {},
   "source": [
    "# Imports and GPU\n"
   ]
  },
  {
   "cell_type": "code",
   "execution_count": 2,
   "metadata": {},
   "outputs": [],
   "source": [
    "# Import basic functionality libraries\n",
    "import os\n",
    "import pathlib\n",
    "import matplotlib.pyplot as plt\n",
    "import numpy as np\n",
    "import seaborn as sns\n",
    "import tensorflow as tf\n",
    "import tempfile\n",
    "import shutil\n",
    "import sys\n",
    "import zipfile\n",
    "import re\n",
    "\n",
    "# More specific tf import such as autotuner\n",
    "from tensorflow.keras import layers\n",
    "from IPython import display\n",
    "import keras_tuner as kt\n",
    "from tensorflow.keras.layers import Conv2D, DepthwiseConv2D, GlobalAveragePooling2D, Dense, Activation, Input, Reshape, Multiply, AveragePooling2D\n",
    "from tensorflow.keras.models import Model\n",
    "from tensorflow.keras.layers import Flatten, ReLU, Dropout\n",
    "from tensorflow.keras import Sequential\n",
    "\n",
    "# Libraries for model optimizations\n",
    "import tensorflow_model_optimization as tfmot\n",
    "#from tensorflow_model_optimization.python.core.keras.compat import keras\n",
    "from keras.layers import Resizing\n",
    "from tensorflow_model_optimization.quantization.keras import quantize_annotate_layer\n",
    "import nbimporter\n",
    "#import tf_keras as keras #this one worked for local"
   ]
  },
  {
   "cell_type": "code",
   "execution_count": 3,
   "metadata": {},
   "outputs": [],
   "source": [
    "# for SCC\n",
    "import tensorflow.keras as keras"
   ]
  },
  {
   "cell_type": "markdown",
   "metadata": {},
   "source": [
    "## Setup tensorflow GPU support"
   ]
  },
  {
   "cell_type": "code",
   "execution_count": 27,
   "metadata": {},
   "outputs": [
    {
     "name": "stdout",
     "output_type": "stream",
     "text": [
      "2 Physical GPUs, 2 Logical GPUs\n"
     ]
    }
   ],
   "source": [
    "use_gpu = True # set it here by hand\n",
    "\n",
    "if use_gpu:\n",
    "    # Check if GPU is available\n",
    "    gpus = tf.config.list_physical_devices('GPU')\n",
    "    if gpus:\n",
    "        try:\n",
    "            # Currently, memory growth needs to be the same across GPUs\n",
    "            for gpu in gpus:\n",
    "                tf.config.experimental.set_memory_growth(gpu, True)\n",
    "            logical_gpus = tf.config.list_logical_devices('GPU')\n",
    "            print(len(gpus), \"Physical GPUs,\", len(logical_gpus), \"Logical GPUs\")\n",
    "        except RuntimeError as e:\n",
    "            # Memory growth must be set before GPUs have been initialized\n",
    "            print(e)\n",
    "    else:\n",
    "        print(\"No GPU available\")"
   ]
  },
  {
   "cell_type": "markdown",
   "metadata": {},
   "source": [
    "# Run .py preprocessing that sets up the datasets\n",
    "\n",
    "The code below imports the datasets from serealized TFREcords, batches them, and results in the final train/test/val_spectrogram_ds datasets."
   ]
  },
  {
   "cell_type": "code",
   "execution_count": 28,
   "metadata": {},
   "outputs": [],
   "source": [
    "# Function to parse a single serialized example from TFRecord\n",
    "def _parse_function(proto):\n",
    "    feature_description = {\n",
    "        'image': tf.io.FixedLenFeature([], tf.string),  # Image is stored as a string\n",
    "        'label': tf.io.FixedLenFeature([], tf.int64),   # Label is an int64\n",
    "    }\n",
    "    \n",
    "    # Parse the input `tf.train.Example` proto using the feature description\n",
    "    parsed_example = tf.io.parse_single_example(proto, feature_description)\n",
    "    \n",
    "    # Decode the JPEG-encoded image back into a float32 tensor\n",
    "    image = tf.io.decode_jpeg(parsed_example['image'], channels=1)  # Grayscale\n",
    "    image = tf.image.convert_image_dtype(image, tf.float32)  # Convert to [0, 1] range\n",
    "    \n",
    "    # Reshape the image to its original shape (e.g., [124, 129, 1])\n",
    "    image = tf.reshape(image, [124, 129, 1])\n",
    "    \n",
    "    # Get the label\n",
    "    label = parsed_example['label']\n",
    "    \n",
    "    return image, label"
   ]
  },
  {
   "cell_type": "code",
   "execution_count": 29,
   "metadata": {},
   "outputs": [],
   "source": [
    "# Function to load the dataset from a TFRecord file\n",
    "def load_dataset(tfrecord_file, batch_size=64):\n",
    "    # Load the TFRecord file\n",
    "    raw_dataset = tf.data.TFRecordDataset(tfrecord_file)\n",
    "    \n",
    "    # Parse the serialized data using the _parse_function\n",
    "    parsed_dataset = raw_dataset.map(_parse_function, num_parallel_calls=tf.data.AUTOTUNE)\n",
    "    \n",
    "    # Batch and shuffle the dataset (optional, depending on your needs) buffer_size is not size of batch its size of buffer\n",
    "    parsed_dataset = parsed_dataset.shuffle(buffer_size=1000).batch(batch_size)\n",
    "    parsed_dataset = parsed_dataset.prefetch(buffer_size=tf.data.AUTOTUNE)\n",
    "    \n",
    "    return parsed_dataset"
   ]
  },
  {
   "cell_type": "code",
   "execution_count": 7,
   "metadata": {},
   "outputs": [],
   "source": [
    "# Load the train, test, and validation datasets from TFRecord files\n",
    "train_spectrogram_ds = load_dataset('train_spec_ds.tfrecord')\n",
    "test_spectrogram_ds = load_dataset('test_spec_ds.tfrecord')\n",
    "val_spectrogram_ds = load_dataset('val_spec_ds.tfrecord')"
   ]
  },
  {
   "cell_type": "code",
   "execution_count": 8,
   "metadata": {},
   "outputs": [
    {
     "name": "stdout",
     "output_type": "stream",
     "text": [
      "New dataset size: 213\n",
      "Input shape: (64, 124, 129, 1)\n",
      "Number of classes: 6\n"
     ]
    }
   ],
   "source": [
    "new_size = len(list(train_spectrogram_ds))\n",
    "print(f\"New dataset size: {new_size}\")\n",
    "\n",
    "# Get input shape and number of classes\n",
    "for spectrograms, labels in train_spectrogram_ds.take(1):\n",
    "    input_shape = spectrograms.shape\n",
    "    num_classes = 6\n",
    "    print('Input shape:', input_shape)\n",
    "    print('Number of classes:', num_classes)"
   ]
  },
  {
   "cell_type": "code",
   "execution_count": 9,
   "metadata": {},
   "outputs": [
    {
     "name": "stdout",
     "output_type": "stream",
     "text": [
      "New dataset size: 27\n"
     ]
    }
   ],
   "source": [
    "new_size = len(list(test_spectrogram_ds))\n",
    "print(f\"New dataset size: {new_size}\")"
   ]
  },
  {
   "cell_type": "markdown",
   "metadata": {},
   "source": [
    "# Keras Autotuner\n",
    "\n",
    "The below functions uses keras autotuner to generate models of a general shape defined in the AutoTuner.build_model  \n",
    "and saves the models if their sizes and accuracies meet some thresholds.\n",
    "The training output is truncated so that on the SCC the training can be faster.  \n",
    "The code works on the SCC but for whatever reason I keep running into a CPU memory overflow even tho I  \n",
    "specifically delete the history of models and train in batches. We can work to fix this but I already generated   \n",
    "about a hundred models so it is not a priority."
   ]
  },
  {
   "cell_type": "code",
   "execution_count": 10,
   "metadata": {},
   "outputs": [],
   "source": [
    "import audio_models\n",
    "import logging\n",
    "from contextlib import contextmanager\n",
    "\n",
    "no_logs = False # set to false to see printouts of models during training\n",
    "\n",
    "#class CustomLogger(logging.Logger):\n",
    "#    def __init__(self, name, level=logging.ERROR):  # Only log errors\n",
    "#        super().__init__(name, level)\n",
    "        \n",
    "# Suppress Keras Tuner logger\n",
    "logging.getLogger(\"keras_tuner\").setLevel(logging.CRITICAL)\n",
    "\n",
    "if no_logs:\n",
    "    # Suppress TensorFlow and Keras Tuner logs\n",
    "    os.environ['TF_CPP_MIN_LOG_LEVEL'] = '3'  # Suppress TensorFlow logs\n",
    "    tf.get_logger().setLevel(logging.ERROR)  # Suppress TensorFlow's Python warnings\n",
    "    logging.getLogger(\"keras_tuner\").setLevel(logging.CRITICAL)  # Suppress Keras Tuner logs\n",
    "\n",
    "\n",
    "@contextmanager\n",
    "def suppress_output():\n",
    "    \"\"\"\n",
    "    Suppress all output to stdout and stderr.\n",
    "    \"\"\"\n",
    "    with open(os.devnull, 'w') as devnull:\n",
    "        old_stdout = sys.stdout\n",
    "        old_stderr = sys.stderr\n",
    "        sys.stdout = devnull\n",
    "        sys.stderr = devnull\n",
    "        try:\n",
    "            yield\n",
    "        finally:\n",
    "            sys.stdout = old_stdout\n",
    "            sys.stderr = old_stderr\n",
    "\n",
    "def run_with_iteration_display(autotuner, train_data, val_data, num_epochs, max_trials):\n",
    "    \"\"\"\n",
    "    Run the tuner with suppressed output, but display the current iteration number.\n",
    "    \"\"\"\n",
    "    for current_trial in range(1, max_trials + 1):\n",
    "        # Print the current trial number outside the suppress_output context\n",
    "        print(f\"\\rTraining model {current_trial} out of {max_trials}...\", end=\"\", flush=True)\n",
    "\n",
    "        # Suppress all other outputs during the trial\n",
    "        with suppress_output():\n",
    "            try:\n",
    "                autotuner.run_tuner(train_data, val_data, num_epochs)\n",
    "            except RuntimeError as e:\n",
    "                # Handle errors gracefully without terminating the loop\n",
    "                print(f\"\\nError encountered during trial {current_trial}: {str(e)}\")\n",
    "                continue\n",
    "                \n",
    "    # Access and display the number of saved models\n",
    "    saved_model_count = autotuner.tuner.saved_model_count\n",
    "    print(f\"\\nTraining complete. Saved {saved_model_count} models that fit the criteria.\")\n"
   ]
  },
  {
   "cell_type": "code",
   "execution_count": 11,
   "metadata": {},
   "outputs": [],
   "source": [
    "class CustomRandomSearch(kt.RandomSearch):\n",
    "    def __init__(self, *args, save_dir=None, parameter_threshold=None, accuracy_threshold=None, oracle = None, **kwargs):\n",
    "        super().__init__(*args, **kwargs)\n",
    "        self.save_dir = save_dir\n",
    "        self.parameter_threshold = parameter_threshold\n",
    "        self.accuracy_threshold = accuracy_threshold\n",
    "        os.makedirs(self.save_dir, exist_ok=True)\n",
    "        self.saved_model_count = 0  # Counter for saved models\n",
    "\n",
    "    def run_trial(self, trial, *fit_args, **fit_kwargs):\n",
    "        current_trial = int(trial.trial_id) + 1\n",
    "        total_trials = self.oracle.max_trials\n",
    "        print(f\"\\rTraining model {current_trial} of {total_trials}\", end=\"\")  \n",
    "\n",
    "        model = self.hypermodel.build(trial.hyperparameters)\n",
    "        if hasattr(model, 'is_invalid') and model.is_invalid:\n",
    "            # For invalid models, return a fixed low score without training\n",
    "            self.oracle.update_trial(\n",
    "                trial.trial_id, {'val_accuracy': float('-inf')}\n",
    "            )\n",
    "            return\n",
    "\n",
    "        # Add early stopping callback to fit_kwargs\n",
    "        callbacks = fit_kwargs.get('callbacks', [])\n",
    "        callbacks.extend([\n",
    "            tf.keras.callbacks.EarlyStopping(\n",
    "                monitor='val_accuracy',\n",
    "                min_delta=0.01,\n",
    "                patience=3,\n",
    "                restore_best_weights=True,\n",
    "                verbose=0 #1\n",
    "            )\n",
    "        ])\n",
    "        fit_kwargs['callbacks'] = callbacks\n",
    "\n",
    "        # Train the model\n",
    "        history = model.fit(*fit_args, **fit_kwargs, verbose = 0)\n",
    "\n",
    "        # Extract the best validation accuracy\n",
    "        val_accuracy = max(history.history.get('val_accuracy', [0]))\n",
    "        num_params = model.count_params()\n",
    "\n",
    "        # Save the model if thresholds are met\n",
    "        if val_accuracy > self.accuracy_threshold and num_params < self.parameter_threshold:\n",
    "            model_save_path = os.path.join(\n",
    "                self.save_dir,\n",
    "                f\"model_trial_{trial.trial_id}_acc_{int(val_accuracy * 100)}_params_{num_params}.keras\"\n",
    "            )\n",
    "            model.save(model_save_path)\n",
    "            print(f\"Saved model from trial {trial.trial_id} with accuracy: {val_accuracy:.2f} and params: {num_params}\")\n",
    "            self.saved_model_count += 1\n",
    "            del model\n",
    "            gc.collect()\n",
    "\n",
    "        # Report the metric to the tuner\n",
    "        self.oracle.update_trial(\n",
    "            trial.trial_id, {'val_accuracy': val_accuracy}\n",
    "        )\n"
   ]
  },
  {
   "cell_type": "code",
   "execution_count": 12,
   "metadata": {},
   "outputs": [],
   "source": [
    "class AutoTuner:\n",
    "    def __init__(self, tuner_dir, save_dir, parameter_threshold, accuracy_threshold, max_trials=10, executions_per_trial=1):\n",
    "        self.tuner_dir = tuner_dir\n",
    "        self.save_dir = save_dir\n",
    "        self.parameter_threshold = parameter_threshold\n",
    "        self.accuracy_threshold = accuracy_threshold\n",
    "        self.max_trials = max_trials\n",
    "        self.executions_per_trial = executions_per_trial\n",
    "\n",
    "        # Clean up the tuner directory if it already exists\n",
    "        if os.path.exists(self.tuner_dir):\n",
    "            shutil.rmtree(self.tuner_dir)\n",
    "            \n",
    "        # Create the oracle with a custom limit for consecutive failures\n",
    "        oracle = kt.oracles.RandomSearchOracle(\n",
    "            objective=kt.Objective(\"val_accuracy\", direction=\"max\"),\n",
    "            max_consecutive_failed_trials=10  # Adjust as needed\n",
    "        )\n",
    "\n",
    "        # Initialize the tuner\n",
    "        self.tuner = CustomRandomSearch(\n",
    "            self.build_model,\n",
    "            oracle=oracle,\n",
    "            max_trials=self.max_trials,\n",
    "            executions_per_trial=self.executions_per_trial,\n",
    "            directory=self.tuner_dir,\n",
    "            overwrite=True,  # Overwrite results to free memory\n",
    "            project_name='model_tuning',\n",
    "            save_dir=self.save_dir,\n",
    "            parameter_threshold=self.parameter_threshold,\n",
    "            accuracy_threshold=self.accuracy_threshold,\n",
    "        )\n",
    "\n",
    "    def build_model(self, hp):\n",
    "        \"\"\"\n",
    "        Build model with validation checks that allow skipping invalid configurations.\n",
    "        \"\"\"\n",
    "        model = tf.keras.Sequential()\n",
    "        input_shape = (124, 129, 1)\n",
    "\n",
    "        # Input layer\n",
    "        model.add(layers.Input(shape=input_shape))\n",
    "        \n",
    "        current_height, current_width = input_shape[0], input_shape[1]\n",
    "        is_valid = True\n",
    "\n",
    "        # Convolutional layers with tunable filters, kernel size, and stride\n",
    "        for i in range(hp.Int('num_conv_layers', 1, 3)):\n",
    "            kernel_size = hp.Choice(f'kernel_size_{i}', values=[6, 8, 10, 12])\n",
    "            stride = hp.Choice(f'stride_{i}', values=[2, 4, 8, 10, 12])\n",
    "            \n",
    "            # Calculate new spatial dimensions\n",
    "            new_height = (current_height - kernel_size) // stride + 1\n",
    "            new_width = (current_width - kernel_size) // stride + 1\n",
    "            \n",
    "            # Check if dimensions are valid\n",
    "            if new_height <= 0 or new_width <= 0:\n",
    "                print(f\"Invalid configuration at layer {i}: kernel_size={kernel_size}, stride={stride}, input_shape=({current_height}, {current_width})\")\n",
    "                is_valid = False\n",
    "                break\n",
    "\n",
    "            # Add convolutional layer if valid\n",
    "            model.add(layers.Conv2D(\n",
    "                filters=hp.Int(f'filters_{i}', min_value=6, max_value=12, step=2),\n",
    "                kernel_size=kernel_size,\n",
    "                strides=stride,\n",
    "                activation='relu'\n",
    "            ))\n",
    "            model.add(layers.Dropout(rate=hp.Choice('dropout_rate', values=[0.1, 0.2, 0.3])))\n",
    "\n",
    "            # Update current dimensions\n",
    "            current_height, current_width = new_height, new_width\n",
    "\n",
    "        # If dimensions are invalid, return an invalid model\n",
    "        if not is_valid:\n",
    "            model.is_invalid = True\n",
    "            return model\n",
    "\n",
    "        # Add dropout here or at the end of every conv iteration\n",
    "        #model.add(layers.Dropout(rate=hp.Choice('dropout_rate', values=[0.1, 0.2, 0.3])))\n",
    "\n",
    "        # Flatten layer\n",
    "        model.add(layers.Flatten())\n",
    "\n",
    "        # Output layer\n",
    "        model.add(layers.Dense(6, activation='softmax'))\n",
    "\n",
    "        model_params = model.count_params()\n",
    "        if model_params > self.parameter_threshold:\n",
    "            print(f\"Model exceeds parameter limit: {model_params} params\")\n",
    "            model.is_invalid = True\n",
    "        else:\n",
    "            # Compile the model\n",
    "            model.compile(\n",
    "                optimizer=tf.keras.optimizers.Adam(hp.Choice('learning_rate', [1e-2, 1e-3])),\n",
    "                loss='sparse_categorical_crossentropy',\n",
    "                metrics=['accuracy']\n",
    "            )\n",
    "            model.is_invalid = False\n",
    "\n",
    "        return model\n",
    "\n",
    "\n",
    "    def run_tuner(self, train_data, val_data, num_epochs):\n",
    "        \"\"\"\n",
    "        Run the tuner to search for the best model.\n",
    "        \"\"\"\n",
    "        self.tuner.search(train_data, validation_data=val_data, epochs=num_epochs)\n",
    "        print(f\"\\nTraining complete. Saved {self.tuner.saved_model_count} models that fit the criteria.\")\n"
   ]
  },
  {
   "cell_type": "code",
   "execution_count": 13,
   "metadata": {},
   "outputs": [
    {
     "name": "stdout",
     "output_type": "stream",
     "text": [
      "\n",
      "Training complete. Saved 0 models that fit the criteria.\n"
     ]
    }
   ],
   "source": [
    "# you can remove the wrapper run_with_iteration_display and just call the autotuner for full training output\n",
    "parameter_threshold = 10000 # Model sizes will be below this threshold\n",
    "accuracy_threshold = 0.73 # Models must have validation accuracy above this threshold\n",
    "num_epochs = 10\n",
    "max_trials = 1\n",
    "tuner_dir = 'autotuner_dir'\n",
    "save_dir = \"saved_models\"\n",
    "batch_size = 1\n",
    "\n",
    "# Instantiate and run the AutoTuner\n",
    "for batch in range(0, max_trials, batch_size):\n",
    "    print(f\"Running trials {batch + 1} to {batch + batch_size}\")\n",
    "    autotuner = AutoTuner(tuner_dir, save_dir, parameter_threshold, accuracy_threshold, max_trials=batch_size)\n",
    "    run_with_iteration_display(autotuner, train_spectrogram_ds, val_spectrogram_ds, num_epochs, batch_size)\n",
    "    del autotuner\n",
    "    \n",
    "# If you dont want to train in batches you can use this\n",
    "#autotuner = AutoTuner(tuner_dir, save_dir, parameter_threshold, accuracy_threshold, max_trials)\n",
    "#run_with_iteration_display(autotuner, train_spectrogram_ds, val_spectrogram_ds, num_epochs, max_trials)"
   ]
  },
  {
   "cell_type": "markdown",
   "metadata": {},
   "source": [
    "# Weight initializations?\n",
    "\n",
    "https://arxiv.org/pdf/2402.18153"
   ]
  },
  {
   "cell_type": "code",
   "execution_count": null,
   "metadata": {},
   "outputs": [],
   "source": []
  },
  {
   "cell_type": "markdown",
   "metadata": {},
   "source": [
    "# Novel CNN resnet based models?\n",
    "\n",
    "https://arxiv.org/pdf/2406.02652"
   ]
  },
  {
   "cell_type": "code",
   "execution_count": null,
   "metadata": {},
   "outputs": [],
   "source": []
  },
  {
   "cell_type": "markdown",
   "metadata": {},
   "source": [
    "# Train Base Models"
   ]
  },
  {
   "cell_type": "code",
   "execution_count": 14,
   "metadata": {},
   "outputs": [],
   "source": [
    "def plot_training_history(history, model_index):\n",
    "    \"\"\"Plots training and validation accuracy and loss.\"\"\"\n",
    "    plt.figure(figsize=(12, 4))\n",
    "\n",
    "    # Plot accuracy\n",
    "    plt.subplot(1, 2, 1)\n",
    "    plt.plot(history.history['accuracy'], label='Training Accuracy')\n",
    "    plt.plot(history.history['val_accuracy'], label='Validation Accuracy')\n",
    "    plt.title(f'Model {model_index} Accuracy')\n",
    "    plt.xlabel('Epoch')\n",
    "    plt.ylabel('Accuracy')\n",
    "    plt.legend()\n",
    "\n",
    "    # Plot loss\n",
    "    plt.subplot(1, 2, 2)\n",
    "    plt.plot(history.history['loss'], label='Training Loss')\n",
    "    plt.plot(history.history['val_loss'], label='Validation Loss')\n",
    "    plt.title(f'Model {model_index} Loss')\n",
    "    plt.xlabel('Epoch')\n",
    "    plt.ylabel('Loss')\n",
    "    plt.legend()\n",
    "\n",
    "    plt.show()"
   ]
  },
  {
   "cell_type": "code",
   "execution_count": 15,
   "metadata": {},
   "outputs": [],
   "source": [
    "def filter_keras_models(directory, min_accuracy, max_params):\n",
    "    \"\"\"\n",
    "    Filters .keras models in a directory based on minimum accuracy and maximum parameters.\n",
    "\n",
    "    Args:\n",
    "        directory (str): Path to the directory containing .keras model files.\n",
    "        min_accuracy (float): Minimum accuracy threshold (e.g., 71 for 71%).\n",
    "        max_params (int): Maximum parameter count threshold.\n",
    "\n",
    "    Returns:\n",
    "        list: A list of file paths for models that meet the criteria.\n",
    "    \"\"\"\n",
    "    usable_models = []\n",
    "    model_pattern = r\"model_trial_\\d+_acc_(\\d+)_params_(\\d+)\\.keras\"\n",
    "\n",
    "    for filename in os.listdir(directory):\n",
    "        if filename.endswith(\".keras\"):\n",
    "            match = re.match(model_pattern, filename)\n",
    "            if match:\n",
    "                accuracy = int(match.group(1))  # Extract accuracy\n",
    "                params = int(match.group(2))   # Extract parameter count\n",
    "                \n",
    "                # Check if the model fits the requirements\n",
    "                if accuracy >= min_accuracy and params <= max_params:\n",
    "                    usable_models.append(os.path.join(directory, filename))\n",
    "\n",
    "    return usable_models"
   ]
  },
  {
   "cell_type": "code",
   "execution_count": 16,
   "metadata": {},
   "outputs": [
    {
     "name": "stdout",
     "output_type": "stream",
     "text": [
      "Usable Models:\n",
      "saved_models/model_trial_076_acc_80_params_5556.keras\n",
      "saved_models/model_trial_01_acc_81_params_5500.keras\n",
      "saved_models/model_trial_013_acc_80_params_8398.keras\n",
      "saved_models/model_trial_2_acc_80_params_5896.keras\n",
      "saved_models/model_trial_03_acc_80_params_9098.keras\n",
      "saved_models/model_trial_1_acc_83_params_9438.keras\n"
     ]
    }
   ],
   "source": [
    "# Define directory and thresholds\n",
    "directory = \"saved_models\"\n",
    "min_accuracy = 80  # Minimum accuracy \n",
    "max_params = 10000  # Maximum parameter count \n",
    "\n",
    "# Get usable models\n",
    "usable_models = filter_keras_models(directory, min_accuracy, max_params)\n",
    "\n",
    "print(\"Usable Models:\")\n",
    "for model in usable_models:\n",
    "    print(model)\n",
    "\n",
    "# After some searching we are going to use a model above 70% accuracy and below 4000 parameters\n",
    "# saved_models\\model_trial_091_acc_76_params_3962.keras\n",
    "# saved_models\\model_trial_0000_acc_75_params_3576.keras\n",
    "\n",
    "\n",
    "# and a model with more than 80% accuracy and below 10000 parameters\n",
    "# saved_models\\model_trial_1_acc_83_params_9438.keras\n",
    "# saved_models\\model_trial_01_acc_81_params_5500.keras\n",
    "\n",
    "#for SCC\n",
    "loaded_model_file_paths = [\"saved_models/model_trial_091_acc_76_params_3962.keras\", \"saved_models/model_trial_0000_acc_75_params_3576.keras\",\n",
    "                   \"saved_models/model_trial_1_acc_83_params_9438.keras\", \"saved_models/model_trial_01_acc_81_params_5500.keras\"]\n",
    "\n",
    "# for local machine\n",
    "#loaded_model_file_paths = [\n",
    "#\"saved_models\\model_trial_0_acc_72_params_8976.keras\",\n",
    "#\"saved_models\\model_trial_0_acc_76_params_4426.keras\",\n",
    "#\"saved_models\\model_trial_1_acc_70_params_8946.keras\"]"
   ]
  },
  {
   "cell_type": "code",
   "execution_count": 17,
   "metadata": {},
   "outputs": [],
   "source": [
    "def train_or_evaluate_models(model_file_paths, root_dir, train_ds, val_ds, test_ds, epochs=10, retrain=False):\n",
    "    \"\"\"\n",
    "    Retrains or evaluates models from .keras files.\n",
    "\n",
    "    Args:\n",
    "        model_file_paths (list): List of relative paths to .keras model files.\n",
    "        root_dir (str): Root directory where the models are stored.\n",
    "        train_ds: Training dataset.\n",
    "        val_ds: Validation dataset.\n",
    "        test_ds: Test dataset for evaluation.\n",
    "        epochs (int): Number of epochs for retraining.\n",
    "        retrain (bool): If True, retrains the model; otherwise, evaluates it as is.\n",
    "\n",
    "    Returns:\n",
    "        results (dict): Dictionary containing training histories (if retrained) or evaluation scores.\n",
    "    \"\"\"\n",
    "    models = []\n",
    "\n",
    "    for i, model_path in enumerate(model_file_paths):\n",
    "        # Construct the absolute path\n",
    "        full_model_path = os.path.join(root_dir, model_path)\n",
    "        print(f\"\\nProcessing Model {i}: {full_model_path}\")\n",
    "\n",
    "        # Debug: Ensure file path correctness\n",
    "        if not os.path.exists(full_model_path):\n",
    "            print(f\"Error: File does not exist at {full_model_path}\")\n",
    "            continue\n",
    "\n",
    "        # Load the pretrained model\n",
    "        try:\n",
    "            model = tf.keras.models.load_model(full_model_path)\n",
    "        except ValueError as e:\n",
    "            print(f\"Error loading model from {full_model_path}: {e}\")\n",
    "            continue\n",
    "\n",
    "        if retrain:\n",
    "            # Compile the model before retraining\n",
    "            model.compile(\n",
    "                optimizer='adam',\n",
    "                loss=tf.keras.losses.SparseCategoricalCrossentropy(from_logits=False),\n",
    "                metrics=['accuracy']\n",
    "            )\n",
    "            model.summary()\n",
    "\n",
    "            # Retrain the model\n",
    "            history = model.fit(\n",
    "                train_ds,\n",
    "                validation_data=val_ds,\n",
    "                epochs=epochs,\n",
    "                callbacks=[keras.callbacks.EarlyStopping(verbose=1, patience=2, min_delta=0.01)],\n",
    "                verbose=1\n",
    "            )\n",
    "            \n",
    "            # Plot training history\n",
    "            plot_training_history(history, i)\n",
    "        else:\n",
    "            # Evaluate the model without retraining\n",
    "            eval_score = model.evaluate(test_ds, verbose=1)\n",
    "            print(f\"Evaluation Score for Model {i}: {eval_score}\")\n",
    "\n",
    "        models.append(model)\n",
    "\n",
    "\n",
    "    return models"
   ]
  },
  {
   "cell_type": "code",
   "execution_count": 18,
   "metadata": {},
   "outputs": [
    {
     "name": "stdout",
     "output_type": "stream",
     "text": [
      "\n",
      "Processing Model 0: /projectnb/cs640grp/projects/tinyml/saved_models/model_trial_091_acc_76_params_3962.keras\n",
      "27/27 [==============================] - 0s 2ms/step - loss: 0.6959 - accuracy: 0.7488\n",
      "Evaluation Score for Model 0: [0.6959185004234314, 0.7488235235214233]\n",
      "\n",
      "Processing Model 1: /projectnb/cs640grp/projects/tinyml/saved_models/model_trial_0000_acc_75_params_3576.keras\n",
      "27/27 [==============================] - 0s 2ms/step - loss: 0.7161 - accuracy: 0.7288\n",
      "Evaluation Score for Model 1: [0.716129720211029, 0.7288235425949097]\n",
      "\n",
      "Processing Model 2: /projectnb/cs640grp/projects/tinyml/saved_models/model_trial_1_acc_83_params_9438.keras\n",
      "27/27 [==============================] - 0s 2ms/step - loss: 0.5026 - accuracy: 0.8100\n",
      "Evaluation Score for Model 2: [0.5025997757911682, 0.8100000023841858]\n",
      "\n",
      "Processing Model 3: /projectnb/cs640grp/projects/tinyml/saved_models/model_trial_01_acc_81_params_5500.keras\n",
      "27/27 [==============================] - 0s 2ms/step - loss: 0.5629 - accuracy: 0.7965\n",
      "Evaluation Score for Model 3: [0.5628840327262878, 0.796470582485199]\n"
     ]
    }
   ],
   "source": [
    "root_directory = r\"/projectnb/cs640grp/projects/tinyml\" # for SCC\n",
    "# root_directory = \"C:\\\\Users\\\\adamk\\\\Downloads\\\\micro_speech_model_making\\\\notebooks\\\\\" # for local\n",
    "\n",
    "new_models = train_or_evaluate_models(\n",
    "    model_file_paths=loaded_model_file_paths,\n",
    "    root_dir=root_directory,\n",
    "    train_ds=train_spectrogram_ds,\n",
    "    val_ds=val_spectrogram_ds,\n",
    "    test_ds=test_spectrogram_ds,\n",
    "    epochs=10,\n",
    "    retrain=False  # Retrain the models\n",
    ")"
   ]
  },
  {
   "cell_type": "code",
   "execution_count": 19,
   "metadata": {},
   "outputs": [
    {
     "name": "stdout",
     "output_type": "stream",
     "text": [
      "\n",
      "Training Model 0\n",
      "Model: \"tiny_embed_conv_model\"\n",
      "_________________________________________________________________\n",
      " Layer (type)                Output Shape              Param #   \n",
      "=================================================================\n",
      " conv1 (Conv2D)              (None, 62, 65, 8)         648       \n",
      "                                                                 \n",
      " relu1 (ReLU)                (None, 62, 65, 8)         0         \n",
      "                                                                 \n",
      " dropout1 (Dropout)          (None, 62, 65, 8)         0         \n",
      "                                                                 \n",
      " conv2 (Conv2D)              (None, 8, 9, 8)           5128      \n",
      "                                                                 \n",
      " relu2 (ReLU)                (None, 8, 9, 8)           0         \n",
      "                                                                 \n",
      " dropout2 (Dropout)          (None, 8, 9, 8)           0         \n",
      "                                                                 \n",
      " flatten (Flatten)           (None, 576)               0         \n",
      "                                                                 \n",
      " fc2 (Dense)                 (None, 6)                 3462      \n",
      "                                                                 \n",
      "=================================================================\n",
      "Total params: 9,238\n",
      "Trainable params: 9,238\n",
      "Non-trainable params: 0\n",
      "_________________________________________________________________\n",
      "Epoch 1/20\n"
     ]
    },
    {
     "name": "stderr",
     "output_type": "stream",
     "text": [
      "/share/pkg.7/tensorflow/2.11.0/install/lib/SCC/../python3.10/site-packages/keras/backend.py:5585: UserWarning: \"`sparse_categorical_crossentropy` received `from_logits=True`, but the `output` argument was produced by a Softmax activation and thus does not represent logits. Was this intended?\n",
      "  output, from_logits = _get_logits(\n"
     ]
    },
    {
     "name": "stdout",
     "output_type": "stream",
     "text": [
      "213/213 [==============================] - 1s 3ms/step - loss: 1.3518 - accuracy: 0.5038 - val_loss: 1.1555 - val_accuracy: 0.5735\n",
      "Epoch 2/20\n",
      "213/213 [==============================] - 1s 2ms/step - loss: 1.1481 - accuracy: 0.5615 - val_loss: 1.1010 - val_accuracy: 0.5906\n",
      "Epoch 3/20\n",
      "213/213 [==============================] - 1s 2ms/step - loss: 1.0730 - accuracy: 0.5896 - val_loss: 1.0218 - val_accuracy: 0.6088\n",
      "Epoch 4/20\n",
      "213/213 [==============================] - 1s 2ms/step - loss: 1.0169 - accuracy: 0.6109 - val_loss: 0.9522 - val_accuracy: 0.6365\n",
      "Epoch 5/20\n",
      "213/213 [==============================] - 1s 2ms/step - loss: 0.9699 - accuracy: 0.6304 - val_loss: 0.9094 - val_accuracy: 0.6612\n",
      "Epoch 6/20\n",
      "213/213 [==============================] - 1s 2ms/step - loss: 0.9199 - accuracy: 0.6551 - val_loss: 0.8658 - val_accuracy: 0.6753\n",
      "Epoch 7/20\n",
      "213/213 [==============================] - 1s 2ms/step - loss: 0.8794 - accuracy: 0.6673 - val_loss: 0.8138 - val_accuracy: 0.6988\n",
      "Epoch 8/20\n",
      "213/213 [==============================] - 1s 2ms/step - loss: 0.8349 - accuracy: 0.6872 - val_loss: 0.7609 - val_accuracy: 0.7224\n",
      "Epoch 9/20\n",
      "213/213 [==============================] - 1s 2ms/step - loss: 0.7981 - accuracy: 0.7008 - val_loss: 0.7269 - val_accuracy: 0.7418\n",
      "Epoch 10/20\n",
      "213/213 [==============================] - 1s 2ms/step - loss: 0.7532 - accuracy: 0.7174 - val_loss: 0.6950 - val_accuracy: 0.7559\n",
      "Epoch 11/20\n",
      "213/213 [==============================] - 1s 2ms/step - loss: 0.7177 - accuracy: 0.7334 - val_loss: 0.6628 - val_accuracy: 0.7635\n",
      "Epoch 12/20\n",
      "213/213 [==============================] - 1s 2ms/step - loss: 0.6972 - accuracy: 0.7429 - val_loss: 0.6600 - val_accuracy: 0.7524\n",
      "Epoch 13/20\n",
      "213/213 [==============================] - 0s 2ms/step - loss: 0.6722 - accuracy: 0.7492 - val_loss: 0.6152 - val_accuracy: 0.7794\n",
      "Epoch 14/20\n",
      "213/213 [==============================] - 1s 2ms/step - loss: 0.6475 - accuracy: 0.7613 - val_loss: 0.6159 - val_accuracy: 0.7741\n",
      "Epoch 15/20\n",
      "213/213 [==============================] - 1s 2ms/step - loss: 0.6314 - accuracy: 0.7638 - val_loss: 0.5861 - val_accuracy: 0.7859\n",
      "Epoch 16/20\n",
      "213/213 [==============================] - 1s 2ms/step - loss: 0.6057 - accuracy: 0.7727 - val_loss: 0.5673 - val_accuracy: 0.7947\n",
      "Epoch 17/20\n",
      "213/213 [==============================] - 1s 2ms/step - loss: 0.5945 - accuracy: 0.7755 - val_loss: 0.5642 - val_accuracy: 0.7900\n",
      "Epoch 18/20\n",
      "213/213 [==============================] - 1s 2ms/step - loss: 0.5762 - accuracy: 0.7854 - val_loss: 0.5522 - val_accuracy: 0.7994\n",
      "Epoch 19/20\n",
      "213/213 [==============================] - 1s 2ms/step - loss: 0.5770 - accuracy: 0.7832 - val_loss: 0.5414 - val_accuracy: 0.8076\n",
      "Epoch 20/20\n",
      "213/213 [==============================] - 1s 2ms/step - loss: 0.5644 - accuracy: 0.7898 - val_loss: 0.5274 - val_accuracy: 0.8118\n"
     ]
    },
    {
     "data": {
      "image/png": "[encoded data removed]",
      "text/plain": [
       "<Figure size 1200x400 with 2 Axes>"
      ]
     },
     "metadata": {},
     "output_type": "display_data"
    }
   ],
   "source": [
    "models = []\n",
    "histories = []\n",
    "sequential_models = True\n",
    "\n",
    "\n",
    "for i, create_model in enumerate([audio_models.create_tiny_embed_conv_model_small]):\n",
    "    print(f'\\nTraining Model {i}')\n",
    "    input_shape = (124, 129, 1)\n",
    "    model = create_model(input_shape)\n",
    "    \n",
    "    model.compile(\n",
    "        optimizer='adam',\n",
    "        loss=tf.keras.losses.SparseCategoricalCrossentropy(from_logits=True),\n",
    "        metrics=['accuracy']\n",
    "    )\n",
    "\n",
    "    model.summary()\n",
    "\n",
    "\n",
    "    history = model.fit(\n",
    "        train_spectrogram_ds,\n",
    "        validation_data=val_spectrogram_ds,\n",
    "        epochs=20,  # You can adjust the number of epochs\n",
    "        callbacks=keras.callbacks.EarlyStopping(verbose=1, patience=2, min_delta=0.01),\n",
    "        verbose = 1\n",
    "    )\n",
    "    models.append(model)\n",
    "    histories.append(history)\n",
    "    \n",
    "    plot_training_history(history, i)\n"
   ]
  },
  {
   "cell_type": "markdown",
   "metadata": {},
   "source": [
    "## Compile and test models"
   ]
  },
  {
   "cell_type": "code",
   "execution_count": 20,
   "metadata": {},
   "outputs": [],
   "source": [
    "final_models = new_models + models"
   ]
  },
  {
   "cell_type": "code",
   "execution_count": 21,
   "metadata": {},
   "outputs": [],
   "source": [
    "\n",
    "\n",
    "# Function to reload any serialized models (from bytes) if necessary\n",
    "def load_if_serialized(model):\n",
    "    if isinstance(model, bytes):\n",
    "        # Assuming the model was saved as bytes, use `tf.keras.models.model_from_json` or similar\n",
    "        raise TypeError(\"Model is in a serialized bytes format. Please load it as a Keras model before passing.\")\n",
    "    return model\n",
    "\n",
    "def get_gzipped_model_size(model):\n",
    "    # Save the model to a temporary file in .keras format\n",
    "    with tempfile.NamedTemporaryFile(suffix='.keras', delete=False) as temp_file:\n",
    "        model.save(temp_file.name)\n",
    "        model_filename = temp_file.name\n",
    "\n",
    "    # Compress the model file to calculate its gzipped size\n",
    "    with tempfile.NamedTemporaryFile(suffix='.zip', delete=False) as temp_zip:\n",
    "        zipped_file = temp_zip.name\n",
    "    with zipfile.ZipFile(zipped_file, 'w', compression=zipfile.ZIP_DEFLATED) as f:\n",
    "        f.write(model_filename, arcname='model.keras')\n",
    "\n",
    "    # Get the size of the gzipped model file in kilobytes\n",
    "    gzipped_size = os.path.getsize(zipped_file) / 1000  # Convert bytes to KB\n",
    "\n",
    "    # Clean up temporary files\n",
    "    os.remove(model_filename)\n",
    "    os.remove(zipped_file)\n",
    "\n",
    "    return gzipped_size\n",
    "\n",
    "def plot_size_v_accuracy(models, test_spectrogram_ds):\n",
    "    # Lists to store the results\n",
    "    accuracies = []\n",
    "    model_sizes = []\n",
    "    model_names = []\n",
    "\n",
    "    # Evaluate each model and store the results\n",
    "    for i, model in enumerate(models, start=1):\n",
    "        try:\n",
    "            # Load model if it's in serialized bytes format\n",
    "            model = load_if_serialized(model)\n",
    "\n",
    "            # Check if model is a Keras model instance\n",
    "            #if not isinstance(model, tf.keras.Model):\n",
    "            #    raise TypeError(f\"Model {i} is not a Keras model instance.\")\n",
    "\n",
    "            # Check if the model is compiled by looking for an optimizer\n",
    "            if model.optimizer is None:\n",
    "                model.compile(\n",
    "                    optimizer='adam',\n",
    "                    loss=tf.keras.losses.SparseCategoricalCrossentropy(from_logits=True),\n",
    "                    metrics=['accuracy']\n",
    "                )\n",
    "            \n",
    "            # Evaluate the model\n",
    "            test_loss, test_acc = model.evaluate(test_spectrogram_ds, verbose=0)\n",
    "\n",
    "            # Calculate the gzipped model size\n",
    "            gzipped_size = get_gzipped_model_size(model)\n",
    "\n",
    "            # Print the details\n",
    "            print(f\"Model {i} ({model.name}):\")\n",
    "            print(f\"  Gzipped Model Size: {gzipped_size:.2f} KB\")\n",
    "            print(f\"  Test Accuracy: {test_acc:.4f}\")\n",
    "            \n",
    "            # Store the accuracy and model size\n",
    "            accuracies.append(test_acc)\n",
    "            model_sizes.append(gzipped_size)\n",
    "            model_names.append(model.name)\n",
    "\n",
    "        except Exception as e:\n",
    "            print(f\"An error occurred with Model {i}: {e}\")\n",
    "\n",
    "    # Plotting accuracy vs. gzipped model size\n",
    "    plt.figure(figsize=(10, 6))\n",
    "    plt.plot(model_sizes, accuracies, marker='o', linestyle='', color='b')\n",
    "\n",
    "    for i, model_name in enumerate(model_names):\n",
    "        plt.text(model_sizes[i], accuracies[i], model_name, fontsize=9, ha='right')\n",
    "\n",
    "    # Add labels and title\n",
    "    plt.xlabel('Gzipped Model Size (KB)')\n",
    "    plt.ylabel('Test Accuracy')\n",
    "    plt.title('Model Accuracy vs. Gzipped Model Size')\n",
    "    plt.grid(True)\n",
    "    plt.show()"
   ]
  },
  {
   "cell_type": "code",
   "execution_count": 22,
   "metadata": {},
   "outputs": [
    {
     "name": "stdout",
     "output_type": "stream",
     "text": [
      "Model 1 (sequential_122):\n",
      "  Gzipped Model Size: 48.87 KB\n",
      "  Test Accuracy: 0.7488\n",
      "Model 2 (sequential_40):\n",
      "  Gzipped Model Size: 37.27 KB\n",
      "  Test Accuracy: 0.7288\n",
      "Model 3 (sequential_42):\n",
      "  Gzipped Model Size: 110.75 KB\n",
      "  Test Accuracy: 0.8100\n",
      "Model 4 (sequential_154):\n",
      "  Gzipped Model Size: 66.39 KB\n",
      "  Test Accuracy: 0.7965\n",
      "Model 5 (tiny_embed_conv_model):\n",
      "  Gzipped Model Size: 106.32 KB\n",
      "  Test Accuracy: 0.7976\n"
     ]
    },
    {
     "data": {
      "image/png": "[encoded data removed]",
      "text/plain": [
       "<Figure size 1000x600 with 1 Axes>"
      ]
     },
     "metadata": {},
     "output_type": "display_data"
    }
   ],
   "source": [
    "plot_size_v_accuracy(final_models, test_spectrogram_ds)"
   ]
  },
  {
   "cell_type": "markdown",
   "metadata": {},
   "source": [
    "# Shrinking the model\n",
    "\n",
    "[deployment on the edge](https://ai.google.dev/edge/litert)\n",
    "\n",
    "[general model optimizations](https://www.tensorflow.org/model_optimization/guide)\n",
    "\n",
    "We will start off with pruning\n",
    "\n",
    "we will aslo try quantization aware training to quantize the model\n",
    "and we will also try different post-training quantizations\n",
    "\n",
    "we can also try weight clustering\n",
    "\n",
    "and finalyl we will try a single workflow with a combination of the previous methods\n",
    "[collaborative optimizations](https://www.tensorflow.org/model_optimization/guide/combine/collaborative_optimization)\n",
    "\n",
    "\n",
    "https://blog.tensorflow.org/2024/04/faster-dynamically-quantized-inference-with-xnnpack.html\n",
    "\n"
   ]
  },
  {
   "cell_type": "markdown",
   "metadata": {},
   "source": [
    "# Pruning (pruning does not work with the generated models, ill have to fix that)"
   ]
  },
  {
   "cell_type": "code",
   "execution_count": 30,
   "metadata": {},
   "outputs": [],
   "source": [
    "### Helper functions for pruning\n",
    "\n",
    "def ds_to_numpy(dataset):\n",
    "    \"\"\"Converts a tf.data.Dataset to numpy arrays for data and labels.\"\"\"\n",
    "    data = []\n",
    "    labels = []\n",
    "    \n",
    "    for features, label in dataset:\n",
    "        data.append(features)\n",
    "        labels.append(label)\n",
    "\n",
    "    data = tf.concat(data, axis=0)\n",
    "    labels = tf.concat(labels, axis=0)\n",
    "    return data, labels\n",
    "\n",
    "def print_model_weights_sparsity(model):\n",
    "    \"\"\"Prints the sparsity (percentage of zeros) for each layer's weights in the model.\"\"\"\n",
    "    for layer in model.layers:\n",
    "        if isinstance(layer, keras.layers.Wrapper):  # For pruned layers wrapped in the pruning wrapper\n",
    "            weights = layer.trainable_weights\n",
    "        else:\n",
    "            weights = layer.weights\n",
    "        for weight in weights:\n",
    "            weight_np = weight.numpy()\n",
    "            weight_size = weight_np.size\n",
    "            zero_num = np.count_nonzero(weight_np == 0)\n",
    "            print(f\"{weight.name}: {zero_num / weight_size:.2%} sparsity ({zero_num}/{weight_size})\")\n",
    "            \n",
    "def sequential_to_functional(sequential_model):\n",
    "    # Extract the layers from the Sequential model\n",
    "    inputs = Input(shape=sequential_model.input_shape[1:])\n",
    "    x = inputs\n",
    "\n",
    "    # Apply each layer from the Sequential model in sequence\n",
    "    for layer in sequential_model.layers:\n",
    "        x = layer(x)\n",
    "    \n",
    "    # Create a new functional model\n",
    "    functional_model = Model(inputs=inputs, outputs=x)\n",
    "    \n",
    "    # Copy weights from the Sequential model\n",
    "    functional_model.set_weights(sequential_model.get_weights())\n",
    "\n",
    "    print(functional_model)\n",
    "    \n",
    "    return functional_model"
   ]
  },
  {
   "cell_type": "code",
   "execution_count": 31,
   "metadata": {},
   "outputs": [],
   "source": [
    "def prune_model(model, train_spectrogram_ds, test_spectrogram_ds, qat=False):\n",
    "    \"\"\"Prunes the given model with optional quantization-aware training (QAT).\"\"\"\n",
    "    # Ensure model is compatible with pruning by converting it to functional if needed\n",
    "    #model = sequential_to_functional(model)\n",
    "    \n",
    "    # Convert datasets to numpy arrays\n",
    "    train_data, train_labels = ds_to_numpy(train_spectrogram_ds)\n",
    "    test_data, test_labels = ds_to_numpy(test_spectrogram_ds)\n",
    "\n",
    "    # Define pruning parameters\n",
    "    pruning_params = {\n",
    "        'pruning_schedule': tfmot.sparsity.keras.ConstantSparsity(0.5, begin_step=0, frequency=100)\n",
    "    }\n",
    "    \n",
    "    # Define pruning callbacks\n",
    "    callbacks = [tfmot.sparsity.keras.UpdatePruningStep()]\n",
    "\n",
    "    # Apply pruning\n",
    "    if qat:\n",
    "        # Quantization-aware training with pruning\n",
    "        quant_aware_annotate_model = tfmot.quantization.keras.quantize_annotate_model(model)\n",
    "        pruned_model = tfmot.quantization.keras.quantize_apply(\n",
    "            quant_aware_annotate_model,\n",
    "            tfmot.experimental.combine.Default8BitPrunePreserveQuantizeScheme()\n",
    "        )\n",
    "    else:\n",
    "        # Standard pruning\n",
    "        pruned_model = tfmot.sparsity.keras.prune_low_magnitude(model, **pruning_params)\n",
    "\n",
    "    # Compile the pruned model with a smaller learning rate for fine-tuning\n",
    "    pruned_model.compile(\n",
    "        optimizer=keras.optimizers.Adam(learning_rate=1e-5),\n",
    "        loss=keras.losses.SparseCategoricalCrossentropy(from_logits=True),\n",
    "        metrics=['accuracy']\n",
    "    )\n",
    "    \n",
    "    # Display model summary\n",
    "    pruned_model.summary()\n",
    "\n",
    "    # Fine-tune the pruned model\n",
    "    pruned_model.fit(\n",
    "        train_data,\n",
    "        train_labels,\n",
    "        epochs=3,\n",
    "        validation_split=0.1,\n",
    "        callbacks=callbacks\n",
    "    )\n",
    "\n",
    "    # Strip pruning wrappers for final deployment\n",
    "    stripped_pruned_model = tfmot.sparsity.keras.strip_pruning(pruned_model)\n",
    "\n",
    "    # Check sparsity levels\n",
    "    print_model_weights_sparsity(stripped_pruned_model)\n",
    "\n",
    "    # Evaluate the pruned model on test data\n",
    "    _, pruned_model_accuracy = pruned_model.evaluate(test_data, test_labels, verbose=0)\n",
    "    print(\"Pruned test accuracy:\", pruned_model_accuracy)\n",
    "\n",
    "    return stripped_pruned_model\n"
   ]
  },
  {
   "cell_type": "code",
   "execution_count": 25,
   "metadata": {},
   "outputs": [
    {
     "name": "stdout",
     "output_type": "stream",
     "text": [
      "WARNING:tensorflow:From /share/pkg.7/tensorflow/2.11.0/install/lib/SCC/../python3.10/site-packages/tensorflow/python/autograph/pyct/static_analysis/liveness.py:83: Analyzer.lamba_check (from tensorflow.python.autograph.pyct.static_analysis.liveness) is deprecated and will be removed after 2023-09-23.\n",
      "Instructions for updating:\n",
      "Lambda fuctions will be no more assumed to be used in the statement where they are used, or at least in the same block. https://github.com/tensorflow/tensorflow/issues/56089\n",
      "Model: \"sequential_122\"\n",
      "_________________________________________________________________\n",
      " Layer (type)                Output Shape              Param #   \n",
      "=================================================================\n",
      " prune_low_magnitude_conv2d_  (None, 29, 30, 6)        1736      \n",
      " 206 (PruneLowMagnitude)                                         \n",
      "                                                                 \n",
      " prune_low_magnitude_dropout  (None, 29, 30, 6)        1         \n",
      " _206 (PruneLowMagnitude)                                        \n",
      "                                                                 \n",
      " prune_low_magnitude_conv2d_  (None, 6, 7, 6)          2600      \n",
      " 207 (PruneLowMagnitude)                                         \n",
      "                                                                 \n",
      " prune_low_magnitude_dropout  (None, 6, 7, 6)          1         \n",
      " _207 (PruneLowMagnitude)                                        \n",
      "                                                                 \n",
      " prune_low_magnitude_conv2d_  (None, 1, 1, 8)          3466      \n",
      " 208 (PruneLowMagnitude)                                         \n",
      "                                                                 \n",
      " prune_low_magnitude_dropout  (None, 1, 1, 8)          1         \n",
      " _208 (PruneLowMagnitude)                                        \n",
      "                                                                 \n",
      " prune_low_magnitude_flatten  (None, 8)                1         \n",
      " _85 (PruneLowMagnitude)                                         \n",
      "                                                                 \n",
      " prune_low_magnitude_dense_8  (None, 6)                104       \n",
      " 5 (PruneLowMagnitude)                                           \n",
      "                                                                 \n",
      "=================================================================\n",
      "Total params: 7,910\n",
      "Trainable params: 3,962\n",
      "Non-trainable params: 3,948\n",
      "_________________________________________________________________\n",
      "Epoch 1/3\n",
      "383/383 [==============================] - 4s 3ms/step - loss: 1.0545 - accuracy: 0.5769 - val_loss: 0.9382 - val_accuracy: 0.6588\n",
      "Epoch 2/3\n",
      "383/383 [==============================] - 1s 2ms/step - loss: 1.1006 - accuracy: 0.5519 - val_loss: 0.9276 - val_accuracy: 0.6581\n",
      "Epoch 3/3\n",
      "383/383 [==============================] - 1s 2ms/step - loss: 1.0966 - accuracy: 0.5580 - val_loss: 0.9193 - val_accuracy: 0.6603\n",
      "conv2d_206/kernel:0: 50.00% sparsity (432/864)\n",
      "conv2d_206/bias:0: 0.00% sparsity (0/6)\n",
      "conv2d_207/kernel:0: 50.00% sparsity (648/1296)\n",
      "conv2d_207/bias:0: 0.00% sparsity (0/6)\n",
      "conv2d_208/kernel:0: 50.00% sparsity (864/1728)\n",
      "conv2d_208/bias:0: 0.00% sparsity (0/8)\n",
      "dense_85/kernel:0: 50.00% sparsity (24/48)\n",
      "dense_85/bias:0: 0.00% sparsity (0/6)\n",
      "Pruned test accuracy: 0.6499999761581421\n",
      "Model: \"sequential_40\"\n",
      "_________________________________________________________________\n",
      " Layer (type)                Output Shape              Param #   \n",
      "=================================================================\n",
      " prune_low_magnitude_conv2d_  (None, 30, 31, 6)        776       \n",
      " 71 (PruneLowMagnitude)                                          \n",
      "                                                                 \n",
      " prune_low_magnitude_conv2d_  (None, 13, 13, 6)        2600      \n",
      " 72 (PruneLowMagnitude)                                          \n",
      "                                                                 \n",
      " prune_low_magnitude_conv2d_  (None, 4, 4, 6)          2600      \n",
      " 73 (PruneLowMagnitude)                                          \n",
      "                                                                 \n",
      " prune_low_magnitude_dropout  (None, 4, 4, 6)          1         \n",
      " _30 (PruneLowMagnitude)                                         \n",
      "                                                                 \n",
      " prune_low_magnitude_flatten  (None, 96)               1         \n",
      " _30 (PruneLowMagnitude)                                         \n",
      "                                                                 \n",
      " prune_low_magnitude_dense_3  (None, 6)                1160      \n",
      " 0 (PruneLowMagnitude)                                           \n",
      "                                                                 \n",
      "=================================================================\n",
      "Total params: 7,138\n",
      "Trainable params: 3,576\n",
      "Non-trainable params: 3,562\n",
      "_________________________________________________________________\n",
      "Epoch 1/3\n",
      "383/383 [==============================] - 2s 3ms/step - loss: 0.9400 - accuracy: 0.6399 - val_loss: 0.8561 - val_accuracy: 0.6787\n",
      "Epoch 2/3\n",
      "383/383 [==============================] - 1s 2ms/step - loss: 0.9823 - accuracy: 0.6265 - val_loss: 0.8384 - val_accuracy: 0.6912\n",
      "Epoch 3/3\n",
      "383/383 [==============================] - 1s 2ms/step - loss: 0.9653 - accuracy: 0.6328 - val_loss: 0.8265 - val_accuracy: 0.6956\n",
      "conv2d_71/kernel:0: 50.00% sparsity (192/384)\n",
      "conv2d_71/bias:0: 0.00% sparsity (0/6)\n",
      "conv2d_72/kernel:0: 50.00% sparsity (648/1296)\n",
      "conv2d_72/bias:0: 0.00% sparsity (0/6)\n",
      "conv2d_73/kernel:0: 50.00% sparsity (648/1296)\n",
      "conv2d_73/bias:0: 0.00% sparsity (0/6)\n",
      "dense_30/kernel:0: 50.00% sparsity (288/576)\n",
      "dense_30/bias:0: 0.00% sparsity (0/6)\n",
      "Pruned test accuracy: 0.6647058725357056\n",
      "Model: \"sequential_42\"\n",
      "_________________________________________________________________\n",
      " Layer (type)                Output Shape              Param #   \n",
      "=================================================================\n",
      " prune_low_magnitude_conv2d_  (None, 59, 61, 12)       1550      \n",
      " 68 (PruneLowMagnitude)                                          \n",
      "                                                                 \n",
      " prune_low_magnitude_dropout  (None, 59, 61, 12)       1         \n",
      " _68 (PruneLowMagnitude)                                         \n",
      "                                                                 \n",
      " prune_low_magnitude_conv2d_  (None, 27, 28, 6)        5192      \n",
      " 69 (PruneLowMagnitude)                                          \n",
      "                                                                 \n",
      " prune_low_magnitude_dropout  (None, 27, 28, 6)        1         \n",
      " _69 (PruneLowMagnitude)                                         \n",
      "                                                                 \n",
      " prune_low_magnitude_conv2d_  (None, 11, 12, 6)        2600      \n",
      " 70 (PruneLowMagnitude)                                          \n",
      "                                                                 \n",
      " prune_low_magnitude_dropout  (None, 11, 12, 6)        1         \n",
      " _70 (PruneLowMagnitude)                                         \n",
      "                                                                 \n",
      " prune_low_magnitude_flatten  (None, 792)              1         \n",
      " _34 (PruneLowMagnitude)                                         \n",
      "                                                                 \n",
      " prune_low_magnitude_dense_3  (None, 6)                9512      \n",
      " 4 (PruneLowMagnitude)                                           \n",
      "                                                                 \n",
      "=================================================================\n",
      "Total params: 18,858\n",
      "Trainable params: 9,438\n",
      "Non-trainable params: 9,420\n",
      "_________________________________________________________________\n",
      "Epoch 1/3\n",
      "383/383 [==============================] - 2s 3ms/step - loss: 0.6539 - accuracy: 0.7701 - val_loss: 0.5693 - val_accuracy: 0.8346\n",
      "Epoch 2/3\n",
      "383/383 [==============================] - 1s 3ms/step - loss: 0.6516 - accuracy: 0.7692 - val_loss: 0.5388 - val_accuracy: 0.8287\n",
      "Epoch 3/3\n",
      "383/383 [==============================] - 1s 3ms/step - loss: 0.6283 - accuracy: 0.7723 - val_loss: 0.5188 - val_accuracy: 0.8279\n",
      "conv2d_68/kernel:0: 50.00% sparsity (384/768)\n",
      "conv2d_68/bias:0: 0.00% sparsity (0/12)\n",
      "conv2d_69/kernel:0: 50.00% sparsity (1296/2592)\n",
      "conv2d_69/bias:0: 0.00% sparsity (0/6)\n",
      "conv2d_70/kernel:0: 50.00% sparsity (648/1296)\n",
      "conv2d_70/bias:0: 0.00% sparsity (0/6)\n",
      "dense_34/kernel:0: 50.00% sparsity (2376/4752)\n",
      "dense_34/bias:0: 0.00% sparsity (0/6)\n"
     ]
    },
    {
     "name": "stdout",
     "output_type": "stream",
     "text": [
      "Pruned test accuracy: 0.798235297203064\n",
      "Model: \"sequential_154\"\n",
      "_________________________________________________________________\n",
      " Layer (type)                Output Shape              Param #   \n",
      "=================================================================\n",
      " prune_low_magnitude_conv2d_  (None, 29, 30, 10)       2892      \n",
      " 203 (PruneLowMagnitude)                                         \n",
      "                                                                 \n",
      " prune_low_magnitude_dropout  (None, 29, 30, 10)       1         \n",
      " _203 (PruneLowMagnitude)                                        \n",
      "                                                                 \n",
      " prune_low_magnitude_conv2d_  (None, 12, 13, 6)        4328      \n",
      " 204 (PruneLowMagnitude)                                         \n",
      "                                                                 \n",
      " prune_low_magnitude_dropout  (None, 12, 13, 6)        1         \n",
      " _204 (PruneLowMagnitude)                                        \n",
      "                                                                 \n",
      " prune_low_magnitude_conv2d_  (None, 4, 4, 6)          2600      \n",
      " 205 (PruneLowMagnitude)                                         \n",
      "                                                                 \n",
      " prune_low_magnitude_dropout  (None, 4, 4, 6)          1         \n",
      " _205 (PruneLowMagnitude)                                        \n",
      "                                                                 \n",
      " prune_low_magnitude_flatten  (None, 96)               1         \n",
      " _145 (PruneLowMagnitude)                                        \n",
      "                                                                 \n",
      " prune_low_magnitude_dense_1  (None, 6)                1160      \n",
      " 45 (PruneLowMagnitude)                                          \n",
      "                                                                 \n",
      "=================================================================\n",
      "Total params: 10,984\n",
      "Trainable params: 5,500\n",
      "Non-trainable params: 5,484\n",
      "_________________________________________________________________\n",
      "Epoch 1/3\n",
      "383/383 [==============================] - 2s 3ms/step - loss: 0.7872 - accuracy: 0.7108 - val_loss: 0.6799 - val_accuracy: 0.7875\n",
      "Epoch 2/3\n",
      "383/383 [==============================] - 1s 3ms/step - loss: 0.8007 - accuracy: 0.7077 - val_loss: 0.6504 - val_accuracy: 0.7941\n",
      "Epoch 3/3\n",
      "383/383 [==============================] - 1s 3ms/step - loss: 0.7742 - accuracy: 0.7149 - val_loss: 0.6279 - val_accuracy: 0.7934\n",
      "conv2d_203/kernel:0: 50.00% sparsity (720/1440)\n",
      "conv2d_203/bias:0: 0.00% sparsity (0/10)\n",
      "conv2d_204/kernel:0: 50.00% sparsity (1080/2160)\n",
      "conv2d_204/bias:0: 0.00% sparsity (0/6)\n",
      "conv2d_205/kernel:0: 50.00% sparsity (648/1296)\n",
      "conv2d_205/bias:0: 0.00% sparsity (0/6)\n",
      "dense_145/kernel:0: 50.00% sparsity (288/576)\n",
      "dense_145/bias:0: 0.00% sparsity (0/6)\n",
      "Pruned test accuracy: 0.75352942943573\n",
      "Model: \"tiny_embed_conv_model\"\n",
      "_________________________________________________________________\n",
      " Layer (type)                Output Shape              Param #   \n",
      "=================================================================\n",
      " prune_low_magnitude_conv1 (  (None, 62, 65, 8)        1290      \n",
      " PruneLowMagnitude)                                              \n",
      "                                                                 \n",
      " prune_low_magnitude_relu1 (  (None, 62, 65, 8)        1         \n",
      " PruneLowMagnitude)                                              \n",
      "                                                                 \n",
      " prune_low_magnitude_dropout  (None, 62, 65, 8)        1         \n",
      " 1 (PruneLowMagnitude)                                           \n",
      "                                                                 \n",
      " prune_low_magnitude_conv2 (  (None, 8, 9, 8)          10250     \n",
      " PruneLowMagnitude)                                              \n",
      "                                                                 \n",
      " prune_low_magnitude_relu2 (  (None, 8, 9, 8)          1         \n",
      " PruneLowMagnitude)                                              \n",
      "                                                                 \n",
      " prune_low_magnitude_dropout  (None, 8, 9, 8)          1         \n",
      " 2 (PruneLowMagnitude)                                           \n",
      "                                                                 \n",
      " prune_low_magnitude_flatten  (None, 576)              1         \n",
      "  (PruneLowMagnitude)                                            \n",
      "                                                                 \n",
      " prune_low_magnitude_fc2 (Pr  (None, 6)                6920      \n",
      " uneLowMagnitude)                                                \n",
      "                                                                 \n",
      "=================================================================\n",
      "Total params: 18,465\n",
      "Trainable params: 9,238\n",
      "Non-trainable params: 9,227\n",
      "_________________________________________________________________\n",
      "Epoch 1/3\n",
      "383/383 [==============================] - 2s 3ms/step - loss: 0.6217 - accuracy: 0.7712 - val_loss: 0.5168 - val_accuracy: 0.8301\n",
      "Epoch 2/3\n",
      "383/383 [==============================] - 1s 2ms/step - loss: 0.6192 - accuracy: 0.7737 - val_loss: 0.4974 - val_accuracy: 0.8294\n",
      "Epoch 3/3\n",
      "383/383 [==============================] - 1s 2ms/step - loss: 0.6035 - accuracy: 0.7723 - val_loss: 0.4853 - val_accuracy: 0.8279\n",
      "conv1/kernel:0: 50.00% sparsity (320/640)\n",
      "conv1/bias:0: 0.00% sparsity (0/8)\n",
      "conv2/kernel:0: 50.00% sparsity (2560/5120)\n",
      "conv2/bias:0: 0.00% sparsity (0/8)\n",
      "fc2/kernel:0: 50.00% sparsity (1728/3456)\n",
      "fc2/bias:0: 0.00% sparsity (0/6)\n",
      "Pruned test accuracy: 0.794705867767334\n"
     ]
    }
   ],
   "source": [
    "basic_pruned_models = []\n",
    "\n",
    "for model in final_models:\n",
    "    pruned_model = prune_model(model, train_spectrogram_ds, test_spectrogram_ds, qat=False)\n",
    "    basic_pruned_models.append(pruned_model)\n"
   ]
  },
  {
   "cell_type": "code",
   "execution_count": 26,
   "metadata": {},
   "outputs": [
    {
     "name": "stdout",
     "output_type": "stream",
     "text": [
      "Model 1 (sequential_122):\n",
      "  Gzipped Model Size: 12.02 KB\n",
      "  Test Accuracy: 0.6500\n",
      "Model 2 (sequential_40):\n",
      "  Gzipped Model Size: 11.01 KB\n",
      "  Test Accuracy: 0.6647\n",
      "Model 3 (sequential_42):\n",
      "  Gzipped Model Size: 24.66 KB\n",
      "  Test Accuracy: 0.7982\n",
      "Model 4 (sequential_154):\n",
      "  Gzipped Model Size: 15.56 KB\n",
      "  Test Accuracy: 0.7535\n",
      "Model 5 (tiny_embed_conv_model):\n",
      "  Gzipped Model Size: 24.09 KB\n",
      "  Test Accuracy: 0.7947\n"
     ]
    },
    {
     "data": {
      "image/png": "[encoded data removed]",
      "text/plain": [
       "<Figure size 1000x600 with 1 Axes>"
      ]
     },
     "metadata": {},
     "output_type": "display_data"
    }
   ],
   "source": [
    "plot_size_v_accuracy(basic_pruned_models, test_spectrogram_ds)\n"
   ]
  },
  {
   "cell_type": "markdown",
   "metadata": {},
   "source": [
    "## Pruning preserving quantization aware training (PQAT)\n",
    "https://www.tensorflow.org/model_optimization/guide/combine/pqat_example"
   ]
  },
  {
   "cell_type": "code",
   "execution_count": null,
   "metadata": {},
   "outputs": [],
   "source": []
  },
  {
   "cell_type": "markdown",
   "metadata": {},
   "source": [
    "## Sparsity and cluster preserving quantization aware training\n",
    "https://www.tensorflow.org/model_optimization/guide/combine/pcqat_example"
   ]
  },
  {
   "cell_type": "markdown",
   "metadata": {},
   "source": [
    "# Quantize models"
   ]
  },
  {
   "cell_type": "markdown",
   "metadata": {},
   "source": [
    "https://www.tensorflow.org/model_optimization/guide\n",
    "\n",
    "https://blog.tensorflow.org/2024/04/faster-dynamically-quantized-inference-with-xnnpack.html\n",
    "\n",
    "\n",
    "we can also add some weight clustering?"
   ]
  },
  {
   "cell_type": "markdown",
   "metadata": {},
   "source": [
    "## quantization aware training quantized models with or without pruning\n",
    "https://www.tensorflow.org/model_optimization/guide/quantization/training_example\n",
    "\n",
    "https://www.tensorflow.org/model_optimization/guide/quantization/training_comprehensive_guide#quantize_some_layers"
   ]
  },
  {
   "cell_type": "code",
   "execution_count": 32,
   "metadata": {},
   "outputs": [],
   "source": [
    "#import tensorflow_model_optimization as tfmot\n",
    "\n",
    "#quantization aware training with int8 weights and uint8 activations.\n",
    "def qat(model, pruned = False, save = False):\n",
    "  # translate model to be quantization aware\n",
    "  quantize_model = tfmot.quantization.keras.quantize_model\n",
    "\n",
    "  # Use `quantize_scope` to register the custom NoOpQuantizeConfig object\n",
    "  with tfmot.quantization.keras.quantize_scope({'NoOpQuantizeConfig': audio_models.NoOpQuantizeConfig}):\n",
    "      # Annotate the model for QAT\n",
    "      quant_aware_annotated_model = tfmot.quantization.keras.quantize_annotate_model(model)\n",
    "      \n",
    "      # Apply QAT\n",
    "      if pruned:\n",
    "        q_aware_model = tfmot.quantization.keras.quantize_apply(quant_aware_annotated_model, \n",
    "                                                                tfmot.experimental.combine.Default8BitPrunePreserveQuantizeScheme())\n",
    "      else:\n",
    "        q_aware_model = tfmot.quantization.keras.quantize_apply(quant_aware_annotated_model)\n",
    "\n",
    "\n",
    "\n",
    "  # Debug: Print model type and structure\n",
    "  print(f\"Model type: {type(model)}\")\n",
    "  print(f\"Is Sequential: {isinstance(model, tf.keras.Sequential)}\")\n",
    "  print(f\"Is Functional: {hasattr(model, '_is_graph_network') and model._is_graph_network}\")\n",
    "  model.summary()\n",
    "\n",
    "  # Check if the model is Sequential or Functional\n",
    "  if not isinstance(model, tf.keras.Sequential) and not (hasattr(model, '_is_graph_network') and model._is_graph_network):\n",
    "    raise ValueError('`model` must be a Keras Sequential or Functional model.')\n",
    "\n",
    "  #q_aware_model = quantize_model(quant_aware_model)\n",
    "\n",
    "  q_aware_model.compile(optimizer='adam',\n",
    "    loss=tf.keras.losses.SparseCategoricalCrossentropy(from_logits=True),\n",
    "    metrics=['accuracy'])\n",
    "  \n",
    "  q_aware_model.summary()\n",
    "\n",
    "  num_batches = tf.data.experimental.cardinality(train_spectrogram_ds).numpy()\n",
    "  print(f\"Number of batches in the training dataset: {num_batches}\")\n",
    "\n",
    "  # finetune quant aware model with quant aware training\n",
    "  q_aware_model.fit(train_spectrogram_ds.take(num_batches // 4), batch_size = 100, epochs=1, validation_data=val_spectrogram_ds)\n",
    "\n",
    "\n",
    "\n",
    "  _, baseline_model_accuracy = model.evaluate(test_spectrogram_ds, verbose=0)\n",
    "\n",
    "  _, q_aware_model_accuracy = q_aware_model.evaluate(test_spectrogram_ds, verbose=0)\n",
    "\n",
    "  print('Baseline test accuracy:', baseline_model_accuracy)\n",
    "  print('Quant test accuracy:', q_aware_model_accuracy)\n",
    "\n",
    "  if save:\n",
    "    # now we haveint8 weights and uint8 activations.\n",
    "    # Convert the model to TFLite\n",
    "    converter = tf.lite.TFLiteConverter.from_keras_model(q_aware_model)\n",
    "    converter.optimizations = [tf.lite.Optimize.DEFAULT]\n",
    "\n",
    "    quantized_tflite_model = converter.convert()\n",
    "    if pruned:\n",
    "      model_filename = f'pruned_qat_{model.name}.tflite'\n",
    "    else:\n",
    "      model_filename = f'qat_{model.name}.tflite'\n",
    "    # Save the quantized model\n",
    "    with open(model_filename, 'wb') as f:\n",
    "      f.write(quantized_tflite_model)\n",
    "\n",
    "    return model_filename\n",
    "  \n",
    "  return q_aware_model\n"
   ]
  },
  {
   "cell_type": "code",
   "execution_count": 33,
   "metadata": {},
   "outputs": [],
   "source": [
    "# Evaluate the TFLite quantized model\n",
    "def evaluate_tflite_model(interpreter, dataset):\n",
    "    input_details = interpreter.get_input_details()\n",
    "    output_details = interpreter.get_output_details()\n",
    "\n",
    "    total_samples = 0\n",
    "    correct_predictions = 0\n",
    "\n",
    "    for spectrograms, labels in dataset:\n",
    "        input_data = spectrograms.numpy().astype('float32')\n",
    "        interpreter.set_tensor(input_details[0]['index'], input_data)\n",
    "        interpreter.invoke()\n",
    "        predictions = interpreter.get_tensor(output_details[0]['index'])\n",
    "        predicted_labels = tf.argmax(predictions, axis=1)\n",
    "        correct_predictions += tf.reduce_sum(tf.cast(predicted_labels == labels, tf.int32)).numpy()\n",
    "        total_samples += labels.shape[0]\n",
    "\n",
    "    accuracy = correct_predictions / total_samples\n",
    "    return accuracy"
   ]
  },
  {
   "cell_type": "code",
   "execution_count": 34,
   "metadata": {},
   "outputs": [
    {
     "name": "stdout",
     "output_type": "stream",
     "text": [
      "Model type: <class 'keras.engine.sequential.Sequential'>\n",
      "Is Sequential: True\n",
      "Is Functional: True\n",
      "Model: \"sequential_122\"\n",
      "_________________________________________________________________\n",
      " Layer (type)                Output Shape              Param #   \n",
      "=================================================================\n",
      " conv2d_206 (Conv2D)         (None, 29, 30, 6)         870       \n",
      "                                                                 \n",
      " dropout_206 (Dropout)       (None, 29, 30, 6)         0         \n",
      "                                                                 \n",
      " conv2d_207 (Conv2D)         (None, 6, 7, 6)           1302      \n",
      "                                                                 \n",
      " dropout_207 (Dropout)       (None, 6, 7, 6)           0         \n",
      "                                                                 \n",
      " conv2d_208 (Conv2D)         (None, 1, 1, 8)           1736      \n",
      "                                                                 \n",
      " dropout_208 (Dropout)       (None, 1, 1, 8)           0         \n",
      "                                                                 \n",
      " flatten_85 (Flatten)        (None, 8)                 0         \n",
      "                                                                 \n",
      " dense_85 (Dense)            (None, 6)                 54        \n",
      "                                                                 \n",
      "=================================================================\n",
      "Total params: 3,962\n",
      "Trainable params: 3,962\n",
      "Non-trainable params: 0\n",
      "_________________________________________________________________\n",
      "Model: \"sequential_122\"\n",
      "_________________________________________________________________\n",
      " Layer (type)                Output Shape              Param #   \n",
      "=================================================================\n",
      " quantize_layer (QuantizeLay  (None, 124, 129, 1)      3         \n",
      " er)                                                             \n",
      "                                                                 \n",
      " quant_conv2d_206 (QuantizeW  (None, 29, 30, 6)        885       \n",
      " rapperV2)                                                       \n",
      "                                                                 \n",
      " quant_dropout_206 (Quantize  (None, 29, 30, 6)        1         \n",
      " WrapperV2)                                                      \n",
      "                                                                 \n",
      " quant_conv2d_207 (QuantizeW  (None, 6, 7, 6)          1317      \n",
      " rapperV2)                                                       \n",
      "                                                                 \n",
      " quant_dropout_207 (Quantize  (None, 6, 7, 6)          1         \n",
      " WrapperV2)                                                      \n",
      "                                                                 \n",
      " quant_conv2d_208 (QuantizeW  (None, 1, 1, 8)          1755      \n",
      " rapperV2)                                                       \n",
      "                                                                 \n",
      " quant_dropout_208 (Quantize  (None, 1, 1, 8)          1         \n",
      " WrapperV2)                                                      \n",
      "                                                                 \n",
      " quant_flatten_85 (QuantizeW  (None, 8)                1         \n",
      " rapperV2)                                                       \n",
      "                                                                 \n",
      " quant_dense_85 (QuantizeWra  (None, 6)                59        \n",
      " pperV2)                                                         \n",
      "                                                                 \n",
      "=================================================================\n",
      "Total params: 4,023\n",
      "Trainable params: 3,962\n",
      "Non-trainable params: 61\n",
      "_________________________________________________________________\n",
      "Number of batches in the training dataset: -2\n",
      "213/213 [==============================] - 2s 4ms/step - loss: 0.9797 - accuracy: 0.6217 - val_loss: 0.7204 - val_accuracy: 0.7488\n",
      "Baseline test accuracy: 0.6499999761581421\n",
      "Quant test accuracy: 0.7341176271438599\n"
     ]
    },
    {
     "name": "stderr",
     "output_type": "stream",
     "text": [
      "WARNING:absl:Found untraced functions such as conv2d_206_layer_call_fn, conv2d_206_layer_call_and_return_conditional_losses, _jit_compiled_convolution_op, dropout_206_layer_call_fn, dropout_206_layer_call_and_return_conditional_losses while saving (showing 5 of 19). These functions will not be directly callable after loading.\n"
     ]
    },
    {
     "name": "stdout",
     "output_type": "stream",
     "text": [
      "INFO:tensorflow:Assets written to: /scratch/1351000.1.l40s/tmp6of3bsm3/assets\n"
     ]
    },
    {
     "name": "stderr",
     "output_type": "stream",
     "text": [
      "INFO:tensorflow:Assets written to: /scratch/1351000.1.l40s/tmp6of3bsm3/assets\n",
      "/share/pkg.7/tensorflow/2.11.0/install/lib/SCC/../python3.10/site-packages/tensorflow/lite/python/convert.py:765: UserWarning: Statistics for quantized inputs were expected, but not specified; continuing anyway.\n",
      "  warnings.warn(\"Statistics for quantized inputs were expected, but not \"\n"
     ]
    },
    {
     "name": "stdout",
     "output_type": "stream",
     "text": [
      "Model type: <class 'keras.engine.sequential.Sequential'>\n",
      "Is Sequential: True\n",
      "Is Functional: True\n",
      "Model: \"sequential_40\"\n",
      "_________________________________________________________________\n",
      " Layer (type)                Output Shape              Param #   \n",
      "=================================================================\n",
      " conv2d_71 (Conv2D)          (None, 30, 31, 6)         390       \n",
      "                                                                 \n",
      " conv2d_72 (Conv2D)          (None, 13, 13, 6)         1302      \n",
      "                                                                 \n",
      " conv2d_73 (Conv2D)          (None, 4, 4, 6)           1302      \n",
      "                                                                 \n",
      " dropout_30 (Dropout)        (None, 4, 4, 6)           0         \n",
      "                                                                 \n",
      " flatten_30 (Flatten)        (None, 96)                0         \n",
      "                                                                 \n",
      " dense_30 (Dense)            (None, 6)                 582       \n",
      "                                                                 \n",
      "=================================================================\n",
      "Total params: 3,576\n",
      "Trainable params: 3,576\n",
      "Non-trainable params: 0\n",
      "_________________________________________________________________\n",
      "Model: \"sequential_40\"\n",
      "_________________________________________________________________\n",
      " Layer (type)                Output Shape              Param #   \n",
      "=================================================================\n",
      " quantize_layer_1 (QuantizeL  (None, 124, 129, 1)      3         \n",
      " ayer)                                                           \n",
      "                                                                 \n",
      " quant_conv2d_71 (QuantizeWr  (None, 30, 31, 6)        405       \n",
      " apperV2)                                                        \n",
      "                                                                 \n",
      " quant_conv2d_72 (QuantizeWr  (None, 13, 13, 6)        1317      \n",
      " apperV2)                                                        \n",
      "                                                                 \n",
      " quant_conv2d_73 (QuantizeWr  (None, 4, 4, 6)          1317      \n",
      " apperV2)                                                        \n",
      "                                                                 \n",
      " quant_dropout_30 (QuantizeW  (None, 4, 4, 6)          1         \n",
      " rapperV2)                                                       \n",
      "                                                                 \n",
      " quant_flatten_30 (QuantizeW  (None, 96)               1         \n",
      " rapperV2)                                                       \n",
      "                                                                 \n",
      " quant_dense_30 (QuantizeWra  (None, 6)                587       \n",
      " pperV2)                                                         \n",
      "                                                                 \n",
      "=================================================================\n",
      "Total params: 3,631\n",
      "Trainable params: 3,576\n",
      "Non-trainable params: 55\n",
      "_________________________________________________________________\n",
      "Number of batches in the training dataset: -2\n"
     ]
    },
    {
     "name": "stderr",
     "output_type": "stream",
     "text": [
      "/share/pkg.7/tensorflow/2.11.0/install/lib/SCC/../python3.10/site-packages/keras/backend.py:5585: UserWarning: \"`sparse_categorical_crossentropy` received `from_logits=True`, but the `output` argument was produced by a Softmax activation and thus does not represent logits. Was this intended?\n",
      "  output, from_logits = _get_logits(\n"
     ]
    },
    {
     "name": "stdout",
     "output_type": "stream",
     "text": [
      "213/213 [==============================] - 2s 4ms/step - loss: 0.8331 - accuracy: 0.6879 - val_loss: 0.7000 - val_accuracy: 0.7482\n",
      "Baseline test accuracy: 0.6647058725357056\n",
      "Quant test accuracy: 0.7288235425949097\n"
     ]
    },
    {
     "name": "stderr",
     "output_type": "stream",
     "text": [
      "WARNING:absl:Found untraced functions such as conv2d_71_layer_call_fn, conv2d_71_layer_call_and_return_conditional_losses, _jit_compiled_convolution_op, conv2d_72_layer_call_fn, conv2d_72_layer_call_and_return_conditional_losses while saving (showing 5 of 15). These functions will not be directly callable after loading.\n"
     ]
    },
    {
     "name": "stdout",
     "output_type": "stream",
     "text": [
      "INFO:tensorflow:Assets written to: /scratch/1351000.1.l40s/tmp628qd0yw/assets\n"
     ]
    },
    {
     "name": "stderr",
     "output_type": "stream",
     "text": [
      "INFO:tensorflow:Assets written to: /scratch/1351000.1.l40s/tmp628qd0yw/assets\n",
      "/share/pkg.7/tensorflow/2.11.0/install/lib/SCC/../python3.10/site-packages/tensorflow/lite/python/convert.py:765: UserWarning: Statistics for quantized inputs were expected, but not specified; continuing anyway.\n",
      "  warnings.warn(\"Statistics for quantized inputs were expected, but not \"\n"
     ]
    },
    {
     "name": "stdout",
     "output_type": "stream",
     "text": [
      "Model type: <class 'keras.engine.sequential.Sequential'>\n",
      "Is Sequential: True\n",
      "Is Functional: True\n",
      "Model: \"sequential_42\"\n",
      "_________________________________________________________________\n",
      " Layer (type)                Output Shape              Param #   \n",
      "=================================================================\n",
      " conv2d_68 (Conv2D)          (None, 59, 61, 12)        780       \n",
      "                                                                 \n",
      " dropout_68 (Dropout)        (None, 59, 61, 12)        0         \n",
      "                                                                 \n",
      " conv2d_69 (Conv2D)          (None, 27, 28, 6)         2598      \n",
      "                                                                 \n",
      " dropout_69 (Dropout)        (None, 27, 28, 6)         0         \n",
      "                                                                 \n",
      " conv2d_70 (Conv2D)          (None, 11, 12, 6)         1302      \n",
      "                                                                 \n",
      " dropout_70 (Dropout)        (None, 11, 12, 6)         0         \n",
      "                                                                 \n",
      " flatten_34 (Flatten)        (None, 792)               0         \n",
      "                                                                 \n",
      " dense_34 (Dense)            (None, 6)                 4758      \n",
      "                                                                 \n",
      "=================================================================\n",
      "Total params: 9,438\n",
      "Trainable params: 9,438\n",
      "Non-trainable params: 0\n",
      "_________________________________________________________________\n",
      "Model: \"sequential_42\"\n",
      "_________________________________________________________________\n",
      " Layer (type)                Output Shape              Param #   \n",
      "=================================================================\n",
      " quantize_layer_2 (QuantizeL  (None, 124, 129, 1)      3         \n",
      " ayer)                                                           \n",
      "                                                                 \n",
      " quant_conv2d_68 (QuantizeWr  (None, 59, 61, 12)       807       \n",
      " apperV2)                                                        \n",
      "                                                                 \n",
      " quant_dropout_68 (QuantizeW  (None, 59, 61, 12)       1         \n",
      " rapperV2)                                                       \n",
      "                                                                 \n",
      " quant_conv2d_69 (QuantizeWr  (None, 27, 28, 6)        2613      \n",
      " apperV2)                                                        \n",
      "                                                                 \n",
      " quant_dropout_69 (QuantizeW  (None, 27, 28, 6)        1         \n",
      " rapperV2)                                                       \n",
      "                                                                 \n",
      " quant_conv2d_70 (QuantizeWr  (None, 11, 12, 6)        1317      \n",
      " apperV2)                                                        \n",
      "                                                                 \n",
      " quant_dropout_70 (QuantizeW  (None, 11, 12, 6)        1         \n",
      " rapperV2)                                                       \n",
      "                                                                 \n",
      " quant_flatten_34 (QuantizeW  (None, 792)              1         \n",
      " rapperV2)                                                       \n",
      "                                                                 \n",
      " quant_dense_34 (QuantizeWra  (None, 6)                4763      \n",
      " pperV2)                                                         \n",
      "                                                                 \n",
      "=================================================================\n",
      "Total params: 9,507\n",
      "Trainable params: 9,438\n",
      "Non-trainable params: 69\n",
      "_________________________________________________________________\n",
      "Number of batches in the training dataset: -2\n"
     ]
    },
    {
     "name": "stderr",
     "output_type": "stream",
     "text": [
      "/share/pkg.7/tensorflow/2.11.0/install/lib/SCC/../python3.10/site-packages/keras/backend.py:5585: UserWarning: \"`sparse_categorical_crossentropy` received `from_logits=True`, but the `output` argument was produced by a Softmax activation and thus does not represent logits. Was this intended?\n",
      "  output, from_logits = _get_logits(\n"
     ]
    },
    {
     "name": "stdout",
     "output_type": "stream",
     "text": [
      "213/213 [==============================] - 2s 4ms/step - loss: 0.6030 - accuracy: 0.7765 - val_loss: 0.5062 - val_accuracy: 0.8194\n",
      "Baseline test accuracy: 0.798235297203064\n",
      "Quant test accuracy: 0.8158823251724243\n"
     ]
    },
    {
     "name": "stderr",
     "output_type": "stream",
     "text": [
      "WARNING:absl:Found untraced functions such as conv2d_68_layer_call_fn, conv2d_68_layer_call_and_return_conditional_losses, _jit_compiled_convolution_op, dropout_68_layer_call_fn, dropout_68_layer_call_and_return_conditional_losses while saving (showing 5 of 19). These functions will not be directly callable after loading.\n"
     ]
    },
    {
     "name": "stdout",
     "output_type": "stream",
     "text": [
      "INFO:tensorflow:Assets written to: /scratch/1351000.1.l40s/tmp1nq0dk0y/assets\n"
     ]
    },
    {
     "name": "stderr",
     "output_type": "stream",
     "text": [
      "INFO:tensorflow:Assets written to: /scratch/1351000.1.l40s/tmp1nq0dk0y/assets\n",
      "/share/pkg.7/tensorflow/2.11.0/install/lib/SCC/../python3.10/site-packages/tensorflow/lite/python/convert.py:765: UserWarning: Statistics for quantized inputs were expected, but not specified; continuing anyway.\n",
      "  warnings.warn(\"Statistics for quantized inputs were expected, but not \"\n"
     ]
    },
    {
     "name": "stdout",
     "output_type": "stream",
     "text": [
      "Model type: <class 'keras.engine.sequential.Sequential'>\n",
      "Is Sequential: True\n",
      "Is Functional: True\n",
      "Model: \"sequential_154\"\n",
      "_________________________________________________________________\n",
      " Layer (type)                Output Shape              Param #   \n",
      "=================================================================\n",
      " conv2d_203 (Conv2D)         (None, 29, 30, 10)        1450      \n",
      "                                                                 \n",
      " dropout_203 (Dropout)       (None, 29, 30, 10)        0         \n",
      "                                                                 \n",
      " conv2d_204 (Conv2D)         (None, 12, 13, 6)         2166      \n",
      "                                                                 \n",
      " dropout_204 (Dropout)       (None, 12, 13, 6)         0         \n",
      "                                                                 \n",
      " conv2d_205 (Conv2D)         (None, 4, 4, 6)           1302      \n",
      "                                                                 \n",
      " dropout_205 (Dropout)       (None, 4, 4, 6)           0         \n",
      "                                                                 \n",
      " flatten_145 (Flatten)       (None, 96)                0         \n",
      "                                                                 \n",
      " dense_145 (Dense)           (None, 6)                 582       \n",
      "                                                                 \n",
      "=================================================================\n",
      "Total params: 5,500\n",
      "Trainable params: 5,500\n",
      "Non-trainable params: 0\n",
      "_________________________________________________________________\n",
      "Model: \"sequential_154\"\n",
      "_________________________________________________________________\n",
      " Layer (type)                Output Shape              Param #   \n",
      "=================================================================\n",
      " quantize_layer_3 (QuantizeL  (None, 124, 129, 1)      3         \n",
      " ayer)                                                           \n",
      "                                                                 \n",
      " quant_conv2d_203 (QuantizeW  (None, 29, 30, 10)       1473      \n",
      " rapperV2)                                                       \n",
      "                                                                 \n",
      " quant_dropout_203 (Quantize  (None, 29, 30, 10)       1         \n",
      " WrapperV2)                                                      \n",
      "                                                                 \n",
      " quant_conv2d_204 (QuantizeW  (None, 12, 13, 6)        2181      \n",
      " rapperV2)                                                       \n",
      "                                                                 \n",
      " quant_dropout_204 (Quantize  (None, 12, 13, 6)        1         \n",
      " WrapperV2)                                                      \n",
      "                                                                 \n",
      " quant_conv2d_205 (QuantizeW  (None, 4, 4, 6)          1317      \n",
      " rapperV2)                                                       \n",
      "                                                                 \n",
      " quant_dropout_205 (Quantize  (None, 4, 4, 6)          1         \n",
      " WrapperV2)                                                      \n",
      "                                                                 \n",
      " quant_flatten_145 (Quantize  (None, 96)               1         \n",
      " WrapperV2)                                                      \n",
      "                                                                 \n",
      " quant_dense_145 (QuantizeWr  (None, 6)                587       \n",
      " apperV2)                                                        \n",
      "                                                                 \n",
      "=================================================================\n",
      "Total params: 5,565\n",
      "Trainable params: 5,500\n",
      "Non-trainable params: 65\n",
      "_________________________________________________________________\n",
      "Number of batches in the training dataset: -2\n"
     ]
    },
    {
     "name": "stderr",
     "output_type": "stream",
     "text": [
      "/share/pkg.7/tensorflow/2.11.0/install/lib/SCC/../python3.10/site-packages/keras/backend.py:5585: UserWarning: \"`sparse_categorical_crossentropy` received `from_logits=True`, but the `output` argument was produced by a Softmax activation and thus does not represent logits. Was this intended?\n",
      "  output, from_logits = _get_logits(\n"
     ]
    },
    {
     "name": "stdout",
     "output_type": "stream",
     "text": [
      "213/213 [==============================] - 2s 4ms/step - loss: 0.7073 - accuracy: 0.7381 - val_loss: 0.5588 - val_accuracy: 0.8000\n",
      "Baseline test accuracy: 0.75352942943573\n",
      "Quant test accuracy: 0.7894117832183838\n"
     ]
    },
    {
     "name": "stderr",
     "output_type": "stream",
     "text": [
      "WARNING:absl:Found untraced functions such as conv2d_203_layer_call_fn, conv2d_203_layer_call_and_return_conditional_losses, _jit_compiled_convolution_op, dropout_203_layer_call_fn, dropout_203_layer_call_and_return_conditional_losses while saving (showing 5 of 19). These functions will not be directly callable after loading.\n"
     ]
    },
    {
     "name": "stdout",
     "output_type": "stream",
     "text": [
      "INFO:tensorflow:Assets written to: /scratch/1351000.1.l40s/tmp6tpta0wo/assets\n"
     ]
    },
    {
     "name": "stderr",
     "output_type": "stream",
     "text": [
      "INFO:tensorflow:Assets written to: /scratch/1351000.1.l40s/tmp6tpta0wo/assets\n",
      "/share/pkg.7/tensorflow/2.11.0/install/lib/SCC/../python3.10/site-packages/tensorflow/lite/python/convert.py:765: UserWarning: Statistics for quantized inputs were expected, but not specified; continuing anyway.\n",
      "  warnings.warn(\"Statistics for quantized inputs were expected, but not \"\n"
     ]
    },
    {
     "name": "stdout",
     "output_type": "stream",
     "text": [
      "Model type: <class 'keras.engine.sequential.Sequential'>\n",
      "Is Sequential: True\n",
      "Is Functional: True\n",
      "Model: \"tiny_embed_conv_model\"\n",
      "_________________________________________________________________\n",
      " Layer (type)                Output Shape              Param #   \n",
      "=================================================================\n",
      " conv1 (Conv2D)              (None, 62, 65, 8)         648       \n",
      "                                                                 \n",
      " relu1 (ReLU)                (None, 62, 65, 8)         0         \n",
      "                                                                 \n",
      " dropout1 (Dropout)          (None, 62, 65, 8)         0         \n",
      "                                                                 \n",
      " conv2 (Conv2D)              (None, 8, 9, 8)           5128      \n",
      "                                                                 \n",
      " relu2 (ReLU)                (None, 8, 9, 8)           0         \n",
      "                                                                 \n",
      " dropout2 (Dropout)          (None, 8, 9, 8)           0         \n",
      "                                                                 \n",
      " flatten (Flatten)           (None, 576)               0         \n",
      "                                                                 \n",
      " fc2 (Dense)                 (None, 6)                 3462      \n",
      "                                                                 \n",
      "=================================================================\n",
      "Total params: 9,238\n",
      "Trainable params: 9,238\n",
      "Non-trainable params: 0\n",
      "_________________________________________________________________\n",
      "Model: \"tiny_embed_conv_model\"\n",
      "_________________________________________________________________\n",
      " Layer (type)                Output Shape              Param #   \n",
      "=================================================================\n",
      " quantize_layer_4 (QuantizeL  (None, 124, 129, 1)      3         \n",
      " ayer)                                                           \n",
      "                                                                 \n",
      " quant_conv1 (QuantizeWrappe  (None, 62, 65, 8)        649       \n",
      " rV2)                                                            \n",
      "                                                                 \n",
      " quant_relu1 (QuantizeWrappe  (None, 62, 65, 8)        3         \n",
      " rV2)                                                            \n",
      "                                                                 \n",
      " quant_dropout1 (QuantizeWra  (None, 62, 65, 8)        1         \n",
      " pperV2)                                                         \n",
      "                                                                 \n",
      " quant_conv2 (QuantizeWrappe  (None, 8, 9, 8)          5129      \n",
      " rV2)                                                            \n",
      "                                                                 \n",
      " quant_relu2 (QuantizeWrappe  (None, 8, 9, 8)          3         \n",
      " rV2)                                                            \n",
      "                                                                 \n",
      " quant_dropout2 (QuantizeWra  (None, 8, 9, 8)          1         \n",
      " pperV2)                                                         \n",
      "                                                                 \n",
      " quant_flatten (QuantizeWrap  (None, 576)              1         \n",
      " perV2)                                                          \n",
      "                                                                 \n",
      " quant_fc2 (QuantizeWrapperV  (None, 6)                3467      \n",
      " 2)                                                              \n",
      "                                                                 \n",
      "=================================================================\n",
      "Total params: 9,257\n",
      "Trainable params: 9,238\n",
      "Non-trainable params: 19\n",
      "_________________________________________________________________\n",
      "Number of batches in the training dataset: -2\n"
     ]
    },
    {
     "name": "stderr",
     "output_type": "stream",
     "text": [
      "/share/pkg.7/tensorflow/2.11.0/install/lib/SCC/../python3.10/site-packages/keras/backend.py:5585: UserWarning: \"`sparse_categorical_crossentropy` received `from_logits=True`, but the `output` argument was produced by a Softmax activation and thus does not represent logits. Was this intended?\n",
      "  output, from_logits = _get_logits(\n"
     ]
    },
    {
     "name": "stdout",
     "output_type": "stream",
     "text": [
      "213/213 [==============================] - 1s 3ms/step - loss: 0.5894 - accuracy: 0.7801 - val_loss: 0.5525 - val_accuracy: 0.7959\n",
      "Baseline test accuracy: 0.794705867767334\n",
      "Quant test accuracy: 0.8064705729484558\n"
     ]
    },
    {
     "name": "stderr",
     "output_type": "stream",
     "text": [
      "WARNING:absl:Found untraced functions such as conv1_layer_call_fn, conv1_layer_call_and_return_conditional_losses, _jit_compiled_convolution_op, relu1_layer_call_fn, relu1_layer_call_and_return_conditional_losses while saving (showing 5 of 18). These functions will not be directly callable after loading.\n"
     ]
    },
    {
     "name": "stdout",
     "output_type": "stream",
     "text": [
      "INFO:tensorflow:Assets written to: /scratch/1351000.1.l40s/tmpghboo7jw/assets\n"
     ]
    },
    {
     "name": "stderr",
     "output_type": "stream",
     "text": [
      "INFO:tensorflow:Assets written to: /scratch/1351000.1.l40s/tmpghboo7jw/assets\n",
      "/share/pkg.7/tensorflow/2.11.0/install/lib/SCC/../python3.10/site-packages/tensorflow/lite/python/convert.py:765: UserWarning: Statistics for quantized inputs were expected, but not specified; continuing anyway.\n",
      "  warnings.warn(\"Statistics for quantized inputs were expected, but not \"\n"
     ]
    },
    {
     "name": "stdout",
     "output_type": "stream",
     "text": [
      "Model type: <class 'keras.engine.sequential.Sequential'>\n",
      "Is Sequential: True\n",
      "Is Functional: True\n",
      "Model: \"sequential_122\"\n",
      "_________________________________________________________________\n",
      " Layer (type)                Output Shape              Param #   \n",
      "=================================================================\n",
      " conv2d_206 (Conv2D)         (None, 29, 30, 6)         870       \n",
      "                                                                 \n",
      " dropout_206 (Dropout)       (None, 29, 30, 6)         0         \n",
      "                                                                 \n",
      " conv2d_207 (Conv2D)         (None, 6, 7, 6)           1302      \n",
      "                                                                 \n",
      " dropout_207 (Dropout)       (None, 6, 7, 6)           0         \n",
      "                                                                 \n",
      " conv2d_208 (Conv2D)         (None, 1, 1, 8)           1736      \n",
      "                                                                 \n",
      " dropout_208 (Dropout)       (None, 1, 1, 8)           0         \n",
      "                                                                 \n",
      " flatten_85 (Flatten)        (None, 8)                 0         \n",
      "                                                                 \n",
      " dense_85 (Dense)            (None, 6)                 54        \n",
      "                                                                 \n",
      "=================================================================\n",
      "Total params: 3,962\n",
      "Trainable params: 3,962\n",
      "Non-trainable params: 0\n",
      "_________________________________________________________________\n",
      "Model: \"sequential_122\"\n",
      "_________________________________________________________________\n",
      " Layer (type)                Output Shape              Param #   \n",
      "=================================================================\n",
      " quantize_layer_5 (QuantizeL  (None, 124, 129, 1)      3         \n",
      " ayer)                                                           \n",
      "                                                                 \n",
      " quant_conv2d_206 (QuantizeW  (None, 29, 30, 6)        885       \n",
      " rapperV2)                                                       \n",
      "                                                                 \n",
      " quant_dropout_206 (Quantize  (None, 29, 30, 6)        1         \n",
      " WrapperV2)                                                      \n",
      "                                                                 \n",
      " quant_conv2d_207 (QuantizeW  (None, 6, 7, 6)          1317      \n",
      " rapperV2)                                                       \n",
      "                                                                 \n",
      " quant_dropout_207 (Quantize  (None, 6, 7, 6)          1         \n",
      " WrapperV2)                                                      \n",
      "                                                                 \n",
      " quant_conv2d_208 (QuantizeW  (None, 1, 1, 8)          1755      \n",
      " rapperV2)                                                       \n",
      "                                                                 \n",
      " quant_dropout_208 (Quantize  (None, 1, 1, 8)          1         \n",
      " WrapperV2)                                                      \n",
      "                                                                 \n",
      " quant_flatten_85 (QuantizeW  (None, 8)                1         \n",
      " rapperV2)                                                       \n",
      "                                                                 \n",
      " quant_dense_85 (QuantizeWra  (None, 6)                59        \n",
      " pperV2)                                                         \n",
      "                                                                 \n",
      "=================================================================\n",
      "Total params: 4,023\n",
      "Trainable params: 3,962\n",
      "Non-trainable params: 61\n",
      "_________________________________________________________________\n",
      "Number of batches in the training dataset: -2\n"
     ]
    },
    {
     "name": "stderr",
     "output_type": "stream",
     "text": [
      "/share/pkg.7/tensorflow/2.11.0/install/lib/SCC/../python3.10/site-packages/keras/backend.py:5585: UserWarning: \"`sparse_categorical_crossentropy` received `from_logits=True`, but the `output` argument was produced by a Softmax activation and thus does not represent logits. Was this intended?\n",
      "  output, from_logits = _get_logits(\n"
     ]
    },
    {
     "name": "stdout",
     "output_type": "stream",
     "text": [
      "213/213 [==============================] - 2s 4ms/step - loss: 1.0520 - accuracy: 0.5869 - val_loss: 0.8375 - val_accuracy: 0.6888\n",
      "Baseline test accuracy: 0.6499999761581421\n",
      "Quant test accuracy: 0.6723529696464539\n"
     ]
    },
    {
     "name": "stderr",
     "output_type": "stream",
     "text": [
      "WARNING:absl:Found untraced functions such as conv2d_206_layer_call_fn, conv2d_206_layer_call_and_return_conditional_losses, _jit_compiled_convolution_op, dropout_206_layer_call_fn, dropout_206_layer_call_and_return_conditional_losses while saving (showing 5 of 19). These functions will not be directly callable after loading.\n"
     ]
    },
    {
     "name": "stdout",
     "output_type": "stream",
     "text": [
      "INFO:tensorflow:Assets written to: /scratch/1351000.1.l40s/tmpcg418wgz/assets\n"
     ]
    },
    {
     "name": "stderr",
     "output_type": "stream",
     "text": [
      "INFO:tensorflow:Assets written to: /scratch/1351000.1.l40s/tmpcg418wgz/assets\n",
      "/share/pkg.7/tensorflow/2.11.0/install/lib/SCC/../python3.10/site-packages/tensorflow/lite/python/convert.py:765: UserWarning: Statistics for quantized inputs were expected, but not specified; continuing anyway.\n",
      "  warnings.warn(\"Statistics for quantized inputs were expected, but not \"\n"
     ]
    },
    {
     "name": "stdout",
     "output_type": "stream",
     "text": [
      "Model type: <class 'keras.engine.sequential.Sequential'>\n",
      "Is Sequential: True\n",
      "Is Functional: True\n",
      "Model: \"sequential_40\"\n",
      "_________________________________________________________________\n",
      " Layer (type)                Output Shape              Param #   \n",
      "=================================================================\n",
      " conv2d_71 (Conv2D)          (None, 30, 31, 6)         390       \n",
      "                                                                 \n",
      " conv2d_72 (Conv2D)          (None, 13, 13, 6)         1302      \n",
      "                                                                 \n",
      " conv2d_73 (Conv2D)          (None, 4, 4, 6)           1302      \n",
      "                                                                 \n",
      " dropout_30 (Dropout)        (None, 4, 4, 6)           0         \n",
      "                                                                 \n",
      " flatten_30 (Flatten)        (None, 96)                0         \n",
      "                                                                 \n",
      " dense_30 (Dense)            (None, 6)                 582       \n",
      "                                                                 \n",
      "=================================================================\n",
      "Total params: 3,576\n",
      "Trainable params: 3,576\n",
      "Non-trainable params: 0\n",
      "_________________________________________________________________\n",
      "Model: \"sequential_40\"\n",
      "_________________________________________________________________\n",
      " Layer (type)                Output Shape              Param #   \n",
      "=================================================================\n",
      " quantize_layer_6 (QuantizeL  (None, 124, 129, 1)      3         \n",
      " ayer)                                                           \n",
      "                                                                 \n",
      " quant_conv2d_71 (QuantizeWr  (None, 30, 31, 6)        405       \n",
      " apperV2)                                                        \n",
      "                                                                 \n",
      " quant_conv2d_72 (QuantizeWr  (None, 13, 13, 6)        1317      \n",
      " apperV2)                                                        \n",
      "                                                                 \n",
      " quant_conv2d_73 (QuantizeWr  (None, 4, 4, 6)          1317      \n",
      " apperV2)                                                        \n",
      "                                                                 \n",
      " quant_dropout_30 (QuantizeW  (None, 4, 4, 6)          1         \n",
      " rapperV2)                                                       \n",
      "                                                                 \n",
      " quant_flatten_30 (QuantizeW  (None, 96)               1         \n",
      " rapperV2)                                                       \n",
      "                                                                 \n",
      " quant_dense_30 (QuantizeWra  (None, 6)                587       \n",
      " pperV2)                                                         \n",
      "                                                                 \n",
      "=================================================================\n",
      "Total params: 3,631\n",
      "Trainable params: 3,576\n",
      "Non-trainable params: 55\n",
      "_________________________________________________________________\n",
      "Number of batches in the training dataset: -2\n"
     ]
    },
    {
     "name": "stderr",
     "output_type": "stream",
     "text": [
      "/share/pkg.7/tensorflow/2.11.0/install/lib/SCC/../python3.10/site-packages/keras/backend.py:5585: UserWarning: \"`sparse_categorical_crossentropy` received `from_logits=True`, but the `output` argument was produced by a Softmax activation and thus does not represent logits. Was this intended?\n",
      "  output, from_logits = _get_logits(\n"
     ]
    },
    {
     "name": "stdout",
     "output_type": "stream",
     "text": [
      "213/213 [==============================] - 2s 4ms/step - loss: 0.8772 - accuracy: 0.6693 - val_loss: 0.7248 - val_accuracy: 0.7294\n",
      "Baseline test accuracy: 0.6647058725357056\n",
      "Quant test accuracy: 0.7211764454841614\n"
     ]
    },
    {
     "name": "stderr",
     "output_type": "stream",
     "text": [
      "WARNING:absl:Found untraced functions such as conv2d_71_layer_call_fn, conv2d_71_layer_call_and_return_conditional_losses, _jit_compiled_convolution_op, conv2d_72_layer_call_fn, conv2d_72_layer_call_and_return_conditional_losses while saving (showing 5 of 15). These functions will not be directly callable after loading.\n"
     ]
    },
    {
     "name": "stdout",
     "output_type": "stream",
     "text": [
      "INFO:tensorflow:Assets written to: /scratch/1351000.1.l40s/tmps6fgmm4x/assets\n"
     ]
    },
    {
     "name": "stderr",
     "output_type": "stream",
     "text": [
      "INFO:tensorflow:Assets written to: /scratch/1351000.1.l40s/tmps6fgmm4x/assets\n",
      "/share/pkg.7/tensorflow/2.11.0/install/lib/SCC/../python3.10/site-packages/tensorflow/lite/python/convert.py:765: UserWarning: Statistics for quantized inputs were expected, but not specified; continuing anyway.\n",
      "  warnings.warn(\"Statistics for quantized inputs were expected, but not \"\n"
     ]
    },
    {
     "name": "stdout",
     "output_type": "stream",
     "text": [
      "Model type: <class 'keras.engine.sequential.Sequential'>\n",
      "Is Sequential: True\n",
      "Is Functional: True\n",
      "Model: \"sequential_42\"\n",
      "_________________________________________________________________\n",
      " Layer (type)                Output Shape              Param #   \n",
      "=================================================================\n",
      " conv2d_68 (Conv2D)          (None, 59, 61, 12)        780       \n",
      "                                                                 \n",
      " dropout_68 (Dropout)        (None, 59, 61, 12)        0         \n",
      "                                                                 \n",
      " conv2d_69 (Conv2D)          (None, 27, 28, 6)         2598      \n",
      "                                                                 \n",
      " dropout_69 (Dropout)        (None, 27, 28, 6)         0         \n",
      "                                                                 \n",
      " conv2d_70 (Conv2D)          (None, 11, 12, 6)         1302      \n",
      "                                                                 \n",
      " dropout_70 (Dropout)        (None, 11, 12, 6)         0         \n",
      "                                                                 \n",
      " flatten_34 (Flatten)        (None, 792)               0         \n",
      "                                                                 \n",
      " dense_34 (Dense)            (None, 6)                 4758      \n",
      "                                                                 \n",
      "=================================================================\n",
      "Total params: 9,438\n",
      "Trainable params: 9,438\n",
      "Non-trainable params: 0\n",
      "_________________________________________________________________\n",
      "Model: \"sequential_42\"\n",
      "_________________________________________________________________\n",
      " Layer (type)                Output Shape              Param #   \n",
      "=================================================================\n",
      " quantize_layer_7 (QuantizeL  (None, 124, 129, 1)      3         \n",
      " ayer)                                                           \n",
      "                                                                 \n",
      " quant_conv2d_68 (QuantizeWr  (None, 59, 61, 12)       807       \n",
      " apperV2)                                                        \n",
      "                                                                 \n",
      " quant_dropout_68 (QuantizeW  (None, 59, 61, 12)       1         \n",
      " rapperV2)                                                       \n",
      "                                                                 \n",
      " quant_conv2d_69 (QuantizeWr  (None, 27, 28, 6)        2613      \n",
      " apperV2)                                                        \n",
      "                                                                 \n",
      " quant_dropout_69 (QuantizeW  (None, 27, 28, 6)        1         \n",
      " rapperV2)                                                       \n",
      "                                                                 \n",
      " quant_conv2d_70 (QuantizeWr  (None, 11, 12, 6)        1317      \n",
      " apperV2)                                                        \n",
      "                                                                 \n",
      " quant_dropout_70 (QuantizeW  (None, 11, 12, 6)        1         \n",
      " rapperV2)                                                       \n",
      "                                                                 \n",
      " quant_flatten_34 (QuantizeW  (None, 792)              1         \n",
      " rapperV2)                                                       \n",
      "                                                                 \n",
      " quant_dense_34 (QuantizeWra  (None, 6)                4763      \n",
      " pperV2)                                                         \n",
      "                                                                 \n",
      "=================================================================\n",
      "Total params: 9,507\n",
      "Trainable params: 9,438\n",
      "Non-trainable params: 69\n",
      "_________________________________________________________________\n",
      "Number of batches in the training dataset: -2\n"
     ]
    },
    {
     "name": "stderr",
     "output_type": "stream",
     "text": [
      "/share/pkg.7/tensorflow/2.11.0/install/lib/SCC/../python3.10/site-packages/keras/backend.py:5585: UserWarning: \"`sparse_categorical_crossentropy` received `from_logits=True`, but the `output` argument was produced by a Softmax activation and thus does not represent logits. Was this intended?\n",
      "  output, from_logits = _get_logits(\n"
     ]
    },
    {
     "name": "stdout",
     "output_type": "stream",
     "text": [
      "213/213 [==============================] - 2s 4ms/step - loss: 0.6012 - accuracy: 0.7798 - val_loss: 0.5010 - val_accuracy: 0.8194\n",
      "Baseline test accuracy: 0.798235297203064\n",
      "Quant test accuracy: 0.8076470494270325\n"
     ]
    },
    {
     "name": "stderr",
     "output_type": "stream",
     "text": [
      "WARNING:absl:Found untraced functions such as conv2d_68_layer_call_fn, conv2d_68_layer_call_and_return_conditional_losses, _jit_compiled_convolution_op, dropout_68_layer_call_fn, dropout_68_layer_call_and_return_conditional_losses while saving (showing 5 of 19). These functions will not be directly callable after loading.\n"
     ]
    },
    {
     "name": "stdout",
     "output_type": "stream",
     "text": [
      "INFO:tensorflow:Assets written to: /scratch/1351000.1.l40s/tmp4_tjgfby/assets\n"
     ]
    },
    {
     "name": "stderr",
     "output_type": "stream",
     "text": [
      "INFO:tensorflow:Assets written to: /scratch/1351000.1.l40s/tmp4_tjgfby/assets\n",
      "/share/pkg.7/tensorflow/2.11.0/install/lib/SCC/../python3.10/site-packages/tensorflow/lite/python/convert.py:765: UserWarning: Statistics for quantized inputs were expected, but not specified; continuing anyway.\n",
      "  warnings.warn(\"Statistics for quantized inputs were expected, but not \"\n"
     ]
    },
    {
     "name": "stdout",
     "output_type": "stream",
     "text": [
      "Model type: <class 'keras.engine.sequential.Sequential'>\n",
      "Is Sequential: True\n",
      "Is Functional: True\n",
      "Model: \"sequential_154\"\n",
      "_________________________________________________________________\n",
      " Layer (type)                Output Shape              Param #   \n",
      "=================================================================\n",
      " conv2d_203 (Conv2D)         (None, 29, 30, 10)        1450      \n",
      "                                                                 \n",
      " dropout_203 (Dropout)       (None, 29, 30, 10)        0         \n",
      "                                                                 \n",
      " conv2d_204 (Conv2D)         (None, 12, 13, 6)         2166      \n",
      "                                                                 \n",
      " dropout_204 (Dropout)       (None, 12, 13, 6)         0         \n",
      "                                                                 \n",
      " conv2d_205 (Conv2D)         (None, 4, 4, 6)           1302      \n",
      "                                                                 \n",
      " dropout_205 (Dropout)       (None, 4, 4, 6)           0         \n",
      "                                                                 \n",
      " flatten_145 (Flatten)       (None, 96)                0         \n",
      "                                                                 \n",
      " dense_145 (Dense)           (None, 6)                 582       \n",
      "                                                                 \n",
      "=================================================================\n",
      "Total params: 5,500\n",
      "Trainable params: 5,500\n",
      "Non-trainable params: 0\n",
      "_________________________________________________________________\n",
      "Model: \"sequential_154\"\n",
      "_________________________________________________________________\n",
      " Layer (type)                Output Shape              Param #   \n",
      "=================================================================\n",
      " quantize_layer_8 (QuantizeL  (None, 124, 129, 1)      3         \n",
      " ayer)                                                           \n",
      "                                                                 \n",
      " quant_conv2d_203 (QuantizeW  (None, 29, 30, 10)       1473      \n",
      " rapperV2)                                                       \n",
      "                                                                 \n",
      " quant_dropout_203 (Quantize  (None, 29, 30, 10)       1         \n",
      " WrapperV2)                                                      \n",
      "                                                                 \n",
      " quant_conv2d_204 (QuantizeW  (None, 12, 13, 6)        2181      \n",
      " rapperV2)                                                       \n",
      "                                                                 \n",
      " quant_dropout_204 (Quantize  (None, 12, 13, 6)        1         \n",
      " WrapperV2)                                                      \n",
      "                                                                 \n",
      " quant_conv2d_205 (QuantizeW  (None, 4, 4, 6)          1317      \n",
      " rapperV2)                                                       \n",
      "                                                                 \n",
      " quant_dropout_205 (Quantize  (None, 4, 4, 6)          1         \n",
      " WrapperV2)                                                      \n",
      "                                                                 \n",
      " quant_flatten_145 (Quantize  (None, 96)               1         \n",
      " WrapperV2)                                                      \n",
      "                                                                 \n",
      " quant_dense_145 (QuantizeWr  (None, 6)                587       \n",
      " apperV2)                                                        \n",
      "                                                                 \n",
      "=================================================================\n",
      "Total params: 5,565\n",
      "Trainable params: 5,500\n",
      "Non-trainable params: 65\n",
      "_________________________________________________________________\n",
      "Number of batches in the training dataset: -2\n"
     ]
    },
    {
     "name": "stderr",
     "output_type": "stream",
     "text": [
      "/share/pkg.7/tensorflow/2.11.0/install/lib/SCC/../python3.10/site-packages/keras/backend.py:5585: UserWarning: \"`sparse_categorical_crossentropy` received `from_logits=True`, but the `output` argument was produced by a Softmax activation and thus does not represent logits. Was this intended?\n",
      "  output, from_logits = _get_logits(\n"
     ]
    },
    {
     "name": "stdout",
     "output_type": "stream",
     "text": [
      "213/213 [==============================] - 2s 4ms/step - loss: 0.7169 - accuracy: 0.7360 - val_loss: 0.5623 - val_accuracy: 0.8076\n",
      "Baseline test accuracy: 0.75352942943573\n",
      "Quant test accuracy: 0.7976470589637756\n"
     ]
    },
    {
     "name": "stderr",
     "output_type": "stream",
     "text": [
      "WARNING:absl:Found untraced functions such as conv2d_203_layer_call_fn, conv2d_203_layer_call_and_return_conditional_losses, _jit_compiled_convolution_op, dropout_203_layer_call_fn, dropout_203_layer_call_and_return_conditional_losses while saving (showing 5 of 19). These functions will not be directly callable after loading.\n"
     ]
    },
    {
     "name": "stdout",
     "output_type": "stream",
     "text": [
      "INFO:tensorflow:Assets written to: /scratch/1351000.1.l40s/tmp_4enxi58/assets\n"
     ]
    },
    {
     "name": "stderr",
     "output_type": "stream",
     "text": [
      "INFO:tensorflow:Assets written to: /scratch/1351000.1.l40s/tmp_4enxi58/assets\n",
      "/share/pkg.7/tensorflow/2.11.0/install/lib/SCC/../python3.10/site-packages/tensorflow/lite/python/convert.py:765: UserWarning: Statistics for quantized inputs were expected, but not specified; continuing anyway.\n",
      "  warnings.warn(\"Statistics for quantized inputs were expected, but not \"\n"
     ]
    },
    {
     "name": "stdout",
     "output_type": "stream",
     "text": [
      "Model type: <class 'keras.engine.sequential.Sequential'>\n",
      "Is Sequential: True\n",
      "Is Functional: True\n",
      "Model: \"tiny_embed_conv_model\"\n",
      "_________________________________________________________________\n",
      " Layer (type)                Output Shape              Param #   \n",
      "=================================================================\n",
      " conv1 (Conv2D)              (None, 62, 65, 8)         648       \n",
      "                                                                 \n",
      " relu1 (ReLU)                (None, 62, 65, 8)         0         \n",
      "                                                                 \n",
      " dropout1 (Dropout)          (None, 62, 65, 8)         0         \n",
      "                                                                 \n",
      " conv2 (Conv2D)              (None, 8, 9, 8)           5128      \n",
      "                                                                 \n",
      " relu2 (ReLU)                (None, 8, 9, 8)           0         \n",
      "                                                                 \n",
      " dropout2 (Dropout)          (None, 8, 9, 8)           0         \n",
      "                                                                 \n",
      " flatten (Flatten)           (None, 576)               0         \n",
      "                                                                 \n",
      " fc2 (Dense)                 (None, 6)                 3462      \n",
      "                                                                 \n",
      "=================================================================\n",
      "Total params: 9,238\n",
      "Trainable params: 9,238\n",
      "Non-trainable params: 0\n",
      "_________________________________________________________________\n",
      "Model: \"tiny_embed_conv_model\"\n",
      "_________________________________________________________________\n",
      " Layer (type)                Output Shape              Param #   \n",
      "=================================================================\n",
      " quantize_layer_9 (QuantizeL  (None, 124, 129, 1)      3         \n",
      " ayer)                                                           \n",
      "                                                                 \n",
      " quant_conv1 (QuantizeWrappe  (None, 62, 65, 8)        649       \n",
      " rV2)                                                            \n",
      "                                                                 \n",
      " quant_relu1 (QuantizeWrappe  (None, 62, 65, 8)        3         \n",
      " rV2)                                                            \n",
      "                                                                 \n",
      " quant_dropout1 (QuantizeWra  (None, 62, 65, 8)        1         \n",
      " pperV2)                                                         \n",
      "                                                                 \n",
      " quant_conv2 (QuantizeWrappe  (None, 8, 9, 8)          5129      \n",
      " rV2)                                                            \n",
      "                                                                 \n",
      " quant_relu2 (QuantizeWrappe  (None, 8, 9, 8)          3         \n",
      " rV2)                                                            \n",
      "                                                                 \n",
      " quant_dropout2 (QuantizeWra  (None, 8, 9, 8)          1         \n",
      " pperV2)                                                         \n",
      "                                                                 \n",
      " quant_flatten (QuantizeWrap  (None, 576)              1         \n",
      " perV2)                                                          \n",
      "                                                                 \n",
      " quant_fc2 (QuantizeWrapperV  (None, 6)                3467      \n",
      " 2)                                                              \n",
      "                                                                 \n",
      "=================================================================\n",
      "Total params: 9,257\n",
      "Trainable params: 9,238\n",
      "Non-trainable params: 19\n",
      "_________________________________________________________________\n",
      "Number of batches in the training dataset: -2\n"
     ]
    },
    {
     "name": "stderr",
     "output_type": "stream",
     "text": [
      "/share/pkg.7/tensorflow/2.11.0/install/lib/SCC/../python3.10/site-packages/keras/backend.py:5585: UserWarning: \"`sparse_categorical_crossentropy` received `from_logits=True`, but the `output` argument was produced by a Softmax activation and thus does not represent logits. Was this intended?\n",
      "  output, from_logits = _get_logits(\n"
     ]
    },
    {
     "name": "stdout",
     "output_type": "stream",
     "text": [
      "213/213 [==============================] - 1s 3ms/step - loss: 0.5929 - accuracy: 0.7829 - val_loss: 0.5516 - val_accuracy: 0.8035\n",
      "Baseline test accuracy: 0.794705867767334\n",
      "Quant test accuracy: 0.8076470494270325\n"
     ]
    },
    {
     "name": "stderr",
     "output_type": "stream",
     "text": [
      "WARNING:absl:Found untraced functions such as conv1_layer_call_fn, conv1_layer_call_and_return_conditional_losses, _jit_compiled_convolution_op, relu1_layer_call_fn, relu1_layer_call_and_return_conditional_losses while saving (showing 5 of 18). These functions will not be directly callable after loading.\n"
     ]
    },
    {
     "name": "stdout",
     "output_type": "stream",
     "text": [
      "INFO:tensorflow:Assets written to: /scratch/1351000.1.l40s/tmp4z5s2ie0/assets\n"
     ]
    },
    {
     "name": "stderr",
     "output_type": "stream",
     "text": [
      "INFO:tensorflow:Assets written to: /scratch/1351000.1.l40s/tmp4z5s2ie0/assets\n",
      "/share/pkg.7/tensorflow/2.11.0/install/lib/SCC/../python3.10/site-packages/tensorflow/lite/python/convert.py:765: UserWarning: Statistics for quantized inputs were expected, but not specified; continuing anyway.\n",
      "  warnings.warn(\"Statistics for quantized inputs were expected, but not \"\n"
     ]
    },
    {
     "data": {
      "text/plain": [
       "\"\\n# Evaluate the TFLite quantized model\\ninterpreter = tf.lite.Interpreter(model_content=qat_models[0])\\ninterpreter.allocate_tensors()\\n\\ninput_details = interpreter.get_input_details()\\noutput_details = interpreter.get_output_details()\\n\\n\\n#quantized_model_accuracy = evaluate_tflite_model(interpreter, test_spectrogram_ds)\\n#print('Quantized TFLite model test accuracy:', quantized_model_accuracy)\\n\\n\""
      ]
     },
     "execution_count": 34,
     "metadata": {},
     "output_type": "execute_result"
    }
   ],
   "source": [
    "quantized_qat_models = []\n",
    "pruning_quantized_qat_models = []\n",
    "\n",
    "\n",
    "# Do qat with non-pruned models\n",
    "for model in final_models:\n",
    "    qat_tflite_model = qat(model, pruned = False, save=True)\n",
    "    quantized_qat_models.append(qat_tflite_model)\n",
    "\n",
    "# Do qat with pruned models\n",
    "for model in basic_pruned_models:\n",
    "    pruned_qat_tflite_model = qat(model, pruned = True, save = True)\n",
    "    pruning_quantized_qat_models.append(pruned_qat_tflite_model)\n",
    "\n",
    "\n",
    "\n",
    "'''\n",
    "# Evaluate the TFLite quantized model\n",
    "interpreter = tf.lite.Interpreter(model_content=qat_models[0])\n",
    "interpreter.allocate_tensors()\n",
    "\n",
    "input_details = interpreter.get_input_details()\n",
    "output_details = interpreter.get_output_details()\n",
    "\n",
    "\n",
    "#quantized_model_accuracy = evaluate_tflite_model(interpreter, test_spectrogram_ds)\n",
    "#print('Quantized TFLite model test accuracy:', quantized_model_accuracy)\n",
    "\n",
    "'''\n"
   ]
  },
  {
   "cell_type": "code",
   "execution_count": 35,
   "metadata": {},
   "outputs": [],
   "source": [
    "def get_gzipped_model_size(file):\n",
    "  # It returns the size of the gzipped model in kilobytes.\n",
    "\n",
    "  _, zipped_file = tempfile.mkstemp('.zip')\n",
    "  with zipfile.ZipFile(zipped_file, 'w', compression=zipfile.ZIP_DEFLATED) as f:\n",
    "    f.write(file)\n",
    "\n",
    "  return os.path.getsize(zipped_file)/1000\n"
   ]
  },
  {
   "cell_type": "code",
   "execution_count": 36,
   "metadata": {},
   "outputs": [
    {
     "name": "stdout",
     "output_type": "stream",
     "text": [
      "Model: qat_sequential_122.tflite\n",
      "Size: 5.623 KB\n",
      "Model: qat_sequential_40.tflite\n",
      "Size: 4.672 KB\n",
      "Model: qat_sequential_42.tflite\n",
      "Size: 10.212 KB\n",
      "Model: qat_sequential_154.tflite\n",
      "Size: 7.028 KB\n",
      "Model: qat_tiny_embed_conv_model.tflite\n",
      "Size: 9.261 KB\n",
      "Model: pruned_qat_sequential_122.tflite\n",
      "Size: 4.755 KB\n",
      "Model: pruned_qat_sequential_40.tflite\n",
      "Size: 4.481 KB\n",
      "Model: pruned_qat_sequential_42.tflite\n",
      "Size: 8.389 KB\n",
      "Model: pruned_qat_sequential_154.tflite\n",
      "Size: 5.862 KB\n",
      "Model: pruned_qat_tiny_embed_conv_model.tflite\n",
      "Size: 8.879 KB\n"
     ]
    }
   ],
   "source": [
    "p_and_qat_size_and_acc = {}\n",
    "\n",
    "for file in quantized_qat_models:\n",
    "  print(f\"Model: {file}\")\n",
    "  print(f\"Size: {get_gzipped_model_size(file)} KB\")\n",
    "  p_and_qat_size_and_acc[file] = (get_gzipped_model_size(file),)\n",
    "\n",
    "for file in pruning_quantized_qat_models:\n",
    "  print(f\"Model: {file}\")\n",
    "  print(f\"Size: {get_gzipped_model_size(file)} KB\")\n",
    "  p_and_qat_size_and_acc[file] = (get_gzipped_model_size(file),)"
   ]
  },
  {
   "cell_type": "code",
   "execution_count": 37,
   "metadata": {},
   "outputs": [],
   "source": [
    "#to see persistence of accuracy from tf to tflite\n",
    "def eval_model(interpreter):\n",
    "  test_images, test_labels = ds_to_numpy(test_spectrogram_ds)\n",
    "  \n",
    "  input_index = interpreter.get_input_details()[0][\"index\"]\n",
    "  output_index = interpreter.get_output_details()[0][\"index\"]\n",
    "\n",
    "  # Run predictions on every image in the \"test\" dataset.\n",
    "  prediction_digits = []\n",
    "  for i, test_image in enumerate(test_images):\n",
    "    if i % 1000 == 0:\n",
    "      print(f\"Evaluated on {i} results so far.\")\n",
    "    # Pre-processing: add batch dimension and convert to float32 to match with\n",
    "    # the model's input data format.\n",
    "    test_image = np.expand_dims(test_image, axis=0).astype(np.float32)\n",
    "    interpreter.set_tensor(input_index, test_image)\n",
    "\n",
    "    # Run inference.\n",
    "    interpreter.invoke()\n",
    "\n",
    "    # Post-processing: remove batch dimension and find the digit with highest\n",
    "    # probability.\n",
    "    output = interpreter.tensor(output_index)\n",
    "    digit = np.argmax(output()[0])\n",
    "    prediction_digits.append(digit)\n",
    "\n",
    "  print('\\n')\n",
    "  # Compare prediction results with ground truth labels to calculate accuracy.\n",
    "  prediction_digits = np.array(prediction_digits)\n",
    "  accuracy = np.mean((prediction_digits == test_labels))\n",
    "  return accuracy\n"
   ]
  },
  {
   "cell_type": "code",
   "execution_count": 38,
   "metadata": {},
   "outputs": [
    {
     "name": "stdout",
     "output_type": "stream",
     "text": [
      "Processing model: /projectnb/cs640grp/projects/tinyml/pruned_qat_sequential_154.tflite\n",
      "Evaluated on 0 results so far.\n"
     ]
    },
    {
     "name": "stderr",
     "output_type": "stream",
     "text": [
      "INFO: Created TensorFlow Lite XNNPACK delegate for CPU.\n"
     ]
    },
    {
     "name": "stdout",
     "output_type": "stream",
     "text": [
      "Evaluated on 1000 results so far.\n",
      "\n",
      "\n",
      "pruned_qat_sequential_154.tflite test accuracy: 0.7988\n",
      "Processing model: /projectnb/cs640grp/projects/tinyml/pruned_qat_tiny_embed_conv_model.tflite\n",
      "Evaluated on 0 results so far.\n",
      "Evaluated on 1000 results so far.\n",
      "\n",
      "\n",
      "pruned_qat_tiny_embed_conv_model.tflite test accuracy: 0.8071\n",
      "Processing model: /projectnb/cs640grp/projects/tinyml/qat_sequential_40.tflite\n",
      "Evaluated on 0 results so far.\n",
      "Evaluated on 1000 results so far.\n",
      "\n",
      "\n",
      "qat_sequential_40.tflite test accuracy: 0.7288\n",
      "Processing model: /projectnb/cs640grp/projects/tinyml/qat_sequential_122.tflite\n",
      "Evaluated on 0 results so far.\n",
      "Evaluated on 1000 results so far.\n",
      "\n",
      "\n",
      "qat_sequential_122.tflite test accuracy: 0.7341\n",
      "Processing model: /projectnb/cs640grp/projects/tinyml/pruned_qat_sequential_122.tflite\n",
      "Evaluated on 0 results so far.\n",
      "Evaluated on 1000 results so far.\n",
      "\n",
      "\n",
      "pruned_qat_sequential_122.tflite test accuracy: 0.6724\n",
      "Processing model: /projectnb/cs640grp/projects/tinyml/pruned_qat_sequential_40.tflite\n",
      "Evaluated on 0 results so far.\n",
      "Evaluated on 1000 results so far.\n",
      "\n",
      "\n",
      "pruned_qat_sequential_40.tflite test accuracy: 0.7218\n",
      "Processing model: /projectnb/cs640grp/projects/tinyml/qat_sequential_42.tflite\n",
      "Evaluated on 0 results so far.\n",
      "Evaluated on 1000 results so far.\n",
      "\n",
      "\n",
      "qat_sequential_42.tflite test accuracy: 0.8165\n",
      "Processing model: /projectnb/cs640grp/projects/tinyml/pruned_qat_sequential_42.tflite\n",
      "Evaluated on 0 results so far.\n",
      "Evaluated on 1000 results so far.\n",
      "\n",
      "\n",
      "pruned_qat_sequential_42.tflite test accuracy: 0.8076\n",
      "Processing model: /projectnb/cs640grp/projects/tinyml/qat_sequential_154.tflite\n",
      "Evaluated on 0 results so far.\n",
      "Evaluated on 1000 results so far.\n",
      "\n",
      "\n",
      "qat_sequential_154.tflite test accuracy: 0.7894\n",
      "Processing model: /projectnb/cs640grp/projects/tinyml/qat_tiny_embed_conv_model.tflite\n",
      "Evaluated on 0 results so far.\n",
      "Evaluated on 1000 results so far.\n",
      "\n",
      "\n",
      "qat_tiny_embed_conv_model.tflite test accuracy: 0.8029\n"
     ]
    }
   ],
   "source": [
    "#for local\n",
    "#pqat_model_file = \"C:\\\\Users\\\\adamk\\\\Downloads\\\\micro_speech_model_making\\\\notebooks\\\\pruned_qat_tiny_embed_conv_model.tflite\"\n",
    "#for SCC\n",
    "#root_directory + \n",
    "\n",
    "# List all TFLite files in the folder\n",
    "tflite_files = [f for f in os.listdir(root_directory) if f.endswith(\".tflite\")]\n",
    "\n",
    "for file_name in tflite_files:\n",
    "    # Check if file matches qat_ or pruned_qat_\n",
    "    if file_name.startswith(\"qat_\") or file_name.startswith(\"pruned_qat_\"):\n",
    "        model_path = os.path.join(root_directory, file_name)\n",
    "        print(f\"Processing model: {model_path}\")\n",
    "\n",
    "        # Load the TFLite model\n",
    "        interpreter = tf.lite.Interpreter(model_path=model_path)\n",
    "        interpreter.allocate_tensors()\n",
    "\n",
    "        # Evaluate model\n",
    "        accuracy = eval_model(interpreter)\n",
    "        if file_name in p_and_qat_size_and_acc:\n",
    "            p_and_qat_size_and_acc[file_name] += (accuracy,)\n",
    "        print(f\"{file_name} test accuracy: {accuracy:.4f}\")\n",
    "\n",
    "\n",
    "\n",
    "#interpreter = tf.lite.Interpreter(pqat_model_file)\n",
    "#interpreter.allocate_tensors()\n",
    "\n",
    "#pqat_test_accuracy = eval_model(interpreter)\n",
    "\n",
    "#print('Pruned and quantized TFLite test_accuracy:', pqat_test_accuracy)\n"
   ]
  },
  {
   "cell_type": "code",
   "execution_count": 39,
   "metadata": {},
   "outputs": [
    {
     "data": {
      "image/png": "[encoded data removed]",
      "text/plain": [
       "<Figure size 1000x600 with 1 Axes>"
      ]
     },
     "metadata": {},
     "output_type": "display_data"
    }
   ],
   "source": [
    "# Final visualization for pqat and qat models in tflite format\n",
    "p_and_qat_size_and_acc\n",
    "\n",
    "# Extract keys, sizes, and accuracies from the dictionary\n",
    "keys = list(p_and_qat_size_and_acc.keys())\n",
    "sizes = [value[0] for value in p_and_qat_size_and_acc.values()]\n",
    "accuracies = [value[1] for value in p_and_qat_size_and_acc.values()]\n",
    "\n",
    "# Create a scatter plot\n",
    "plt.figure(figsize=(10, 6))\n",
    "plt.scatter(sizes, accuracies, color='blue', label='Models')\n",
    "\n",
    "# Annotate each point with its corresponding model name\n",
    "for i, key in enumerate(keys):\n",
    "    plt.text(sizes[i], accuracies[i], key, fontsize=8, ha='right')\n",
    "\n",
    "# Add labels, title, and grid\n",
    "plt.xlabel('Model Size (KB)')\n",
    "plt.ylabel('Accuracy')\n",
    "plt.title('Model Size vs Accuracy')\n",
    "plt.grid(True)\n",
    "plt.legend()\n",
    "\n",
    "# Show the plot\n",
    "plt.show()"
   ]
  },
  {
   "cell_type": "markdown",
   "metadata": {},
   "source": [
    "## Post training quantization\n",
    "\n",
    "https://ai.google.dev/edge/litert/models/post_training_quant"
   ]
  },
  {
   "cell_type": "code",
   "execution_count": 60,
   "metadata": {},
   "outputs": [],
   "source": [
    "# Function to quantize the models using TensorFlow Lite Micro with different granularities\n",
    "def quantize_model(model, optimization_strategy):\n",
    "    converter = tf.lite.TFLiteConverter.from_keras_model(model)\n",
    "    converter.optimizations = [tf.lite.Optimize.DEFAULT]\n",
    "    if optimization_strategy == 'weight':\n",
    "        # Quantize only weights\n",
    "        converter.target_spec.supported_types = [tf.float16]\n",
    "    elif optimization_strategy == 'full':\n",
    "        # Full integer quantization\n",
    "        def representative_dataset():\n",
    "            for spectrogram, _ in train_spectrogram_ds.take(1000):\n",
    "                yield [spectrogram]\n",
    "        converter.representative_dataset = representative_dataset\n",
    "        converter.target_spec.supported_ops = [tf.lite.OpsSet.TFLITE_BUILTINS_INT8]\n",
    "        converter.inference_input_type = tf.uint8\n",
    "        converter.inference_output_type = tf.uint8\n",
    "    elif optimization_strategy == 'dynamic':\n",
    "        # Dynamic range quantization\n",
    "        converter.optimizations = [tf.lite.Optimize.DEFAULT]\n",
    "    else:\n",
    "        raise ValueError(\"Unsupported optimization strategy. Use 'weight', 'full', or 'dynamic'.\")\n",
    "    tflite_model = converter.convert()\n",
    "    return tflite_model\n"
   ]
  },
  {
   "cell_type": "code",
   "execution_count": 61,
   "metadata": {},
   "outputs": [],
   "source": [
    "# Function to quantize the models using post-training integer quantization with int16 activations and int8 weights\n",
    "def quantize_model_int16x8(model):\n",
    "    converter = tf.lite.TFLiteConverter.from_keras_model(model)\n",
    "    converter.optimizations = [tf.lite.Optimize.DEFAULT]\n",
    "    def representative_dataset():\n",
    "        for spectrogram, _ in train_spectrogram_ds.take(100):\n",
    "            yield [spectrogram]\n",
    "    converter.representative_dataset = representative_dataset\n",
    "    converter.target_spec.supported_ops = [tf.lite.OpsSet.EXPERIMENTAL_TFLITE_BUILTINS_ACTIVATIONS_INT16_WEIGHTS_INT8]\n",
    "    converter.inference_input_type = tf.int16\n",
    "    converter.inference_output_type = tf.int16\n",
    "    tflite_model = converter.convert()\n",
    "    return tflite_model"
   ]
  },
  {
   "cell_type": "code",
   "execution_count": 62,
   "metadata": {},
   "outputs": [
    {
     "name": "stdout",
     "output_type": "stream",
     "text": [
      "Model name: sequential_122\n",
      "Model name: sequential_40\n",
      "Model name: sequential_42\n",
      "Model name: sequential_154\n",
      "Model name: tiny_embed_conv_model\n"
     ]
    }
   ],
   "source": [
    "for model in basic_pruned_models:\n",
    "    print(\"Model name:\", model.name)"
   ]
  },
  {
   "cell_type": "code",
   "execution_count": 63,
   "metadata": {},
   "outputs": [
    {
     "name": "stdout",
     "output_type": "stream",
     "text": [
      "Quantizing Model sequential_122 with weight strategy\n"
     ]
    },
    {
     "name": "stderr",
     "output_type": "stream",
     "text": [
      "WARNING:absl:Found untraced functions such as _jit_compiled_convolution_op, _jit_compiled_convolution_op, _jit_compiled_convolution_op, _update_step_xla while saving (showing 4 of 4). These functions will not be directly callable after loading.\n"
     ]
    },
    {
     "name": "stdout",
     "output_type": "stream",
     "text": [
      "INFO:tensorflow:Assets written to: /scratch/1351000.1.l40s/tmpsjkzyzd9/assets\n"
     ]
    },
    {
     "name": "stderr",
     "output_type": "stream",
     "text": [
      "INFO:tensorflow:Assets written to: /scratch/1351000.1.l40s/tmpsjkzyzd9/assets\n"
     ]
    },
    {
     "name": "stdout",
     "output_type": "stream",
     "text": [
      "Model 0 quantized with weight strategy and saved as sequential_122_weight_quantized.tflite\n",
      "Quantizing Model sequential_122 with full strategy\n"
     ]
    },
    {
     "name": "stderr",
     "output_type": "stream",
     "text": [
      "WARNING:absl:Found untraced functions such as _jit_compiled_convolution_op, _jit_compiled_convolution_op, _jit_compiled_convolution_op, _update_step_xla while saving (showing 4 of 4). These functions will not be directly callable after loading.\n"
     ]
    },
    {
     "name": "stdout",
     "output_type": "stream",
     "text": [
      "INFO:tensorflow:Assets written to: /scratch/1351000.1.l40s/tmp2txsan2n/assets\n"
     ]
    },
    {
     "name": "stderr",
     "output_type": "stream",
     "text": [
      "INFO:tensorflow:Assets written to: /scratch/1351000.1.l40s/tmp2txsan2n/assets\n",
      "/share/pkg.7/tensorflow/2.11.0/install/lib/SCC/../python3.10/site-packages/tensorflow/lite/python/convert.py:765: UserWarning: Statistics for quantized inputs were expected, but not specified; continuing anyway.\n",
      "  warnings.warn(\"Statistics for quantized inputs were expected, but not \"\n",
      "fully_quantize: 0, inference_type: 6, input_inference_type: UINT8, output_inference_type: UINT8\n"
     ]
    },
    {
     "name": "stdout",
     "output_type": "stream",
     "text": [
      "Model 0 quantized with full strategy and saved as sequential_122_full_quantized.tflite\n",
      "Quantizing Model sequential_122 with dynamic strategy\n"
     ]
    },
    {
     "name": "stderr",
     "output_type": "stream",
     "text": [
      "WARNING:absl:Found untraced functions such as _jit_compiled_convolution_op, _jit_compiled_convolution_op, _jit_compiled_convolution_op, _update_step_xla while saving (showing 4 of 4). These functions will not be directly callable after loading.\n"
     ]
    },
    {
     "name": "stdout",
     "output_type": "stream",
     "text": [
      "INFO:tensorflow:Assets written to: /scratch/1351000.1.l40s/tmpwwizo96v/assets\n"
     ]
    },
    {
     "name": "stderr",
     "output_type": "stream",
     "text": [
      "INFO:tensorflow:Assets written to: /scratch/1351000.1.l40s/tmpwwizo96v/assets\n"
     ]
    },
    {
     "name": "stdout",
     "output_type": "stream",
     "text": [
      "Model 0 quantized with dynamic strategy and saved as sequential_122_dynamic_quantized.tflite\n",
      "Quantizing Model 0 with int16 activations and int8 weights\n"
     ]
    },
    {
     "name": "stderr",
     "output_type": "stream",
     "text": [
      "WARNING:absl:Found untraced functions such as _jit_compiled_convolution_op, _jit_compiled_convolution_op, _jit_compiled_convolution_op, _update_step_xla while saving (showing 4 of 4). These functions will not be directly callable after loading.\n"
     ]
    },
    {
     "name": "stdout",
     "output_type": "stream",
     "text": [
      "INFO:tensorflow:Assets written to: /scratch/1351000.1.l40s/tmp8qst2x8j/assets\n"
     ]
    },
    {
     "name": "stderr",
     "output_type": "stream",
     "text": [
      "INFO:tensorflow:Assets written to: /scratch/1351000.1.l40s/tmp8qst2x8j/assets\n"
     ]
    },
    {
     "name": "stdout",
     "output_type": "stream",
     "text": [
      "Model 0 quantized with int16 activations and int8 weights and saved as model_0_int16x8_quantized.tflite\n",
      "Quantizing Model sequential_40 with weight strategy\n"
     ]
    },
    {
     "name": "stderr",
     "output_type": "stream",
     "text": [
      "WARNING:absl:Found untraced functions such as _jit_compiled_convolution_op, _jit_compiled_convolution_op, _jit_compiled_convolution_op, _update_step_xla while saving (showing 4 of 4). These functions will not be directly callable after loading.\n"
     ]
    },
    {
     "name": "stdout",
     "output_type": "stream",
     "text": [
      "INFO:tensorflow:Assets written to: /scratch/1351000.1.l40s/tmp22zvuw26/assets\n"
     ]
    },
    {
     "name": "stderr",
     "output_type": "stream",
     "text": [
      "INFO:tensorflow:Assets written to: /scratch/1351000.1.l40s/tmp22zvuw26/assets\n"
     ]
    },
    {
     "name": "stdout",
     "output_type": "stream",
     "text": [
      "Model 1 quantized with weight strategy and saved as sequential_40_weight_quantized.tflite\n",
      "Quantizing Model sequential_40 with full strategy\n"
     ]
    },
    {
     "name": "stderr",
     "output_type": "stream",
     "text": [
      "WARNING:absl:Found untraced functions such as _jit_compiled_convolution_op, _jit_compiled_convolution_op, _jit_compiled_convolution_op, _update_step_xla while saving (showing 4 of 4). These functions will not be directly callable after loading.\n"
     ]
    },
    {
     "name": "stdout",
     "output_type": "stream",
     "text": [
      "INFO:tensorflow:Assets written to: /scratch/1351000.1.l40s/tmpabo4ntxk/assets\n"
     ]
    },
    {
     "name": "stderr",
     "output_type": "stream",
     "text": [
      "INFO:tensorflow:Assets written to: /scratch/1351000.1.l40s/tmpabo4ntxk/assets\n",
      "/share/pkg.7/tensorflow/2.11.0/install/lib/SCC/../python3.10/site-packages/tensorflow/lite/python/convert.py:765: UserWarning: Statistics for quantized inputs were expected, but not specified; continuing anyway.\n",
      "  warnings.warn(\"Statistics for quantized inputs were expected, but not \"\n",
      "fully_quantize: 0, inference_type: 6, input_inference_type: UINT8, output_inference_type: UINT8\n"
     ]
    },
    {
     "name": "stdout",
     "output_type": "stream",
     "text": [
      "Model 1 quantized with full strategy and saved as sequential_40_full_quantized.tflite\n",
      "Quantizing Model sequential_40 with dynamic strategy\n"
     ]
    },
    {
     "name": "stderr",
     "output_type": "stream",
     "text": [
      "WARNING:absl:Found untraced functions such as _jit_compiled_convolution_op, _jit_compiled_convolution_op, _jit_compiled_convolution_op, _update_step_xla while saving (showing 4 of 4). These functions will not be directly callable after loading.\n"
     ]
    },
    {
     "name": "stdout",
     "output_type": "stream",
     "text": [
      "INFO:tensorflow:Assets written to: /scratch/1351000.1.l40s/tmpeqxiin9y/assets\n"
     ]
    },
    {
     "name": "stderr",
     "output_type": "stream",
     "text": [
      "INFO:tensorflow:Assets written to: /scratch/1351000.1.l40s/tmpeqxiin9y/assets\n",
      "WARNING:absl:Found untraced functions such as _jit_compiled_convolution_op, _jit_compiled_convolution_op, _jit_compiled_convolution_op, _update_step_xla while saving (showing 4 of 4). These functions will not be directly callable after loading.\n"
     ]
    },
    {
     "name": "stdout",
     "output_type": "stream",
     "text": [
      "Model 1 quantized with dynamic strategy and saved as sequential_40_dynamic_quantized.tflite\n",
      "Quantizing Model 1 with int16 activations and int8 weights\n",
      "INFO:tensorflow:Assets written to: /scratch/1351000.1.l40s/tmp3wjujkjx/assets\n"
     ]
    },
    {
     "name": "stderr",
     "output_type": "stream",
     "text": [
      "INFO:tensorflow:Assets written to: /scratch/1351000.1.l40s/tmp3wjujkjx/assets\n"
     ]
    },
    {
     "name": "stdout",
     "output_type": "stream",
     "text": [
      "Model 1 quantized with int16 activations and int8 weights and saved as model_1_int16x8_quantized.tflite\n",
      "Quantizing Model sequential_42 with weight strategy\n"
     ]
    },
    {
     "name": "stderr",
     "output_type": "stream",
     "text": [
      "WARNING:absl:Found untraced functions such as _jit_compiled_convolution_op, _jit_compiled_convolution_op, _jit_compiled_convolution_op, _update_step_xla while saving (showing 4 of 4). These functions will not be directly callable after loading.\n"
     ]
    },
    {
     "name": "stdout",
     "output_type": "stream",
     "text": [
      "INFO:tensorflow:Assets written to: /scratch/1351000.1.l40s/tmpe20erqwr/assets\n"
     ]
    },
    {
     "name": "stderr",
     "output_type": "stream",
     "text": [
      "INFO:tensorflow:Assets written to: /scratch/1351000.1.l40s/tmpe20erqwr/assets\n"
     ]
    },
    {
     "name": "stdout",
     "output_type": "stream",
     "text": [
      "Model 2 quantized with weight strategy and saved as sequential_42_weight_quantized.tflite\n",
      "Quantizing Model sequential_42 with full strategy\n"
     ]
    },
    {
     "name": "stderr",
     "output_type": "stream",
     "text": [
      "WARNING:absl:Found untraced functions such as _jit_compiled_convolution_op, _jit_compiled_convolution_op, _jit_compiled_convolution_op, _update_step_xla while saving (showing 4 of 4). These functions will not be directly callable after loading.\n"
     ]
    },
    {
     "name": "stdout",
     "output_type": "stream",
     "text": [
      "INFO:tensorflow:Assets written to: /scratch/1351000.1.l40s/tmpi3fhzawc/assets\n"
     ]
    },
    {
     "name": "stderr",
     "output_type": "stream",
     "text": [
      "INFO:tensorflow:Assets written to: /scratch/1351000.1.l40s/tmpi3fhzawc/assets\n",
      "/share/pkg.7/tensorflow/2.11.0/install/lib/SCC/../python3.10/site-packages/tensorflow/lite/python/convert.py:765: UserWarning: Statistics for quantized inputs were expected, but not specified; continuing anyway.\n",
      "  warnings.warn(\"Statistics for quantized inputs were expected, but not \"\n",
      "fully_quantize: 0, inference_type: 6, input_inference_type: UINT8, output_inference_type: UINT8\n"
     ]
    },
    {
     "name": "stdout",
     "output_type": "stream",
     "text": [
      "Model 2 quantized with full strategy and saved as sequential_42_full_quantized.tflite\n",
      "Quantizing Model sequential_42 with dynamic strategy\n"
     ]
    },
    {
     "name": "stderr",
     "output_type": "stream",
     "text": [
      "WARNING:absl:Found untraced functions such as _jit_compiled_convolution_op, _jit_compiled_convolution_op, _jit_compiled_convolution_op, _update_step_xla while saving (showing 4 of 4). These functions will not be directly callable after loading.\n"
     ]
    },
    {
     "name": "stdout",
     "output_type": "stream",
     "text": [
      "INFO:tensorflow:Assets written to: /scratch/1351000.1.l40s/tmpte3aylz_/assets\n"
     ]
    },
    {
     "name": "stderr",
     "output_type": "stream",
     "text": [
      "INFO:tensorflow:Assets written to: /scratch/1351000.1.l40s/tmpte3aylz_/assets\n"
     ]
    },
    {
     "name": "stdout",
     "output_type": "stream",
     "text": [
      "Model 2 quantized with dynamic strategy and saved as sequential_42_dynamic_quantized.tflite\n",
      "Quantizing Model 2 with int16 activations and int8 weights\n"
     ]
    },
    {
     "name": "stderr",
     "output_type": "stream",
     "text": [
      "WARNING:absl:Found untraced functions such as _jit_compiled_convolution_op, _jit_compiled_convolution_op, _jit_compiled_convolution_op, _update_step_xla while saving (showing 4 of 4). These functions will not be directly callable after loading.\n"
     ]
    },
    {
     "name": "stdout",
     "output_type": "stream",
     "text": [
      "INFO:tensorflow:Assets written to: /scratch/1351000.1.l40s/tmpjnhzndoz/assets\n"
     ]
    },
    {
     "name": "stderr",
     "output_type": "stream",
     "text": [
      "INFO:tensorflow:Assets written to: /scratch/1351000.1.l40s/tmpjnhzndoz/assets\n"
     ]
    },
    {
     "name": "stdout",
     "output_type": "stream",
     "text": [
      "Model 2 quantized with int16 activations and int8 weights and saved as model_2_int16x8_quantized.tflite\n",
      "Quantizing Model sequential_154 with weight strategy\n"
     ]
    },
    {
     "name": "stderr",
     "output_type": "stream",
     "text": [
      "WARNING:absl:Found untraced functions such as _jit_compiled_convolution_op, _jit_compiled_convolution_op, _jit_compiled_convolution_op, _update_step_xla while saving (showing 4 of 4). These functions will not be directly callable after loading.\n"
     ]
    },
    {
     "name": "stdout",
     "output_type": "stream",
     "text": [
      "INFO:tensorflow:Assets written to: /scratch/1351000.1.l40s/tmpjm29dw6n/assets\n"
     ]
    },
    {
     "name": "stderr",
     "output_type": "stream",
     "text": [
      "INFO:tensorflow:Assets written to: /scratch/1351000.1.l40s/tmpjm29dw6n/assets\n"
     ]
    },
    {
     "name": "stdout",
     "output_type": "stream",
     "text": [
      "Model 3 quantized with weight strategy and saved as sequential_154_weight_quantized.tflite\n",
      "Quantizing Model sequential_154 with full strategy\n"
     ]
    },
    {
     "name": "stderr",
     "output_type": "stream",
     "text": [
      "WARNING:absl:Found untraced functions such as _jit_compiled_convolution_op, _jit_compiled_convolution_op, _jit_compiled_convolution_op, _update_step_xla while saving (showing 4 of 4). These functions will not be directly callable after loading.\n"
     ]
    },
    {
     "name": "stdout",
     "output_type": "stream",
     "text": [
      "INFO:tensorflow:Assets written to: /scratch/1351000.1.l40s/tmp_xqyjdm4/assets\n"
     ]
    },
    {
     "name": "stderr",
     "output_type": "stream",
     "text": [
      "INFO:tensorflow:Assets written to: /scratch/1351000.1.l40s/tmp_xqyjdm4/assets\n",
      "/share/pkg.7/tensorflow/2.11.0/install/lib/SCC/../python3.10/site-packages/tensorflow/lite/python/convert.py:765: UserWarning: Statistics for quantized inputs were expected, but not specified; continuing anyway.\n",
      "  warnings.warn(\"Statistics for quantized inputs were expected, but not \"\n",
      "fully_quantize: 0, inference_type: 6, input_inference_type: UINT8, output_inference_type: UINT8\n"
     ]
    },
    {
     "name": "stdout",
     "output_type": "stream",
     "text": [
      "Model 3 quantized with full strategy and saved as sequential_154_full_quantized.tflite\n",
      "Quantizing Model sequential_154 with dynamic strategy\n"
     ]
    },
    {
     "name": "stderr",
     "output_type": "stream",
     "text": [
      "WARNING:absl:Found untraced functions such as _jit_compiled_convolution_op, _jit_compiled_convolution_op, _jit_compiled_convolution_op, _update_step_xla while saving (showing 4 of 4). These functions will not be directly callable after loading.\n"
     ]
    },
    {
     "name": "stdout",
     "output_type": "stream",
     "text": [
      "INFO:tensorflow:Assets written to: /scratch/1351000.1.l40s/tmpffsti8sb/assets\n"
     ]
    },
    {
     "name": "stderr",
     "output_type": "stream",
     "text": [
      "INFO:tensorflow:Assets written to: /scratch/1351000.1.l40s/tmpffsti8sb/assets\n"
     ]
    },
    {
     "name": "stdout",
     "output_type": "stream",
     "text": [
      "Model 3 quantized with dynamic strategy and saved as sequential_154_dynamic_quantized.tflite\n",
      "Quantizing Model 3 with int16 activations and int8 weights\n"
     ]
    },
    {
     "name": "stderr",
     "output_type": "stream",
     "text": [
      "WARNING:absl:Found untraced functions such as _jit_compiled_convolution_op, _jit_compiled_convolution_op, _jit_compiled_convolution_op, _update_step_xla while saving (showing 4 of 4). These functions will not be directly callable after loading.\n"
     ]
    },
    {
     "name": "stdout",
     "output_type": "stream",
     "text": [
      "INFO:tensorflow:Assets written to: /scratch/1351000.1.l40s/tmpdj8x5f0m/assets\n"
     ]
    },
    {
     "name": "stderr",
     "output_type": "stream",
     "text": [
      "INFO:tensorflow:Assets written to: /scratch/1351000.1.l40s/tmpdj8x5f0m/assets\n"
     ]
    },
    {
     "name": "stdout",
     "output_type": "stream",
     "text": [
      "Model 3 quantized with int16 activations and int8 weights and saved as model_3_int16x8_quantized.tflite\n",
      "Quantizing Model tiny_embed_conv_model with weight strategy\n"
     ]
    },
    {
     "name": "stderr",
     "output_type": "stream",
     "text": [
      "WARNING:absl:Found untraced functions such as _jit_compiled_convolution_op, _jit_compiled_convolution_op, _update_step_xla while saving (showing 3 of 3). These functions will not be directly callable after loading.\n"
     ]
    },
    {
     "name": "stdout",
     "output_type": "stream",
     "text": [
      "INFO:tensorflow:Assets written to: /scratch/1351000.1.l40s/tmpw5wpy2l8/assets\n"
     ]
    },
    {
     "name": "stderr",
     "output_type": "stream",
     "text": [
      "INFO:tensorflow:Assets written to: /scratch/1351000.1.l40s/tmpw5wpy2l8/assets\n"
     ]
    },
    {
     "name": "stdout",
     "output_type": "stream",
     "text": [
      "Model 4 quantized with weight strategy and saved as tiny_embed_conv_model_weight_quantized.tflite\n",
      "Quantizing Model tiny_embed_conv_model with full strategy\n"
     ]
    },
    {
     "name": "stderr",
     "output_type": "stream",
     "text": [
      "WARNING:absl:Found untraced functions such as _jit_compiled_convolution_op, _jit_compiled_convolution_op, _update_step_xla while saving (showing 3 of 3). These functions will not be directly callable after loading.\n"
     ]
    },
    {
     "name": "stdout",
     "output_type": "stream",
     "text": [
      "INFO:tensorflow:Assets written to: /scratch/1351000.1.l40s/tmpxcufwpur/assets\n"
     ]
    },
    {
     "name": "stderr",
     "output_type": "stream",
     "text": [
      "INFO:tensorflow:Assets written to: /scratch/1351000.1.l40s/tmpxcufwpur/assets\n",
      "/share/pkg.7/tensorflow/2.11.0/install/lib/SCC/../python3.10/site-packages/tensorflow/lite/python/convert.py:765: UserWarning: Statistics for quantized inputs were expected, but not specified; continuing anyway.\n",
      "  warnings.warn(\"Statistics for quantized inputs were expected, but not \"\n",
      "fully_quantize: 0, inference_type: 6, input_inference_type: UINT8, output_inference_type: UINT8\n"
     ]
    },
    {
     "name": "stdout",
     "output_type": "stream",
     "text": [
      "Model 4 quantized with full strategy and saved as tiny_embed_conv_model_full_quantized.tflite\n",
      "Quantizing Model tiny_embed_conv_model with dynamic strategy\n"
     ]
    },
    {
     "name": "stderr",
     "output_type": "stream",
     "text": [
      "WARNING:absl:Found untraced functions such as _jit_compiled_convolution_op, _jit_compiled_convolution_op, _update_step_xla while saving (showing 3 of 3). These functions will not be directly callable after loading.\n"
     ]
    },
    {
     "name": "stdout",
     "output_type": "stream",
     "text": [
      "INFO:tensorflow:Assets written to: /scratch/1351000.1.l40s/tmppl0rv0p_/assets\n"
     ]
    },
    {
     "name": "stderr",
     "output_type": "stream",
     "text": [
      "INFO:tensorflow:Assets written to: /scratch/1351000.1.l40s/tmppl0rv0p_/assets\n"
     ]
    },
    {
     "name": "stdout",
     "output_type": "stream",
     "text": [
      "Model 4 quantized with dynamic strategy and saved as tiny_embed_conv_model_dynamic_quantized.tflite\n",
      "Quantizing Model 4 with int16 activations and int8 weights\n"
     ]
    },
    {
     "name": "stderr",
     "output_type": "stream",
     "text": [
      "WARNING:absl:Found untraced functions such as _jit_compiled_convolution_op, _jit_compiled_convolution_op, _update_step_xla while saving (showing 3 of 3). These functions will not be directly callable after loading.\n"
     ]
    },
    {
     "name": "stdout",
     "output_type": "stream",
     "text": [
      "INFO:tensorflow:Assets written to: /scratch/1351000.1.l40s/tmpqz14qydo/assets\n"
     ]
    },
    {
     "name": "stderr",
     "output_type": "stream",
     "text": [
      "INFO:tensorflow:Assets written to: /scratch/1351000.1.l40s/tmpqz14qydo/assets\n"
     ]
    },
    {
     "name": "stdout",
     "output_type": "stream",
     "text": [
      "Model 4 quantized with int16 activations and int8 weights and saved as model_4_int16x8_quantized.tflite\n"
     ]
    }
   ],
   "source": [
    "# Quantize each trained model with different granularities and save them\n",
    "quantization_strategies = ['weight', 'full', 'dynamic']\n",
    "\n",
    "for i, model in enumerate(basic_pruned_models):\n",
    "    for strategy in quantization_strategies:\n",
    "        print(f'Quantizing Model {model.name} with {strategy} strategy')\n",
    "        tflite_model = quantize_model(model, strategy)\n",
    "        model_filename = f'{model.name}_{strategy}_quantized.tflite'\n",
    "        with open(model_filename, 'wb') as f:\n",
    "            f.write(tflite_model)\n",
    "        print(f'Model {i} quantized with {strategy} strategy and saved as {model_filename}')\n",
    "\n",
    "    # Quantize using post-training integer quantization with int16 activations and int8 weights\n",
    "    print(f'Quantizing Model {i} with int16 activations and int8 weights')\n",
    "    tflite_model_int16x8 = quantize_model_int16x8(model)\n",
    "    model_filename_int16x8 = f'model_{i}_int16x8_quantized.tflite'\n",
    "    with open(model_filename_int16x8, 'wb') as f:\n",
    "        f.write(tflite_model_int16x8)\n",
    "    print(f'Model {i} quantized with int16 activations and int8 weights and saved as {model_filename_int16x8}')"
   ]
  },
  {
   "cell_type": "markdown",
   "metadata": {},
   "source": [
    "## Quantized Model Evaluation"
   ]
  },
  {
   "cell_type": "code",
   "execution_count": 64,
   "metadata": {},
   "outputs": [],
   "source": [
    "# Function to evaluate the quantized models\n",
    "def evaluate_quantized_model(tflite_model_path):\n",
    "    # Load the TFLite model and allocate tensors\n",
    "    interpreter = tf.lite.Interpreter(model_path=tflite_model_path)\n",
    "    interpreter.allocate_tensors()\n",
    "\n",
    "    # Get input and output tensors\n",
    "    input_details = interpreter.get_input_details()\n",
    "    output_details = interpreter.get_output_details()\n",
    "\n",
    "    # Determine the expected input type\n",
    "    input_dtype = input_details[0]['dtype']\n",
    "\n",
    "\n",
    "    # Evaluate the model on the test dataset\n",
    "    total_correct = 0\n",
    "    total_samples = 0\n",
    "\n",
    "    for spectrogram_batch, label_batch in test_spectrogram_ds:\n",
    "        for spectrogram, label in zip(spectrogram_batch, label_batch):\n",
    "            interpreter.set_tensor(input_details[0]['index'], np.expand_dims(spectrogram, axis=0).astype(input_dtype))\n",
    "            interpreter.invoke()\n",
    "            output_data = interpreter.get_tensor(output_details[0]['index'])\n",
    "            predicted_label = np.argmax(output_data)\n",
    "            total_correct += (predicted_label == label.numpy())\n",
    "            total_samples += 1\n",
    "\n",
    "    accuracy = total_correct / total_samples\n",
    "    return accuracy"
   ]
  },
  {
   "cell_type": "code",
   "execution_count": 65,
   "metadata": {},
   "outputs": [
    {
     "name": "stdout",
     "output_type": "stream",
     "text": [
      "Evaluating Model: sequential_40_weight_quantized.tflite\n",
      "Model sequential_40_weight_quantized.tflite quantization accuracy: 0.6647\n",
      "Evaluating Model: model_2_int16x8_quantized.tflite\n",
      "Model model_2_int16x8_quantized.tflite quantization accuracy: 0.0600\n",
      "Evaluating Model: sequential_40_dynamic_quantized.tflite\n",
      "Model sequential_40_dynamic_quantized.tflite quantization accuracy: 0.6641\n",
      "Evaluating Model: model_4_int16x8_quantized.tflite\n",
      "Model model_4_int16x8_quantized.tflite quantization accuracy: 0.0600\n",
      "Evaluating Model: tiny_embed_conv_model_dynamic_quantized.tflite\n",
      "Model tiny_embed_conv_model_dynamic_quantized.tflite quantization accuracy: 0.7935\n",
      "Evaluating Model: sequential_122_full_quantized.tflite\n",
      "Model sequential_122_full_quantized.tflite quantization accuracy: 0.0600\n",
      "Evaluating Model: sequential_154_dynamic_quantized.tflite\n",
      "Model sequential_154_dynamic_quantized.tflite quantization accuracy: 0.7535\n",
      "Evaluating Model: model_3_int16x8_quantized.tflite\n",
      "Model model_3_int16x8_quantized.tflite quantization accuracy: 0.0600\n",
      "Evaluating Model: sequential_154_full_quantized.tflite\n",
      "Model sequential_154_full_quantized.tflite quantization accuracy: 0.0929\n",
      "Evaluating Model: sequential_42_dynamic_quantized.tflite\n",
      "Model sequential_42_dynamic_quantized.tflite quantization accuracy: 0.7982\n",
      "Evaluating Model: sequential_154_weight_quantized.tflite\n",
      "Model sequential_154_weight_quantized.tflite quantization accuracy: 0.7535\n",
      "Evaluating Model: sequential_40_full_quantized.tflite\n",
      "Model sequential_40_full_quantized.tflite quantization accuracy: 0.0800\n",
      "Evaluating Model: sequential_42_full_quantized.tflite\n",
      "Model sequential_42_full_quantized.tflite quantization accuracy: 0.0606\n",
      "Evaluating Model: sequential_122_dynamic_quantized.tflite\n",
      "Model sequential_122_dynamic_quantized.tflite quantization accuracy: 0.6500\n",
      "Evaluating Model: sequential_42_weight_quantized.tflite\n",
      "Model sequential_42_weight_quantized.tflite quantization accuracy: 0.7982\n",
      "Evaluating Model: model_1_int16x8_quantized.tflite\n",
      "Model model_1_int16x8_quantized.tflite quantization accuracy: 0.0600\n",
      "Evaluating Model: model_0_int16x8_quantized.tflite\n",
      "Model model_0_int16x8_quantized.tflite quantization accuracy: 0.0600\n",
      "Evaluating Model: sequential_122_weight_quantized.tflite\n",
      "Model sequential_122_weight_quantized.tflite quantization accuracy: 0.6500\n",
      "Evaluating Model: tiny_embed_conv_model_full_quantized.tflite\n",
      "Model tiny_embed_conv_model_full_quantized.tflite quantization accuracy: 0.0600\n",
      "Evaluating Model: tiny_embed_conv_model_weight_quantized.tflite\n",
      "Model tiny_embed_conv_model_weight_quantized.tflite quantization accuracy: 0.7947\n"
     ]
    }
   ],
   "source": [
    "# Evaluate each quantized model\n",
    "for model_filename in os.listdir('.'):\n",
    "    if model_filename.endswith('_quantized.tflite'):\n",
    "        print(f'Evaluating Model: {model_filename}')\n",
    "        accuracy = evaluate_quantized_model(model_filename)\n",
    "        print(f'Model {model_filename} quantization accuracy: {accuracy:.4f}')\n"
   ]
  },
  {
   "cell_type": "code",
   "execution_count": 66,
   "metadata": {},
   "outputs": [],
   "source": [
    "# Function to print the size and memory requirements of the quantized models\n",
    "def print_quantized_model_sizes(model_filenames):\n",
    "    sizes = []\n",
    "    for model_filename in model_filenames:\n",
    "        if os.path.exists(model_filename):\n",
    "            model_size = get_gzipped_model_size(model_filename)\n",
    "            #model_size = os.path.getsize(model_filename) / 1000  # Size in KB\n",
    "            sizes.append((model_filename, model_size))\n",
    "            print(f'Model: {model_filename} Size: {model_size:.2f} KB')\n",
    "        else:\n",
    "            print(f'Model: {model_filename} not found.')\n",
    "    return sizes"
   ]
  },
  {
   "cell_type": "code",
   "execution_count": 67,
   "metadata": {},
   "outputs": [
    {
     "name": "stdout",
     "output_type": "stream",
     "text": [
      "\n",
      "Quantized Model Sizes:\n",
      "Model: sequential_40_weight_quantized.tflite Size: 6.34 KB\n",
      "Model: model_2_int16x8_quantized.tflite Size: 8.38 KB\n",
      "Model: sequential_40_dynamic_quantized.tflite Size: 5.68 KB\n",
      "Model: model_4_int16x8_quantized.tflite Size: 7.77 KB\n",
      "Model: tiny_embed_conv_model_dynamic_quantized.tflite Size: 8.46 KB\n",
      "Model: sequential_122_full_quantized.tflite Size: 4.63 KB\n",
      "Model: sequential_154_dynamic_quantized.tflite Size: 6.41 KB\n",
      "Model: model_3_int16x8_quantized.tflite Size: 5.91 KB\n",
      "Model: sequential_154_full_quantized.tflite Size: 5.72 KB\n",
      "Model: sequential_42_dynamic_quantized.tflite Size: 9.09 KB\n",
      "Model: sequential_154_weight_quantized.tflite Size: 8.51 KB\n",
      "Model: sequential_40_full_quantized.tflite Size: 4.33 KB\n",
      "Model: sequential_42_full_quantized.tflite Size: 8.18 KB\n",
      "Model: sequential_122_dynamic_quantized.tflite Size: 5.77 KB\n",
      "Model: sequential_42_weight_quantized.tflite Size: 13.52 KB\n",
      "Model: model_1_int16x8_quantized.tflite Size: 4.47 KB\n",
      "Model: model_0_int16x8_quantized.tflite Size: 4.79 KB\n",
      "Model: sequential_122_weight_quantized.tflite Size: 6.67 KB\n",
      "Model: tiny_embed_conv_model_full_quantized.tflite Size: 7.66 KB\n",
      "Model: tiny_embed_conv_model_weight_quantized.tflite Size: 13.16 KB\n",
      "Evaluating sequential_40_weight_quantized.tflite\n",
      "Evaluating model_2_int16x8_quantized.tflite\n",
      "Evaluating sequential_40_dynamic_quantized.tflite\n",
      "Evaluating model_4_int16x8_quantized.tflite\n",
      "Evaluating tiny_embed_conv_model_dynamic_quantized.tflite\n",
      "Evaluating sequential_122_full_quantized.tflite\n",
      "Evaluating sequential_154_dynamic_quantized.tflite\n",
      "Evaluating model_3_int16x8_quantized.tflite\n",
      "Evaluating sequential_154_full_quantized.tflite\n",
      "Evaluating sequential_42_dynamic_quantized.tflite\n",
      "Evaluating sequential_154_weight_quantized.tflite\n",
      "Evaluating sequential_40_full_quantized.tflite\n",
      "Evaluating sequential_42_full_quantized.tflite\n",
      "Evaluating sequential_122_dynamic_quantized.tflite\n",
      "Evaluating sequential_42_weight_quantized.tflite\n",
      "Evaluating model_1_int16x8_quantized.tflite\n",
      "Evaluating model_0_int16x8_quantized.tflite\n",
      "Evaluating sequential_122_weight_quantized.tflite\n",
      "Evaluating tiny_embed_conv_model_full_quantized.tflite\n",
      "Evaluating tiny_embed_conv_model_weight_quantized.tflite\n"
     ]
    },
    {
     "data": {
      "image/png": "[encoded data removed]",
      "text/plain": [
       "<Figure size 1000x600 with 1 Axes>"
      ]
     },
     "metadata": {},
     "output_type": "display_data"
    }
   ],
   "source": [
    "# List of quantized model filenames\n",
    "quantized_model_filenames = []\n",
    "#for i in range(0, len(basic_pruned_models)):\n",
    "#    for strategy in ['weight', 'full', 'dynamic']:\n",
    "#        quantized_model_filenames.append(f'model_{i}_{strategy}_quantized.tflite')\n",
    "#    quantized_model_filenames.append(f'model_{i}_int16x8_quantized.tflite')\n",
    "\n",
    "\n",
    "for model_filename in os.listdir('.'):\n",
    "    if model_filename.endswith('_quantized.tflite'):\n",
    "        quantized_model_filenames.append(model_filename)\n",
    "        \n",
    "# Print sizes of quantized models and store the sizes\n",
    "print(\"\\nQuantized Model Sizes:\")\n",
    "quantized_model_sizes = print_quantized_model_sizes(quantized_model_filenames)\n",
    "\n",
    "# Evaluate each quantized model and collect accuracies\n",
    "quantized_accuracies = []\n",
    "\n",
    "for model_filename, model_size in quantized_model_sizes:\n",
    "    print(f'Evaluating {model_filename}')\n",
    "    accuracy = evaluate_quantized_model(model_filename)\n",
    "    quantized_accuracies.append((model_filename, model_size, accuracy))\n",
    "    \n",
    "#print(quantized_accuracies)\n",
    "\n",
    "# Filter accuracies for models smaller than 1000 KB and accuracy greater than 0.8\n",
    "filtered_accuracies = [tup for tup in quantized_accuracies if tup[2] > 0.6 and tup[1] < 40]\n",
    "\n",
    "# Plot accuracy vs. model size for quantized models\n",
    "model_names, model_sizes, accuracies = zip(*filtered_accuracies)\n",
    "\n",
    "plt.figure(figsize=(10, 6))\n",
    "\n",
    "# Plot points without connecting lines by setting linestyle='None'\n",
    "plt.plot(model_sizes, accuracies, marker='o', linestyle='None', color='r')\n",
    "\n",
    "# Annotate each point with the model name\n",
    "for i, model_name in enumerate(model_names):\n",
    "    plt.text(model_sizes[i], accuracies[i], model_name, fontsize=8, ha='right')\n",
    "\n",
    "plt.xlabel('Model Size (KB)')\n",
    "plt.ylabel('Accuracy')\n",
    "plt.title('Accuracy vs. Model Size for Quantized Models (Models < 1000 KB)')\n",
    "plt.grid(True)\n",
    "plt.show()\n"
   ]
  },
  {
   "cell_type": "code",
   "execution_count": 68,
   "metadata": {},
   "outputs": [],
   "source": [
    "def evaluate_tflite_model(tflite_model_path, test_data, test_labels):\n",
    "    # Load the TFLite model and allocate tensors\n",
    "    interpreter = tf.lite.Interpreter(model_path=tflite_model_path)\n",
    "    interpreter.allocate_tensors()\n",
    "    \n",
    "    # Get input and output tensors\n",
    "    input_details = interpreter.get_input_details()\n",
    "    output_details = interpreter.get_output_details()\n",
    "    \n",
    "    # Determine input data type\n",
    "    input_dtype = input_details[0]['dtype']\n",
    "    \n",
    "    # Run inference on the test data\n",
    "    correct_predictions = 0\n",
    "    for i, test_sample in enumerate(test_data):\n",
    "        # Prepare input data, converting to expected dtype if necessary\n",
    "        input_data = np.expand_dims(test_sample, axis=0)\n",
    "        if input_dtype == np.uint8:\n",
    "            input_data = (input_data * 255).astype(np.uint8)  # Scale to UINT8\n",
    "        else:\n",
    "            input_data = input_data.astype(input_dtype)\n",
    "\n",
    "        interpreter.set_tensor(input_details[0]['index'], input_data)\n",
    "        \n",
    "        # Run inference\n",
    "        interpreter.invoke()\n",
    "        \n",
    "        # Get the output and check the prediction\n",
    "        output_data = interpreter.get_tensor(output_details[0]['index'])\n",
    "        predicted_label = np.argmax(output_data)\n",
    "        true_label = test_labels[i]\n",
    "        \n",
    "        if predicted_label == true_label:\n",
    "            correct_predictions += 1\n",
    "\n",
    "    # Calculate accuracy\n",
    "    accuracy = correct_predictions / len(test_data)\n",
    "    return accuracy\n",
    "\n",
    "\n",
    "def plot_tflite_size_vs_accuracy(folder_path, test_spectrogram_ds):\n",
    "    test_data, test_labels = ds_to_numpy(test_spectrogram_ds)\n",
    "    # Lists to store results\n",
    "    model_sizes = []\n",
    "    accuracies = []\n",
    "    model_names = []\n",
    "    \n",
    "    # Iterate through all TFLite files in the folder\n",
    "    for filename in os.listdir(folder_path):\n",
    "        if filename.endswith(\".tflite\"):\n",
    "            model_path = os.path.join(folder_path, filename)\n",
    "            model_name = os.path.splitext(filename)[0]\n",
    "            \n",
    "            # Get model size in KB\n",
    "            model_size = get_gzipped_model_size(model_path)\n",
    "            #model_size = os.path.getsize(model_path) / 1024  # Convert bytes to KB\n",
    "            \n",
    "            # Evaluate the TFLite model accuracy\n",
    "            accuracy = evaluate_tflite_model(model_path, test_data, test_labels)\n",
    "            \n",
    "            # Store results\n",
    "            model_sizes.append(model_size)\n",
    "            accuracies.append(accuracy)\n",
    "            model_names.append(model_name)\n",
    "            \n",
    "            # Print the details\n",
    "            print(f\"Model: {model_name}, Size: {model_size:.2f} KB, Accuracy: {accuracy:.4f}\")\n",
    "    \n",
    "    # Plotting accuracy vs. model size\n",
    "    plt.figure(figsize=(10, 6))\n",
    "    plt.plot(model_sizes, accuracies, marker='o', linestyle='', color='b')\n",
    "\n",
    "    # Annotate each point with the model name\n",
    "    for i, model_name in enumerate(model_names):\n",
    "        plt.text(model_sizes[i], accuracies[i], model_name, fontsize=9, ha='right')\n",
    "\n",
    "    # Add labels and title\n",
    "    plt.xlabel('Model Size (KB)')\n",
    "    plt.ylabel('Test Accuracy')\n",
    "    plt.title('TFLite Model Accuracy vs. Model Size')\n",
    "    plt.grid(True)\n",
    "    plt.show()\n",
    "\n",
    "    return model_sizes, accuracies, model_names\n"
   ]
  },
  {
   "cell_type": "code",
   "execution_count": 69,
   "metadata": {},
   "outputs": [
    {
     "name": "stdout",
     "output_type": "stream",
     "text": [
      "Model: pruned_qat_sequential_154, Size: 5.86 KB, Accuracy: 0.7988\n",
      "Model: pruned_qat_tiny_embed_conv_model, Size: 8.88 KB, Accuracy: 0.8071\n",
      "Model: qat_sequential_40, Size: 4.67 KB, Accuracy: 0.7288\n",
      "Model: sequential_40_weight_quantized, Size: 6.34 KB, Accuracy: 0.6647\n",
      "Model: qat_sequential_122, Size: 5.62 KB, Accuracy: 0.7341\n",
      "Model: model_2_int16x8_quantized, Size: 8.38 KB, Accuracy: 0.0600\n",
      "Model: sequential_40_dynamic_quantized, Size: 5.68 KB, Accuracy: 0.6641\n",
      "Model: pruned_qat_sequential_122, Size: 4.75 KB, Accuracy: 0.6724\n",
      "Model: model_4_int16x8_quantized, Size: 7.77 KB, Accuracy: 0.0600\n",
      "Model: tiny_embed_conv_model_dynamic_quantized, Size: 8.46 KB, Accuracy: 0.7935\n",
      "Model: sequential_122_full_quantized, Size: 4.63 KB, Accuracy: 0.6518\n",
      "Model: pruned_qat_sequential_40, Size: 4.48 KB, Accuracy: 0.7218\n",
      "Model: sequential_154_dynamic_quantized, Size: 6.41 KB, Accuracy: 0.7535\n",
      "Model: model_3_int16x8_quantized, Size: 5.91 KB, Accuracy: 0.0600\n",
      "Model: sequential_154_full_quantized, Size: 5.72 KB, Accuracy: 0.7624\n",
      "Model: sequential_42_dynamic_quantized, Size: 9.09 KB, Accuracy: 0.7982\n",
      "Model: qat_sequential_42, Size: 10.21 KB, Accuracy: 0.8165\n",
      "Model: sequential_154_weight_quantized, Size: 8.51 KB, Accuracy: 0.7535\n",
      "Model: sequential_40_full_quantized, Size: 4.33 KB, Accuracy: 0.6318\n",
      "Model: sequential_42_full_quantized, Size: 8.18 KB, Accuracy: 0.7994\n",
      "Model: pruned_qat_sequential_42, Size: 8.39 KB, Accuracy: 0.8076\n",
      "Model: sequential_122_dynamic_quantized, Size: 5.77 KB, Accuracy: 0.6500\n",
      "Model: sequential_42_weight_quantized, Size: 13.52 KB, Accuracy: 0.7982\n",
      "Model: model_1_int16x8_quantized, Size: 4.47 KB, Accuracy: 0.0600\n",
      "Model: model_0_int16x8_quantized, Size: 4.79 KB, Accuracy: 0.0600\n",
      "Model: qat_sequential_154, Size: 7.03 KB, Accuracy: 0.7894\n",
      "Model: sequential_122_weight_quantized, Size: 6.67 KB, Accuracy: 0.6500\n",
      "Model: tiny_embed_conv_model_full_quantized, Size: 7.66 KB, Accuracy: 0.7835\n",
      "Model: tiny_embed_conv_model_weight_quantized, Size: 13.16 KB, Accuracy: 0.7947\n",
      "Model: qat_tiny_embed_conv_model, Size: 9.26 KB, Accuracy: 0.8029\n"
     ]
    },
    {
     "data": {
      "image/png": "[encoded data removed]",
      "text/plain": [
       "<Figure size 1000x600 with 1 Axes>"
      ]
     },
     "metadata": {},
     "output_type": "display_data"
    }
   ],
   "source": [
    "model_sizes, accuracies, model_names = [], [], []\n",
    "#folder_path = \"C:\\\\Users\\\\adamk\\\\Downloads\\\\micro_speech_model_making\\\\notebooks\\\\\"\n",
    "# for scc\n",
    "folder_path = \".\"\n",
    "model_sizes, accuracies, model_names = plot_tflite_size_vs_accuracy(folder_path, test_spectrogram_ds)\n",
    "# C:\\Users\\adamk\\Downloads\\micro_speech_model_making\\notebooks\\val_spec_ds.tfrecord"
   ]
  },
  {
   "cell_type": "code",
   "execution_count": 70,
   "metadata": {},
   "outputs": [],
   "source": [
    "def plot_filtered_model_size_vs_accuracy(model_sizes, accuracies, model_names, max_size, min_accuracy):\n",
    "    # Filter models based on the provided criteria\n",
    "    filtered_sizes = [size for size, acc in zip(model_sizes, accuracies) if size < max_size and acc > min_accuracy]\n",
    "    filtered_accuracies = [acc for size, acc in zip(model_sizes, accuracies) if size < max_size and acc > min_accuracy]\n",
    "    filtered_names = [name for size, acc, name in zip(model_sizes, accuracies, model_names) if size < max_size and acc > min_accuracy]\n",
    "\n",
    "    # Print details of filtered models\n",
    "    for size, acc, name in zip(filtered_sizes, filtered_accuracies, filtered_names):\n",
    "        print(f\"Name: {name}, Size: {size:.2f} KB, Accuracy: {acc:.4f}\")\n",
    "\n",
    "    # Plot only the filtered models\n",
    "    plt.figure(figsize=(10, 6))\n",
    "    plt.plot(filtered_sizes, filtered_accuracies, marker='o', linestyle='', color='b', label=f\"Size < {max_size} KB & Accuracy > {min_accuracy*100}%\")\n",
    "    \n",
    "    # Annotate each filtered point with the model name\n",
    "    for i, model_name in enumerate(filtered_names):\n",
    "        plt.text(filtered_sizes[i], filtered_accuracies[i], model_name, fontsize=9, ha='right')\n",
    "\n",
    "    # Add labels and title\n",
    "    plt.xlabel('Model Size (KB)')\n",
    "    plt.ylabel('Test Accuracy')\n",
    "    plt.title(f'TFLite Model Accuracy vs. Model Size (Filtered by Size < {max_size} KB & Accuracy > {min_accuracy*100}%)')\n",
    "    plt.legend()\n",
    "    plt.grid(True)\n",
    "    plt.show()\n",
    "\n",
    "\n"
   ]
  },
  {
   "cell_type": "code",
   "execution_count": 72,
   "metadata": {},
   "outputs": [
    {
     "name": "stdout",
     "output_type": "stream",
     "text": [
      "Name: pruned_qat_sequential_154, Size: 5.86 KB, Accuracy: 0.7988\n",
      "Name: pruned_qat_tiny_embed_conv_model, Size: 8.88 KB, Accuracy: 0.8071\n",
      "Name: tiny_embed_conv_model_dynamic_quantized, Size: 8.46 KB, Accuracy: 0.7935\n",
      "Name: sequential_42_dynamic_quantized, Size: 9.09 KB, Accuracy: 0.7982\n",
      "Name: qat_sequential_42, Size: 10.21 KB, Accuracy: 0.8165\n",
      "Name: sequential_42_full_quantized, Size: 8.18 KB, Accuracy: 0.7994\n",
      "Name: pruned_qat_sequential_42, Size: 8.39 KB, Accuracy: 0.8076\n",
      "Name: sequential_42_weight_quantized, Size: 13.52 KB, Accuracy: 0.7982\n",
      "Name: qat_sequential_154, Size: 7.03 KB, Accuracy: 0.7894\n",
      "Name: tiny_embed_conv_model_full_quantized, Size: 7.66 KB, Accuracy: 0.7835\n",
      "Name: tiny_embed_conv_model_weight_quantized, Size: 13.16 KB, Accuracy: 0.7947\n",
      "Name: qat_tiny_embed_conv_model, Size: 9.26 KB, Accuracy: 0.8029\n"
     ]
    },
    {
     "data": {
      "image/png": "[encoded data removed]",
      "text/plain": [
       "<Figure size 1000x600 with 1 Axes>"
      ]
     },
     "metadata": {},
     "output_type": "display_data"
    }
   ],
   "source": [
    "plot_filtered_model_size_vs_accuracy(model_sizes, accuracies, model_names, max_size=15, min_accuracy=0.78)"
   ]
  },
  {
   "cell_type": "code",
   "execution_count": null,
   "metadata": {},
   "outputs": [],
   "source": []
  }
 ],
 "metadata": {
  "kernelspec": {
   "display_name": "Python 3 (ipykernel)",
   "language": "python",
   "name": "python3"
  },
  "language_info": {
   "codemirror_mode": {
    "name": "ipython",
    "version": 3
   },
   "file_extension": ".py",
   "mimetype": "text/x-python",
   "name": "python",
   "nbconvert_exporter": "python",
   "pygments_lexer": "ipython3",
   "version": "3.10.12"
  }
 },
 "nbformat": 4,
 "nbformat_minor": 2
}
