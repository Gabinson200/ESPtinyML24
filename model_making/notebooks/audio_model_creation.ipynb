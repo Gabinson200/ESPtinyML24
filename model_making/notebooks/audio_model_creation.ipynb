{
 "cells": [
  {
   "cell_type": "markdown",
   "metadata": {},
   "source": [
    "# Audio Model Creation and Quantization\n",
    "\n",
    "This notebook demonstrates the process of training, quantizing, and evaluating audio models. The workflow includes:\n",
    "\n",
    "1. Auto Model Generation\n",
    "2. Model Training and Pruning\n",
    "3. Quantization (Post-Training and Quantization-Aware)\n",
    "4. Evaluation of Quantized Models\n",
    "5. Analysis of Model Size vs. Accuracy"
   ]
  },
  {
   "cell_type": "markdown",
   "metadata": {},
   "source": [
    "## SCC stuff"
   ]
  },
  {
   "cell_type": "code",
   "execution_count": 1,
   "metadata": {},
   "outputs": [],
   "source": [
    "#when using scc and selecting jupyter modules use these in this order\n",
    "#python3/3.10.12 tensorflow/2.11.0"
   ]
  },
  {
   "cell_type": "markdown",
   "metadata": {},
   "source": [
    "# Imports and GPU\n"
   ]
  },
  {
   "cell_type": "code",
   "execution_count": 2,
   "metadata": {},
   "outputs": [],
   "source": [
    "# Import basic functionality libraries\n",
    "import os\n",
    "import pathlib\n",
    "import matplotlib.pyplot as plt\n",
    "import numpy as np\n",
    "import seaborn as sns\n",
    "import tensorflow as tf\n",
    "import tempfile\n",
    "import shutil\n",
    "import sys\n",
    "import gc\n",
    "import zipfile\n",
    "import re\n",
    "from sklearn.model_selection import train_test_split\n",
    "# More specific tf import such as autotuner\n",
    "from tensorflow.keras import layers\n",
    "from IPython import display\n",
    "import keras_tuner as kt\n",
    "from tensorflow.keras.layers import Conv2D, DepthwiseConv2D, GlobalAveragePooling2D, Dense, Activation, Input, Reshape, Multiply, AveragePooling2D\n",
    "from tensorflow.keras.models import Model\n",
    "from tensorflow.keras.layers import Flatten, ReLU, Dropout\n",
    "from tensorflow.keras import Sequential\n",
    "\n",
    "# Libraries for model optimizations\n",
    "import tensorflow_model_optimization as tfmot\n",
    "#from tensorflow_model_optimization.python.core.keras.compat import keras\n",
    "from keras.layers import Resizing\n",
    "from tensorflow_model_optimization.quantization.keras import quantize_annotate_layer\n",
    "import nbimporter\n",
    "#import tf_keras as keras #this one worked for local"
   ]
  },
  {
   "cell_type": "code",
   "execution_count": 3,
   "metadata": {},
   "outputs": [],
   "source": [
    "# for SCC\n",
    "import tensorflow.keras as keras"
   ]
  },
  {
   "cell_type": "markdown",
   "metadata": {},
   "source": [
    "## Setup tensorflow GPU support"
   ]
  },
  {
   "cell_type": "code",
   "execution_count": 4,
   "metadata": {},
   "outputs": [
    {
     "name": "stdout",
     "output_type": "stream",
     "text": [
      "1 Physical GPUs, 1 Logical GPUs\n"
     ]
    }
   ],
   "source": [
    "use_gpu = True # set it here by hand\n",
    "\n",
    "if use_gpu:\n",
    "    # Check if GPU is available\n",
    "    gpus = tf.config.list_physical_devices('GPU')\n",
    "    if gpus:\n",
    "        try:\n",
    "            # Currently, memory growth needs to be the same across GPUs\n",
    "            for gpu in gpus:\n",
    "                tf.config.experimental.set_memory_growth(gpu, True)\n",
    "            logical_gpus = tf.config.list_logical_devices('GPU')\n",
    "            print(len(gpus), \"Physical GPUs,\", len(logical_gpus), \"Logical GPUs\")\n",
    "        except RuntimeError as e:\n",
    "            # Memory growth must be set before GPUs have been initialized\n",
    "            print(e)\n",
    "    else:\n",
    "        print(\"No GPU available\")"
   ]
  },
  {
   "cell_type": "markdown",
   "metadata": {},
   "source": [
    "# Run .py preprocessing that sets up the datasets\n",
    "\n",
    "The code below imports the datasets from serealized TFREcords, batches them, and results in the final train/test/val_spectrogram_ds datasets."
   ]
  },
  {
   "cell_type": "code",
   "execution_count": 107,
   "metadata": {},
   "outputs": [
    {
     "name": "stdout",
     "output_type": "stream",
     "text": [
      "Features shape: (271086, 49, 40)\n",
      "Labels shape: (271086,)\n"
     ]
    }
   ],
   "source": [
    "# Specify the path to your output dir|ectory where the .npy files are saved\n",
    "output_dir = 'processed_dataset_small'  # Replace with your actual output directory\n",
    "\n",
    "# Load the features and labels\n",
    "features = np.load(os.path.join(output_dir, 'features.npy'))\n",
    "labels = np.load(os.path.join(output_dir, 'labels.npy'))\n",
    "\n",
    "print(f\"Features shape: {features.shape}\")\n",
    "print(f\"Labels shape: {labels.shape}\")"
   ]
  },
  {
   "cell_type": "code",
   "execution_count": 108,
   "metadata": {},
   "outputs": [
    {
     "name": "stdout",
     "output_type": "stream",
     "text": [
      "Training set shape: (162651, 49, 40, 1), Labels shape: (162651,)\n",
      "Validation set shape: (54217, 49, 40, 1), Labels shape: (54217,)\n",
      "Test set shape: (54218, 49, 40, 1), Labels shape: (54218,)\n"
     ]
    }
   ],
   "source": [
    "# Expand dimensions to add a channel dimension\n",
    "features = np.expand_dims(features, -1)  # Shape becomes (num_samples, num_frames, num_mel_bins, 1)\n",
    "\n",
    "# Split data into training + validation and test sets (80% training + validation, 20% test)\n",
    "X_temp, X_test, y_temp, y_test = train_test_split(\n",
    "    features, labels, test_size=0.2, random_state=42, stratify=labels)\n",
    "\n",
    "# Further split the training + validation set into training and validation sets (60% training, 20% validation)\n",
    "X_train, X_val, y_train, y_val = train_test_split(\n",
    "    X_temp, y_temp, test_size=0.25, random_state=42, stratify=y_temp)\n",
    "\n",
    "print(f\"Training set shape: {X_train.shape}, Labels shape: {y_train.shape}\")\n",
    "print(f\"Validation set shape: {X_val.shape}, Labels shape: {y_val.shape}\")\n",
    "print(f\"Test set shape: {X_test.shape}, Labels shape: {y_test.shape}\")"
   ]
  },
  {
   "cell_type": "code",
   "execution_count": 109,
   "metadata": {},
   "outputs": [
    {
     "data": {
      "text/plain": [
       "array([0, 1, 2, 3])"
      ]
     },
     "execution_count": 109,
     "metadata": {},
     "output_type": "execute_result"
    }
   ],
   "source": [
    "np.unique(y_train)"
   ]
  },
  {
   "cell_type": "code",
   "execution_count": 110,
   "metadata": {},
   "outputs": [
    {
     "name": "stdout",
     "output_type": "stream",
     "text": [
      "Training data mean: -4.7196, standard deviation: 5.2118\n"
     ]
    }
   ],
   "source": [
    "# Compute mean and standard deviation from the training data\n",
    "mean = np.mean(X_train)\n",
    "std = np.std(X_train)\n",
    "\n",
    "print(f\"Training data mean: {mean:.4f}, standard deviation: {std:.4f}\")\n",
    "\n",
    "# Normalize the training data\n",
    "X_train_norm = (X_train - mean) / std\n",
    "\n",
    "# Normalize the validation data\n",
    "X_val_norm = (X_val - mean) / std\n",
    "\n",
    "# Normalize the test data\n",
    "X_test_norm = (X_test - mean) / std\n",
    "\n"
   ]
  },
  {
   "cell_type": "code",
   "execution_count": 111,
   "metadata": {},
   "outputs": [
    {
     "name": "stdout",
     "output_type": "stream",
     "text": [
      "TFRecord file created: train_spec_ds.tfrecord\n",
      "TFRecord file created: val_spec_ds.tfrecord\n",
      "TFRecord file created: test_spec_ds.tfrecord\n"
     ]
    }
   ],
   "source": [
    "def serialize_example(image, label):\n",
    "    \"\"\"Creates a tf.train.Example message ready to be written to a file.\"\"\"\n",
    "    image = tf.cast(image * 255, tf.uint8)  # Scale to [0, 255] and cast to uint8\n",
    "    jpeg_image = tf.image.encode_jpeg(image)  # Encode image as JPEG\n",
    "    feature = {\n",
    "        'image': tf.train.Feature(bytes_list=tf.train.BytesList(value=[jpeg_image.numpy()])),\n",
    "        'label': tf.train.Feature(int64_list=tf.train.Int64List(value=[label])),\n",
    "    }\n",
    "    example_proto = tf.train.Example(features=tf.train.Features(feature=feature))\n",
    "    return example_proto.SerializeToString()\n",
    "\n",
    "def write_tfrecord(filename, images, labels):\n",
    "    with tf.io.TFRecordWriter(filename) as writer:\n",
    "        for image, label in zip(images, labels):\n",
    "            serialized_example = serialize_example(image, label)\n",
    "            writer.write(serialized_example)\n",
    "    print(f\"TFRecord file created: {filename}\")\n",
    "\n",
    "# Step 3: Write each dataset to a separate TFRecord file\n",
    "write_tfrecord('train_spec_ds.tfrecord', X_train_norm, y_train)\n",
    "write_tfrecord('val_spec_ds.tfrecord', X_val_norm, y_val)\n",
    "write_tfrecord('test_spec_ds.tfrecord', X_test_norm, y_test)"
   ]
  },
  {
   "cell_type": "code",
   "execution_count": 112,
   "metadata": {},
   "outputs": [],
   "source": [
    "# Function to parse a single serialized example from TFRecord\n",
    "def _parse_function(proto):\n",
    "    feature_description = {\n",
    "        'image': tf.io.FixedLenFeature([], tf.string),  # Image is stored as a string\n",
    "        'label': tf.io.FixedLenFeature([], tf.int64),   # Label is an float32\n",
    "    }\n",
    "    \n",
    "    # Parse the input `tf.train.Example` proto using the feature description\n",
    "    parsed_example = tf.io.parse_single_example(proto, feature_description)\n",
    "    \n",
    "    # Decode the JPEG-encoded image back into a float32 tensor\n",
    "    image = tf.io.decode_jpeg(parsed_example['image'], channels=1)  # Grayscale\n",
    "    image = tf.image.convert_image_dtype(image, tf.float32)  # Convert to [0, 1] range\n",
    "    \n",
    "    # Reshape the image to its new shape (e.g., [1, 1960])\n",
    "    image = tf.reshape(image, [1960,])\n",
    "    \n",
    "    # Get the label\n",
    "    label = parsed_example['label']\n",
    "    \n",
    "    return image, label"
   ]
  },
  {
   "cell_type": "code",
   "execution_count": 113,
   "metadata": {},
   "outputs": [],
   "source": [
    "# Function to load the dataset from a TFRecord file\n",
    "def load_dataset(tfrecord_file, batch_size=64):\n",
    "    # Load the TFRecord file\n",
    "    raw_dataset = tf.data.TFRecordDataset(tfrecord_file)\n",
    "    \n",
    "    # Parse the serialized data using the _parse_function\n",
    "    parsed_dataset = raw_dataset.map(_parse_function, num_parallel_calls=tf.data.AUTOTUNE)\n",
    "    \n",
    "    # Batch and shuffle the dataset (optional, depending on your needs) buffer_size is not size of batch its size of buffer\n",
    "    parsed_dataset = parsed_dataset.shuffle(buffer_size=1000).batch(batch_size)\n",
    "    parsed_dataset = parsed_dataset.prefetch(buffer_size=tf.data.AUTOTUNE)\n",
    "    \n",
    "    return parsed_dataset"
   ]
  },
  {
   "cell_type": "code",
   "execution_count": 114,
   "metadata": {},
   "outputs": [],
   "source": [
    "# Load the train, test, and validation datasets from TFRecord files\n",
    "train_spectrogram_ds = load_dataset('train_spec_ds.tfrecord')\n",
    "test_spectrogram_ds = load_dataset('test_spec_ds.tfrecord')\n",
    "val_spectrogram_ds = load_dataset('val_spec_ds.tfrecord')"
   ]
  },
  {
   "cell_type": "code",
   "execution_count": 115,
   "metadata": {},
   "outputs": [
    {
     "name": "stdout",
     "output_type": "stream",
     "text": [
      "New dataset size: 2542\n",
      "Input shape: (64, 1960)\n",
      "Input type: <dtype: 'float32'>\n",
      "Label shape: (64,)\n",
      "Label type: <dtype: 'int64'>\n"
     ]
    }
   ],
   "source": [
    "new_size = len(list(train_spectrogram_ds))\n",
    "print(f\"New dataset size: {new_size}\")\n",
    "\n",
    "# Get input shape and number of classes\n",
    "for spectrograms, labels in train_spectrogram_ds.take(1):\n",
    "    input_shape = spectrograms.shape\n",
    "    input_type = spectrograms.dtype \n",
    "    label_shape = labels.shape\n",
    "    label_type = labels.dtype\n",
    "    print('Input shape:', input_shape)\n",
    "    print('Input type:', input_type)\n",
    "    print('Label shape:', label_shape)\n",
    "    print('Label type:', label_type)\n",
    "    "
   ]
  },
  {
   "cell_type": "code",
   "execution_count": 116,
   "metadata": {},
   "outputs": [
    {
     "name": "stdout",
     "output_type": "stream",
     "text": [
      "New dataset size: 848\n"
     ]
    }
   ],
   "source": [
    "new_size = len(list(test_spectrogram_ds))\n",
    "print(f\"New dataset size: {new_size}\")"
   ]
  },
  {
   "cell_type": "code",
   "execution_count": 117,
   "metadata": {},
   "outputs": [
    {
     "name": "stdout",
     "output_type": "stream",
     "text": [
      "Training label counts: Counter({0: 60256, 1: 54386, 2: 24009, 3: 24000})\n",
      "Validation label counts: Counter({0: 20086, 1: 18128, 2: 8003, 3: 8000})\n",
      "Test label counts: Counter({0: 20086, 1: 18129, 2: 8003, 3: 8000})\n"
     ]
    }
   ],
   "source": [
    "import collections\n",
    "\n",
    "def count_labels(dataset):\n",
    "    label_counts = collections.Counter()\n",
    "    for images, labels in dataset:\n",
    "        # Convert labels to a NumPy array and update counts\n",
    "        label_values = labels.numpy()\n",
    "        label_counts.update(label_values)\n",
    "    return label_counts\n",
    "\n",
    "train_label_counts = count_labels(train_spectrogram_ds)\n",
    "val_label_counts = count_labels(val_spectrogram_ds)\n",
    "test_label_counts = count_labels(test_spectrogram_ds)\n",
    "\n",
    "print(\"Training label counts:\", train_label_counts)\n",
    "print(\"Validation label counts:\", val_label_counts)\n",
    "print(\"Test label counts:\", test_label_counts)    "
   ]
  },
  {
   "cell_type": "markdown",
   "metadata": {},
   "source": [
    "# macros!! important for deployable model creation"
   ]
  },
  {
   "cell_type": "code",
   "execution_count": 118,
   "metadata": {},
   "outputs": [],
   "source": [
    "# features_min = 0.0\n",
    "# features_max = 26.0\n",
    "SAMPLE_RATE = 16000\n",
    "CLIP_DURATION_MS = 1000\n",
    "WINDOW_SIZE_MS = 30.0\n",
    "FEATURE_BIN_COUNT = 40\n",
    "WINDOW_STRIDE = 20\n",
    "NUM_LABELS = 4\n",
    "\n",
    "# QUANT_INPUT_MIN = 0.0\n",
    "# QUANT_INPUT_MAX = 26.0\n",
    "# QUANT_INPUT_RANGE = QUANT_INPUT_MAX - QUANT_INPUT_MIN\n",
    "\n",
    "# average_window_width = -1\n",
    "# fingerprint_width = feature_bin_count\n",
    "\n",
    "fingerprint_min = 0.0\n",
    "fingerprint_max = 26.0"
   ]
  },
  {
   "cell_type": "code",
   "execution_count": 119,
   "metadata": {},
   "outputs": [],
   "source": [
    "desired_samples = int(SAMPLE_RATE * CLIP_DURATION_MS / 1000)\n",
    "window_size_samples = int(SAMPLE_RATE * WINDOW_SIZE_MS / 1000)\n",
    "window_stride_samples = int(SAMPLE_RATE * WINDOW_STRIDE / 1000)\n",
    "length_minus_window = (desired_samples - window_size_samples)\n",
    "\n",
    "if length_minus_window < 0:\n",
    "    spectrogram_length = 0\n",
    "else:\n",
    "    spectrogram_length = 1 + int(length_minus_window / window_stride_samples)\n",
    "    \n",
    "average_window_width = -1\n",
    "fingerprint_width = FEATURE_BIN_COUNT"
   ]
  },
  {
   "cell_type": "code",
   "execution_count": 120,
   "metadata": {},
   "outputs": [],
   "source": [
    "fingerprint_size = fingerprint_width * spectrogram_length"
   ]
  },
  {
   "cell_type": "code",
   "execution_count": 121,
   "metadata": {},
   "outputs": [],
   "source": [
    "inputs = tf.keras.Input(shape=(fingerprint_size,), dtype=tf.float32, name='fingerprint_input')\n",
    "\n",
    "# Apply the fake quant operation directly\n",
    "fingerprint_input = tf.quantization.fake_quant_with_min_max_args(inputs, \n",
    "                                                                 fingerprint_min, \n",
    "                                                                 fingerprint_max)"
   ]
  },
  {
   "cell_type": "markdown",
   "metadata": {},
   "source": [
    "# Keras Autotuner\n",
    "\n",
    "The below functions uses keras autotuner to generate models of a general shape defined in the AutoTuner.build_model  \n",
    "and saves the models if their sizes and accuracies meet some thresholds.\n",
    "The training output is truncated so that on the SCC the training can be faster.  \n",
    "The code works on the SCC but for whatever reason I keep running into a CPU memory overflow even tho I  \n",
    "specifically delete the history of models and train in batches. We can work to fix this but I already generated   \n",
    "about a hundred models so it is not a priority."
   ]
  },
  {
   "cell_type": "code",
   "execution_count": null,
   "metadata": {},
   "outputs": [],
   "source": [
    "from keras_tuner import errors"
   ]
  },
  {
   "cell_type": "code",
   "execution_count": null,
   "metadata": {},
   "outputs": [],
   "source": [
    "import audio_models\n",
    "import logging\n",
    "from contextlib import contextmanager\n",
    "\n",
    "no_logs = False # set to false to see printouts of models during training\n",
    "\n",
    "#class CustomLogger(logging.Logger):\n",
    "#    def __init__(self, name, level=logging.ERROR):  # Only log errors\n",
    "#        super().__init__(name, level)\n",
    "        \n",
    "# Suppress Keras Tuner logger\n",
    "logging.getLogger(\"keras_tuner\").setLevel(logging.CRITICAL)\n",
    "\n",
    "if no_logs:\n",
    "    # Suppress TensorFlow and Keras Tuner logs\n",
    "    os.environ['TF_CPP_MIN_LOG_LEVEL'] = '3'  # Suppress TensorFlow logs\n",
    "    tf.get_logger().setLevel(logging.ERROR)  # Suppress TensorFlow's Python warnings\n",
    "    logging.getLogger(\"keras_tuner\").setLevel(logging.CRITICAL)  # Suppress Keras Tuner logs\n",
    "\n",
    "\n",
    "@contextmanager\n",
    "def suppress_output():\n",
    "    \"\"\"\n",
    "    Suppress all output to stdout and stderr.\n",
    "    \"\"\"\n",
    "    with open(os.devnull, 'w') as devnull:\n",
    "        old_stdout = sys.stdout\n",
    "        old_stderr = sys.stderr\n",
    "        sys.stdout = devnull\n",
    "        sys.stderr = devnull\n",
    "        try:\n",
    "            yield\n",
    "        finally:\n",
    "            sys.stdout = old_stdout\n",
    "            sys.stderr = old_stderr\n",
    "\n",
    "def run_with_iteration_display(autotuner, train_data, val_data, num_epochs, max_trials):\n",
    "    \"\"\"\n",
    "    Run the tuner with suppressed output, but display the current iteration number.\n",
    "    \"\"\"\n",
    "    for current_trial in range(1, max_trials + 1):\n",
    "        # Print the current trial number outside the suppress_output context\n",
    "        print(f\"\\rTraining model {current_trial} out of {max_trials}...\", end=\"\", flush=True)\n",
    "\n",
    "        # Suppress all other outputs during the trial\n",
    "        with suppress_output():\n",
    "            try:\n",
    "                autotuner.run_tuner(train_data, val_data, num_epochs)\n",
    "            except RuntimeError as e:\n",
    "                # Handle errors gracefully without terminating the loop\n",
    "                print(f\"\\nError encountered during trial {current_trial}: {str(e)}\")\n",
    "                continue\n",
    "                \n",
    "    # Access and display the number of saved models\n",
    "    saved_model_count = autotuner.tuner.saved_model_count\n",
    "    print(f\"\\nTraining complete. Saved {saved_model_count} models that fit the criteria.\")"
   ]
  },
  {
   "cell_type": "code",
   "execution_count": null,
   "metadata": {},
   "outputs": [],
   "source": [
    "class CustomRandomSearch(kt.RandomSearch):\n",
    "    def __init__(self, *args, save_dir=None, parameter_threshold=None, accuracy_threshold=None, oracle = None, **kwargs):\n",
    "        super().__init__(*args, **kwargs)\n",
    "        self.save_dir = save_dir\n",
    "        self.parameter_threshold = parameter_threshold\n",
    "        self.accuracy_threshold = accuracy_threshold\n",
    "        os.makedirs(self.save_dir, exist_ok=True)\n",
    "        self.saved_model_count = 0  # Counter for saved models\n",
    "\n",
    "    def run_trial(self, trial, *fit_args, **fit_kwargs):\n",
    "        current_trial = int(trial.trial_id) + 1\n",
    "        total_trials = self.oracle.max_trials\n",
    "        print(f\"\\rTraining model {current_trial} of {total_trials}\", end=\"\")  \n",
    "\n",
    "        model = self.hypermodel.build(trial.hyperparameters)\n",
    "        if hasattr(model, 'is_invalid') and model.is_invalid:\n",
    "            # For invalid models, return a fixed low score without training\n",
    "            self.oracle.update_trial(\n",
    "                trial.trial_id, {'val_accuracy': float('-inf')}\n",
    "            )\n",
    "            return\n",
    "\n",
    "        # Add early stopping callback to fit_kwargs\n",
    "        callbacks = fit_kwargs.get('callbacks', [])\n",
    "        callbacks.extend([\n",
    "            tf.keras.callbacks.EarlyStopping(\n",
    "                monitor='val_accuracy',\n",
    "                min_delta=0.01,\n",
    "                patience=3,\n",
    "                restore_best_weights=True,\n",
    "                verbose=0 #1\n",
    "            )\n",
    "        ])\n",
    "        fit_kwargs['callbacks'] = callbacks\n",
    "\n",
    "        # Train the model\n",
    "        history = model.fit(*fit_args, **fit_kwargs, verbose = 0)\n",
    "\n",
    "        # Extract the best validation accuracy\n",
    "        val_accuracy = max(history.history.get('val_accuracy', [0]))\n",
    "        num_params = model.count_params()\n",
    "\n",
    "        # Save the model if thresholds are met\n",
    "        if val_accuracy > self.accuracy_threshold and num_params < self.parameter_threshold:\n",
    "            model_save_path = os.path.join(\n",
    "                self.save_dir,\n",
    "                f\"model_trial_{trial.trial_id}_acc_{int(val_accuracy * 100)}_params_{num_params}.keras\"\n",
    "            )\n",
    "            model.save(model_save_path)\n",
    "            print(f\"Saved model from trial {trial.trial_id} with accuracy: {val_accuracy:.2f} and params: {num_params}\")\n",
    "            self.saved_model_count += 1\n",
    "            del model\n",
    "            gc.collect()\n",
    "\n",
    "        # Report the metric to the tuner\n",
    "        self.oracle.update_trial(\n",
    "            trial.trial_id, {'val_accuracy': val_accuracy}\n",
    "        )"
   ]
  },
  {
   "cell_type": "code",
   "execution_count": null,
   "metadata": {},
   "outputs": [],
   "source": [
    "class AutoTuner:\n",
    "    def __init__(self, tuner_dir, save_dir, parameter_threshold, accuracy_threshold, max_trials=10, executions_per_trial=1):\n",
    "        self.tuner_dir = tuner_dir\n",
    "        self.save_dir = save_dir\n",
    "        self.parameter_threshold = parameter_threshold\n",
    "        self.accuracy_threshold = accuracy_threshold\n",
    "        self.max_trials = max_trials\n",
    "        self.executions_per_trial = executions_per_trial\n",
    "\n",
    "        # Clean up the tuner directory if it already exists\n",
    "        if os.path.exists(self.tuner_dir):\n",
    "            shutil.rmtree(self.tuner_dir)\n",
    "            \n",
    "        # Create the oracle with a custom limit for consecutive failures\n",
    "        oracle = kt.oracles.RandomSearchOracle(\n",
    "            objective=kt.Objective(\"val_accuracy\", direction=\"max\"),\n",
    "            max_consecutive_failed_trials=100  # Adjust as needed\n",
    "        )\n",
    "\n",
    "        # Initialize the tuner\n",
    "        self.tuner = CustomRandomSearch(\n",
    "            self.build_model,\n",
    "            oracle=oracle,\n",
    "            max_trials=self.max_trials,\n",
    "            executions_per_trial=self.executions_per_trial,\n",
    "            directory=self.tuner_dir,\n",
    "            overwrite=True,  # Overwrite results to free memory\n",
    "            project_name='model_tuning',\n",
    "            save_dir=self.save_dir,\n",
    "            parameter_threshold=self.parameter_threshold,\n",
    "            accuracy_threshold=self.accuracy_threshold,\n",
    "        )\n",
    "\n",
    "    def build_model(self, hp):\n",
    "        \"\"\"\n",
    "        Build model with validation checks that allow skipping invalid configurations.\n",
    "        \"\"\"\n",
    "        input_frequency_size = FEATURE_BIN_COUNT\n",
    "        input_time_size = spectrogram_length\n",
    "        label_count = NUM_LABELS\n",
    "        \n",
    "        model = tf.keras.Sequential()\n",
    "        input_shape = (49, 40, 1)\n",
    "        \n",
    "        # Input layer\n",
    "        model.add(layers.Input(shape=(input_time_size * input_frequency_size,), name='input'))\n",
    "        \n",
    "        #add reshape layer\n",
    "        model.add(\n",
    "            layers.Reshape((input_time_size, input_frequency_size, 1), name='reshape')\n",
    "        )\n",
    "        \n",
    "        \n",
    "        current_height, current_width = input_shape[0], input_shape[1]\n",
    "        is_valid = True\n",
    "\n",
    "        # Convolutional layers with tunable filters, kernel size, and stride\n",
    "        for i in range(hp.Int('num_conv_layers', 1, 3)):\n",
    "            kernel_size = hp.Choice(f'kernel_size_{i}', values=[6, 8, 10, 12])\n",
    "            stride = hp.Choice(f'stride_{i}', values=[2, 4, 8, 10, 12])\n",
    "            \n",
    "            # Calculate new spatial dimensions\n",
    "            new_height = (current_height - kernel_size) // stride + 1\n",
    "            new_width = (current_width - kernel_size) // stride + 1\n",
    "            \n",
    "            # Check if dimensions are valid\n",
    "            if new_height <= 0 or new_width <= 0:\n",
    "                print(f\"Invalid configuration at layer {i}: kernel_size={kernel_size}, stride={stride}, input_shape=({current_height}, {current_width})\")\n",
    "                is_valid = False\n",
    "                break\n",
    "\n",
    "            # Add convolutional layer if valid\n",
    "            model.add(layers.Conv2D(\n",
    "                filters=hp.Int(f'filters_{i}', min_value=6, max_value=12, step=2),\n",
    "                kernel_size=kernel_size,\n",
    "                strides=stride,\n",
    "                activation='relu'\n",
    "            ))\n",
    "            model.add(layers.Dropout(rate=hp.Choice('dropout_rate', values=[0.1, 0.2, 0.3])))\n",
    "\n",
    "            # Update current dimensions\n",
    "            current_height, current_width = new_height, new_width\n",
    "\n",
    "        # If dimensions are invalid, return an invalid model\n",
    "        if not is_valid:\n",
    "            model.is_invalid = True\n",
    "            return model\n",
    "\n",
    "        # Add dropout here or at the end of every conv iteration\n",
    "        #model.add(layers.Dropout(rate=hp.Choice('dropout_rate', values=[0.1, 0.2, 0.3])))\n",
    "\n",
    "        # Flatten layer\n",
    "        model.add(layers.Flatten())\n",
    "\n",
    "        # Output layer\n",
    "        model.add(layers.Dense(label_count, activation='softmax'))\n",
    "\n",
    "        model_params = model.count_params()\n",
    "        if model_params > self.parameter_threshold:\n",
    "            print(f\"Model exceeds parameter limit: {model_params} params\")\n",
    "            model.is_invalid = True\n",
    "        else:\n",
    "            # Compile the model\n",
    "            model.compile(\n",
    "                optimizer=tf.keras.optimizers.Adam(hp.Choice('learning_rate', [1e-2, 1e-3])),\n",
    "                loss='sparse_categorical_crossentropy',\n",
    "                metrics=['accuracy']\n",
    "            )\n",
    "            model.is_invalid = False\n",
    "\n",
    "        return model\n",
    "\n",
    "\n",
    "    def run_tuner(self, train_data, val_data, num_epochs):\n",
    "        \"\"\"\n",
    "        Run the tuner to search for the best model.\n",
    "        \"\"\"\n",
    "        self.tuner.search(train_data, validation_data=val_data, epochs=num_epochs)\n",
    "        print(f\"\\nTraining complete. Saved {self.tuner.saved_model_count} models that fit the criteria.\")"
   ]
  },
  {
   "cell_type": "code",
   "execution_count": null,
   "metadata": {},
   "outputs": [],
   "source": [
    "# you can remove the wrapper run_with_iteration_display and just call the autotuner for full training output\n",
    "parameter_threshold = 100000 # Model sizes will be below this threshold\n",
    "accuracy_threshold = 0.90 # Models must have validation accuracy above this threshold\n",
    "num_epochs = 10\n",
    "max_trials = 12\n",
    "tuner_dir = 'autotuner_dir'\n",
    "save_dir = \"saved_models\"\n",
    "batch_size = 4\n",
    "\n",
    "# Instantiate and run the AutoTuner\n",
    "for batch in range(0, max_trials, batch_size):\n",
    "    print(f\"Running trials {batch + 1} to {batch + batch_size}\")\n",
    "    autotuner = AutoTuner(tuner_dir, save_dir, parameter_threshold, accuracy_threshold, max_trials=batch_size)\n",
    "    run_with_iteration_display(autotuner, train_spectrogram_ds, val_spectrogram_ds, num_epochs, batch_size)\n",
    "    del autotuner\n",
    "    \n",
    "# If you dont want to train in batches you can use this\n",
    "#autotuner = AutoTuner(tuner_dir, save_dir, parameter_threshold, accuracy_threshold, max_trials)\n",
    "#run_with_iteration_display(autotuner, train_spectrogram_ds, val_spectrogram_ds, num_epochs, max_trials)"
   ]
  },
  {
   "cell_type": "markdown",
   "metadata": {},
   "source": [
    "# Weight initializations?\n",
    "\n",
    "https://arxiv.org/pdf/2402.18153"
   ]
  },
  {
   "cell_type": "code",
   "execution_count": null,
   "metadata": {},
   "outputs": [],
   "source": []
  },
  {
   "cell_type": "markdown",
   "metadata": {},
   "source": [
    "# Novel CNN resnet based models?\n",
    "\n",
    "https://arxiv.org/pdf/2406.02652"
   ]
  },
  {
   "cell_type": "code",
   "execution_count": null,
   "metadata": {},
   "outputs": [],
   "source": []
  },
  {
   "cell_type": "markdown",
   "metadata": {},
   "source": [
    "# Train Base Models"
   ]
  },
  {
   "cell_type": "code",
   "execution_count": 122,
   "metadata": {},
   "outputs": [],
   "source": [
    "def plot_training_history(history, model_index):\n",
    "    \"\"\"Plots training and validation accuracy and loss.\"\"\"\n",
    "    plt.figure(figsize=(12, 4))\n",
    "\n",
    "    # Plot accuracy\n",
    "    plt.subplot(1, 2, 1)\n",
    "    plt.plot(history.history['accuracy'], label='Training Accuracy')\n",
    "    plt.plot(history.history['val_accuracy'], label='Validation Accuracy')\n",
    "    plt.title(f'Model {model_index} Accuracy')\n",
    "    plt.xlabel('Epoch')\n",
    "    plt.ylabel('Accuracy')\n",
    "    plt.legend()\n",
    "\n",
    "    # Plot loss\n",
    "    plt.subplot(1, 2, 2)\n",
    "    plt.plot(history.history['loss'], label='Training Loss')\n",
    "    plt.plot(history.history['val_loss'], label='Validation Loss')\n",
    "    plt.title(f'Model {model_index} Loss')\n",
    "    plt.xlabel('Epoch')\n",
    "    plt.ylabel('Loss')\n",
    "    plt.legend()\n",
    "\n",
    "    plt.show()"
   ]
  },
  {
   "cell_type": "code",
   "execution_count": 123,
   "metadata": {},
   "outputs": [],
   "source": [
    "def filter_keras_models(directory, min_accuracy, max_params):\n",
    "    \"\"\"\n",
    "    Filters .keras models in a directory based on minimum accuracy and maximum parameters.\n",
    "\n",
    "    Args:\n",
    "        directory (str): Path to the directory containing .keras model files.\n",
    "        min_accuracy (float): Minimum accuracy threshold (e.g., 71 for 71%).\n",
    "        max_params (int): Maximum parameter count threshold.\n",
    "\n",
    "    Returns:\n",
    "        list: A list of file paths for models that meet the criteria.\n",
    "    \"\"\"\n",
    "    usable_models = []\n",
    "    model_pattern = r\"model_trial_\\d+_acc_(\\d+)_params_(\\d+)\\.keras\"\n",
    "\n",
    "    for filename in os.listdir(directory):\n",
    "        if filename.endswith(\".keras\"):\n",
    "            match = re.match(model_pattern, filename)\n",
    "            if match:\n",
    "                accuracy = int(match.group(1))  # Extract accuracy\n",
    "                params = int(match.group(2))   # Extract parameter count\n",
    "                \n",
    "                # Check if the model fits the requirements\n",
    "                if accuracy >= min_accuracy and params <= max_params:\n",
    "                    usable_models.append(os.path.join(directory, filename))\n",
    "\n",
    "    return usable_models"
   ]
  },
  {
   "cell_type": "code",
   "execution_count": 124,
   "metadata": {},
   "outputs": [
    {
     "name": "stdout",
     "output_type": "stream",
     "text": [
      "Usable Models:\n",
      "saved_models/model_trial_1_acc_93_params_2704.keras\n",
      "saved_models/model_trial_1_acc_97_params_13306.keras\n",
      "saved_models/model_trial_0_acc_96_params_4460.keras\n",
      "saved_models/model_trial_2_acc_92_params_3372.keras\n",
      "saved_models/model_trial_2_acc_90_params_3372.keras\n",
      "saved_models/model_trial_2_acc_91_params_3372.keras\n"
     ]
    }
   ],
   "source": [
    "# Define directory and thresholds\n",
    "directory = \"saved_models\"\n",
    "min_accuracy = 90  # Minimum accuracy \n",
    "max_params = 100000  # Maximum parameter count \n",
    "\n",
    "# Get usable models\n",
    "usable_models = filter_keras_models(directory, min_accuracy, max_params)\n",
    "\n",
    "print(\"Usable Models:\")\n",
    "for model in usable_models:\n",
    "    print(model)\n",
    "\n",
    "\n",
    "#one small and one big high accuracy model\n",
    "\n",
    "#for SCC\n",
    "loaded_model_file_paths = []\n",
    "\n"
   ]
  },
  {
   "cell_type": "code",
   "execution_count": 125,
   "metadata": {},
   "outputs": [],
   "source": [
    "def train_or_evaluate_models(model_file_paths, root_dir, train_ds, val_ds, test_ds, epochs=30, retrain=False):\n",
    "    \"\"\"\n",
    "    Retrains or evaluates models from .keras files.\n",
    "\n",
    "    Args:\n",
    "        model_file_paths (list): List of relative paths to .keras model files.\n",
    "        root_dir (str): Root directory where the models are stored.\n",
    "        train_ds: Training dataset.\n",
    "        val_ds: Validation dataset.\n",
    "        test_ds: Test dataset for evaluation.\n",
    "        epochs (int): Number of epochs for retraining.\n",
    "        retrain (bool): If True, retrains the model; otherwise, evaluates it as is.\n",
    "\n",
    "    Returns:\n",
    "        results (dict): Dictionary containing training histories (if retrained) or evaluation scores.\n",
    "    \"\"\"\n",
    "    models = []\n",
    "\n",
    "    for i, model_path in enumerate(model_file_paths):\n",
    "        # Construct the absolute path\n",
    "        full_model_path = os.path.join(root_dir, model_path)\n",
    "        print(f\"\\nProcessing Model {i}: {full_model_path}\")\n",
    "\n",
    "        # Debug: Ensure file path correctness\n",
    "        if not os.path.exists(full_model_path):\n",
    "            print(f\"Error: File does not exist at {full_model_path}\")\n",
    "            continue\n",
    "\n",
    "        # Load the pretrained model\n",
    "        try:\n",
    "            model = tf.keras.models.load_model(full_model_path)\n",
    "        except ValueError as e:\n",
    "            print(f\"Error loading model from {full_model_path}: {e}\")\n",
    "            continue\n",
    "\n",
    "        if retrain:\n",
    "            # Compile the model before retraining\n",
    "            model.compile(\n",
    "                optimizer='adam',\n",
    "                loss=tf.keras.losses.SparseCategoricalCrossentropy(),\n",
    "                metrics=['accuracy']\n",
    "            )\n",
    "            model.summary()\n",
    "\n",
    "            # Retrain the model\n",
    "            history = model.fit(\n",
    "                train_ds,\n",
    "                validation_data=val_ds,\n",
    "                epochs=epochs,\n",
    "                callbacks=[keras.callbacks.EarlyStopping(verbose=1, patience=3, min_delta=0.001)],\n",
    "                verbose=1\n",
    "            )\n",
    "            \n",
    "            # Plot training history\n",
    "            plot_training_history(history, i)\n",
    "        else:\n",
    "            # Evaluate the model without retraining\n",
    "            eval_score = model.evaluate(test_ds, verbose=1)\n",
    "            print(f\"Evaluation Score for Model {i}: {eval_score}\")\n",
    "\n",
    "        models.append(model)\n",
    "\n",
    "\n",
    "    return models"
   ]
  },
  {
   "cell_type": "code",
   "execution_count": 126,
   "metadata": {},
   "outputs": [],
   "source": [
    "root_directory = r\"/projectnb/cs640grp/projects/tinyml\" # for SCC\n",
    "# root_directory = \"C:\\\\Users\\\\adamk\\\\Downloads\\\\micro_speech_model_making\\\\notebooks\\\\\" # for local\n",
    "\n",
    "new_models = train_or_evaluate_models(\n",
    "    model_file_paths=loaded_model_file_paths,\n",
    "    root_dir=root_directory,\n",
    "    train_ds=train_spectrogram_ds,\n",
    "    val_ds=val_spectrogram_ds,\n",
    "    test_ds=test_spectrogram_ds,\n",
    "    epochs=30,\n",
    "    retrain=True  # Retrain the models\n",
    ")"
   ]
  },
  {
   "cell_type": "code",
   "execution_count": 127,
   "metadata": {},
   "outputs": [],
   "source": [
    "for model in new_models:\n",
    "    model.save(model.name)\n",
    "    # Convert the model to TensorFlow Lite\n",
    "    converter = tf.lite.TFLiteConverter.from_saved_model(model.name)  # Path to the SavedModel directory\n",
    "    tflite_model = converter.convert()\n",
    "\n",
    "    # Save the TensorFlow Lite model\n",
    "    with open(\"model.tflite\", \"wb\") as f:\n",
    "        f.write(tflite_model)"
   ]
  },
  {
   "cell_type": "code",
   "execution_count": null,
   "metadata": {},
   "outputs": [],
   "source": []
  },
  {
   "cell_type": "code",
   "execution_count": 128,
   "metadata": {},
   "outputs": [],
   "source": [
    "def create_tiny_conv_model_small(is_training):\n",
    "    input_frequency_size = FEATURE_BIN_COUNT\n",
    "    input_time_size = spectrogram_length\n",
    "    label_count = NUM_LABELS\n",
    "    \n",
    "    # Set dropout rate if training\n",
    "    dropout_rate = 0.5 if is_training else 0.0\n",
    "\n",
    "    # Input assumed to be a flat vector of length input_time_size * input_frequency_size\n",
    "    inputs = tf.keras.Input(shape=(input_time_size * input_frequency_size,), name='input')\n",
    "\n",
    "    # Reshape to [batch, input_time_size, input_frequency_size, 1]\n",
    "    x = tf.keras.layers.Reshape((input_time_size, input_frequency_size, 1), name='reshape')(inputs)\n",
    "    \n",
    "    # First convolutional layer\n",
    "    # Using the same parameters as in the original model:\n",
    "    # kernel_size = [first_filter_height, first_filter_width] = [10, 8]\n",
    "    # filters = first_filter_count = 8\n",
    "    # strides = (first_conv_stride_y, first_conv_stride_x) = (2, 2)\n",
    "    # padding = 'SAME'\n",
    "    # kernel_initializer and bias_initializer replicate truncated_normal and zeros from original code.\n",
    "    x = tf.keras.layers.Conv2D(\n",
    "        filters=8,\n",
    "        kernel_size=(10, 8),\n",
    "        strides=(2, 2),\n",
    "        padding='same',\n",
    "        kernel_initializer=tf.keras.initializers.TruncatedNormal(stddev=0.01),\n",
    "        bias_initializer=tf.keras.initializers.Zeros(),\n",
    "        name='conv'\n",
    "    )(x)\n",
    "    \n",
    "    # ReLU activation\n",
    "    x = tf.keras.layers.ReLU(name='relu')(x)\n",
    "    \n",
    "    # Dropout if training\n",
    "    if is_training:\n",
    "        x = tf.keras.layers.Dropout(rate=dropout_rate, name='dropout')(x)\n",
    "        \n",
    "    # Flatten the output\n",
    "    x = tf.keras.layers.Flatten(name='flatten')(x)\n",
    "    \n",
    "    # Final fully-connected (dense) layer\n",
    "    # shape = [first_dropout_element_count, label_count]\n",
    "    # kernel_initializer and bias_initializer again mirror original initialization\n",
    "    outputs = tf.keras.layers.Dense(\n",
    "        units=label_count,\n",
    "        kernel_initializer=tf.keras.initializers.TruncatedNormal(stddev=0.01),\n",
    "        bias_initializer='zeros',\n",
    "        activation = \"softmax\",\n",
    "        name='final_fc'\n",
    "    )(x)\n",
    "    \n",
    "    # Create the Keras model\n",
    "    model = tf.keras.Model(inputs=inputs, outputs=outputs, name='tiny_conv_model_small')\n",
    "    return model"
   ]
  },
  {
   "cell_type": "code",
   "execution_count": 129,
   "metadata": {},
   "outputs": [],
   "source": [
    "def create_tiny_conv_model(is_training):\n",
    "    input_frequency_size = FEATURE_BIN_COUNT\n",
    "    input_time_size = spectrogram_length\n",
    "    label_count = NUM_LABELS\n",
    "    \n",
    "    # Set dropout rate if training\n",
    "    dropout_rate = 0.2 if is_training else 0.0\n",
    "\n",
    "    # Input assumed to be a flat vector of length input_time_size * input_frequency_size\n",
    "    inputs = tf.keras.Input(shape=(input_time_size * input_frequency_size,), name='input')\n",
    "\n",
    "    # Reshape to [batch, input_time_size, input_frequency_size, 1]\n",
    "    x = tf.keras.layers.Reshape((input_time_size, input_frequency_size, 1), name='reshape')(inputs)\n",
    "    \n",
    "    # First convolutional layer\n",
    "    # Using the same parameters as in the original model:\n",
    "    # kernel_size = [first_filter_height, first_filter_width] = [10, 8]\n",
    "    # filters = first_filter_count = 8\n",
    "    # strides = (first_conv_stride_y, first_conv_stride_x) = (2, 2)\n",
    "    # padding = 'SAME'\n",
    "    # kernel_initializer and bias_initializer replicate truncated_normal and zeros from original code.\n",
    "    x = tf.keras.layers.Conv2D(\n",
    "        filters=8,\n",
    "        kernel_size=(10, 8),\n",
    "        strides=(2, 2),\n",
    "        padding='same',\n",
    "        kernel_initializer=tf.keras.initializers.TruncatedNormal(stddev=0.01),\n",
    "        bias_initializer=tf.keras.initializers.Zeros(),\n",
    "        name='conv1'\n",
    "    )(x)\n",
    "    \n",
    "    # ReLU activation\n",
    "    x = tf.keras.layers.ReLU(name='relu1')(x)\n",
    "    \n",
    "    # Dropout if training\n",
    "    if is_training:\n",
    "        x = tf.keras.layers.Dropout(rate=dropout_rate, name='dropout1')(x)\n",
    "        \n",
    "    x = tf.keras.layers.Conv2D(\n",
    "        filters=8,\n",
    "        kernel_size=(10, 8),\n",
    "        strides=(8, 8),\n",
    "        padding='same',\n",
    "        kernel_initializer=tf.keras.initializers.TruncatedNormal(stddev=0.01),\n",
    "        bias_initializer=tf.keras.initializers.Zeros(),\n",
    "        name='conv2'\n",
    "    )(x)\n",
    "    \n",
    "    # ReLU activation\n",
    "    x = tf.keras.layers.ReLU(name='relu2')(x)\n",
    "    \n",
    "    # Dropout if training\n",
    "    if is_training:\n",
    "        x = tf.keras.layers.Dropout(rate=dropout_rate, name='dropout2')(x)\n",
    "        \n",
    "    # Flatten the output\n",
    "    x = tf.keras.layers.Flatten(name='flatten')(x)\n",
    "    \n",
    "    # Final fully-connected (dense) layer\n",
    "    # shape = [first_dropout_element_count, label_count]\n",
    "    # kernel_initializer and bias_initializer again mirror original initialization\n",
    "    outputs = tf.keras.layers.Dense(\n",
    "        units=label_count,\n",
    "        kernel_initializer=tf.keras.initializers.TruncatedNormal(stddev=0.01),\n",
    "        bias_initializer='zeros',\n",
    "        activation = \"softmax\",\n",
    "        name='final_fc'\n",
    "    )(x)\n",
    "    \n",
    "    # Create the Keras model\n",
    "    model = tf.keras.Model(inputs=inputs, outputs=outputs, name='tiny_conv_model')\n",
    "    return model"
   ]
  },
  {
   "cell_type": "code",
   "execution_count": 27,
   "metadata": {},
   "outputs": [
    {
     "data": {
      "text/plain": [
       "\"\\n# Create tiny embedded convolutional model using Sequential API\\ndef create_tiny_embed_conv_model_small(input_shape=(1960, ), num_classes=4, is_training=True):\\n    model = keras.Sequential(name='tiny_embed_conv_model')\\n        \\n    model.add(keras.layers.Input(shape=input_shape))\\n    model.add(keras.layers.Reshape((49, 40, 1), name='reshape'))\\n    #reshaper = tf.reshape(input_shape, (49, 40, 1))\\n    \\n    model.add(keras.layers.Conv2D(filters=8,\\n                     kernel_size=(10, 8),\\n                     strides=(2, 2),\\n                     padding='same',\\n                     use_bias=True,\\n                     kernel_initializer=tf.keras.initializers.TruncatedNormal(stddev=0.01),\\n                     bias_initializer='zeros',\\n                     name='conv1'))\\n    model.add(keras.layers.ReLU(name='relu1'))\\n    \\n    if is_training:\\n        model.add(keras.layers.Dropout(rate=0.2, name='dropout1'))\\n    \\n    model.add(keras.layers.Conv2D(filters=8,\\n                     kernel_size=(10, 8),\\n                     strides=(8, 8),\\n                     padding='same',\\n                     use_bias=True,\\n                     kernel_initializer=tf.keras.initializers.TruncatedNormal(stddev=0.01),\\n                     bias_initializer='zeros',\\n                     name='conv2'))\\n    model.add(keras.layers.ReLU(name = 'relu2'))\\n    \\n    if is_training:\\n        model.add(keras.layers.Dropout(rate=0.2, name='dropout2'))\\n    \\n    model.add(keras.layers.Flatten(name='flatten'))\\n    model.add(keras.layers.Dense(units=num_classes,\\n                    activation='softmax',\\n                    kernel_initializer=tf.keras.initializers.TruncatedNormal(stddev=0.01),\\n                    bias_initializer='zeros',\\n                    name='fc2'))\\n    \\n    return model\\n\""
      ]
     },
     "execution_count": 27,
     "metadata": {},
     "output_type": "execute_result"
    }
   ],
   "source": [
    "'''\n",
    "# Create tiny embedded convolutional model using Sequential API\n",
    "def create_tiny_embed_conv_model_small(input_shape=(1960, ), num_classes=4, is_training=True):\n",
    "    model = keras.Sequential(name='tiny_embed_conv_model')\n",
    "        \n",
    "    model.add(keras.layers.Input(shape=input_shape))\n",
    "    model.add(keras.layers.Reshape((49, 40, 1), name='reshape'))\n",
    "    #reshaper = tf.reshape(input_shape, (49, 40, 1))\n",
    "    \n",
    "    model.add(keras.layers.Conv2D(filters=8,\n",
    "                     kernel_size=(10, 8),\n",
    "                     strides=(2, 2),\n",
    "                     padding='same',\n",
    "                     use_bias=True,\n",
    "                     kernel_initializer=tf.keras.initializers.TruncatedNormal(stddev=0.01),\n",
    "                     bias_initializer='zeros',\n",
    "                     name='conv1'))\n",
    "    model.add(keras.layers.ReLU(name='relu1'))\n",
    "    \n",
    "    if is_training:\n",
    "        model.add(keras.layers.Dropout(rate=0.2, name='dropout1'))\n",
    "    \n",
    "    model.add(keras.layers.Conv2D(filters=8,\n",
    "                     kernel_size=(10, 8),\n",
    "                     strides=(8, 8),\n",
    "                     padding='same',\n",
    "                     use_bias=True,\n",
    "                     kernel_initializer=tf.keras.initializers.TruncatedNormal(stddev=0.01),\n",
    "                     bias_initializer='zeros',\n",
    "                     name='conv2'))\n",
    "    model.add(keras.layers.ReLU(name = 'relu2'))\n",
    "    \n",
    "    if is_training:\n",
    "        model.add(keras.layers.Dropout(rate=0.2, name='dropout2'))\n",
    "    \n",
    "    model.add(keras.layers.Flatten(name='flatten'))\n",
    "    model.add(keras.layers.Dense(units=num_classes,\n",
    "                    activation='softmax',\n",
    "                    kernel_initializer=tf.keras.initializers.TruncatedNormal(stddev=0.01),\n",
    "                    bias_initializer='zeros',\n",
    "                    name='fc2'))\n",
    "    \n",
    "    return model\n",
    "'''"
   ]
  },
  {
   "cell_type": "code",
   "execution_count": 130,
   "metadata": {},
   "outputs": [],
   "source": [
    "def apply_fake_quantization(data):\n",
    "    data_tensor = tf.convert_to_tensor(data, dtype=tf.float32)\n",
    "    # Quantize the tensor with given min/max values\n",
    "    quantized_tensor = tf.quantization.fake_quant_with_min_max_args(\n",
    "        inputs=data_tensor,\n",
    "        min=0.0,  # Minimum value of the quantization range\n",
    "        max=26.0,   # Maximum value of the quantization range\n",
    "        num_bits=8 # Number of bits for quantization\n",
    "    )\n",
    "    return quantized_tensor.numpy()"
   ]
  },
  {
   "cell_type": "code",
   "execution_count": 131,
   "metadata": {},
   "outputs": [],
   "source": [
    "#X_train = apply_fake_quantization(X_train)"
   ]
  },
  {
   "cell_type": "code",
   "execution_count": 132,
   "metadata": {},
   "outputs": [],
   "source": [
    "#X_val = apply_fake_quantization(X_val)\n",
    "#X_test = apply_fake_quantization(X_test)"
   ]
  },
  {
   "cell_type": "code",
   "execution_count": 133,
   "metadata": {},
   "outputs": [
    {
     "name": "stdout",
     "output_type": "stream",
     "text": [
      "\n",
      "Training Model 0\n",
      "Model: \"tiny_conv_model\"\n",
      "_________________________________________________________________\n",
      " Layer (type)                Output Shape              Param #   \n",
      "=================================================================\n",
      " input (InputLayer)          [(None, 1960)]            0         \n",
      "                                                                 \n",
      " reshape (Reshape)           (None, 49, 40, 1)         0         \n",
      "                                                                 \n",
      " conv1 (Conv2D)              (None, 25, 20, 8)         648       \n",
      "                                                                 \n",
      " relu1 (ReLU)                (None, 25, 20, 8)         0         \n",
      "                                                                 \n",
      " dropout1 (Dropout)          (None, 25, 20, 8)         0         \n",
      "                                                                 \n",
      " conv2 (Conv2D)              (None, 4, 3, 8)           5128      \n",
      "                                                                 \n",
      " relu2 (ReLU)                (None, 4, 3, 8)           0         \n",
      "                                                                 \n",
      " dropout2 (Dropout)          (None, 4, 3, 8)           0         \n",
      "                                                                 \n",
      " flatten (Flatten)           (None, 96)                0         \n",
      "                                                                 \n",
      " final_fc (Dense)            (None, 4)                 388       \n",
      "                                                                 \n",
      "=================================================================\n",
      "Total params: 6,164\n",
      "Trainable params: 6,164\n",
      "Non-trainable params: 0\n",
      "_________________________________________________________________\n",
      "Epoch 1/25\n",
      "2542/2542 [==============================] - 8s 3ms/step - loss: 0.5056 - accuracy: 0.7917 - val_loss: 0.3128 - val_accuracy: 0.8795\n",
      "Epoch 2/25\n",
      "2542/2542 [==============================] - 8s 3ms/step - loss: 0.3129 - accuracy: 0.8752 - val_loss: 0.2114 - val_accuracy: 0.9214\n",
      "Epoch 3/25\n",
      "2542/2542 [==============================] - 7s 3ms/step - loss: 0.2493 - accuracy: 0.9023 - val_loss: 0.1764 - val_accuracy: 0.9327\n",
      "Epoch 4/25\n",
      "2542/2542 [==============================] - 7s 3ms/step - loss: 0.2185 - accuracy: 0.9150 - val_loss: 0.1535 - val_accuracy: 0.9434\n",
      "Epoch 5/25\n",
      "2542/2542 [==============================] - 7s 3ms/step - loss: 0.2000 - accuracy: 0.9236 - val_loss: 0.1446 - val_accuracy: 0.9439\n",
      "Epoch 6/25\n",
      "2542/2542 [==============================] - 7s 3ms/step - loss: 0.1847 - accuracy: 0.9292 - val_loss: 0.1318 - val_accuracy: 0.9515\n",
      "Epoch 7/25\n",
      "2542/2542 [==============================] - 7s 3ms/step - loss: 0.1739 - accuracy: 0.9341 - val_loss: 0.1186 - val_accuracy: 0.9571\n",
      "Epoch 8/25\n",
      "2542/2542 [==============================] - 7s 3ms/step - loss: 0.1648 - accuracy: 0.9377 - val_loss: 0.1159 - val_accuracy: 0.9583\n",
      "Epoch 9/25\n",
      "2542/2542 [==============================] - 7s 3ms/step - loss: 0.1591 - accuracy: 0.9391 - val_loss: 0.1105 - val_accuracy: 0.9608\n",
      "Epoch 10/25\n",
      "2542/2542 [==============================] - 7s 3ms/step - loss: 0.1533 - accuracy: 0.9418 - val_loss: 0.1123 - val_accuracy: 0.9571\n",
      "Epoch 11/25\n",
      "2542/2542 [==============================] - 7s 3ms/step - loss: 0.1503 - accuracy: 0.9434 - val_loss: 0.1100 - val_accuracy: 0.9590\n",
      "Epoch 11: early stopping\n"
     ]
    },
    {
     "data": {
      "image/png": "[encoded data removed]",
      "text/plain": [
       "<Figure size 1200x400 with 2 Axes>"
      ]
     },
     "metadata": {},
     "output_type": "display_data"
    },
    {
     "name": "stdout",
     "output_type": "stream",
     "text": [
      "\n",
      "Training Model 1\n",
      "Model: \"tiny_conv_model_small\"\n",
      "_________________________________________________________________\n",
      " Layer (type)                Output Shape              Param #   \n",
      "=================================================================\n",
      " input (InputLayer)          [(None, 1960)]            0         \n",
      "                                                                 \n",
      " reshape (Reshape)           (None, 49, 40, 1)         0         \n",
      "                                                                 \n",
      " conv (Conv2D)               (None, 25, 20, 8)         648       \n",
      "                                                                 \n",
      " relu (ReLU)                 (None, 25, 20, 8)         0         \n",
      "                                                                 \n",
      " dropout (Dropout)           (None, 25, 20, 8)         0         \n",
      "                                                                 \n",
      " flatten (Flatten)           (None, 4000)              0         \n",
      "                                                                 \n",
      " final_fc (Dense)            (None, 4)                 16004     \n",
      "                                                                 \n",
      "=================================================================\n",
      "Total params: 16,652\n",
      "Trainable params: 16,652\n",
      "Non-trainable params: 0\n",
      "_________________________________________________________________\n",
      "Epoch 1/25\n",
      "2542/2542 [==============================] - 7s 2ms/step - loss: 0.3457 - accuracy: 0.8685 - val_loss: 0.2122 - val_accuracy: 0.9305\n",
      "Epoch 2/25\n",
      "2542/2542 [==============================] - 6s 2ms/step - loss: 0.2097 - accuracy: 0.9236 - val_loss: 0.1607 - val_accuracy: 0.9418\n",
      "Epoch 3/25\n",
      "2542/2542 [==============================] - 6s 2ms/step - loss: 0.1809 - accuracy: 0.9337 - val_loss: 0.1381 - val_accuracy: 0.9501\n",
      "Epoch 4/25\n",
      "2542/2542 [==============================] - 6s 2ms/step - loss: 0.1640 - accuracy: 0.9396 - val_loss: 0.1206 - val_accuracy: 0.9589\n",
      "Epoch 5/25\n",
      "2542/2542 [==============================] - 6s 2ms/step - loss: 0.1516 - accuracy: 0.9437 - val_loss: 0.1079 - val_accuracy: 0.9618\n",
      "Epoch 6/25\n",
      "2542/2542 [==============================] - 6s 2ms/step - loss: 0.1428 - accuracy: 0.9468 - val_loss: 0.1002 - val_accuracy: 0.9646\n",
      "Epoch 7/25\n",
      "2542/2542 [==============================] - 6s 2ms/step - loss: 0.1383 - accuracy: 0.9490 - val_loss: 0.0976 - val_accuracy: 0.9672\n",
      "Epoch 8/25\n",
      "2542/2542 [==============================] - 6s 2ms/step - loss: 0.1336 - accuracy: 0.9514 - val_loss: 0.0952 - val_accuracy: 0.9675\n",
      "Epoch 9/25\n",
      "2542/2542 [==============================] - 6s 2ms/step - loss: 0.1304 - accuracy: 0.9517 - val_loss: 0.0906 - val_accuracy: 0.9705\n",
      "Epoch 10/25\n",
      "2542/2542 [==============================] - 7s 3ms/step - loss: 0.1275 - accuracy: 0.9533 - val_loss: 0.0900 - val_accuracy: 0.9695\n",
      "Epoch 11/25\n",
      "2542/2542 [==============================] - 6s 2ms/step - loss: 0.1259 - accuracy: 0.9539 - val_loss: 0.0832 - val_accuracy: 0.9708\n",
      "Epoch 12/25\n",
      "2542/2542 [==============================] - 6s 2ms/step - loss: 0.1239 - accuracy: 0.9545 - val_loss: 0.0806 - val_accuracy: 0.9733\n",
      "Epoch 13/25\n",
      "2542/2542 [==============================] - 6s 2ms/step - loss: 0.1232 - accuracy: 0.9552 - val_loss: 0.0809 - val_accuracy: 0.9728\n",
      "Epoch 14/25\n",
      "2542/2542 [==============================] - 6s 2ms/step - loss: 0.1216 - accuracy: 0.9548 - val_loss: 0.0828 - val_accuracy: 0.9724\n",
      "Epoch 14: early stopping\n"
     ]
    },
    {
     "data": {
      "image/png": "[encoded data removed]",
      "text/plain": [
       "<Figure size 1200x400 with 2 Axes>"
      ]
     },
     "metadata": {},
     "output_type": "display_data"
    }
   ],
   "source": [
    "model_list = []\n",
    "histories = []\n",
    "sequential_models = True\n",
    "is_training = True\n",
    "\n",
    "for i, create_model in enumerate([create_tiny_conv_model, create_tiny_conv_model_small]):\n",
    "    print(f'\\nTraining Model {i}')\n",
    "    model = create_model(is_training)\n",
    "    \n",
    "    model.compile(\n",
    "        optimizer='adam',\n",
    "        loss=tf.keras.losses.SparseCategoricalCrossentropy(),\n",
    "        metrics=['accuracy']\n",
    "    )\n",
    "\n",
    "    model.summary()\n",
    "\n",
    "\n",
    "    history = model.fit(\n",
    "        train_spectrogram_ds,\n",
    "        validation_data = val_spectrogram_ds,\n",
    "        epochs=25,  # You can adjust the number of epochs\n",
    "        callbacks=keras.callbacks.EarlyStopping(verbose=1, patience=2, min_delta=0.001),\n",
    "        verbose = 1\n",
    "    )\n",
    "    model_list.append(model)\n",
    "    histories.append(history)\n",
    "    \n",
    "    plot_training_history(history, i)\n"
   ]
  },
  {
   "cell_type": "code",
   "execution_count": 134,
   "metadata": {},
   "outputs": [
    {
     "name": "stderr",
     "output_type": "stream",
     "text": [
      "WARNING:absl:Found untraced functions such as _jit_compiled_convolution_op, _jit_compiled_convolution_op while saving (showing 2 of 2). These functions will not be directly callable after loading.\n"
     ]
    },
    {
     "name": "stdout",
     "output_type": "stream",
     "text": [
      "INFO:tensorflow:Assets written to: tiny_conv_modelbase/assets\n"
     ]
    },
    {
     "name": "stderr",
     "output_type": "stream",
     "text": [
      "INFO:tensorflow:Assets written to: tiny_conv_modelbase/assets\n",
      "WARNING:absl:Found untraced functions such as _jit_compiled_convolution_op while saving (showing 1 of 1). These functions will not be directly callable after loading.\n"
     ]
    },
    {
     "name": "stdout",
     "output_type": "stream",
     "text": [
      "INFO:tensorflow:Assets written to: tiny_conv_model_smallbase/assets\n"
     ]
    },
    {
     "name": "stderr",
     "output_type": "stream",
     "text": [
      "INFO:tensorflow:Assets written to: tiny_conv_model_smallbase/assets\n"
     ]
    }
   ],
   "source": [
    "for model in model_list:\n",
    "    model.save(model.name + \"base\")\n",
    "    converter = tf.lite.TFLiteConverter.from_saved_model(model.name + \"base\")  # Path to the SavedModel directory\n",
    "    tflite_model = converter.convert()\n",
    "    # Save the TensorFlow Lite model\n",
    "    with open(model.name + \"base.tflite\", \"wb\") as f:\n",
    "        f.write(tflite_model)\n"
   ]
  },
  {
   "cell_type": "code",
   "execution_count": 136,
   "metadata": {},
   "outputs": [
    {
     "name": "stdout",
     "output_type": "stream",
     "text": [
      "0.11226207762956619 0.9581319689750671\n",
      "0.08176114410161972 0.97419673204422\n"
     ]
    }
   ],
   "source": [
    "for model in model_list:\n",
    "    test_loss, test_acc = model.evaluate(test_spectrogram_ds, verbose=0)\n",
    "    print(test_loss, test_acc)"
   ]
  },
  {
   "cell_type": "markdown",
   "metadata": {},
   "source": [
    "## Compile and test models"
   ]
  },
  {
   "cell_type": "code",
   "execution_count": 138,
   "metadata": {},
   "outputs": [],
   "source": [
    "final_models = model_list #+ new_models"
   ]
  },
  {
   "cell_type": "code",
   "execution_count": 200,
   "metadata": {},
   "outputs": [],
   "source": [
    "def get_gzipped_tflite_model_size(tflite_model):\n",
    "    # Write the TFLite model to a temporary file\n",
    "    with tempfile.NamedTemporaryFile(suffix='.tflite', delete=False) as temp_file:\n",
    "        temp_file.write(tflite_model)\n",
    "        model_filename = temp_file.name\n",
    "\n",
    "    # Compress it as a zip file for size measurement\n",
    "    with tempfile.NamedTemporaryFile(suffix='.zip', delete=False) as temp_zip:\n",
    "        zipped_file = temp_zip.name\n",
    "    with zipfile.ZipFile(zipped_file, 'w', compression=zipfile.ZIP_DEFLATED) as f:\n",
    "        f.write(model_filename, arcname='model.tflite')\n",
    "\n",
    "    # Get the size of the gzipped model file in KB\n",
    "    gzipped_size_kb = os.path.getsize(zipped_file) / 1000.0\n",
    "\n",
    "    # Clean up temporary files\n",
    "    os.remove(model_filename)\n",
    "    os.remove(zipped_file)\n",
    "\n",
    "    return gzipped_size_kb\n",
    "\n",
    "def evaluate_tflite_model(tflite_model, test_dataset):\n",
    "    # Convert the tf.data.Dataset to NumPy arrays if not already\n",
    "    # This step assumes test_dataset yields (features, labels)\n",
    "    X_list, y_list = [], []\n",
    "    for x_batch, y_batch in test_dataset:\n",
    "        X_list.append(x_batch.numpy())\n",
    "        y_list.append(y_batch.numpy())\n",
    "    X_test = np.concatenate(X_list, axis=0)\n",
    "    y_test = np.concatenate(y_list, axis=0)\n",
    "\n",
    "    # Initialize the TFLite interpreter\n",
    "    interpreter = tf.lite.Interpreter(model_content=tflite_model)\n",
    "    interpreter.allocate_tensors()\n",
    "\n",
    "    input_details = interpreter.get_input_details()[0]\n",
    "    output_details = interpreter.get_output_details()[0]\n",
    "\n",
    "    # For quantized models, manually quantize the input data from float to integer\n",
    "    input_scale, input_zero_point = input_details[\"quantization\"]\n",
    "\n",
    "    # Reshape test data to match the input shape if necessary\n",
    "    # Adjust the reshape line based on your model’s input requirements.\n",
    "    # For example, if input_details['shape'] is [1, height, width, channels],\n",
    "    # and X_test is [num_samples, height, width, channels], just ensure they match.\n",
    "    # The snippet provided used a 2D reshape, adjust as appropriate.\n",
    "    input_shape = input_details['shape']\n",
    "    # Typically, input_shape[0] is 1 (batch), so we use the rest for reshape\n",
    "    # Example: If input_shape is [1, 32, 32], then reshape X_test to [X_test.shape[0], 32, 32]\n",
    "    # Modify this line according to your input shape.\n",
    "    test_data = X_test.reshape((X_test.shape[0],) + tuple(input_shape[1:]))\n",
    "\n",
    "    # Apply quantization scaling to test_data if quantized\n",
    "    if input_scale > 0:\n",
    "        test_data = test_data / input_scale + input_zero_point\n",
    "    test_data = test_data.astype(input_details[\"dtype\"])\n",
    "\n",
    "    correct_predictions = 0\n",
    "    for i in range(len(test_data)):\n",
    "        # Set the input tensor. Note: if the model expects a batch dimension, \n",
    "        # you may need test_data[i:i+1] instead of test_data[i]\n",
    "        interpreter.set_tensor(input_details[\"index\"], [test_data[i]] if len(input_shape) > 1 else test_data[i])\n",
    "        interpreter.invoke()\n",
    "        output = interpreter.get_tensor(output_details[\"index\"])[0]\n",
    "\n",
    "        top_prediction = output.argmax()\n",
    "        correct_predictions += (top_prediction == y_test[i])\n",
    "\n",
    "    accuracy = (correct_predictions / len(X_test)) if len(X_test) > 0 else 0.0\n",
    "    print(\"tf accuracy: \" + str(accuracy) )\n",
    "    return accuracy\n",
    "\n",
    "\n",
    "def get_tflite_accuracy(model, test_spectrogram_ds):\n",
    "    # Convert to TFLite\n",
    "    converter = tf.lite.TFLiteConverter.from_keras_model(model)\n",
    "    tflite_model = converter.convert()\n",
    "\n",
    "    # Evaluate the TFLite model's accuracy\n",
    "    accuracy = evaluate_tflite_model(tflite_model, test_spectrogram_ds)\n",
    "\n",
    "    # Get gzipped size of the TFLite model\n",
    "    gzipped_size = get_gzipped_tflite_model_size(tflite_model)\n",
    "\n",
    "    return accuracy, gzipped_size"
   ]
  },
  {
   "cell_type": "code",
   "execution_count": 201,
   "metadata": {},
   "outputs": [],
   "source": [
    "# Function to reload any serialized models (from bytes) if necessary\n",
    "def load_if_serialized(model):\n",
    "    if isinstance(model, bytes):\n",
    "        # Assuming the model was saved as bytes, use `tf.keras.models.model_from_json` or similar\n",
    "        raise TypeError(\"Model is in a serialized bytes format. Please load it as a Keras model before passing.\")\n",
    "    return model\n",
    "\n",
    "def get_gzipped_model_size(model):\n",
    "    # Save the model to a temporary file in .keras format\n",
    "    with tempfile.NamedTemporaryFile(suffix='.keras', delete=False) as temp_file:\n",
    "        model.save(temp_file.name)\n",
    "        model_filename = temp_file.name\n",
    "\n",
    "    # Compress the model file to calculate its gzipped size\n",
    "    with tempfile.NamedTemporaryFile(suffix='.zip', delete=False) as temp_zip:\n",
    "        zipped_file = temp_zip.name\n",
    "    with zipfile.ZipFile(zipped_file, 'w', compression=zipfile.ZIP_DEFLATED) as f:\n",
    "        f.write(model_filename, arcname='model.keras')\n",
    "\n",
    "    # Get the size of the gzipped model file in kilobytes\n",
    "    gzipped_size = os.path.getsize(zipped_file) / 1000  # Convert bytes to KB\n",
    "\n",
    "    # Clean up temporary files\n",
    "    os.remove(model_filename)\n",
    "    os.remove(zipped_file)\n",
    "\n",
    "    return gzipped_size\n",
    "\n",
    "def plot_size_v_accuracy(models, test_spectrogram_ds):\n",
    "    # Lists to store the results\n",
    "    accuracies = []\n",
    "    model_sizes = []\n",
    "    model_names = []\n",
    "    tf_accuracies = []\n",
    "    tf_model_sizes = []\n",
    "    # Evaluate each model and store the results\n",
    "    for i, model in enumerate(models, start=1):\n",
    "        try:\n",
    "            # Load model if it's in serialized bytes format\n",
    "            model = load_if_serialized(model)\n",
    "\n",
    "            # Check if model is a Keras model instance\n",
    "            #if not isinstance(model, tf.keras.Model):\n",
    "            #    raise TypeError(f\"Model {i} is not a Keras model instance.\")\n",
    "\n",
    "            # Check if the model is compiled by looking for an optimizer\n",
    "            if model.optimizer is None:\n",
    "                model.compile(\n",
    "                    optimizer='adam',\n",
    "                    loss=tf.keras.losses.SparseCategoricalCrossentropy(),\n",
    "                    metrics=['accuracy']\n",
    "                )\n",
    "            \n",
    "            # Evaluate the model\n",
    "            test_loss, test_acc = model.evaluate(test_spectrogram_ds, verbose=0)\n",
    "\n",
    "            # Calculate the gzipped model size\n",
    "            gzipped_size = get_gzipped_model_size(model)\n",
    "            \n",
    "            tf_test_acc, tf_gzipped_size = get_tflite_accuracy(model, test_spectrogram_ds)\n",
    "\n",
    "            # Print the details\n",
    "            print(f\"Model {i} ({model.name}):\")\n",
    "            print(f\"  Gzipped Model Size: {gzipped_size:.2f} KB\")\n",
    "            print(f\"  Test Accuracy: {test_acc:.4f}\")\n",
    "            print(f\"  TFLite Gzipped Model Size: {tf_gzipped_size:.2f} KB\")\n",
    "            print(f\"  TFLite Test Accuracy: {tf_test_acc:.4f}\")\n",
    "            \n",
    "            # Store the accuracy and model size\n",
    "            accuracies.append(test_acc)\n",
    "            model_sizes.append(gzipped_size)\n",
    "            \n",
    "            tf_accuracies.append(tf_test_acc)\n",
    "            tf_model_sizes.append(tf_gzipped_size)\n",
    "            \n",
    "            model_names.append(model.name)\n",
    "\n",
    "\n",
    "        except Exception as e:\n",
    "            print(f\"An error occurred with Model {i}: {e}\")\n",
    "\n",
    "    # Plotting accuracy vs. gzipped model size\n",
    "    plt.figure(figsize=(10, 6))\n",
    "    plt.plot(model_sizes, accuracies, marker='o', linestyle='', color='b')\n",
    "    plt.plot(tf_model_sizes, tf_accuracies, marker='o', linestyle='', color='r')\n",
    "\n",
    "    for i, model_name in enumerate(model_names):\n",
    "        plt.text(model_sizes[i], accuracies[i], model_name, fontsize=9, ha='right', color = 'b')\n",
    "        plt.text(tf_model_sizes[i], tf_accuracies[i], f\"tf_{model_name}\", fontsize=9, ha='right', color = 'r')\n",
    "        \n",
    "\n",
    "    # Add labels and title\n",
    "    plt.xlabel('Gzipped Model Size (KB)')\n",
    "    plt.ylabel('Test Accuracy')\n",
    "    plt.title('Model Accuracy vs. Gzipped Model Size')\n",
    "    plt.grid(True)\n",
    "    plt.show()"
   ]
  },
  {
   "cell_type": "code",
   "execution_count": 202,
   "metadata": {},
   "outputs": [
    {
     "name": "stderr",
     "output_type": "stream",
     "text": [
      "WARNING:absl:Found untraced functions such as _jit_compiled_convolution_op, _jit_compiled_convolution_op while saving (showing 2 of 2). These functions will not be directly callable after loading.\n"
     ]
    },
    {
     "name": "stdout",
     "output_type": "stream",
     "text": [
      "INFO:tensorflow:Assets written to: /scratch/1482407.1.academic-gpu/tmppkbxxtyj/assets\n"
     ]
    },
    {
     "name": "stderr",
     "output_type": "stream",
     "text": [
      "INFO:tensorflow:Assets written to: /scratch/1482407.1.academic-gpu/tmppkbxxtyj/assets\n"
     ]
    },
    {
     "name": "stdout",
     "output_type": "stream",
     "text": [
      "tf accuracy: 0.9581319856874101\n",
      "Model 1 (tiny_conv_model):\n",
      "  Gzipped Model Size: 69.76 KB\n",
      "  Test Accuracy: 0.9581\n",
      "  TFLite Gzipped Model Size: 25.06 KB\n",
      "  TFLite Test Accuracy: 0.9581\n"
     ]
    },
    {
     "name": "stderr",
     "output_type": "stream",
     "text": [
      "WARNING:absl:Found untraced functions such as _jit_compiled_convolution_op while saving (showing 1 of 1). These functions will not be directly callable after loading.\n"
     ]
    },
    {
     "name": "stdout",
     "output_type": "stream",
     "text": [
      "INFO:tensorflow:Assets written to: /scratch/1482407.1.academic-gpu/tmpcx15_lcy/assets\n"
     ]
    },
    {
     "name": "stderr",
     "output_type": "stream",
     "text": [
      "INFO:tensorflow:Assets written to: /scratch/1482407.1.academic-gpu/tmpcx15_lcy/assets\n"
     ]
    },
    {
     "name": "stdout",
     "output_type": "stream",
     "text": [
      "tf accuracy: 0.97419676122321\n",
      "Model 2 (tiny_conv_model_small):\n",
      "  Gzipped Model Size: 193.24 KB\n",
      "  Test Accuracy: 0.9742\n",
      "  TFLite Gzipped Model Size: 63.49 KB\n",
      "  TFLite Test Accuracy: 0.9742\n"
     ]
    },
    {
     "data": {
      "image/png": "[encoded data removed]",
      "text/plain": [
       "<Figure size 1000x600 with 1 Axes>"
      ]
     },
     "metadata": {},
     "output_type": "display_data"
    }
   ],
   "source": [
    "plot_size_v_accuracy(final_models, test_spectrogram_ds)"
   ]
  },
  {
   "cell_type": "code",
   "execution_count": null,
   "metadata": {},
   "outputs": [],
   "source": []
  },
  {
   "cell_type": "markdown",
   "metadata": {},
   "source": [
    "# Shrinking the model\n",
    "\n",
    "[deployment on the edge](https://ai.google.dev/edge/litert)\n",
    "\n",
    "[general model optimizations](https://www.tensorflow.org/model_optimization/guide)\n",
    "\n",
    "We will start off with pruning\n",
    "\n",
    "we will aslo try quantization aware training to quantize the model\n",
    "and we will also try different post-training quantizations\n",
    "\n",
    "we can also try weight clustering\n",
    "\n",
    "and finalyl we will try a single workflow with a combination of the previous methods\n",
    "[collaborative optimizations](https://www.tensorflow.org/model_optimization/guide/combine/collaborative_optimization)\n",
    "\n",
    "\n",
    "https://blog.tensorflow.org/2024/04/faster-dynamically-quantized-inference-with-xnnpack.html\n",
    "\n"
   ]
  },
  {
   "cell_type": "markdown",
   "metadata": {},
   "source": [
    "# Pruning"
   ]
  },
  {
   "cell_type": "code",
   "execution_count": 141,
   "metadata": {},
   "outputs": [],
   "source": [
    "### Helper functions for pruning\n",
    "\n",
    "def ds_to_numpy(dataset):\n",
    "    \"\"\"Converts a tf.data.Dataset to numpy arrays for data and labels.\"\"\"\n",
    "    data = []\n",
    "    labels = []\n",
    "    \n",
    "    for features, label in dataset:\n",
    "        data.append(features)\n",
    "        labels.append(label)\n",
    "\n",
    "    data = tf.concat(data, axis=0)\n",
    "    labels = tf.concat(labels, axis=0)\n",
    "    return data, labels\n",
    "\n",
    "def print_model_weights_sparsity(model):\n",
    "    \"\"\"Prints the sparsity (percentage of zeros) for each layer's weights in the model.\"\"\"\n",
    "    for layer in model.layers:\n",
    "        if isinstance(layer, keras.layers.Wrapper):  # For pruned layers wrapped in the pruning wrapper\n",
    "            weights = layer.trainable_weights\n",
    "        else:\n",
    "            weights = layer.weights\n",
    "        for weight in weights:\n",
    "            weight_np = weight.numpy()\n",
    "            weight_size = weight_np.size\n",
    "            zero_num = np.count_nonzero(weight_np == 0)\n",
    "            print(f\"{weight.name}: {zero_num / weight_size:.2%} sparsity ({zero_num}/{weight_size})\")\n",
    "            \n",
    "def sequential_to_functional(sequential_model):\n",
    "    # Extract the layers from the Sequential model\n",
    "    inputs = Input(shape=sequential_model.input_shape[1:])\n",
    "    x = inputs\n",
    "\n",
    "    # Apply each layer from the Sequential model in sequence\n",
    "    for layer in sequential_model.layers:\n",
    "        x = layer(x)\n",
    "    \n",
    "    # Create a new functional model\n",
    "    functional_model = Model(inputs=inputs, outputs=x)\n",
    "    \n",
    "    # Copy weights from the Sequential model\n",
    "    functional_model.set_weights(sequential_model.get_weights())\n",
    "\n",
    "    print(functional_model)\n",
    "    \n",
    "    return functional_model"
   ]
  },
  {
   "cell_type": "code",
   "execution_count": 162,
   "metadata": {},
   "outputs": [],
   "source": [
    "from tensorflow.keras.models import clone_model\n",
    "def prune_model(model, train_spectrogram_ds, test_spectrogram_ds):\n",
    "    \"\"\"Prunes the given model with optional quantization-aware training (QAT).\"\"\"\n",
    "    # Ensure model is compatible with pruning by converting it to functional if needed\n",
    "    #model = sequential_to_functional(model)\n",
    "    \n",
    "    # Convert datasets to numpy arrays\n",
    "    train_data, train_labels = ds_to_numpy(train_spectrogram_ds)\n",
    "    test_data, test_labels = ds_to_numpy(test_spectrogram_ds)\n",
    "    \n",
    "    prune_low_magnitude = tfmot.sparsity.keras.prune_low_magnitude\n",
    "\n",
    "    # Define pruning parameters\n",
    "    pruning_params = {\n",
    "        'pruning_schedule': tfmot.sparsity.keras.ConstantSparsity(0.5, begin_step=0, frequency=100)\n",
    "    }\n",
    "    \n",
    "    # Define pruning callbacks\n",
    "    callbacks = [tfmot.sparsity.keras.UpdatePruningStep()]\n",
    "    \n",
    "    pruned_model = prune_low_magnitude(model, **pruning_params)\n",
    "    \n",
    "    # Compile the pruned model with a smaller learning rate for fine-tuning\n",
    "    pruned_model.compile(\n",
    "        optimizer=keras.optimizers.Adam(learning_rate=1e-5),\n",
    "        loss=keras.losses.SparseCategoricalCrossentropy(),\n",
    "        metrics=['accuracy']\n",
    "    )\n",
    "    \n",
    "    # Display model summary\n",
    "    pruned_model.summary()\n",
    "    \n",
    "    # Fine-tune the pruned model\n",
    "    pruned_model.fit(\n",
    "        train_data,\n",
    "        train_labels,\n",
    "        epochs=3,\n",
    "        validation_split=0.1,\n",
    "        callbacks=callbacks\n",
    "    )\n",
    "    \n",
    "    # Strip pruning wrappers for final deployment\n",
    "    stripped_pruned_model = tfmot.sparsity.keras.strip_pruning(pruned_model)\n",
    "\n",
    "\n",
    "    # Apply pruning\n",
    "    #if qat:\n",
    "        # Quantization-aware training with pruning\n",
    "    #    quant_aware_annotate_model = tfmot.quantization.keras.quantize_annotate_model(model)\n",
    "    #    pruned_model = tfmot.quantization.keras.quantize_apply(\n",
    "    #        quant_aware_annotate_model,\n",
    "    #        tfmot.experimental.combine.Default8BitPrunePreserveQuantizeScheme()\n",
    "    #    )\n",
    "    \n",
    "\n",
    "    # Check sparsity levels\n",
    "    print_model_weights_sparsity(stripped_pruned_model)\n",
    "\n",
    "    # Evaluate the pruned model on test data\n",
    "    _, pruned_model_accuracy = pruned_model.evaluate(test_data, test_labels, verbose=0)\n",
    "    print(\"Pruned test accuracy:\", pruned_model_accuracy)\n",
    "\n",
    "    return stripped_pruned_model"
   ]
  },
  {
   "cell_type": "code",
   "execution_count": 164,
   "metadata": {},
   "outputs": [
    {
     "name": "stdout",
     "output_type": "stream",
     "text": [
      "Model: \"pruned_tiny_conv_model\"\n",
      "_________________________________________________________________\n",
      " Layer (type)                Output Shape              Param #   \n",
      "=================================================================\n",
      " input (InputLayer)          [(None, 1960)]            0         \n",
      "                                                                 \n",
      " prune_low_magnitude_reshape  (None, 49, 40, 1)        1         \n",
      "  (PruneLowMagnitude)                                            \n",
      "                                                                 \n",
      " prune_low_magnitude_conv1 (  (None, 25, 20, 8)        1290      \n",
      " PruneLowMagnitude)                                              \n",
      "                                                                 \n",
      " prune_low_magnitude_relu1 (  (None, 25, 20, 8)        1         \n",
      " PruneLowMagnitude)                                              \n",
      "                                                                 \n",
      " prune_low_magnitude_dropout  (None, 25, 20, 8)        1         \n",
      " 1 (PruneLowMagnitude)                                           \n",
      "                                                                 \n",
      " prune_low_magnitude_conv2 (  (None, 4, 3, 8)          10250     \n",
      " PruneLowMagnitude)                                              \n",
      "                                                                 \n",
      " prune_low_magnitude_relu2 (  (None, 4, 3, 8)          1         \n",
      " PruneLowMagnitude)                                              \n",
      "                                                                 \n",
      " prune_low_magnitude_dropout  (None, 4, 3, 8)          1         \n",
      " 2 (PruneLowMagnitude)                                           \n",
      "                                                                 \n",
      " prune_low_magnitude_flatten  (None, 96)               1         \n",
      "  (PruneLowMagnitude)                                            \n",
      "                                                                 \n",
      " prune_low_magnitude_final_f  (None, 4)                774       \n",
      " c (PruneLowMagnitude)                                           \n",
      "                                                                 \n",
      "=================================================================\n",
      "Total params: 12,320\n",
      "Trainable params: 6,164\n",
      "Non-trainable params: 6,156\n",
      "_________________________________________________________________\n",
      "Epoch 1/3\n",
      "4575/4575 [==============================] - 20s 4ms/step - loss: 0.2133 - accuracy: 0.9222 - val_loss: 0.1437 - val_accuracy: 0.9554\n",
      "Epoch 2/3\n",
      "4575/4575 [==============================] - 17s 4ms/step - loss: 0.1972 - accuracy: 0.9270 - val_loss: 0.1342 - val_accuracy: 0.9564\n",
      "Epoch 3/3\n",
      "4575/4575 [==============================] - 17s 4ms/step - loss: 0.1901 - accuracy: 0.9285 - val_loss: 0.1299 - val_accuracy: 0.9564\n",
      "conv1/kernel:0: 50.00% sparsity (320/640)\n",
      "conv1/bias:0: 0.00% sparsity (0/8)\n",
      "conv2/kernel:0: 50.00% sparsity (2560/5120)\n",
      "conv2/bias:0: 0.00% sparsity (0/8)\n",
      "final_fc/kernel:0: 50.00% sparsity (192/384)\n",
      "final_fc/bias:0: 0.00% sparsity (0/4)\n",
      "Pruned test accuracy: 0.9547013640403748\n",
      "Model: \"pruned_tiny_conv_model_small\"\n",
      "_________________________________________________________________\n",
      " Layer (type)                Output Shape              Param #   \n",
      "=================================================================\n",
      " input (InputLayer)          [(None, 1960)]            0         \n",
      "                                                                 \n",
      " prune_low_magnitude_reshape  (None, 49, 40, 1)        1         \n",
      "  (PruneLowMagnitude)                                            \n",
      "                                                                 \n",
      " prune_low_magnitude_conv (P  (None, 25, 20, 8)        1290      \n",
      " runeLowMagnitude)                                               \n",
      "                                                                 \n",
      " prune_low_magnitude_relu (P  (None, 25, 20, 8)        1         \n",
      " runeLowMagnitude)                                               \n",
      "                                                                 \n",
      " prune_low_magnitude_dropout  (None, 25, 20, 8)        1         \n",
      "  (PruneLowMagnitude)                                            \n",
      "                                                                 \n",
      " prune_low_magnitude_flatten  (None, 4000)             1         \n",
      "  (PruneLowMagnitude)                                            \n",
      "                                                                 \n",
      " prune_low_magnitude_final_f  (None, 4)                32006     \n",
      " c (PruneLowMagnitude)                                           \n",
      "                                                                 \n",
      "=================================================================\n",
      "Total params: 33,300\n",
      "Trainable params: 16,652\n",
      "Non-trainable params: 16,648\n",
      "_________________________________________________________________\n",
      "Epoch 1/3\n",
      "4575/4575 [==============================] - 16s 3ms/step - loss: 0.3247 - accuracy: 0.8979 - val_loss: 0.1067 - val_accuracy: 0.9668\n",
      "Epoch 2/3\n",
      "4575/4575 [==============================] - 14s 3ms/step - loss: 0.1715 - accuracy: 0.9356 - val_loss: 0.1009 - val_accuracy: 0.9686\n",
      "Epoch 3/3\n",
      "4575/4575 [==============================] - 13s 3ms/step - loss: 0.1661 - accuracy: 0.9370 - val_loss: 0.0983 - val_accuracy: 0.9693\n",
      "conv/kernel:0: 50.00% sparsity (320/640)\n",
      "conv/bias:0: 0.00% sparsity (0/8)\n",
      "final_fc/kernel:0: 50.00% sparsity (8000/16000)\n",
      "final_fc/bias:0: 0.00% sparsity (0/4)\n",
      "Pruned test accuracy: 0.9662842750549316\n"
     ]
    }
   ],
   "source": [
    "# Prune models and store in basic_pruned_models\n",
    "basic_pruned_models = []\n",
    "\n",
    "for model in final_models:\n",
    "    # Clone the model to avoid modifying the original model\n",
    "    model_name = model.name\n",
    "    cloned_model = clone_model(model)\n",
    "    cloned_model.set_weights(model.get_weights())  # Copy weights to the cloned model\n",
    "    cloned_model._name = \"pruned_\"+model_name\n",
    "    # Prune the cloned model\n",
    "    pruned_model = prune_model(cloned_model, train_spectrogram_ds, test_spectrogram_ds)\n",
    "    basic_pruned_models.append(pruned_model)"
   ]
  },
  {
   "cell_type": "code",
   "execution_count": 203,
   "metadata": {},
   "outputs": [
    {
     "name": "stderr",
     "output_type": "stream",
     "text": [
      "WARNING:absl:Found untraced functions such as _jit_compiled_convolution_op, _jit_compiled_convolution_op, _update_step_xla while saving (showing 3 of 3). These functions will not be directly callable after loading.\n"
     ]
    },
    {
     "name": "stdout",
     "output_type": "stream",
     "text": [
      "INFO:tensorflow:Assets written to: /scratch/1482407.1.academic-gpu/tmpfud8a66e/assets\n"
     ]
    },
    {
     "name": "stderr",
     "output_type": "stream",
     "text": [
      "INFO:tensorflow:Assets written to: /scratch/1482407.1.academic-gpu/tmpfud8a66e/assets\n"
     ]
    },
    {
     "name": "stdout",
     "output_type": "stream",
     "text": [
      "tf accuracy: 0.9547013906820613\n",
      "Model 1 (pruned_tiny_conv_model):\n",
      "  Gzipped Model Size: 17.20 KB\n",
      "  Test Accuracy: 0.9547\n",
      "  TFLite Gzipped Model Size: 15.91 KB\n",
      "  TFLite Test Accuracy: 0.9547\n"
     ]
    },
    {
     "name": "stderr",
     "output_type": "stream",
     "text": [
      "WARNING:absl:Found untraced functions such as _jit_compiled_convolution_op, _update_step_xla while saving (showing 2 of 2). These functions will not be directly callable after loading.\n"
     ]
    },
    {
     "name": "stdout",
     "output_type": "stream",
     "text": [
      "INFO:tensorflow:Assets written to: /scratch/1482407.1.academic-gpu/tmpu9b9cd5p/assets\n"
     ]
    },
    {
     "name": "stderr",
     "output_type": "stream",
     "text": [
      "INFO:tensorflow:Assets written to: /scratch/1482407.1.academic-gpu/tmpu9b9cd5p/assets\n"
     ]
    },
    {
     "name": "stdout",
     "output_type": "stream",
     "text": [
      "tf accuracy: 0.9662842598399055\n",
      "Model 2 (pruned_tiny_conv_model_small):\n",
      "  Gzipped Model Size: 40.15 KB\n",
      "  Test Accuracy: 0.9663\n",
      "  TFLite Gzipped Model Size: 38.18 KB\n",
      "  TFLite Test Accuracy: 0.9663\n"
     ]
    },
    {
     "data": {
      "image/png": "[encoded data removed]",
      "text/plain": [
       "<Figure size 1000x600 with 1 Axes>"
      ]
     },
     "metadata": {},
     "output_type": "display_data"
    }
   ],
   "source": [
    "plot_size_v_accuracy(basic_pruned_models, test_spectrogram_ds)"
   ]
  },
  {
   "cell_type": "markdown",
   "metadata": {},
   "source": [
    "# Weight Clustering"
   ]
  },
  {
   "cell_type": "code",
   "execution_count": 166,
   "metadata": {},
   "outputs": [],
   "source": [
    "from tensorflow_model_optimization.python.core.clustering.keras.experimental import (\n",
    "    cluster,\n",
    ")"
   ]
  },
  {
   "cell_type": "code",
   "execution_count": 167,
   "metadata": {},
   "outputs": [],
   "source": [
    "def cluster_model(model, train_spectrogram_ds, test_spectrogram_ds):\n",
    "    train_data, train_labels = ds_to_numpy(train_spectrogram_ds)\n",
    "    test_data, test_labels = ds_to_numpy(test_spectrogram_ds)\n",
    "    \n",
    "    cluster_weights = tfmot.clustering.keras.cluster_weights\n",
    "    CentroidInitialization = tfmot.clustering.keras.CentroidInitialization\n",
    "\n",
    "    cluster_weights = cluster.cluster_weights\n",
    "\n",
    "    clustering_params = {\n",
    "      'number_of_clusters': 10,\n",
    "      'cluster_centroids_init': CentroidInitialization.KMEANS_PLUS_PLUS,\n",
    "      'preserve_sparsity': True\n",
    "    }\n",
    "\n",
    "    sparsity_clustered_model = cluster_weights(model, **clustering_params)\n",
    "\n",
    "    sparsity_clustered_model.compile(optimizer='adam',\n",
    "                  loss=keras.losses.SparseCategoricalCrossentropy(),\n",
    "                  metrics=['accuracy'])\n",
    "\n",
    "    print('Train sparsity preserving clustering model:')\n",
    "    sparsity_clustered_model.fit(train_data, train_labels,epochs=3, validation_split=0.1)\n",
    "    \n",
    "    stripped_clustered_model = tfmot.clustering.keras.strip_clustering(sparsity_clustered_model)\n",
    "\n",
    "    return stripped_clustered_model\n"
   ]
  },
  {
   "cell_type": "code",
   "execution_count": 168,
   "metadata": {
    "scrolled": false
   },
   "outputs": [
    {
     "name": "stdout",
     "output_type": "stream",
     "text": [
      "Train sparsity preserving clustering model:\n",
      "Epoch 1/3\n",
      "4575/4575 [==============================] - 19s 4ms/step - loss: 0.1176 - accuracy: 0.9561 - val_loss: 0.0987 - val_accuracy: 0.9637\n",
      "Epoch 2/3\n",
      "4575/4575 [==============================] - 18s 4ms/step - loss: 0.1023 - accuracy: 0.9619 - val_loss: 0.0938 - val_accuracy: 0.9644\n",
      "Epoch 3/3\n",
      "4575/4575 [==============================] - 17s 4ms/step - loss: 0.0958 - accuracy: 0.9649 - val_loss: 0.1025 - val_accuracy: 0.9597\n",
      "Train sparsity preserving clustering model:\n",
      "Epoch 1/3\n",
      "4575/4575 [==============================] - 15s 3ms/step - loss: 0.0869 - accuracy: 0.9696 - val_loss: 0.0801 - val_accuracy: 0.9716\n",
      "Epoch 2/3\n",
      "4575/4575 [==============================] - 14s 3ms/step - loss: 0.0802 - accuracy: 0.9713 - val_loss: 0.0762 - val_accuracy: 0.9723\n",
      "Epoch 3/3\n",
      "4575/4575 [==============================] - 13s 3ms/step - loss: 0.0759 - accuracy: 0.9733 - val_loss: 0.0730 - val_accuracy: 0.9753\n"
     ]
    }
   ],
   "source": [
    "pruned_clustered_models = []\n",
    "\n",
    "for model in basic_pruned_models:\n",
    "    # Clone the model to avoid modifying the original model\n",
    "    model_name = model.name\n",
    "    cloned_model = clone_model(model)\n",
    "    cloned_model.set_weights(model.get_weights())  # Copy weights to the cloned model\n",
    "    cloned_model._name = \"clustered_\"+model_name\n",
    "    clustered_model = cluster_model(cloned_model, train_spectrogram_ds, test_spectrogram_ds)\n",
    "    pruned_clustered_models.append(clustered_model)\n"
   ]
  },
  {
   "cell_type": "code",
   "execution_count": 205,
   "metadata": {},
   "outputs": [
    {
     "name": "stderr",
     "output_type": "stream",
     "text": [
      "WARNING:absl:Found untraced functions such as _jit_compiled_convolution_op, _jit_compiled_convolution_op, _update_step_xla while saving (showing 3 of 3). These functions will not be directly callable after loading.\n"
     ]
    },
    {
     "name": "stdout",
     "output_type": "stream",
     "text": [
      "INFO:tensorflow:Assets written to: /scratch/1482407.1.academic-gpu/tmpz9h7a5w2/assets\n"
     ]
    },
    {
     "name": "stderr",
     "output_type": "stream",
     "text": [
      "INFO:tensorflow:Assets written to: /scratch/1482407.1.academic-gpu/tmpz9h7a5w2/assets\n"
     ]
    },
    {
     "name": "stdout",
     "output_type": "stream",
     "text": [
      "tf accuracy: 0.958537754989118\n",
      "Model 1 (clustered_pruned_tiny_conv_model):\n",
      "  Gzipped Model Size: 6.28 KB\n",
      "  Test Accuracy: 0.9585\n",
      "  TFLite Gzipped Model Size: 5.09 KB\n",
      "  TFLite Test Accuracy: 0.9585\n"
     ]
    },
    {
     "name": "stderr",
     "output_type": "stream",
     "text": [
      "WARNING:absl:Found untraced functions such as _jit_compiled_convolution_op, _update_step_xla while saving (showing 2 of 2). These functions will not be directly callable after loading.\n"
     ]
    },
    {
     "name": "stdout",
     "output_type": "stream",
     "text": [
      "INFO:tensorflow:Assets written to: /scratch/1482407.1.academic-gpu/tmpc36bi_y7/assets\n"
     ]
    },
    {
     "name": "stderr",
     "output_type": "stream",
     "text": [
      "INFO:tensorflow:Assets written to: /scratch/1482407.1.academic-gpu/tmpc36bi_y7/assets\n"
     ]
    },
    {
     "name": "stdout",
     "output_type": "stream",
     "text": [
      "tf accuracy: 0.9704157290936589\n",
      "Model 2 (clustered_pruned_tiny_conv_model_small):\n",
      "  Gzipped Model Size: 9.85 KB\n",
      "  Test Accuracy: 0.9704\n",
      "  TFLite Gzipped Model Size: 8.00 KB\n",
      "  TFLite Test Accuracy: 0.9704\n"
     ]
    },
    {
     "data": {
      "image/png": "[encoded data removed]",
      "text/plain": [
       "<Figure size 1000x600 with 1 Axes>"
      ]
     },
     "metadata": {},
     "output_type": "display_data"
    }
   ],
   "source": [
    "plot_size_v_accuracy(pruned_clustered_models, test_spectrogram_ds)"
   ]
  },
  {
   "cell_type": "code",
   "execution_count": 206,
   "metadata": {},
   "outputs": [
    {
     "data": {
      "text/plain": [
       "'\\nfor model in pruned_clustered_models:\\n    model.save(model.name + \"pc\")\\n    converter = tf.lite.TFLiteConverter.from_saved_model(model.name + \"pc\")  # Path to the SavedModel directory\\n    tflite_model = converter.convert()\\n    # Save the TensorFlow Lite model\\n    with open(model.name + \"pc.tflite\", \"wb\") as f:\\n        f.write(tflite_model)\\n\\n'"
      ]
     },
     "execution_count": 206,
     "metadata": {},
     "output_type": "execute_result"
    }
   ],
   "source": [
    "'''\n",
    "for model in pruned_clustered_models:\n",
    "    model.save(model.name + \"pc\")\n",
    "    converter = tf.lite.TFLiteConverter.from_saved_model(model.name + \"pc\")  # Path to the SavedModel directory\n",
    "    tflite_model = converter.convert()\n",
    "    # Save the TensorFlow Lite model\n",
    "    with open(model.name + \"pc.tflite\", \"wb\") as f:\n",
    "        f.write(tflite_model)\n",
    "\n",
    "'''"
   ]
  },
  {
   "cell_type": "markdown",
   "metadata": {},
   "source": [
    "## Pruning preserving quantization aware training (PQAT) and Sparsity and cluster preserving quantization aware training (PCQAT)\n",
    "https://www.tensorflow.org/model_optimization/guide/combine/pqat_example\n",
    "https://www.tensorflow.org/model_optimization/guide/combine/pcqat_example"
   ]
  },
  {
   "cell_type": "markdown",
   "metadata": {},
   "source": [
    "## Sparsity and cluster preserving quantization aware training\n",
    "https://www.tensorflow.org/model_optimization/guide/combine/pcqat_example"
   ]
  },
  {
   "cell_type": "markdown",
   "metadata": {},
   "source": [
    "# Quantize models"
   ]
  },
  {
   "cell_type": "markdown",
   "metadata": {},
   "source": [
    "https://www.tensorflow.org/model_optimization/guide\n",
    "\n",
    "https://blog.tensorflow.org/2024/04/faster-dynamically-quantized-inference-with-xnnpack.html\n",
    "\n",
    "\n",
    "we can also add some weight clustering?"
   ]
  },
  {
   "cell_type": "markdown",
   "metadata": {},
   "source": [
    "## quantization aware training quantized models with or without pruning\n",
    "https://www.tensorflow.org/model_optimization/guide/quantization/training_example\n",
    "\n",
    "https://www.tensorflow.org/model_optimization/guide/quantization/training_comprehensive_guide#quantize_some_layers"
   ]
  },
  {
   "cell_type": "code",
   "execution_count": 207,
   "metadata": {},
   "outputs": [],
   "source": [
    "def print_model_weights_sparsity(model):\n",
    "    for layer in model.layers:\n",
    "        if isinstance(layer, keras.layers.Wrapper):\n",
    "            weights = layer.trainable_weights\n",
    "        else:\n",
    "            weights = layer.weights\n",
    "        for weight in weights:\n",
    "            if \"kernel\" not in weight.name or \"centroid\" in weight.name:\n",
    "                continue\n",
    "            weight_size = weight.numpy().size\n",
    "            zero_num = np.count_nonzero(weight == 0)\n",
    "            print(\n",
    "                f\"{weight.name}: {zero_num/weight_size:.2%} sparsity \",\n",
    "                f\"({zero_num}/{weight_size})\",\n",
    "            )\n",
    "\n",
    "def print_model_weight_clusters(model):\n",
    "    for layer in model.layers:\n",
    "        if isinstance(layer, keras.layers.Wrapper):\n",
    "            weights = layer.trainable_weights\n",
    "        else:\n",
    "            weights = layer.weights\n",
    "        for weight in weights:\n",
    "            # ignore auxiliary quantization weights\n",
    "            if \"quantize_layer\" in weight.name:\n",
    "                continue\n",
    "            if \"kernel\" in weight.name:\n",
    "                unique_count = len(np.unique(weight))\n",
    "                print(\n",
    "                    f\"{layer.name}/{weight.name}: {unique_count} clusters \"\n",
    "                )"
   ]
  },
  {
   "cell_type": "code",
   "execution_count": 208,
   "metadata": {},
   "outputs": [],
   "source": [
    "#import tensorflow_model_optimization as tfmot\n",
    "\n",
    "#quantization aware training with int8 weights and uint8 activations.\n",
    "def qat(model, pruned = False, clustered = False, save = False, deployable = False):\n",
    "    \n",
    "    cloned_model = clone_model(model)\n",
    "    cloned_model.set_weights(model.get_weights())  # Copy weights to the cloned model\n",
    "    #cloned_model._name = \"clustered_\"+model_name\n",
    "            \n",
    "    # QAT\n",
    "    qat_model = tfmot.quantization.keras.quantize_model(cloned_model)\n",
    "\n",
    "    qat_model.compile(optimizer='adam',\n",
    "                  loss=keras.losses.SparseCategoricalCrossentropy(),\n",
    "                  metrics=['accuracy'])\n",
    "    print('Train qat model:')\n",
    "    \n",
    "    num_batches = tf.data.experimental.cardinality(train_spectrogram_ds).numpy()\n",
    "\n",
    "    qat_model.fit(train_spectrogram_ds, batch_size=64, epochs=1, validation_data=val_spectrogram_ds)\n",
    "    qat_model._name = \"qat_\"+cloned_model.name\n",
    "    \n",
    "    # PCQAT\n",
    "    quant_aware_annotate_model = tfmot.quantization.keras.quantize_annotate_model(\n",
    "                  cloned_model)\n",
    "    pcqat_model = tfmot.quantization.keras.quantize_apply(\n",
    "                  quant_aware_annotate_model,\n",
    "                  tfmot.experimental.combine.Default8BitClusterPreserveQuantizeScheme(preserve_sparsity=True))\n",
    "\n",
    "    pcqat_model.compile(optimizer='adam',\n",
    "                  loss=keras.losses.SparseCategoricalCrossentropy(),\n",
    "                  metrics=['accuracy'])\n",
    "    print('Train pcqat model:')\n",
    "    pcqat_model.fit(train_spectrogram_ds, batch_size=64, epochs=1, validation_data=val_spectrogram_ds)\n",
    "    pcqat_model._name = \"pcqat_\"+cloned_model.name\n",
    "    \n",
    "    print(\"QAT Model clusters:\")\n",
    "    print_model_weight_clusters(qat_model)\n",
    "    print(\"\\nQAT Model sparsity:\")\n",
    "    print_model_weights_sparsity(qat_model)\n",
    "    print(\"\\nPCQAT Model clusters:\")\n",
    "    print_model_weight_clusters(pcqat_model)\n",
    "    print(\"\\nPCQAT Model sparsity:\")\n",
    "    print_model_weights_sparsity(pcqat_model)\n",
    "    \n",
    "    if save:\n",
    "        if(not pruned and not clustered):\n",
    "            model_filename = f'{model.name}'\n",
    "        elif(pruned and not clustered):\n",
    "            model_filename = f'pruned_{model.name}'\n",
    "        elif(pruned and clustered):\n",
    "            model_filename = f'pruned_clustered_{model.name}'\n",
    "               \n",
    "        if not deployable:\n",
    "            # QAT model\n",
    "            converter = tf.lite.TFLiteConverter.from_keras_model(qat_model)\n",
    "            converter.optimizations = [tf.lite.Optimize.DEFAULT]\n",
    "            qat_tflite_model = converter.convert()\n",
    "            qat_model_file = f'{model_filename}_qat_model.tflite'\n",
    "            # Save the model.\n",
    "            with open(qat_model_file, 'wb') as f:\n",
    "                f.write(qat_tflite_model)\n",
    "\n",
    "            # PCQAT model\n",
    "            converter = tf.lite.TFLiteConverter.from_keras_model(pcqat_model)\n",
    "            converter.optimizations = [tf.lite.Optimize.DEFAULT]\n",
    "            pcqat_tflite_model = converter.convert()\n",
    "            pcqat_model_file = f'{model_filename}_pcqat_model.tflite'\n",
    "            # Save the model.\n",
    "            with open(pcqat_model_file, 'wb') as f:\n",
    "                f.write(pcqat_tflite_model)\n",
    "                \n",
    "                \n",
    "        if deployable:\n",
    "            deploy(qat_model)\n",
    "            deploy(pcqat_model)\n",
    "                \n",
    "            \n",
    "            '''   \n",
    "            def representative_dataset():\n",
    "                for spectrogram, _ in train_spectrogram_ds:\n",
    "                    spectrogram = np.array(spectrogram, dtype=np.float32)\n",
    "                    for spec in spectrogram:\n",
    "                        spec_re = spec.reshape(1, 1960)\n",
    "                        yield [spec_re]\n",
    "                        \n",
    "            # QAT model\n",
    "            converter = tf.lite.TFLiteConverter.from_keras_model(qat_model)\n",
    "            converter.optimizations = [tf.lite.Optimize.DEFAULT]\n",
    "            converter.representative_dataset = representative_dataset\n",
    "            converter.target_spec.supported_ops = [tf.lite.OpsSet.TFLITE_BUILTINS_INT8]\n",
    "            converter.inference_input_type = tf.int8\n",
    "            converter.inference_output_type = tf.int8\n",
    "            qat_tflite_model = converter.convert()\n",
    "            qat_model_file = f'{model_filename}_qat_model.tflite'\n",
    "            # Save the model.\n",
    "            with open(qat_model_file, 'wb') as f:\n",
    "                f.write(qat_tflite_model)\n",
    "\n",
    "            # PCQAT model\n",
    "            converter = tf.lite.TFLiteConverter.from_keras_model(pcqat_model)\n",
    "            converter.optimizations = [tf.lite.Optimize.DEFAULT]\n",
    "            converter.representative_dataset = representative_dataset\n",
    "            converter.target_spec.supported_ops = [tf.lite.OpsSet.TFLITE_BUILTINS_INT8]\n",
    "            converter.inference_input_type = tf.int8\n",
    "            converter.inference_output_type = tf.int8\n",
    "            pcqat_tflite_model = converter.convert()\n",
    "            pcqat_model_file = f'{model_filename}_pcqat_model.tflite'\n",
    "            # Save the model.\n",
    "            with open(pcqat_model_file, 'wb') as f:\n",
    "                f.write(pcqat_tflite_model)\n",
    "            '''\n",
    "\n",
    "\n",
    "    return qat_model, pcqat_model"
   ]
  },
  {
   "cell_type": "code",
   "execution_count": 216,
   "metadata": {},
   "outputs": [
    {
     "data": {
      "text/plain": [
       "\"\\n# Evaluate the TFLite quantized model\\ndef evaluate_tflite_model(interpreter, dataset):\\n    input_details = interpreter.get_input_details()\\n    output_details = interpreter.get_output_details()\\n\\n    total_samples = 0\\n    correct_predictions = 0\\n\\n    for spectrograms, labels in dataset:\\n        input_data = spectrograms.numpy().astype('uint8')\\n        interpreter.set_tensor(input_details[0]['index'], input_data)\\n        interpreter.invoke()\\n        predictions = interpreter.get_tensor(output_details[0]['index'])\\n        predicted_labels = tf.argmax(predictions, axis=1)\\n        correct_predictions += tf.reduce_sum(tf.cast(predicted_labels == labels, tf.int32)).numpy()\\n        total_samples += labels.shape[0]\\n\\n    accuracy = correct_predictions / total_samples\\n    return accuracy\\n\""
      ]
     },
     "execution_count": 216,
     "metadata": {},
     "output_type": "execute_result"
    }
   ],
   "source": [
    "'''\n",
    "# Evaluate the TFLite quantized model\n",
    "def evaluate_tflite_model(interpreter, dataset):\n",
    "    input_details = interpreter.get_input_details()\n",
    "    output_details = interpreter.get_output_details()\n",
    "\n",
    "    total_samples = 0\n",
    "    correct_predictions = 0\n",
    "\n",
    "    for spectrograms, labels in dataset:\n",
    "        input_data = spectrograms.numpy().astype('uint8')\n",
    "        interpreter.set_tensor(input_details[0]['index'], input_data)\n",
    "        interpreter.invoke()\n",
    "        predictions = interpreter.get_tensor(output_details[0]['index'])\n",
    "        predicted_labels = tf.argmax(predictions, axis=1)\n",
    "        correct_predictions += tf.reduce_sum(tf.cast(predicted_labels == labels, tf.int32)).numpy()\n",
    "        total_samples += labels.shape[0]\n",
    "\n",
    "    accuracy = correct_predictions / total_samples\n",
    "    return accuracy\n",
    "'''"
   ]
  },
  {
   "cell_type": "code",
   "execution_count": 209,
   "metadata": {
    "scrolled": true
   },
   "outputs": [
    {
     "name": "stdout",
     "output_type": "stream",
     "text": [
      "Train qat model:\n",
      "2542/2542 [==============================] - 11s 4ms/step - loss: 0.1556 - accuracy: 0.9411 - val_loss: 0.1053 - val_accuracy: 0.9645\n"
     ]
    },
    {
     "name": "stderr",
     "output_type": "stream",
     "text": [
      "WARNING:root:Input layer does not contain zero weights, so apply CQAT instead.\n"
     ]
    },
    {
     "name": "stdout",
     "output_type": "stream",
     "text": [
      "Train pcqat model:\n",
      "WARNING:tensorflow:Gradients do not exist for variables ['final_fc/kernel:0'] when minimizing the loss. If you're using `model.compile()`, did you forget to provide a `loss` argument?\n"
     ]
    },
    {
     "name": "stderr",
     "output_type": "stream",
     "text": [
      "WARNING:tensorflow:Gradients do not exist for variables ['final_fc/kernel:0'] when minimizing the loss. If you're using `model.compile()`, did you forget to provide a `loss` argument?\n"
     ]
    },
    {
     "name": "stdout",
     "output_type": "stream",
     "text": [
      "WARNING:tensorflow:Gradients do not exist for variables ['final_fc/kernel:0'] when minimizing the loss. If you're using `model.compile()`, did you forget to provide a `loss` argument?\n"
     ]
    },
    {
     "name": "stderr",
     "output_type": "stream",
     "text": [
      "WARNING:tensorflow:Gradients do not exist for variables ['final_fc/kernel:0'] when minimizing the loss. If you're using `model.compile()`, did you forget to provide a `loss` argument?\n"
     ]
    },
    {
     "name": "stdout",
     "output_type": "stream",
     "text": [
      "WARNING:tensorflow:Gradients do not exist for variables ['final_fc/kernel:0'] when minimizing the loss. If you're using `model.compile()`, did you forget to provide a `loss` argument?\n"
     ]
    },
    {
     "name": "stderr",
     "output_type": "stream",
     "text": [
      "WARNING:tensorflow:Gradients do not exist for variables ['final_fc/kernel:0'] when minimizing the loss. If you're using `model.compile()`, did you forget to provide a `loss` argument?\n"
     ]
    },
    {
     "name": "stdout",
     "output_type": "stream",
     "text": [
      "WARNING:tensorflow:Gradients do not exist for variables ['final_fc/kernel:0'] when minimizing the loss. If you're using `model.compile()`, did you forget to provide a `loss` argument?\n"
     ]
    },
    {
     "name": "stderr",
     "output_type": "stream",
     "text": [
      "WARNING:tensorflow:Gradients do not exist for variables ['final_fc/kernel:0'] when minimizing the loss. If you're using `model.compile()`, did you forget to provide a `loss` argument?\n"
     ]
    },
    {
     "name": "stdout",
     "output_type": "stream",
     "text": [
      "2542/2542 [==============================] - 26s 10ms/step - loss: 0.1535 - accuracy: 0.9420 - val_loss: 0.1145 - val_accuracy: 0.9603\n",
      "QAT Model clusters:\n",
      "quant_conv1/conv1/kernel:0: 640 clusters \n",
      "quant_conv2/conv2/kernel:0: 5120 clusters \n",
      "quant_final_fc/final_fc/kernel:0: 384 clusters \n",
      "\n",
      "QAT Model sparsity:\n",
      "conv1/kernel:0: 0.00% sparsity  (0/640)\n",
      "conv2/kernel:0: 0.00% sparsity  (0/5120)\n",
      "final_fc/kernel:0: 0.00% sparsity  (0/384)\n",
      "\n",
      "PCQAT Model clusters:\n",
      "quant_conv1/conv1/kernel:0: 640 clusters \n",
      "quant_conv2/conv2/kernel:0: 5120 clusters \n",
      "quant_final_fc/final_fc/kernel:0: 291 clusters \n",
      "\n",
      "PCQAT Model sparsity:\n",
      "conv1/kernel:0: 0.00% sparsity  (0/640)\n",
      "conv2/kernel:0: 0.00% sparsity  (0/5120)\n",
      "final_fc/kernel:0: 0.00% sparsity  (0/384)\n"
     ]
    },
    {
     "name": "stderr",
     "output_type": "stream",
     "text": [
      "WARNING:absl:Found untraced functions such as reshape_layer_call_fn, reshape_layer_call_and_return_conditional_losses, conv1_layer_call_fn, conv1_layer_call_and_return_conditional_losses, _jit_compiled_convolution_op while saving (showing 5 of 20). These functions will not be directly callable after loading.\n"
     ]
    },
    {
     "name": "stdout",
     "output_type": "stream",
     "text": [
      "INFO:tensorflow:Assets written to: qat_tiny_conv_model_deployable/assets\n"
     ]
    },
    {
     "name": "stderr",
     "output_type": "stream",
     "text": [
      "INFO:tensorflow:Assets written to: qat_tiny_conv_model_deployable/assets\n"
     ]
    },
    {
     "name": "stdout",
     "output_type": "stream",
     "text": [
      "Model size: 7.43\n",
      "Input details: [{'name': 'serving_default_input:0', 'index': 0, 'shape': array([   1, 1960], dtype=int32), 'shape_signature': array([  -1, 1960], dtype=int32), 'dtype': <class 'numpy.int8'>, 'quantization': (0.003921568859368563, -128), 'quantization_parameters': {'scales': array([0.00392157], dtype=float32), 'zero_points': array([-128], dtype=int32), 'quantized_dimension': 0}, 'sparsity_parameters': {}}]\n",
      "Output details: [{'name': 'StatefulPartitionedCall:0', 'index': 21, 'shape': array([1, 4], dtype=int32), 'shape_signature': array([-1,  4], dtype=int32), 'dtype': <class 'numpy.int8'>, 'quantization': (0.00390625, -128), 'quantization_parameters': {'scales': array([0.00390625], dtype=float32), 'zero_points': array([-128], dtype=int32), 'quantized_dimension': 0}, 'sparsity_parameters': {}}]\n"
     ]
    },
    {
     "name": "stderr",
     "output_type": "stream",
     "text": [
      "fully_quantize: 0, inference_type: 6, input_inference_type: INT8, output_inference_type: INT8\n",
      "WARNING:absl:Found untraced functions such as reshape_layer_call_fn, reshape_layer_call_and_return_conditional_losses, conv1_layer_call_fn, conv1_layer_call_and_return_conditional_losses, _jit_compiled_convolution_op while saving (showing 5 of 20). These functions will not be directly callable after loading.\n"
     ]
    },
    {
     "name": "stdout",
     "output_type": "stream",
     "text": [
      "INFO:tensorflow:Assets written to: pcqat_tiny_conv_model_deployable/assets\n"
     ]
    },
    {
     "name": "stderr",
     "output_type": "stream",
     "text": [
      "INFO:tensorflow:Assets written to: pcqat_tiny_conv_model_deployable/assets\n"
     ]
    },
    {
     "name": "stdout",
     "output_type": "stream",
     "text": [
      "Model size: 7.441\n",
      "Input details: [{'name': 'serving_default_input:0', 'index': 0, 'shape': array([   1, 1960], dtype=int32), 'shape_signature': array([  -1, 1960], dtype=int32), 'dtype': <class 'numpy.int8'>, 'quantization': (0.003921568859368563, -128), 'quantization_parameters': {'scales': array([0.00392157], dtype=float32), 'zero_points': array([-128], dtype=int32), 'quantized_dimension': 0}, 'sparsity_parameters': {}}]\n",
      "Output details: [{'name': 'StatefulPartitionedCall:0', 'index': 21, 'shape': array([1, 4], dtype=int32), 'shape_signature': array([-1,  4], dtype=int32), 'dtype': <class 'numpy.int8'>, 'quantization': (0.00390625, -128), 'quantization_parameters': {'scales': array([0.00390625], dtype=float32), 'zero_points': array([-128], dtype=int32), 'quantized_dimension': 0}, 'sparsity_parameters': {}}]\n"
     ]
    },
    {
     "name": "stderr",
     "output_type": "stream",
     "text": [
      "fully_quantize: 0, inference_type: 6, input_inference_type: INT8, output_inference_type: INT8\n"
     ]
    },
    {
     "name": "stdout",
     "output_type": "stream",
     "text": [
      "Train qat model:\n",
      "2542/2542 [==============================] - 8s 3ms/step - loss: 0.1287 - accuracy: 0.9531 - val_loss: 0.0816 - val_accuracy: 0.9702\n"
     ]
    },
    {
     "name": "stderr",
     "output_type": "stream",
     "text": [
      "WARNING:root:Input layer does not contain zero weights, so apply CQAT instead.\n"
     ]
    },
    {
     "name": "stdout",
     "output_type": "stream",
     "text": [
      "Train pcqat model:\n"
     ]
    },
    {
     "name": "stderr",
     "output_type": "stream",
     "text": [
      "/usr4/cs640/adamkam/.local/lib/python3.10/site-packages/tensorflow_model_optimization/python/core/quantization/keras/collab_opts/cluster_preserve/cluster_preserve_quantize_registry.py:364: UserWarning: No clustering performed on layer quant_final_fc.\n",
      "Too many centroids to cluster.\n",
      "  warnings.warn(f'No clustering performed on layer {layer.name}.\\n'\n"
     ]
    },
    {
     "name": "stdout",
     "output_type": "stream",
     "text": [
      "2542/2542 [==============================] - 8s 3ms/step - loss: 0.1254 - accuracy: 0.9545 - val_loss: 0.0827 - val_accuracy: 0.9726\n",
      "QAT Model clusters:\n",
      "quant_conv/conv/kernel:0: 640 clusters \n",
      "quant_final_fc/final_fc/kernel:0: 16000 clusters \n",
      "\n",
      "QAT Model sparsity:\n",
      "conv/kernel:0: 0.00% sparsity  (0/640)\n",
      "final_fc/kernel:0: 0.00% sparsity  (0/16000)\n",
      "\n",
      "PCQAT Model clusters:\n",
      "quant_conv/conv/kernel:0: 640 clusters \n",
      "quant_final_fc/final_fc/kernel:0: 15999 clusters \n",
      "\n",
      "PCQAT Model sparsity:\n",
      "conv/kernel:0: 0.00% sparsity  (0/640)\n",
      "final_fc/kernel:0: 0.00% sparsity  (0/16000)\n"
     ]
    },
    {
     "name": "stderr",
     "output_type": "stream",
     "text": [
      "WARNING:absl:Found untraced functions such as reshape_layer_call_fn, reshape_layer_call_and_return_conditional_losses, conv_layer_call_fn, conv_layer_call_and_return_conditional_losses, _jit_compiled_convolution_op while saving (showing 5 of 13). These functions will not be directly callable after loading.\n"
     ]
    },
    {
     "name": "stdout",
     "output_type": "stream",
     "text": [
      "INFO:tensorflow:Assets written to: qat_tiny_conv_model_small_deployable/assets\n"
     ]
    },
    {
     "name": "stderr",
     "output_type": "stream",
     "text": [
      "INFO:tensorflow:Assets written to: qat_tiny_conv_model_small_deployable/assets\n"
     ]
    },
    {
     "name": "stdout",
     "output_type": "stream",
     "text": [
      "Model size: 15.165\n",
      "Input details: [{'name': 'serving_default_input:0', 'index': 0, 'shape': array([   1, 1960], dtype=int32), 'shape_signature': array([  -1, 1960], dtype=int32), 'dtype': <class 'numpy.int8'>, 'quantization': (0.003921568859368563, -128), 'quantization_parameters': {'scales': array([0.00392157], dtype=float32), 'zero_points': array([-128], dtype=int32), 'quantized_dimension': 0}, 'sparsity_parameters': {}}]\n",
      "Output details: [{'name': 'StatefulPartitionedCall:0', 'index': 18, 'shape': array([1, 4], dtype=int32), 'shape_signature': array([-1,  4], dtype=int32), 'dtype': <class 'numpy.int8'>, 'quantization': (0.00390625, -128), 'quantization_parameters': {'scales': array([0.00390625], dtype=float32), 'zero_points': array([-128], dtype=int32), 'quantized_dimension': 0}, 'sparsity_parameters': {}}]\n"
     ]
    },
    {
     "name": "stderr",
     "output_type": "stream",
     "text": [
      "fully_quantize: 0, inference_type: 6, input_inference_type: INT8, output_inference_type: INT8\n",
      "WARNING:absl:Found untraced functions such as reshape_layer_call_fn, reshape_layer_call_and_return_conditional_losses, conv_layer_call_fn, conv_layer_call_and_return_conditional_losses, _jit_compiled_convolution_op while saving (showing 5 of 13). These functions will not be directly callable after loading.\n"
     ]
    },
    {
     "name": "stdout",
     "output_type": "stream",
     "text": [
      "INFO:tensorflow:Assets written to: pcqat_tiny_conv_model_small_deployable/assets\n"
     ]
    },
    {
     "name": "stderr",
     "output_type": "stream",
     "text": [
      "INFO:tensorflow:Assets written to: pcqat_tiny_conv_model_small_deployable/assets\n"
     ]
    },
    {
     "name": "stdout",
     "output_type": "stream",
     "text": [
      "Model size: 15.102\n",
      "Input details: [{'name': 'serving_default_input:0', 'index': 0, 'shape': array([   1, 1960], dtype=int32), 'shape_signature': array([  -1, 1960], dtype=int32), 'dtype': <class 'numpy.int8'>, 'quantization': (0.003921568859368563, -128), 'quantization_parameters': {'scales': array([0.00392157], dtype=float32), 'zero_points': array([-128], dtype=int32), 'quantized_dimension': 0}, 'sparsity_parameters': {}}]\n",
      "Output details: [{'name': 'StatefulPartitionedCall:0', 'index': 18, 'shape': array([1, 4], dtype=int32), 'shape_signature': array([-1,  4], dtype=int32), 'dtype': <class 'numpy.int8'>, 'quantization': (0.00390625, -128), 'quantization_parameters': {'scales': array([0.00390625], dtype=float32), 'zero_points': array([-128], dtype=int32), 'quantized_dimension': 0}, 'sparsity_parameters': {}}]\n"
     ]
    },
    {
     "name": "stderr",
     "output_type": "stream",
     "text": [
      "fully_quantize: 0, inference_type: 6, input_inference_type: INT8, output_inference_type: INT8\n"
     ]
    },
    {
     "name": "stdout",
     "output_type": "stream",
     "text": [
      "Train qat model:\n",
      "2542/2542 [==============================] - 10s 3ms/step - loss: 0.1581 - accuracy: 0.9392 - val_loss: 0.1050 - val_accuracy: 0.9583\n",
      "Train pcqat model:\n",
      "WARNING:tensorflow:Gradients do not exist for variables ['final_fc/kernel:0'] when minimizing the loss. If you're using `model.compile()`, did you forget to provide a `loss` argument?\n"
     ]
    },
    {
     "name": "stderr",
     "output_type": "stream",
     "text": [
      "WARNING:tensorflow:Gradients do not exist for variables ['final_fc/kernel:0'] when minimizing the loss. If you're using `model.compile()`, did you forget to provide a `loss` argument?\n"
     ]
    },
    {
     "name": "stdout",
     "output_type": "stream",
     "text": [
      "WARNING:tensorflow:Gradients do not exist for variables ['final_fc/kernel:0'] when minimizing the loss. If you're using `model.compile()`, did you forget to provide a `loss` argument?\n"
     ]
    },
    {
     "name": "stderr",
     "output_type": "stream",
     "text": [
      "WARNING:tensorflow:Gradients do not exist for variables ['final_fc/kernel:0'] when minimizing the loss. If you're using `model.compile()`, did you forget to provide a `loss` argument?\n"
     ]
    },
    {
     "name": "stdout",
     "output_type": "stream",
     "text": [
      "WARNING:tensorflow:Gradients do not exist for variables ['final_fc/kernel:0'] when minimizing the loss. If you're using `model.compile()`, did you forget to provide a `loss` argument?\n"
     ]
    },
    {
     "name": "stderr",
     "output_type": "stream",
     "text": [
      "WARNING:tensorflow:Gradients do not exist for variables ['final_fc/kernel:0'] when minimizing the loss. If you're using `model.compile()`, did you forget to provide a `loss` argument?\n"
     ]
    },
    {
     "name": "stdout",
     "output_type": "stream",
     "text": [
      "WARNING:tensorflow:Gradients do not exist for variables ['final_fc/kernel:0'] when minimizing the loss. If you're using `model.compile()`, did you forget to provide a `loss` argument?\n"
     ]
    },
    {
     "name": "stderr",
     "output_type": "stream",
     "text": [
      "WARNING:tensorflow:Gradients do not exist for variables ['final_fc/kernel:0'] when minimizing the loss. If you're using `model.compile()`, did you forget to provide a `loss` argument?\n"
     ]
    },
    {
     "name": "stdout",
     "output_type": "stream",
     "text": [
      "2542/2542 [==============================] - 11s 4ms/step - loss: 0.1797 - accuracy: 0.9284 - val_loss: 0.1234 - val_accuracy: 0.9528\n",
      "QAT Model clusters:\n",
      "quant_conv1/conv1/kernel:0: 481 clusters \n",
      "quant_conv2/conv2/kernel:0: 3841 clusters \n",
      "quant_final_fc/final_fc/kernel:0: 384 clusters \n",
      "\n",
      "QAT Model sparsity:\n",
      "conv1/kernel:0: 25.00% sparsity  (160/640)\n",
      "conv2/kernel:0: 25.00% sparsity  (1280/5120)\n",
      "final_fc/kernel:0: 0.00% sparsity  (0/384)\n",
      "\n",
      "PCQAT Model clusters:\n",
      "quant_conv1/conv1/kernel:0: 481 clusters \n",
      "quant_conv2/conv2/kernel:0: 3841 clusters \n",
      "quant_final_fc/final_fc/kernel:0: 193 clusters \n",
      "\n",
      "PCQAT Model sparsity:\n",
      "conv1/kernel:0: 25.00% sparsity  (160/640)\n",
      "conv2/kernel:0: 25.00% sparsity  (1280/5120)\n",
      "final_fc/kernel:0: 50.00% sparsity  (192/384)\n"
     ]
    },
    {
     "name": "stderr",
     "output_type": "stream",
     "text": [
      "WARNING:absl:Found untraced functions such as reshape_layer_call_fn, reshape_layer_call_and_return_conditional_losses, conv1_layer_call_fn, conv1_layer_call_and_return_conditional_losses, _jit_compiled_convolution_op while saving (showing 5 of 20). These functions will not be directly callable after loading.\n"
     ]
    },
    {
     "name": "stdout",
     "output_type": "stream",
     "text": [
      "INFO:tensorflow:Assets written to: /scratch/1482407.1.academic-gpu/tmpbco1u0kf/assets\n"
     ]
    },
    {
     "name": "stderr",
     "output_type": "stream",
     "text": [
      "INFO:tensorflow:Assets written to: /scratch/1482407.1.academic-gpu/tmpbco1u0kf/assets\n",
      "/share/pkg.7/tensorflow/2.11.0/install/lib/SCC/../python3.10/site-packages/tensorflow/lite/python/convert.py:765: UserWarning: Statistics for quantized inputs were expected, but not specified; continuing anyway.\n",
      "  warnings.warn(\"Statistics for quantized inputs were expected, but not \"\n",
      "WARNING:absl:Found untraced functions such as reshape_layer_call_fn, reshape_layer_call_and_return_conditional_losses, conv1_layer_call_fn, conv1_layer_call_and_return_conditional_losses, _jit_compiled_convolution_op while saving (showing 5 of 20). These functions will not be directly callable after loading.\n"
     ]
    },
    {
     "name": "stdout",
     "output_type": "stream",
     "text": [
      "INFO:tensorflow:Assets written to: /scratch/1482407.1.academic-gpu/tmpg65br6sd/assets\n"
     ]
    },
    {
     "name": "stderr",
     "output_type": "stream",
     "text": [
      "INFO:tensorflow:Assets written to: /scratch/1482407.1.academic-gpu/tmpg65br6sd/assets\n",
      "/share/pkg.7/tensorflow/2.11.0/install/lib/SCC/../python3.10/site-packages/tensorflow/lite/python/convert.py:765: UserWarning: Statistics for quantized inputs were expected, but not specified; continuing anyway.\n",
      "  warnings.warn(\"Statistics for quantized inputs were expected, but not \"\n"
     ]
    },
    {
     "name": "stdout",
     "output_type": "stream",
     "text": [
      "Train qat model:\n",
      "2542/2542 [==============================] - 8s 3ms/step - loss: 0.1360 - accuracy: 0.9490 - val_loss: 0.1013 - val_accuracy: 0.9664\n",
      "Train pcqat model:\n"
     ]
    },
    {
     "name": "stderr",
     "output_type": "stream",
     "text": [
      "/usr4/cs640/adamkam/.local/lib/python3.10/site-packages/tensorflow_model_optimization/python/core/quantization/keras/collab_opts/cluster_preserve/cluster_preserve_quantize_registry.py:364: UserWarning: No clustering performed on layer quant_final_fc.\n",
      "Too many centroids to cluster.\n",
      "  warnings.warn(f'No clustering performed on layer {layer.name}.\\n'\n"
     ]
    },
    {
     "name": "stdout",
     "output_type": "stream",
     "text": [
      "2542/2542 [==============================] - 8s 3ms/step - loss: 0.1490 - accuracy: 0.9419 - val_loss: 0.1057 - val_accuracy: 0.9545\n",
      "QAT Model clusters:\n",
      "quant_conv/conv/kernel:0: 640 clusters \n",
      "quant_final_fc/final_fc/kernel:0: 15998 clusters \n",
      "\n",
      "QAT Model sparsity:\n",
      "conv/kernel:0: 0.00% sparsity  (0/640)\n",
      "final_fc/kernel:0: 0.02% sparsity  (3/16000)\n",
      "\n",
      "PCQAT Model clusters:\n",
      "quant_conv/conv/kernel:0: 640 clusters \n",
      "quant_final_fc/final_fc/kernel:0: 8000 clusters \n",
      "\n",
      "PCQAT Model sparsity:\n",
      "conv/kernel:0: 0.00% sparsity  (0/640)\n",
      "final_fc/kernel:0: 50.00% sparsity  (8000/16000)\n"
     ]
    },
    {
     "name": "stderr",
     "output_type": "stream",
     "text": [
      "WARNING:absl:Found untraced functions such as reshape_layer_call_fn, reshape_layer_call_and_return_conditional_losses, conv_layer_call_fn, conv_layer_call_and_return_conditional_losses, _jit_compiled_convolution_op while saving (showing 5 of 13). These functions will not be directly callable after loading.\n"
     ]
    },
    {
     "name": "stdout",
     "output_type": "stream",
     "text": [
      "INFO:tensorflow:Assets written to: /scratch/1482407.1.academic-gpu/tmplar9der8/assets\n"
     ]
    },
    {
     "name": "stderr",
     "output_type": "stream",
     "text": [
      "INFO:tensorflow:Assets written to: /scratch/1482407.1.academic-gpu/tmplar9der8/assets\n",
      "/share/pkg.7/tensorflow/2.11.0/install/lib/SCC/../python3.10/site-packages/tensorflow/lite/python/convert.py:765: UserWarning: Statistics for quantized inputs were expected, but not specified; continuing anyway.\n",
      "  warnings.warn(\"Statistics for quantized inputs were expected, but not \"\n",
      "WARNING:absl:Found untraced functions such as reshape_layer_call_fn, reshape_layer_call_and_return_conditional_losses, conv_layer_call_fn, conv_layer_call_and_return_conditional_losses, _jit_compiled_convolution_op while saving (showing 5 of 13). These functions will not be directly callable after loading.\n"
     ]
    },
    {
     "name": "stdout",
     "output_type": "stream",
     "text": [
      "INFO:tensorflow:Assets written to: /scratch/1482407.1.academic-gpu/tmpxo4k0it6/assets\n"
     ]
    },
    {
     "name": "stderr",
     "output_type": "stream",
     "text": [
      "INFO:tensorflow:Assets written to: /scratch/1482407.1.academic-gpu/tmpxo4k0it6/assets\n",
      "/share/pkg.7/tensorflow/2.11.0/install/lib/SCC/../python3.10/site-packages/tensorflow/lite/python/convert.py:765: UserWarning: Statistics for quantized inputs were expected, but not specified; continuing anyway.\n",
      "  warnings.warn(\"Statistics for quantized inputs were expected, but not \"\n"
     ]
    },
    {
     "name": "stdout",
     "output_type": "stream",
     "text": [
      "Train qat model:\n",
      "2542/2542 [==============================] - 12s 4ms/step - loss: 0.1726 - accuracy: 0.9339 - val_loss: 0.1050 - val_accuracy: 0.9606\n",
      "Train pcqat model:\n",
      "WARNING:tensorflow:Gradients do not exist for variables ['final_fc/kernel:0'] when minimizing the loss. If you're using `model.compile()`, did you forget to provide a `loss` argument?\n"
     ]
    },
    {
     "name": "stderr",
     "output_type": "stream",
     "text": [
      "WARNING:tensorflow:Gradients do not exist for variables ['final_fc/kernel:0'] when minimizing the loss. If you're using `model.compile()`, did you forget to provide a `loss` argument?\n"
     ]
    },
    {
     "name": "stdout",
     "output_type": "stream",
     "text": [
      "WARNING:tensorflow:Gradients do not exist for variables ['final_fc/kernel:0'] when minimizing the loss. If you're using `model.compile()`, did you forget to provide a `loss` argument?\n"
     ]
    },
    {
     "name": "stderr",
     "output_type": "stream",
     "text": [
      "WARNING:tensorflow:Gradients do not exist for variables ['final_fc/kernel:0'] when minimizing the loss. If you're using `model.compile()`, did you forget to provide a `loss` argument?\n"
     ]
    },
    {
     "name": "stdout",
     "output_type": "stream",
     "text": [
      "WARNING:tensorflow:Gradients do not exist for variables ['final_fc/kernel:0'] when minimizing the loss. If you're using `model.compile()`, did you forget to provide a `loss` argument?\n"
     ]
    },
    {
     "name": "stderr",
     "output_type": "stream",
     "text": [
      "WARNING:tensorflow:Gradients do not exist for variables ['final_fc/kernel:0'] when minimizing the loss. If you're using `model.compile()`, did you forget to provide a `loss` argument?\n"
     ]
    },
    {
     "name": "stdout",
     "output_type": "stream",
     "text": [
      "WARNING:tensorflow:Gradients do not exist for variables ['final_fc/kernel:0'] when minimizing the loss. If you're using `model.compile()`, did you forget to provide a `loss` argument?\n"
     ]
    },
    {
     "name": "stderr",
     "output_type": "stream",
     "text": [
      "WARNING:tensorflow:Gradients do not exist for variables ['final_fc/kernel:0'] when minimizing the loss. If you're using `model.compile()`, did you forget to provide a `loss` argument?\n"
     ]
    },
    {
     "name": "stdout",
     "output_type": "stream",
     "text": [
      "2542/2542 [==============================] - 11s 4ms/step - loss: 0.1858 - accuracy: 0.9266 - val_loss: 0.1144 - val_accuracy: 0.9544\n",
      "QAT Model clusters:\n",
      "quant_conv1/conv1/kernel:0: 481 clusters \n",
      "quant_conv2/conv2/kernel:0: 3841 clusters \n",
      "quant_final_fc/final_fc/kernel:0: 384 clusters \n",
      "\n",
      "QAT Model sparsity:\n",
      "conv1/kernel:0: 25.00% sparsity  (160/640)\n",
      "conv2/kernel:0: 25.00% sparsity  (1280/5120)\n",
      "final_fc/kernel:0: 0.00% sparsity  (0/384)\n",
      "\n",
      "PCQAT Model clusters:\n",
      "quant_conv1/conv1/kernel:0: 481 clusters \n",
      "quant_conv2/conv2/kernel:0: 3830 clusters \n",
      "quant_final_fc/final_fc/kernel:0: 10 clusters \n",
      "\n",
      "PCQAT Model sparsity:\n",
      "conv1/kernel:0: 25.00% sparsity  (160/640)\n",
      "conv2/kernel:0: 25.00% sparsity  (1280/5120)\n",
      "final_fc/kernel:0: 53.65% sparsity  (206/384)\n"
     ]
    },
    {
     "name": "stderr",
     "output_type": "stream",
     "text": [
      "WARNING:absl:Found untraced functions such as reshape_layer_call_fn, reshape_layer_call_and_return_conditional_losses, conv1_layer_call_fn, conv1_layer_call_and_return_conditional_losses, _jit_compiled_convolution_op while saving (showing 5 of 20). These functions will not be directly callable after loading.\n"
     ]
    },
    {
     "name": "stdout",
     "output_type": "stream",
     "text": [
      "INFO:tensorflow:Assets written to: qat_clustered_pruned_tiny_conv_model_deployable/assets\n"
     ]
    },
    {
     "name": "stderr",
     "output_type": "stream",
     "text": [
      "INFO:tensorflow:Assets written to: qat_clustered_pruned_tiny_conv_model_deployable/assets\n"
     ]
    },
    {
     "name": "stdout",
     "output_type": "stream",
     "text": [
      "Model size: 6.996\n",
      "Input details: [{'name': 'serving_default_input:0', 'index': 0, 'shape': array([   1, 1960], dtype=int32), 'shape_signature': array([  -1, 1960], dtype=int32), 'dtype': <class 'numpy.int8'>, 'quantization': (0.003921568859368563, -128), 'quantization_parameters': {'scales': array([0.00392157], dtype=float32), 'zero_points': array([-128], dtype=int32), 'quantized_dimension': 0}, 'sparsity_parameters': {}}]\n",
      "Output details: [{'name': 'StatefulPartitionedCall:0', 'index': 21, 'shape': array([1, 4], dtype=int32), 'shape_signature': array([-1,  4], dtype=int32), 'dtype': <class 'numpy.int8'>, 'quantization': (0.00390625, -128), 'quantization_parameters': {'scales': array([0.00390625], dtype=float32), 'zero_points': array([-128], dtype=int32), 'quantized_dimension': 0}, 'sparsity_parameters': {}}]\n"
     ]
    },
    {
     "name": "stderr",
     "output_type": "stream",
     "text": [
      "fully_quantize: 0, inference_type: 6, input_inference_type: INT8, output_inference_type: INT8\n",
      "WARNING:absl:Found untraced functions such as reshape_layer_call_fn, reshape_layer_call_and_return_conditional_losses, conv1_layer_call_fn, conv1_layer_call_and_return_conditional_losses, _jit_compiled_convolution_op while saving (showing 5 of 20). These functions will not be directly callable after loading.\n"
     ]
    },
    {
     "name": "stdout",
     "output_type": "stream",
     "text": [
      "INFO:tensorflow:Assets written to: pcqat_clustered_pruned_tiny_conv_model_deployable/assets\n"
     ]
    },
    {
     "name": "stderr",
     "output_type": "stream",
     "text": [
      "INFO:tensorflow:Assets written to: pcqat_clustered_pruned_tiny_conv_model_deployable/assets\n"
     ]
    },
    {
     "name": "stdout",
     "output_type": "stream",
     "text": [
      "Model size: 6.89\n",
      "Input details: [{'name': 'serving_default_input:0', 'index': 0, 'shape': array([   1, 1960], dtype=int32), 'shape_signature': array([  -1, 1960], dtype=int32), 'dtype': <class 'numpy.int8'>, 'quantization': (0.003921568859368563, -128), 'quantization_parameters': {'scales': array([0.00392157], dtype=float32), 'zero_points': array([-128], dtype=int32), 'quantized_dimension': 0}, 'sparsity_parameters': {}}]\n",
      "Output details: [{'name': 'StatefulPartitionedCall:0', 'index': 21, 'shape': array([1, 4], dtype=int32), 'shape_signature': array([-1,  4], dtype=int32), 'dtype': <class 'numpy.int8'>, 'quantization': (0.00390625, -128), 'quantization_parameters': {'scales': array([0.00390625], dtype=float32), 'zero_points': array([-128], dtype=int32), 'quantized_dimension': 0}, 'sparsity_parameters': {}}]\n"
     ]
    },
    {
     "name": "stderr",
     "output_type": "stream",
     "text": [
      "fully_quantize: 0, inference_type: 6, input_inference_type: INT8, output_inference_type: INT8\n"
     ]
    },
    {
     "name": "stdout",
     "output_type": "stream",
     "text": [
      "Train qat model:\n",
      "2542/2542 [==============================] - 8s 3ms/step - loss: 0.1625 - accuracy: 0.9431 - val_loss: 0.0809 - val_accuracy: 0.9679\n",
      "Train pcqat model:\n",
      "WARNING:tensorflow:Gradients do not exist for variables ['final_fc/kernel:0'] when minimizing the loss. If you're using `model.compile()`, did you forget to provide a `loss` argument?\n"
     ]
    },
    {
     "name": "stderr",
     "output_type": "stream",
     "text": [
      "WARNING:tensorflow:Gradients do not exist for variables ['final_fc/kernel:0'] when minimizing the loss. If you're using `model.compile()`, did you forget to provide a `loss` argument?\n"
     ]
    },
    {
     "name": "stdout",
     "output_type": "stream",
     "text": [
      "WARNING:tensorflow:Gradients do not exist for variables ['final_fc/kernel:0'] when minimizing the loss. If you're using `model.compile()`, did you forget to provide a `loss` argument?\n"
     ]
    },
    {
     "name": "stderr",
     "output_type": "stream",
     "text": [
      "WARNING:tensorflow:Gradients do not exist for variables ['final_fc/kernel:0'] when minimizing the loss. If you're using `model.compile()`, did you forget to provide a `loss` argument?\n"
     ]
    },
    {
     "name": "stdout",
     "output_type": "stream",
     "text": [
      "WARNING:tensorflow:Gradients do not exist for variables ['final_fc/kernel:0'] when minimizing the loss. If you're using `model.compile()`, did you forget to provide a `loss` argument?\n"
     ]
    },
    {
     "name": "stderr",
     "output_type": "stream",
     "text": [
      "WARNING:tensorflow:Gradients do not exist for variables ['final_fc/kernel:0'] when minimizing the loss. If you're using `model.compile()`, did you forget to provide a `loss` argument?\n"
     ]
    },
    {
     "name": "stdout",
     "output_type": "stream",
     "text": [
      "WARNING:tensorflow:Gradients do not exist for variables ['final_fc/kernel:0'] when minimizing the loss. If you're using `model.compile()`, did you forget to provide a `loss` argument?\n"
     ]
    },
    {
     "name": "stderr",
     "output_type": "stream",
     "text": [
      "WARNING:tensorflow:Gradients do not exist for variables ['final_fc/kernel:0'] when minimizing the loss. If you're using `model.compile()`, did you forget to provide a `loss` argument?\n"
     ]
    },
    {
     "name": "stdout",
     "output_type": "stream",
     "text": [
      "2542/2542 [==============================] - 9s 3ms/step - loss: 0.1827 - accuracy: 0.9337 - val_loss: 0.0979 - val_accuracy: 0.9652\n",
      "QAT Model clusters:\n",
      "quant_conv/conv/kernel:0: 640 clusters \n",
      "quant_final_fc/final_fc/kernel:0: 15019 clusters \n",
      "\n",
      "QAT Model sparsity:\n",
      "conv/kernel:0: 0.00% sparsity  (0/640)\n",
      "final_fc/kernel:0: 0.03% sparsity  (4/16000)\n",
      "\n",
      "PCQAT Model clusters:\n",
      "quant_conv/conv/kernel:0: 640 clusters \n",
      "quant_final_fc/final_fc/kernel:0: 10 clusters \n",
      "\n",
      "PCQAT Model sparsity:\n",
      "conv/kernel:0: 0.00% sparsity  (0/640)\n",
      "final_fc/kernel:0: 58.34% sparsity  (9335/16000)\n"
     ]
    },
    {
     "name": "stderr",
     "output_type": "stream",
     "text": [
      "WARNING:absl:Found untraced functions such as reshape_layer_call_fn, reshape_layer_call_and_return_conditional_losses, conv_layer_call_fn, conv_layer_call_and_return_conditional_losses, _jit_compiled_convolution_op while saving (showing 5 of 13). These functions will not be directly callable after loading.\n"
     ]
    },
    {
     "name": "stdout",
     "output_type": "stream",
     "text": [
      "INFO:tensorflow:Assets written to: qat_clustered_pruned_tiny_conv_model_small_deployable/assets\n"
     ]
    },
    {
     "name": "stderr",
     "output_type": "stream",
     "text": [
      "INFO:tensorflow:Assets written to: qat_clustered_pruned_tiny_conv_model_small_deployable/assets\n"
     ]
    },
    {
     "name": "stdout",
     "output_type": "stream",
     "text": [
      "Model size: 12.992\n",
      "Input details: [{'name': 'serving_default_input:0', 'index': 0, 'shape': array([   1, 1960], dtype=int32), 'shape_signature': array([  -1, 1960], dtype=int32), 'dtype': <class 'numpy.int8'>, 'quantization': (0.003921568859368563, -128), 'quantization_parameters': {'scales': array([0.00392157], dtype=float32), 'zero_points': array([-128], dtype=int32), 'quantized_dimension': 0}, 'sparsity_parameters': {}}]\n",
      "Output details: [{'name': 'StatefulPartitionedCall:0', 'index': 18, 'shape': array([1, 4], dtype=int32), 'shape_signature': array([-1,  4], dtype=int32), 'dtype': <class 'numpy.int8'>, 'quantization': (0.00390625, -128), 'quantization_parameters': {'scales': array([0.00390625], dtype=float32), 'zero_points': array([-128], dtype=int32), 'quantized_dimension': 0}, 'sparsity_parameters': {}}]\n"
     ]
    },
    {
     "name": "stderr",
     "output_type": "stream",
     "text": [
      "fully_quantize: 0, inference_type: 6, input_inference_type: INT8, output_inference_type: INT8\n",
      "WARNING:absl:Found untraced functions such as reshape_layer_call_fn, reshape_layer_call_and_return_conditional_losses, conv_layer_call_fn, conv_layer_call_and_return_conditional_losses, _jit_compiled_convolution_op while saving (showing 5 of 13). These functions will not be directly callable after loading.\n"
     ]
    },
    {
     "name": "stdout",
     "output_type": "stream",
     "text": [
      "INFO:tensorflow:Assets written to: pcqat_clustered_pruned_tiny_conv_model_small_deployable/assets\n"
     ]
    },
    {
     "name": "stderr",
     "output_type": "stream",
     "text": [
      "INFO:tensorflow:Assets written to: pcqat_clustered_pruned_tiny_conv_model_small_deployable/assets\n"
     ]
    },
    {
     "name": "stdout",
     "output_type": "stream",
     "text": [
      "Model size: 6.939\n",
      "Input details: [{'name': 'serving_default_input:0', 'index': 0, 'shape': array([   1, 1960], dtype=int32), 'shape_signature': array([  -1, 1960], dtype=int32), 'dtype': <class 'numpy.int8'>, 'quantization': (0.003921568859368563, -128), 'quantization_parameters': {'scales': array([0.00392157], dtype=float32), 'zero_points': array([-128], dtype=int32), 'quantized_dimension': 0}, 'sparsity_parameters': {}}]\n",
      "Output details: [{'name': 'StatefulPartitionedCall:0', 'index': 18, 'shape': array([1, 4], dtype=int32), 'shape_signature': array([-1,  4], dtype=int32), 'dtype': <class 'numpy.int8'>, 'quantization': (0.00390625, -128), 'quantization_parameters': {'scales': array([0.00390625], dtype=float32), 'zero_points': array([-128], dtype=int32), 'quantized_dimension': 0}, 'sparsity_parameters': {}}]\n"
     ]
    },
    {
     "name": "stderr",
     "output_type": "stream",
     "text": [
      "fully_quantize: 0, inference_type: 6, input_inference_type: INT8, output_inference_type: INT8\n"
     ]
    }
   ],
   "source": [
    "quantized_qat_models = []\n",
    "pruning_quantized_qat_models = []\n",
    "pruning_clustered_quantized_qat_models = []\n",
    "\n",
    "# Do qat with non-pruned models\n",
    "for model in final_models:\n",
    "    qat_tflite_model, pcqat_tflite_model = qat(model, pruned = False, clustered = False, save = True, deployable = True)\n",
    "    quantized_qat_models.append(qat_tflite_model)\n",
    "    quantized_qat_models.append(pcqat_tflite_model)\n",
    "\n",
    "# Do qat with pruned models\n",
    "for model in basic_pruned_models:\n",
    "    pruned_qat_tflite_model, pruned_pcqat_tflite_model = qat(model, pruned = True, clustered = False, save = True, deployable = False)\n",
    "    pruning_quantized_qat_models.append(pruned_qat_tflite_model)\n",
    "    pruning_quantized_qat_models.append(pruned_pcqat_tflite_model)\n",
    "\n",
    "# Do qat with pruned clustered models\n",
    "for model in pruned_clustered_models:\n",
    "    pruned_clustered_qat_tflite_model, pruned_clustered_pcqat_tflite_model = qat(model, pruned = True,\n",
    "                                                                                 clustered = True, save = True, deployable = True)\n",
    "    pruning_clustered_quantized_qat_models.append(pruned_clustered_qat_tflite_model)\n",
    "    pruning_clustered_quantized_qat_models.append(pruned_clustered_pcqat_tflite_model)\n",
    "\n"
   ]
  },
  {
   "cell_type": "code",
   "execution_count": 215,
   "metadata": {},
   "outputs": [
    {
     "name": "stderr",
     "output_type": "stream",
     "text": [
      "WARNING:absl:Found untraced functions such as reshape_layer_call_fn, reshape_layer_call_and_return_conditional_losses, conv1_layer_call_fn, conv1_layer_call_and_return_conditional_losses, _jit_compiled_convolution_op while saving (showing 5 of 20). These functions will not be directly callable after loading.\n"
     ]
    },
    {
     "name": "stdout",
     "output_type": "stream",
     "text": [
      "INFO:tensorflow:Assets written to: /scratch/1482407.1.academic-gpu/tmpz8k31e69/assets\n"
     ]
    },
    {
     "name": "stderr",
     "output_type": "stream",
     "text": [
      "INFO:tensorflow:Assets written to: /scratch/1482407.1.academic-gpu/tmpz8k31e69/assets\n"
     ]
    },
    {
     "name": "stdout",
     "output_type": "stream",
     "text": [
      "tf accuracy: 0.960751042089343\n",
      "Model 1 (qat_clustered_pruned_tiny_conv_model):\n",
      "  Gzipped Model Size: 61.16 KB\n",
      "  Test Accuracy: 0.9608\n",
      "  TFLite Gzipped Model Size: 21.83 KB\n",
      "  TFLite Test Accuracy: 0.9608\n"
     ]
    },
    {
     "name": "stderr",
     "output_type": "stream",
     "text": [
      "WARNING:absl:Found untraced functions such as reshape_layer_call_fn, reshape_layer_call_and_return_conditional_losses, conv1_layer_call_fn, conv1_layer_call_and_return_conditional_losses, _jit_compiled_convolution_op while saving (showing 5 of 20). These functions will not be directly callable after loading.\n"
     ]
    },
    {
     "name": "stdout",
     "output_type": "stream",
     "text": [
      "INFO:tensorflow:Assets written to: /scratch/1482407.1.academic-gpu/tmpgmv_e4hl/assets\n"
     ]
    },
    {
     "name": "stderr",
     "output_type": "stream",
     "text": [
      "INFO:tensorflow:Assets written to: /scratch/1482407.1.academic-gpu/tmpgmv_e4hl/assets\n"
     ]
    },
    {
     "name": "stdout",
     "output_type": "stream",
     "text": [
      "tf accuracy: 0.954996495628758\n",
      "Model 2 (pcqat_clustered_pruned_tiny_conv_model):\n",
      "  Gzipped Model Size: 61.82 KB\n",
      "  Test Accuracy: 0.9550\n",
      "  TFLite Gzipped Model Size: 21.21 KB\n",
      "  TFLite Test Accuracy: 0.9550\n"
     ]
    },
    {
     "name": "stderr",
     "output_type": "stream",
     "text": [
      "WARNING:absl:Found untraced functions such as reshape_layer_call_fn, reshape_layer_call_and_return_conditional_losses, conv_layer_call_fn, conv_layer_call_and_return_conditional_losses, _jit_compiled_convolution_op while saving (showing 5 of 13). These functions will not be directly callable after loading.\n"
     ]
    },
    {
     "name": "stdout",
     "output_type": "stream",
     "text": [
      "INFO:tensorflow:Assets written to: /scratch/1482407.1.academic-gpu/tmpjalcsbwc/assets\n"
     ]
    },
    {
     "name": "stderr",
     "output_type": "stream",
     "text": [
      "INFO:tensorflow:Assets written to: /scratch/1482407.1.academic-gpu/tmpjalcsbwc/assets\n"
     ]
    },
    {
     "name": "stdout",
     "output_type": "stream",
     "text": [
      "tf accuracy: 0.9698624073186026\n",
      "Model 3 (qat_clustered_pruned_tiny_conv_model_small):\n",
      "  Gzipped Model Size: 191.72 KB\n",
      "  Test Accuracy: 0.9698\n",
      "  TFLite Gzipped Model Size: 37.14 KB\n",
      "  TFLite Test Accuracy: 0.9699\n"
     ]
    },
    {
     "name": "stderr",
     "output_type": "stream",
     "text": [
      "WARNING:absl:Found untraced functions such as reshape_layer_call_fn, reshape_layer_call_and_return_conditional_losses, conv_layer_call_fn, conv_layer_call_and_return_conditional_losses, _jit_compiled_convolution_op while saving (showing 5 of 13). These functions will not be directly callable after loading.\n"
     ]
    },
    {
     "name": "stdout",
     "output_type": "stream",
     "text": [
      "INFO:tensorflow:Assets written to: /scratch/1482407.1.academic-gpu/tmpwg4zcrzj/assets\n"
     ]
    },
    {
     "name": "stderr",
     "output_type": "stream",
     "text": [
      "INFO:tensorflow:Assets written to: /scratch/1482407.1.academic-gpu/tmpwg4zcrzj/assets\n"
     ]
    },
    {
     "name": "stdout",
     "output_type": "stream",
     "text": [
      "tf accuracy: 0.9652513925264672\n",
      "Model 4 (pcqat_clustered_pruned_tiny_conv_model_small):\n",
      "  Gzipped Model Size: 178.03 KB\n",
      "  Test Accuracy: 0.9653\n",
      "  TFLite Gzipped Model Size: 18.52 KB\n",
      "  TFLite Test Accuracy: 0.9653\n"
     ]
    },
    {
     "data": {
      "image/png": "[encoded data removed]",
      "text/plain": [
       "<Figure size 1000x600 with 1 Axes>"
      ]
     },
     "metadata": {},
     "output_type": "display_data"
    }
   ],
   "source": [
    "plot_size_v_accuracy(pruning_clustered_quantized_qat_models, test_spectrogram_ds)"
   ]
  },
  {
   "cell_type": "code",
   "execution_count": 213,
   "metadata": {},
   "outputs": [
    {
     "name": "stderr",
     "output_type": "stream",
     "text": [
      "WARNING:absl:Found untraced functions such as reshape_layer_call_fn, reshape_layer_call_and_return_conditional_losses, conv1_layer_call_fn, conv1_layer_call_and_return_conditional_losses, _jit_compiled_convolution_op while saving (showing 5 of 20). These functions will not be directly callable after loading.\n"
     ]
    },
    {
     "name": "stdout",
     "output_type": "stream",
     "text": [
      "INFO:tensorflow:Assets written to: /scratch/1482407.1.academic-gpu/tmpmi81vphu/assets\n"
     ]
    },
    {
     "name": "stderr",
     "output_type": "stream",
     "text": [
      "INFO:tensorflow:Assets written to: /scratch/1482407.1.academic-gpu/tmpmi81vphu/assets\n"
     ]
    },
    {
     "name": "stdout",
     "output_type": "stream",
     "text": [
      "tf accuracy: 0.9643660776863772\n",
      "Model 1 (qat_tiny_conv_model):\n",
      "  Gzipped Model Size: 65.88 KB\n",
      "  Test Accuracy: 0.9644\n",
      "  TFLite Gzipped Model Size: 26.25 KB\n",
      "  TFLite Test Accuracy: 0.9644\n"
     ]
    },
    {
     "name": "stderr",
     "output_type": "stream",
     "text": [
      "WARNING:absl:Found untraced functions such as reshape_layer_call_fn, reshape_layer_call_and_return_conditional_losses, conv1_layer_call_fn, conv1_layer_call_and_return_conditional_losses, _jit_compiled_convolution_op while saving (showing 5 of 20). These functions will not be directly callable after loading.\n"
     ]
    },
    {
     "name": "stdout",
     "output_type": "stream",
     "text": [
      "INFO:tensorflow:Assets written to: /scratch/1482407.1.academic-gpu/tmpy4jv5fsc/assets\n"
     ]
    },
    {
     "name": "stderr",
     "output_type": "stream",
     "text": [
      "INFO:tensorflow:Assets written to: /scratch/1482407.1.academic-gpu/tmpy4jv5fsc/assets\n"
     ]
    },
    {
     "name": "stdout",
     "output_type": "stream",
     "text": [
      "tf accuracy: 0.9603821609059722\n",
      "Model 2 (pcqat_tiny_conv_model):\n",
      "  Gzipped Model Size: 72.10 KB\n",
      "  Test Accuracy: 0.9604\n",
      "  TFLite Gzipped Model Size: 26.26 KB\n",
      "  TFLite Test Accuracy: 0.9604\n"
     ]
    },
    {
     "name": "stderr",
     "output_type": "stream",
     "text": [
      "WARNING:absl:Found untraced functions such as reshape_layer_call_fn, reshape_layer_call_and_return_conditional_losses, conv_layer_call_fn, conv_layer_call_and_return_conditional_losses, _jit_compiled_convolution_op while saving (showing 5 of 13). These functions will not be directly callable after loading.\n"
     ]
    },
    {
     "name": "stdout",
     "output_type": "stream",
     "text": [
      "INFO:tensorflow:Assets written to: /scratch/1482407.1.academic-gpu/tmpj9tosyfm/assets\n"
     ]
    },
    {
     "name": "stderr",
     "output_type": "stream",
     "text": [
      "INFO:tensorflow:Assets written to: /scratch/1482407.1.academic-gpu/tmpj9tosyfm/assets\n"
     ]
    },
    {
     "name": "stdout",
     "output_type": "stream",
     "text": [
      "tf accuracy: 0.9713563761112546\n",
      "Model 3 (qat_tiny_conv_model_small):\n",
      "  Gzipped Model Size: 193.50 KB\n",
      "  Test Accuracy: 0.9714\n",
      "  TFLite Gzipped Model Size: 45.10 KB\n",
      "  TFLite Test Accuracy: 0.9714\n"
     ]
    },
    {
     "name": "stderr",
     "output_type": "stream",
     "text": [
      "WARNING:absl:Found untraced functions such as reshape_layer_call_fn, reshape_layer_call_and_return_conditional_losses, conv_layer_call_fn, conv_layer_call_and_return_conditional_losses, _jit_compiled_convolution_op while saving (showing 5 of 13). These functions will not be directly callable after loading.\n"
     ]
    },
    {
     "name": "stdout",
     "output_type": "stream",
     "text": [
      "INFO:tensorflow:Assets written to: /scratch/1482407.1.academic-gpu/tmp88fg25l_/assets\n"
     ]
    },
    {
     "name": "stderr",
     "output_type": "stream",
     "text": [
      "INFO:tensorflow:Assets written to: /scratch/1482407.1.academic-gpu/tmp88fg25l_/assets\n"
     ]
    },
    {
     "name": "stdout",
     "output_type": "stream",
     "text": [
      "tf accuracy: 0.9732930023239514\n",
      "Model 4 (pcqat_tiny_conv_model_small):\n",
      "  Gzipped Model Size: 193.54 KB\n",
      "  Test Accuracy: 0.9733\n",
      "  TFLite Gzipped Model Size: 44.64 KB\n",
      "  TFLite Test Accuracy: 0.9733\n"
     ]
    },
    {
     "data": {
      "image/png": "[encoded data removed]",
      "text/plain": [
       "<Figure size 1000x600 with 1 Axes>"
      ]
     },
     "metadata": {},
     "output_type": "display_data"
    }
   ],
   "source": [
    "plot_size_v_accuracy(quantized_qat_models, test_spectrogram_ds)"
   ]
  },
  {
   "cell_type": "code",
   "execution_count": 214,
   "metadata": {},
   "outputs": [
    {
     "name": "stderr",
     "output_type": "stream",
     "text": [
      "WARNING:absl:Found untraced functions such as reshape_layer_call_fn, reshape_layer_call_and_return_conditional_losses, conv1_layer_call_fn, conv1_layer_call_and_return_conditional_losses, _jit_compiled_convolution_op while saving (showing 5 of 20). These functions will not be directly callable after loading.\n"
     ]
    },
    {
     "name": "stdout",
     "output_type": "stream",
     "text": [
      "INFO:tensorflow:Assets written to: /scratch/1482407.1.academic-gpu/tmpkap82mdg/assets\n"
     ]
    },
    {
     "name": "stderr",
     "output_type": "stream",
     "text": [
      "INFO:tensorflow:Assets written to: /scratch/1482407.1.academic-gpu/tmpkap82mdg/assets\n"
     ]
    },
    {
     "name": "stdout",
     "output_type": "stream",
     "text": [
      "tf accuracy: 0.9580028772732303\n",
      "Model 1 (qat_pruned_tiny_conv_model):\n",
      "  Gzipped Model Size: 61.59 KB\n",
      "  Test Accuracy: 0.9580\n",
      "  TFLite Gzipped Model Size: 22.28 KB\n",
      "  TFLite Test Accuracy: 0.9580\n"
     ]
    },
    {
     "name": "stderr",
     "output_type": "stream",
     "text": [
      "WARNING:absl:Found untraced functions such as reshape_layer_call_fn, reshape_layer_call_and_return_conditional_losses, conv1_layer_call_fn, conv1_layer_call_and_return_conditional_losses, _jit_compiled_convolution_op while saving (showing 5 of 20). These functions will not be directly callable after loading.\n"
     ]
    },
    {
     "name": "stdout",
     "output_type": "stream",
     "text": [
      "INFO:tensorflow:Assets written to: /scratch/1482407.1.academic-gpu/tmpkj7b5abm/assets\n"
     ]
    },
    {
     "name": "stderr",
     "output_type": "stream",
     "text": [
      "INFO:tensorflow:Assets written to: /scratch/1482407.1.academic-gpu/tmpkj7b5abm/assets\n"
     ]
    },
    {
     "name": "stdout",
     "output_type": "stream",
     "text": [
      "tf accuracy: 0.9546829466228928\n",
      "Model 2 (pcqat_pruned_tiny_conv_model):\n",
      "  Gzipped Model Size: 64.93 KB\n",
      "  Test Accuracy: 0.9547\n",
      "  TFLite Gzipped Model Size: 22.02 KB\n",
      "  TFLite Test Accuracy: 0.9547\n"
     ]
    },
    {
     "name": "stderr",
     "output_type": "stream",
     "text": [
      "WARNING:absl:Found untraced functions such as reshape_layer_call_fn, reshape_layer_call_and_return_conditional_losses, conv_layer_call_fn, conv_layer_call_and_return_conditional_losses, _jit_compiled_convolution_op while saving (showing 5 of 13). These functions will not be directly callable after loading.\n"
     ]
    },
    {
     "name": "stdout",
     "output_type": "stream",
     "text": [
      "INFO:tensorflow:Assets written to: /scratch/1482407.1.academic-gpu/tmpk48mwwr9/assets\n"
     ]
    },
    {
     "name": "stderr",
     "output_type": "stream",
     "text": [
      "INFO:tensorflow:Assets written to: /scratch/1482407.1.academic-gpu/tmpk48mwwr9/assets\n"
     ]
    },
    {
     "name": "stdout",
     "output_type": "stream",
     "text": [
      "tf accuracy: 0.9676306761592092\n",
      "Model 3 (qat_pruned_tiny_conv_model_small):\n",
      "  Gzipped Model Size: 194.28 KB\n",
      "  Test Accuracy: 0.9676\n",
      "  TFLite Gzipped Model Size: 42.96 KB\n",
      "  TFLite Test Accuracy: 0.9676\n"
     ]
    },
    {
     "name": "stderr",
     "output_type": "stream",
     "text": [
      "WARNING:absl:Found untraced functions such as reshape_layer_call_fn, reshape_layer_call_and_return_conditional_losses, conv_layer_call_fn, conv_layer_call_and_return_conditional_losses, _jit_compiled_convolution_op while saving (showing 5 of 13). These functions will not be directly callable after loading.\n"
     ]
    },
    {
     "name": "stdout",
     "output_type": "stream",
     "text": [
      "INFO:tensorflow:Assets written to: /scratch/1482407.1.academic-gpu/tmphe47nyk3/assets\n"
     ]
    },
    {
     "name": "stderr",
     "output_type": "stream",
     "text": [
      "INFO:tensorflow:Assets written to: /scratch/1482407.1.academic-gpu/tmphe47nyk3/assets\n"
     ]
    },
    {
     "name": "stdout",
     "output_type": "stream",
     "text": [
      "tf accuracy: 0.9570437861964661\n",
      "Model 4 (pcqat_pruned_tiny_conv_model_small):\n",
      "  Gzipped Model Size: 119.33 KB\n",
      "  Test Accuracy: 0.9570\n",
      "  TFLite Gzipped Model Size: 35.03 KB\n",
      "  TFLite Test Accuracy: 0.9570\n"
     ]
    },
    {
     "data": {
      "image/png": "[encoded data removed]",
      "text/plain": [
       "<Figure size 1000x600 with 1 Axes>"
      ]
     },
     "metadata": {},
     "output_type": "display_data"
    }
   ],
   "source": [
    "plot_size_v_accuracy(pruning_quantized_qat_models, test_spectrogram_ds)"
   ]
  },
  {
   "cell_type": "code",
   "execution_count": null,
   "metadata": {},
   "outputs": [],
   "source": [
    "interpreter = tf.lite.Interpreter(model_path=\"simple_embedding_model_qat_model.tflite\")\n",
    "interpreter.allocate_tensors()\n",
    "# Verify input type is int8\n",
    "input_details = interpreter.get_input_details()\n",
    "output_details = interpreter.get_output_details()\n",
    "print(\"Input type:\", input_details[0]['dtype'])\n",
    "print(\"Output type:\", output_details[0]['dtype'])"
   ]
  },
  {
   "cell_type": "code",
   "execution_count": 221,
   "metadata": {},
   "outputs": [],
   "source": [
    "def get_gzipped_model_file_size(file):\n",
    "  # It returns the size of the gzipped model in kilobytes.\n",
    "  _, zipped_file = tempfile.mkstemp('.zip')\n",
    "  with zipfile.ZipFile(zipped_file, 'w', compression=zipfile.ZIP_DEFLATED) as f:\n",
    "    f.write(file)\n",
    "\n",
    "  return os.path.getsize(zipped_file)/1000\n"
   ]
  },
  {
   "cell_type": "markdown",
   "metadata": {},
   "source": [
    "## Post training quantization\n",
    "\n",
    "https://ai.google.dev/edge/litert/models/post_training_quant"
   ]
  },
  {
   "cell_type": "code",
   "execution_count": 225,
   "metadata": {},
   "outputs": [],
   "source": [
    "# Function to quantize the models using TensorFlow Lite Micro with different granularities\n",
    "def quantize_model(model, optimization_strategy):\n",
    "    converter = tf.lite.TFLiteConverter.from_keras_model(model)\n",
    "    converter.optimizations = [tf.lite.Optimize.DEFAULT]\n",
    "    if optimization_strategy == 'weight':\n",
    "        # Quantize only weights\n",
    "        converter.target_spec.supported_types = [tf.float16]\n",
    "    elif optimization_strategy == 'full':\n",
    "        # Full integer quantization\n",
    "        def representative_dataset():\n",
    "            for spectrogram, _ in train_spectrogram_ds:\n",
    "                spectrogram = np.array(spectrogram, dtype=np.float32)\n",
    "                yield [spectrogram]\n",
    "        converter.representative_dataset = representative_dataset\n",
    "        #converter.target_spec.supported_ops = [tf.lite.OpsSet.TFLITE_BUILTINS_INT8]\n",
    "        converter.inference_input_type = tf.uint8\n",
    "        converter.inference_output_type = tf.uint8\n",
    "    elif optimization_strategy == 'dynamic':\n",
    "        # Dynamic range quantization\n",
    "        converter.optimizations = [tf.lite.Optimize.DEFAULT]\n",
    "    else:\n",
    "        raise ValueError(\"Unsupported optimization strategy. Use 'weight', 'full', or 'dynamic'.\")\n",
    "    tflite_model = converter.convert()\n",
    "    return tflite_model"
   ]
  },
  {
   "cell_type": "code",
   "execution_count": 226,
   "metadata": {},
   "outputs": [],
   "source": [
    "# Function to quantize the models using post-training integer quantization with int16 activations and int8 weights\n",
    "def quantize_model_int16x8(model):\n",
    "    converter = tf.lite.TFLiteConverter.from_keras_model(model)\n",
    "    converter.optimizations = [tf.lite.Optimize.DEFAULT]\n",
    "    def representative_dataset():\n",
    "        for spectrogram, _ in train_spectrogram_ds.take(100):\n",
    "            spectrogram = np.array(spectrogram, dtype=np.float32)\n",
    "            yield [spectrogram]\n",
    "    converter.representative_dataset = representative_dataset\n",
    "    converter.target_spec.supported_ops = [tf.lite.OpsSet.EXPERIMENTAL_TFLITE_BUILTINS_ACTIVATIONS_INT16_WEIGHTS_INT8]\n",
    "    converter.inference_input_type = tf.int16\n",
    "    converter.inference_output_type = tf.int16\n",
    "    tflite_model = converter.convert()\n",
    "    return tflite_model"
   ]
  },
  {
   "cell_type": "code",
   "execution_count": null,
   "metadata": {},
   "outputs": [],
   "source": [
    "for model in final_models:\n",
    "    print(\"Model name:\", model.name)"
   ]
  },
  {
   "cell_type": "code",
   "execution_count": null,
   "metadata": {},
   "outputs": [],
   "source": [
    "# Quantize each trained model with different granularities and save them\n",
    "quantization_strategies = ['weight', 'full', 'dynamic']\n",
    "quantization_strategies = ['full']\n",
    "\n",
    "for i, model in enumerate(final_models):\n",
    "    for strategy in quantization_strategies:\n",
    "        print(f'Quantizing Model {model.name} with {strategy} strategy')\n",
    "        tflite_model = quantize_model(model, strategy)\n",
    "        model_filename = f'{model.name}_{strategy}_quantized.tflite'\n",
    "        with open(model_filename, 'wb') as f:\n",
    "            f.write(tflite_model)\n",
    "        print(f'Model {i} quantized with {strategy} strategy and saved as {model_filename}')\n",
    "\n",
    "    # Quantize using post-training integer quantization with int16 activations and int8 weights\n",
    "    #print(f'Quantizing Model {i} with int16 activations and int8 weights')\n",
    "    #tflite_model_int16x8 = quantize_model_int16x8(model)\n",
    "    #model_filename_int16x8 = f'model_{model}_int16x8_quantized.tflite'\n",
    "    #with open(model_filename_int16x8, 'wb') as f:\n",
    "    #    f.write(tflite_model_int16x8)\n",
    "    #print(f'Model {i} quantized with int16 activations and int8 weights and saved as {model_filename_int16x8}')"
   ]
  },
  {
   "cell_type": "markdown",
   "metadata": {},
   "source": [
    "## Quantized Model Evaluation"
   ]
  },
  {
   "cell_type": "code",
   "execution_count": null,
   "metadata": {},
   "outputs": [],
   "source": [
    "def evaluate_quantized_model(tflite_model_path):\n",
    "    interpreter = tf.lite.Interpreter(model_path=tflite_model_path)\n",
    "    interpreter.allocate_tensors()\n",
    "    input_details = interpreter.get_input_details()\n",
    "    output_details = interpreter.get_output_details()\n",
    "\n",
    "    print(\"Input details:\", input_details)\n",
    "    print(\"Output details:\", output_details)\n",
    "    \n",
    "    return eval_model(interpreter)\n"
   ]
  },
  {
   "cell_type": "code",
   "execution_count": null,
   "metadata": {},
   "outputs": [],
   "source": [
    "# this also gets ran in the next cells\n",
    "# Evaluate each quantized model\n",
    "#for model_filename in os.listdir('.'):\n",
    "#    if model_filename.endswith('_quantized.tflite'):\n",
    "#        print(f'Evaluating Model: {model_filename}')\n",
    "#        accuracy = evaluate_quantized_model(model_filename)\n",
    "#        print(f'Model {model_filename} quantization accuracy: {accuracy:.4f}')\n",
    "\n"
   ]
  },
  {
   "cell_type": "code",
   "execution_count": null,
   "metadata": {},
   "outputs": [],
   "source": [
    "# Function to print the size and memory requirements of the quantized models\n",
    "def print_quantized_model_sizes(model_filenames):\n",
    "    sizes = []\n",
    "    for model_filename in model_filenames:\n",
    "        if os.path.exists(model_filename):\n",
    "            model_size = get_gzipped_model_size(model_filename)\n",
    "            #model_size = os.path.getsize(model_filename) / 1000  # Size in KB\n",
    "            sizes.append((model_filename, model_size))\n",
    "            print(f'Model: {model_filename} Size: {model_size:.2f} KB')\n",
    "        else:\n",
    "            print(f'Model: {model_filename} not found.')\n",
    "    return sizes"
   ]
  },
  {
   "cell_type": "code",
   "execution_count": null,
   "metadata": {
    "scrolled": false
   },
   "outputs": [],
   "source": [
    "# List of quantized model filenames\n",
    "quantized_model_filenames = []\n",
    "#for i in range(0, len(basic_pruned_models)):\n",
    "#    for strategy in ['weight', 'full', 'dynamic']:\n",
    "#        quantized_model_filenames.append(f'model_{i}_{strategy}_quantized.tflite')\n",
    "#    quantized_model_filenames.append(f'model_{i}_int16x8_quantized.tflite')\n",
    "\n",
    "\n",
    "for model_filename in os.listdir('.'):\n",
    "    if model_filename.endswith('full_quantized.tflite'):\n",
    "        quantized_model_filenames.append(model_filename)\n",
    "        \n",
    "# Print sizes of quantized models and store the sizes\n",
    "print(\"\\nQuantized Model Sizes:\")\n",
    "quantized_model_sizes = print_quantized_model_sizes(quantized_model_filenames)\n",
    "\n",
    "# Evaluate each quantized model and collect accuracies\n",
    "quantized_accuracies = []\n",
    "\n",
    "for model_filename, model_size in quantized_model_sizes:\n",
    "    print(f'Evaluating {model_filename}')\n",
    "    accuracy = evaluate_quantized_model(model_filename)\n",
    "    quantized_accuracies.append((model_filename, model_size, accuracy))\n",
    "    \n",
    "#print(quantized_accuracies)\n",
    "\n",
    "# Filter accuracies for models smaller than 1000 KB and accuracy greater than 0.8\n",
    "filtered_accuracies = [tup for tup in quantized_accuracies if tup[2] > 0.0 and tup[1] < 1000]\n",
    "\n",
    "# Plot accuracy vs. model size for quantized models\n",
    "model_names, model_sizes, accuracies = zip(*filtered_accuracies)\n",
    "\n",
    "plt.figure(figsize=(10, 6))\n",
    "\n",
    "# Plot points without connecting lines by setting linestyle='None'\n",
    "plt.plot(model_sizes, accuracies, marker='o', linestyle='None', color='r')\n",
    "\n",
    "# Annotate each point with the model name\n",
    "for i, model_name in enumerate(model_names):\n",
    "    plt.text(model_sizes[i], accuracies[i], model_name, fontsize=8, ha='right')\n",
    "\n",
    "plt.xlabel('Model Size (KB)')\n",
    "plt.ylabel('Accuracy')\n",
    "plt.title('Accuracy vs. Model Size for Quantized Models (Models < 1000 KB)')\n",
    "plt.grid(True)\n",
    "plt.show()\n"
   ]
  },
  {
   "cell_type": "code",
   "execution_count": null,
   "metadata": {},
   "outputs": [],
   "source": [
    "def eval_model(interpreter):\n",
    "    test_images, test_labels = ds_to_numpy(test_spectrogram_ds.take(100))\n",
    "    #test_images, test_labels = test_spectrogram_ds.take(100)\n",
    "    input_details = interpreter.get_input_details()\n",
    "    input_index = input_details[0][\"index\"]\n",
    "    input_shape = input_details[0][\"shape\"]  # Expected shape, e.g., [1, 1960]\n",
    "    input_dtype = input_details[0][\"dtype\"]  # Expected input data type\n",
    "    print(f\"Expected input shape: {input_shape}, dtype: {input_dtype}\")\n",
    "\n",
    "    output_details = interpreter.get_output_details()\n",
    "    output_index = output_details[0][\"index\"]\n",
    "\n",
    "    # Run predictions on every image in the \"test\" dataset\n",
    "    prediction_digits = []\n",
    "    for i, test_image in enumerate(test_images):\n",
    "        #if i % 100 == 0:\n",
    "        #    print(f\"Evaluated on {i} results so far.\")\n",
    "        # Ensure the input tensor matches the expected shape [1, 1960]\n",
    "        #test_image = np.squeeze(test_image)  # Remove unnecessary dimensions\n",
    "        test_image = np.expand_dims(test_image, axis=0)  # Add batch dimension\n",
    "        # Convert to the expected data type\n",
    "        test_image = test_image.astype(input_dtype)\n",
    "\n",
    "        if test_image.shape != tuple(input_shape):\n",
    "            test_image.resize(tuple(input_shape))\n",
    "            #raise ValueError(f\"Input shape mismatch. Got {test_image.shape}, expected {input_shape}\")\n",
    "\n",
    "        interpreter.set_tensor(input_index, test_image)\n",
    "\n",
    "        # Run inference\n",
    "        interpreter.invoke()\n",
    "\n",
    "        # Post-process the output\n",
    "        output = interpreter.get_tensor(output_index)\n",
    "        digit = np.argmax(output)\n",
    "        prediction_digits.append(digit)\n",
    "\n",
    "    # Compare prediction results with ground truth labels to calculate accuracy\n",
    "    prediction_digits = np.array(prediction_digits)\n",
    "    accuracy = np.mean(prediction_digits == test_labels)\n",
    "    return accuracy"
   ]
  },
  {
   "cell_type": "code",
   "execution_count": null,
   "metadata": {},
   "outputs": [],
   "source": [
    "\n",
    "def plot_tflite_size_vs_accuracy(folder_path, test_spectrogram_ds): \n",
    "    test_data, test_labels = ds_to_numpy(test_spectrogram_ds.take(200))\n",
    "    test_data, test_labels = test_data.numpy(), test_labels.numpy()\n",
    "    # Lists to store results\n",
    "    model_sizes = []\n",
    "    accuracies = []\n",
    "    model_names = []\n",
    "    \n",
    "    # Iterate through all TFLite files in the folder\n",
    "    for filename in os.listdir(folder_path):\n",
    "        if filename.endswith(\".tflite\"):\n",
    "            model_path = os.path.join(folder_path, filename)\n",
    "            model_name = os.path.splitext(filename)[0]\n",
    "            \n",
    "            # Get model size in KB\n",
    "            model_size = get_gzipped_model_size(model_path)\n",
    "            \n",
    "            # Evaluate the TFLite model accuracy\n",
    "            #accuracy = evaluate_tflite_model(model_path, test_data, test_labels)\n",
    "            accuracy = evaluate_quantized_model(model_path)\n",
    "            # Store results\n",
    "            model_sizes.append(model_size)\n",
    "            accuracies.append(accuracy)\n",
    "            model_names.append(model_name)\n",
    "            \n",
    "            # Print the details\n",
    "            print(f\"Model: {model_name}, Size: {model_size:.2f} KB, Accuracy: {accuracy:.4f}\")\n",
    "    \n",
    "    # Plotting accuracy vs. model size\n",
    "    plt.figure(figsize=(10, 6))\n",
    "    plt.plot(model_sizes, accuracies, marker='o', linestyle='', color='b')\n",
    "\n",
    "    # Annotate each point with the model name\n",
    "    for i, model_name in enumerate(model_names):\n",
    "        plt.text(model_sizes[i], accuracies[i], model_name, fontsize=9, ha='right')\n",
    "\n",
    "    # Add labels and title\n",
    "    plt.xlabel('Model Size (KB)')\n",
    "    plt.ylabel('Test Accuracy')\n",
    "    plt.title('TFLite Model Accuracy vs. Model Size')\n",
    "    plt.grid(True)\n",
    "    plt.show()\n",
    "\n",
    "    return model_sizes, accuracies, model_names\n"
   ]
  },
  {
   "cell_type": "code",
   "execution_count": null,
   "metadata": {},
   "outputs": [],
   "source": [
    "model_sizes, accuracies, model_names = [], [], []\n",
    "#folder_path = \"C:\\\\Users\\\\adamk\\\\Downloads\\\\micro_speech_model_making\\\\notebooks\\\\\"\n",
    "# for scc\n",
    "folder_path = \".\"\n",
    "model_sizes, accuracies, model_names = plot_tflite_size_vs_accuracy(folder_path, test_spectrogram_ds)\n",
    "# C:\\Users\\adamk\\Downloads\\micro_speech_model_making\\notebooks\\val_spec_ds.tfrecord"
   ]
  },
  {
   "cell_type": "code",
   "execution_count": null,
   "metadata": {},
   "outputs": [],
   "source": [
    "def plot_filtered_model_size_vs_accuracy(model_sizes, accuracies, model_names, max_size, min_accuracy):\n",
    "    # Filter models based on the provided criteria\n",
    "    filtered_sizes = [size for size, acc in zip(model_sizes, accuracies) if size < max_size and acc > min_accuracy]\n",
    "    filtered_accuracies = [acc for size, acc in zip(model_sizes, accuracies) if size < max_size and acc > min_accuracy]\n",
    "    filtered_names = [name for size, acc, name in zip(model_sizes, accuracies, model_names) if size < max_size and acc > min_accuracy]\n",
    "\n",
    "    # Print details of filtered models\n",
    "    for size, acc, name in zip(filtered_sizes, filtered_accuracies, filtered_names):\n",
    "        print(f\"Name: {name}, Size: {size:.2f} KB, Accuracy: {acc:.4f}\")\n",
    "\n",
    "    # Plot only the filtered models\n",
    "    plt.figure(figsize=(10, 6))\n",
    "    plt.plot(filtered_sizes, filtered_accuracies, marker='o', linestyle='', color='b', label=f\"Size < {max_size} KB & Accuracy > {min_accuracy*100}%\")\n",
    "    \n",
    "    # Annotate each filtered point with the model name\n",
    "    for i, model_name in enumerate(filtered_names):\n",
    "        plt.text(filtered_sizes[i], filtered_accuracies[i], model_name, fontsize=9, ha='right')\n",
    "\n",
    "    # Add labels and title\n",
    "    plt.xlabel('Model Size (KB)')\n",
    "    plt.ylabel('Test Accuracy')\n",
    "    plt.title(f'TFLite Model Accuracy vs. Model Size (Filtered by Size < {max_size} KB & Accuracy > {min_accuracy*100}%)')\n",
    "    plt.legend()\n",
    "    plt.grid(True)\n",
    "    plt.show()\n",
    "\n",
    "\n"
   ]
  },
  {
   "cell_type": "code",
   "execution_count": null,
   "metadata": {},
   "outputs": [],
   "source": [
    "plot_filtered_model_size_vs_accuracy(model_sizes, accuracies, model_names, max_size=40, min_accuracy=0.80)"
   ]
  },
  {
   "cell_type": "code",
   "execution_count": null,
   "metadata": {},
   "outputs": [],
   "source": [
    "'''\n",
    "def plot_filtered_model_size_vs_accuracy(model_sizes, accuracies, model_names, max_size, min_accuracy):\n",
    "    # Step 1: Filter models based on the provided criteria\n",
    "    filtered = [\n",
    "        (size, acc, name)\n",
    "        for size, acc, name in zip(model_sizes, accuracies, model_names)\n",
    "        if size < max_size and acc > min_accuracy\n",
    "    ]\n",
    "    \n",
    "    if not filtered:\n",
    "        print(\"No models meet the filtering criteria.\")\n",
    "        return\n",
    "\n",
    "    filtered_sizes = [x[0] for x in filtered]\n",
    "    filtered_accuracies = [x[1] for x in filtered]\n",
    "    filtered_names = [x[2] for x in filtered]\n",
    "\n",
    "    # Step 2: Print details of filtered models\n",
    "    print(\"Filtered Models:\")\n",
    "    for size, acc, name in filtered:\n",
    "        print(f\"Name: {name}, Size: {size:.2f} KB, Accuracy: {acc:.4f}\")\n",
    "\n",
    "    # Step 3: Categorize models based on name substrings\n",
    "    group_63 = []\n",
    "    group_22 = []\n",
    "    group_tiny = []\n",
    "    group_other = []\n",
    "\n",
    "    for size, acc, name in filtered:\n",
    "        if '63' in name:\n",
    "            group_63.append((size, acc, name))\n",
    "        elif '22' in name:\n",
    "            group_22.append((size, acc, name))\n",
    "        elif 'tiny' in name.lower():  # Using lower() to make it case-insensitive\n",
    "            group_tiny.append((size, acc, name))\n",
    "        else:\n",
    "            group_other.append((size, acc, name))\n",
    "\n",
    "    # Step 4: Initialize the plot\n",
    "    plt.figure(figsize=(12, 8))\n",
    "\n",
    "    # Step 5: Plot each group with a distinct color and label\n",
    "    if group_63:\n",
    "        sizes, accs, names = zip(*group_63)\n",
    "        plt.scatter(sizes, accs, color='red', label=\"Generated 2\")\n",
    "        for i, name in enumerate(names):\n",
    "            plt.text(sizes[i], accs[i], name, fontsize=9, ha='right', va='bottom', color='red')\n",
    "    \n",
    "    if group_22:\n",
    "        sizes, accs, names = zip(*group_22)\n",
    "        plt.scatter(sizes, accs, color='green', label=\"Generated 1\")\n",
    "        for i, name in enumerate(names):\n",
    "            plt.text(sizes[i], accs[i], name, fontsize=9, ha='right', va='bottom', color='green')\n",
    "    \n",
    "    if group_tiny:\n",
    "        sizes, accs, names = zip(*group_tiny)\n",
    "        plt.scatter(sizes, accs, color='orange', label=\"Baseline\")\n",
    "        for i, name in enumerate(names):\n",
    "            plt.text(sizes[i], accs[i], name, fontsize=9, ha='right', va='bottom', color='orange')\n",
    "    \n",
    "    if group_other:\n",
    "        sizes, accs, names = zip(*group_other)\n",
    "        plt.scatter(sizes, accs, color='blue', label=\"Others\")\n",
    "        for i, name in enumerate(names):\n",
    "            plt.text(sizes[i], accs[i], name, fontsize=9, ha='right', va='bottom', color='blue')\n",
    "\n",
    "    # Step 6: Customize the plot\n",
    "    plt.xlabel('Model Size (KB)', fontsize=12)\n",
    "    plt.ylabel('Test Accuracy', fontsize=12)\n",
    "    plt.title(f'TFLite Model Accuracy vs. Model Size\\n(Filtered by Size < {max_size} KB & Accuracy > {min_accuracy*100}%)', fontsize=14)\n",
    "    plt.legend(title=\"Model Categories\")\n",
    "    plt.grid(True)\n",
    "    plt.tight_layout()\n",
    "    plt.show()\n",
    "'''"
   ]
  },
  {
   "cell_type": "code",
   "execution_count": null,
   "metadata": {},
   "outputs": [],
   "source": [
    "#plot_filtered_model_size_vs_accuracy(model_sizes, accuracies, model_names, max_size=10, min_accuracy=0.90)"
   ]
  },
  {
   "cell_type": "code",
   "execution_count": null,
   "metadata": {},
   "outputs": [],
   "source": []
  },
  {
   "cell_type": "code",
   "execution_count": null,
   "metadata": {},
   "outputs": [],
   "source": []
  },
  {
   "cell_type": "code",
   "execution_count": null,
   "metadata": {},
   "outputs": [],
   "source": [
    "def tflite_to_c_array(tflite_file, output_header):\n",
    "    with open(tflite_file, 'rb') as f:\n",
    "        data = f.read()\n",
    "\n",
    "    array_name = 'model_data'\n",
    "    with open(output_header, 'w') as f:\n",
    "        f.write(f'const unsigned char {array_name}[] = {{\\n  ')\n",
    "        for i, byte in enumerate(data):\n",
    "            f.write(f'0x{byte:02x}, ')\n",
    "            if (i + 1) % 12 == 0:\n",
    "                f.write('\\n  ')\n",
    "        f.write(f'\\n}};\\n')\n",
    "        f.write(f'const unsigned int {array_name}_len = {len(data)};\\n')\n"
   ]
  },
  {
   "cell_type": "code",
   "execution_count": null,
   "metadata": {},
   "outputs": [],
   "source": [
    "# Usage\n",
    "tflite_to_c_array('qat_sequential_23.tflite', 'qat_sequential_23.cc')"
   ]
  },
  {
   "cell_type": "code",
   "execution_count": null,
   "metadata": {},
   "outputs": [],
   "source": [
    "!ls"
   ]
  },
  {
   "cell_type": "code",
   "execution_count": null,
   "metadata": {},
   "outputs": [],
   "source": [
    "!xxd -i pruned_clustered_qat_simple_embedding_model.tflite > pcq_model.cc\n"
   ]
  },
  {
   "cell_type": "code",
   "execution_count": null,
   "metadata": {},
   "outputs": [],
   "source": [
    "!xxd -i quantized_model_int8.tflite > pruned_clustered_int8.cc\n"
   ]
  },
  {
   "cell_type": "code",
   "execution_count": null,
   "metadata": {},
   "outputs": [],
   "source": [
    "!xxd -i quantized_model_int8.tflite > pruned_clustered_int8.cc\n"
   ]
  },
  {
   "cell_type": "code",
   "execution_count": null,
   "metadata": {},
   "outputs": [],
   "source": [
    "!xxd -i sequential_63_full_quantized.tflite > micro_model_smallest.cc\n"
   ]
  },
  {
   "cell_type": "code",
   "execution_count": 54,
   "metadata": {},
   "outputs": [
    {
     "data": {
      "text/plain": [
       "<keras.engine.functional.Functional at 0x14b9f87d18a0>"
      ]
     },
     "execution_count": 54,
     "metadata": {},
     "output_type": "execute_result"
    }
   ],
   "source": [
    "model_list[0]"
   ]
  },
  {
   "cell_type": "code",
   "execution_count": 56,
   "metadata": {},
   "outputs": [
    {
     "data": {
      "text/plain": [
       "<keras.engine.functional.Functional at 0x14b9f88c9ae0>"
      ]
     },
     "execution_count": 56,
     "metadata": {},
     "output_type": "execute_result"
    }
   ],
   "source": [
    "basic_pruned_models[0]"
   ]
  },
  {
   "cell_type": "code",
   "execution_count": 57,
   "metadata": {},
   "outputs": [
    {
     "data": {
      "text/plain": [
       "<keras.engine.functional.Functional at 0x14b7d8137640>"
      ]
     },
     "execution_count": 57,
     "metadata": {},
     "output_type": "execute_result"
    }
   ],
   "source": [
    "pruned_clustered_models[0]"
   ]
  },
  {
   "cell_type": "code",
   "execution_count": 85,
   "metadata": {},
   "outputs": [],
   "source": [
    "test_model = pruned_clustered_models[0]"
   ]
  },
  {
   "cell_type": "code",
   "execution_count": 86,
   "metadata": {},
   "outputs": [
    {
     "name": "stdout",
     "output_type": "stream",
     "text": [
      "Model: \"tiny_conv_model\"\n",
      "_________________________________________________________________\n",
      " Layer (type)                Output Shape              Param #   \n",
      "=================================================================\n",
      " input (InputLayer)          [(None, 1960)]            0         \n",
      "                                                                 \n",
      " reshape (Reshape)           (None, 49, 40, 1)         0         \n",
      "                                                                 \n",
      " conv1 (Conv2D)              (None, 25, 20, 8)         648       \n",
      "                                                                 \n",
      " relu1 (ReLU)                (None, 25, 20, 8)         0         \n",
      "                                                                 \n",
      " dropout1 (Dropout)          (None, 25, 20, 8)         0         \n",
      "                                                                 \n",
      " conv2 (Conv2D)              (None, 4, 3, 8)           5128      \n",
      "                                                                 \n",
      " relu2 (ReLU)                (None, 4, 3, 8)           0         \n",
      "                                                                 \n",
      " dropout2 (Dropout)          (None, 4, 3, 8)           0         \n",
      "                                                                 \n",
      " flatten (Flatten)           (None, 96)                0         \n",
      "                                                                 \n",
      " final_fc (Dense)            (None, 4)                 388       \n",
      "                                                                 \n",
      "=================================================================\n",
      "Total params: 6,164\n",
      "Trainable params: 6,164\n",
      "Non-trainable params: 0\n",
      "_________________________________________________________________\n"
     ]
    }
   ],
   "source": [
    "test_model.summary()"
   ]
  },
  {
   "cell_type": "code",
   "execution_count": null,
   "metadata": {},
   "outputs": [],
   "source": [
    "#X_val = X_val.numpy()\n"
   ]
  },
  {
   "cell_type": "code",
   "execution_count": 223,
   "metadata": {},
   "outputs": [],
   "source": [
    " def deploy(model, save = True):\n",
    "    ############################################\n",
    "    # Step 3: Save the Model as a SavedModel\n",
    "    ############################################\n",
    "    saved_model_path = f\"{model.name}_deployable\"\n",
    "    model.save(saved_model_path, save_format=\"tf\")\n",
    "\n",
    "    ############################################\n",
    "    # Step 4: Create a Representative Dataset Function\n",
    "    ############################################\n",
    "    # The representative dataset provides samples to the converter\n",
    "    # so it can calibrate integer scales and zero points.\n",
    "    def representative_dataset_generator():\n",
    "        for i in range(len(X_val)):\n",
    "            # Generate random image-like data in a similar range as your real input\n",
    "            # Here inputs are assumed to be normalized [0,1], but if not, adjust accordingly.\n",
    "            data = np.array(X_val[i].flatten(), dtype=np.float32).reshape(1, 1960)\n",
    "            yield [data]\n",
    "\n",
    "    ############################################\n",
    "    # Step 5: Convert the Model to TFLite with Full Integer Quantization\n",
    "    ############################################\n",
    "    converter = tf.lite.TFLiteConverter.from_saved_model(saved_model_path)\n",
    "\n",
    "    # Enable optimizations to ensure quantization is done\n",
    "    converter.optimizations = [tf.lite.Optimize.DEFAULT]\n",
    "\n",
    "    # Provide the representative dataset for calibration\n",
    "    converter.representative_dataset = representative_dataset_generator\n",
    "\n",
    "    # Set input and output inference types to uint8\n",
    "    converter.inference_input_type = tf.int8\n",
    "    converter.inference_output_type = tf.int8\n",
    "\n",
    "    # This will produce a fully quantized model (uint8)\n",
    "    tflite_quant_model = converter.convert()\n",
    "\n",
    "    # Save the quantized model to a file\n",
    "    tf_path = f\"{model.name}_deployable_int8.tflite\"\n",
    "    with open(tf_path, \"wb\") as f:\n",
    "        f.write(tflite_quant_model)\n",
    "\n",
    "    size = get_gzipped_model_file_size(tf_path)\n",
    "    print(\"Model size: \" + str(size))\n",
    "    ############################################\n",
    "    # Verification (Optional)\n",
    "    ############################################\n",
    "    # Load the TFLite model and check the input type\n",
    "    interpreter = tf.lite.Interpreter(model_path=tf_path)\n",
    "    interpreter.allocate_tensors()\n",
    "\n",
    "    input_details = interpreter.get_input_details()\n",
    "    output_details = interpreter.get_output_details()\n",
    "\n",
    "    print(\"Input details:\", input_details)\n",
    "    print(\"Output details:\", output_details)\n",
    "    \n",
    "    if save:\n",
    "        !xxd -i {tf_path} > {model.name}_deployable.cc\n",
    "\n",
    "    return interpreter"
   ]
  },
  {
   "cell_type": "code",
   "execution_count": 98,
   "metadata": {},
   "outputs": [
    {
     "name": "stderr",
     "output_type": "stream",
     "text": [
      "WARNING:absl:Found untraced functions such as _jit_compiled_convolution_op, _jit_compiled_convolution_op, _update_step_xla while saving (showing 3 of 3). These functions will not be directly callable after loading.\n"
     ]
    },
    {
     "name": "stdout",
     "output_type": "stream",
     "text": [
      "INFO:tensorflow:Assets written to: tiny_conv_model_deployable/assets\n"
     ]
    },
    {
     "name": "stderr",
     "output_type": "stream",
     "text": [
      "INFO:tensorflow:Assets written to: tiny_conv_model_deployable/assets\n"
     ]
    },
    {
     "name": "stdout",
     "output_type": "stream",
     "text": [
      "Model size: 4.626\n",
      "Input details: [{'name': 'serving_default_input:0', 'index': 0, 'shape': array([   1, 1960], dtype=int32), 'shape_signature': array([  -1, 1960], dtype=int32), 'dtype': <class 'numpy.int8'>, 'quantization': (0.09361949563026428, 20), 'quantization_parameters': {'scales': array([0.0936195], dtype=float32), 'zero_points': array([20], dtype=int32), 'quantized_dimension': 0}, 'sparsity_parameters': {}}]\n",
      "Output details: [{'name': 'StatefulPartitionedCall:0', 'index': 21, 'shape': array([1, 4], dtype=int32), 'shape_signature': array([-1,  4], dtype=int32), 'dtype': <class 'numpy.int8'>, 'quantization': (0.00390625, -128), 'quantization_parameters': {'scales': array([0.00390625], dtype=float32), 'zero_points': array([-128], dtype=int32), 'quantized_dimension': 0}, 'sparsity_parameters': {}}]\n"
     ]
    },
    {
     "name": "stderr",
     "output_type": "stream",
     "text": [
      "fully_quantize: 0, inference_type: 6, input_inference_type: INT8, output_inference_type: INT8\n"
     ]
    }
   ],
   "source": [
    "interpreter = deploy(test_model)"
   ]
  },
  {
   "cell_type": "code",
   "execution_count": 89,
   "metadata": {},
   "outputs": [
    {
     "ename": "NameError",
     "evalue": "name 'eval_model' is not defined",
     "output_type": "error",
     "traceback": [
      "\u001b[0;31m---------------------------------------------------------------------------\u001b[0m",
      "\u001b[0;31mNameError\u001b[0m                                 Traceback (most recent call last)",
      "Cell \u001b[0;32mIn[89], line 1\u001b[0m\n\u001b[0;32m----> 1\u001b[0m \u001b[43meval_model\u001b[49m(interpreter)\n",
      "\u001b[0;31mNameError\u001b[0m: name 'eval_model' is not defined"
     ]
    }
   ],
   "source": [
    "eval_model(interpreter)"
   ]
  },
  {
   "cell_type": "code",
   "execution_count": 90,
   "metadata": {},
   "outputs": [],
   "source": [
    "#test_data, test_label = ds_to_numpy(test_spectrogram_ds)\n",
    "#test_data, test_label = test_data.numpy(), test_label.numpy()"
   ]
  },
  {
   "cell_type": "code",
   "execution_count": null,
   "metadata": {},
   "outputs": [],
   "source": [
    "X_test = X_test.numpy()"
   ]
  },
  {
   "cell_type": "code",
   "execution_count": 187,
   "metadata": {},
   "outputs": [],
   "source": [
    "input_details = interpreter.get_input_details()[0]\n",
    "output_details = interpreter.get_output_details()[0]\n",
    "\n",
    "# For quantized models, manually quantize the input data from float to integer\n",
    "input_scale, input_zero_point = input_details[\"quantization\"]\n",
    "test_data = X_test.reshape((X_test.shape[0], input_details['shape'][0], input_details['shape'][1]))\n",
    "test_data = test_data / input_scale + input_zero_point\n",
    "test_data = test_data.astype(input_details[\"dtype\"])\n"
   ]
  },
  {
   "cell_type": "code",
   "execution_count": 188,
   "metadata": {},
   "outputs": [
    {
     "name": "stdout",
     "output_type": "stream",
     "text": [
      "0.09361949563026428\n",
      "20\n"
     ]
    }
   ],
   "source": [
    "print(input_scale)\n",
    "print(input_zero_point)"
   ]
  },
  {
   "cell_type": "code",
   "execution_count": 189,
   "metadata": {},
   "outputs": [
    {
     "name": "stdout",
     "output_type": "stream",
     "text": [
      "Input shape expected by the model: [   1 1960]\n"
     ]
    }
   ],
   "source": [
    "print(\"Input shape expected by the model:\", input_details['shape'])"
   ]
  },
  {
   "cell_type": "code",
   "execution_count": 190,
   "metadata": {},
   "outputs": [
    {
     "name": "stdout",
     "output_type": "stream",
     "text": [
      "model accuracy is 63.106348% (Number of test samples=54218)\n"
     ]
    }
   ],
   "source": [
    "correct_predictions = 0\n",
    "for i in range(len(test_data)):\n",
    "    interpreter.set_tensor(input_details[\"index\"], test_data[i])\n",
    "    interpreter.invoke()\n",
    "    output = interpreter.get_tensor(output_details[\"index\"])[0]\n",
    "    top_prediction = output.argmax()\n",
    "    correct_predictions += (top_prediction == y_test[i])\n",
    "\n",
    "print('model accuracy is %f%% (Number of test samples=%d)' % (\n",
    "    (correct_predictions * 100) / len(X_test), len(X_test)))"
   ]
  },
  {
   "cell_type": "code",
   "execution_count": null,
   "metadata": {},
   "outputs": [],
   "source": []
  }
 ],
 "metadata": {
  "kernelspec": {
   "display_name": "Python 3 (ipykernel)",
   "language": "python",
   "name": "python3"
  },
  "language_info": {
   "codemirror_mode": {
    "name": "ipython",
    "version": 3
   },
   "file_extension": ".py",
   "mimetype": "text/x-python",
   "name": "python",
   "nbconvert_exporter": "python",
   "pygments_lexer": "ipython3",
   "version": "3.10.12"
  }
 },
 "nbformat": 4,
 "nbformat_minor": 2
}
