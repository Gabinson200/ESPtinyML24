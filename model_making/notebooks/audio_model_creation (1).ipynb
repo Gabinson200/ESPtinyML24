{
 "cells": [
  {
   "cell_type": "markdown",
   "metadata": {},
   "source": [
    "# Audio Model Creation and Quantization\n",
    "\n",
    "This notebook demonstrates the process of training, quantizing, and evaluating audio models. The workflow includes:\n",
    "\n",
    "1. Auto Model Generation\n",
    "2. Model Training and Pruning\n",
    "3. Quantization (Post-Training and Quantization-Aware)\n",
    "4. Evaluation of Quantized Models\n",
    "5. Analysis of Model Size vs. Accuracy"
   ]
  },
  {
   "cell_type": "markdown",
   "metadata": {},
   "source": [
    "## SCC stuff"
   ]
  },
  {
   "cell_type": "code",
   "execution_count": 1,
   "metadata": {},
   "outputs": [],
   "source": [
    "#when using scc and selecting jupyter modules use these in this order\n",
    "#python3/3.10.12 tensorflow/2.11.0"
   ]
  },
  {
   "cell_type": "markdown",
   "metadata": {},
   "source": [
    "# Imports and GPU\n"
   ]
  },
  {
   "cell_type": "code",
   "execution_count": 2,
   "metadata": {},
   "outputs": [],
   "source": [
    "# Import basic functionality libraries\n",
    "import os\n",
    "import pathlib\n",
    "import matplotlib.pyplot as plt\n",
    "import numpy as np\n",
    "import seaborn as sns\n",
    "import tensorflow as tf\n",
    "import tempfile\n",
    "import shutil\n",
    "import sys\n",
    "import gc\n",
    "import zipfile\n",
    "import re\n",
    "from sklearn.model_selection import train_test_split\n",
    "# More specific tf import such as autotuner\n",
    "from tensorflow.keras import layers\n",
    "from IPython import display\n",
    "import keras_tuner as kt\n",
    "from tensorflow.keras.layers import Conv2D, DepthwiseConv2D, GlobalAveragePooling2D, Dense, Activation, Input, Reshape, Multiply, AveragePooling2D\n",
    "from tensorflow.keras.models import Model\n",
    "from tensorflow.keras.layers import Flatten, ReLU, Dropout\n",
    "from tensorflow.keras import Sequential\n",
    "\n",
    "# Libraries for model optimizations\n",
    "import tensorflow_model_optimization as tfmot\n",
    "#from tensorflow_model_optimization.python.core.keras.compat import keras\n",
    "from keras.layers import Resizing\n",
    "from tensorflow_model_optimization.quantization.keras import quantize_annotate_layer\n",
    "import nbimporter\n",
    "#import tf_keras as keras #this one worked for local"
   ]
  },
  {
   "cell_type": "code",
   "execution_count": 3,
   "metadata": {},
   "outputs": [],
   "source": [
    "# for SCC\n",
    "import tensorflow.keras as keras"
   ]
  },
  {
   "cell_type": "markdown",
   "metadata": {},
   "source": [
    "## Setup tensorflow GPU support"
   ]
  },
  {
   "cell_type": "code",
   "execution_count": 4,
   "metadata": {},
   "outputs": [
    {
     "name": "stdout",
     "output_type": "stream",
     "text": [
      "1 Physical GPUs, 1 Logical GPUs\n"
     ]
    }
   ],
   "source": [
    "use_gpu = True # set it here by hand\n",
    "\n",
    "if use_gpu:\n",
    "    # Check if GPU is available\n",
    "    gpus = tf.config.list_physical_devices('GPU')\n",
    "    if gpus:\n",
    "        try:\n",
    "            # Currently, memory growth needs to be the same across GPUs\n",
    "            for gpu in gpus:\n",
    "                tf.config.experimental.set_memory_growth(gpu, True)\n",
    "            logical_gpus = tf.config.list_logical_devices('GPU')\n",
    "            print(len(gpus), \"Physical GPUs,\", len(logical_gpus), \"Logical GPUs\")\n",
    "        except RuntimeError as e:\n",
    "            # Memory growth must be set before GPUs have been initialized\n",
    "            print(e)\n",
    "    else:\n",
    "        print(\"No GPU available\")"
   ]
  },
  {
   "cell_type": "markdown",
   "metadata": {},
   "source": [
    "# Run .py preprocessing that sets up the datasets\n",
    "\n",
    "The code below imports the datasets from serealized TFREcords, batches them, and results in the final train/test/val_spectrogram_ds datasets."
   ]
  },
  {
   "cell_type": "code",
   "execution_count": 12,
   "metadata": {},
   "outputs": [
    {
     "name": "stdout",
     "output_type": "stream",
     "text": [
      "Features shape: (271086, 49, 40)\n",
      "Labels shape: (271086,)\n"
     ]
    }
   ],
   "source": [
    "# Specify the path to your output dir|ectory where the .npy files are saved\n",
    "output_dir = 'processed_dataset_small'  # Replace with your actual output directory\n",
    "\n",
    "# Load the features and labels\n",
    "features = np.load(os.path.join(output_dir, 'features.npy'))\n",
    "labels = np.load(os.path.join(output_dir, 'labels.npy'))\n",
    "\n",
    "print(f\"Features shape: {features.shape}\")\n",
    "print(f\"Labels shape: {labels.shape}\")"
   ]
  },
  {
   "cell_type": "code",
   "execution_count": 13,
   "metadata": {},
   "outputs": [
    {
     "name": "stdout",
     "output_type": "stream",
     "text": [
      "Training set shape: (162651, 49, 40, 1), Labels shape: (162651,)\n",
      "Validation set shape: (54217, 49, 40, 1), Labels shape: (54217,)\n",
      "Test set shape: (54218, 49, 40, 1), Labels shape: (54218,)\n"
     ]
    }
   ],
   "source": [
    "# Expand dimensions to add a channel dimension\n",
    "features = np.expand_dims(features, -1)  # Shape becomes (num_samples, num_frames, num_mel_bins, 1)\n",
    "\n",
    "# Split data into training + validation and test sets (80% training + validation, 20% test)\n",
    "X_temp, X_test, y_temp, y_test = train_test_split(\n",
    "    features, labels, test_size=0.2, random_state=42, stratify=labels)\n",
    "\n",
    "# Further split the training + validation set into training and validation sets (60% training, 20% validation)\n",
    "X_train, X_val, y_train, y_val = train_test_split(\n",
    "    X_temp, y_temp, test_size=0.25, random_state=42, stratify=y_temp)\n",
    "\n",
    "print(f\"Training set shape: {X_train.shape}, Labels shape: {y_train.shape}\")\n",
    "print(f\"Validation set shape: {X_val.shape}, Labels shape: {y_val.shape}\")\n",
    "print(f\"Test set shape: {X_test.shape}, Labels shape: {y_test.shape}\")"
   ]
  },
  {
   "cell_type": "code",
   "execution_count": 14,
   "metadata": {},
   "outputs": [
    {
     "data": {
      "text/plain": [
       "array([0, 1, 2, 3])"
      ]
     },
     "execution_count": 14,
     "metadata": {},
     "output_type": "execute_result"
    }
   ],
   "source": [
    "np.unique(y_train)"
   ]
  },
  {
   "cell_type": "code",
   "execution_count": 15,
   "metadata": {},
   "outputs": [
    {
     "name": "stdout",
     "output_type": "stream",
     "text": [
      "Training data mean: -4.7196, standard deviation: 5.2118\n"
     ]
    }
   ],
   "source": [
    "# Compute mean and standard deviation from the training data\n",
    "mean = np.mean(X_train)\n",
    "std = np.std(X_train)\n",
    "\n",
    "print(f\"Training data mean: {mean:.4f}, standard deviation: {std:.4f}\")\n",
    "\n",
    "# Normalize the training data\n",
    "X_train_norm = (X_train - mean) / std\n",
    "\n",
    "# Normalize the validation data\n",
    "X_val_norm = (X_val - mean) / std\n",
    "\n",
    "# Normalize the test data\n",
    "X_test_norm = (X_test - mean) / std\n",
    "\n"
   ]
  },
  {
   "cell_type": "code",
   "execution_count": 111,
   "metadata": {},
   "outputs": [
    {
     "name": "stdout",
     "output_type": "stream",
     "text": [
      "TFRecord file created: train_spec_ds.tfrecord\n",
      "TFRecord file created: val_spec_ds.tfrecord\n",
      "TFRecord file created: test_spec_ds.tfrecord\n"
     ]
    }
   ],
   "source": [
    "def serialize_example(image, label):\n",
    "    \"\"\"Creates a tf.train.Example message ready to be written to a file.\"\"\"\n",
    "    image = tf.cast(image * 255, tf.uint8)  # Scale to [0, 255] and cast to uint8\n",
    "    jpeg_image = tf.image.encode_jpeg(image)  # Encode image as JPEG\n",
    "    feature = {\n",
    "        'image': tf.train.Feature(bytes_list=tf.train.BytesList(value=[jpeg_image.numpy()])),\n",
    "        'label': tf.train.Feature(int64_list=tf.train.Int64List(value=[label])),\n",
    "    }\n",
    "    example_proto = tf.train.Example(features=tf.train.Features(feature=feature))\n",
    "    return example_proto.SerializeToString()\n",
    "\n",
    "def write_tfrecord(filename, images, labels):\n",
    "    with tf.io.TFRecordWriter(filename) as writer:\n",
    "        for image, label in zip(images, labels):\n",
    "            serialized_example = serialize_example(image, label)\n",
    "            writer.write(serialized_example)\n",
    "    print(f\"TFRecord file created: {filename}\")\n",
    "\n",
    "# Step 3: Write each dataset to a separate TFRecord file\n",
    "write_tfrecord('train_spec_ds.tfrecord', X_train_norm, y_train)\n",
    "write_tfrecord('val_spec_ds.tfrecord', X_val_norm, y_val)\n",
    "write_tfrecord('test_spec_ds.tfrecord', X_test_norm, y_test)"
   ]
  },
  {
   "cell_type": "code",
   "execution_count": 16,
   "metadata": {},
   "outputs": [],
   "source": [
    "# Function to parse a single serialized example from TFRecord\n",
    "def _parse_function(proto):\n",
    "    feature_description = {\n",
    "        'image': tf.io.FixedLenFeature([], tf.string),  # Image is stored as a string\n",
    "        'label': tf.io.FixedLenFeature([], tf.int64),   # Label is an float32\n",
    "    }\n",
    "    \n",
    "    # Parse the input `tf.train.Example` proto using the feature description\n",
    "    parsed_example = tf.io.parse_single_example(proto, feature_description)\n",
    "    \n",
    "    # Decode the JPEG-encoded image back into a float32 tensor\n",
    "    image = tf.io.decode_jpeg(parsed_example['image'], channels=1)  # Grayscale\n",
    "    image = tf.image.convert_image_dtype(image, tf.float32)  # Convert to [0, 1] range\n",
    "    \n",
    "    # Reshape the image to its new shape (e.g., [1, 1960])\n",
    "    image = tf.reshape(image, [1960,])\n",
    "    \n",
    "    # Get the label\n",
    "    label = parsed_example['label']\n",
    "    \n",
    "    return image, label"
   ]
  },
  {
   "cell_type": "code",
   "execution_count": 17,
   "metadata": {},
   "outputs": [],
   "source": [
    "# Function to load the dataset from a TFRecord file\n",
    "def load_dataset(tfrecord_file, batch_size=64):\n",
    "    # Load the TFRecord file\n",
    "    raw_dataset = tf.data.TFRecordDataset(tfrecord_file)\n",
    "    \n",
    "    # Parse the serialized data using the _parse_function\n",
    "    parsed_dataset = raw_dataset.map(_parse_function, num_parallel_calls=tf.data.AUTOTUNE)\n",
    "    \n",
    "    # Batch and shuffle the dataset (optional, depending on your needs) buffer_size is not size of batch its size of buffer\n",
    "    parsed_dataset = parsed_dataset.shuffle(buffer_size=1000).batch(batch_size)\n",
    "    parsed_dataset = parsed_dataset.prefetch(buffer_size=tf.data.AUTOTUNE)\n",
    "    \n",
    "    return parsed_dataset"
   ]
  },
  {
   "cell_type": "code",
   "execution_count": 18,
   "metadata": {},
   "outputs": [],
   "source": [
    "# Load the train, test, and validation datasets from TFRecord files\n",
    "train_spectrogram_ds = load_dataset('train_spec_ds.tfrecord')\n",
    "test_spectrogram_ds = load_dataset('test_spec_ds.tfrecord')\n",
    "val_spectrogram_ds = load_dataset('val_spec_ds.tfrecord')"
   ]
  },
  {
   "cell_type": "code",
   "execution_count": 19,
   "metadata": {},
   "outputs": [
    {
     "name": "stdout",
     "output_type": "stream",
     "text": [
      "New dataset size: 2542\n",
      "Input shape: (64, 1960)\n",
      "Input type: <dtype: 'float32'>\n",
      "Label shape: (64,)\n",
      "Label type: <dtype: 'int64'>\n"
     ]
    }
   ],
   "source": [
    "new_size = len(list(train_spectrogram_ds))\n",
    "print(f\"New dataset size: {new_size}\")\n",
    "\n",
    "# Get input shape and number of classes\n",
    "for spectrograms, labels in train_spectrogram_ds.take(1):\n",
    "    input_shape = spectrograms.shape\n",
    "    input_type = spectrograms.dtype \n",
    "    label_shape = labels.shape\n",
    "    label_type = labels.dtype\n",
    "    print('Input shape:', input_shape)\n",
    "    print('Input type:', input_type)\n",
    "    print('Label shape:', label_shape)\n",
    "    print('Label type:', label_type)\n",
    "    "
   ]
  },
  {
   "cell_type": "code",
   "execution_count": 20,
   "metadata": {},
   "outputs": [
    {
     "name": "stdout",
     "output_type": "stream",
     "text": [
      "New dataset size: 848\n"
     ]
    }
   ],
   "source": [
    "new_size = len(list(test_spectrogram_ds))\n",
    "print(f\"New dataset size: {new_size}\")"
   ]
  },
  {
   "cell_type": "code",
   "execution_count": 21,
   "metadata": {},
   "outputs": [
    {
     "name": "stdout",
     "output_type": "stream",
     "text": [
      "Training label counts: Counter({0: 60256, 1: 54386, 2: 24009, 3: 24000})\n",
      "Validation label counts: Counter({0: 20086, 1: 18128, 2: 8003, 3: 8000})\n",
      "Test label counts: Counter({0: 20086, 1: 18129, 2: 8003, 3: 8000})\n"
     ]
    }
   ],
   "source": [
    "import collections\n",
    "\n",
    "def count_labels(dataset):\n",
    "    label_counts = collections.Counter()\n",
    "    for images, labels in dataset:\n",
    "        # Convert labels to a NumPy array and update counts\n",
    "        label_values = labels.numpy()\n",
    "        label_counts.update(label_values)\n",
    "    return label_counts\n",
    "\n",
    "train_label_counts = count_labels(train_spectrogram_ds)\n",
    "val_label_counts = count_labels(val_spectrogram_ds)\n",
    "test_label_counts = count_labels(test_spectrogram_ds)\n",
    "\n",
    "print(\"Training label counts:\", train_label_counts)\n",
    "print(\"Validation label counts:\", val_label_counts)\n",
    "print(\"Test label counts:\", test_label_counts)    "
   ]
  },
  {
   "cell_type": "markdown",
   "metadata": {},
   "source": [
    "# macros!! important for deployable model creation"
   ]
  },
  {
   "cell_type": "code",
   "execution_count": 22,
   "metadata": {},
   "outputs": [],
   "source": [
    "# features_min = 0.0\n",
    "# features_max = 26.0\n",
    "SAMPLE_RATE = 16000\n",
    "CLIP_DURATION_MS = 1000\n",
    "WINDOW_SIZE_MS = 30.0\n",
    "FEATURE_BIN_COUNT = 40\n",
    "WINDOW_STRIDE = 20\n",
    "NUM_LABELS = 4\n",
    "\n",
    "# QUANT_INPUT_MIN = 0.0\n",
    "# QUANT_INPUT_MAX = 26.0\n",
    "# QUANT_INPUT_RANGE = QUANT_INPUT_MAX - QUANT_INPUT_MIN\n",
    "\n",
    "# average_window_width = -1\n",
    "# fingerprint_width = feature_bin_count\n",
    "\n",
    "fingerprint_min = 0.0\n",
    "fingerprint_max = 26.0"
   ]
  },
  {
   "cell_type": "code",
   "execution_count": 70,
   "metadata": {},
   "outputs": [],
   "source": [
    "desired_samples = int(SAMPLE_RATE * CLIP_DURATION_MS / 1000)\n",
    "window_size_samples = int(SAMPLE_RATE * WINDOW_SIZE_MS / 1000)\n",
    "window_stride_samples = int(SAMPLE_RATE * WINDOW_STRIDE / 1000)\n",
    "length_minus_window = (desired_samples - window_size_samples)\n",
    "\n",
    "if length_minus_window < 0:\n",
    "    spectrogram_length = 0\n",
    "else:\n",
    "    spectrogram_length = 1 + int(length_minus_window / window_stride_samples)\n",
    "    \n",
    "average_window_width = -1\n",
    "fingerprint_width = FEATURE_BIN_COUNT"
   ]
  },
  {
   "cell_type": "code",
   "execution_count": 71,
   "metadata": {},
   "outputs": [],
   "source": [
    "fingerprint_size = fingerprint_width * spectrogram_length"
   ]
  },
  {
   "cell_type": "code",
   "execution_count": 72,
   "metadata": {},
   "outputs": [],
   "source": [
    "inputs = tf.keras.Input(shape=(fingerprint_size,), dtype=tf.float32, name='fingerprint_input')\n",
    "\n",
    "# Apply the fake quant operation directly\n",
    "fingerprint_input = tf.quantization.fake_quant_with_min_max_args(inputs, \n",
    "                                                                 fingerprint_min, \n",
    "                                                                 fingerprint_max)"
   ]
  },
  {
   "cell_type": "markdown",
   "metadata": {},
   "source": [
    "# Keras Autotuner\n",
    "\n",
    "The below functions uses keras autotuner to generate models of a general shape defined in the AutoTuner.build_model  \n",
    "and saves the models if their sizes and accuracies meet some thresholds.\n",
    "The training output is truncated so that on the SCC the training can be faster.  \n",
    "The code works on the SCC but for whatever reason I keep running into a CPU memory overflow even tho I  \n",
    "specifically delete the history of models and train in batches. We can work to fix this but I already generated   \n",
    "about a hundred models so it is not a priority."
   ]
  },
  {
   "cell_type": "code",
   "execution_count": 73,
   "metadata": {},
   "outputs": [],
   "source": [
    "from keras_tuner import errors"
   ]
  },
  {
   "cell_type": "code",
   "execution_count": null,
   "metadata": {},
   "outputs": [],
   "source": [
    "import audio_models\n",
    "import logging\n",
    "from contextlib import contextmanager\n",
    "\n",
    "no_logs = False # set to false to see printouts of models during training\n",
    "\n",
    "#class CustomLogger(logging.Logger):\n",
    "#    def __init__(self, name, level=logging.ERROR):  # Only log errors\n",
    "#        super().__init__(name, level)\n",
    "        \n",
    "# Suppress Keras Tuner logger\n",
    "logging.getLogger(\"keras_tuner\").setLevel(logging.CRITICAL)\n",
    "\n",
    "if no_logs:\n",
    "    # Suppress TensorFlow and Keras Tuner logs\n",
    "    os.environ['TF_CPP_MIN_LOG_LEVEL'] = '3'  # Suppress TensorFlow logs\n",
    "    tf.get_logger().setLevel(logging.ERROR)  # Suppress TensorFlow's Python warnings\n",
    "    logging.getLogger(\"keras_tuner\").setLevel(logging.CRITICAL)  # Suppress Keras Tuner logs\n",
    "\n",
    "\n",
    "@contextmanager\n",
    "def suppress_output():\n",
    "    \"\"\"\n",
    "    Suppress all output to stdout and stderr.\n",
    "    \"\"\"\n",
    "    with open(os.devnull, 'w') as devnull:\n",
    "        old_stdout = sys.stdout\n",
    "        old_stderr = sys.stderr\n",
    "        sys.stdout = devnull\n",
    "        sys.stderr = devnull\n",
    "        try:\n",
    "            yield\n",
    "        finally:\n",
    "            sys.stdout = old_stdout\n",
    "            sys.stderr = old_stderr\n",
    "\n",
    "def run_with_iteration_display(autotuner, train_data, val_data, num_epochs, max_trials):\n",
    "    \"\"\"\n",
    "    Run the tuner with suppressed output, but display the current iteration number.\n",
    "    \"\"\"\n",
    "    for current_trial in range(1, max_trials + 1):\n",
    "        # Print the current trial number outside the suppress_output context\n",
    "        print(f\"\\rTraining model {current_trial} out of {max_trials}...\", end=\"\", flush=True)\n",
    "\n",
    "        # Suppress all other outputs during the trial\n",
    "        with suppress_output():\n",
    "            try:\n",
    "                autotuner.run_tuner(train_data, val_data, num_epochs)\n",
    "            except RuntimeError as e:\n",
    "                # Handle errors gracefully without terminating the loop\n",
    "                print(f\"\\nError encountered during trial {current_trial}: {str(e)}\")\n",
    "                continue\n",
    "                \n",
    "    # Access and display the number of saved models\n",
    "    saved_model_count = autotuner.tuner.saved_model_count\n",
    "    print(f\"\\nTraining complete. Saved {saved_model_count} models that fit the criteria.\")"
   ]
  },
  {
   "cell_type": "code",
   "execution_count": null,
   "metadata": {},
   "outputs": [],
   "source": [
    "class CustomRandomSearch(kt.RandomSearch):\n",
    "    def __init__(self, *args, save_dir=None, parameter_threshold=None, accuracy_threshold=None, oracle = None, **kwargs):\n",
    "        super().__init__(*args, **kwargs)\n",
    "        self.save_dir = save_dir\n",
    "        self.parameter_threshold = parameter_threshold\n",
    "        self.accuracy_threshold = accuracy_threshold\n",
    "        os.makedirs(self.save_dir, exist_ok=True)\n",
    "        self.saved_model_count = 0  # Counter for saved models\n",
    "\n",
    "    def run_trial(self, trial, *fit_args, **fit_kwargs):\n",
    "        current_trial = int(trial.trial_id) + 1\n",
    "        total_trials = self.oracle.max_trials\n",
    "        print(f\"\\rTraining model {current_trial} of {total_trials}\", end=\"\")  \n",
    "\n",
    "        model = self.hypermodel.build(trial.hyperparameters)\n",
    "        if hasattr(model, 'is_invalid') and model.is_invalid:\n",
    "            # For invalid models, return a fixed low score without training\n",
    "            self.oracle.update_trial(\n",
    "                trial.trial_id, {'val_accuracy': float('-inf')}\n",
    "            )\n",
    "            return\n",
    "\n",
    "        # Add early stopping callback to fit_kwargs\n",
    "        callbacks = fit_kwargs.get('callbacks', [])\n",
    "        callbacks.extend([\n",
    "            tf.keras.callbacks.EarlyStopping(\n",
    "                monitor='val_accuracy',\n",
    "                min_delta=0.01,\n",
    "                patience=3,\n",
    "                restore_best_weights=True,\n",
    "                verbose=0 #1\n",
    "            )\n",
    "        ])\n",
    "        fit_kwargs['callbacks'] = callbacks\n",
    "\n",
    "        # Train the model\n",
    "        history = model.fit(*fit_args, **fit_kwargs, verbose = 0)\n",
    "\n",
    "        # Extract the best validation accuracy\n",
    "        val_accuracy = max(history.history.get('val_accuracy', [0]))\n",
    "        num_params = model.count_params()\n",
    "\n",
    "        # Save the model if thresholds are met\n",
    "        if val_accuracy > self.accuracy_threshold and num_params < self.parameter_threshold:\n",
    "            model_save_path = os.path.join(\n",
    "                self.save_dir,\n",
    "                f\"model_trial_{trial.trial_id}_acc_{int(val_accuracy * 100)}_params_{num_params}.keras\"\n",
    "            )\n",
    "            model.save(model_save_path)\n",
    "            print(f\"Saved model from trial {trial.trial_id} with accuracy: {val_accuracy:.2f} and params: {num_params}\")\n",
    "            self.saved_model_count += 1\n",
    "            del model\n",
    "            gc.collect()\n",
    "\n",
    "        # Report the metric to the tuner\n",
    "        self.oracle.update_trial(\n",
    "            trial.trial_id, {'val_accuracy': val_accuracy}\n",
    "        )"
   ]
  },
  {
   "cell_type": "code",
   "execution_count": null,
   "metadata": {},
   "outputs": [],
   "source": [
    "class AutoTuner:\n",
    "    def __init__(self, tuner_dir, save_dir, parameter_threshold, accuracy_threshold, max_trials=10, executions_per_trial=1):\n",
    "        self.tuner_dir = tuner_dir\n",
    "        self.save_dir = save_dir\n",
    "        self.parameter_threshold = parameter_threshold\n",
    "        self.accuracy_threshold = accuracy_threshold\n",
    "        self.max_trials = max_trials\n",
    "        self.executions_per_trial = executions_per_trial\n",
    "\n",
    "        # Clean up the tuner directory if it already exists\n",
    "        if os.path.exists(self.tuner_dir):\n",
    "            shutil.rmtree(self.tuner_dir)\n",
    "            \n",
    "        # Create the oracle with a custom limit for consecutive failures\n",
    "        oracle = kt.oracles.RandomSearchOracle(\n",
    "            objective=kt.Objective(\"val_accuracy\", direction=\"max\"),\n",
    "            max_consecutive_failed_trials=100  # Adjust as needed\n",
    "        )\n",
    "\n",
    "        # Initialize the tuner\n",
    "        self.tuner = CustomRandomSearch(\n",
    "            self.build_model,\n",
    "            oracle=oracle,\n",
    "            max_trials=self.max_trials,\n",
    "            executions_per_trial=self.executions_per_trial,\n",
    "            directory=self.tuner_dir,\n",
    "            overwrite=True,  # Overwrite results to free memory\n",
    "            project_name='model_tuning',\n",
    "            save_dir=self.save_dir,\n",
    "            parameter_threshold=self.parameter_threshold,\n",
    "            accuracy_threshold=self.accuracy_threshold,\n",
    "        )\n",
    "\n",
    "    def build_model(self, hp):\n",
    "        \"\"\"\n",
    "        Build model with validation checks that allow skipping invalid configurations.\n",
    "        \"\"\"\n",
    "        input_frequency_size = FEATURE_BIN_COUNT\n",
    "        input_time_size = spectrogram_length\n",
    "        label_count = NUM_LABELS\n",
    "        \n",
    "        model = tf.keras.Sequential()\n",
    "        input_shape = (49, 40, 1)\n",
    "        \n",
    "        # Input layer\n",
    "        model.add(layers.Input(shape=(input_time_size * input_frequency_size,), name='input'))\n",
    "        \n",
    "        #add reshape layer\n",
    "        model.add(\n",
    "            layers.Reshape((input_time_size, input_frequency_size, 1), name='reshape')\n",
    "        )\n",
    "        \n",
    "        \n",
    "        current_height, current_width = input_shape[0], input_shape[1]\n",
    "        is_valid = True\n",
    "\n",
    "        # Convolutional layers with tunable filters, kernel size, and stride\n",
    "        for i in range(hp.Int('num_conv_layers', 1, 3)):\n",
    "            kernel_size = hp.Choice(f'kernel_size_{i}', values=[6, 8, 10, 12])\n",
    "            stride = hp.Choice(f'stride_{i}', values=[2, 4, 8, 10, 12])\n",
    "            \n",
    "            # Calculate new spatial dimensions\n",
    "            new_height = (current_height - kernel_size) // stride + 1\n",
    "            new_width = (current_width - kernel_size) // stride + 1\n",
    "            \n",
    "            # Check if dimensions are valid\n",
    "            if new_height <= 0 or new_width <= 0:\n",
    "                print(f\"Invalid configuration at layer {i}: kernel_size={kernel_size}, stride={stride}, input_shape=({current_height}, {current_width})\")\n",
    "                is_valid = False\n",
    "                break\n",
    "\n",
    "            # Add convolutional layer if valid\n",
    "            model.add(layers.Conv2D(\n",
    "                filters=hp.Int(f'filters_{i}', min_value=6, max_value=12, step=2),\n",
    "                kernel_size=kernel_size,\n",
    "                strides=stride,\n",
    "                activation='relu'\n",
    "            ))\n",
    "            model.add(layers.Dropout(rate=hp.Choice('dropout_rate', values=[0.1, 0.2, 0.3])))\n",
    "\n",
    "            # Update current dimensions\n",
    "            current_height, current_width = new_height, new_width\n",
    "\n",
    "        # If dimensions are invalid, return an invalid model\n",
    "        if not is_valid:\n",
    "            model.is_invalid = True\n",
    "            return model\n",
    "\n",
    "        # Add dropout here or at the end of every conv iteration\n",
    "        #model.add(layers.Dropout(rate=hp.Choice('dropout_rate', values=[0.1, 0.2, 0.3])))\n",
    "\n",
    "        # Flatten layer\n",
    "        model.add(layers.Flatten())\n",
    "\n",
    "        # Output layer\n",
    "        model.add(layers.Dense(label_count, activation='softmax'))\n",
    "\n",
    "        model_params = model.count_params()\n",
    "        if model_params > self.parameter_threshold:\n",
    "            print(f\"Model exceeds parameter limit: {model_params} params\")\n",
    "            model.is_invalid = True\n",
    "        else:\n",
    "            # Compile the model\n",
    "            model.compile(\n",
    "                optimizer=tf.keras.optimizers.Adam(hp.Choice('learning_rate', [1e-2, 1e-3])),\n",
    "                loss='sparse_categorical_crossentropy',\n",
    "                metrics=['accuracy']\n",
    "            )\n",
    "            model.is_invalid = False\n",
    "\n",
    "        return model\n",
    "\n",
    "\n",
    "    def run_tuner(self, train_data, val_data, num_epochs):\n",
    "        \"\"\"\n",
    "        Run the tuner to search for the best model.\n",
    "        \"\"\"\n",
    "        self.tuner.search(train_data, validation_data=val_data, epochs=num_epochs)\n",
    "        print(f\"\\nTraining complete. Saved {self.tuner.saved_model_count} models that fit the criteria.\")"
   ]
  },
  {
   "cell_type": "code",
   "execution_count": 74,
   "metadata": {},
   "outputs": [
    {
     "name": "stdout",
     "output_type": "stream",
     "text": [
      "Running trials 1 to 4\n"
     ]
    },
    {
     "ename": "NameError",
     "evalue": "name 'AutoTuner' is not defined",
     "output_type": "error",
     "traceback": [
      "\u001b[0;31m---------------------------------------------------------------------------\u001b[0m",
      "\u001b[0;31mNameError\u001b[0m                                 Traceback (most recent call last)",
      "Cell \u001b[0;32mIn[74], line 13\u001b[0m\n\u001b[1;32m     11\u001b[0m \u001b[38;5;28;01mfor\u001b[39;00m batch \u001b[38;5;129;01min\u001b[39;00m \u001b[38;5;28mrange\u001b[39m(\u001b[38;5;241m0\u001b[39m, max_trials, batch_size):\n\u001b[1;32m     12\u001b[0m     \u001b[38;5;28mprint\u001b[39m(\u001b[38;5;124mf\u001b[39m\u001b[38;5;124m\"\u001b[39m\u001b[38;5;124mRunning trials \u001b[39m\u001b[38;5;132;01m{\u001b[39;00mbatch\u001b[38;5;250m \u001b[39m\u001b[38;5;241m+\u001b[39m\u001b[38;5;250m \u001b[39m\u001b[38;5;241m1\u001b[39m\u001b[38;5;132;01m}\u001b[39;00m\u001b[38;5;124m to \u001b[39m\u001b[38;5;132;01m{\u001b[39;00mbatch\u001b[38;5;250m \u001b[39m\u001b[38;5;241m+\u001b[39m\u001b[38;5;250m \u001b[39mbatch_size\u001b[38;5;132;01m}\u001b[39;00m\u001b[38;5;124m\"\u001b[39m)\n\u001b[0;32m---> 13\u001b[0m     autotuner \u001b[38;5;241m=\u001b[39m \u001b[43mAutoTuner\u001b[49m(tuner_dir, save_dir, parameter_threshold, accuracy_threshold, max_trials\u001b[38;5;241m=\u001b[39mbatch_size)\n\u001b[1;32m     14\u001b[0m     run_with_iteration_display(autotuner, train_spectrogram_ds, val_spectrogram_ds, num_epochs, batch_size)\n\u001b[1;32m     15\u001b[0m     \u001b[38;5;28;01mdel\u001b[39;00m autotuner\n",
      "\u001b[0;31mNameError\u001b[0m: name 'AutoTuner' is not defined"
     ]
    }
   ],
   "source": [
    "# you can remove the wrapper run_with_iteration_display and just call the autotuner for full training output\n",
    "parameter_threshold = 100000 # Model sizes will be below this threshold\n",
    "accuracy_threshold = 0.90 # Models must have validation accuracy above this threshold\n",
    "num_epochs = 10\n",
    "max_trials = 12\n",
    "tuner_dir = 'autotuner_dir'\n",
    "save_dir = \"saved_models\"\n",
    "batch_size = 4\n",
    "\n",
    "# Instantiate and run the AutoTuner\n",
    "for batch in range(0, max_trials, batch_size):\n",
    "    print(f\"Running trials {batch + 1} to {batch + batch_size}\")\n",
    "    autotuner = AutoTuner(tuner_dir, save_dir, parameter_threshold, accuracy_threshold, max_trials=batch_size)\n",
    "    run_with_iteration_display(autotuner, train_spectrogram_ds, val_spectrogram_ds, num_epochs, batch_size)\n",
    "    del autotuner\n",
    "    \n",
    "# If you dont want to train in batches you can use this\n",
    "#autotuner = AutoTuner(tuner_dir, save_dir, parameter_threshold, accuracy_threshold, max_trials)\n",
    "#run_with_iteration_display(autotuner, train_spectrogram_ds, val_spectrogram_ds, num_epochs, max_trials)"
   ]
  },
  {
   "cell_type": "markdown",
   "metadata": {},
   "source": [
    "# Weight initializations?\n",
    "\n",
    "https://arxiv.org/pdf/2402.18153"
   ]
  },
  {
   "cell_type": "code",
   "execution_count": null,
   "metadata": {},
   "outputs": [],
   "source": []
  },
  {
   "cell_type": "markdown",
   "metadata": {},
   "source": [
    "# Novel CNN resnet based models?\n",
    "\n",
    "https://arxiv.org/pdf/2406.02652"
   ]
  },
  {
   "cell_type": "code",
   "execution_count": null,
   "metadata": {},
   "outputs": [],
   "source": []
  },
  {
   "cell_type": "markdown",
   "metadata": {},
   "source": [
    "# Train Base Models"
   ]
  },
  {
   "cell_type": "code",
   "execution_count": 75,
   "metadata": {},
   "outputs": [],
   "source": [
    "def plot_training_history(history, model_index):\n",
    "    \"\"\"Plots training and validation accuracy and loss.\"\"\"\n",
    "    plt.figure(figsize=(12, 4))\n",
    "\n",
    "    # Plot accuracy\n",
    "    plt.subplot(1, 2, 1)\n",
    "    plt.plot(history.history['accuracy'], label='Training Accuracy')\n",
    "    plt.plot(history.history['val_accuracy'], label='Validation Accuracy')\n",
    "    plt.title(f'Model {model_index} Accuracy')\n",
    "    plt.xlabel('Epoch')\n",
    "    plt.ylabel('Accuracy')\n",
    "    plt.legend()\n",
    "\n",
    "    # Plot loss\n",
    "    plt.subplot(1, 2, 2)\n",
    "    plt.plot(history.history['loss'], label='Training Loss')\n",
    "    plt.plot(history.history['val_loss'], label='Validation Loss')\n",
    "    plt.title(f'Model {model_index} Loss')\n",
    "    plt.xlabel('Epoch')\n",
    "    plt.ylabel('Loss')\n",
    "    plt.legend()\n",
    "\n",
    "    plt.show()"
   ]
  },
  {
   "cell_type": "code",
   "execution_count": 76,
   "metadata": {},
   "outputs": [],
   "source": [
    "def filter_keras_models(directory, min_accuracy, max_params):\n",
    "    \"\"\"\n",
    "    Filters .keras models in a directory based on minimum accuracy and maximum parameters.\n",
    "\n",
    "    Args:\n",
    "        directory (str): Path to the directory containing .keras model files.\n",
    "        min_accuracy (float): Minimum accuracy threshold (e.g., 71 for 71%).\n",
    "        max_params (int): Maximum parameter count threshold.\n",
    "\n",
    "    Returns:\n",
    "        list: A list of file paths for models that meet the criteria.\n",
    "    \"\"\"\n",
    "    usable_models = []\n",
    "    model_pattern = r\"model_trial_\\d+_acc_(\\d+)_params_(\\d+)\\.keras\"\n",
    "\n",
    "    for filename in os.listdir(directory):\n",
    "        if filename.endswith(\".keras\"):\n",
    "            match = re.match(model_pattern, filename)\n",
    "            if match:\n",
    "                accuracy = int(match.group(1))  # Extract accuracy\n",
    "                params = int(match.group(2))   # Extract parameter count\n",
    "                \n",
    "                # Check if the model fits the requirements\n",
    "                if accuracy >= min_accuracy and params <= max_params:\n",
    "                    usable_models.append(os.path.join(directory, filename))\n",
    "\n",
    "    return usable_models"
   ]
  },
  {
   "cell_type": "code",
   "execution_count": 77,
   "metadata": {},
   "outputs": [
    {
     "name": "stdout",
     "output_type": "stream",
     "text": [
      "Usable Models:\n",
      "saved_models/model_trial_1_acc_93_params_2704.keras\n",
      "saved_models/model_trial_1_acc_97_params_13306.keras\n",
      "saved_models/model_trial_0_acc_96_params_4460.keras\n",
      "saved_models/model_trial_2_acc_92_params_3372.keras\n",
      "saved_models/model_trial_2_acc_90_params_3372.keras\n",
      "saved_models/model_trial_2_acc_91_params_3372.keras\n"
     ]
    }
   ],
   "source": [
    "# Define directory and thresholds\n",
    "directory = \"saved_models\"\n",
    "min_accuracy = 90  # Minimum accuracy \n",
    "max_params = 100000  # Maximum parameter count \n",
    "\n",
    "# Get usable models\n",
    "usable_models = filter_keras_models(directory, min_accuracy, max_params)\n",
    "\n",
    "print(\"Usable Models:\")\n",
    "for model in usable_models:\n",
    "    print(model)\n",
    "\n",
    "\n",
    "#one small and one big high accuracy model\n",
    "\n",
    "#for SCC\n",
    "loaded_model_file_paths = []\n",
    "\n"
   ]
  },
  {
   "cell_type": "code",
   "execution_count": 78,
   "metadata": {},
   "outputs": [],
   "source": [
    "def train_or_evaluate_models(model_file_paths, root_dir, train_ds, val_ds, test_ds, epochs=30, retrain=False):\n",
    "    \"\"\"\n",
    "    Retrains or evaluates models from .keras files.\n",
    "\n",
    "    Args:\n",
    "        model_file_paths (list): List of relative paths to .keras model files.\n",
    "        root_dir (str): Root directory where the models are stored.\n",
    "        train_ds: Training dataset.\n",
    "        val_ds: Validation dataset.\n",
    "        test_ds: Test dataset for evaluation.\n",
    "        epochs (int): Number of epochs for retraining.\n",
    "        retrain (bool): If True, retrains the model; otherwise, evaluates it as is.\n",
    "\n",
    "    Returns:\n",
    "        results (dict): Dictionary containing training histories (if retrained) or evaluation scores.\n",
    "    \"\"\"\n",
    "    models = []\n",
    "\n",
    "    for i, model_path in enumerate(model_file_paths):\n",
    "        # Construct the absolute path\n",
    "        full_model_path = os.path.join(root_dir, model_path)\n",
    "        print(f\"\\nProcessing Model {i}: {full_model_path}\")\n",
    "\n",
    "        # Debug: Ensure file path correctness\n",
    "        if not os.path.exists(full_model_path):\n",
    "            print(f\"Error: File does not exist at {full_model_path}\")\n",
    "            continue\n",
    "\n",
    "        # Load the pretrained model\n",
    "        try:\n",
    "            model = tf.keras.models.load_model(full_model_path)\n",
    "        except ValueError as e:\n",
    "            print(f\"Error loading model from {full_model_path}: {e}\")\n",
    "            continue\n",
    "\n",
    "        if retrain:\n",
    "            # Compile the model before retraining\n",
    "            model.compile(\n",
    "                optimizer='adam',\n",
    "                loss=tf.keras.losses.SparseCategoricalCrossentropy(),\n",
    "                metrics=['accuracy']\n",
    "            )\n",
    "            model.summary()\n",
    "\n",
    "            # Retrain the model\n",
    "            history = model.fit(\n",
    "                train_ds,\n",
    "                validation_data=val_ds,\n",
    "                epochs=epochs,\n",
    "                callbacks=[keras.callbacks.EarlyStopping(verbose=1, patience=3, min_delta=0.001)],\n",
    "                verbose=1\n",
    "            )\n",
    "            \n",
    "            # Plot training history\n",
    "            plot_training_history(history, i)\n",
    "        else:\n",
    "            # Evaluate the model without retraining\n",
    "            eval_score = model.evaluate(test_ds, verbose=1)\n",
    "            print(f\"Evaluation Score for Model {i}: {eval_score}\")\n",
    "\n",
    "        models.append(model)\n",
    "\n",
    "\n",
    "    return models"
   ]
  },
  {
   "cell_type": "code",
   "execution_count": 79,
   "metadata": {},
   "outputs": [],
   "source": [
    "root_directory = r\"/projectnb/cs640grp/projects/tinyml\" # for SCC\n",
    "# root_directory = \"C:\\\\Users\\\\adamk\\\\Downloads\\\\micro_speech_model_making\\\\notebooks\\\\\" # for local\n",
    "\n",
    "new_models = train_or_evaluate_models(\n",
    "    model_file_paths=loaded_model_file_paths,\n",
    "    root_dir=root_directory,\n",
    "    train_ds=train_spectrogram_ds,\n",
    "    val_ds=val_spectrogram_ds,\n",
    "    test_ds=test_spectrogram_ds,\n",
    "    epochs=30,\n",
    "    retrain=True  # Retrain the models\n",
    ")"
   ]
  },
  {
   "cell_type": "code",
   "execution_count": 80,
   "metadata": {},
   "outputs": [],
   "source": [
    "for model in new_models:\n",
    "    model.save(model.name)\n",
    "    # Convert the model to TensorFlow Lite\n",
    "    converter = tf.lite.TFLiteConverter.from_saved_model(model.name)  # Path to the SavedModel directory\n",
    "    tflite_model = converter.convert()\n",
    "\n",
    "    # Save the TensorFlow Lite model\n",
    "    with open(\"model.tflite\", \"wb\") as f:\n",
    "        f.write(tflite_model)"
   ]
  },
  {
   "cell_type": "code",
   "execution_count": null,
   "metadata": {},
   "outputs": [],
   "source": []
  },
  {
   "cell_type": "code",
   "execution_count": 81,
   "metadata": {},
   "outputs": [],
   "source": [
    "def create_tiny_conv_model_small(is_training):\n",
    "    input_frequency_size = FEATURE_BIN_COUNT\n",
    "    input_time_size = spectrogram_length\n",
    "    label_count = NUM_LABELS\n",
    "    \n",
    "    # Set dropout rate if training\n",
    "    dropout_rate = 0.5 if is_training else 0.0\n",
    "\n",
    "    # Input assumed to be a flat vector of length input_time_size * input_frequency_size\n",
    "    inputs = tf.keras.Input(shape=(input_time_size * input_frequency_size,), name='input')\n",
    "\n",
    "    # Reshape to [batch, input_time_size, input_frequency_size, 1]\n",
    "    x = tf.keras.layers.Reshape((input_time_size, input_frequency_size, 1), name='reshape')(inputs)\n",
    "    \n",
    "    # First convolutional layer\n",
    "    # Using the same parameters as in the original model:\n",
    "    # kernel_size = [first_filter_height, first_filter_width] = [10, 8]\n",
    "    # filters = first_filter_count = 8\n",
    "    # strides = (first_conv_stride_y, first_conv_stride_x) = (2, 2)\n",
    "    # padding = 'SAME'\n",
    "    # kernel_initializer and bias_initializer replicate truncated_normal and zeros from original code.\n",
    "    x = tf.keras.layers.Conv2D(\n",
    "        filters=8,\n",
    "        kernel_size=(10, 8),\n",
    "        strides=(2, 2),\n",
    "        padding='same',\n",
    "        kernel_initializer=tf.keras.initializers.TruncatedNormal(stddev=0.01),\n",
    "        bias_initializer=tf.keras.initializers.Zeros(),\n",
    "        name='conv'\n",
    "    )(x)\n",
    "    \n",
    "    # ReLU activation\n",
    "    x = tf.keras.layers.ReLU(name='relu')(x)\n",
    "    \n",
    "    # Dropout if training\n",
    "    if is_training:\n",
    "        x = tf.keras.layers.Dropout(rate=dropout_rate, name='dropout')(x)\n",
    "        \n",
    "    # Flatten the output\n",
    "    x = tf.keras.layers.Flatten(name='flatten')(x)\n",
    "    \n",
    "    # Final fully-connected (dense) layer\n",
    "    # shape = [first_dropout_element_count, label_count]\n",
    "    # kernel_initializer and bias_initializer again mirror original initialization\n",
    "    outputs = tf.keras.layers.Dense(\n",
    "        units=label_count,\n",
    "        kernel_initializer=tf.keras.initializers.TruncatedNormal(stddev=0.01),\n",
    "        bias_initializer='zeros',\n",
    "        activation = \"softmax\",\n",
    "        name='final_fc'\n",
    "    )(x)\n",
    "    \n",
    "    # Create the Keras model\n",
    "    model = tf.keras.Model(inputs=inputs, outputs=outputs, name='tiny_conv_model_small')\n",
    "    return model"
   ]
  },
  {
   "cell_type": "code",
   "execution_count": 82,
   "metadata": {},
   "outputs": [],
   "source": [
    "def create_tiny_conv_model(is_training):\n",
    "    input_frequency_size = FEATURE_BIN_COUNT\n",
    "    input_time_size = spectrogram_length\n",
    "    label_count = NUM_LABELS\n",
    "    \n",
    "    # Set dropout rate if training\n",
    "    dropout_rate = 0.2 if is_training else 0.0\n",
    "\n",
    "    # Input assumed to be a flat vector of length input_time_size * input_frequency_size\n",
    "    inputs = tf.keras.Input(shape=(input_time_size * input_frequency_size,), name='input')\n",
    "\n",
    "    # Reshape to [batch, input_time_size, input_frequency_size, 1]\n",
    "    x = tf.keras.layers.Reshape((input_time_size, input_frequency_size, 1), name='reshape')(inputs)\n",
    "    \n",
    "    # First convolutional layer\n",
    "    # Using the same parameters as in the original model:\n",
    "    # kernel_size = [first_filter_height, first_filter_width] = [10, 8]\n",
    "    # filters = first_filter_count = 8\n",
    "    # strides = (first_conv_stride_y, first_conv_stride_x) = (2, 2)\n",
    "    # padding = 'SAME'\n",
    "    # kernel_initializer and bias_initializer replicate truncated_normal and zeros from original code.\n",
    "    x = tf.keras.layers.Conv2D(\n",
    "        filters=8,\n",
    "        kernel_size=(10, 8),\n",
    "        strides=(2, 2),\n",
    "        padding='same',\n",
    "        kernel_initializer=tf.keras.initializers.TruncatedNormal(stddev=0.01),\n",
    "        bias_initializer=tf.keras.initializers.Zeros(),\n",
    "        name='conv1'\n",
    "    )(x)\n",
    "    \n",
    "    # ReLU activation\n",
    "    x = tf.keras.layers.ReLU(name='relu1')(x)\n",
    "    \n",
    "    # Dropout if training\n",
    "    if is_training:\n",
    "        x = tf.keras.layers.Dropout(rate=dropout_rate, name='dropout1')(x)\n",
    "        \n",
    "    x = tf.keras.layers.Conv2D(\n",
    "        filters=8,\n",
    "        kernel_size=(10, 8),\n",
    "        strides=(8, 8),\n",
    "        padding='same',\n",
    "        kernel_initializer=tf.keras.initializers.TruncatedNormal(stddev=0.01),\n",
    "        bias_initializer=tf.keras.initializers.Zeros(),\n",
    "        name='conv2'\n",
    "    )(x)\n",
    "    \n",
    "    # ReLU activation\n",
    "    x = tf.keras.layers.ReLU(name='relu2')(x)\n",
    "    \n",
    "    # Dropout if training\n",
    "    if is_training:\n",
    "        x = tf.keras.layers.Dropout(rate=dropout_rate, name='dropout2')(x)\n",
    "        \n",
    "    # Flatten the output\n",
    "    x = tf.keras.layers.Flatten(name='flatten')(x)\n",
    "    \n",
    "    # Final fully-connected (dense) layer\n",
    "    # shape = [first_dropout_element_count, label_count]\n",
    "    # kernel_initializer and bias_initializer again mirror original initialization\n",
    "    outputs = tf.keras.layers.Dense(\n",
    "        units=label_count,\n",
    "        kernel_initializer=tf.keras.initializers.TruncatedNormal(stddev=0.01),\n",
    "        bias_initializer='zeros',\n",
    "        activation = \"softmax\",\n",
    "        name='final_fc'\n",
    "    )(x)\n",
    "    \n",
    "    # Create the Keras model\n",
    "    model = tf.keras.Model(inputs=inputs, outputs=outputs, name='tiny_conv_model')\n",
    "    return model"
   ]
  },
  {
   "cell_type": "code",
   "execution_count": 83,
   "metadata": {},
   "outputs": [
    {
     "data": {
      "text/plain": [
       "\"\\n# Create tiny embedded convolutional model using Sequential API\\ndef create_tiny_embed_conv_model_small(input_shape=(1960, ), num_classes=4, is_training=True):\\n    model = keras.Sequential(name='tiny_embed_conv_model')\\n        \\n    model.add(keras.layers.Input(shape=input_shape))\\n    model.add(keras.layers.Reshape((49, 40, 1), name='reshape'))\\n    #reshaper = tf.reshape(input_shape, (49, 40, 1))\\n    \\n    model.add(keras.layers.Conv2D(filters=8,\\n                     kernel_size=(10, 8),\\n                     strides=(2, 2),\\n                     padding='same',\\n                     use_bias=True,\\n                     kernel_initializer=tf.keras.initializers.TruncatedNormal(stddev=0.01),\\n                     bias_initializer='zeros',\\n                     name='conv1'))\\n    model.add(keras.layers.ReLU(name='relu1'))\\n    \\n    if is_training:\\n        model.add(keras.layers.Dropout(rate=0.2, name='dropout1'))\\n    \\n    model.add(keras.layers.Conv2D(filters=8,\\n                     kernel_size=(10, 8),\\n                     strides=(8, 8),\\n                     padding='same',\\n                     use_bias=True,\\n                     kernel_initializer=tf.keras.initializers.TruncatedNormal(stddev=0.01),\\n                     bias_initializer='zeros',\\n                     name='conv2'))\\n    model.add(keras.layers.ReLU(name = 'relu2'))\\n    \\n    if is_training:\\n        model.add(keras.layers.Dropout(rate=0.2, name='dropout2'))\\n    \\n    model.add(keras.layers.Flatten(name='flatten'))\\n    model.add(keras.layers.Dense(units=num_classes,\\n                    activation='softmax',\\n                    kernel_initializer=tf.keras.initializers.TruncatedNormal(stddev=0.01),\\n                    bias_initializer='zeros',\\n                    name='fc2'))\\n    \\n    return model\\n\""
      ]
     },
     "execution_count": 83,
     "metadata": {},
     "output_type": "execute_result"
    }
   ],
   "source": [
    "'''\n",
    "# Create tiny embedded convolutional model using Sequential API\n",
    "def create_tiny_embed_conv_model_small(input_shape=(1960, ), num_classes=4, is_training=True):\n",
    "    model = keras.Sequential(name='tiny_embed_conv_model')\n",
    "        \n",
    "    model.add(keras.layers.Input(shape=input_shape))\n",
    "    model.add(keras.layers.Reshape((49, 40, 1), name='reshape'))\n",
    "    #reshaper = tf.reshape(input_shape, (49, 40, 1))\n",
    "    \n",
    "    model.add(keras.layers.Conv2D(filters=8,\n",
    "                     kernel_size=(10, 8),\n",
    "                     strides=(2, 2),\n",
    "                     padding='same',\n",
    "                     use_bias=True,\n",
    "                     kernel_initializer=tf.keras.initializers.TruncatedNormal(stddev=0.01),\n",
    "                     bias_initializer='zeros',\n",
    "                     name='conv1'))\n",
    "    model.add(keras.layers.ReLU(name='relu1'))\n",
    "    \n",
    "    if is_training:\n",
    "        model.add(keras.layers.Dropout(rate=0.2, name='dropout1'))\n",
    "    \n",
    "    model.add(keras.layers.Conv2D(filters=8,\n",
    "                     kernel_size=(10, 8),\n",
    "                     strides=(8, 8),\n",
    "                     padding='same',\n",
    "                     use_bias=True,\n",
    "                     kernel_initializer=tf.keras.initializers.TruncatedNormal(stddev=0.01),\n",
    "                     bias_initializer='zeros',\n",
    "                     name='conv2'))\n",
    "    model.add(keras.layers.ReLU(name = 'relu2'))\n",
    "    \n",
    "    if is_training:\n",
    "        model.add(keras.layers.Dropout(rate=0.2, name='dropout2'))\n",
    "    \n",
    "    model.add(keras.layers.Flatten(name='flatten'))\n",
    "    model.add(keras.layers.Dense(units=num_classes,\n",
    "                    activation='softmax',\n",
    "                    kernel_initializer=tf.keras.initializers.TruncatedNormal(stddev=0.01),\n",
    "                    bias_initializer='zeros',\n",
    "                    name='fc2'))\n",
    "    \n",
    "    return model\n",
    "'''"
   ]
  },
  {
   "cell_type": "code",
   "execution_count": 84,
   "metadata": {},
   "outputs": [],
   "source": [
    "def apply_fake_quantization(data):\n",
    "    data_tensor = tf.convert_to_tensor(data, dtype=tf.float32)\n",
    "    # Quantize the tensor with given min/max values\n",
    "    quantized_tensor = tf.quantization.fake_quant_with_min_max_args(\n",
    "        inputs=data_tensor,\n",
    "        min=0.0,  # Minimum value of the quantization range\n",
    "        max=26.0,   # Maximum value of the quantization range\n",
    "        num_bits=8 # Number of bits for quantization\n",
    "    )\n",
    "    return quantized_tensor.numpy()"
   ]
  },
  {
   "cell_type": "code",
   "execution_count": 85,
   "metadata": {},
   "outputs": [],
   "source": [
    "#X_train = apply_fake_quantization(X_train)"
   ]
  },
  {
   "cell_type": "code",
   "execution_count": 86,
   "metadata": {},
   "outputs": [],
   "source": [
    "#X_val = apply_fake_quantization(X_val)\n",
    "#X_test = apply_fake_quantization(X_test)"
   ]
  },
  {
   "cell_type": "code",
   "execution_count": 87,
   "metadata": {},
   "outputs": [
    {
     "name": "stdout",
     "output_type": "stream",
     "text": [
      "\n",
      "Training Model 0\n",
      "Model: \"tiny_conv_model\"\n",
      "_________________________________________________________________\n",
      " Layer (type)                Output Shape              Param #   \n",
      "=================================================================\n",
      " input (InputLayer)          [(None, 1960)]            0         \n",
      "                                                                 \n",
      " reshape (Reshape)           (None, 49, 40, 1)         0         \n",
      "                                                                 \n",
      " conv1 (Conv2D)              (None, 25, 20, 8)         648       \n",
      "                                                                 \n",
      " relu1 (ReLU)                (None, 25, 20, 8)         0         \n",
      "                                                                 \n",
      " dropout1 (Dropout)          (None, 25, 20, 8)         0         \n",
      "                                                                 \n",
      " conv2 (Conv2D)              (None, 4, 3, 8)           5128      \n",
      "                                                                 \n",
      " relu2 (ReLU)                (None, 4, 3, 8)           0         \n",
      "                                                                 \n",
      " dropout2 (Dropout)          (None, 4, 3, 8)           0         \n",
      "                                                                 \n",
      " flatten (Flatten)           (None, 96)                0         \n",
      "                                                                 \n",
      " final_fc (Dense)            (None, 4)                 388       \n",
      "                                                                 \n",
      "=================================================================\n",
      "Total params: 6,164\n",
      "Trainable params: 6,164\n",
      "Non-trainable params: 0\n",
      "_________________________________________________________________\n",
      "Epoch 1/25\n",
      "2542/2542 [==============================] - 22s 3ms/step - loss: 0.4994 - accuracy: 0.7975 - val_loss: 0.3057 - val_accuracy: 0.8833\n",
      "Epoch 2/25\n",
      "2542/2542 [==============================] - 6s 3ms/step - loss: 0.3197 - accuracy: 0.8731 - val_loss: 0.2189 - val_accuracy: 0.9181\n",
      "Epoch 3/25\n",
      "2542/2542 [==============================] - 6s 3ms/step - loss: 0.2598 - accuracy: 0.8981 - val_loss: 0.1796 - val_accuracy: 0.9329\n",
      "Epoch 4/25\n",
      "2542/2542 [==============================] - 6s 3ms/step - loss: 0.2202 - accuracy: 0.9148 - val_loss: 0.1585 - val_accuracy: 0.9404\n",
      "Epoch 5/25\n",
      "2542/2542 [==============================] - 6s 3ms/step - loss: 0.1960 - accuracy: 0.9249 - val_loss: 0.1392 - val_accuracy: 0.9507\n",
      "Epoch 6/25\n",
      "2542/2542 [==============================] - 7s 3ms/step - loss: 0.1838 - accuracy: 0.9298 - val_loss: 0.1386 - val_accuracy: 0.9479\n",
      "Epoch 7/25\n",
      "2542/2542 [==============================] - 6s 3ms/step - loss: 0.1760 - accuracy: 0.9324 - val_loss: 0.1280 - val_accuracy: 0.9536\n",
      "Epoch 8/25\n",
      "2542/2542 [==============================] - 6s 3ms/step - loss: 0.1679 - accuracy: 0.9364 - val_loss: 0.1186 - val_accuracy: 0.9574\n",
      "Epoch 9/25\n",
      "2542/2542 [==============================] - 7s 3ms/step - loss: 0.1610 - accuracy: 0.9396 - val_loss: 0.1113 - val_accuracy: 0.9601\n",
      "Epoch 10/25\n",
      "2542/2542 [==============================] - 7s 3ms/step - loss: 0.1546 - accuracy: 0.9422 - val_loss: 0.1083 - val_accuracy: 0.9606\n",
      "Epoch 11/25\n",
      "2542/2542 [==============================] - 7s 3ms/step - loss: 0.1510 - accuracy: 0.9438 - val_loss: 0.1004 - val_accuracy: 0.9640\n",
      "Epoch 12/25\n",
      "2542/2542 [==============================] - 7s 3ms/step - loss: 0.1432 - accuracy: 0.9466 - val_loss: 0.1012 - val_accuracy: 0.9635\n",
      "Epoch 13/25\n",
      "2542/2542 [==============================] - 6s 3ms/step - loss: 0.1395 - accuracy: 0.9479 - val_loss: 0.1036 - val_accuracy: 0.9656\n",
      "Epoch 13: early stopping\n"
     ]
    },
    {
     "data": {
      "image/png": "[encoded data removed]",
      "text/plain": [
       "<Figure size 1200x400 with 2 Axes>"
      ]
     },
     "metadata": {},
     "output_type": "display_data"
    },
    {
     "name": "stdout",
     "output_type": "stream",
     "text": [
      "\n",
      "Training Model 1\n",
      "Model: \"tiny_conv_model_small\"\n",
      "_________________________________________________________________\n",
      " Layer (type)                Output Shape              Param #   \n",
      "=================================================================\n",
      " input (InputLayer)          [(None, 1960)]            0         \n",
      "                                                                 \n",
      " reshape (Reshape)           (None, 49, 40, 1)         0         \n",
      "                                                                 \n",
      " conv (Conv2D)               (None, 25, 20, 8)         648       \n",
      "                                                                 \n",
      " relu (ReLU)                 (None, 25, 20, 8)         0         \n",
      "                                                                 \n",
      " dropout (Dropout)           (None, 25, 20, 8)         0         \n",
      "                                                                 \n",
      " flatten (Flatten)           (None, 4000)              0         \n",
      "                                                                 \n",
      " final_fc (Dense)            (None, 4)                 16004     \n",
      "                                                                 \n",
      "=================================================================\n",
      "Total params: 16,652\n",
      "Trainable params: 16,652\n",
      "Non-trainable params: 0\n",
      "_________________________________________________________________\n",
      "Epoch 1/25\n",
      "2542/2542 [==============================] - 6s 2ms/step - loss: 0.3448 - accuracy: 0.8669 - val_loss: 0.2137 - val_accuracy: 0.9246\n",
      "Epoch 2/25\n",
      "2542/2542 [==============================] - 6s 2ms/step - loss: 0.2166 - accuracy: 0.9202 - val_loss: 0.1612 - val_accuracy: 0.9449\n",
      "Epoch 3/25\n",
      "2542/2542 [==============================] - 5s 2ms/step - loss: 0.1798 - accuracy: 0.9332 - val_loss: 0.1372 - val_accuracy: 0.9515\n",
      "Epoch 4/25\n",
      "2542/2542 [==============================] - 5s 2ms/step - loss: 0.1620 - accuracy: 0.9407 - val_loss: 0.1196 - val_accuracy: 0.9581\n",
      "Epoch 5/25\n",
      "2542/2542 [==============================] - 6s 2ms/step - loss: 0.1509 - accuracy: 0.9438 - val_loss: 0.1175 - val_accuracy: 0.9580\n",
      "Epoch 6/25\n",
      "2542/2542 [==============================] - 5s 2ms/step - loss: 0.1435 - accuracy: 0.9470 - val_loss: 0.1032 - val_accuracy: 0.9645\n",
      "Epoch 7/25\n",
      "2542/2542 [==============================] - 6s 2ms/step - loss: 0.1388 - accuracy: 0.9492 - val_loss: 0.0962 - val_accuracy: 0.9672\n",
      "Epoch 8/25\n",
      "2542/2542 [==============================] - 5s 2ms/step - loss: 0.1324 - accuracy: 0.9513 - val_loss: 0.0952 - val_accuracy: 0.9659\n",
      "Epoch 9/25\n",
      "2542/2542 [==============================] - 6s 2ms/step - loss: 0.1307 - accuracy: 0.9516 - val_loss: 0.0876 - val_accuracy: 0.9695\n",
      "Epoch 10/25\n",
      "2542/2542 [==============================] - 6s 2ms/step - loss: 0.1270 - accuracy: 0.9538 - val_loss: 0.0866 - val_accuracy: 0.9703\n",
      "Epoch 11/25\n",
      "2542/2542 [==============================] - 5s 2ms/step - loss: 0.1254 - accuracy: 0.9539 - val_loss: 0.0859 - val_accuracy: 0.9711\n",
      "Epoch 12/25\n",
      "2542/2542 [==============================] - 6s 2ms/step - loss: 0.1233 - accuracy: 0.9548 - val_loss: 0.0829 - val_accuracy: 0.9713\n",
      "Epoch 13/25\n",
      "2542/2542 [==============================] - 5s 2ms/step - loss: 0.1209 - accuracy: 0.9556 - val_loss: 0.0799 - val_accuracy: 0.9740\n",
      "Epoch 14/25\n",
      "2542/2542 [==============================] - 5s 2ms/step - loss: 0.1209 - accuracy: 0.9558 - val_loss: 0.0788 - val_accuracy: 0.9734\n",
      "Epoch 15/25\n",
      "2542/2542 [==============================] - 5s 2ms/step - loss: 0.1179 - accuracy: 0.9571 - val_loss: 0.0816 - val_accuracy: 0.9741\n",
      "Epoch 16/25\n",
      "2542/2542 [==============================] - 5s 2ms/step - loss: 0.1166 - accuracy: 0.9579 - val_loss: 0.0760 - val_accuracy: 0.9754\n",
      "Epoch 17/25\n",
      "2542/2542 [==============================] - 6s 2ms/step - loss: 0.1174 - accuracy: 0.9571 - val_loss: 0.0768 - val_accuracy: 0.9740\n",
      "Epoch 18/25\n",
      "2542/2542 [==============================] - 5s 2ms/step - loss: 0.1158 - accuracy: 0.9582 - val_loss: 0.0746 - val_accuracy: 0.9749\n",
      "Epoch 19/25\n",
      "2542/2542 [==============================] - 5s 2ms/step - loss: 0.1156 - accuracy: 0.9587 - val_loss: 0.0740 - val_accuracy: 0.9757\n",
      "Epoch 20/25\n",
      "2542/2542 [==============================] - 5s 2ms/step - loss: 0.1161 - accuracy: 0.9584 - val_loss: 0.0752 - val_accuracy: 0.9750\n",
      "Epoch 20: early stopping\n"
     ]
    },
    {
     "data": {
      "image/png": "[encoded data removed]",
      "text/plain": [
       "<Figure size 1200x400 with 2 Axes>"
      ]
     },
     "metadata": {},
     "output_type": "display_data"
    }
   ],
   "source": [
    "model_list = []\n",
    "histories = []\n",
    "sequential_models = True\n",
    "is_training = True\n",
    "\n",
    "for i, create_model in enumerate([create_tiny_conv_model, create_tiny_conv_model_small]):\n",
    "    print(f'\\nTraining Model {i}')\n",
    "    model = create_model(is_training)\n",
    "    \n",
    "    model.compile(\n",
    "        optimizer='adam',\n",
    "        loss=tf.keras.losses.SparseCategoricalCrossentropy(),\n",
    "        metrics=['accuracy']\n",
    "    )\n",
    "\n",
    "    model.summary()\n",
    "\n",
    "\n",
    "    history = model.fit(\n",
    "        train_spectrogram_ds,\n",
    "        validation_data = val_spectrogram_ds,\n",
    "        epochs=25,  # You can adjust the number of epochs\n",
    "        callbacks=keras.callbacks.EarlyStopping(verbose=1, patience=2, min_delta=0.001),\n",
    "        verbose = 1\n",
    "    )\n",
    "    model_list.append(model)\n",
    "    histories.append(history)\n",
    "    \n",
    "    plot_training_history(history, i)\n"
   ]
  },
  {
   "cell_type": "code",
   "execution_count": 88,
   "metadata": {},
   "outputs": [
    {
     "name": "stderr",
     "output_type": "stream",
     "text": [
      "WARNING:absl:Found untraced functions such as _jit_compiled_convolution_op, _jit_compiled_convolution_op while saving (showing 2 of 2). These functions will not be directly callable after loading.\n"
     ]
    },
    {
     "name": "stdout",
     "output_type": "stream",
     "text": [
      "INFO:tensorflow:Assets written to: tiny_conv_modelbase/assets\n"
     ]
    },
    {
     "name": "stderr",
     "output_type": "stream",
     "text": [
      "INFO:tensorflow:Assets written to: tiny_conv_modelbase/assets\n",
      "WARNING:absl:Found untraced functions such as _jit_compiled_convolution_op while saving (showing 1 of 1). These functions will not be directly callable after loading.\n"
     ]
    },
    {
     "name": "stdout",
     "output_type": "stream",
     "text": [
      "INFO:tensorflow:Assets written to: tiny_conv_model_smallbase/assets\n"
     ]
    },
    {
     "name": "stderr",
     "output_type": "stream",
     "text": [
      "INFO:tensorflow:Assets written to: tiny_conv_model_smallbase/assets\n"
     ]
    }
   ],
   "source": [
    "for model in model_list:\n",
    "    model.save(model.name + \"base\")\n",
    "    converter = tf.lite.TFLiteConverter.from_saved_model(model.name + \"base\")  # Path to the SavedModel directory\n",
    "    tflite_model = converter.convert()\n",
    "    # Save the TensorFlow Lite model\n",
    "    with open(model.name + \"base.tflite\", \"wb\") as f:\n",
    "        f.write(tflite_model)\n"
   ]
  },
  {
   "cell_type": "code",
   "execution_count": 89,
   "metadata": {},
   "outputs": [
    {
     "name": "stdout",
     "output_type": "stream",
     "text": [
      "0.10260143131017685 0.9661366939544678\n",
      "0.07342316955327988 0.9762994050979614\n"
     ]
    }
   ],
   "source": [
    "for model in model_list:\n",
    "    test_loss, test_acc = model.evaluate(test_spectrogram_ds, verbose=0)\n",
    "    print(test_loss, test_acc)"
   ]
  },
  {
   "cell_type": "markdown",
   "metadata": {},
   "source": [
    "## Compile and test models"
   ]
  },
  {
   "cell_type": "code",
   "execution_count": 91,
   "metadata": {},
   "outputs": [],
   "source": [
    "final_models = model_list #+ new_models"
   ]
  },
  {
   "cell_type": "code",
   "execution_count": 92,
   "metadata": {},
   "outputs": [],
   "source": [
    "def get_gzipped_tflite_model_size(tflite_model):\n",
    "    # Write the TFLite model to a temporary file\n",
    "    with tempfile.NamedTemporaryFile(suffix='.tflite', delete=False) as temp_file:\n",
    "        temp_file.write(tflite_model)\n",
    "        model_filename = temp_file.name\n",
    "\n",
    "    # Compress it as a zip file for size measurement\n",
    "    with tempfile.NamedTemporaryFile(suffix='.zip', delete=False) as temp_zip:\n",
    "        zipped_file = temp_zip.name\n",
    "    with zipfile.ZipFile(zipped_file, 'w', compression=zipfile.ZIP_DEFLATED) as f:\n",
    "        f.write(model_filename, arcname='model.tflite')\n",
    "\n",
    "    # Get the size of the gzipped model file in KB\n",
    "    gzipped_size_kb = os.path.getsize(zipped_file) / 1000.0\n",
    "\n",
    "    # Clean up temporary files\n",
    "    os.remove(model_filename)\n",
    "    os.remove(zipped_file)\n",
    "\n",
    "    return gzipped_size_kb\n",
    "\n",
    "def evaluate_tflite_model(tflite_model, test_dataset):\n",
    "    # Convert the tf.data.Dataset to NumPy arrays if not already\n",
    "    # This step assumes test_dataset yields (features, labels)\n",
    "    X_list, y_list = [], []\n",
    "    for x_batch, y_batch in test_dataset:\n",
    "        X_list.append(x_batch.numpy())\n",
    "        y_list.append(y_batch.numpy())\n",
    "    X_test = np.concatenate(X_list, axis=0)\n",
    "    y_test = np.concatenate(y_list, axis=0)\n",
    "\n",
    "    # Initialize the TFLite interpreter\n",
    "    interpreter = tf.lite.Interpreter(model_content=tflite_model)\n",
    "    interpreter.allocate_tensors()\n",
    "\n",
    "    input_details = interpreter.get_input_details()[0]\n",
    "    output_details = interpreter.get_output_details()[0]\n",
    "\n",
    "    # For quantized models, manually quantize the input data from float to integer\n",
    "    input_scale, input_zero_point = input_details[\"quantization\"]\n",
    "\n",
    "    # Reshape test data to match the input shape if necessary\n",
    "    # Adjust the reshape line based on your model’s input requirements.\n",
    "    # For example, if input_details['shape'] is [1, height, width, channels],\n",
    "    # and X_test is [num_samples, height, width, channels], just ensure they match.\n",
    "    # The snippet provided used a 2D reshape, adjust as appropriate.\n",
    "    input_shape = input_details['shape']\n",
    "    # Typically, input_shape[0] is 1 (batch), so we use the rest for reshape\n",
    "    # Example: If input_shape is [1, 32, 32], then reshape X_test to [X_test.shape[0], 32, 32]\n",
    "    # Modify this line according to your input shape.\n",
    "    test_data = X_test.reshape((X_test.shape[0],) + tuple(input_shape[0:2]))\n",
    "\n",
    "    # Apply quantization scaling to test_data if quantized\n",
    "    if input_scale > 0:\n",
    "        test_data = test_data / input_scale + input_zero_point\n",
    "    test_data = test_data.astype(input_details[\"dtype\"])\n",
    "\n",
    "    correct_predictions = 0\n",
    "    for i in range(len(test_data)):\n",
    "        # Set the input tensor. Note: if the model expects a batch dimension, \n",
    "        # you may need test_data[i:i+1] instead of test_data[i]\n",
    "        interpreter.set_tensor(input_details[\"index\"], test_data[i])\n",
    "        interpreter.invoke()\n",
    "        output = interpreter.get_tensor(output_details[\"index\"])[0]\n",
    "\n",
    "        top_prediction = output.argmax()\n",
    "        correct_predictions += (top_prediction == y_test[i])\n",
    "\n",
    "    accuracy = (correct_predictions / len(X_test)) if len(X_test) > 0 else 0.0\n",
    "    print(\"tf accuracy: \" + str(accuracy) )\n",
    "    return accuracy\n",
    "\n",
    "\n",
    "def get_tflite_accuracy(model, test_spectrogram_ds):\n",
    "    # Convert to TFLite\n",
    "    converter = tf.lite.TFLiteConverter.from_keras_model(model)\n",
    "    tflite_model = converter.convert()\n",
    "\n",
    "    # Evaluate the TFLite model's accuracy\n",
    "    accuracy = evaluate_tflite_model(tflite_model, test_spectrogram_ds)\n",
    "\n",
    "    # Get gzipped size of the TFLite model\n",
    "    gzipped_size = get_gzipped_tflite_model_size(tflite_model)\n",
    "\n",
    "    return accuracy, gzipped_size"
   ]
  },
  {
   "cell_type": "code",
   "execution_count": 93,
   "metadata": {},
   "outputs": [],
   "source": [
    "# Function to reload any serialized models (from bytes) if necessary\n",
    "def load_if_serialized(model):\n",
    "    if isinstance(model, bytes):\n",
    "        # Assuming the model was saved as bytes, use `tf.keras.models.model_from_json` or similar\n",
    "        raise TypeError(\"Model is in a serialized bytes format. Please load it as a Keras model before passing.\")\n",
    "    return model\n",
    "\n",
    "def get_gzipped_model_size(model):\n",
    "    # Save the model to a temporary file in .keras format\n",
    "    with tempfile.NamedTemporaryFile(suffix='.keras', delete=False) as temp_file:\n",
    "        model.save(temp_file.name)\n",
    "        model_filename = temp_file.name\n",
    "\n",
    "    # Compress the model file to calculate its gzipped size\n",
    "    with tempfile.NamedTemporaryFile(suffix='.zip', delete=False) as temp_zip:\n",
    "        zipped_file = temp_zip.name\n",
    "    with zipfile.ZipFile(zipped_file, 'w', compression=zipfile.ZIP_DEFLATED) as f:\n",
    "        f.write(model_filename, arcname='model.keras')\n",
    "\n",
    "    # Get the size of the gzipped model file in kilobytes\n",
    "    gzipped_size = os.path.getsize(zipped_file) / 1000  # Convert bytes to KB\n",
    "\n",
    "    # Clean up temporary files\n",
    "    os.remove(model_filename)\n",
    "    os.remove(zipped_file)\n",
    "\n",
    "    return gzipped_size\n",
    "\n",
    "def plot_size_v_accuracy(models, test_spectrogram_ds):\n",
    "    # Lists to store the results\n",
    "    accuracies = []\n",
    "    model_sizes = []\n",
    "    model_names = []\n",
    "    tf_accuracies = []\n",
    "    tf_model_sizes = []\n",
    "    # Evaluate each model and store the results\n",
    "    for i, model in enumerate(models, start=1):\n",
    "        try:\n",
    "            # Load model if it's in serialized bytes format\n",
    "            model = load_if_serialized(model)\n",
    "\n",
    "            # Check if model is a Keras model instance\n",
    "            #if not isinstance(model, tf.keras.Model):\n",
    "            #    raise TypeError(f\"Model {i} is not a Keras model instance.\")\n",
    "\n",
    "            # Check if the model is compiled by looking for an optimizer\n",
    "            if model.optimizer is None:\n",
    "                model.compile(\n",
    "                    optimizer='adam',\n",
    "                    loss=tf.keras.losses.SparseCategoricalCrossentropy(),\n",
    "                    metrics=['accuracy']\n",
    "                )\n",
    "            \n",
    "            # Evaluate the model\n",
    "            test_loss, test_acc = model.evaluate(test_spectrogram_ds, verbose=0)\n",
    "\n",
    "            # Calculate the gzipped model size\n",
    "            gzipped_size = get_gzipped_model_size(model)\n",
    "            \n",
    "            tf_test_acc, tf_gzipped_size = get_tflite_accuracy(model, test_spectrogram_ds)\n",
    "\n",
    "            # Print the details\n",
    "            print(f\"Model {i} ({model.name}):\")\n",
    "            print(f\"  Gzipped Model Size: {gzipped_size:.2f} KB\")\n",
    "            print(f\"  Test Accuracy: {test_acc:.4f}\")\n",
    "            print(f\"  TFLite Gzipped Model Size: {tf_gzipped_size:.2f} KB\")\n",
    "            print(f\"  TFLite Test Accuracy: {tf_test_acc:.4f}\")\n",
    "            \n",
    "            # Store the accuracy and model size\n",
    "            accuracies.append(test_acc)\n",
    "            model_sizes.append(gzipped_size)\n",
    "            \n",
    "            tf_accuracies.append(tf_test_acc)\n",
    "            tf_model_sizes.append(tf_gzipped_size)\n",
    "            \n",
    "            model_names.append(model.name)\n",
    "\n",
    "\n",
    "        except Exception as e:\n",
    "            print(f\"An error occurred with Model {i}: {e}\")\n",
    "\n",
    "    # Plotting accuracy vs. gzipped model size\n",
    "    plt.figure(figsize=(10, 6))\n",
    "    plt.plot(model_sizes, accuracies, marker='o', linestyle='', color='b')\n",
    "    plt.plot(tf_model_sizes, tf_accuracies, marker='o', linestyle='', color='r')\n",
    "\n",
    "    for i, model_name in enumerate(model_names):\n",
    "        plt.text(model_sizes[i], accuracies[i], model_name, fontsize=9, ha='right', color = 'b')\n",
    "        plt.text(tf_model_sizes[i], tf_accuracies[i], f\"tf_{model_name}\", fontsize=9, ha='right', color = 'r')\n",
    "        \n",
    "\n",
    "    # Add labels and title\n",
    "    plt.xlabel('Gzipped Model Size (KB)')\n",
    "    plt.ylabel('Test Accuracy')\n",
    "    plt.title('Model Accuracy vs. Gzipped Model Size')\n",
    "    plt.grid(True)\n",
    "    plt.show()"
   ]
  },
  {
   "cell_type": "code",
   "execution_count": 94,
   "metadata": {},
   "outputs": [
    {
     "name": "stderr",
     "output_type": "stream",
     "text": [
      "WARNING:absl:Found untraced functions such as _jit_compiled_convolution_op, _jit_compiled_convolution_op while saving (showing 2 of 2). These functions will not be directly callable after loading.\n"
     ]
    },
    {
     "name": "stdout",
     "output_type": "stream",
     "text": [
      "INFO:tensorflow:Assets written to: /scratch/1483148.1.academic-gpu/tmpk2a8w8_c/assets\n"
     ]
    },
    {
     "name": "stderr",
     "output_type": "stream",
     "text": [
      "INFO:tensorflow:Assets written to: /scratch/1483148.1.academic-gpu/tmpk2a8w8_c/assets\n"
     ]
    },
    {
     "name": "stdout",
     "output_type": "stream",
     "text": [
      "tf accuracy: 0.9661367073665572\n",
      "Model 1 (tiny_conv_model):\n",
      "  Gzipped Model Size: 73.53 KB\n",
      "  Test Accuracy: 0.9661\n",
      "  TFLite Gzipped Model Size: 24.80 KB\n",
      "  TFLite Test Accuracy: 0.9661\n"
     ]
    },
    {
     "name": "stderr",
     "output_type": "stream",
     "text": [
      "WARNING:absl:Found untraced functions such as _jit_compiled_convolution_op while saving (showing 1 of 1). These functions will not be directly callable after loading.\n"
     ]
    },
    {
     "name": "stdout",
     "output_type": "stream",
     "text": [
      "INFO:tensorflow:Assets written to: /scratch/1483148.1.academic-gpu/tmpkkkun7kx/assets\n"
     ]
    },
    {
     "name": "stderr",
     "output_type": "stream",
     "text": [
      "INFO:tensorflow:Assets written to: /scratch/1483148.1.academic-gpu/tmpkkkun7kx/assets\n"
     ]
    },
    {
     "name": "stdout",
     "output_type": "stream",
     "text": [
      "tf accuracy: 0.9762993839684238\n",
      "Model 2 (tiny_conv_model_small):\n",
      "  Gzipped Model Size: 192.52 KB\n",
      "  Test Accuracy: 0.9763\n",
      "  TFLite Gzipped Model Size: 63.59 KB\n",
      "  TFLite Test Accuracy: 0.9763\n"
     ]
    },
    {
     "data": {
      "image/png": "[encoded data removed]",
      "text/plain": [
       "<Figure size 1000x600 with 1 Axes>"
      ]
     },
     "metadata": {},
     "output_type": "display_data"
    }
   ],
   "source": [
    "plot_size_v_accuracy(final_models, test_spectrogram_ds)"
   ]
  },
  {
   "cell_type": "code",
   "execution_count": null,
   "metadata": {},
   "outputs": [],
   "source": []
  },
  {
   "cell_type": "markdown",
   "metadata": {},
   "source": [
    "# Shrinking the model\n",
    "\n",
    "[deployment on the edge](https://ai.google.dev/edge/litert)\n",
    "\n",
    "[general model optimizations](https://www.tensorflow.org/model_optimization/guide)\n",
    "\n",
    "We will start off with pruning\n",
    "\n",
    "we will aslo try quantization aware training to quantize the model\n",
    "and we will also try different post-training quantizations\n",
    "\n",
    "we can also try weight clustering\n",
    "\n",
    "and finalyl we will try a single workflow with a combination of the previous methods\n",
    "[collaborative optimizations](https://www.tensorflow.org/model_optimization/guide/combine/collaborative_optimization)\n",
    "\n",
    "\n",
    "https://blog.tensorflow.org/2024/04/faster-dynamically-quantized-inference-with-xnnpack.html\n",
    "\n"
   ]
  },
  {
   "cell_type": "markdown",
   "metadata": {},
   "source": [
    "# Pruning"
   ]
  },
  {
   "cell_type": "code",
   "execution_count": 137,
   "metadata": {},
   "outputs": [],
   "source": [
    "### Helper functions for pruning\n",
    "\n",
    "def ds_to_numpy(dataset):\n",
    "    \"\"\"Converts a tf.data.Dataset to numpy arrays for data and labels.\"\"\"\n",
    "    data = []\n",
    "    labels = []\n",
    "    \n",
    "    for features, label in dataset:\n",
    "        data.append(features)\n",
    "        labels.append(label)\n",
    "\n",
    "    data = tf.concat(data, axis=0)\n",
    "    labels = tf.concat(labels, axis=0)\n",
    "    return data, labels\n",
    "\n",
    "def print_model_weights_sparsity(model):\n",
    "    \"\"\"Prints the sparsity (percentage of zeros) for each layer's weights in the model.\"\"\"\n",
    "    for layer in model.layers:\n",
    "        if isinstance(layer, keras.layers.Wrapper):  # For pruned layers wrapped in the pruning wrapper\n",
    "            weights = layer.trainable_weights\n",
    "        else:\n",
    "            weights = layer.weights\n",
    "        for weight in weights:\n",
    "            weight_np = weight.numpy()\n",
    "            weight_size = weight_np.size\n",
    "            zero_num = np.count_nonzero(weight_np == 0)\n",
    "            print(f\"{weight.name}: {zero_num / weight_size:.2%} sparsity ({zero_num}/{weight_size})\")\n",
    "            \n",
    "def sequential_to_functional(sequential_model):\n",
    "    # Extract the layers from the Sequential model\n",
    "    inputs = Input(shape=sequential_model.input_shape[1:])\n",
    "    x = inputs\n",
    "\n",
    "    # Apply each layer from the Sequential model in sequence\n",
    "    for layer in sequential_model.layers:\n",
    "        x = layer(x)\n",
    "    \n",
    "    # Create a new functional model\n",
    "    functional_model = Model(inputs=inputs, outputs=x)\n",
    "    \n",
    "    # Copy weights from the Sequential model\n",
    "    functional_model.set_weights(sequential_model.get_weights())\n",
    "\n",
    "    print(functional_model)\n",
    "    \n",
    "    return functional_model"
   ]
  },
  {
   "cell_type": "code",
   "execution_count": 138,
   "metadata": {},
   "outputs": [],
   "source": [
    "from tensorflow.keras.models import clone_model\n",
    "def prune_model(model, train_spectrogram_ds, test_spectrogram_ds):\n",
    "    \"\"\"Prunes the given model with optional quantization-aware training (QAT).\"\"\"\n",
    "    # Ensure model is compatible with pruning by converting it to functional if needed\n",
    "    #model = sequential_to_functional(model)\n",
    "    \n",
    "    # Convert datasets to numpy arrays\n",
    "    train_data, train_labels = ds_to_numpy(train_spectrogram_ds)\n",
    "    test_data, test_labels = ds_to_numpy(test_spectrogram_ds)\n",
    "    \n",
    "    prune_low_magnitude = tfmot.sparsity.keras.prune_low_magnitude\n",
    "\n",
    "    # Define pruning parameters\n",
    "    pruning_params = {\n",
    "        'pruning_schedule': tfmot.sparsity.keras.ConstantSparsity(0.2, begin_step=0, frequency=100)\n",
    "    }\n",
    "    \n",
    "    # Define pruning callbacks\n",
    "    callbacks = [tfmot.sparsity.keras.UpdatePruningStep()]\n",
    "    \n",
    "    pruned_model = prune_low_magnitude(model, **pruning_params)\n",
    "    \n",
    "    # Compile the pruned model with a smaller learning rate for fine-tuning\n",
    "    pruned_model.compile(\n",
    "        optimizer=keras.optimizers.Adam(learning_rate=1e-5),\n",
    "        loss=keras.losses.SparseCategoricalCrossentropy(),\n",
    "        metrics=['accuracy']\n",
    "    )\n",
    "    \n",
    "    # Display model summary\n",
    "    pruned_model.summary()\n",
    "    \n",
    "    # Fine-tune the pruned model\n",
    "    pruned_model.fit(\n",
    "        train_data,\n",
    "        train_labels,\n",
    "        epochs=3,\n",
    "        validation_split=0.1,\n",
    "        callbacks=callbacks\n",
    "    )\n",
    "    \n",
    "    # Strip pruning wrappers for final deployment\n",
    "    stripped_pruned_model = tfmot.sparsity.keras.strip_pruning(pruned_model)\n",
    "\n",
    "\n",
    "    # Apply pruning\n",
    "    #if qat:\n",
    "        # Quantization-aware training with pruning\n",
    "    #    quant_aware_annotate_model = tfmot.quantization.keras.quantize_annotate_model(model)\n",
    "    #    pruned_model = tfmot.quantization.keras.quantize_apply(\n",
    "    #        quant_aware_annotate_model,\n",
    "    #        tfmot.experimental.combine.Default8BitPrunePreserveQuantizeScheme()\n",
    "    #    )\n",
    "    \n",
    "\n",
    "    # Check sparsity levels\n",
    "    print_model_weights_sparsity(stripped_pruned_model)\n",
    "\n",
    "    # Evaluate the pruned model on test data\n",
    "    _, pruned_model_accuracy = pruned_model.evaluate(test_data, test_labels, verbose=0)\n",
    "    print(\"Pruned test accuracy:\", pruned_model_accuracy)\n",
    "\n",
    "    return stripped_pruned_model"
   ]
  },
  {
   "cell_type": "code",
   "execution_count": 139,
   "metadata": {},
   "outputs": [
    {
     "name": "stdout",
     "output_type": "stream",
     "text": [
      "Model: \"pruned_tiny_conv_model\"\n",
      "_________________________________________________________________\n",
      " Layer (type)                Output Shape              Param #   \n",
      "=================================================================\n",
      " input (InputLayer)          [(None, 1960)]            0         \n",
      "                                                                 \n",
      " prune_low_magnitude_reshape  (None, 49, 40, 1)        1         \n",
      "  (PruneLowMagnitude)                                            \n",
      "                                                                 \n",
      " prune_low_magnitude_conv1 (  (None, 25, 20, 8)        1290      \n",
      " PruneLowMagnitude)                                              \n",
      "                                                                 \n",
      " prune_low_magnitude_relu1 (  (None, 25, 20, 8)        1         \n",
      " PruneLowMagnitude)                                              \n",
      "                                                                 \n",
      " prune_low_magnitude_dropout  (None, 25, 20, 8)        1         \n",
      " 1 (PruneLowMagnitude)                                           \n",
      "                                                                 \n",
      " prune_low_magnitude_conv2 (  (None, 4, 3, 8)          10250     \n",
      " PruneLowMagnitude)                                              \n",
      "                                                                 \n",
      " prune_low_magnitude_relu2 (  (None, 4, 3, 8)          1         \n",
      " PruneLowMagnitude)                                              \n",
      "                                                                 \n",
      " prune_low_magnitude_dropout  (None, 4, 3, 8)          1         \n",
      " 2 (PruneLowMagnitude)                                           \n",
      "                                                                 \n",
      " prune_low_magnitude_flatten  (None, 96)               1         \n",
      "  (PruneLowMagnitude)                                            \n",
      "                                                                 \n",
      " prune_low_magnitude_final_f  (None, 4)                774       \n",
      " c (PruneLowMagnitude)                                           \n",
      "                                                                 \n",
      "=================================================================\n",
      "Total params: 12,320\n",
      "Trainable params: 6,164\n",
      "Non-trainable params: 6,156\n",
      "_________________________________________________________________\n",
      "Epoch 1/3\n",
      "4575/4575 [==============================] - 17s 3ms/step - loss: 0.1359 - accuracy: 0.9501 - val_loss: 0.0784 - val_accuracy: 0.9736\n",
      "Epoch 2/3\n",
      "4575/4575 [==============================] - 15s 3ms/step - loss: 0.1322 - accuracy: 0.9499 - val_loss: 0.0776 - val_accuracy: 0.9741\n",
      "Epoch 3/3\n",
      "4575/4575 [==============================] - 15s 3ms/step - loss: 0.1313 - accuracy: 0.9513 - val_loss: 0.0769 - val_accuracy: 0.9742\n",
      "conv1/kernel:0: 20.00% sparsity (128/640)\n",
      "conv1/bias:0: 0.00% sparsity (0/8)\n",
      "conv2/kernel:0: 20.00% sparsity (1024/5120)\n",
      "conv2/bias:0: 0.00% sparsity (0/8)\n",
      "final_fc/kernel:0: 20.05% sparsity (77/384)\n",
      "final_fc/bias:0: 0.00% sparsity (0/4)\n",
      "Pruned test accuracy: 0.9682762026786804\n",
      "Model: \"pruned_tiny_conv_model_small\"\n",
      "_________________________________________________________________\n",
      " Layer (type)                Output Shape              Param #   \n",
      "=================================================================\n",
      " input (InputLayer)          [(None, 1960)]            0         \n",
      "                                                                 \n",
      " prune_low_magnitude_reshape  (None, 49, 40, 1)        1         \n",
      "  (PruneLowMagnitude)                                            \n",
      "                                                                 \n",
      " prune_low_magnitude_conv (P  (None, 25, 20, 8)        1290      \n",
      " runeLowMagnitude)                                               \n",
      "                                                                 \n",
      " prune_low_magnitude_relu (P  (None, 25, 20, 8)        1         \n",
      " runeLowMagnitude)                                               \n",
      "                                                                 \n",
      " prune_low_magnitude_dropout  (None, 25, 20, 8)        1         \n",
      "  (PruneLowMagnitude)                                            \n",
      "                                                                 \n",
      " prune_low_magnitude_flatten  (None, 4000)             1         \n",
      "  (PruneLowMagnitude)                                            \n",
      "                                                                 \n",
      " prune_low_magnitude_final_f  (None, 4)                32006     \n",
      " c (PruneLowMagnitude)                                           \n",
      "                                                                 \n",
      "=================================================================\n",
      "Total params: 33,300\n",
      "Trainable params: 16,652\n",
      "Non-trainable params: 16,648\n",
      "_________________________________________________________________\n",
      "Epoch 1/3\n",
      "4575/4575 [==============================] - 13s 3ms/step - loss: 0.1090 - accuracy: 0.9605 - val_loss: 0.0535 - val_accuracy: 0.9843\n",
      "Epoch 2/3\n",
      "4575/4575 [==============================] - 11s 3ms/step - loss: 0.1048 - accuracy: 0.9619 - val_loss: 0.0530 - val_accuracy: 0.9845\n",
      "Epoch 3/3\n",
      "4575/4575 [==============================] - 12s 3ms/step - loss: 0.1058 - accuracy: 0.9621 - val_loss: 0.0528 - val_accuracy: 0.9845\n",
      "conv/kernel:0: 20.00% sparsity (128/640)\n",
      "conv/bias:0: 0.00% sparsity (0/8)\n",
      "final_fc/kernel:0: 20.00% sparsity (3200/16000)\n",
      "final_fc/bias:0: 0.00% sparsity (0/4)\n",
      "Pruned test accuracy: 0.9780700206756592\n"
     ]
    }
   ],
   "source": [
    "# Prune models and store in basic_pruned_models\n",
    "basic_pruned_models = []\n",
    "\n",
    "for model in final_models:\n",
    "    # Clone the model to avoid modifying the original model\n",
    "    model_name = model.name\n",
    "    cloned_model = clone_model(model)\n",
    "    cloned_model.set_weights(model.get_weights())  # Copy weights to the cloned model\n",
    "    cloned_model._name = \"pruned_\"+model_name\n",
    "    # Prune the cloned model\n",
    "    pruned_model = prune_model(cloned_model, train_spectrogram_ds, test_spectrogram_ds)\n",
    "    basic_pruned_models.append(pruned_model)"
   ]
  },
  {
   "cell_type": "code",
   "execution_count": 140,
   "metadata": {},
   "outputs": [
    {
     "name": "stderr",
     "output_type": "stream",
     "text": [
      "WARNING:absl:Found untraced functions such as _jit_compiled_convolution_op, _jit_compiled_convolution_op, _update_step_xla while saving (showing 3 of 3). These functions will not be directly callable after loading.\n"
     ]
    },
    {
     "name": "stdout",
     "output_type": "stream",
     "text": [
      "INFO:tensorflow:Assets written to: /scratch/1483148.1.academic-gpu/tmpes721yk3/assets\n"
     ]
    },
    {
     "name": "stderr",
     "output_type": "stream",
     "text": [
      "INFO:tensorflow:Assets written to: /scratch/1483148.1.academic-gpu/tmpes721yk3/assets\n"
     ]
    },
    {
     "name": "stdout",
     "output_type": "stream",
     "text": [
      "tf accuracy: 0.9682762182301081\n",
      "Model 1 (pruned_tiny_conv_model):\n",
      "  Gzipped Model Size: 23.27 KB\n",
      "  Test Accuracy: 0.9683\n",
      "  TFLite Gzipped Model Size: 21.66 KB\n",
      "  TFLite Test Accuracy: 0.9683\n"
     ]
    },
    {
     "name": "stderr",
     "output_type": "stream",
     "text": [
      "WARNING:absl:Found untraced functions such as _jit_compiled_convolution_op, _update_step_xla while saving (showing 2 of 2). These functions will not be directly callable after loading.\n"
     ]
    },
    {
     "name": "stdout",
     "output_type": "stream",
     "text": [
      "INFO:tensorflow:Assets written to: /scratch/1483148.1.academic-gpu/tmpppmw9llr/assets\n"
     ]
    },
    {
     "name": "stderr",
     "output_type": "stream",
     "text": [
      "INFO:tensorflow:Assets written to: /scratch/1483148.1.academic-gpu/tmpppmw9llr/assets\n"
     ]
    },
    {
     "name": "stdout",
     "output_type": "stream",
     "text": [
      "tf accuracy: 0.9780700136486038\n",
      "Model 2 (pruned_tiny_conv_model_small):\n",
      "  Gzipped Model Size: 57.01 KB\n",
      "  Test Accuracy: 0.9781\n",
      "  TFLite Gzipped Model Size: 54.99 KB\n",
      "  TFLite Test Accuracy: 0.9781\n"
     ]
    },
    {
     "data": {
      "image/png": "[encoded data removed]",
      "text/plain": [
       "<Figure size 1000x600 with 1 Axes>"
      ]
     },
     "metadata": {},
     "output_type": "display_data"
    }
   ],
   "source": [
    "plot_size_v_accuracy(basic_pruned_models, test_spectrogram_ds)"
   ]
  },
  {
   "cell_type": "code",
   "execution_count": 141,
   "metadata": {},
   "outputs": [
    {
     "name": "stderr",
     "output_type": "stream",
     "text": [
      "WARNING:absl:Found untraced functions such as _jit_compiled_convolution_op, _jit_compiled_convolution_op, _update_step_xla while saving (showing 3 of 3). These functions will not be directly callable after loading.\n"
     ]
    },
    {
     "name": "stdout",
     "output_type": "stream",
     "text": [
      "INFO:tensorflow:Assets written to: pruned_tiny_conv_modelp/assets\n"
     ]
    },
    {
     "name": "stderr",
     "output_type": "stream",
     "text": [
      "INFO:tensorflow:Assets written to: pruned_tiny_conv_modelp/assets\n",
      "WARNING:absl:Found untraced functions such as _jit_compiled_convolution_op, _update_step_xla while saving (showing 2 of 2). These functions will not be directly callable after loading.\n"
     ]
    },
    {
     "name": "stdout",
     "output_type": "stream",
     "text": [
      "INFO:tensorflow:Assets written to: pruned_tiny_conv_model_smallp/assets\n"
     ]
    },
    {
     "name": "stderr",
     "output_type": "stream",
     "text": [
      "INFO:tensorflow:Assets written to: pruned_tiny_conv_model_smallp/assets\n"
     ]
    }
   ],
   "source": [
    "\n",
    "for model in basic_pruned_models:\n",
    "    model.save(model.name + \"p\")\n",
    "    converter = tf.lite.TFLiteConverter.from_saved_model(model.name + \"p\")  # Path to the SavedModel directory\n",
    "    tflite_model = converter.convert()\n",
    "    # Save the TensorFlow Lite model\n",
    "    with open(model.name + \"p.tflite\", \"wb\") as f:\n",
    "        f.write(tflite_model)\n"
   ]
  },
  {
   "cell_type": "markdown",
   "metadata": {},
   "source": [
    "# Weight Clustering"
   ]
  },
  {
   "cell_type": "code",
   "execution_count": 164,
   "metadata": {},
   "outputs": [],
   "source": [
    "from tensorflow_model_optimization.python.core.clustering.keras.experimental import (\n",
    "    cluster,\n",
    ")"
   ]
  },
  {
   "cell_type": "code",
   "execution_count": 165,
   "metadata": {},
   "outputs": [],
   "source": [
    "def cluster_model(model, train_spectrogram_ds, test_spectrogram_ds):\n",
    "    train_data, train_labels = ds_to_numpy(train_spectrogram_ds)\n",
    "    test_data, test_labels = ds_to_numpy(test_spectrogram_ds)\n",
    "    \n",
    "    cluster_weights = tfmot.clustering.keras.cluster_weights\n",
    "    CentroidInitialization = tfmot.clustering.keras.CentroidInitialization\n",
    "\n",
    "    cluster_weights = cluster.cluster_weights\n",
    "\n",
    "    clustering_params = {\n",
    "      'number_of_clusters': 10,\n",
    "      'cluster_centroids_init': CentroidInitialization.KMEANS_PLUS_PLUS,\n",
    "      'preserve_sparsity': True\n",
    "    }\n",
    "\n",
    "    sparsity_clustered_model = cluster_weights(model, **clustering_params)\n",
    "\n",
    "    sparsity_clustered_model.compile(optimizer='adam',\n",
    "                  loss=keras.losses.SparseCategoricalCrossentropy(),\n",
    "                  metrics=['accuracy'])\n",
    "\n",
    "    print('Train sparsity preserving clustering model:')\n",
    "    sparsity_clustered_model.fit(train_data, train_labels,epochs=3, validation_split=0.1)\n",
    "    \n",
    "    stripped_clustered_model = tfmot.clustering.keras.strip_clustering(sparsity_clustered_model)\n",
    "\n",
    "    return stripped_clustered_model\n"
   ]
  },
  {
   "cell_type": "code",
   "execution_count": 166,
   "metadata": {
    "scrolled": false
   },
   "outputs": [
    {
     "name": "stdout",
     "output_type": "stream",
     "text": [
      "Train sparsity preserving clustering model:\n",
      "Epoch 1/3\n",
      "4575/4575 [==============================] - 17s 3ms/step - loss: 0.0904 - accuracy: 0.9672 - val_loss: 0.0724 - val_accuracy: 0.9739\n",
      "Epoch 2/3\n",
      "4575/4575 [==============================] - 15s 3ms/step - loss: 0.0801 - accuracy: 0.9715 - val_loss: 0.0714 - val_accuracy: 0.9746\n",
      "Epoch 3/3\n",
      "4575/4575 [==============================] - 15s 3ms/step - loss: 0.0732 - accuracy: 0.9741 - val_loss: 0.0645 - val_accuracy: 0.9768\n",
      "Train sparsity preserving clustering model:\n",
      "Epoch 1/3\n",
      "4575/4575 [==============================] - 13s 3ms/step - loss: 0.0672 - accuracy: 0.9770 - val_loss: 0.0517 - val_accuracy: 0.9830\n",
      "Epoch 2/3\n",
      "4575/4575 [==============================] - 12s 3ms/step - loss: 0.0587 - accuracy: 0.9804 - val_loss: 0.0685 - val_accuracy: 0.9762\n",
      "Epoch 3/3\n",
      "4575/4575 [==============================] - 12s 3ms/step - loss: 0.0546 - accuracy: 0.9815 - val_loss: 0.0535 - val_accuracy: 0.9825\n"
     ]
    }
   ],
   "source": [
    "pruned_clustered_models = []\n",
    "\n",
    "for model in basic_pruned_models:\n",
    "    # Clone the model to avoid modifying the original model\n",
    "    model_name = model.name\n",
    "    cloned_model = clone_model(model)\n",
    "    cloned_model.set_weights(model.get_weights())  # Copy weights to the cloned model\n",
    "    cloned_model._name = \"clustered_\"+model_name\n",
    "    clustered_model = cluster_model(cloned_model, train_spectrogram_ds, test_spectrogram_ds)\n",
    "    pruned_clustered_models.append(clustered_model)\n"
   ]
  },
  {
   "cell_type": "code",
   "execution_count": 102,
   "metadata": {},
   "outputs": [
    {
     "name": "stderr",
     "output_type": "stream",
     "text": [
      "WARNING:absl:Found untraced functions such as _jit_compiled_convolution_op, _jit_compiled_convolution_op, _update_step_xla while saving (showing 3 of 3). These functions will not be directly callable after loading.\n"
     ]
    },
    {
     "name": "stdout",
     "output_type": "stream",
     "text": [
      "INFO:tensorflow:Assets written to: /scratch/1483148.1.academic-gpu/tmp9reoujba/assets\n"
     ]
    },
    {
     "name": "stderr",
     "output_type": "stream",
     "text": [
      "INFO:tensorflow:Assets written to: /scratch/1483148.1.academic-gpu/tmp9reoujba/assets\n"
     ]
    },
    {
     "name": "stdout",
     "output_type": "stream",
     "text": [
      "tf accuracy: 0.9639603083846693\n",
      "Model 1 (clustered_pruned_tiny_conv_model):\n",
      "  Gzipped Model Size: 6.39 KB\n",
      "  Test Accuracy: 0.9640\n",
      "  TFLite Gzipped Model Size: 5.18 KB\n",
      "  TFLite Test Accuracy: 0.9640\n"
     ]
    },
    {
     "name": "stderr",
     "output_type": "stream",
     "text": [
      "WARNING:absl:Found untraced functions such as _jit_compiled_convolution_op, _update_step_xla while saving (showing 2 of 2). These functions will not be directly callable after loading.\n"
     ]
    },
    {
     "name": "stdout",
     "output_type": "stream",
     "text": [
      "INFO:tensorflow:Assets written to: /scratch/1483148.1.academic-gpu/tmpmts6d49y/assets\n"
     ]
    },
    {
     "name": "stderr",
     "output_type": "stream",
     "text": [
      "INFO:tensorflow:Assets written to: /scratch/1483148.1.academic-gpu/tmpmts6d49y/assets\n"
     ]
    },
    {
     "name": "stdout",
     "output_type": "stream",
     "text": [
      "tf accuracy: 0.9734405547972997\n",
      "Model 2 (clustered_pruned_tiny_conv_model_small):\n",
      "  Gzipped Model Size: 9.94 KB\n",
      "  Test Accuracy: 0.9734\n",
      "  TFLite Gzipped Model Size: 8.11 KB\n",
      "  TFLite Test Accuracy: 0.9734\n"
     ]
    },
    {
     "data": {
      "image/png": "[encoded data removed]",
      "text/plain": [
       "<Figure size 1000x600 with 1 Axes>"
      ]
     },
     "metadata": {},
     "output_type": "display_data"
    }
   ],
   "source": [
    "plot_size_v_accuracy(pruned_clustered_models, test_spectrogram_ds)"
   ]
  },
  {
   "cell_type": "code",
   "execution_count": 167,
   "metadata": {},
   "outputs": [
    {
     "name": "stdout",
     "output_type": "stream",
     "text": [
      "WARNING:tensorflow:Compiled the loaded model, but the compiled metrics have yet to be built. `model.compile_metrics` will be empty until you train or evaluate the model.\n"
     ]
    },
    {
     "name": "stderr",
     "output_type": "stream",
     "text": [
      "WARNING:tensorflow:Compiled the loaded model, but the compiled metrics have yet to be built. `model.compile_metrics` will be empty until you train or evaluate the model.\n",
      "WARNING:absl:Found untraced functions such as _jit_compiled_convolution_op, _jit_compiled_convolution_op while saving (showing 2 of 2). These functions will not be directly callable after loading.\n"
     ]
    },
    {
     "name": "stdout",
     "output_type": "stream",
     "text": [
      "INFO:tensorflow:Assets written to: clustered_pruned_tiny_conv_modelpc/assets\n"
     ]
    },
    {
     "name": "stderr",
     "output_type": "stream",
     "text": [
      "INFO:tensorflow:Assets written to: clustered_pruned_tiny_conv_modelpc/assets\n"
     ]
    },
    {
     "name": "stdout",
     "output_type": "stream",
     "text": [
      "WARNING:tensorflow:Compiled the loaded model, but the compiled metrics have yet to be built. `model.compile_metrics` will be empty until you train or evaluate the model.\n"
     ]
    },
    {
     "name": "stderr",
     "output_type": "stream",
     "text": [
      "WARNING:tensorflow:Compiled the loaded model, but the compiled metrics have yet to be built. `model.compile_metrics` will be empty until you train or evaluate the model.\n",
      "WARNING:absl:Found untraced functions such as _jit_compiled_convolution_op while saving (showing 1 of 1). These functions will not be directly callable after loading.\n"
     ]
    },
    {
     "name": "stdout",
     "output_type": "stream",
     "text": [
      "INFO:tensorflow:Assets written to: clustered_pruned_tiny_conv_model_smallpc/assets\n"
     ]
    },
    {
     "name": "stderr",
     "output_type": "stream",
     "text": [
      "INFO:tensorflow:Assets written to: clustered_pruned_tiny_conv_model_smallpc/assets\n"
     ]
    }
   ],
   "source": [
    "\n",
    "for model in pruned_clustered_models:\n",
    "    model.save(model.name + \"pc\")\n",
    "    converter = tf.lite.TFLiteConverter.from_saved_model(model.name + \"pc\")  # Path to the SavedModel directory\n",
    "    tflite_model = converter.convert()\n",
    "    # Save the TensorFlow Lite model\n",
    "    with open(model.name + \"pc.tflite\", \"wb\") as f:\n",
    "        f.write(tflite_model)\n",
    "\n"
   ]
  },
  {
   "cell_type": "markdown",
   "metadata": {},
   "source": [
    "## Pruning preserving quantization aware training (PQAT) and Sparsity and cluster preserving quantization aware training (PCQAT)\n",
    "https://www.tensorflow.org/model_optimization/guide/combine/pqat_example\n",
    "https://www.tensorflow.org/model_optimization/guide/combine/pcqat_example"
   ]
  },
  {
   "cell_type": "markdown",
   "metadata": {},
   "source": [
    "## Sparsity and cluster preserving quantization aware training\n",
    "https://www.tensorflow.org/model_optimization/guide/combine/pcqat_example"
   ]
  },
  {
   "cell_type": "markdown",
   "metadata": {},
   "source": [
    "# Quantize models"
   ]
  },
  {
   "cell_type": "markdown",
   "metadata": {},
   "source": [
    "https://www.tensorflow.org/model_optimization/guide\n",
    "\n",
    "https://blog.tensorflow.org/2024/04/faster-dynamically-quantized-inference-with-xnnpack.html\n",
    "\n",
    "\n",
    "we can also add some weight clustering?"
   ]
  },
  {
   "cell_type": "markdown",
   "metadata": {},
   "source": [
    "## quantization aware training quantized models with or without pruning\n",
    "https://www.tensorflow.org/model_optimization/guide/quantization/training_example\n",
    "\n",
    "https://www.tensorflow.org/model_optimization/guide/quantization/training_comprehensive_guide#quantize_some_layers"
   ]
  },
  {
   "cell_type": "code",
   "execution_count": 173,
   "metadata": {},
   "outputs": [],
   "source": [
    "def print_model_weights_sparsity(model):\n",
    "    for layer in model.layers:\n",
    "        if isinstance(layer, keras.layers.Wrapper):\n",
    "            weights = layer.trainable_weights\n",
    "        else:\n",
    "            weights = layer.weights\n",
    "        for weight in weights:\n",
    "            if \"kernel\" not in weight.name or \"centroid\" in weight.name:\n",
    "                continue\n",
    "            weight_size = weight.numpy().size\n",
    "            zero_num = np.count_nonzero(weight == 0)\n",
    "            print(\n",
    "                f\"{weight.name}: {zero_num/weight_size:.2%} sparsity \",\n",
    "                f\"({zero_num}/{weight_size})\",\n",
    "            )\n",
    "\n",
    "def print_model_weight_clusters(model):\n",
    "    for layer in model.layers:\n",
    "        if isinstance(layer, keras.layers.Wrapper):\n",
    "            weights = layer.trainable_weights\n",
    "        else:\n",
    "            weights = layer.weights\n",
    "        for weight in weights:\n",
    "            # ignore auxiliary quantization weights\n",
    "            if \"quantize_layer\" in weight.name:\n",
    "                continue\n",
    "            if \"kernel\" in weight.name:\n",
    "                unique_count = len(np.unique(weight))\n",
    "                print(\n",
    "                    f\"{layer.name}/{weight.name}: {unique_count} clusters \"\n",
    "                )"
   ]
  },
  {
   "cell_type": "code",
   "execution_count": 174,
   "metadata": {},
   "outputs": [],
   "source": [
    " def deploy(model, save = True):\n",
    "    ############################################\n",
    "    # Step 3: Save the Model as a SavedModel\n",
    "    ############################################\n",
    "    saved_model_path = f\"{model.name}_deployable\"\n",
    "    model.save(saved_model_path, save_format=\"tf\")\n",
    "\n",
    "    ############################################\n",
    "    # Step 4: Create a Representative Dataset Function\n",
    "    ############################################\n",
    "    # The representative dataset provides samples to the converter\n",
    "    # so it can calibrate integer scales and zero points.\n",
    "    def representative_dataset_generator():\n",
    "        for i in range(len(X_val)):\n",
    "            # Generate random image-like data in a similar range as your real input\n",
    "            # Here inputs are assumed to be normalized [0,1], but if not, adjust accordingly.\n",
    "            data = np.array(X_val[i].flatten(), dtype=np.float32).reshape(1, 1960)\n",
    "            yield [data]\n",
    "\n",
    "    ############################################\n",
    "    # Step 5: Convert the Model to TFLite with Full Integer Quantization\n",
    "    ############################################\n",
    "    converter = tf.lite.TFLiteConverter.from_saved_model(saved_model_path)\n",
    "\n",
    "    # Enable optimizations to ensure quantization is done\n",
    "    converter.optimizations = [tf.lite.Optimize.DEFAULT]\n",
    "\n",
    "    # Provide the representative dataset for calibration\n",
    "    converter.representative_dataset = representative_dataset_generator\n",
    "\n",
    "    # Set input and output inference types to uint8\n",
    "    converter.inference_input_type = tf.int8\n",
    "    converter.inference_output_type = tf.int8\n",
    "\n",
    "    # This will produce a fully quantized model (uint8)\n",
    "    tflite_quant_model = converter.convert()\n",
    "\n",
    "    # Save the quantized model to a file\n",
    "    tf_path = f\"{model.name}_deployable_int8.tflite\"\n",
    "    with open(tf_path, \"wb\") as f:\n",
    "        f.write(tflite_quant_model)\n",
    "\n",
    "    size = get_gzipped_model_file_size(tf_path)\n",
    "    print(\"Model size: \" + str(size))\n",
    "    ############################################\n",
    "    # Verification (Optional)\n",
    "    ############################################\n",
    "    # Load the TFLite model and check the input type\n",
    "    interpreter = tf.lite.Interpreter(model_path=tf_path)\n",
    "    interpreter.allocate_tensors()\n",
    "\n",
    "    input_details = interpreter.get_input_details()\n",
    "    output_details = interpreter.get_output_details()\n",
    "\n",
    "    print(\"Input details:\", input_details)\n",
    "    print(\"Output details:\", output_details)\n",
    "    \n",
    "    if save:\n",
    "        !xxd -i {tf_path} > {model.name}_deployable.cc\n",
    "\n",
    "    return interpreter"
   ]
  },
  {
   "cell_type": "code",
   "execution_count": 175,
   "metadata": {},
   "outputs": [],
   "source": [
    "#import tensorflow_model_optimization as tfmot\n",
    "\n",
    "#quantization aware training with int8 weights and uint8 activations.\n",
    "def qat(model, pruned = False, clustered = False, save = False, deployable = False):\n",
    "    \n",
    "    cloned_model = clone_model(model)\n",
    "    cloned_model.set_weights(model.get_weights())  # Copy weights to the cloned model\n",
    "    #cloned_model._name = \"clustered_\"+model_name\n",
    "            \n",
    "    # QAT\n",
    "    qat_model = tfmot.quantization.keras.quantize_model(cloned_model)\n",
    "\n",
    "    qat_model.compile(optimizer='adam',\n",
    "                  loss=keras.losses.SparseCategoricalCrossentropy(),\n",
    "                  metrics=['accuracy'])\n",
    "    print('Train qat model:')\n",
    "    \n",
    "    num_batches = tf.data.experimental.cardinality(train_spectrogram_ds).numpy()\n",
    "\n",
    "    qat_model.fit(train_spectrogram_ds, batch_size=64, epochs=1, validation_data=val_spectrogram_ds)\n",
    "    qat_model._name = \"qat_\"+cloned_model.name\n",
    "    \n",
    "    # PCQAT\n",
    "    quant_aware_annotate_model = tfmot.quantization.keras.quantize_annotate_model(\n",
    "                  cloned_model)\n",
    "    pcqat_model = tfmot.quantization.keras.quantize_apply(\n",
    "                  quant_aware_annotate_model,\n",
    "                  tfmot.experimental.combine.Default8BitClusterPreserveQuantizeScheme(preserve_sparsity=True))\n",
    "\n",
    "    pcqat_model.compile(optimizer='adam',\n",
    "                  loss=keras.losses.SparseCategoricalCrossentropy(),\n",
    "                  metrics=['accuracy'])\n",
    "    print('Train pcqat model:')\n",
    "    pcqat_model.fit(train_spectrogram_ds, batch_size=64, epochs=1, validation_data=val_spectrogram_ds)\n",
    "    pcqat_model._name = \"pcqat_\"+cloned_model.name\n",
    "    \n",
    "    print(\"QAT Model clusters:\")\n",
    "    print_model_weight_clusters(qat_model)\n",
    "    print(\"\\nQAT Model sparsity:\")\n",
    "    print_model_weights_sparsity(qat_model)\n",
    "    print(\"\\nPCQAT Model clusters:\")\n",
    "    print_model_weight_clusters(pcqat_model)\n",
    "    print(\"\\nPCQAT Model sparsity:\")\n",
    "    print_model_weights_sparsity(pcqat_model)\n",
    "    \n",
    "    if save:\n",
    "        if(not pruned and not clustered):\n",
    "            model_filename = f'{model.name}'\n",
    "        elif(pruned and not clustered):\n",
    "            model_filename = f'pruned_{model.name}'\n",
    "        elif(pruned and clustered):\n",
    "            model_filename = f'pruned_clustered_{model.name}'\n",
    "               \n",
    "        if not deployable:\n",
    "            # QAT model\n",
    "            converter = tf.lite.TFLiteConverter.from_keras_model(qat_model)\n",
    "            converter.optimizations = [tf.lite.Optimize.DEFAULT]\n",
    "            qat_tflite_model = converter.convert()\n",
    "            qat_model_file = f'{model_filename}_qat_model.tflite'\n",
    "            # Save the model.\n",
    "            with open(qat_model_file, 'wb') as f:\n",
    "                f.write(qat_tflite_model)\n",
    "\n",
    "            # PCQAT model\n",
    "            converter = tf.lite.TFLiteConverter.from_keras_model(pcqat_model)\n",
    "            converter.optimizations = [tf.lite.Optimize.DEFAULT]\n",
    "            pcqat_tflite_model = converter.convert()\n",
    "            pcqat_model_file = f'{model_filename}_pcqat_model.tflite'\n",
    "            # Save the model.\n",
    "            with open(pcqat_model_file, 'wb') as f:\n",
    "                f.write(pcqat_tflite_model)\n",
    "                \n",
    "                \n",
    "        if deployable:\n",
    "            deploy(qat_model)\n",
    "            deploy(pcqat_model)\n",
    "                \n",
    "            \n",
    "            '''   \n",
    "            def representative_dataset():\n",
    "                for spectrogram, _ in train_spectrogram_ds:\n",
    "                    spectrogram = np.array(spectrogram, dtype=np.float32)\n",
    "                    for spec in spectrogram:\n",
    "                        spec_re = spec.reshape(1, 1960)\n",
    "                        yield [spec_re]\n",
    "                        \n",
    "            # QAT model\n",
    "            converter = tf.lite.TFLiteConverter.from_keras_model(qat_model)\n",
    "            converter.optimizations = [tf.lite.Optimize.DEFAULT]\n",
    "            converter.representative_dataset = representative_dataset\n",
    "            converter.target_spec.supported_ops = [tf.lite.OpsSet.TFLITE_BUILTINS_INT8]\n",
    "            converter.inference_input_type = tf.int8\n",
    "            converter.inference_output_type = tf.int8\n",
    "            qat_tflite_model = converter.convert()\n",
    "            qat_model_file = f'{model_filename}_qat_model.tflite'\n",
    "            # Save the model.\n",
    "            with open(qat_model_file, 'wb') as f:\n",
    "                f.write(qat_tflite_model)\n",
    "\n",
    "            # PCQAT model\n",
    "            converter = tf.lite.TFLiteConverter.from_keras_model(pcqat_model)\n",
    "            converter.optimizations = [tf.lite.Optimize.DEFAULT]\n",
    "            converter.representative_dataset = representative_dataset\n",
    "            converter.target_spec.supported_ops = [tf.lite.OpsSet.TFLITE_BUILTINS_INT8]\n",
    "            converter.inference_input_type = tf.int8\n",
    "            converter.inference_output_type = tf.int8\n",
    "            pcqat_tflite_model = converter.convert()\n",
    "            pcqat_model_file = f'{model_filename}_pcqat_model.tflite'\n",
    "            # Save the model.\n",
    "            with open(pcqat_model_file, 'wb') as f:\n",
    "                f.write(pcqat_tflite_model)\n",
    "            '''\n",
    "\n",
    "\n",
    "    return qat_model, pcqat_model"
   ]
  },
  {
   "cell_type": "code",
   "execution_count": 176,
   "metadata": {},
   "outputs": [
    {
     "data": {
      "text/plain": [
       "\"\\n# Evaluate the TFLite quantized model\\ndef evaluate_tflite_model(interpreter, dataset):\\n    input_details = interpreter.get_input_details()\\n    output_details = interpreter.get_output_details()\\n\\n    total_samples = 0\\n    correct_predictions = 0\\n\\n    for spectrograms, labels in dataset:\\n        input_data = spectrograms.numpy().astype('uint8')\\n        interpreter.set_tensor(input_details[0]['index'], input_data)\\n        interpreter.invoke()\\n        predictions = interpreter.get_tensor(output_details[0]['index'])\\n        predicted_labels = tf.argmax(predictions, axis=1)\\n        correct_predictions += tf.reduce_sum(tf.cast(predicted_labels == labels, tf.int32)).numpy()\\n        total_samples += labels.shape[0]\\n\\n    accuracy = correct_predictions / total_samples\\n    return accuracy\\n\""
      ]
     },
     "execution_count": 176,
     "metadata": {},
     "output_type": "execute_result"
    }
   ],
   "source": [
    "'''\n",
    "# Evaluate the TFLite quantized model\n",
    "def evaluate_tflite_model(interpreter, dataset):\n",
    "    input_details = interpreter.get_input_details()\n",
    "    output_details = interpreter.get_output_details()\n",
    "\n",
    "    total_samples = 0\n",
    "    correct_predictions = 0\n",
    "\n",
    "    for spectrograms, labels in dataset:\n",
    "        input_data = spectrograms.numpy().astype('uint8')\n",
    "        interpreter.set_tensor(input_details[0]['index'], input_data)\n",
    "        interpreter.invoke()\n",
    "        predictions = interpreter.get_tensor(output_details[0]['index'])\n",
    "        predicted_labels = tf.argmax(predictions, axis=1)\n",
    "        correct_predictions += tf.reduce_sum(tf.cast(predicted_labels == labels, tf.int32)).numpy()\n",
    "        total_samples += labels.shape[0]\n",
    "\n",
    "    accuracy = correct_predictions / total_samples\n",
    "    return accuracy\n",
    "'''"
   ]
  },
  {
   "cell_type": "code",
   "execution_count": 177,
   "metadata": {
    "scrolled": true
   },
   "outputs": [
    {
     "name": "stdout",
     "output_type": "stream",
     "text": [
      "Train qat model:\n",
      "2542/2542 [==============================] - 9s 3ms/step - loss: 0.1420 - accuracy: 0.9467 - val_loss: 0.0976 - val_accuracy: 0.9658\n"
     ]
    },
    {
     "name": "stderr",
     "output_type": "stream",
     "text": [
      "WARNING:root:Input layer does not contain zero weights, so apply CQAT instead.\n"
     ]
    },
    {
     "name": "stdout",
     "output_type": "stream",
     "text": [
      "Train pcqat model:\n",
      "WARNING:tensorflow:Gradients do not exist for variables ['final_fc/kernel:0'] when minimizing the loss. If you're using `model.compile()`, did you forget to provide a `loss` argument?\n"
     ]
    },
    {
     "name": "stderr",
     "output_type": "stream",
     "text": [
      "WARNING:tensorflow:Gradients do not exist for variables ['final_fc/kernel:0'] when minimizing the loss. If you're using `model.compile()`, did you forget to provide a `loss` argument?\n"
     ]
    },
    {
     "name": "stdout",
     "output_type": "stream",
     "text": [
      "WARNING:tensorflow:Gradients do not exist for variables ['final_fc/kernel:0'] when minimizing the loss. If you're using `model.compile()`, did you forget to provide a `loss` argument?\n"
     ]
    },
    {
     "name": "stderr",
     "output_type": "stream",
     "text": [
      "WARNING:tensorflow:Gradients do not exist for variables ['final_fc/kernel:0'] when minimizing the loss. If you're using `model.compile()`, did you forget to provide a `loss` argument?\n"
     ]
    },
    {
     "name": "stdout",
     "output_type": "stream",
     "text": [
      "WARNING:tensorflow:Gradients do not exist for variables ['final_fc/kernel:0'] when minimizing the loss. If you're using `model.compile()`, did you forget to provide a `loss` argument?\n"
     ]
    },
    {
     "name": "stderr",
     "output_type": "stream",
     "text": [
      "WARNING:tensorflow:Gradients do not exist for variables ['final_fc/kernel:0'] when minimizing the loss. If you're using `model.compile()`, did you forget to provide a `loss` argument?\n"
     ]
    },
    {
     "name": "stdout",
     "output_type": "stream",
     "text": [
      "WARNING:tensorflow:Gradients do not exist for variables ['final_fc/kernel:0'] when minimizing the loss. If you're using `model.compile()`, did you forget to provide a `loss` argument?\n"
     ]
    },
    {
     "name": "stderr",
     "output_type": "stream",
     "text": [
      "WARNING:tensorflow:Gradients do not exist for variables ['final_fc/kernel:0'] when minimizing the loss. If you're using `model.compile()`, did you forget to provide a `loss` argument?\n"
     ]
    },
    {
     "name": "stdout",
     "output_type": "stream",
     "text": [
      "2542/2542 [==============================] - 21s 8ms/step - loss: 0.1409 - accuracy: 0.9470 - val_loss: 0.0942 - val_accuracy: 0.9657\n",
      "QAT Model clusters:\n",
      "quant_conv1/conv1/kernel:0: 640 clusters \n",
      "quant_conv2/conv2/kernel:0: 5119 clusters \n",
      "quant_final_fc/final_fc/kernel:0: 384 clusters \n",
      "\n",
      "QAT Model sparsity:\n",
      "conv1/kernel:0: 0.00% sparsity  (0/640)\n",
      "conv2/kernel:0: 0.00% sparsity  (0/5120)\n",
      "final_fc/kernel:0: 0.00% sparsity  (0/384)\n",
      "\n",
      "PCQAT Model clusters:\n",
      "quant_conv1/conv1/kernel:0: 640 clusters \n",
      "quant_conv2/conv2/kernel:0: 5120 clusters \n",
      "quant_final_fc/final_fc/kernel:0: 293 clusters \n",
      "\n",
      "PCQAT Model sparsity:\n",
      "conv1/kernel:0: 0.00% sparsity  (0/640)\n",
      "conv2/kernel:0: 0.00% sparsity  (0/5120)\n",
      "final_fc/kernel:0: 0.00% sparsity  (0/384)\n"
     ]
    },
    {
     "name": "stderr",
     "output_type": "stream",
     "text": [
      "WARNING:absl:Found untraced functions such as reshape_layer_call_fn, reshape_layer_call_and_return_conditional_losses, conv1_layer_call_fn, conv1_layer_call_and_return_conditional_losses, _jit_compiled_convolution_op while saving (showing 5 of 20). These functions will not be directly callable after loading.\n"
     ]
    },
    {
     "name": "stdout",
     "output_type": "stream",
     "text": [
      "INFO:tensorflow:Assets written to: /scratch/1483148.1.academic-gpu/tmpyyjrmbt9/assets\n"
     ]
    },
    {
     "name": "stderr",
     "output_type": "stream",
     "text": [
      "INFO:tensorflow:Assets written to: /scratch/1483148.1.academic-gpu/tmpyyjrmbt9/assets\n",
      "/share/pkg.7/tensorflow/2.11.0/install/lib/SCC/../python3.10/site-packages/tensorflow/lite/python/convert.py:765: UserWarning: Statistics for quantized inputs were expected, but not specified; continuing anyway.\n",
      "  warnings.warn(\"Statistics for quantized inputs were expected, but not \"\n",
      "WARNING:absl:Found untraced functions such as reshape_layer_call_fn, reshape_layer_call_and_return_conditional_losses, conv1_layer_call_fn, conv1_layer_call_and_return_conditional_losses, _jit_compiled_convolution_op while saving (showing 5 of 20). These functions will not be directly callable after loading.\n"
     ]
    },
    {
     "name": "stdout",
     "output_type": "stream",
     "text": [
      "INFO:tensorflow:Assets written to: /scratch/1483148.1.academic-gpu/tmp6ndu_qil/assets\n"
     ]
    },
    {
     "name": "stderr",
     "output_type": "stream",
     "text": [
      "INFO:tensorflow:Assets written to: /scratch/1483148.1.academic-gpu/tmp6ndu_qil/assets\n",
      "/share/pkg.7/tensorflow/2.11.0/install/lib/SCC/../python3.10/site-packages/tensorflow/lite/python/convert.py:765: UserWarning: Statistics for quantized inputs were expected, but not specified; continuing anyway.\n",
      "  warnings.warn(\"Statistics for quantized inputs were expected, but not \"\n"
     ]
    },
    {
     "name": "stdout",
     "output_type": "stream",
     "text": [
      "Train qat model:\n",
      "2542/2542 [==============================] - 8s 3ms/step - loss: 0.1200 - accuracy: 0.9562 - val_loss: 0.0754 - val_accuracy: 0.9711\n"
     ]
    },
    {
     "name": "stderr",
     "output_type": "stream",
     "text": [
      "WARNING:root:Input layer does not contain zero weights, so apply CQAT instead.\n"
     ]
    },
    {
     "name": "stdout",
     "output_type": "stream",
     "text": [
      "Train pcqat model:\n"
     ]
    },
    {
     "name": "stderr",
     "output_type": "stream",
     "text": [
      "/usr4/cs640/adamkam/.local/lib/python3.10/site-packages/tensorflow_model_optimization/python/core/quantization/keras/collab_opts/cluster_preserve/cluster_preserve_quantize_registry.py:364: UserWarning: No clustering performed on layer quant_final_fc.\n",
      "Too many centroids to cluster.\n",
      "  warnings.warn(f'No clustering performed on layer {layer.name}.\\n'\n"
     ]
    },
    {
     "name": "stdout",
     "output_type": "stream",
     "text": [
      "2542/2542 [==============================] - 8s 3ms/step - loss: 0.1200 - accuracy: 0.9559 - val_loss: 0.0797 - val_accuracy: 0.9728\n",
      "QAT Model clusters:\n",
      "quant_conv/conv/kernel:0: 640 clusters \n",
      "quant_final_fc/final_fc/kernel:0: 15999 clusters \n",
      "\n",
      "QAT Model sparsity:\n",
      "conv/kernel:0: 0.00% sparsity  (0/640)\n",
      "final_fc/kernel:0: 0.00% sparsity  (0/16000)\n",
      "\n",
      "PCQAT Model clusters:\n",
      "quant_conv/conv/kernel:0: 640 clusters \n",
      "quant_final_fc/final_fc/kernel:0: 16000 clusters \n",
      "\n",
      "PCQAT Model sparsity:\n",
      "conv/kernel:0: 0.00% sparsity  (0/640)\n",
      "final_fc/kernel:0: 0.00% sparsity  (0/16000)\n"
     ]
    },
    {
     "name": "stderr",
     "output_type": "stream",
     "text": [
      "WARNING:absl:Found untraced functions such as reshape_layer_call_fn, reshape_layer_call_and_return_conditional_losses, conv_layer_call_fn, conv_layer_call_and_return_conditional_losses, _jit_compiled_convolution_op while saving (showing 5 of 13). These functions will not be directly callable after loading.\n"
     ]
    },
    {
     "name": "stdout",
     "output_type": "stream",
     "text": [
      "INFO:tensorflow:Assets written to: /scratch/1483148.1.academic-gpu/tmpebb2vzln/assets\n"
     ]
    },
    {
     "name": "stderr",
     "output_type": "stream",
     "text": [
      "INFO:tensorflow:Assets written to: /scratch/1483148.1.academic-gpu/tmpebb2vzln/assets\n",
      "/share/pkg.7/tensorflow/2.11.0/install/lib/SCC/../python3.10/site-packages/tensorflow/lite/python/convert.py:765: UserWarning: Statistics for quantized inputs were expected, but not specified; continuing anyway.\n",
      "  warnings.warn(\"Statistics for quantized inputs were expected, but not \"\n",
      "WARNING:absl:Found untraced functions such as reshape_layer_call_fn, reshape_layer_call_and_return_conditional_losses, conv_layer_call_fn, conv_layer_call_and_return_conditional_losses, _jit_compiled_convolution_op while saving (showing 5 of 13). These functions will not be directly callable after loading.\n"
     ]
    },
    {
     "name": "stdout",
     "output_type": "stream",
     "text": [
      "INFO:tensorflow:Assets written to: /scratch/1483148.1.academic-gpu/tmpjwc69oy6/assets\n"
     ]
    },
    {
     "name": "stderr",
     "output_type": "stream",
     "text": [
      "INFO:tensorflow:Assets written to: /scratch/1483148.1.academic-gpu/tmpjwc69oy6/assets\n",
      "/share/pkg.7/tensorflow/2.11.0/install/lib/SCC/../python3.10/site-packages/tensorflow/lite/python/convert.py:765: UserWarning: Statistics for quantized inputs were expected, but not specified; continuing anyway.\n",
      "  warnings.warn(\"Statistics for quantized inputs were expected, but not \"\n"
     ]
    },
    {
     "name": "stdout",
     "output_type": "stream",
     "text": [
      "Train qat model:\n",
      "2542/2542 [==============================] - 9s 3ms/step - loss: 0.1417 - accuracy: 0.9467 - val_loss: 0.0921 - val_accuracy: 0.9670\n",
      "Train pcqat model:\n",
      "WARNING:tensorflow:Gradients do not exist for variables ['final_fc/kernel:0'] when minimizing the loss. If you're using `model.compile()`, did you forget to provide a `loss` argument?\n"
     ]
    },
    {
     "name": "stderr",
     "output_type": "stream",
     "text": [
      "WARNING:tensorflow:Gradients do not exist for variables ['final_fc/kernel:0'] when minimizing the loss. If you're using `model.compile()`, did you forget to provide a `loss` argument?\n"
     ]
    },
    {
     "name": "stdout",
     "output_type": "stream",
     "text": [
      "WARNING:tensorflow:Gradients do not exist for variables ['final_fc/kernel:0'] when minimizing the loss. If you're using `model.compile()`, did you forget to provide a `loss` argument?\n"
     ]
    },
    {
     "name": "stderr",
     "output_type": "stream",
     "text": [
      "WARNING:tensorflow:Gradients do not exist for variables ['final_fc/kernel:0'] when minimizing the loss. If you're using `model.compile()`, did you forget to provide a `loss` argument?\n"
     ]
    },
    {
     "name": "stdout",
     "output_type": "stream",
     "text": [
      "WARNING:tensorflow:Gradients do not exist for variables ['final_fc/kernel:0'] when minimizing the loss. If you're using `model.compile()`, did you forget to provide a `loss` argument?\n"
     ]
    },
    {
     "name": "stderr",
     "output_type": "stream",
     "text": [
      "WARNING:tensorflow:Gradients do not exist for variables ['final_fc/kernel:0'] when minimizing the loss. If you're using `model.compile()`, did you forget to provide a `loss` argument?\n"
     ]
    },
    {
     "name": "stdout",
     "output_type": "stream",
     "text": [
      "WARNING:tensorflow:Gradients do not exist for variables ['final_fc/kernel:0'] when minimizing the loss. If you're using `model.compile()`, did you forget to provide a `loss` argument?\n"
     ]
    },
    {
     "name": "stderr",
     "output_type": "stream",
     "text": [
      "WARNING:tensorflow:Gradients do not exist for variables ['final_fc/kernel:0'] when minimizing the loss. If you're using `model.compile()`, did you forget to provide a `loss` argument?\n"
     ]
    },
    {
     "name": "stdout",
     "output_type": "stream",
     "text": [
      "2542/2542 [==============================] - 17s 6ms/step - loss: 0.1417 - accuracy: 0.9462 - val_loss: 0.1075 - val_accuracy: 0.9635\n",
      "QAT Model clusters:\n",
      "quant_conv1/conv1/kernel:0: 640 clusters \n",
      "quant_conv2/conv2/kernel:0: 5120 clusters \n",
      "quant_final_fc/final_fc/kernel:0: 384 clusters \n",
      "\n",
      "QAT Model sparsity:\n",
      "conv1/kernel:0: 0.00% sparsity  (0/640)\n",
      "conv2/kernel:0: 0.00% sparsity  (0/5120)\n",
      "final_fc/kernel:0: 0.00% sparsity  (0/384)\n",
      "\n",
      "PCQAT Model clusters:\n",
      "quant_conv1/conv1/kernel:0: 640 clusters \n",
      "quant_conv2/conv2/kernel:0: 5120 clusters \n",
      "quant_final_fc/final_fc/kernel:0: 257 clusters \n",
      "\n",
      "PCQAT Model sparsity:\n",
      "conv1/kernel:0: 0.00% sparsity  (0/640)\n",
      "conv2/kernel:0: 0.00% sparsity  (0/5120)\n",
      "final_fc/kernel:0: 20.05% sparsity  (77/384)\n"
     ]
    },
    {
     "name": "stderr",
     "output_type": "stream",
     "text": [
      "WARNING:absl:Found untraced functions such as reshape_layer_call_fn, reshape_layer_call_and_return_conditional_losses, conv1_layer_call_fn, conv1_layer_call_and_return_conditional_losses, _jit_compiled_convolution_op while saving (showing 5 of 20). These functions will not be directly callable after loading.\n"
     ]
    },
    {
     "name": "stdout",
     "output_type": "stream",
     "text": [
      "INFO:tensorflow:Assets written to: /scratch/1483148.1.academic-gpu/tmpmtllv77k/assets\n"
     ]
    },
    {
     "name": "stderr",
     "output_type": "stream",
     "text": [
      "INFO:tensorflow:Assets written to: /scratch/1483148.1.academic-gpu/tmpmtllv77k/assets\n",
      "/share/pkg.7/tensorflow/2.11.0/install/lib/SCC/../python3.10/site-packages/tensorflow/lite/python/convert.py:765: UserWarning: Statistics for quantized inputs were expected, but not specified; continuing anyway.\n",
      "  warnings.warn(\"Statistics for quantized inputs were expected, but not \"\n",
      "WARNING:absl:Found untraced functions such as reshape_layer_call_fn, reshape_layer_call_and_return_conditional_losses, conv1_layer_call_fn, conv1_layer_call_and_return_conditional_losses, _jit_compiled_convolution_op while saving (showing 5 of 20). These functions will not be directly callable after loading.\n"
     ]
    },
    {
     "name": "stdout",
     "output_type": "stream",
     "text": [
      "INFO:tensorflow:Assets written to: /scratch/1483148.1.academic-gpu/tmpalehvzgh/assets\n"
     ]
    },
    {
     "name": "stderr",
     "output_type": "stream",
     "text": [
      "INFO:tensorflow:Assets written to: /scratch/1483148.1.academic-gpu/tmpalehvzgh/assets\n",
      "/share/pkg.7/tensorflow/2.11.0/install/lib/SCC/../python3.10/site-packages/tensorflow/lite/python/convert.py:765: UserWarning: Statistics for quantized inputs were expected, but not specified; continuing anyway.\n",
      "  warnings.warn(\"Statistics for quantized inputs were expected, but not \"\n"
     ]
    },
    {
     "name": "stdout",
     "output_type": "stream",
     "text": [
      "Train qat model:\n",
      "2542/2542 [==============================] - 8s 3ms/step - loss: 0.1600 - accuracy: 0.9539 - val_loss: 0.0782 - val_accuracy: 0.9735\n",
      "Train pcqat model:\n"
     ]
    },
    {
     "name": "stderr",
     "output_type": "stream",
     "text": [
      "/usr4/cs640/adamkam/.local/lib/python3.10/site-packages/tensorflow_model_optimization/python/core/quantization/keras/collab_opts/cluster_preserve/cluster_preserve_quantize_registry.py:364: UserWarning: No clustering performed on layer quant_final_fc.\n",
      "Too many centroids to cluster.\n",
      "  warnings.warn(f'No clustering performed on layer {layer.name}.\\n'\n"
     ]
    },
    {
     "name": "stdout",
     "output_type": "stream",
     "text": [
      "2542/2542 [==============================] - 8s 3ms/step - loss: 0.1174 - accuracy: 0.9571 - val_loss: 0.0822 - val_accuracy: 0.9664\n",
      "QAT Model clusters:\n",
      "quant_conv/conv/kernel:0: 640 clusters \n",
      "quant_final_fc/final_fc/kernel:0: 15998 clusters \n",
      "\n",
      "QAT Model sparsity:\n",
      "conv/kernel:0: 0.00% sparsity  (0/640)\n",
      "final_fc/kernel:0: 0.02% sparsity  (3/16000)\n",
      "\n",
      "PCQAT Model clusters:\n",
      "quant_conv/conv/kernel:0: 640 clusters \n",
      "quant_final_fc/final_fc/kernel:0: 12798 clusters \n",
      "\n",
      "PCQAT Model sparsity:\n",
      "conv/kernel:0: 0.00% sparsity  (0/640)\n",
      "final_fc/kernel:0: 20.00% sparsity  (3200/16000)\n"
     ]
    },
    {
     "name": "stderr",
     "output_type": "stream",
     "text": [
      "WARNING:absl:Found untraced functions such as reshape_layer_call_fn, reshape_layer_call_and_return_conditional_losses, conv_layer_call_fn, conv_layer_call_and_return_conditional_losses, _jit_compiled_convolution_op while saving (showing 5 of 13). These functions will not be directly callable after loading.\n"
     ]
    },
    {
     "name": "stdout",
     "output_type": "stream",
     "text": [
      "INFO:tensorflow:Assets written to: /scratch/1483148.1.academic-gpu/tmpm04bebuk/assets\n"
     ]
    },
    {
     "name": "stderr",
     "output_type": "stream",
     "text": [
      "INFO:tensorflow:Assets written to: /scratch/1483148.1.academic-gpu/tmpm04bebuk/assets\n",
      "/share/pkg.7/tensorflow/2.11.0/install/lib/SCC/../python3.10/site-packages/tensorflow/lite/python/convert.py:765: UserWarning: Statistics for quantized inputs were expected, but not specified; continuing anyway.\n",
      "  warnings.warn(\"Statistics for quantized inputs were expected, but not \"\n",
      "WARNING:absl:Found untraced functions such as reshape_layer_call_fn, reshape_layer_call_and_return_conditional_losses, conv_layer_call_fn, conv_layer_call_and_return_conditional_losses, _jit_compiled_convolution_op while saving (showing 5 of 13). These functions will not be directly callable after loading.\n"
     ]
    },
    {
     "name": "stdout",
     "output_type": "stream",
     "text": [
      "INFO:tensorflow:Assets written to: /scratch/1483148.1.academic-gpu/tmpql92rspv/assets\n"
     ]
    },
    {
     "name": "stderr",
     "output_type": "stream",
     "text": [
      "INFO:tensorflow:Assets written to: /scratch/1483148.1.academic-gpu/tmpql92rspv/assets\n",
      "/share/pkg.7/tensorflow/2.11.0/install/lib/SCC/../python3.10/site-packages/tensorflow/lite/python/convert.py:765: UserWarning: Statistics for quantized inputs were expected, but not specified; continuing anyway.\n",
      "  warnings.warn(\"Statistics for quantized inputs were expected, but not \"\n"
     ]
    },
    {
     "name": "stdout",
     "output_type": "stream",
     "text": [
      "Train qat model:\n",
      "2542/2542 [==============================] - 9s 3ms/step - loss: 0.1493 - accuracy: 0.9443 - val_loss: 0.0857 - val_accuracy: 0.9658\n",
      "Train pcqat model:\n",
      "WARNING:tensorflow:Gradients do not exist for variables ['final_fc/kernel:0'] when minimizing the loss. If you're using `model.compile()`, did you forget to provide a `loss` argument?\n"
     ]
    },
    {
     "name": "stderr",
     "output_type": "stream",
     "text": [
      "WARNING:tensorflow:Gradients do not exist for variables ['final_fc/kernel:0'] when minimizing the loss. If you're using `model.compile()`, did you forget to provide a `loss` argument?\n"
     ]
    },
    {
     "name": "stdout",
     "output_type": "stream",
     "text": [
      "WARNING:tensorflow:Gradients do not exist for variables ['final_fc/kernel:0'] when minimizing the loss. If you're using `model.compile()`, did you forget to provide a `loss` argument?\n"
     ]
    },
    {
     "name": "stderr",
     "output_type": "stream",
     "text": [
      "WARNING:tensorflow:Gradients do not exist for variables ['final_fc/kernel:0'] when minimizing the loss. If you're using `model.compile()`, did you forget to provide a `loss` argument?\n"
     ]
    },
    {
     "name": "stdout",
     "output_type": "stream",
     "text": [
      "WARNING:tensorflow:Gradients do not exist for variables ['final_fc/kernel:0'] when minimizing the loss. If you're using `model.compile()`, did you forget to provide a `loss` argument?\n"
     ]
    },
    {
     "name": "stderr",
     "output_type": "stream",
     "text": [
      "WARNING:tensorflow:Gradients do not exist for variables ['final_fc/kernel:0'] when minimizing the loss. If you're using `model.compile()`, did you forget to provide a `loss` argument?\n"
     ]
    },
    {
     "name": "stdout",
     "output_type": "stream",
     "text": [
      "WARNING:tensorflow:Gradients do not exist for variables ['final_fc/kernel:0'] when minimizing the loss. If you're using `model.compile()`, did you forget to provide a `loss` argument?\n"
     ]
    },
    {
     "name": "stderr",
     "output_type": "stream",
     "text": [
      "WARNING:tensorflow:Gradients do not exist for variables ['final_fc/kernel:0'] when minimizing the loss. If you're using `model.compile()`, did you forget to provide a `loss` argument?\n"
     ]
    },
    {
     "name": "stdout",
     "output_type": "stream",
     "text": [
      "2542/2542 [==============================] - 10s 4ms/step - loss: 0.1497 - accuracy: 0.9439 - val_loss: 0.0940 - val_accuracy: 0.9643\n",
      "QAT Model clusters:\n",
      "quant_conv1/conv1/kernel:0: 640 clusters \n",
      "quant_conv2/conv2/kernel:0: 5120 clusters \n",
      "quant_final_fc/final_fc/kernel:0: 384 clusters \n",
      "\n",
      "QAT Model sparsity:\n",
      "conv1/kernel:0: 0.00% sparsity  (0/640)\n",
      "conv2/kernel:0: 0.00% sparsity  (0/5120)\n",
      "final_fc/kernel:0: 0.00% sparsity  (0/384)\n",
      "\n",
      "PCQAT Model clusters:\n",
      "quant_conv1/conv1/kernel:0: 640 clusters \n",
      "quant_conv2/conv2/kernel:0: 5120 clusters \n",
      "quant_final_fc/final_fc/kernel:0: 10 clusters \n",
      "\n",
      "PCQAT Model sparsity:\n",
      "conv1/kernel:0: 0.00% sparsity  (0/640)\n",
      "conv2/kernel:0: 0.00% sparsity  (0/5120)\n",
      "final_fc/kernel:0: 32.55% sparsity  (125/384)\n"
     ]
    },
    {
     "name": "stderr",
     "output_type": "stream",
     "text": [
      "WARNING:absl:Found untraced functions such as reshape_layer_call_fn, reshape_layer_call_and_return_conditional_losses, conv1_layer_call_fn, conv1_layer_call_and_return_conditional_losses, _jit_compiled_convolution_op while saving (showing 5 of 20). These functions will not be directly callable after loading.\n"
     ]
    },
    {
     "name": "stdout",
     "output_type": "stream",
     "text": [
      "INFO:tensorflow:Assets written to: /scratch/1483148.1.academic-gpu/tmpe8q25da4/assets\n"
     ]
    },
    {
     "name": "stderr",
     "output_type": "stream",
     "text": [
      "INFO:tensorflow:Assets written to: /scratch/1483148.1.academic-gpu/tmpe8q25da4/assets\n",
      "/share/pkg.7/tensorflow/2.11.0/install/lib/SCC/../python3.10/site-packages/tensorflow/lite/python/convert.py:765: UserWarning: Statistics for quantized inputs were expected, but not specified; continuing anyway.\n",
      "  warnings.warn(\"Statistics for quantized inputs were expected, but not \"\n",
      "WARNING:absl:Found untraced functions such as reshape_layer_call_fn, reshape_layer_call_and_return_conditional_losses, conv1_layer_call_fn, conv1_layer_call_and_return_conditional_losses, _jit_compiled_convolution_op while saving (showing 5 of 20). These functions will not be directly callable after loading.\n"
     ]
    },
    {
     "name": "stdout",
     "output_type": "stream",
     "text": [
      "INFO:tensorflow:Assets written to: /scratch/1483148.1.academic-gpu/tmpff0rmokh/assets\n"
     ]
    },
    {
     "name": "stderr",
     "output_type": "stream",
     "text": [
      "INFO:tensorflow:Assets written to: /scratch/1483148.1.academic-gpu/tmpff0rmokh/assets\n",
      "/share/pkg.7/tensorflow/2.11.0/install/lib/SCC/../python3.10/site-packages/tensorflow/lite/python/convert.py:765: UserWarning: Statistics for quantized inputs were expected, but not specified; continuing anyway.\n",
      "  warnings.warn(\"Statistics for quantized inputs were expected, but not \"\n"
     ]
    },
    {
     "name": "stdout",
     "output_type": "stream",
     "text": [
      "Train qat model:\n",
      "2542/2542 [==============================] - 8s 3ms/step - loss: 0.1536 - accuracy: 0.9480 - val_loss: 0.0754 - val_accuracy: 0.9679\n",
      "Train pcqat model:\n",
      "WARNING:tensorflow:Gradients do not exist for variables ['final_fc/kernel:0'] when minimizing the loss. If you're using `model.compile()`, did you forget to provide a `loss` argument?\n"
     ]
    },
    {
     "name": "stderr",
     "output_type": "stream",
     "text": [
      "WARNING:tensorflow:Gradients do not exist for variables ['final_fc/kernel:0'] when minimizing the loss. If you're using `model.compile()`, did you forget to provide a `loss` argument?\n"
     ]
    },
    {
     "name": "stdout",
     "output_type": "stream",
     "text": [
      "WARNING:tensorflow:Gradients do not exist for variables ['final_fc/kernel:0'] when minimizing the loss. If you're using `model.compile()`, did you forget to provide a `loss` argument?\n"
     ]
    },
    {
     "name": "stderr",
     "output_type": "stream",
     "text": [
      "WARNING:tensorflow:Gradients do not exist for variables ['final_fc/kernel:0'] when minimizing the loss. If you're using `model.compile()`, did you forget to provide a `loss` argument?\n"
     ]
    },
    {
     "name": "stdout",
     "output_type": "stream",
     "text": [
      "WARNING:tensorflow:Gradients do not exist for variables ['final_fc/kernel:0'] when minimizing the loss. If you're using `model.compile()`, did you forget to provide a `loss` argument?\n"
     ]
    },
    {
     "name": "stderr",
     "output_type": "stream",
     "text": [
      "WARNING:tensorflow:Gradients do not exist for variables ['final_fc/kernel:0'] when minimizing the loss. If you're using `model.compile()`, did you forget to provide a `loss` argument?\n"
     ]
    },
    {
     "name": "stdout",
     "output_type": "stream",
     "text": [
      "WARNING:tensorflow:Gradients do not exist for variables ['final_fc/kernel:0'] when minimizing the loss. If you're using `model.compile()`, did you forget to provide a `loss` argument?\n"
     ]
    },
    {
     "name": "stderr",
     "output_type": "stream",
     "text": [
      "WARNING:tensorflow:Gradients do not exist for variables ['final_fc/kernel:0'] when minimizing the loss. If you're using `model.compile()`, did you forget to provide a `loss` argument?\n"
     ]
    },
    {
     "name": "stdout",
     "output_type": "stream",
     "text": [
      "2542/2542 [==============================] - 9s 3ms/step - loss: 0.1608 - accuracy: 0.9438 - val_loss: 0.0797 - val_accuracy: 0.9710\n",
      "QAT Model clusters:\n",
      "quant_conv/conv/kernel:0: 640 clusters \n",
      "quant_final_fc/final_fc/kernel:0: 14527 clusters \n",
      "\n",
      "QAT Model sparsity:\n",
      "conv/kernel:0: 0.00% sparsity  (0/640)\n",
      "final_fc/kernel:0: 0.22% sparsity  (36/16000)\n",
      "\n",
      "PCQAT Model clusters:\n",
      "quant_conv/conv/kernel:0: 640 clusters \n",
      "quant_final_fc/final_fc/kernel:0: 10 clusters \n",
      "\n",
      "PCQAT Model sparsity:\n",
      "conv/kernel:0: 0.00% sparsity  (0/640)\n",
      "final_fc/kernel:0: 38.06% sparsity  (6090/16000)\n"
     ]
    },
    {
     "name": "stderr",
     "output_type": "stream",
     "text": [
      "WARNING:absl:Found untraced functions such as reshape_layer_call_fn, reshape_layer_call_and_return_conditional_losses, conv_layer_call_fn, conv_layer_call_and_return_conditional_losses, _jit_compiled_convolution_op while saving (showing 5 of 13). These functions will not be directly callable after loading.\n"
     ]
    },
    {
     "name": "stdout",
     "output_type": "stream",
     "text": [
      "INFO:tensorflow:Assets written to: /scratch/1483148.1.academic-gpu/tmppb18wfr8/assets\n"
     ]
    },
    {
     "name": "stderr",
     "output_type": "stream",
     "text": [
      "INFO:tensorflow:Assets written to: /scratch/1483148.1.academic-gpu/tmppb18wfr8/assets\n",
      "/share/pkg.7/tensorflow/2.11.0/install/lib/SCC/../python3.10/site-packages/tensorflow/lite/python/convert.py:765: UserWarning: Statistics for quantized inputs were expected, but not specified; continuing anyway.\n",
      "  warnings.warn(\"Statistics for quantized inputs were expected, but not \"\n",
      "WARNING:absl:Found untraced functions such as reshape_layer_call_fn, reshape_layer_call_and_return_conditional_losses, conv_layer_call_fn, conv_layer_call_and_return_conditional_losses, _jit_compiled_convolution_op while saving (showing 5 of 13). These functions will not be directly callable after loading.\n"
     ]
    },
    {
     "name": "stdout",
     "output_type": "stream",
     "text": [
      "INFO:tensorflow:Assets written to: /scratch/1483148.1.academic-gpu/tmpie3btm8d/assets\n"
     ]
    },
    {
     "name": "stderr",
     "output_type": "stream",
     "text": [
      "INFO:tensorflow:Assets written to: /scratch/1483148.1.academic-gpu/tmpie3btm8d/assets\n",
      "/share/pkg.7/tensorflow/2.11.0/install/lib/SCC/../python3.10/site-packages/tensorflow/lite/python/convert.py:765: UserWarning: Statistics for quantized inputs were expected, but not specified; continuing anyway.\n",
      "  warnings.warn(\"Statistics for quantized inputs were expected, but not \"\n"
     ]
    }
   ],
   "source": [
    "quantized_qat_models = []\n",
    "pruning_quantized_qat_models = []\n",
    "pruning_clustered_quantized_qat_models = []\n",
    "\n",
    "# Do qat with non-pruned models\n",
    "for model in final_models:\n",
    "    qat_tflite_model, pcqat_tflite_model = qat(model, pruned = False, clustered = False, save = True, deployable = False)\n",
    "    quantized_qat_models.append(qat_tflite_model)\n",
    "    quantized_qat_models.append(pcqat_tflite_model)\n",
    "\n",
    "# Do qat with pruned models\n",
    "for model in basic_pruned_models:\n",
    "    pruned_qat_tflite_model, pruned_pcqat_tflite_model = qat(model, pruned = True, clustered = False, save = True, deployable = False)\n",
    "    pruning_quantized_qat_models.append(pruned_qat_tflite_model)\n",
    "    pruning_quantized_qat_models.append(pruned_pcqat_tflite_model)\n",
    "\n",
    "# Do qat with pruned clustered models\n",
    "for model in pruned_clustered_models:\n",
    "    pruned_clustered_qat_tflite_model, pruned_clustered_pcqat_tflite_model = qat(model, pruned = True,\n",
    "                                                                                 clustered = True, save = True, deployable = False)\n",
    "    pruning_clustered_quantized_qat_models.append(pruned_clustered_qat_tflite_model)\n",
    "    pruning_clustered_quantized_qat_models.append(pruned_clustered_pcqat_tflite_model)\n",
    "\n"
   ]
  },
  {
   "cell_type": "code",
   "execution_count": 178,
   "metadata": {},
   "outputs": [
    {
     "name": "stderr",
     "output_type": "stream",
     "text": [
      "WARNING:absl:Found untraced functions such as reshape_layer_call_fn, reshape_layer_call_and_return_conditional_losses, conv1_layer_call_fn, conv1_layer_call_and_return_conditional_losses, _jit_compiled_convolution_op while saving (showing 5 of 20). These functions will not be directly callable after loading.\n"
     ]
    },
    {
     "name": "stdout",
     "output_type": "stream",
     "text": [
      "INFO:tensorflow:Assets written to: /scratch/1483148.1.academic-gpu/tmpcsbipxsj/assets\n"
     ]
    },
    {
     "name": "stderr",
     "output_type": "stream",
     "text": [
      "INFO:tensorflow:Assets written to: /scratch/1483148.1.academic-gpu/tmpcsbipxsj/assets\n"
     ]
    },
    {
     "name": "stdout",
     "output_type": "stream",
     "text": [
      "tf accuracy: 0.9663580360765798\n",
      "Model 1 (qat_clustered_pruned_tiny_conv_model):\n",
      "  Gzipped Model Size: 75.47 KB\n",
      "  Test Accuracy: 0.9664\n",
      "  TFLite Gzipped Model Size: 25.99 KB\n",
      "  TFLite Test Accuracy: 0.9664\n"
     ]
    },
    {
     "name": "stderr",
     "output_type": "stream",
     "text": [
      "WARNING:absl:Found untraced functions such as reshape_layer_call_fn, reshape_layer_call_and_return_conditional_losses, conv1_layer_call_fn, conv1_layer_call_and_return_conditional_losses, _jit_compiled_convolution_op while saving (showing 5 of 20). These functions will not be directly callable after loading.\n"
     ]
    },
    {
     "name": "stdout",
     "output_type": "stream",
     "text": [
      "INFO:tensorflow:Assets written to: /scratch/1483148.1.academic-gpu/tmpoeo5qxw3/assets\n"
     ]
    },
    {
     "name": "stderr",
     "output_type": "stream",
     "text": [
      "INFO:tensorflow:Assets written to: /scratch/1483148.1.academic-gpu/tmpoeo5qxw3/assets\n"
     ]
    },
    {
     "name": "stdout",
     "output_type": "stream",
     "text": [
      "tf accuracy: 0.966265815780737\n",
      "Model 2 (pcqat_clustered_pruned_tiny_conv_model):\n",
      "  Gzipped Model Size: 76.42 KB\n",
      "  Test Accuracy: 0.9663\n",
      "  TFLite Gzipped Model Size: 25.41 KB\n",
      "  TFLite Test Accuracy: 0.9663\n"
     ]
    },
    {
     "name": "stderr",
     "output_type": "stream",
     "text": [
      "WARNING:absl:Found untraced functions such as reshape_layer_call_fn, reshape_layer_call_and_return_conditional_losses, conv_layer_call_fn, conv_layer_call_and_return_conditional_losses, _jit_compiled_convolution_op while saving (showing 5 of 13). These functions will not be directly callable after loading.\n"
     ]
    },
    {
     "name": "stdout",
     "output_type": "stream",
     "text": [
      "INFO:tensorflow:Assets written to: /scratch/1483148.1.academic-gpu/tmpl_ur1yun/assets\n"
     ]
    },
    {
     "name": "stderr",
     "output_type": "stream",
     "text": [
      "INFO:tensorflow:Assets written to: /scratch/1483148.1.academic-gpu/tmpl_ur1yun/assets\n"
     ]
    },
    {
     "name": "stdout",
     "output_type": "stream",
     "text": [
      "tf accuracy: 0.969567302371906\n",
      "Model 3 (qat_clustered_pruned_tiny_conv_model_small):\n",
      "  Gzipped Model Size: 188.34 KB\n",
      "  Test Accuracy: 0.9696\n",
      "  TFLite Gzipped Model Size: 37.82 KB\n",
      "  TFLite Test Accuracy: 0.9696\n"
     ]
    },
    {
     "name": "stderr",
     "output_type": "stream",
     "text": [
      "WARNING:absl:Found untraced functions such as reshape_layer_call_fn, reshape_layer_call_and_return_conditional_losses, conv_layer_call_fn, conv_layer_call_and_return_conditional_losses, _jit_compiled_convolution_op while saving (showing 5 of 13). These functions will not be directly callable after loading.\n"
     ]
    },
    {
     "name": "stdout",
     "output_type": "stream",
     "text": [
      "INFO:tensorflow:Assets written to: /scratch/1483148.1.academic-gpu/tmpe1jumws1/assets\n"
     ]
    },
    {
     "name": "stderr",
     "output_type": "stream",
     "text": [
      "INFO:tensorflow:Assets written to: /scratch/1483148.1.academic-gpu/tmpe1jumws1/assets\n"
     ]
    },
    {
     "name": "stdout",
     "output_type": "stream",
     "text": [
      "tf accuracy: 0.9713932642295916\n",
      "Model 4 (pcqat_clustered_pruned_tiny_conv_model_small):\n",
      "  Gzipped Model Size: 187.03 KB\n",
      "  Test Accuracy: 0.9714\n",
      "  TFLite Gzipped Model Size: 19.71 KB\n",
      "  TFLite Test Accuracy: 0.9714\n"
     ]
    },
    {
     "data": {
      "image/png": "[encoded data removed]",
      "text/plain": [
       "<Figure size 1000x600 with 1 Axes>"
      ]
     },
     "metadata": {},
     "output_type": "display_data"
    }
   ],
   "source": [
    "plot_size_v_accuracy(pruning_clustered_quantized_qat_models, test_spectrogram_ds)"
   ]
  },
  {
   "cell_type": "code",
   "execution_count": 179,
   "metadata": {},
   "outputs": [
    {
     "name": "stderr",
     "output_type": "stream",
     "text": [
      "WARNING:absl:Found untraced functions such as reshape_layer_call_fn, reshape_layer_call_and_return_conditional_losses, conv1_layer_call_fn, conv1_layer_call_and_return_conditional_losses, _jit_compiled_convolution_op while saving (showing 5 of 20). These functions will not be directly callable after loading.\n"
     ]
    },
    {
     "name": "stdout",
     "output_type": "stream",
     "text": [
      "INFO:tensorflow:Assets written to: /scratch/1483148.1.academic-gpu/tmpdje2un15/assets\n"
     ]
    },
    {
     "name": "stderr",
     "output_type": "stream",
     "text": [
      "INFO:tensorflow:Assets written to: /scratch/1483148.1.academic-gpu/tmpdje2un15/assets\n"
     ]
    },
    {
     "name": "stdout",
     "output_type": "stream",
     "text": [
      "tf accuracy: 0.967796672691726\n",
      "Model 1 (qat_tiny_conv_model):\n",
      "  Gzipped Model Size: 75.36 KB\n",
      "  Test Accuracy: 0.9678\n",
      "  TFLite Gzipped Model Size: 26.06 KB\n",
      "  TFLite Test Accuracy: 0.9678\n"
     ]
    },
    {
     "name": "stderr",
     "output_type": "stream",
     "text": [
      "WARNING:absl:Found untraced functions such as reshape_layer_call_fn, reshape_layer_call_and_return_conditional_losses, conv1_layer_call_fn, conv1_layer_call_and_return_conditional_losses, _jit_compiled_convolution_op while saving (showing 5 of 20). These functions will not be directly callable after loading.\n"
     ]
    },
    {
     "name": "stdout",
     "output_type": "stream",
     "text": [
      "INFO:tensorflow:Assets written to: /scratch/1483148.1.academic-gpu/tmpxc5gbvvy/assets\n"
     ]
    },
    {
     "name": "stderr",
     "output_type": "stream",
     "text": [
      "INFO:tensorflow:Assets written to: /scratch/1483148.1.academic-gpu/tmpxc5gbvvy/assets\n"
     ]
    },
    {
     "name": "stdout",
     "output_type": "stream",
     "text": [
      "tf accuracy: 0.9656571618281752\n",
      "Model 2 (pcqat_tiny_conv_model):\n",
      "  Gzipped Model Size: 82.14 KB\n",
      "  Test Accuracy: 0.9657\n",
      "  TFLite Gzipped Model Size: 26.04 KB\n",
      "  TFLite Test Accuracy: 0.9657\n"
     ]
    },
    {
     "name": "stderr",
     "output_type": "stream",
     "text": [
      "WARNING:absl:Found untraced functions such as reshape_layer_call_fn, reshape_layer_call_and_return_conditional_losses, conv_layer_call_fn, conv_layer_call_and_return_conditional_losses, _jit_compiled_convolution_op while saving (showing 5 of 13). These functions will not be directly callable after loading.\n"
     ]
    },
    {
     "name": "stdout",
     "output_type": "stream",
     "text": [
      "INFO:tensorflow:Assets written to: /scratch/1483148.1.academic-gpu/tmpgy67iqei/assets\n"
     ]
    },
    {
     "name": "stderr",
     "output_type": "stream",
     "text": [
      "INFO:tensorflow:Assets written to: /scratch/1483148.1.academic-gpu/tmpgy67iqei/assets\n"
     ]
    },
    {
     "name": "stdout",
     "output_type": "stream",
     "text": [
      "tf accuracy: 0.9723523553063558\n",
      "Model 3 (qat_tiny_conv_model_small):\n",
      "  Gzipped Model Size: 191.66 KB\n",
      "  Test Accuracy: 0.9724\n",
      "  TFLite Gzipped Model Size: 43.01 KB\n",
      "  TFLite Test Accuracy: 0.9724\n"
     ]
    },
    {
     "name": "stderr",
     "output_type": "stream",
     "text": [
      "WARNING:absl:Found untraced functions such as reshape_layer_call_fn, reshape_layer_call_and_return_conditional_losses, conv_layer_call_fn, conv_layer_call_and_return_conditional_losses, _jit_compiled_convolution_op while saving (showing 5 of 13). These functions will not be directly callable after loading.\n"
     ]
    },
    {
     "name": "stdout",
     "output_type": "stream",
     "text": [
      "INFO:tensorflow:Assets written to: /scratch/1483148.1.academic-gpu/tmpnwb8sm_e/assets\n"
     ]
    },
    {
     "name": "stderr",
     "output_type": "stream",
     "text": [
      "INFO:tensorflow:Assets written to: /scratch/1483148.1.academic-gpu/tmpnwb8sm_e/assets\n"
     ]
    },
    {
     "name": "stdout",
     "output_type": "stream",
     "text": [
      "tf accuracy: 0.9736987716256593\n",
      "Model 4 (pcqat_tiny_conv_model_small):\n",
      "  Gzipped Model Size: 191.36 KB\n",
      "  Test Accuracy: 0.9737\n",
      "  TFLite Gzipped Model Size: 43.00 KB\n",
      "  TFLite Test Accuracy: 0.9737\n"
     ]
    },
    {
     "data": {
      "image/png": "[encoded data removed]",
      "text/plain": [
       "<Figure size 1000x600 with 1 Axes>"
      ]
     },
     "metadata": {},
     "output_type": "display_data"
    }
   ],
   "source": [
    "plot_size_v_accuracy(quantized_qat_models, test_spectrogram_ds)"
   ]
  },
  {
   "cell_type": "code",
   "execution_count": 180,
   "metadata": {},
   "outputs": [
    {
     "name": "stderr",
     "output_type": "stream",
     "text": [
      "WARNING:absl:Found untraced functions such as reshape_layer_call_fn, reshape_layer_call_and_return_conditional_losses, conv1_layer_call_fn, conv1_layer_call_and_return_conditional_losses, _jit_compiled_convolution_op while saving (showing 5 of 20). These functions will not be directly callable after loading.\n"
     ]
    },
    {
     "name": "stdout",
     "output_type": "stream",
     "text": [
      "INFO:tensorflow:Assets written to: /scratch/1483148.1.academic-gpu/tmpgnfoim9t/assets\n"
     ]
    },
    {
     "name": "stderr",
     "output_type": "stream",
     "text": [
      "INFO:tensorflow:Assets written to: /scratch/1483148.1.academic-gpu/tmpgnfoim9t/assets\n"
     ]
    },
    {
     "name": "stdout",
     "output_type": "stream",
     "text": [
      "tf accuracy: 0.9687557637684902\n",
      "Model 1 (qat_pruned_tiny_conv_model):\n",
      "  Gzipped Model Size: 75.42 KB\n",
      "  Test Accuracy: 0.9688\n",
      "  TFLite Gzipped Model Size: 26.09 KB\n",
      "  TFLite Test Accuracy: 0.9688\n"
     ]
    },
    {
     "name": "stderr",
     "output_type": "stream",
     "text": [
      "WARNING:absl:Found untraced functions such as reshape_layer_call_fn, reshape_layer_call_and_return_conditional_losses, conv1_layer_call_fn, conv1_layer_call_and_return_conditional_losses, _jit_compiled_convolution_op while saving (showing 5 of 20). These functions will not be directly callable after loading.\n"
     ]
    },
    {
     "name": "stdout",
     "output_type": "stream",
     "text": [
      "INFO:tensorflow:Assets written to: /scratch/1483148.1.academic-gpu/tmpqx5imoya/assets\n"
     ]
    },
    {
     "name": "stderr",
     "output_type": "stream",
     "text": [
      "INFO:tensorflow:Assets written to: /scratch/1483148.1.academic-gpu/tmpqx5imoya/assets\n"
     ]
    },
    {
     "name": "stdout",
     "output_type": "stream",
     "text": [
      "tf accuracy: 0.9648640672839278\n",
      "Model 2 (pcqat_pruned_tiny_conv_model):\n",
      "  Gzipped Model Size: 80.63 KB\n",
      "  Test Accuracy: 0.9649\n",
      "  TFLite Gzipped Model Size: 26.07 KB\n",
      "  TFLite Test Accuracy: 0.9649\n"
     ]
    },
    {
     "name": "stderr",
     "output_type": "stream",
     "text": [
      "WARNING:absl:Found untraced functions such as reshape_layer_call_fn, reshape_layer_call_and_return_conditional_losses, conv_layer_call_fn, conv_layer_call_and_return_conditional_losses, _jit_compiled_convolution_op while saving (showing 5 of 13). These functions will not be directly callable after loading.\n"
     ]
    },
    {
     "name": "stdout",
     "output_type": "stream",
     "text": [
      "INFO:tensorflow:Assets written to: /scratch/1483148.1.academic-gpu/tmp54f3g8ba/assets\n"
     ]
    },
    {
     "name": "stderr",
     "output_type": "stream",
     "text": [
      "INFO:tensorflow:Assets written to: /scratch/1483148.1.academic-gpu/tmp54f3g8ba/assets\n"
     ]
    },
    {
     "name": "stdout",
     "output_type": "stream",
     "text": [
      "tf accuracy: 0.9745287542882437\n",
      "Model 3 (qat_pruned_tiny_conv_model_small):\n",
      "  Gzipped Model Size: 191.86 KB\n",
      "  Test Accuracy: 0.9745\n",
      "  TFLite Gzipped Model Size: 43.00 KB\n",
      "  TFLite Test Accuracy: 0.9745\n"
     ]
    },
    {
     "name": "stderr",
     "output_type": "stream",
     "text": [
      "WARNING:absl:Found untraced functions such as reshape_layer_call_fn, reshape_layer_call_and_return_conditional_losses, conv_layer_call_fn, conv_layer_call_and_return_conditional_losses, _jit_compiled_convolution_op while saving (showing 5 of 13). These functions will not be directly callable after loading.\n"
     ]
    },
    {
     "name": "stdout",
     "output_type": "stream",
     "text": [
      "INFO:tensorflow:Assets written to: /scratch/1483148.1.academic-gpu/tmpm42eea3j/assets\n"
     ]
    },
    {
     "name": "stderr",
     "output_type": "stream",
     "text": [
      "INFO:tensorflow:Assets written to: /scratch/1483148.1.academic-gpu/tmpm42eea3j/assets\n"
     ]
    },
    {
     "name": "stdout",
     "output_type": "stream",
     "text": [
      "tf accuracy: 0.9670220222066472\n",
      "Model 4 (pcqat_pruned_tiny_conv_model_small):\n",
      "  Gzipped Model Size: 165.66 KB\n",
      "  Test Accuracy: 0.9670\n",
      "  TFLite Gzipped Model Size: 42.23 KB\n",
      "  TFLite Test Accuracy: 0.9670\n"
     ]
    },
    {
     "data": {
      "image/png": "[encoded data removed]",
      "text/plain": [
       "<Figure size 1000x600 with 1 Axes>"
      ]
     },
     "metadata": {},
     "output_type": "display_data"
    }
   ],
   "source": [
    "plot_size_v_accuracy(pruning_quantized_qat_models, test_spectrogram_ds)"
   ]
  },
  {
   "cell_type": "code",
   "execution_count": 182,
   "metadata": {},
   "outputs": [
    {
     "name": "stdout",
     "output_type": "stream",
     "text": [
      "Input type: <class 'numpy.float32'>\n",
      "Output type: <class 'numpy.float32'>\n"
     ]
    }
   ],
   "source": [
    "interpreter = tf.lite.Interpreter(model_path=\"pruned_clustered_clustered_pruned_tiny_conv_model_small_qat_model.tflite\")\n",
    "interpreter.allocate_tensors()\n",
    "# Verify input type is int8\n",
    "input_details = interpreter.get_input_details()\n",
    "output_details = interpreter.get_output_details()\n",
    "print(\"Input type:\", input_details[0]['dtype'])\n",
    "print(\"Output type:\", output_details[0]['dtype'])"
   ]
  },
  {
   "cell_type": "code",
   "execution_count": 183,
   "metadata": {},
   "outputs": [],
   "source": [
    "def get_gzipped_model_file_size(file):\n",
    "  # It returns the size of the gzipped model in kilobytes.\n",
    "  _, zipped_file = tempfile.mkstemp('.zip')\n",
    "  with zipfile.ZipFile(zipped_file, 'w', compression=zipfile.ZIP_DEFLATED) as f:\n",
    "    f.write(file)\n",
    "\n",
    "  return os.path.getsize(zipped_file)/1000\n"
   ]
  },
  {
   "cell_type": "markdown",
   "metadata": {},
   "source": [
    "## Post training quantization\n",
    "\n",
    "https://ai.google.dev/edge/litert/models/post_training_quant"
   ]
  },
  {
   "cell_type": "code",
   "execution_count": 184,
   "metadata": {},
   "outputs": [],
   "source": [
    "# Function to quantize the models using TensorFlow Lite Micro with different granularities\n",
    "def quantize_model(model, optimization_strategy):\n",
    "    converter = tf.lite.TFLiteConverter.from_keras_model(model)\n",
    "    converter.optimizations = [tf.lite.Optimize.DEFAULT]\n",
    "    if optimization_strategy == 'weight':\n",
    "        # Quantize only weights\n",
    "        converter.target_spec.supported_types = [tf.float16]\n",
    "    elif optimization_strategy == 'full':\n",
    "        # Full integer quantization\n",
    "        def representative_dataset():\n",
    "            for spectrogram, _ in train_spectrogram_ds:\n",
    "                spectrogram = np.array(spectrogram, dtype=np.float32)\n",
    "                yield [spectrogram]\n",
    "        converter.representative_dataset = representative_dataset\n",
    "        #converter.target_spec.supported_ops = [tf.lite.OpsSet.TFLITE_BUILTINS_INT8]\n",
    "        converter.inference_input_type = tf.uint8\n",
    "        converter.inference_output_type = tf.uint8\n",
    "    elif optimization_strategy == 'dynamic':\n",
    "        # Dynamic range quantization\n",
    "        converter.optimizations = [tf.lite.Optimize.DEFAULT]\n",
    "    else:\n",
    "        raise ValueError(\"Unsupported optimization strategy. Use 'weight', 'full', or 'dynamic'.\")\n",
    "    tflite_model = converter.convert()\n",
    "    return tflite_model"
   ]
  },
  {
   "cell_type": "code",
   "execution_count": 185,
   "metadata": {},
   "outputs": [],
   "source": [
    "# Function to quantize the models using post-training integer quantization with int16 activations and int8 weights\n",
    "def quantize_model_int16x8(model):\n",
    "    converter = tf.lite.TFLiteConverter.from_keras_model(model)\n",
    "    converter.optimizations = [tf.lite.Optimize.DEFAULT]\n",
    "    def representative_dataset():\n",
    "        for spectrogram, _ in train_spectrogram_ds.take(100):\n",
    "            spectrogram = np.array(spectrogram, dtype=np.float32)\n",
    "            yield [spectrogram]\n",
    "    converter.representative_dataset = representative_dataset\n",
    "    converter.target_spec.supported_ops = [tf.lite.OpsSet.EXPERIMENTAL_TFLITE_BUILTINS_ACTIVATIONS_INT16_WEIGHTS_INT8]\n",
    "    converter.inference_input_type = tf.int16\n",
    "    converter.inference_output_type = tf.int16\n",
    "    tflite_model = converter.convert()\n",
    "    return tflite_model"
   ]
  },
  {
   "cell_type": "code",
   "execution_count": 186,
   "metadata": {},
   "outputs": [
    {
     "name": "stdout",
     "output_type": "stream",
     "text": [
      "Model name: tiny_conv_model\n",
      "Model name: tiny_conv_model_small\n"
     ]
    }
   ],
   "source": [
    "for model in final_models:\n",
    "    print(\"Model name:\", model.name)"
   ]
  },
  {
   "cell_type": "code",
   "execution_count": 187,
   "metadata": {},
   "outputs": [
    {
     "name": "stdout",
     "output_type": "stream",
     "text": [
      "Quantizing Model tiny_conv_model with full strategy\n"
     ]
    },
    {
     "name": "stderr",
     "output_type": "stream",
     "text": [
      "WARNING:absl:Found untraced functions such as _jit_compiled_convolution_op, _jit_compiled_convolution_op while saving (showing 2 of 2). These functions will not be directly callable after loading.\n"
     ]
    },
    {
     "name": "stdout",
     "output_type": "stream",
     "text": [
      "INFO:tensorflow:Assets written to: /scratch/1483148.1.academic-gpu/tmpss8zhw47/assets\n"
     ]
    },
    {
     "name": "stderr",
     "output_type": "stream",
     "text": [
      "INFO:tensorflow:Assets written to: /scratch/1483148.1.academic-gpu/tmpss8zhw47/assets\n",
      "/share/pkg.7/tensorflow/2.11.0/install/lib/SCC/../python3.10/site-packages/tensorflow/lite/python/convert.py:765: UserWarning: Statistics for quantized inputs were expected, but not specified; continuing anyway.\n",
      "  warnings.warn(\"Statistics for quantized inputs were expected, but not \"\n",
      "fully_quantize: 0, inference_type: 6, input_inference_type: UINT8, output_inference_type: UINT8\n"
     ]
    },
    {
     "name": "stdout",
     "output_type": "stream",
     "text": [
      "Model 0 quantized with full strategy and saved as tiny_conv_model_full_quantized.tflite\n",
      "Quantizing Model tiny_conv_model_small with full strategy\n"
     ]
    },
    {
     "name": "stderr",
     "output_type": "stream",
     "text": [
      "WARNING:absl:Found untraced functions such as _jit_compiled_convolution_op while saving (showing 1 of 1). These functions will not be directly callable after loading.\n"
     ]
    },
    {
     "name": "stdout",
     "output_type": "stream",
     "text": [
      "INFO:tensorflow:Assets written to: /scratch/1483148.1.academic-gpu/tmptbm0nnq8/assets\n"
     ]
    },
    {
     "name": "stderr",
     "output_type": "stream",
     "text": [
      "INFO:tensorflow:Assets written to: /scratch/1483148.1.academic-gpu/tmptbm0nnq8/assets\n",
      "/share/pkg.7/tensorflow/2.11.0/install/lib/SCC/../python3.10/site-packages/tensorflow/lite/python/convert.py:765: UserWarning: Statistics for quantized inputs were expected, but not specified; continuing anyway.\n",
      "  warnings.warn(\"Statistics for quantized inputs were expected, but not \"\n"
     ]
    },
    {
     "name": "stdout",
     "output_type": "stream",
     "text": [
      "Model 1 quantized with full strategy and saved as tiny_conv_model_small_full_quantized.tflite\n"
     ]
    },
    {
     "name": "stderr",
     "output_type": "stream",
     "text": [
      "fully_quantize: 0, inference_type: 6, input_inference_type: UINT8, output_inference_type: UINT8\n"
     ]
    }
   ],
   "source": [
    "# Quantize each trained model with different granularities and save them\n",
    "quantization_strategies = ['weight', 'full', 'dynamic']\n",
    "quantization_strategies = ['full']\n",
    "\n",
    "for i, model in enumerate(final_models):\n",
    "    for strategy in quantization_strategies:\n",
    "        print(f'Quantizing Model {model.name} with {strategy} strategy')\n",
    "        tflite_model = quantize_model(model, strategy)\n",
    "        model_filename = f'{model.name}_{strategy}_quantized.tflite'\n",
    "        with open(model_filename, 'wb') as f:\n",
    "            f.write(tflite_model)\n",
    "        print(f'Model {i} quantized with {strategy} strategy and saved as {model_filename}')\n",
    "\n",
    "    # Quantize using post-training integer quantization with int16 activations and int8 weights\n",
    "    #print(f'Quantizing Model {i} with int16 activations and int8 weights')\n",
    "    #tflite_model_int16x8 = quantize_model_int16x8(model)\n",
    "    #model_filename_int16x8 = f'model_{model}_int16x8_quantized.tflite'\n",
    "    #with open(model_filename_int16x8, 'wb') as f:\n",
    "    #    f.write(tflite_model_int16x8)\n",
    "    #print(f'Model {i} quantized with int16 activations and int8 weights and saved as {model_filename_int16x8}')"
   ]
  },
  {
   "cell_type": "markdown",
   "metadata": {},
   "source": [
    "## Quantized Model Evaluation"
   ]
  },
  {
   "cell_type": "code",
   "execution_count": 214,
   "metadata": {},
   "outputs": [
    {
     "name": "stdout",
     "output_type": "stream",
     "text": [
      "TFLite files in the current working directory (excluding 'qat'):\n",
      "/projectnb/cs505aw/projects/tinyml/model.tflite\n",
      "/projectnb/cs505aw/projects/tinyml/simple_embedding_model_weight_quantized.tflite\n",
      "/projectnb/cs505aw/projects/tinyml/pruned_tiny_conv_model_deployable_int8.tflite\n",
      "/projectnb/cs505aw/projects/tinyml/pruned_tiny_conv_model_smallp.tflite\n",
      "/projectnb/cs505aw/projects/tinyml/clustered_pruned_tiny_conv_modelpc.tflite\n",
      "/projectnb/cs505aw/projects/tinyml/tiny_embed_conv_modelbase.tflite\n",
      "/projectnb/cs505aw/projects/tinyml/tiny_conv_modelbase.tflite\n",
      "/projectnb/cs505aw/projects/tinyml/tiny_embed_conv_model_dynamic_quantized.tflite\n",
      "/projectnb/cs505aw/projects/tinyml/quantized_model_int8.tflite\n",
      "/projectnb/cs505aw/projects/tinyml/simple_embedding_model_full_quantized.tflite\n",
      "/projectnb/cs505aw/projects/tinyml/tiny_conv_model_small_full_quantized.tflite\n",
      "/projectnb/cs505aw/projects/tinyml/pruned_tiny_conv_model_small_deployable_int8.tflite\n",
      "/projectnb/cs505aw/projects/tinyml/simple_embedding_model_dynamic_quantized.tflite\n",
      "/projectnb/cs505aw/projects/tinyml/quantized_model_uint8.tflite\n",
      "/projectnb/cs505aw/projects/tinyml/tiny_conv_model_smallbase.tflite\n",
      "/projectnb/cs505aw/projects/tinyml/tiny_conv_model_full_quantized.tflite\n",
      "/projectnb/cs505aw/projects/tinyml/simple_embedding_modelbase.tflite\n",
      "/projectnb/cs505aw/projects/tinyml/model_<keras.engine.functional.Functional object at 0x148e495a2350>_int16x8_quantized.tflite\n",
      "/projectnb/cs505aw/projects/tinyml/model_<keras.engine.functional.Functional object at 0x1480f413b010>_int16x8_quantized.tflite\n",
      "/projectnb/cs505aw/projects/tinyml/pruned_tiny_conv_modelp.tflite\n",
      "/projectnb/cs505aw/projects/tinyml/tiny_conv_model_deployable_int8.tflite\n",
      "/projectnb/cs505aw/projects/tinyml/clustered_pruned_tiny_conv_model_small_deployable_int8.tflite\n",
      "/projectnb/cs505aw/projects/tinyml/tiny_embed_conv_model_full_quantized.tflite\n",
      "/projectnb/cs505aw/projects/tinyml/model_<keras.engine.functional.Functional object at 0x14c39a56ab30>_int16x8_quantized.tflite\n",
      "/projectnb/cs505aw/projects/tinyml/tiny_embed_conv_model_weight_quantized.tflite\n",
      "/projectnb/cs505aw/projects/tinyml/clustered_pruned_tiny_conv_model_smallpc.tflite\n"
     ]
    }
   ],
   "source": [
    "import os\n",
    "\n",
    "def list_files_in_cwd(extension=None):\n",
    "    \"\"\"List files in the current working directory.\n",
    "\n",
    "    Args:\n",
    "        extension: Optional. If specified, filters files by this extension (e.g., '.tflite') and excludes files containing 'qat'.\n",
    "\n",
    "    Returns:\n",
    "        A list of file names (with full paths) in the current working directory.\n",
    "    \"\"\"\n",
    "    cwd = os.getcwd()  # Get the current working directory\n",
    "    files = [\n",
    "        os.path.join(cwd, f)\n",
    "        for f in os.listdir(cwd)\n",
    "        if os.path.isfile(f) and (extension is None or (f.endswith(extension) and 'qat' not in f))\n",
    "    ]\n",
    "    return files\n",
    "\n",
    "# Example usage\n",
    "tflite_files = list_files_in_cwd('.tflite')\n",
    "print(\"TFLite files in the current working directory (excluding 'qat'):\")\n",
    "for file in tflite_files:\n",
    "    print(file)\n"
   ]
  },
  {
   "cell_type": "code",
   "execution_count": null,
   "metadata": {},
   "outputs": [],
   "source": [
    "\n",
    "for file in tflite_files:\n",
    "    print(evaluate_tflite_model(file, test_spectrogram_ds)"
   ]
  },
  {
   "cell_type": "code",
   "execution_count": 218,
   "metadata": {},
   "outputs": [],
   "source": [
    "def evaluate_and_plot_tflite_models(directory, test_dataset, min_accuracy=0.95, max_size=100.0):\n",
    "    \"\"\"\n",
    "    Evaluate all .tflite models in the given directory and plot size vs accuracy,\n",
    "    filtering out models below a certain accuracy and above a certain size.\n",
    "\n",
    "    Args:\n",
    "        directory (str): Directory containing .tflite files.\n",
    "        test_dataset (tf.data.Dataset): Test dataset for evaluation.\n",
    "        min_accuracy (float, optional): Minimum accuracy threshold. Defaults to 0.95.\n",
    "        max_size (float, optional): Maximum gzipped model size in KB. Defaults to 100.0.\n",
    "\n",
    "    Returns:\n",
    "        None\n",
    "    \"\"\"\n",
    "    # List all .tflite files excluding those with 'qat' in their filename\n",
    "    tflite_files = [\n",
    "        os.path.join(directory, f) for f in os.listdir(directory) if (\n",
    "            f.endswith('.tflite') and 'qat' not in f)\n",
    "    ]\n",
    "    \n",
    "    if not tflite_files:\n",
    "        print(\"No .tflite files found in the directory.\")\n",
    "        return\n",
    "    \n",
    "    # Lists to store the results of models that meet the criteria\n",
    "    filtered_model_sizes = []\n",
    "    filtered_accuracies = []\n",
    "    filtered_model_names = []\n",
    "    \n",
    "    # Iterate over each .tflite file\n",
    "    for tflite_file in tflite_files:\n",
    "        print(f\"Evaluating {tflite_file}...\")\n",
    "        try:\n",
    "            # Load TFLite model content\n",
    "            with open(tflite_file, 'rb') as f:\n",
    "                tflite_model = f.read()\n",
    "            \n",
    "            # Get gzipped model size\n",
    "            gzipped_size = get_gzipped_tflite_model_size(tflite_model)\n",
    "            \n",
    "            # Evaluate the model accuracy\n",
    "            accuracy = evaluate_tflite_model(tflite_model, test_dataset)\n",
    "            \n",
    "            # Extract model name\n",
    "            model_name = os.path.basename(tflite_file)\n",
    "            \n",
    "            # Check if the model meets the specified criteria\n",
    "            if accuracy >= min_accuracy and gzipped_size <= max_size:\n",
    "                # Store results for plotting\n",
    "                filtered_model_sizes.append(gzipped_size)\n",
    "                filtered_accuracies.append(accuracy)\n",
    "                filtered_model_names.append(model_name)\n",
    "                \n",
    "                # Print the details of the included model\n",
    "                print(f\"Included Model: {model_name}\")\n",
    "                print(f\"  Gzipped Size: {gzipped_size:.2f} KB\")\n",
    "                print(f\"  Accuracy: {accuracy:.4f}\")\n",
    "            else:\n",
    "                # Determine why the model was excluded\n",
    "                reasons = []\n",
    "                if accuracy < min_accuracy:\n",
    "                    reasons.append(f\"Accuracy {accuracy:.4f} below {min_accuracy}\")\n",
    "                if gzipped_size > max_size:\n",
    "                    reasons.append(f\"Size {gzipped_size:.2f} KB above {max_size} KB\")\n",
    "                reasons_str = \"; \".join(reasons)\n",
    "                \n",
    "                # Print the exclusion reason\n",
    "                print(f\"Excluded Model: {model_name}\")\n",
    "                print(f\"  Reasons: {reasons_str}\")\n",
    "            \n",
    "            print(\"-\" * 50)\n",
    "        \n",
    "        except Exception as e:\n",
    "            print(f\"Error evaluating {tflite_file}: {e}\")\n",
    "            print(\"-\" * 50)\n",
    "    \n",
    "    # Check if any models met the criteria\n",
    "    if not filtered_model_sizes:\n",
    "        print(\"No models met the specified accuracy and size thresholds.\")\n",
    "        return\n",
    "    \n",
    "    # Plotting\n",
    "    plt.figure(figsize=(12, 8))\n",
    "    \n",
    "    # Scatter plot for filtered models\n",
    "    plt.scatter(filtered_model_sizes, filtered_accuracies, color='green', marker='o', label='Filtered TFLite Models')\n",
    "    \n",
    "    # Annotate each point with the model name\n",
    "    for i, name in enumerate(filtered_model_names):\n",
    "        plt.text(filtered_model_sizes[i], filtered_accuracies[i], name, fontsize=9, ha='right', va='bottom')\n",
    "    \n",
    "    # Add labels and title\n",
    "    plt.xlabel('Gzipped Model Size (KB)')\n",
    "    plt.ylabel('Accuracy')\n",
    "    plt.title(f'TFLite Model Accuracy vs. Gzipped Size\\n(Accuracy ≥ {min_accuracy*100:.1f}%, Size ≤ {max_size} KB)')\n",
    "    plt.grid(True)\n",
    "    plt.legend()\n",
    "    plt.show()\n"
   ]
  },
  {
   "cell_type": "code",
   "execution_count": 219,
   "metadata": {},
   "outputs": [],
   "source": [
    "current_directory = os.getcwd()  # Current working directory\n"
   ]
  },
  {
   "cell_type": "code",
   "execution_count": 220,
   "metadata": {},
   "outputs": [
    {
     "name": "stdout",
     "output_type": "stream",
     "text": [
      "Evaluating /projectnb/cs505aw/projects/tinyml/model.tflite...\n",
      "tf accuracy: 0.9805415175771884\n",
      "Excluded Model: model.tflite\n",
      "  Reasons: Size 51.29 KB above 20.0 KB\n",
      "--------------------------------------------------\n",
      "Evaluating /projectnb/cs505aw/projects/tinyml/simple_embedding_model_weight_quantized.tflite...\n",
      "tf accuracy: 0.9800619720388063\n",
      "Excluded Model: simple_embedding_model_weight_quantized.tflite\n",
      "  Reasons: Size 32.81 KB above 20.0 KB\n",
      "--------------------------------------------------\n",
      "Evaluating /projectnb/cs505aw/projects/tinyml/pruned_tiny_conv_model_deployable_int8.tflite...\n",
      "tf accuracy: 0.37050426057766794\n",
      "Excluded Model: pruned_tiny_conv_model_deployable_int8.tflite\n",
      "  Reasons: Accuracy 0.3705 below 0.9\n",
      "--------------------------------------------------\n",
      "Evaluating /projectnb/cs505aw/projects/tinyml/pruned_tiny_conv_model_smallp.tflite...\n",
      "tf accuracy: 0.9780700136486038\n",
      "Excluded Model: pruned_tiny_conv_model_smallp.tflite\n",
      "  Reasons: Size 54.99 KB above 20.0 KB\n",
      "--------------------------------------------------\n",
      "Evaluating /projectnb/cs505aw/projects/tinyml/clustered_pruned_tiny_conv_modelpc.tflite...\n",
      "tf accuracy: 0.974639418643255\n",
      "Included Model: clustered_pruned_tiny_conv_modelpc.tflite\n",
      "  Gzipped Size: 5.87 KB\n",
      "  Accuracy: 0.9746\n",
      "--------------------------------------------------\n",
      "Evaluating /projectnb/cs505aw/projects/tinyml/tiny_embed_conv_modelbase.tflite...\n",
      "tf accuracy: 0.503983916780405\n",
      "Excluded Model: tiny_embed_conv_modelbase.tflite\n",
      "  Reasons: Accuracy 0.5040 below 0.9; Size 24.78 KB above 20.0 KB\n",
      "--------------------------------------------------\n",
      "Evaluating /projectnb/cs505aw/projects/tinyml/tiny_conv_modelbase.tflite...\n",
      "tf accuracy: 0.9661367073665572\n",
      "Excluded Model: tiny_conv_modelbase.tflite\n",
      "  Reasons: Size 24.80 KB above 20.0 KB\n",
      "--------------------------------------------------\n",
      "Evaluating /projectnb/cs505aw/projects/tinyml/tiny_embed_conv_model_dynamic_quantized.tflite...\n",
      "tf accuracy: 0.9520823342801283\n",
      "Included Model: tiny_embed_conv_model_dynamic_quantized.tflite\n",
      "  Gzipped Size: 10.66 KB\n",
      "  Accuracy: 0.9521\n",
      "--------------------------------------------------\n",
      "Evaluating /projectnb/cs505aw/projects/tinyml/quantized_model_int8.tflite...\n",
      "tf accuracy: 0.37046737245933087\n",
      "Excluded Model: quantized_model_int8.tflite\n",
      "  Reasons: Accuracy 0.3705 below 0.9\n",
      "--------------------------------------------------\n",
      "Evaluating /projectnb/cs505aw/projects/tinyml/simple_embedding_model_full_quantized.tflite...\n",
      "tf accuracy: 0.9735327750931425\n",
      "Included Model: simple_embedding_model_full_quantized.tflite\n",
      "  Gzipped Size: 15.58 KB\n",
      "  Accuracy: 0.9735\n",
      "--------------------------------------------------\n",
      "Evaluating /projectnb/cs505aw/projects/tinyml/tiny_conv_model_small_full_quantized.tflite...\n",
      "tf accuracy: 0.9639603083846693\n",
      "Included Model: tiny_conv_model_small_full_quantized.tflite\n",
      "  Gzipped Size: 14.61 KB\n",
      "  Accuracy: 0.9640\n",
      "--------------------------------------------------\n",
      "Evaluating /projectnb/cs505aw/projects/tinyml/pruned_tiny_conv_model_small_deployable_int8.tflite...\n",
      "tf accuracy: 0.37046737245933087\n",
      "Excluded Model: pruned_tiny_conv_model_small_deployable_int8.tflite\n",
      "  Reasons: Accuracy 0.3705 below 0.9\n",
      "--------------------------------------------------\n",
      "Evaluating /projectnb/cs505aw/projects/tinyml/simple_embedding_model_dynamic_quantized.tflite...\n",
      "tf accuracy: 0.9798590873879524\n",
      "Included Model: simple_embedding_model_dynamic_quantized.tflite\n",
      "  Gzipped Size: 17.25 KB\n",
      "  Accuracy: 0.9799\n",
      "--------------------------------------------------\n",
      "Evaluating /projectnb/cs505aw/projects/tinyml/quantized_model_uint8.tflite...\n",
      "tf accuracy: 0.9524881035818363\n",
      "Included Model: quantized_model_uint8.tflite\n",
      "  Gzipped Size: 7.80 KB\n",
      "  Accuracy: 0.9525\n",
      "--------------------------------------------------\n",
      "Evaluating /projectnb/cs505aw/projects/tinyml/tiny_conv_model_smallbase.tflite...\n",
      "tf accuracy: 0.9762993839684238\n",
      "Excluded Model: tiny_conv_model_smallbase.tflite\n",
      "  Reasons: Size 63.59 KB above 20.0 KB\n",
      "--------------------------------------------------\n",
      "Evaluating /projectnb/cs505aw/projects/tinyml/tiny_conv_model_full_quantized.tflite...\n",
      "tf accuracy: 0.9630749935445793\n",
      "Included Model: tiny_conv_model_full_quantized.tflite\n",
      "  Gzipped Size: 7.59 KB\n",
      "  Accuracy: 0.9631\n",
      "--------------------------------------------------\n",
      "Evaluating /projectnb/cs505aw/projects/tinyml/simple_embedding_modelbase.tflite...\n",
      "tf accuracy: 0.9800435279796378\n",
      "Excluded Model: simple_embedding_modelbase.tflite\n",
      "  Reasons: Size 63.45 KB above 20.0 KB\n",
      "--------------------------------------------------\n",
      "Evaluating /projectnb/cs505aw/projects/tinyml/model_<keras.engine.functional.Functional object at 0x148e495a2350>_int16x8_quantized.tflite...\n",
      "tf accuracy: 0.9762624958500867\n",
      "Included Model: model_<keras.engine.functional.Functional object at 0x148e495a2350>_int16x8_quantized.tflite\n",
      "  Gzipped Size: 11.89 KB\n",
      "  Accuracy: 0.9763\n",
      "--------------------------------------------------\n",
      "Evaluating /projectnb/cs505aw/projects/tinyml/model_<keras.engine.functional.Functional object at 0x1480f413b010>_int16x8_quantized.tflite...\n",
      "tf accuracy: 0.9800250839204692\n",
      "Included Model: model_<keras.engine.functional.Functional object at 0x1480f413b010>_int16x8_quantized.tflite\n",
      "  Gzipped Size: 15.62 KB\n",
      "  Accuracy: 0.9800\n",
      "--------------------------------------------------\n",
      "Evaluating /projectnb/cs505aw/projects/tinyml/pruned_tiny_conv_modelp.tflite...\n",
      "tf accuracy: 0.9682762182301081\n",
      "Excluded Model: pruned_tiny_conv_modelp.tflite\n",
      "  Reasons: Size 21.66 KB above 20.0 KB\n",
      "--------------------------------------------------\n",
      "Evaluating /projectnb/cs505aw/projects/tinyml/tiny_conv_model_deployable_int8.tflite...\n",
      "tf accuracy: 0.3706702571101848\n",
      "Excluded Model: tiny_conv_model_deployable_int8.tflite\n",
      "  Reasons: Accuracy 0.3707 below 0.9\n",
      "--------------------------------------------------\n",
      "Evaluating /projectnb/cs505aw/projects/tinyml/clustered_pruned_tiny_conv_model_small_deployable_int8.tflite...\n",
      "tf accuracy: 0.37046737245933087\n",
      "Excluded Model: clustered_pruned_tiny_conv_model_small_deployable_int8.tflite\n",
      "  Reasons: Accuracy 0.3705 below 0.9\n",
      "--------------------------------------------------\n",
      "Evaluating /projectnb/cs505aw/projects/tinyml/tiny_embed_conv_model_full_quantized.tflite...\n",
      "tf accuracy: 0.9544800619720388\n",
      "Included Model: tiny_embed_conv_model_full_quantized.tflite\n",
      "  Gzipped Size: 7.79 KB\n",
      "  Accuracy: 0.9545\n",
      "--------------------------------------------------\n",
      "Evaluating /projectnb/cs505aw/projects/tinyml/model_<keras.engine.functional.Functional object at 0x14c39a56ab30>_int16x8_quantized.tflite...\n",
      "tf accuracy: 0.9767051532701317\n",
      "Included Model: model_<keras.engine.functional.Functional object at 0x14c39a56ab30>_int16x8_quantized.tflite\n",
      "  Gzipped Size: 12.26 KB\n",
      "  Accuracy: 0.9767\n",
      "--------------------------------------------------\n",
      "Evaluating /projectnb/cs505aw/projects/tinyml/tiny_embed_conv_model_weight_quantized.tflite...\n",
      "tf accuracy: 0.9520823342801283\n",
      "Included Model: tiny_embed_conv_model_weight_quantized.tflite\n",
      "  Gzipped Size: 13.58 KB\n",
      "  Accuracy: 0.9521\n",
      "--------------------------------------------------\n",
      "Evaluating /projectnb/cs505aw/projects/tinyml/clustered_pruned_tiny_conv_model_smallpc.tflite...\n",
      "tf accuracy: 0.979914419565458\n",
      "Included Model: clustered_pruned_tiny_conv_model_smallpc.tflite\n",
      "  Gzipped Size: 9.41 KB\n",
      "  Accuracy: 0.9799\n",
      "--------------------------------------------------\n"
     ]
    },
    {
     "data": {
      "image/png": "[encoded data removed]",
      "text/plain": [
       "<Figure size 1200x800 with 1 Axes>"
      ]
     },
     "metadata": {},
     "output_type": "display_data"
    }
   ],
   "source": [
    "# Set your desired thresholds\n",
    "desired_min_accuracy = 0.90  # 96% minimum accuracy\n",
    "desired_max_size = 20.0       # 50 KB maximum gzipped size\n",
    "\n",
    "# Evaluate and plot models based on the specified thresholds\n",
    "evaluate_and_plot_tflite_models(\n",
    "    directory=current_directory,\n",
    "    test_dataset=test_spectrogram_ds,\n",
    "    min_accuracy=desired_min_accuracy,\n",
    "    max_size=desired_max_size\n",
    ")"
   ]
  },
  {
   "cell_type": "code",
   "execution_count": null,
   "metadata": {},
   "outputs": [],
   "source": [
    "#plot_filtered_model_size_vs_accuracy(model_sizes, accuracies, model_names, max_size=10, min_accuracy=0.90)"
   ]
  },
  {
   "cell_type": "code",
   "execution_count": null,
   "metadata": {},
   "outputs": [],
   "source": []
  },
  {
   "cell_type": "code",
   "execution_count": null,
   "metadata": {},
   "outputs": [],
   "source": []
  },
  {
   "cell_type": "code",
   "execution_count": null,
   "metadata": {},
   "outputs": [],
   "source": [
    "def tflite_to_c_array(tflite_file, output_header):\n",
    "    with open(tflite_file, 'rb') as f:\n",
    "        data = f.read()\n",
    "\n",
    "    array_name = 'model_data'\n",
    "    with open(output_header, 'w') as f:\n",
    "        f.write(f'const unsigned char {array_name}[] = {{\\n  ')\n",
    "        for i, byte in enumerate(data):\n",
    "            f.write(f'0x{byte:02x}, ')\n",
    "            if (i + 1) % 12 == 0:\n",
    "                f.write('\\n  ')\n",
    "        f.write(f'\\n}};\\n')\n",
    "        f.write(f'const unsigned int {array_name}_len = {len(data)};\\n')\n"
   ]
  },
  {
   "cell_type": "code",
   "execution_count": null,
   "metadata": {},
   "outputs": [],
   "source": [
    "# Usage\n",
    "tflite_to_c_array('qat_sequential_23.tflite', 'qat_sequential_23.cc')"
   ]
  },
  {
   "cell_type": "code",
   "execution_count": null,
   "metadata": {},
   "outputs": [],
   "source": [
    "!ls"
   ]
  },
  {
   "cell_type": "code",
   "execution_count": null,
   "metadata": {},
   "outputs": [],
   "source": [
    "!xxd -i pruned_clustered_qat_simple_embedding_model.tflite > pcq_model.cc\n"
   ]
  },
  {
   "cell_type": "code",
   "execution_count": null,
   "metadata": {},
   "outputs": [],
   "source": [
    "!xxd -i quantized_model_int8.tflite > pruned_clustered_int8.cc\n"
   ]
  },
  {
   "cell_type": "code",
   "execution_count": null,
   "metadata": {},
   "outputs": [],
   "source": [
    "!xxd -i quantized_model_int8.tflite > pruned_clustered_int8.cc\n"
   ]
  },
  {
   "cell_type": "code",
   "execution_count": null,
   "metadata": {},
   "outputs": [],
   "source": [
    "!xxd -i sequential_63_full_quantized.tflite > micro_model_smallest.cc\n"
   ]
  },
  {
   "cell_type": "code",
   "execution_count": 54,
   "metadata": {},
   "outputs": [
    {
     "data": {
      "text/plain": [
       "<keras.engine.functional.Functional at 0x14b9f87d18a0>"
      ]
     },
     "execution_count": 54,
     "metadata": {},
     "output_type": "execute_result"
    }
   ],
   "source": [
    "model_list[0]"
   ]
  },
  {
   "cell_type": "code",
   "execution_count": 56,
   "metadata": {},
   "outputs": [
    {
     "data": {
      "text/plain": [
       "<keras.engine.functional.Functional at 0x14b9f88c9ae0>"
      ]
     },
     "execution_count": 56,
     "metadata": {},
     "output_type": "execute_result"
    }
   ],
   "source": [
    "basic_pruned_models[0]"
   ]
  },
  {
   "cell_type": "code",
   "execution_count": 57,
   "metadata": {},
   "outputs": [
    {
     "data": {
      "text/plain": [
       "<keras.engine.functional.Functional at 0x14b7d8137640>"
      ]
     },
     "execution_count": 57,
     "metadata": {},
     "output_type": "execute_result"
    }
   ],
   "source": [
    "pruned_clustered_models[0]"
   ]
  },
  {
   "cell_type": "code",
   "execution_count": 4,
   "metadata": {},
   "outputs": [
    {
     "ename": "NameError",
     "evalue": "name 'pruned_clustered_models' is not defined",
     "output_type": "error",
     "traceback": [
      "\u001b[0;31m---------------------------------------------------------------------------\u001b[0m",
      "\u001b[0;31mNameError\u001b[0m                                 Traceback (most recent call last)",
      "Cell \u001b[0;32mIn[4], line 1\u001b[0m\n\u001b[0;32m----> 1\u001b[0m test_model \u001b[38;5;241m=\u001b[39m \u001b[43mpruned_clustered_models\u001b[49m[\u001b[38;5;241m0\u001b[39m]\n",
      "\u001b[0;31mNameError\u001b[0m: name 'pruned_clustered_models' is not defined"
     ]
    }
   ],
   "source": [
    "test_model = pruned_clustered_models[0]"
   ]
  },
  {
   "cell_type": "code",
   "execution_count": 153,
   "metadata": {},
   "outputs": [],
   "source": [
    "model_path = \"tiny_conv_modelbase\"\n",
    "test_model = tf.keras.models.load_model(model_path)\n"
   ]
  },
  {
   "cell_type": "code",
   "execution_count": 154,
   "metadata": {},
   "outputs": [
    {
     "name": "stdout",
     "output_type": "stream",
     "text": [
      "Model: \"tiny_conv_model\"\n",
      "_________________________________________________________________\n",
      " Layer (type)                Output Shape              Param #   \n",
      "=================================================================\n",
      " input (InputLayer)          [(None, 1960)]            0         \n",
      "                                                                 \n",
      " reshape (Reshape)           (None, 49, 40, 1)         0         \n",
      "                                                                 \n",
      " conv1 (Conv2D)              (None, 25, 20, 8)         648       \n",
      "                                                                 \n",
      " relu1 (ReLU)                (None, 25, 20, 8)         0         \n",
      "                                                                 \n",
      " dropout1 (Dropout)          (None, 25, 20, 8)         0         \n",
      "                                                                 \n",
      " conv2 (Conv2D)              (None, 4, 3, 8)           5128      \n",
      "                                                                 \n",
      " relu2 (ReLU)                (None, 4, 3, 8)           0         \n",
      "                                                                 \n",
      " dropout2 (Dropout)          (None, 4, 3, 8)           0         \n",
      "                                                                 \n",
      " flatten (Flatten)           (None, 96)                0         \n",
      "                                                                 \n",
      " final_fc (Dense)            (None, 4)                 388       \n",
      "                                                                 \n",
      "=================================================================\n",
      "Total params: 6,164\n",
      "Trainable params: 6,164\n",
      "Non-trainable params: 0\n",
      "_________________________________________________________________\n"
     ]
    }
   ],
   "source": [
    "test_model.summary()"
   ]
  },
  {
   "cell_type": "code",
   "execution_count": 155,
   "metadata": {},
   "outputs": [],
   "source": [
    "#X_val = X_val.numpy()\n"
   ]
  },
  {
   "cell_type": "code",
   "execution_count": 156,
   "metadata": {},
   "outputs": [
    {
     "name": "stderr",
     "output_type": "stream",
     "text": [
      "WARNING:absl:Found untraced functions such as _jit_compiled_convolution_op, _jit_compiled_convolution_op, _update_step_xla while saving (showing 3 of 3). These functions will not be directly callable after loading.\n"
     ]
    },
    {
     "name": "stdout",
     "output_type": "stream",
     "text": [
      "INFO:tensorflow:Assets written to: tiny_conv_model_deployable/assets\n"
     ]
    },
    {
     "name": "stderr",
     "output_type": "stream",
     "text": [
      "INFO:tensorflow:Assets written to: tiny_conv_model_deployable/assets\n"
     ]
    },
    {
     "name": "stdout",
     "output_type": "stream",
     "text": [
      "Model size: 7.517\n",
      "Input details: [{'name': 'serving_default_input:0', 'index': 0, 'shape': array([   1, 1960], dtype=int32), 'shape_signature': array([  -1, 1960], dtype=int32), 'dtype': <class 'numpy.int8'>, 'quantization': (0.09361949563026428, 20), 'quantization_parameters': {'scales': array([0.0936195], dtype=float32), 'zero_points': array([20], dtype=int32), 'quantized_dimension': 0}, 'sparsity_parameters': {}}]\n",
      "Output details: [{'name': 'StatefulPartitionedCall:0', 'index': 21, 'shape': array([1, 4], dtype=int32), 'shape_signature': array([-1,  4], dtype=int32), 'dtype': <class 'numpy.int8'>, 'quantization': (0.00390625, -128), 'quantization_parameters': {'scales': array([0.00390625], dtype=float32), 'zero_points': array([-128], dtype=int32), 'quantized_dimension': 0}, 'sparsity_parameters': {}}]\n"
     ]
    },
    {
     "name": "stderr",
     "output_type": "stream",
     "text": [
      "fully_quantize: 0, inference_type: 6, input_inference_type: INT8, output_inference_type: INT8\n"
     ]
    }
   ],
   "source": [
    "interpreter = deploy(test_model, save = False)"
   ]
  },
  {
   "cell_type": "code",
   "execution_count": 157,
   "metadata": {},
   "outputs": [
    {
     "ename": "NameError",
     "evalue": "name 'eval_model' is not defined",
     "output_type": "error",
     "traceback": [
      "\u001b[0;31m---------------------------------------------------------------------------\u001b[0m",
      "\u001b[0;31mNameError\u001b[0m                                 Traceback (most recent call last)",
      "Cell \u001b[0;32mIn[157], line 1\u001b[0m\n\u001b[0;32m----> 1\u001b[0m \u001b[43meval_model\u001b[49m(interpreter)\n",
      "\u001b[0;31mNameError\u001b[0m: name 'eval_model' is not defined"
     ]
    }
   ],
   "source": [
    "eval_model(interpreter)"
   ]
  },
  {
   "cell_type": "code",
   "execution_count": 158,
   "metadata": {},
   "outputs": [],
   "source": [
    "#test_data, test_label = ds_to_numpy(test_spectrogram_ds)\n",
    "#test_data, test_label = test_data.numpy(), test_label.numpy()"
   ]
  },
  {
   "cell_type": "code",
   "execution_count": 159,
   "metadata": {},
   "outputs": [
    {
     "ename": "AttributeError",
     "evalue": "'numpy.ndarray' object has no attribute 'numpy'",
     "output_type": "error",
     "traceback": [
      "\u001b[0;31m---------------------------------------------------------------------------\u001b[0m",
      "\u001b[0;31mAttributeError\u001b[0m                            Traceback (most recent call last)",
      "Cell \u001b[0;32mIn[159], line 1\u001b[0m\n\u001b[0;32m----> 1\u001b[0m X_test \u001b[38;5;241m=\u001b[39m \u001b[43mX_test\u001b[49m\u001b[38;5;241;43m.\u001b[39;49m\u001b[43mnumpy\u001b[49m()\n",
      "\u001b[0;31mAttributeError\u001b[0m: 'numpy.ndarray' object has no attribute 'numpy'"
     ]
    }
   ],
   "source": [
    "X_test = X_test.numpy()"
   ]
  },
  {
   "cell_type": "code",
   "execution_count": null,
   "metadata": {},
   "outputs": [],
   "source": []
  },
  {
   "cell_type": "code",
   "execution_count": null,
   "metadata": {},
   "outputs": [],
   "source": []
  },
  {
   "cell_type": "code",
   "execution_count": 160,
   "metadata": {},
   "outputs": [],
   "source": [
    "input_details = interpreter.get_input_details()[0]\n",
    "output_details = interpreter.get_output_details()[0]\n",
    "\n",
    "# For quantized models, manually quantize the input data from float to integer\n",
    "input_scale, input_zero_point = input_details[\"quantization\"]\n",
    "test_data = X_test_norm.reshape((X_test_norm.shape[0], input_details['shape'][0], input_details['shape'][1]))\n",
    "test_data = test_data / input_scale + input_zero_point\n",
    "test_data = test_data.astype(input_details[\"dtype\"])\n"
   ]
  },
  {
   "cell_type": "code",
   "execution_count": 161,
   "metadata": {},
   "outputs": [
    {
     "name": "stdout",
     "output_type": "stream",
     "text": [
      "0.09361949563026428\n",
      "20\n"
     ]
    }
   ],
   "source": [
    "print(input_scale)\n",
    "print(input_zero_point)"
   ]
  },
  {
   "cell_type": "code",
   "execution_count": 162,
   "metadata": {},
   "outputs": [
    {
     "name": "stdout",
     "output_type": "stream",
     "text": [
      "Input shape expected by the model: [   1 1960]\n"
     ]
    }
   ],
   "source": [
    "print(\"Input shape expected by the model:\", input_details['shape'])"
   ]
  },
  {
   "cell_type": "code",
   "execution_count": 163,
   "metadata": {},
   "outputs": [
    {
     "name": "stdout",
     "output_type": "stream",
     "text": [
      "model accuracy is 47.923199% (Number of test samples=54218)\n"
     ]
    }
   ],
   "source": [
    "correct_predictions = 0\n",
    "for i in range(len(test_data)):\n",
    "    interpreter.set_tensor(input_details[\"index\"], test_data[i])\n",
    "    interpreter.invoke()\n",
    "    output = interpreter.get_tensor(output_details[\"index\"])[0]\n",
    "    top_prediction = output.argmax()\n",
    "    correct_predictions += (top_prediction == y_test[i])\n",
    "\n",
    "print('model accuracy is %f%% (Number of test samples=%d)' % (\n",
    "    (correct_predictions * 100) / len(X_test), len(X_test)))"
   ]
  },
  {
   "cell_type": "code",
   "execution_count": null,
   "metadata": {},
   "outputs": [],
   "source": []
  }
 ],
 "metadata": {
  "kernelspec": {
   "display_name": "Python 3 (ipykernel)",
   "language": "python",
   "name": "python3"
  },
  "language_info": {
   "codemirror_mode": {
    "name": "ipython",
    "version": 3
   },
   "file_extension": ".py",
   "mimetype": "text/x-python",
   "name": "python",
   "nbconvert_exporter": "python",
   "pygments_lexer": "ipython3",
   "version": "3.10.12"
  }
 },
 "nbformat": 4,
 "nbformat_minor": 2
}
